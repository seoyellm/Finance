{
 "cells": [
  {
   "cell_type": "code",
   "execution_count": 1,
   "id": "e68b336f-e049-4ab2-9c39-b3497bbb9896",
   "metadata": {
    "tags": []
   },
   "outputs": [],
   "source": [
    "import pandas as pd\n",
    "import numpy as np"
   ]
  },
  {
   "cell_type": "code",
   "execution_count": 2,
   "id": "66198644-5cee-4ad1-beeb-88d2eb20e1cb",
   "metadata": {},
   "outputs": [],
   "source": [
    "# 서부텍사스 중질유"
   ]
  },
  {
   "cell_type": "code",
   "execution_count": 3,
   "id": "14e5ae3f-d39b-45e3-8c84-8b2953c6c6f7",
   "metadata": {
    "tags": []
   },
   "outputs": [],
   "source": [
    "df1 = pd.read_excel('./datasets/11.2 WTI.xlsx','Spot', index_col='Date')  # 현물\n",
    "df2 = pd.read_excel('./datasets/11.2 WTI.xlsx','Front', index_col='Date') # 최근월물, 만기를 앞두고 있는 선물\n",
    "df3 = pd.read_excel('./datasets/11.2 WTI.xlsx','Second', index_col='Date')# 차근월물, 다음 주기에 만기가 도래할 선물"
   ]
  },
  {
   "cell_type": "markdown",
   "id": "d476c69f-e423-443f-abce-d8096f619472",
   "metadata": {},
   "source": [
    "# Data load"
   ]
  },
  {
   "cell_type": "code",
   "execution_count": 4,
   "id": "ae0346b8-931d-4ba2-8ed3-594f44e83d83",
   "metadata": {
    "tags": []
   },
   "outputs": [
    {
     "data": {
      "text/html": [
       "<div>\n",
       "<style scoped>\n",
       "    .dataframe tbody tr th:only-of-type {\n",
       "        vertical-align: middle;\n",
       "    }\n",
       "\n",
       "    .dataframe tbody tr th {\n",
       "        vertical-align: top;\n",
       "    }\n",
       "\n",
       "    .dataframe thead th {\n",
       "        text-align: right;\n",
       "    }\n",
       "</style>\n",
       "<table border=\"1\" class=\"dataframe\">\n",
       "  <thead>\n",
       "    <tr style=\"text-align: right;\">\n",
       "      <th></th>\n",
       "      <th>Spot</th>\n",
       "      <th>Front</th>\n",
       "      <th>Second</th>\n",
       "    </tr>\n",
       "    <tr>\n",
       "      <th>Date</th>\n",
       "      <th></th>\n",
       "      <th></th>\n",
       "      <th></th>\n",
       "    </tr>\n",
       "  </thead>\n",
       "  <tbody>\n",
       "    <tr>\n",
       "      <th>2017-12-28</th>\n",
       "      <td>59.84</td>\n",
       "      <td>59.84</td>\n",
       "      <td>59.87</td>\n",
       "    </tr>\n",
       "    <tr>\n",
       "      <th>2017-12-27</th>\n",
       "      <td>59.64</td>\n",
       "      <td>59.64</td>\n",
       "      <td>59.69</td>\n",
       "    </tr>\n",
       "    <tr>\n",
       "      <th>2017-12-26</th>\n",
       "      <td>59.97</td>\n",
       "      <td>59.97</td>\n",
       "      <td>60.00</td>\n",
       "    </tr>\n",
       "    <tr>\n",
       "      <th>2017-12-22</th>\n",
       "      <td>58.42</td>\n",
       "      <td>58.47</td>\n",
       "      <td>58.54</td>\n",
       "    </tr>\n",
       "    <tr>\n",
       "      <th>2017-12-21</th>\n",
       "      <td>58.33</td>\n",
       "      <td>58.36</td>\n",
       "      <td>58.40</td>\n",
       "    </tr>\n",
       "  </tbody>\n",
       "</table>\n",
       "</div>"
      ],
      "text/plain": [
       "             Spot  Front  Second\n",
       "Date                            \n",
       "2017-12-28  59.84  59.84   59.87\n",
       "2017-12-27  59.64  59.64   59.69\n",
       "2017-12-26  59.97  59.97   60.00\n",
       "2017-12-22  58.42  58.47   58.54\n",
       "2017-12-21  58.33  58.36   58.40"
      ]
     },
     "execution_count": 4,
     "metadata": {},
     "output_type": "execute_result"
    }
   ],
   "source": [
    "df = pd.concat([df1,df2,df3], axis = 1)\n",
    "df.head()"
   ]
  },
  {
   "cell_type": "code",
   "execution_count": 5,
   "id": "6c44e448-4573-4ed3-9169-83c1d137321f",
   "metadata": {
    "tags": []
   },
   "outputs": [],
   "source": [
    "df = df.fillna(method='ffill')\n",
    "df = df.fillna(method='bfill')"
   ]
  },
  {
   "cell_type": "code",
   "execution_count": 6,
   "id": "07c48685-f5a5-4648-be0f-3d8c6145fafe",
   "metadata": {
    "tags": []
   },
   "outputs": [
    {
     "data": {
      "text/html": [
       "<div>\n",
       "<style scoped>\n",
       "    .dataframe tbody tr th:only-of-type {\n",
       "        vertical-align: middle;\n",
       "    }\n",
       "\n",
       "    .dataframe tbody tr th {\n",
       "        vertical-align: top;\n",
       "    }\n",
       "\n",
       "    .dataframe thead th {\n",
       "        text-align: right;\n",
       "    }\n",
       "</style>\n",
       "<table border=\"1\" class=\"dataframe\">\n",
       "  <thead>\n",
       "    <tr style=\"text-align: right;\">\n",
       "      <th></th>\n",
       "      <th>Ticker</th>\n",
       "      <th>Month</th>\n",
       "      <th>Last Trade</th>\n",
       "      <th>Last Price</th>\n",
       "    </tr>\n",
       "  </thead>\n",
       "  <tbody>\n",
       "    <tr>\n",
       "      <th>120</th>\n",
       "      <td>CLG10</td>\n",
       "      <td>2017-02-10</td>\n",
       "      <td>01/20/10</td>\n",
       "      <td>77.62</td>\n",
       "    </tr>\n",
       "    <tr>\n",
       "      <th>121</th>\n",
       "      <td>CLH10</td>\n",
       "      <td>2017-03-10</td>\n",
       "      <td>02/22/10</td>\n",
       "      <td>80.16</td>\n",
       "    </tr>\n",
       "    <tr>\n",
       "      <th>122</th>\n",
       "      <td>CLJ10</td>\n",
       "      <td>2017-04-10</td>\n",
       "      <td>03/22/10</td>\n",
       "      <td>81.25</td>\n",
       "    </tr>\n",
       "    <tr>\n",
       "      <th>123</th>\n",
       "      <td>CLK10</td>\n",
       "      <td>2017-05-10</td>\n",
       "      <td>04/20/10</td>\n",
       "      <td>83.45</td>\n",
       "    </tr>\n",
       "    <tr>\n",
       "      <th>124</th>\n",
       "      <td>CLM10</td>\n",
       "      <td>2017-06-10</td>\n",
       "      <td>05/20/10</td>\n",
       "      <td>68.01</td>\n",
       "    </tr>\n",
       "  </tbody>\n",
       "</table>\n",
       "</div>"
      ],
      "text/plain": [
       "    Ticker      Month Last Trade  Last Price\n",
       "120  CLG10 2017-02-10   01/20/10       77.62\n",
       "121  CLH10 2017-03-10   02/22/10       80.16\n",
       "122  CLJ10 2017-04-10   03/22/10       81.25\n",
       "123  CLK10 2017-05-10   04/20/10       83.45\n",
       "124  CLM10 2017-06-10   05/20/10       68.01"
      ]
     },
     "execution_count": 6,
     "metadata": {},
     "output_type": "execute_result"
    }
   ],
   "source": [
    "df_e = pd.read_excel('./datasets/11.2 WTI.xlsx','Expiry')\n",
    "df_e[120:125]"
   ]
  },
  {
   "cell_type": "markdown",
   "id": "44adb059-aee9-4d16-88e9-ae4dc35966e3",
   "metadata": {},
   "source": [
    "# 만기도래"
   ]
  },
  {
   "cell_type": "code",
   "execution_count": 7,
   "id": "7df9122b-b0e4-44be-b3fb-5300c52b6fdf",
   "metadata": {
    "tags": []
   },
   "outputs": [
    {
     "data": {
      "text/plain": [
       "0    01/20/00\n",
       "1    02/22/00\n",
       "2    03/21/00\n",
       "3    04/19/00\n",
       "4    05/22/00\n",
       "Name: Last Trade, dtype: object"
      ]
     },
     "execution_count": 7,
     "metadata": {},
     "output_type": "execute_result"
    }
   ],
   "source": [
    "# 만기일 추출\n",
    "df_e['Last Trade'].head()"
   ]
  },
  {
   "cell_type": "code",
   "execution_count": 8,
   "id": "561b823e-7995-413f-bda9-1c8c1fce75b9",
   "metadata": {
    "tags": []
   },
   "outputs": [
    {
     "data": {
      "text/plain": [
       "0   2000-01-20\n",
       "1   2000-02-22\n",
       "2   2000-03-21\n",
       "3   2000-04-19\n",
       "4   2000-05-22\n",
       "Name: Last Trade, dtype: datetime64[ns]"
      ]
     },
     "execution_count": 8,
     "metadata": {},
     "output_type": "execute_result"
    }
   ],
   "source": [
    "expiry = pd.Series(pd.to_datetime(df_e[\"Last Trade\"]))\n",
    "expiry.head()"
   ]
  },
  {
   "cell_type": "code",
   "execution_count": 9,
   "id": "368430e5-9a42-4e78-8b6d-72d9445f2bd8",
   "metadata": {
    "tags": []
   },
   "outputs": [
    {
     "data": {
      "text/html": [
       "<div>\n",
       "<style scoped>\n",
       "    .dataframe tbody tr th:only-of-type {\n",
       "        vertical-align: middle;\n",
       "    }\n",
       "\n",
       "    .dataframe tbody tr th {\n",
       "        vertical-align: top;\n",
       "    }\n",
       "\n",
       "    .dataframe thead th {\n",
       "        text-align: right;\n",
       "    }\n",
       "</style>\n",
       "<table border=\"1\" class=\"dataframe\">\n",
       "  <thead>\n",
       "    <tr style=\"text-align: right;\">\n",
       "      <th></th>\n",
       "      <th>Spot</th>\n",
       "      <th>Front</th>\n",
       "      <th>Second</th>\n",
       "      <th>Expiry</th>\n",
       "    </tr>\n",
       "    <tr>\n",
       "      <th>Date</th>\n",
       "      <th></th>\n",
       "      <th></th>\n",
       "      <th></th>\n",
       "      <th></th>\n",
       "    </tr>\n",
       "  </thead>\n",
       "  <tbody>\n",
       "    <tr>\n",
       "      <th>2010-01-08</th>\n",
       "      <td>82.75</td>\n",
       "      <td>82.75</td>\n",
       "      <td>83.30</td>\n",
       "      <td>NaN</td>\n",
       "    </tr>\n",
       "    <tr>\n",
       "      <th>2010-01-07</th>\n",
       "      <td>82.66</td>\n",
       "      <td>82.66</td>\n",
       "      <td>83.19</td>\n",
       "      <td>NaN</td>\n",
       "    </tr>\n",
       "    <tr>\n",
       "      <th>2010-01-06</th>\n",
       "      <td>83.18</td>\n",
       "      <td>83.18</td>\n",
       "      <td>83.75</td>\n",
       "      <td>NaN</td>\n",
       "    </tr>\n",
       "    <tr>\n",
       "      <th>2010-01-05</th>\n",
       "      <td>81.77</td>\n",
       "      <td>81.77</td>\n",
       "      <td>82.41</td>\n",
       "      <td>NaN</td>\n",
       "    </tr>\n",
       "    <tr>\n",
       "      <th>2010-01-04</th>\n",
       "      <td>81.51</td>\n",
       "      <td>81.51</td>\n",
       "      <td>82.12</td>\n",
       "      <td>NaN</td>\n",
       "    </tr>\n",
       "  </tbody>\n",
       "</table>\n",
       "</div>"
      ],
      "text/plain": [
       "             Spot  Front  Second  Expiry\n",
       "Date                                    \n",
       "2010-01-08  82.75  82.75   83.30     NaN\n",
       "2010-01-07  82.66  82.66   83.19     NaN\n",
       "2010-01-06  83.18  83.18   83.75     NaN\n",
       "2010-01-05  81.77  81.77   82.41     NaN\n",
       "2010-01-04  81.51  81.51   82.12     NaN"
      ]
     },
     "execution_count": 9,
     "metadata": {},
     "output_type": "execute_result"
    }
   ],
   "source": [
    "df['Expiry'] = np.nan\n",
    "df.tail()"
   ]
  },
  {
   "cell_type": "code",
   "execution_count": 10,
   "id": "309c1f1b-f652-407c-80b8-4b7c7aff782d",
   "metadata": {
    "tags": []
   },
   "outputs": [
    {
     "data": {
      "text/html": [
       "<div>\n",
       "<style scoped>\n",
       "    .dataframe tbody tr th:only-of-type {\n",
       "        vertical-align: middle;\n",
       "    }\n",
       "\n",
       "    .dataframe tbody tr th {\n",
       "        vertical-align: top;\n",
       "    }\n",
       "\n",
       "    .dataframe thead th {\n",
       "        text-align: right;\n",
       "    }\n",
       "</style>\n",
       "<table border=\"1\" class=\"dataframe\">\n",
       "  <thead>\n",
       "    <tr style=\"text-align: right;\">\n",
       "      <th></th>\n",
       "      <th>Spot</th>\n",
       "      <th>Front</th>\n",
       "      <th>Second</th>\n",
       "      <th>Expiry</th>\n",
       "    </tr>\n",
       "    <tr>\n",
       "      <th>Date</th>\n",
       "      <th></th>\n",
       "      <th></th>\n",
       "      <th></th>\n",
       "      <th></th>\n",
       "    </tr>\n",
       "  </thead>\n",
       "  <tbody>\n",
       "    <tr>\n",
       "      <th>2017-12-20</th>\n",
       "      <td>58.02</td>\n",
       "      <td>58.09</td>\n",
       "      <td>58.13</td>\n",
       "      <td>NaN</td>\n",
       "    </tr>\n",
       "    <tr>\n",
       "      <th>2017-12-19</th>\n",
       "      <td>57.46</td>\n",
       "      <td>57.46</td>\n",
       "      <td>57.56</td>\n",
       "      <td>1.0</td>\n",
       "    </tr>\n",
       "    <tr>\n",
       "      <th>2017-12-18</th>\n",
       "      <td>57.16</td>\n",
       "      <td>57.16</td>\n",
       "      <td>57.22</td>\n",
       "      <td>NaN</td>\n",
       "    </tr>\n",
       "    <tr>\n",
       "      <th>2017-12-15</th>\n",
       "      <td>57.30</td>\n",
       "      <td>57.30</td>\n",
       "      <td>57.33</td>\n",
       "      <td>NaN</td>\n",
       "    </tr>\n",
       "    <tr>\n",
       "      <th>2017-12-14</th>\n",
       "      <td>57.04</td>\n",
       "      <td>57.04</td>\n",
       "      <td>57.08</td>\n",
       "      <td>NaN</td>\n",
       "    </tr>\n",
       "  </tbody>\n",
       "</table>\n",
       "</div>"
      ],
      "text/plain": [
       "             Spot  Front  Second  Expiry\n",
       "Date                                    \n",
       "2017-12-20  58.02  58.09   58.13     NaN\n",
       "2017-12-19  57.46  57.46   57.56     1.0\n",
       "2017-12-18  57.16  57.16   57.22     NaN\n",
       "2017-12-15  57.30  57.30   57.33     NaN\n",
       "2017-12-14  57.04  57.04   57.08     NaN"
      ]
     },
     "execution_count": 10,
     "metadata": {},
     "output_type": "execute_result"
    }
   ],
   "source": [
    "# trading day 중 만기일 찾아서 표시하기\n",
    "for d in df.index:\n",
    "    if d in pd.to_datetime(expiry.values):\n",
    "        df.loc[d].Expiry = 1\n",
    "df[5:10]"
   ]
  },
  {
   "cell_type": "markdown",
   "id": "02ca1c96-7bb5-4044-b286-ccf54788f1ec",
   "metadata": {},
   "source": [
    "# 손익 계산"
   ]
  },
  {
   "cell_type": "markdown",
   "id": "d8306f30-1760-48e7-8def-41d25c17946d",
   "metadata": {},
   "source": [
    "## 현물에 투자 \n",
    "- 손익 = 현재가격-초기가격"
   ]
  },
  {
   "cell_type": "code",
   "execution_count": 11,
   "id": "fc872674-0547-4fda-9db5-b6c0ea0a4abf",
   "metadata": {
    "tags": []
   },
   "outputs": [
    {
     "data": {
      "text/plain": [
       "59.84"
      ]
     },
     "execution_count": 11,
     "metadata": {},
     "output_type": "execute_result"
    }
   ],
   "source": [
    "df.loc['2017-12-28','Spot']"
   ]
  },
  {
   "cell_type": "code",
   "execution_count": 12,
   "id": "1b81aa8c-c088-4a9e-9394-0d7c7fb06153",
   "metadata": {
    "tags": []
   },
   "outputs": [
    {
     "name": "stdout",
     "output_type": "stream",
     "text": [
      "손익(현재가격 - 초기가격) :  -21,670.00\n"
     ]
    }
   ],
   "source": [
    "price_now    = float(df.loc['2017-12-28','Spot']) # 현물 현재가격\n",
    "price_before = float(df.loc['2010-01-04','Spot']) # 현물 최초가격\n",
    "profit = (price_now - price_before) * 1000\n",
    "print('손익(현재가격 - 초기가격) : ', '{:,.2f}'.format(profit))"
   ]
  },
  {
   "cell_type": "markdown",
   "id": "beadb38d-f9b9-4f7d-af0b-e0d95d5a96f6",
   "metadata": {
    "tags": []
   },
   "source": [
    "## 선물에 투자\n",
    "* 현재가격 - 초기가격 - 롤오버가격"
   ]
  },
  {
   "cell_type": "code",
   "execution_count": 16,
   "id": "eb46bcaf-12cd-4834-b0e6-f280e59526ba",
   "metadata": {
    "tags": []
   },
   "outputs": [
    {
     "data": {
      "text/plain": [
       "96"
      ]
     },
     "execution_count": 16,
     "metadata": {},
     "output_type": "execute_result"
    }
   ],
   "source": [
    "len(df[df['Expiry']==1])"
   ]
  },
  {
   "cell_type": "code",
   "execution_count": 13,
   "id": "b2f4805f-8566-49e7-b5b1-a97806a48205",
   "metadata": {},
   "outputs": [],
   "source": [
    "# 서부텍사스 중질유는 매달 만기 -> 매달 롤오버\n",
    "# 롤오버 비용이 손익에 반영되어야 함\n",
    "# 롤오버 비용 = 최근월물을 팔고 차근월물을 매입하는 가격\n",
    "# second - first"
   ]
  },
  {
   "cell_type": "code",
   "execution_count": 14,
   "id": "894dc853-545a-4b4c-a1c2-39e0b4cf3d5c",
   "metadata": {
    "tags": []
   },
   "outputs": [
    {
     "name": "stdout",
     "output_type": "stream",
     "text": [
      "누적 롤오버 비용 : 40.68\n"
     ]
    }
   ],
   "source": [
    "roll_over_cost_acc = 0 # 롤오버 비용 누적값 초기화\n",
    "for d in df.index:\n",
    "    if (df.loc[d,'Expiry']==1):\n",
    "        roll_over_cost = df.loc[d,'Second'] - df.loc[d,'Front']\n",
    "        roll_over_cost_acc = roll_over_cost_acc + roll_over_cost\n",
    "print('누적 롤오버 비용 :', '{:,.2f}'.format(roll_over_cost_acc))"
   ]
  },
  {
   "cell_type": "code",
   "execution_count": 15,
   "id": "ec2599d8-41dd-492a-97d7-7c4d02ff88d6",
   "metadata": {
    "tags": []
   },
   "outputs": [
    {
     "data": {
      "text/plain": [
       "57.56"
      ]
     },
     "execution_count": 15,
     "metadata": {},
     "output_type": "execute_result"
    }
   ],
   "source": [
    "df.loc['2017-12-19','Second']"
   ]
  },
  {
   "cell_type": "code",
   "execution_count": 17,
   "id": "3d4a887a-2925-40c2-befc-0545dfe50357",
   "metadata": {
    "tags": []
   },
   "outputs": [
    {
     "name": "stdout",
     "output_type": "stream",
     "text": [
      "누적비용 :  -62,350.00\n"
     ]
    }
   ],
   "source": [
    "price_now    = float(df.loc['2017-12-28','Front']) # 현물 현재가격\n",
    "price_before = float(df.loc['2010-01-04','Front'])\n",
    "profit = (price_now - price_before - roll_over_cost_acc) * 1000\n",
    "print('누적비용 : ', '{:,.2f}'.format(profit))"
   ]
  },
  {
   "cell_type": "code",
   "execution_count": null,
   "id": "2d493e2d-bc7b-4857-911e-e70a53fcfebe",
   "metadata": {},
   "outputs": [],
   "source": []
  },
  {
   "cell_type": "code",
   "execution_count": null,
   "id": "e7a7afaa-2b91-444e-a02c-8f49aa218f0b",
   "metadata": {},
   "outputs": [],
   "source": []
  },
  {
   "cell_type": "code",
   "execution_count": null,
   "id": "dc898900-f618-454e-af77-18e34b3019d6",
   "metadata": {},
   "outputs": [],
   "source": []
  },
  {
   "cell_type": "code",
   "execution_count": null,
   "id": "12cd6e7c-0583-4871-b623-84d5cde28df8",
   "metadata": {},
   "outputs": [],
   "source": []
  },
  {
   "cell_type": "code",
   "execution_count": null,
   "id": "372404d5-37c3-471c-89c2-c5dace4cf902",
   "metadata": {},
   "outputs": [],
   "source": []
  }
 ],
 "metadata": {
  "kernelspec": {
   "display_name": "Python 3 (ipykernel)",
   "language": "python",
   "name": "python3"
  },
  "language_info": {
   "codemirror_mode": {
    "name": "ipython",
    "version": 3
   },
   "file_extension": ".py",
   "mimetype": "text/x-python",
   "name": "python",
   "nbconvert_exporter": "python",
   "pygments_lexer": "ipython3",
   "version": "3.8.8"
  }
 },
 "nbformat": 4,
 "nbformat_minor": 5
}

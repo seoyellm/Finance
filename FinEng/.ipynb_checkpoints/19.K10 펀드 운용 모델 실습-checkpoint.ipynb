{
 "cells": [
  {
   "cell_type": "code",
   "execution_count": null,
   "id": "5e7a3f1f-e734-45e9-8963-e57511e5b2fa",
   "metadata": {},
   "outputs": [],
   "source": []
  },
  {
   "cell_type": "code",
   "execution_count": 1,
   "id": "d4cfdcc2-c3f2-41ec-811e-8ea9a92533f7",
   "metadata": {},
   "outputs": [],
   "source": [
    "import datetime as dt\n",
    "from urllib.request import urlopen  \n",
    "import bs4\n",
    "import re\n",
    "import pandas as pd"
   ]
  },
  {
   "cell_type": "markdown",
   "id": "eff05c43-8f9f-4b83-8616-7dc9f1b4c178",
   "metadata": {},
   "source": [
    "# Data Crawling"
   ]
  },
  {
   "cell_type": "code",
   "execution_count": 2,
   "id": "316248f8-681e-4214-bcb3-51907cebc93e",
   "metadata": {},
   "outputs": [],
   "source": [
    "# 크롤링 차단 장치 우회를 위해 웹사이트 호출 시 headers 값을 추가\n",
    "import urllib.request\n",
    "headers = {\n",
    "    'User-Agent': 'Mozilla/5.0',\n",
    "    'X-Requested-With': 'XMLHttpRequest',\n",
    "}"
   ]
  },
  {
   "cell_type": "markdown",
   "id": "f0405266-7290-4c5d-b29f-82c6b476030d",
   "metadata": {},
   "source": [
    "## 구성종목 기본정보"
   ]
  },
  {
   "cell_type": "code",
   "execution_count": 3,
   "id": "70f9eff3-6494-490a-bfd8-b292f5df7f07",
   "metadata": {},
   "outputs": [],
   "source": [
    "'''\n",
    "한국거래소 시가총액 상위 10종목 (2019년1월 기준)\n",
    "005930\t삼성전자\n",
    "000660\tSK하이닉스\n",
    "068270\t셀트리온\n",
    "005380\t현대차\n",
    "207940\t삼성바이오로직스\n",
    "051910\tLG화학\n",
    "005490\tPOSCO\n",
    "035420\tNAVER\n",
    "017670\tSK텔레콤\n",
    "015760\t한국전력\n",
    "'''\n",
    "k10_component = ['005930', '000660', '068270', '005380', '207940',\\\n",
    "                 '051910', '005490', '035420', '017670', '015760']"
   ]
  },
  {
   "cell_type": "code",
   "execution_count": 4,
   "id": "783509ae-e589-4017-a6a0-1daac79cafca",
   "metadata": {},
   "outputs": [],
   "source": [
    "# 구성종목 기본정보\n",
    "# stock_cd = stock_code\n",
    "def stock_info(stock_cd):\n",
    "#     url_float = 'http://companyinfo.stock.naver.com/v1/company/c1010001.aspx?cmp_cd=' + stock_cd\n",
    "    url_float = 'https://navercomp.wisereport.co.kr/v2/company/c1010001.aspx?cmp_cd=' + stock_cd\n",
    "    source = urlopen(url_float).read()\n",
    "    soup = bs4.BeautifulSoup(source, 'lxml')\n",
    "    \n",
    "    tmp = soup.find(id='cTB11').find_all('tr')[6].td.text\n",
    "    tmp = tmp.replace('\\r', '')\n",
    "    tmp = tmp.replace('\\n', '')\n",
    "    tmp = tmp.replace('\\t', '')\n",
    "    \n",
    "    tmp = re.split('/', tmp)\n",
    "\n",
    "    # 발행주식 수\n",
    "    outstanding = tmp[0].replace(',', '')\n",
    "    outstanding = outstanding.replace('주', '')\n",
    "    outstanding = outstanding.replace(' ', '')\n",
    "    outstanding = int(outstanding)\n",
    "\n",
    "    # 유동비율\n",
    "    floating = tmp[1].replace(' ', '')\n",
    "    floating = floating.replace('%', '')\n",
    "    floating = float(floating)\n",
    "    \n",
    "    # 종목명\n",
    "    name = soup.find(id='pArea').find('div').find('div').find('tr').find('td').find('span').text\n",
    "    \n",
    "    k10_outstanding[stock_cd] = outstanding\n",
    "    k10_floating[stock_cd] = floating\n",
    "    k10_name[stock_cd] = name"
   ]
  },
  {
   "cell_type": "code",
   "execution_count": 5,
   "id": "d068adc0-74e2-48d0-9a63-345a9bef1630",
   "metadata": {},
   "outputs": [],
   "source": [
    "k10_outstanding = dict()\n",
    "k10_floating = dict()\n",
    "k10_name = dict()\n",
    "\n",
    "for stock_cd in k10_component:\n",
    "    stock_info(stock_cd)"
   ]
  },
  {
   "cell_type": "code",
   "execution_count": 6,
   "id": "ed83581e-8fb7-4968-8bd1-892d4c8d6a35",
   "metadata": {
    "tags": []
   },
   "outputs": [
    {
     "data": {
      "text/plain": [
       "{'005930': 5969782550,\n",
       " '000660': 728002365,\n",
       " '068270': 146390862,\n",
       " '005380': 211531506,\n",
       " '207940': 71174000,\n",
       " '051910': 70592343,\n",
       " '005490': 84571230,\n",
       " '035420': 164049085,\n",
       " '017670': 218833144,\n",
       " '015760': 641964077}"
      ]
     },
     "execution_count": 6,
     "metadata": {},
     "output_type": "execute_result"
    }
   ],
   "source": [
    "k10_outstanding"
   ]
  },
  {
   "cell_type": "code",
   "execution_count": 7,
   "id": "277cea11-6dee-4ac5-8afe-12aa5ffd3ec8",
   "metadata": {
    "tags": []
   },
   "outputs": [
    {
     "data": {
      "text/plain": [
       "{'005930': 75.83,\n",
       " '000660': 73.86,\n",
       " '068270': 74.3,\n",
       " '005380': 65.26,\n",
       " '207940': 24.76,\n",
       " '051910': 66.63,\n",
       " '005490': 72.35,\n",
       " '035420': 83.3,\n",
       " '017670': 63.35,\n",
       " '015760': 46.08}"
      ]
     },
     "execution_count": 7,
     "metadata": {},
     "output_type": "execute_result"
    }
   ],
   "source": [
    "k10_floating"
   ]
  },
  {
   "cell_type": "code",
   "execution_count": 8,
   "id": "078eed85-7447-4e3f-bc08-3a9451b1619b",
   "metadata": {
    "tags": []
   },
   "outputs": [
    {
     "data": {
      "text/plain": [
       "{'005930': '삼성전자',\n",
       " '000660': 'SK하이닉스',\n",
       " '068270': '셀트리온',\n",
       " '005380': '현대차',\n",
       " '207940': '삼성바이오로직스',\n",
       " '051910': 'LG화학',\n",
       " '005490': 'POSCO홀딩스',\n",
       " '035420': 'NAVER',\n",
       " '017670': 'SK텔레콤',\n",
       " '015760': '한국전력'}"
      ]
     },
     "execution_count": 8,
     "metadata": {},
     "output_type": "execute_result"
    }
   ],
   "source": [
    "k10_name"
   ]
  },
  {
   "cell_type": "code",
   "execution_count": 9,
   "id": "a4d5afb2-6318-4569-998c-979663f977ef",
   "metadata": {},
   "outputs": [
    {
     "data": {
      "text/html": [
       "<div>\n",
       "<style scoped>\n",
       "    .dataframe tbody tr th:only-of-type {\n",
       "        vertical-align: middle;\n",
       "    }\n",
       "\n",
       "    .dataframe tbody tr th {\n",
       "        vertical-align: top;\n",
       "    }\n",
       "\n",
       "    .dataframe thead th {\n",
       "        text-align: right;\n",
       "    }\n",
       "</style>\n",
       "<table border=\"1\" class=\"dataframe\">\n",
       "  <thead>\n",
       "    <tr style=\"text-align: right;\">\n",
       "      <th></th>\n",
       "      <th>Outstanding</th>\n",
       "      <th>Floating</th>\n",
       "      <th>Name</th>\n",
       "    </tr>\n",
       "  </thead>\n",
       "  <tbody>\n",
       "    <tr>\n",
       "      <th>005930</th>\n",
       "      <td>5969782550</td>\n",
       "      <td>75.83</td>\n",
       "      <td>삼성전자</td>\n",
       "    </tr>\n",
       "    <tr>\n",
       "      <th>000660</th>\n",
       "      <td>728002365</td>\n",
       "      <td>73.86</td>\n",
       "      <td>SK하이닉스</td>\n",
       "    </tr>\n",
       "    <tr>\n",
       "      <th>068270</th>\n",
       "      <td>146390862</td>\n",
       "      <td>74.30</td>\n",
       "      <td>셀트리온</td>\n",
       "    </tr>\n",
       "    <tr>\n",
       "      <th>005380</th>\n",
       "      <td>211531506</td>\n",
       "      <td>65.26</td>\n",
       "      <td>현대차</td>\n",
       "    </tr>\n",
       "    <tr>\n",
       "      <th>207940</th>\n",
       "      <td>71174000</td>\n",
       "      <td>24.76</td>\n",
       "      <td>삼성바이오로직스</td>\n",
       "    </tr>\n",
       "    <tr>\n",
       "      <th>051910</th>\n",
       "      <td>70592343</td>\n",
       "      <td>66.63</td>\n",
       "      <td>LG화학</td>\n",
       "    </tr>\n",
       "    <tr>\n",
       "      <th>005490</th>\n",
       "      <td>84571230</td>\n",
       "      <td>72.35</td>\n",
       "      <td>POSCO홀딩스</td>\n",
       "    </tr>\n",
       "    <tr>\n",
       "      <th>035420</th>\n",
       "      <td>164049085</td>\n",
       "      <td>83.30</td>\n",
       "      <td>NAVER</td>\n",
       "    </tr>\n",
       "    <tr>\n",
       "      <th>017670</th>\n",
       "      <td>218833144</td>\n",
       "      <td>63.35</td>\n",
       "      <td>SK텔레콤</td>\n",
       "    </tr>\n",
       "    <tr>\n",
       "      <th>015760</th>\n",
       "      <td>641964077</td>\n",
       "      <td>46.08</td>\n",
       "      <td>한국전력</td>\n",
       "    </tr>\n",
       "  </tbody>\n",
       "</table>\n",
       "</div>"
      ],
      "text/plain": [
       "        Outstanding  Floating      Name\n",
       "005930   5969782550     75.83      삼성전자\n",
       "000660    728002365     73.86    SK하이닉스\n",
       "068270    146390862     74.30      셀트리온\n",
       "005380    211531506     65.26       현대차\n",
       "207940     71174000     24.76  삼성바이오로직스\n",
       "051910     70592343     66.63      LG화학\n",
       "005490     84571230     72.35  POSCO홀딩스\n",
       "035420    164049085     83.30     NAVER\n",
       "017670    218833144     63.35     SK텔레콤\n",
       "015760    641964077     46.08      한국전력"
      ]
     },
     "execution_count": 9,
     "metadata": {},
     "output_type": "execute_result"
    }
   ],
   "source": [
    "# 과거 시세만 반영\n",
    "tmp = {'Outstanding' : k10_outstanding,\\\n",
    "       'Floating' : k10_floating,\\\n",
    "       'Name' : k10_name}\n",
    "k10_info = pd.DataFrame(tmp)\n",
    "k10_info"
   ]
  },
  {
   "cell_type": "markdown",
   "id": "b6a942be-47e2-4c0f-b059-68c5ee5ff0af",
   "metadata": {},
   "source": [
    "## 종목별 주가\n",
    "* 2021-01-01 ~ 2021-03-01"
   ]
  },
  {
   "cell_type": "code",
   "execution_count": 10,
   "id": "d732cfdd-838d-49da-93aa-157ad969dbc1",
   "metadata": {},
   "outputs": [],
   "source": [
    "def date_format(d):\n",
    "\n",
    "    d = str(d)\n",
    "    d = d.replace('/', '-')\n",
    "    d = d.replace('.', '-')\n",
    "\n",
    "    yyyy = int(d.split('-')[0])\n",
    "    if yyyy < 50:\n",
    "        yyyy = yyyy + 2000\n",
    "    elif yyyy >=50 and yyyy < 100:\n",
    "        yyyy = yyyy + 1900\n",
    "    mm = int(d.split('-')[1])\n",
    "    dd = int(d.split('-')[2])\n",
    "\n",
    "    return dt.date(yyyy, mm, dd)"
   ]
  },
  {
   "cell_type": "code",
   "execution_count": 11,
   "id": "c77a0ebc-e17b-4cd6-9fb8-dc07f709103b",
   "metadata": {},
   "outputs": [],
   "source": [
    "def historical_stock_naver(stock_cd, start_date='', end_date='', page_n=1, last_page=0):\n",
    "    \n",
    "    if start_date:\n",
    "        start_date = date_format(start_date)\n",
    "    else:\n",
    "        start_date = dt.date.today()\n",
    "    if end_date:\n",
    "        end_date = date_format(end_date)\n",
    "    else:\n",
    "        end_date = dt.date.today()\n",
    "        \n",
    "    naver_stock = 'http://finance.naver.com/item/sise_day.nhn?code=' + stock_cd + '&page=' + str(page_n)\n",
    "    \n",
    "    # 기존 코드\n",
    "    # source = urlopen(naver_stock).read()\n",
    "    \n",
    "    # 개정 코드 (1줄에서 2줄로 늘어남)\n",
    "    url = urllib.request.Request(naver_stock, headers=headers)   # headers 정보 보내기\n",
    "    source = urlopen(url).read()\n",
    "    \n",
    "    source = bs4.BeautifulSoup(source, 'lxml')\n",
    "    \n",
    "    dates = source.find_all('span', class_='tah p10 gray03')   # 날짜 수집   \n",
    "    prices = source.find_all('td', class_='num')   # 종가 수집\n",
    "    \n",
    "    for n in range(len(dates)):\n",
    "    \n",
    "        if len(dates) > 0:\n",
    "            \n",
    "            # 날짜 처리\n",
    "            this_date = dates[n].text\n",
    "            this_date = date_format(this_date)\n",
    "            \n",
    "            if this_date <= end_date and this_date >= start_date:   \n",
    "            # start_date와 end_date 사이에서 데이터 저장\n",
    "                # 종가 처리\n",
    "                this_close = prices[n*6].text\n",
    "                this_close = this_close.replace(',', '')\n",
    "                this_close = float(this_close)\n",
    "\n",
    "                # 딕셔너리에 저장\n",
    "                historical_prices[this_date] = this_close\n",
    "                              \n",
    "            elif this_date < start_date:   \n",
    "            # start_date 이전이면 함수 종료\n",
    "                return historical_prices              \n",
    "            \n",
    "    # 페이지 네비게이션\n",
    "    if last_page == 0:\n",
    "        last_page = source.find_all('table')[1].find('td', class_='pgRR').find('a')['href']\n",
    "        last_page = last_page.split('&')[1]\n",
    "        last_page = last_page.split('=')[1]\n",
    "        last_page = float(last_page)\n",
    "        \n",
    "    # 다음 페이지 호출\n",
    "    if page_n < last_page:\n",
    "        page_n = page_n + 1\n",
    "        historical_stock_naver(stock_cd, start_date, end_date, page_n, last_page)   \n",
    "        \n",
    "    return historical_prices  "
   ]
  },
  {
   "cell_type": "code",
   "execution_count": 12,
   "id": "6873d305-eaaf-4afa-bb6a-74ac48dcb748",
   "metadata": {},
   "outputs": [],
   "source": [
    "k10_historical_prices = dict()\n",
    "\n",
    "for stock_cd in k10_component:\n",
    "    \n",
    "    historical_prices = dict()\n",
    "    start_date = '2021-01-01'   # 최신 날짜로 변경\n",
    "    end_date = '2021-03-31'\n",
    "    historical_prices = historical_stock_naver(stock_cd, start_date, end_date)\n",
    "    \n",
    "    k10_historical_prices[stock_cd] = historical_prices"
   ]
  },
  {
   "cell_type": "code",
   "execution_count": 13,
   "id": "42038895-1d9f-4dc7-bf5a-e65756a6db56",
   "metadata": {
    "scrolled": true
   },
   "outputs": [],
   "source": [
    "k10_historical_price = pd.DataFrame(k10_historical_prices)\n",
    "k10_historical_price.sort_index(axis=1, inplace=True)   # 컬럼 재정렬 (Python3.7 업데이트를 반영한 수정 패치)"
   ]
  },
  {
   "cell_type": "code",
   "execution_count": 14,
   "id": "73517e28-ddb0-40d9-9c50-756c653aad12",
   "metadata": {},
   "outputs": [
    {
     "data": {
      "text/html": [
       "<div>\n",
       "<style scoped>\n",
       "    .dataframe tbody tr th:only-of-type {\n",
       "        vertical-align: middle;\n",
       "    }\n",
       "\n",
       "    .dataframe tbody tr th {\n",
       "        vertical-align: top;\n",
       "    }\n",
       "\n",
       "    .dataframe thead th {\n",
       "        text-align: right;\n",
       "    }\n",
       "</style>\n",
       "<table border=\"1\" class=\"dataframe\">\n",
       "  <thead>\n",
       "    <tr style=\"text-align: right;\">\n",
       "      <th></th>\n",
       "      <th>000660</th>\n",
       "      <th>005380</th>\n",
       "      <th>005490</th>\n",
       "      <th>005930</th>\n",
       "      <th>015760</th>\n",
       "      <th>017670</th>\n",
       "      <th>035420</th>\n",
       "      <th>051910</th>\n",
       "      <th>068270</th>\n",
       "      <th>207940</th>\n",
       "    </tr>\n",
       "  </thead>\n",
       "  <tbody>\n",
       "    <tr>\n",
       "      <th>2021-03-31</th>\n",
       "      <td>132500.0</td>\n",
       "      <td>218000.0</td>\n",
       "      <td>320000.0</td>\n",
       "      <td>81400.0</td>\n",
       "      <td>23150.0</td>\n",
       "      <td>275000.0</td>\n",
       "      <td>377000.0</td>\n",
       "      <td>805000.0</td>\n",
       "      <td>324500.0</td>\n",
       "      <td>748000.0</td>\n",
       "    </tr>\n",
       "    <tr>\n",
       "      <th>2021-03-30</th>\n",
       "      <td>134500.0</td>\n",
       "      <td>219500.0</td>\n",
       "      <td>322500.0</td>\n",
       "      <td>82200.0</td>\n",
       "      <td>23250.0</td>\n",
       "      <td>268500.0</td>\n",
       "      <td>376500.0</td>\n",
       "      <td>808000.0</td>\n",
       "      <td>323500.0</td>\n",
       "      <td>747000.0</td>\n",
       "    </tr>\n",
       "    <tr>\n",
       "      <th>2021-03-29</th>\n",
       "      <td>132000.0</td>\n",
       "      <td>215500.0</td>\n",
       "      <td>327000.0</td>\n",
       "      <td>81600.0</td>\n",
       "      <td>23350.0</td>\n",
       "      <td>269000.0</td>\n",
       "      <td>372000.0</td>\n",
       "      <td>799000.0</td>\n",
       "      <td>330500.0</td>\n",
       "      <td>748000.0</td>\n",
       "    </tr>\n",
       "  </tbody>\n",
       "</table>\n",
       "</div>"
      ],
      "text/plain": [
       "              000660    005380    005490   005930   015760    017670  \\\n",
       "2021-03-31  132500.0  218000.0  320000.0  81400.0  23150.0  275000.0   \n",
       "2021-03-30  134500.0  219500.0  322500.0  82200.0  23250.0  268500.0   \n",
       "2021-03-29  132000.0  215500.0  327000.0  81600.0  23350.0  269000.0   \n",
       "\n",
       "              035420    051910    068270    207940  \n",
       "2021-03-31  377000.0  805000.0  324500.0  748000.0  \n",
       "2021-03-30  376500.0  808000.0  323500.0  747000.0  \n",
       "2021-03-29  372000.0  799000.0  330500.0  748000.0  "
      ]
     },
     "execution_count": 14,
     "metadata": {},
     "output_type": "execute_result"
    }
   ],
   "source": [
    "k10_historical_price = k10_historical_price.fillna(method='ffill')\n",
    "if k10_historical_price.isnull().values.any():\n",
    "    k10_historical_price = k10_historical_price.fillna(method='bfill')\n",
    "k10_historical_price.head(3)"
   ]
  },
  {
   "cell_type": "code",
   "execution_count": 15,
   "id": "2bc9b8e1-ebc4-4ab4-a93e-6f955a40e4d6",
   "metadata": {},
   "outputs": [],
   "source": [
    "k10_historical_price.sort_index(inplace=True)   # 데이터를 날짜순으로 정렬"
   ]
  },
  {
   "cell_type": "code",
   "execution_count": 16,
   "id": "e551c909-e7b6-4494-9f39-f247e8db7602",
   "metadata": {
    "tags": []
   },
   "outputs": [
    {
     "data": {
      "text/html": [
       "<div>\n",
       "<style scoped>\n",
       "    .dataframe tbody tr th:only-of-type {\n",
       "        vertical-align: middle;\n",
       "    }\n",
       "\n",
       "    .dataframe tbody tr th {\n",
       "        vertical-align: top;\n",
       "    }\n",
       "\n",
       "    .dataframe thead th {\n",
       "        text-align: right;\n",
       "    }\n",
       "</style>\n",
       "<table border=\"1\" class=\"dataframe\">\n",
       "  <thead>\n",
       "    <tr style=\"text-align: right;\">\n",
       "      <th></th>\n",
       "      <th>000660</th>\n",
       "      <th>005380</th>\n",
       "      <th>005490</th>\n",
       "      <th>005930</th>\n",
       "      <th>015760</th>\n",
       "      <th>017670</th>\n",
       "      <th>035420</th>\n",
       "      <th>051910</th>\n",
       "      <th>068270</th>\n",
       "      <th>207940</th>\n",
       "    </tr>\n",
       "  </thead>\n",
       "  <tbody>\n",
       "    <tr>\n",
       "      <th>2021-01-04</th>\n",
       "      <td>126000.0</td>\n",
       "      <td>207500.0</td>\n",
       "      <td>273000.0</td>\n",
       "      <td>1660.0</td>\n",
       "      <td>26900.0</td>\n",
       "      <td>237000.0</td>\n",
       "      <td>293000.0</td>\n",
       "      <td>889000.0</td>\n",
       "      <td>347500.0</td>\n",
       "      <td>829000.0</td>\n",
       "    </tr>\n",
       "    <tr>\n",
       "      <th>2021-01-05</th>\n",
       "      <td>130500.0</td>\n",
       "      <td>209500.0</td>\n",
       "      <td>285000.0</td>\n",
       "      <td>1678.0</td>\n",
       "      <td>26900.0</td>\n",
       "      <td>246000.0</td>\n",
       "      <td>292500.0</td>\n",
       "      <td>893000.0</td>\n",
       "      <td>354500.0</td>\n",
       "      <td>832000.0</td>\n",
       "    </tr>\n",
       "    <tr>\n",
       "      <th>2021-01-06</th>\n",
       "      <td>131000.0</td>\n",
       "      <td>203000.0</td>\n",
       "      <td>280000.0</td>\n",
       "      <td>1644.0</td>\n",
       "      <td>27150.0</td>\n",
       "      <td>250500.0</td>\n",
       "      <td>290000.0</td>\n",
       "      <td>890000.0</td>\n",
       "      <td>353500.0</td>\n",
       "      <td>817000.0</td>\n",
       "    </tr>\n",
       "  </tbody>\n",
       "</table>\n",
       "</div>"
      ],
      "text/plain": [
       "              000660    005380    005490  005930   015760    017670    035420  \\\n",
       "2021-01-04  126000.0  207500.0  273000.0  1660.0  26900.0  237000.0  293000.0   \n",
       "2021-01-05  130500.0  209500.0  285000.0  1678.0  26900.0  246000.0  292500.0   \n",
       "2021-01-06  131000.0  203000.0  280000.0  1644.0  27150.0  250500.0  290000.0   \n",
       "\n",
       "              051910    068270    207940  \n",
       "2021-01-04  889000.0  347500.0  829000.0  \n",
       "2021-01-05  893000.0  354500.0  832000.0  \n",
       "2021-01-06  890000.0  353500.0  817000.0  "
      ]
     },
     "execution_count": 16,
     "metadata": {},
     "output_type": "execute_result"
    }
   ],
   "source": [
    "k10_historical_price['005930'] = k10_historical_price['005930'] / 50   # 삼성전자 액면분할에 따른 수정주가 계산\n",
    "k10_historical_price.head(3)"
   ]
  },
  {
   "cell_type": "markdown",
   "id": "94042a5f-bf8e-4bc7-bdaa-3efbb40a4262",
   "metadata": {},
   "source": [
    "지수 산출을 위한 계산"
   ]
  },
  {
   "cell_type": "code",
   "execution_count": 17,
   "id": "abfa67b6-d4c4-4442-b30d-80692ea76b5f",
   "metadata": {},
   "outputs": [
    {
     "data": {
      "text/html": [
       "<div>\n",
       "<style scoped>\n",
       "    .dataframe tbody tr th:only-of-type {\n",
       "        vertical-align: middle;\n",
       "    }\n",
       "\n",
       "    .dataframe tbody tr th {\n",
       "        vertical-align: top;\n",
       "    }\n",
       "\n",
       "    .dataframe thead th {\n",
       "        text-align: right;\n",
       "    }\n",
       "</style>\n",
       "<table border=\"1\" class=\"dataframe\">\n",
       "  <thead>\n",
       "    <tr style=\"text-align: right;\">\n",
       "      <th></th>\n",
       "      <th>000660</th>\n",
       "      <th>005380</th>\n",
       "      <th>005490</th>\n",
       "      <th>005930</th>\n",
       "      <th>015760</th>\n",
       "      <th>017670</th>\n",
       "      <th>035420</th>\n",
       "      <th>051910</th>\n",
       "      <th>068270</th>\n",
       "      <th>207940</th>\n",
       "    </tr>\n",
       "  </thead>\n",
       "  <tbody>\n",
       "    <tr>\n",
       "      <th>2021-03-29</th>\n",
       "      <td>7.097674e+13</td>\n",
       "      <td>2.974880e+13</td>\n",
       "      <td>2.000824e+13</td>\n",
       "      <td>7.387878e+12</td>\n",
       "      <td>6.907328e+12</td>\n",
       "      <td>3.729168e+13</td>\n",
       "      <td>5.083487e+13</td>\n",
       "      <td>3.758151e+13</td>\n",
       "      <td>3.594796e+13</td>\n",
       "      <td>1.318177e+13</td>\n",
       "    </tr>\n",
       "    <tr>\n",
       "      <th>2021-03-30</th>\n",
       "      <td>7.232099e+13</td>\n",
       "      <td>3.030098e+13</td>\n",
       "      <td>1.973290e+13</td>\n",
       "      <td>7.442201e+12</td>\n",
       "      <td>6.877746e+12</td>\n",
       "      <td>3.722237e+13</td>\n",
       "      <td>5.144981e+13</td>\n",
       "      <td>3.800483e+13</td>\n",
       "      <td>3.518658e+13</td>\n",
       "      <td>1.316414e+13</td>\n",
       "    </tr>\n",
       "    <tr>\n",
       "      <th>2021-03-31</th>\n",
       "      <td>7.124559e+13</td>\n",
       "      <td>3.009391e+13</td>\n",
       "      <td>1.957993e+13</td>\n",
       "      <td>7.369771e+12</td>\n",
       "      <td>6.848165e+12</td>\n",
       "      <td>3.812347e+13</td>\n",
       "      <td>5.151814e+13</td>\n",
       "      <td>3.786372e+13</td>\n",
       "      <td>3.529535e+13</td>\n",
       "      <td>1.318177e+13</td>\n",
       "    </tr>\n",
       "  </tbody>\n",
       "</table>\n",
       "</div>"
      ],
      "text/plain": [
       "                  000660        005380        005490        005930  \\\n",
       "2021-03-29  7.097674e+13  2.974880e+13  2.000824e+13  7.387878e+12   \n",
       "2021-03-30  7.232099e+13  3.030098e+13  1.973290e+13  7.442201e+12   \n",
       "2021-03-31  7.124559e+13  3.009391e+13  1.957993e+13  7.369771e+12   \n",
       "\n",
       "                  015760        017670        035420        051910  \\\n",
       "2021-03-29  6.907328e+12  3.729168e+13  5.083487e+13  3.758151e+13   \n",
       "2021-03-30  6.877746e+12  3.722237e+13  5.144981e+13  3.800483e+13   \n",
       "2021-03-31  6.848165e+12  3.812347e+13  5.151814e+13  3.786372e+13   \n",
       "\n",
       "                  068270        207940  \n",
       "2021-03-29  3.594796e+13  1.318177e+13  \n",
       "2021-03-30  3.518658e+13  1.316414e+13  \n",
       "2021-03-31  3.529535e+13  1.318177e+13  "
      ]
     },
     "execution_count": 17,
     "metadata": {},
     "output_type": "execute_result"
    }
   ],
   "source": [
    "#k10_historical_mc = 일별 시가총액(Market capitalization)\n",
    "k10_historical_mc = k10_historical_price * k10_info['Outstanding'] * k10_info['Floating'] * 0.01\n",
    "k10_historical_mc.tail(3)"
   ]
  },
  {
   "cell_type": "code",
   "execution_count": 18,
   "id": "a3498b57-175b-40e3-90c3-004b1e952de4",
   "metadata": {},
   "outputs": [
    {
     "data": {
      "text/html": [
       "<div>\n",
       "<style scoped>\n",
       "    .dataframe tbody tr th:only-of-type {\n",
       "        vertical-align: middle;\n",
       "    }\n",
       "\n",
       "    .dataframe tbody tr th {\n",
       "        vertical-align: top;\n",
       "    }\n",
       "\n",
       "    .dataframe thead th {\n",
       "        text-align: right;\n",
       "    }\n",
       "</style>\n",
       "<table border=\"1\" class=\"dataframe\">\n",
       "  <thead>\n",
       "    <tr style=\"text-align: right;\">\n",
       "      <th></th>\n",
       "      <th>Market Cap</th>\n",
       "    </tr>\n",
       "  </thead>\n",
       "  <tbody>\n",
       "    <tr>\n",
       "      <th>2021-01-04</th>\n",
       "      <td>2.956869e+14</td>\n",
       "    </tr>\n",
       "    <tr>\n",
       "      <th>2021-01-05</th>\n",
       "      <td>3.013802e+14</td>\n",
       "    </tr>\n",
       "    <tr>\n",
       "      <th>2021-01-06</th>\n",
       "      <td>3.001338e+14</td>\n",
       "    </tr>\n",
       "  </tbody>\n",
       "</table>\n",
       "</div>"
      ],
      "text/plain": [
       "              Market Cap\n",
       "2021-01-04  2.956869e+14\n",
       "2021-01-05  3.013802e+14\n",
       "2021-01-06  3.001338e+14"
      ]
     },
     "execution_count": 18,
     "metadata": {},
     "output_type": "execute_result"
    }
   ],
   "source": [
    "k10 = pd.DataFrame()\n",
    "k10['Market Cap'] = k10_historical_mc.sum(axis=1)\n",
    "#k10.loc[dt.date.today()] = k10_info['f Market Cap'].sum()\n",
    "k10.head(3)"
   ]
  },
  {
   "cell_type": "code",
   "execution_count": 19,
   "id": "786f11c5-36fe-4a01-a5a1-5ca177ee8f24",
   "metadata": {},
   "outputs": [],
   "source": [
    "# 기준시점\n",
    "base_date = dt.date(2021, 1, 4)"
   ]
  },
  {
   "cell_type": "code",
   "execution_count": 20,
   "id": "8f74ca5c-1e14-4d59-a1b8-1d4d2ea4209f",
   "metadata": {
    "tags": []
   },
   "outputs": [
    {
     "data": {
      "text/plain": [
       "295686931452423.0"
      ]
     },
     "execution_count": 20,
     "metadata": {},
     "output_type": "execute_result"
    }
   ],
   "source": [
    "k10['Market Cap'][base_date]"
   ]
  },
  {
   "cell_type": "code",
   "execution_count": 21,
   "id": "008dff05-3f73-41af-8231-913a8d3fea5c",
   "metadata": {},
   "outputs": [
    {
     "data": {
      "text/html": [
       "<div>\n",
       "<style scoped>\n",
       "    .dataframe tbody tr th:only-of-type {\n",
       "        vertical-align: middle;\n",
       "    }\n",
       "\n",
       "    .dataframe tbody tr th {\n",
       "        vertical-align: top;\n",
       "    }\n",
       "\n",
       "    .dataframe thead th {\n",
       "        text-align: right;\n",
       "    }\n",
       "</style>\n",
       "<table border=\"1\" class=\"dataframe\">\n",
       "  <thead>\n",
       "    <tr style=\"text-align: right;\">\n",
       "      <th></th>\n",
       "      <th>Market Cap</th>\n",
       "      <th>Index</th>\n",
       "    </tr>\n",
       "  </thead>\n",
       "  <tbody>\n",
       "    <tr>\n",
       "      <th>2021-01-04</th>\n",
       "      <td>2.956869e+14</td>\n",
       "      <td>100.000000</td>\n",
       "    </tr>\n",
       "    <tr>\n",
       "      <th>2021-01-05</th>\n",
       "      <td>3.013802e+14</td>\n",
       "      <td>101.925423</td>\n",
       "    </tr>\n",
       "    <tr>\n",
       "      <th>2021-01-06</th>\n",
       "      <td>3.001338e+14</td>\n",
       "      <td>101.503913</td>\n",
       "    </tr>\n",
       "  </tbody>\n",
       "</table>\n",
       "</div>"
      ],
      "text/plain": [
       "              Market Cap       Index\n",
       "2021-01-04  2.956869e+14  100.000000\n",
       "2021-01-05  3.013802e+14  101.925423\n",
       "2021-01-06  3.001338e+14  101.503913"
      ]
     },
     "execution_count": 21,
     "metadata": {},
     "output_type": "execute_result"
    }
   ],
   "source": [
    "k10['Index'] = k10['Market Cap'] / k10['Market Cap'][base_date] * 100\n",
    "k10.head(3)"
   ]
  },
  {
   "cell_type": "code",
   "execution_count": 25,
   "id": "81c6d38b-6ffb-4d91-9b17-d233731bbf49",
   "metadata": {
    "tags": []
   },
   "outputs": [
    {
     "name": "stdout",
     "output_type": "stream",
     "text": [
      "<class 'pandas.core.frame.DataFrame'>\n",
      "Index: 10 entries, 005930 to 015760\n",
      "Data columns (total 3 columns):\n",
      " #   Column       Non-Null Count  Dtype  \n",
      "---  ------       --------------  -----  \n",
      " 0   Outstanding  10 non-null     int64  \n",
      " 1   Floating     10 non-null     float64\n",
      " 2   Name         10 non-null     object \n",
      "dtypes: float64(1), int64(1), object(1)\n",
      "memory usage: 620.0+ bytes\n"
     ]
    }
   ],
   "source": [
    "k10_info.info()"
   ]
  },
  {
   "cell_type": "code",
   "execution_count": 24,
   "id": "dbb453db-e01b-4659-a389-c14c5debf890",
   "metadata": {
    "tags": []
   },
   "outputs": [
    {
     "name": "stdout",
     "output_type": "stream",
     "text": [
      "<class 'pandas.core.frame.DataFrame'>\n",
      "Index: 60 entries, 2021-01-04 to 2021-03-31\n",
      "Data columns (total 2 columns):\n",
      " #   Column      Non-Null Count  Dtype  \n",
      "---  ------      --------------  -----  \n",
      " 0   Market Cap  60 non-null     float64\n",
      " 1   Index       60 non-null     float64\n",
      "dtypes: float64(2)\n",
      "memory usage: 3.5+ KB\n"
     ]
    }
   ],
   "source": [
    "k10.info()"
   ]
  },
  {
   "cell_type": "code",
   "execution_count": 28,
   "id": "cf14ed2d-db91-4cab-8fea-7bc8e14eef2d",
   "metadata": {
    "tags": []
   },
   "outputs": [
    {
     "data": {
      "text/html": [
       "<div>\n",
       "<style scoped>\n",
       "    .dataframe tbody tr th:only-of-type {\n",
       "        vertical-align: middle;\n",
       "    }\n",
       "\n",
       "    .dataframe tbody tr th {\n",
       "        vertical-align: top;\n",
       "    }\n",
       "\n",
       "    .dataframe thead th {\n",
       "        text-align: right;\n",
       "    }\n",
       "</style>\n",
       "<table border=\"1\" class=\"dataframe\">\n",
       "  <thead>\n",
       "    <tr style=\"text-align: right;\">\n",
       "      <th></th>\n",
       "      <th>000660</th>\n",
       "      <th>005380</th>\n",
       "      <th>005490</th>\n",
       "      <th>005930</th>\n",
       "      <th>015760</th>\n",
       "      <th>017670</th>\n",
       "      <th>035420</th>\n",
       "      <th>051910</th>\n",
       "      <th>068270</th>\n",
       "      <th>207940</th>\n",
       "    </tr>\n",
       "  </thead>\n",
       "  <tbody>\n",
       "    <tr>\n",
       "      <th>2021-03-25</th>\n",
       "      <td>133000.0</td>\n",
       "      <td>218000.0</td>\n",
       "      <td>308500.0</td>\n",
       "      <td>1624.0</td>\n",
       "      <td>23100.0</td>\n",
       "      <td>253500.0</td>\n",
       "      <td>380000.0</td>\n",
       "      <td>788000.0</td>\n",
       "      <td>307500.0</td>\n",
       "      <td>718000.0</td>\n",
       "    </tr>\n",
       "    <tr>\n",
       "      <th>2021-03-26</th>\n",
       "      <td>135000.0</td>\n",
       "      <td>215500.0</td>\n",
       "      <td>318000.0</td>\n",
       "      <td>1630.0</td>\n",
       "      <td>23250.0</td>\n",
       "      <td>274000.0</td>\n",
       "      <td>383000.0</td>\n",
       "      <td>802000.0</td>\n",
       "      <td>314000.0</td>\n",
       "      <td>725000.0</td>\n",
       "    </tr>\n",
       "    <tr>\n",
       "      <th>2021-03-29</th>\n",
       "      <td>132000.0</td>\n",
       "      <td>215500.0</td>\n",
       "      <td>327000.0</td>\n",
       "      <td>1632.0</td>\n",
       "      <td>23350.0</td>\n",
       "      <td>269000.0</td>\n",
       "      <td>372000.0</td>\n",
       "      <td>799000.0</td>\n",
       "      <td>330500.0</td>\n",
       "      <td>748000.0</td>\n",
       "    </tr>\n",
       "    <tr>\n",
       "      <th>2021-03-30</th>\n",
       "      <td>134500.0</td>\n",
       "      <td>219500.0</td>\n",
       "      <td>322500.0</td>\n",
       "      <td>1644.0</td>\n",
       "      <td>23250.0</td>\n",
       "      <td>268500.0</td>\n",
       "      <td>376500.0</td>\n",
       "      <td>808000.0</td>\n",
       "      <td>323500.0</td>\n",
       "      <td>747000.0</td>\n",
       "    </tr>\n",
       "    <tr>\n",
       "      <th>2021-03-31</th>\n",
       "      <td>132500.0</td>\n",
       "      <td>218000.0</td>\n",
       "      <td>320000.0</td>\n",
       "      <td>1628.0</td>\n",
       "      <td>23150.0</td>\n",
       "      <td>275000.0</td>\n",
       "      <td>377000.0</td>\n",
       "      <td>805000.0</td>\n",
       "      <td>324500.0</td>\n",
       "      <td>748000.0</td>\n",
       "    </tr>\n",
       "  </tbody>\n",
       "</table>\n",
       "</div>"
      ],
      "text/plain": [
       "              000660    005380    005490  005930   015760    017670    035420  \\\n",
       "2021-03-25  133000.0  218000.0  308500.0  1624.0  23100.0  253500.0  380000.0   \n",
       "2021-03-26  135000.0  215500.0  318000.0  1630.0  23250.0  274000.0  383000.0   \n",
       "2021-03-29  132000.0  215500.0  327000.0  1632.0  23350.0  269000.0  372000.0   \n",
       "2021-03-30  134500.0  219500.0  322500.0  1644.0  23250.0  268500.0  376500.0   \n",
       "2021-03-31  132500.0  218000.0  320000.0  1628.0  23150.0  275000.0  377000.0   \n",
       "\n",
       "              051910    068270    207940  \n",
       "2021-03-25  788000.0  307500.0  718000.0  \n",
       "2021-03-26  802000.0  314000.0  725000.0  \n",
       "2021-03-29  799000.0  330500.0  748000.0  \n",
       "2021-03-30  808000.0  323500.0  747000.0  \n",
       "2021-03-31  805000.0  324500.0  748000.0  "
      ]
     },
     "execution_count": 28,
     "metadata": {},
     "output_type": "execute_result"
    }
   ],
   "source": [
    "k10_historical_price.tail()"
   ]
  },
  {
   "cell_type": "code",
   "execution_count": 31,
   "id": "c014f73a-c888-4da3-9930-e51ac2019e14",
   "metadata": {
    "tags": []
   },
   "outputs": [
    {
     "data": {
      "text/html": [
       "<div>\n",
       "<style scoped>\n",
       "    .dataframe tbody tr th:only-of-type {\n",
       "        vertical-align: middle;\n",
       "    }\n",
       "\n",
       "    .dataframe tbody tr th {\n",
       "        vertical-align: top;\n",
       "    }\n",
       "\n",
       "    .dataframe thead th {\n",
       "        text-align: right;\n",
       "    }\n",
       "</style>\n",
       "<table border=\"1\" class=\"dataframe\">\n",
       "  <thead>\n",
       "    <tr style=\"text-align: right;\">\n",
       "      <th></th>\n",
       "      <th>000660</th>\n",
       "      <th>005380</th>\n",
       "      <th>005490</th>\n",
       "      <th>005930</th>\n",
       "      <th>015760</th>\n",
       "      <th>017670</th>\n",
       "      <th>035420</th>\n",
       "      <th>051910</th>\n",
       "      <th>068270</th>\n",
       "      <th>207940</th>\n",
       "    </tr>\n",
       "  </thead>\n",
       "  <tbody>\n",
       "    <tr>\n",
       "      <th>2021-01-04</th>\n",
       "      <td>6.775052e+13</td>\n",
       "      <td>2.864443e+13</td>\n",
       "      <td>1.670413e+13</td>\n",
       "      <td>7.514631e+12</td>\n",
       "      <td>7.957479e+12</td>\n",
       "      <td>3.285550e+13</td>\n",
       "      <td>4.003930e+13</td>\n",
       "      <td>4.181472e+13</td>\n",
       "      <td>3.779702e+13</td>\n",
       "      <td>1.460920e+13</td>\n",
       "    </tr>\n",
       "    <tr>\n",
       "      <th>2021-01-05</th>\n",
       "      <td>7.017018e+13</td>\n",
       "      <td>2.892052e+13</td>\n",
       "      <td>1.743838e+13</td>\n",
       "      <td>7.596115e+12</td>\n",
       "      <td>7.957479e+12</td>\n",
       "      <td>3.410318e+13</td>\n",
       "      <td>3.997097e+13</td>\n",
       "      <td>4.200286e+13</td>\n",
       "      <td>3.855840e+13</td>\n",
       "      <td>1.466207e+13</td>\n",
       "    </tr>\n",
       "    <tr>\n",
       "      <th>2021-01-06</th>\n",
       "      <td>7.043903e+13</td>\n",
       "      <td>2.802323e+13</td>\n",
       "      <td>1.713244e+13</td>\n",
       "      <td>7.442201e+12</td>\n",
       "      <td>8.031433e+12</td>\n",
       "      <td>3.472701e+13</td>\n",
       "      <td>3.962934e+13</td>\n",
       "      <td>4.186175e+13</td>\n",
       "      <td>3.844963e+13</td>\n",
       "      <td>1.439773e+13</td>\n",
       "    </tr>\n",
       "    <tr>\n",
       "      <th>2021-01-07</th>\n",
       "      <td>7.232099e+13</td>\n",
       "      <td>2.843736e+13</td>\n",
       "      <td>1.780550e+13</td>\n",
       "      <td>7.505577e+12</td>\n",
       "      <td>8.001851e+12</td>\n",
       "      <td>3.743032e+13</td>\n",
       "      <td>3.956101e+13</td>\n",
       "      <td>4.524832e+13</td>\n",
       "      <td>3.888471e+13</td>\n",
       "      <td>1.443298e+13</td>\n",
       "    </tr>\n",
       "    <tr>\n",
       "      <th>2021-01-08</th>\n",
       "      <td>7.420295e+13</td>\n",
       "      <td>3.395918e+13</td>\n",
       "      <td>1.801966e+13</td>\n",
       "      <td>8.039750e+12</td>\n",
       "      <td>7.987060e+12</td>\n",
       "      <td>3.673716e+13</td>\n",
       "      <td>4.263570e+13</td>\n",
       "      <td>4.698864e+13</td>\n",
       "      <td>3.991801e+13</td>\n",
       "      <td>1.475019e+13</td>\n",
       "    </tr>\n",
       "  </tbody>\n",
       "</table>\n",
       "</div>"
      ],
      "text/plain": [
       "                  000660        005380        005490        005930  \\\n",
       "2021-01-04  6.775052e+13  2.864443e+13  1.670413e+13  7.514631e+12   \n",
       "2021-01-05  7.017018e+13  2.892052e+13  1.743838e+13  7.596115e+12   \n",
       "2021-01-06  7.043903e+13  2.802323e+13  1.713244e+13  7.442201e+12   \n",
       "2021-01-07  7.232099e+13  2.843736e+13  1.780550e+13  7.505577e+12   \n",
       "2021-01-08  7.420295e+13  3.395918e+13  1.801966e+13  8.039750e+12   \n",
       "\n",
       "                  015760        017670        035420        051910  \\\n",
       "2021-01-04  7.957479e+12  3.285550e+13  4.003930e+13  4.181472e+13   \n",
       "2021-01-05  7.957479e+12  3.410318e+13  3.997097e+13  4.200286e+13   \n",
       "2021-01-06  8.031433e+12  3.472701e+13  3.962934e+13  4.186175e+13   \n",
       "2021-01-07  8.001851e+12  3.743032e+13  3.956101e+13  4.524832e+13   \n",
       "2021-01-08  7.987060e+12  3.673716e+13  4.263570e+13  4.698864e+13   \n",
       "\n",
       "                  068270        207940  \n",
       "2021-01-04  3.779702e+13  1.460920e+13  \n",
       "2021-01-05  3.855840e+13  1.466207e+13  \n",
       "2021-01-06  3.844963e+13  1.439773e+13  \n",
       "2021-01-07  3.888471e+13  1.443298e+13  \n",
       "2021-01-08  3.991801e+13  1.475019e+13  "
      ]
     },
     "execution_count": 31,
     "metadata": {},
     "output_type": "execute_result"
    }
   ],
   "source": [
    "k10_historical_mc.head()"
   ]
  },
  {
   "cell_type": "markdown",
   "id": "45167a43-f28a-42b1-af40-5160c21277d6",
   "metadata": {},
   "source": [
    "# 펀드 운용 모델★"
   ]
  },
  {
   "cell_type": "code",
   "execution_count": 22,
   "id": "578e6ab3-f9fc-45e6-be85-cb2948d9443d",
   "metadata": {},
   "outputs": [],
   "source": [
    "import numpy as np"
   ]
  },
  {
   "cell_type": "code",
   "execution_count": null,
   "id": "04556de9-a687-4767-8179-46c7b855d6d1",
   "metadata": {},
   "outputs": [],
   "source": [
    "CU              = 50000 # 설정/환매단위\n",
    "base_date       = dt.date(2021,1,4) # 설정 기준일, 2021-01-04\n",
    "volume          = 1000000  # 최초설정수량\n",
    "intereste_reate = 0.02   # 이자율"
   ]
  },
  {
   "cell_type": "code",
   "execution_count": 29,
   "id": "9ee7c5bf-36cc-41e1-bbfd-25d3e13ee86e",
   "metadata": {},
   "outputs": [],
   "source": [
    "# 설정_환매\n",
    "def creation_redemption(v):\n",
    "    creation = np.random.randint(0,5)*CU   # 0~5사이의 임의의 정수\n",
    "    if v >=50000:                          # 최소 50만좌 이상일 경우에만 환매 \n",
    "        redemption = np.random.randint(0,5)*CU\n",
    "    else:\n",
    "        redemption = 0\n",
    "    volume = v + creation - redemption     # 총좌수 = 보유좌수 + 설정 - 환매\n",
    "    return(creation, redemption, volume)"
   ]
  },
  {
   "cell_type": "markdown",
   "id": "9c10d8c3-e12b-4448-aafe-8559e69ac969",
   "metadata": {},
   "source": [
    "## K10 stock_ratio"
   ]
  },
  {
   "cell_type": "code",
   "execution_count": null,
   "id": "83bb9417-578d-4cb8-891c-f2b98bef97b8",
   "metadata": {},
   "outputs": [],
   "source": []
  },
  {
   "cell_type": "code",
   "execution_count": null,
   "id": "889f1dc9-453d-4e3d-bd4e-e6a4576bda0f",
   "metadata": {},
   "outputs": [],
   "source": []
  },
  {
   "cell_type": "code",
   "execution_count": null,
   "id": "9bd07fcd-8b0c-46d8-b2d2-7985249d46bd",
   "metadata": {},
   "outputs": [],
   "source": []
  },
  {
   "cell_type": "code",
   "execution_count": null,
   "id": "d027d051-f171-4ab3-a590-36b24d8163ec",
   "metadata": {},
   "outputs": [],
   "source": []
  },
  {
   "cell_type": "code",
   "execution_count": null,
   "id": "d7c765a4-609b-485c-b989-276d41024b74",
   "metadata": {},
   "outputs": [],
   "source": []
  },
  {
   "cell_type": "code",
   "execution_count": null,
   "id": "314fc27a-ae30-4d10-bbe7-27edb7020c58",
   "metadata": {},
   "outputs": [],
   "source": []
  },
  {
   "cell_type": "code",
   "execution_count": null,
   "id": "c6c841de-981e-4944-9cf6-1fd1c985354f",
   "metadata": {},
   "outputs": [],
   "source": []
  },
  {
   "cell_type": "code",
   "execution_count": null,
   "id": "09b8dc48-7ab5-46c7-a864-11b6924475ac",
   "metadata": {},
   "outputs": [],
   "source": []
  },
  {
   "cell_type": "code",
   "execution_count": null,
   "id": "7da70102-bfbe-4304-ba09-3c449b1f772c",
   "metadata": {},
   "outputs": [],
   "source": []
  }
 ],
 "metadata": {
  "kernelspec": {
   "display_name": "Python 3 (ipykernel)",
   "language": "python",
   "name": "python3"
  },
  "language_info": {
   "codemirror_mode": {
    "name": "ipython",
    "version": 3
   },
   "file_extension": ".py",
   "mimetype": "text/x-python",
   "name": "python",
   "nbconvert_exporter": "python",
   "pygments_lexer": "ipython3",
   "version": "3.8.8"
  }
 },
 "nbformat": 4,
 "nbformat_minor": 5
}

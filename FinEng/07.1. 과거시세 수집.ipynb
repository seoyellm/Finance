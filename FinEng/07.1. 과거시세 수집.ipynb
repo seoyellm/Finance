{
 "cells": [
  {
   "cell_type": "markdown",
   "metadata": {},
   "source": [
    "일별시세 페이지 분석"
   ]
  },
  {
   "cell_type": "code",
   "execution_count": 1,
   "metadata": {},
   "outputs": [],
   "source": [
    "index_cd = 'KPI200'\n",
    "page_n = 1\n",
    "naver_index = 'http://finance.naver.com/sise/sise_index_day.nhn?code=' + index_cd + '&page=' + str(page_n)"
   ]
  },
  {
   "cell_type": "code",
   "execution_count": 2,
   "metadata": {
    "scrolled": true
   },
   "outputs": [
    {
     "data": {
      "text/plain": [
       "b'<html lang=\"ko\">\\n<head>\\n<meta http-equiv=\"Content-Type\" content=\"text/html; charset=euc-kr\">\\n<title>\\xb3\\xd7\\xc0\\xcc\\xb9\\xf6 \\xb1\\xdd\\xc0\\xb6</title>\\n\\n<link rel=\"stylesheet\" type=\"text/css\" href=\"https://ssl.pstatic.net/imgstock/static.pc/20210721200146/css/newstock.css\">\\n<link rel=\"stylesheet\" type=\"text/css\" href=\"https://ssl.pstatic.net/imgstock/static.pc/20210721200146/css/common.css\">\\n<link rel=\"stylesheet\" type=\"text/css\" href=\"https://ssl.pstatic.net/imgstock/static.pc/20210721200146/css/layout.css\">\\n<link rel=\"stylesheet\" type=\"text/css\" href=\"https://ssl.pstatic.net/imgstock/static.pc/20210721200146/css/main.css\">\\n<link rel=\"stylesheet\" type=\"text/css\" href=\"https://ssl.pstatic.net/imgstock/static.pc/20210721200146/css/newstock2.css\">\\n<link rel=\"stylesheet\" type=\"text/css\" href=\"https://ssl.pstatic.net/imgstock/static.pc/20210721200146/css/newstock3.css\">\\n<link rel=\"stylesheet\" type=\"text/css\" href=\"https://ssl.pstatic.net/imgstock/static.pc/20210721200146/css/world.css\">\\n</head>\\n<body>\\n<script type=\"text/javascript\" src=\"https://ssl.pstatic.net/imgstock/static.pc/20210721200146/js/jindo.min.ns.1.5.3.euckr.js\"></script>\\n<script type=\"text/javascript\" src=\"https://ssl.pstatic.net/imgstock/static.pc/20210721200146/js/lcslog.js\"></script>\\n\\t\\t\\t\\t<!-- \\xc0\\xcf\\xba\\xb0\\xbd\\xc3\\xbc\\xbc -->\\n\\t\\t\\t\\t<div class=\"box_type_m\">\\n\\t\\t\\t\\t\\t<h4 class=\"top_tlt\" style=\"text-align:left;\"><em>\\xc0\\xcf\\xba\\xb0</em>\\xbd\\xc3\\xbc\\xbc</h4>\\n\\t\\t\\t\\t\\t<table summary=\"\\xc0\\xcf\\xba\\xb0 \\xbd\\xc3\\xbc\\xbc\\xc7\\xa5:\\xb3\\xaf\\xc2\\xa5\\xbf\\xa1 \\xb5\\xfb\\xb8\\xa5 \\xc3\\xbc\\xb0\\xe1\\xb0\\xa1 \\xc0\\xfc\\xc0\\xcf\\xba\\xf1 \\xb5\\xee\\xb6\\xf4\\xb7\\xfc \\xb0\\xc5\\xb7\\xa1\\xb7\\xae \\xb0\\xc5\\xb7\\xa1\\xb4\\xeb\\xb1\\xdd \\xc1\\xa4\\xba\\xb8\\xb8\\xa6 \\xc1\\xa6\\xb0\\xf8\\xc7\\xd5\\xb4\\xcf\\xb4\\xd9.\" cellpadding=\"0\" cellspacing=\"0\" class=\"type_1\">\\n\\t\\t\\t\\t\\t<caption>\\xc0\\xcf\\xba\\xb0\\xbd\\xc3\\xbc\\xbc</caption>\\n\\t\\t\\t\\t\\t<col width=\"15%\"><col width=\"14%\"><col width=\"18%\"><col width=\"14%\"><col width=\"*\"><col width=\"18%\">\\n\\t\\t\\t\\t\\t\\n\\t\\t\\t\\t\\t\\t\\n\\t\\t\\t\\t\\t\\t\\n\\t\\t\\t\\t\\t\\t<tr>\\n\\t\\t\\t\\t\\t\\t\\t<th>\\xb3\\xaf\\xc2\\xa5</th>\\n\\t\\t\\t\\t\\t\\t\\t<th>\\xc3\\xbc\\xb0\\xe1\\xb0\\xa1</th>\\n\\t\\t\\t\\t\\t\\t\\t<th>\\xc0\\xfc\\xc0\\xcf\\xba\\xf1</th>\\n\\t\\t\\t\\t\\t\\t\\t<th>\\xb5\\xee\\xb6\\xf4\\xb7\\xfc</th>\\n\\t\\t\\t\\t\\t\\t\\t<th>\\xb0\\xc5\\xb7\\xa1\\xb7\\xae<span class=\"add_txt\">(\\xc3\\xb5\\xc1\\xd6)</span></th>\\n\\t\\t\\t\\t\\t\\t\\t<th>\\xb0\\xc5\\xb7\\xa1\\xb4\\xeb\\xb1\\xdd<span class=\"add_txt\">(\\xb9\\xe9\\xb8\\xb8)</span></th>\\n\\t\\t\\t\\t\\t\\t</tr>\\n\\t\\t\\t\\t\\t\\t\\n\\t\\t\\t\\t\\t\\t\\t\\t\\t\\t\\n\\t\\t\\t\\t\\t<tr><td colspan=\"6\" class=\"blank_07\"></td></tr>\\n\\n\\t\\n\\t\\t\\t\\t\\t<tr>\\n\\t\\t\\t\\t\\t\\t<td class=\"date\">2021.07.22</td>\\n\\t\\t\\t\\t\\t\\t<td class=\"number_1\">431.38</td>\\n\\t\\t\\t\\t\\t\\t<td class=\"rate_down\" style=\"padding-right:35px;\">\\n\\t\\t\\t\\t<img src=\"https://ssl.pstatic.net/imgstock/images/images4/ico_up.gif\" width=\"7\" height=\"6\" style=\"margin-right:4px;\" alt=\"\\xbb\\xf3\\xbd\\xc2\"><span class=\"tah p11 red02\">\\n\\t\\t\\t\\t5.38\\n\\t\\t\\t\\t</span>\\n\\t\\t\\t</td>\\n\\t\\t\\t\\t\\t\\t<td class=\"number_1\">\\n\\t\\t\\t\\t<span class=\"tah p11 red01\">\\n\\t\\t\\t\\t+1.26%\\n\\t\\t\\t\\t</span>\\n\\t\\t\\t</td>\\n\\t\\t\\t\\t\\t\\t<td class=\"number_1\" style=\"padding-right:40px;\">182,078</td>\\n\\t\\t\\t\\t\\t\\t<td class=\"number_1\" style=\"padding-right:30px;\">9,222,420</td>\\n\\t\\t\\t\\t\\t</tr>\\n\\t\\t\\n\\t\\t\\t\\n\\t\\t\\t\\t\\n\\t\\t\\t\\t\\t<tr>\\n\\t\\t\\t\\t\\t\\t<td class=\"date\">2021.07.21</td>\\n\\t\\t\\t\\t\\t\\t<td class=\"number_1\">426.00</td>\\n\\t\\t\\t\\t\\t\\t<td class=\"rate_down\" style=\"padding-right:35px;\">\\n\\t\\t\\t\\t<img src=\"https://ssl.pstatic.net/imgstock/images/images4/ico_down.gif\" width=\"7\" height=\"6\" style=\"margin-right:4px;\" alt=\"\\xc7\\xcf\\xb6\\xf4\"><span class=\"tah p11 nv01\">\\n\\t\\t\\t\\t2.55\\n\\t\\t\\t\\t</span>\\n\\t\\t\\t</td>\\n\\t\\t\\t\\t\\t\\t<td class=\"number_1\">\\n\\t\\t\\t\\t<span class=\"tah p11 nv01\">\\n\\t\\t\\t\\t-0.60%\\n\\t\\t\\t\\t</span>\\n\\t\\t\\t</td>\\n\\t\\t\\t\\t\\t\\t<td class=\"number_1\" style=\"padding-right:40px;\">212,123</td>\\n\\t\\t\\t\\t\\t\\t<td class=\"number_1\" style=\"padding-right:30px;\">10,220,123</td>\\n\\t\\t\\t\\t\\t</tr>\\n\\t\\t\\t\\t\\n\\t\\t\\t\\t\\n\\t\\t\\t\\n\\t\\t\\t\\n\\t\\t\\t\\n\\t\\t\\t\\n\\t\\t\\t\\t\\n\\t\\t\\t\\n\\t\\t\\t\\n\\t\\t\\n\\t\\t\\t\\n\\t\\t\\t\\t\\n\\t\\t\\t\\t\\t<tr>\\n\\t\\t\\t\\t\\t\\t<td class=\"date\">2021.07.20</td>\\n\\t\\t\\t\\t\\t\\t<td class=\"number_1\">428.55</td>\\n\\t\\t\\t\\t\\t\\t<td class=\"rate_down\" style=\"padding-right:35px;\">\\n\\t\\t\\t\\t<img src=\"https://ssl.pstatic.net/imgstock/images/images4/ico_down.gif\" width=\"7\" height=\"6\" style=\"margin-right:4px;\" alt=\"\\xc7\\xcf\\xb6\\xf4\"><span class=\"tah p11 nv01\">\\n\\t\\t\\t\\t1.34\\n\\t\\t\\t\\t</span>\\n\\t\\t\\t</td>\\n\\t\\t\\t\\t\\t\\t<td class=\"number_1\">\\n\\t\\t\\t\\t<span class=\"tah p11 nv01\">\\n\\t\\t\\t\\t-0.31%\\n\\t\\t\\t\\t</span>\\n\\t\\t\\t</td>\\n\\t\\t\\t\\t\\t\\t<td class=\"number_1\" style=\"padding-right:40px;\">163,962</td>\\n\\t\\t\\t\\t\\t\\t<td class=\"number_1\" style=\"padding-right:30px;\">9,736,454</td>\\n\\t\\t\\t\\t\\t</tr>\\n\\t\\t\\t\\t\\n\\t\\t\\t\\t\\n\\t\\t\\t\\n\\t\\t\\t\\n\\t\\t\\t\\n\\t\\t\\t\\n\\t\\t\\t\\t\\n\\t\\t\\t\\t\\t<tr><td colspan=\"6\" class=\"blank_08\"></td></tr>\\n\\t\\t\\t\\t\\t<tr><td colspan=\"6\" class=\"division_line\"></td></tr>\\n\\t\\t\\t\\t\\t<tr><td colspan=\"6\" class=\"blank_08\"></td></tr>\\n\\t\\t\\t\\t\\t<tr>\\n\\t\\t\\t\\t\\n\\t\\t\\t\\n\\t\\t\\t\\n\\t\\t\\n\\t\\t\\t\\n\\t\\t\\t\\t\\n\\t\\t\\t\\t\\t<tr>\\n\\t\\t\\t\\t\\t\\t<td class=\"date\">2021.07.19</td>\\n\\t\\t\\t\\t\\t\\t<td class=\"number_1\">429.89</td>\\n\\t\\t\\t\\t\\t\\t<td class=\"rate_down\" style=\"padding-right:35px;\">\\n\\t\\t\\t\\t<img src=\"https://ssl.pstatic.net/imgstock/images/images4/ico_down.gif\" width=\"7\" height=\"6\" style=\"margin-right:4px;\" alt=\"\\xc7\\xcf\\xb6\\xf4\"><span class=\"tah p11 nv01\">\\n\\t\\t\\t\\t4.93\\n\\t\\t\\t\\t</span>\\n\\t\\t\\t</td>\\n\\t\\t\\t\\t\\t\\t<td class=\"number_1\">\\n\\t\\t\\t\\t<span class=\"tah p11 nv01\">\\n\\t\\t\\t\\t-1.13%\\n\\t\\t\\t\\t</span>\\n\\t\\t\\t</td>\\n\\t\\t\\t\\t\\t\\t<td class=\"number_1\" style=\"padding-right:40px;\">152,020</td>\\n\\t\\t\\t\\t\\t\\t<td class=\"number_1\" style=\"padding-right:30px;\">7,371,116</td>\\n\\t\\t\\t\\t\\t</tr>\\n\\t\\t\\t\\t\\n\\t\\t\\t\\t\\n\\t\\t\\t\\n\\t\\t\\t\\n\\t\\t\\t\\n\\t\\t\\t\\n\\t\\t\\t\\t\\n\\t\\t\\t\\n\\t\\t\\t\\n\\t\\t\\n\\t\\t\\t\\n\\t\\t\\t\\t\\n\\t\\t\\t\\t\\t<tr>\\n\\t\\t\\t\\t\\t\\t<td class=\"date\">2021.07.16</td>\\n\\t\\t\\t\\t\\t\\t<td class=\"number_1\">434.82</td>\\n\\t\\t\\t\\t\\t\\t<td class=\"rate_down\" style=\"padding-right:35px;\">\\n\\t\\t\\t\\t<img src=\"https://ssl.pstatic.net/imgstock/images/images4/ico_down.gif\" width=\"7\" height=\"6\" style=\"margin-right:4px;\" alt=\"\\xc7\\xcf\\xb6\\xf4\"><span class=\"tah p11 nv01\">\\n\\t\\t\\t\\t1.94\\n\\t\\t\\t\\t</span>\\n\\t\\t\\t</td>\\n\\t\\t\\t\\t\\t\\t<td class=\"number_1\">\\n\\t\\t\\t\\t<span class=\"tah p11 nv01\">\\n\\t\\t\\t\\t-0.44%\\n\\t\\t\\t\\t</span>\\n\\t\\t\\t</td>\\n\\t\\t\\t\\t\\t\\t<td class=\"number_1\" style=\"padding-right:40px;\">149,475</td>\\n\\t\\t\\t\\t\\t\\t<td class=\"number_1\" style=\"padding-right:30px;\">8,707,928</td>\\n\\t\\t\\t\\t\\t</tr>\\n\\t\\t\\t\\t\\n\\t\\t\\t\\t\\n\\t\\t\\t\\n\\t\\t\\t\\n\\t\\t\\t\\n\\t\\t\\t\\n\\t\\t\\t\\t\\n\\t\\t\\t\\n\\t\\t\\t\\n\\t\\t\\n\\t\\t\\t\\n\\t\\t\\t\\t\\n\\t\\t\\t\\t\\t<tr>\\n\\t\\t\\t\\t\\t\\t<td class=\"date\">2021.07.15</td>\\n\\t\\t\\t\\t\\t\\t<td class=\"number_1\">436.76</td>\\n\\t\\t\\t\\t\\t\\t<td class=\"rate_down\" style=\"padding-right:35px;\">\\n\\t\\t\\t\\t<img src=\"https://ssl.pstatic.net/imgstock/images/images4/ico_up.gif\" width=\"7\" height=\"6\" style=\"margin-right:4px;\" alt=\"\\xbb\\xf3\\xbd\\xc2\"><span class=\"tah p11 red02\">\\n\\t\\t\\t\\t3.19\\n\\t\\t\\t\\t</span>\\n\\t\\t\\t</td>\\n\\t\\t\\t\\t\\t\\t<td class=\"number_1\">\\n\\t\\t\\t\\t<span class=\"tah p11 red01\">\\n\\t\\t\\t\\t+0.74%\\n\\t\\t\\t\\t</span>\\n\\t\\t\\t</td>\\n\\t\\t\\t\\t\\t\\t<td class=\"number_1\" style=\"padding-right:40px;\">152,535</td>\\n\\t\\t\\t\\t\\t\\t<td class=\"number_1\" style=\"padding-right:30px;\">9,160,067</td>\\n\\t\\t\\t\\t\\t</tr>\\n\\t\\t\\t\\t\\n\\t\\t\\t\\t\\n\\t\\t\\t\\n\\t\\t\\t\\n\\t\\t\\t\\n\\t\\t\\t\\n\\t\\t\\t\\t\\n\\t\\t\\t\\n\\t\\t\\t\\n\\t\\t\\n\\t\\t\\t\\n\\t\\n\\t\\n\\t\\n\\t\\n\\n\\t\\t\\t\\t\\t<tr><td colspan=\"6\" class=\"blank_09\"></td></tr>\\n\\t\\t\\t\\t\\t<tr><td colspan=\"6\" class=\"division_line\"></td></tr>\\n\\t\\t\\t\\t\\t</table>\\n\\t\\t\\t\\t<!--- \\xc6\\xe4\\xc0\\xcc\\xc1\\xf6 \\xb3\\xd7\\xba\\xf1\\xb0\\xd4\\xc0\\xcc\\xbc\\xc7 \\xbd\\xc3\\xc0\\xdb--->\\n\\t\\t\\t\\t<table summary=\"\\xc6\\xe4\\xc0\\xcc\\xc1\\xf6 \\xb3\\xd7\\xba\\xf1\\xb0\\xd4\\xc0\\xcc\\xbc\\xc7 \\xb8\\xae\\xbd\\xba\\xc6\\xae\" class=\"Nnavi\" align=\"center\">\\n\\t\\t\\t\\t<caption>\\xc6\\xe4\\xc0\\xcc\\xc1\\xf6 \\xb3\\xd7\\xba\\xf1\\xb0\\xd4\\xc0\\xcc\\xbc\\xc7</caption>\\n\\t\\t\\t\\t<tr>\\t\\t\\n\\t\\t\\t\\n\\t\\t\\t\\t\\n                \\n                <td class=\"on\">\\n\\t\\t\\t\\t<a href=\"/sise/sise_index_day.nhn?code=KPI200&amp;page=1\"  >1</a>\\n\\t\\t\\t\\t</td>\\n<td>\\n\\t\\t\\t\\t<a href=\"/sise/sise_index_day.nhn?code=KPI200&amp;page=2\"  >2</a>\\n\\t\\t\\t\\t</td>\\n<td>\\n\\t\\t\\t\\t<a href=\"/sise/sise_index_day.nhn?code=KPI200&amp;page=3\"  >3</a>\\n\\t\\t\\t\\t</td>\\n<td>\\n\\t\\t\\t\\t<a href=\"/sise/sise_index_day.nhn?code=KPI200&amp;page=4\"  >4</a>\\n\\t\\t\\t\\t</td>\\n<td>\\n\\t\\t\\t\\t<a href=\"/sise/sise_index_day.nhn?code=KPI200&amp;page=5\"  >5</a>\\n\\t\\t\\t\\t</td>\\n<td>\\n\\t\\t\\t\\t<a href=\"/sise/sise_index_day.nhn?code=KPI200&amp;page=6\"  >6</a>\\n\\t\\t\\t\\t</td>\\n<td>\\n\\t\\t\\t\\t<a href=\"/sise/sise_index_day.nhn?code=KPI200&amp;page=7\"  >7</a>\\n\\t\\t\\t\\t</td>\\n<td>\\n\\t\\t\\t\\t<a href=\"/sise/sise_index_day.nhn?code=KPI200&amp;page=8\"  >8</a>\\n\\t\\t\\t\\t</td>\\n<td>\\n\\t\\t\\t\\t<a href=\"/sise/sise_index_day.nhn?code=KPI200&amp;page=9\"  >9</a>\\n\\t\\t\\t\\t</td>\\n<td>\\n\\t\\t\\t\\t<a href=\"/sise/sise_index_day.nhn?code=KPI200&amp;page=10\"  >10</a>\\n\\t\\t\\t\\t</td>\\n\\n                <td class=\"pgR\">\\n\\t\\t\\t\\t<a href=\"/sise/sise_index_day.nhn?code=KPI200&amp;page=11\"  >\\n\\t\\t\\t\\t\\xb4\\xd9\\xc0\\xbd<img src=\"https://ssl.pstatic.net/static/n/cmn/bu_pgarR.gif\" width=\"3\" height=\"5\" alt=\"\" border=\"0\">\\n\\t\\t\\t\\t</a>\\n\\t\\t\\t\\t</td>\\n\\n                <td class=\"pgRR\">\\n\\t\\t\\t\\t<a href=\"/sise/sise_index_day.nhn?code=KPI200&amp;page=641\"  >\\xb8\\xc7\\xb5\\xda\\n\\t\\t\\t\\t<img src=\"https://ssl.pstatic.net/static/n/cmn/bu_pgarRR.gif\" width=\"8\" height=\"5\" alt=\"\" border=\"0\">\\n\\t\\t\\t\\t</a>\\n\\t\\t\\t\\t</td>\\n\\n            \\n\\t\\t\\t\\t</tr>\\n\\t\\t\\t\\t</table>\\n\\t\\t\\t\\t<!--- \\xc6\\xe4\\xc0\\xcc\\xc1\\xf6 \\xb3\\xd7\\xba\\xf1\\xb0\\xd4\\xc0\\xcc\\xbc\\xc7 \\xb3\\xa1--->\\n\\t\\t\\t\\t</div>\\n\\t\\t\\t\\t<!-- //\\xc0\\xcf\\xba\\xb0\\xbd\\xc3\\xbc\\xbc -->\\n\\t\\t\\t\\t\\n<script type=\"text/javascript\">\\n    ;(function(){\\n        var eventType = \"onpageshow\" in window ? \"pageshow\" : \"load\";\\n        jindo.$Fn(function(){\\n            lcs_do();\\n        }).attach(window, eventType);\\n    })();\\n</script>\\n\\n</body>\\n</html>'"
      ]
     },
     "execution_count": 2,
     "metadata": {},
     "output_type": "execute_result"
    }
   ],
   "source": [
    "from urllib.request import urlopen  \n",
    "source = urlopen(naver_index).read()\n",
    "source"
   ]
  },
  {
   "cell_type": "code",
   "execution_count": 3,
   "metadata": {},
   "outputs": [],
   "source": [
    "import bs4\n",
    "source = bs4.BeautifulSoup(source, 'lxml')"
   ]
  },
  {
   "cell_type": "code",
   "execution_count": 4,
   "metadata": {},
   "outputs": [
    {
     "name": "stdout",
     "output_type": "stream",
     "text": [
      "<html lang=\"ko\">\n",
      " <head>\n",
      "  <meta content=\"text/html; charset=utf-8\" http-equiv=\"Content-Type\"/>\n",
      "  <title>\n",
      "   네이버 금융\n",
      "  </title>\n",
      "  <link href=\"https://ssl.pstatic.net/imgstock/static.pc/20210721200146/css/newstock.css\" rel=\"stylesheet\" type=\"text/css\"/>\n",
      "  <link href=\"https://ssl.pstatic.net/imgstock/static.pc/20210721200146/css/common.css\" rel=\"stylesheet\" type=\"text/css\"/>\n",
      "  <link href=\"https://ssl.pstatic.net/imgstock/static.pc/20210721200146/css/layout.css\" rel=\"stylesheet\" type=\"text/css\"/>\n",
      "  <link href=\"https://ssl.pstatic.net/imgstock/static.pc/20210721200146/css/main.css\" rel=\"stylesheet\" type=\"text/css\"/>\n",
      "  <link href=\"https://ssl.pstatic.net/imgstock/static.pc/20210721200146/css/newstock2.css\" rel=\"stylesheet\" type=\"text/css\"/>\n",
      "  <link href=\"https://ssl.pstatic.net/imgstock/static.pc/20210721200146/css/newstock3.css\" rel=\"stylesheet\" type=\"text/css\"/>\n",
      "  <link href=\"https://ssl.pstatic.net/imgstock/static.pc/20210721200146/css/world.css\" rel=\"stylesheet\" type=\"text/css\"/>\n",
      " </head>\n",
      " <body>\n",
      "  <script src=\"https://ssl.pstatic.net/imgstock/static.pc/20210721200146/js/jindo.min.ns.1.5.3.euckr.js\" type=\"text/javascript\">\n",
      "  </script>\n",
      "  <script src=\"https://ssl.pstatic.net/imgstock/static.pc/20210721200146/js/lcslog.js\" type=\"text/javascript\">\n",
      "  </script>\n",
      "  <!-- 일별시세 -->\n",
      "  <div class=\"box_type_m\">\n",
      "   <h4 class=\"top_tlt\" style=\"text-align:left;\">\n",
      "    <em>\n",
      "     일별\n",
      "    </em>\n",
      "    시세\n",
      "   </h4>\n",
      "   <table cellpadding=\"0\" cellspacing=\"0\" class=\"type_1\" summary=\"일별 시세표:날짜에 따른 체결가 전일비 등락률 거래량 거래대금 정보를 제공합니다.\">\n",
      "    <caption>\n",
      "     일별시세\n",
      "    </caption>\n",
      "    <col width=\"15%\"/>\n",
      "    <col width=\"14%\"/>\n",
      "    <col width=\"18%\"/>\n",
      "    <col width=\"14%\"/>\n",
      "    <col width=\"*\"/>\n",
      "    <col width=\"18%\"/>\n",
      "    <tr>\n",
      "     <th>\n",
      "      날짜\n",
      "     </th>\n",
      "     <th>\n",
      "      체결가\n",
      "     </th>\n",
      "     <th>\n",
      "      전일비\n",
      "     </th>\n",
      "     <th>\n",
      "      등락률\n",
      "     </th>\n",
      "     <th>\n",
      "      거래량\n",
      "      <span class=\"add_txt\">\n",
      "       (천주)\n",
      "      </span>\n",
      "     </th>\n",
      "     <th>\n",
      "      거래대금\n",
      "      <span class=\"add_txt\">\n",
      "       (백만)\n",
      "      </span>\n",
      "     </th>\n",
      "    </tr>\n",
      "    <tr>\n",
      "     <td class=\"blank_07\" colspan=\"6\">\n",
      "     </td>\n",
      "    </tr>\n",
      "    <tr>\n",
      "     <td class=\"date\">\n",
      "      2021.07.22\n",
      "     </td>\n",
      "     <td class=\"number_1\">\n",
      "      431.38\n",
      "     </td>\n",
      "     <td class=\"rate_down\" style=\"padding-right:35px;\">\n",
      "      <img alt=\"상승\" height=\"6\" src=\"https://ssl.pstatic.net/imgstock/images/images4/ico_up.gif\" style=\"margin-right:4px;\" width=\"7\"/>\n",
      "      <span class=\"tah p11 red02\">\n",
      "       5.38\n",
      "      </span>\n",
      "     </td>\n",
      "     <td class=\"number_1\">\n",
      "      <span class=\"tah p11 red01\">\n",
      "       +1.26%\n",
      "      </span>\n",
      "     </td>\n",
      "     <td class=\"number_1\" style=\"padding-right:40px;\">\n",
      "      182,078\n",
      "     </td>\n",
      "     <td class=\"number_1\" style=\"padding-right:30px;\">\n",
      "      9,222,420\n",
      "     </td>\n",
      "    </tr>\n",
      "    <tr>\n",
      "     <td class=\"date\">\n",
      "      2021.07.21\n",
      "     </td>\n",
      "     <td class=\"number_1\">\n",
      "      426.00\n",
      "     </td>\n",
      "     <td class=\"rate_down\" style=\"padding-right:35px;\">\n",
      "      <img alt=\"하락\" height=\"6\" src=\"https://ssl.pstatic.net/imgstock/images/images4/ico_down.gif\" style=\"margin-right:4px;\" width=\"7\"/>\n",
      "      <span class=\"tah p11 nv01\">\n",
      "       2.55\n",
      "      </span>\n",
      "     </td>\n",
      "     <td class=\"number_1\">\n",
      "      <span class=\"tah p11 nv01\">\n",
      "       -0.60%\n",
      "      </span>\n",
      "     </td>\n",
      "     <td class=\"number_1\" style=\"padding-right:40px;\">\n",
      "      212,123\n",
      "     </td>\n",
      "     <td class=\"number_1\" style=\"padding-right:30px;\">\n",
      "      10,220,123\n",
      "     </td>\n",
      "    </tr>\n",
      "    <tr>\n",
      "     <td class=\"date\">\n",
      "      2021.07.20\n",
      "     </td>\n",
      "     <td class=\"number_1\">\n",
      "      428.55\n",
      "     </td>\n",
      "     <td class=\"rate_down\" style=\"padding-right:35px;\">\n",
      "      <img alt=\"하락\" height=\"6\" src=\"https://ssl.pstatic.net/imgstock/images/images4/ico_down.gif\" style=\"margin-right:4px;\" width=\"7\"/>\n",
      "      <span class=\"tah p11 nv01\">\n",
      "       1.34\n",
      "      </span>\n",
      "     </td>\n",
      "     <td class=\"number_1\">\n",
      "      <span class=\"tah p11 nv01\">\n",
      "       -0.31%\n",
      "      </span>\n",
      "     </td>\n",
      "     <td class=\"number_1\" style=\"padding-right:40px;\">\n",
      "      163,962\n",
      "     </td>\n",
      "     <td class=\"number_1\" style=\"padding-right:30px;\">\n",
      "      9,736,454\n",
      "     </td>\n",
      "    </tr>\n",
      "    <tr>\n",
      "     <td class=\"blank_08\" colspan=\"6\">\n",
      "     </td>\n",
      "    </tr>\n",
      "    <tr>\n",
      "     <td class=\"division_line\" colspan=\"6\">\n",
      "     </td>\n",
      "    </tr>\n",
      "    <tr>\n",
      "     <td class=\"blank_08\" colspan=\"6\">\n",
      "     </td>\n",
      "    </tr>\n",
      "    <tr>\n",
      "    </tr>\n",
      "    <tr>\n",
      "     <td class=\"date\">\n",
      "      2021.07.19\n",
      "     </td>\n",
      "     <td class=\"number_1\">\n",
      "      429.89\n",
      "     </td>\n",
      "     <td class=\"rate_down\" style=\"padding-right:35px;\">\n",
      "      <img alt=\"하락\" height=\"6\" src=\"https://ssl.pstatic.net/imgstock/images/images4/ico_down.gif\" style=\"margin-right:4px;\" width=\"7\"/>\n",
      "      <span class=\"tah p11 nv01\">\n",
      "       4.93\n",
      "      </span>\n",
      "     </td>\n",
      "     <td class=\"number_1\">\n",
      "      <span class=\"tah p11 nv01\">\n",
      "       -1.13%\n",
      "      </span>\n",
      "     </td>\n",
      "     <td class=\"number_1\" style=\"padding-right:40px;\">\n",
      "      152,020\n",
      "     </td>\n",
      "     <td class=\"number_1\" style=\"padding-right:30px;\">\n",
      "      7,371,116\n",
      "     </td>\n",
      "    </tr>\n",
      "    <tr>\n",
      "     <td class=\"date\">\n",
      "      2021.07.16\n",
      "     </td>\n",
      "     <td class=\"number_1\">\n",
      "      434.82\n",
      "     </td>\n",
      "     <td class=\"rate_down\" style=\"padding-right:35px;\">\n",
      "      <img alt=\"하락\" height=\"6\" src=\"https://ssl.pstatic.net/imgstock/images/images4/ico_down.gif\" style=\"margin-right:4px;\" width=\"7\"/>\n",
      "      <span class=\"tah p11 nv01\">\n",
      "       1.94\n",
      "      </span>\n",
      "     </td>\n",
      "     <td class=\"number_1\">\n",
      "      <span class=\"tah p11 nv01\">\n",
      "       -0.44%\n",
      "      </span>\n",
      "     </td>\n",
      "     <td class=\"number_1\" style=\"padding-right:40px;\">\n",
      "      149,475\n",
      "     </td>\n",
      "     <td class=\"number_1\" style=\"padding-right:30px;\">\n",
      "      8,707,928\n",
      "     </td>\n",
      "    </tr>\n",
      "    <tr>\n",
      "     <td class=\"date\">\n",
      "      2021.07.15\n",
      "     </td>\n",
      "     <td class=\"number_1\">\n",
      "      436.76\n",
      "     </td>\n",
      "     <td class=\"rate_down\" style=\"padding-right:35px;\">\n",
      "      <img alt=\"상승\" height=\"6\" src=\"https://ssl.pstatic.net/imgstock/images/images4/ico_up.gif\" style=\"margin-right:4px;\" width=\"7\"/>\n",
      "      <span class=\"tah p11 red02\">\n",
      "       3.19\n",
      "      </span>\n",
      "     </td>\n",
      "     <td class=\"number_1\">\n",
      "      <span class=\"tah p11 red01\">\n",
      "       +0.74%\n",
      "      </span>\n",
      "     </td>\n",
      "     <td class=\"number_1\" style=\"padding-right:40px;\">\n",
      "      152,535\n",
      "     </td>\n",
      "     <td class=\"number_1\" style=\"padding-right:30px;\">\n",
      "      9,160,067\n",
      "     </td>\n",
      "    </tr>\n",
      "    <tr>\n",
      "     <td class=\"blank_09\" colspan=\"6\">\n",
      "     </td>\n",
      "    </tr>\n",
      "    <tr>\n",
      "     <td class=\"division_line\" colspan=\"6\">\n",
      "     </td>\n",
      "    </tr>\n",
      "   </table>\n",
      "   <!--- 페이지 네비게이션 시작--->\n",
      "   <table align=\"center\" class=\"Nnavi\" summary=\"페이지 네비게이션 리스트\">\n",
      "    <caption>\n",
      "     페이지 네비게이션\n",
      "    </caption>\n",
      "    <tr>\n",
      "     <td class=\"on\">\n",
      "      <a href=\"/sise/sise_index_day.nhn?code=KPI200&amp;page=1\">\n",
      "       1\n",
      "      </a>\n",
      "     </td>\n",
      "     <td>\n",
      "      <a href=\"/sise/sise_index_day.nhn?code=KPI200&amp;page=2\">\n",
      "       2\n",
      "      </a>\n",
      "     </td>\n",
      "     <td>\n",
      "      <a href=\"/sise/sise_index_day.nhn?code=KPI200&amp;page=3\">\n",
      "       3\n",
      "      </a>\n",
      "     </td>\n",
      "     <td>\n",
      "      <a href=\"/sise/sise_index_day.nhn?code=KPI200&amp;page=4\">\n",
      "       4\n",
      "      </a>\n",
      "     </td>\n",
      "     <td>\n",
      "      <a href=\"/sise/sise_index_day.nhn?code=KPI200&amp;page=5\">\n",
      "       5\n",
      "      </a>\n",
      "     </td>\n",
      "     <td>\n",
      "      <a href=\"/sise/sise_index_day.nhn?code=KPI200&amp;page=6\">\n",
      "       6\n",
      "      </a>\n",
      "     </td>\n",
      "     <td>\n",
      "      <a href=\"/sise/sise_index_day.nhn?code=KPI200&amp;page=7\">\n",
      "       7\n",
      "      </a>\n",
      "     </td>\n",
      "     <td>\n",
      "      <a href=\"/sise/sise_index_day.nhn?code=KPI200&amp;page=8\">\n",
      "       8\n",
      "      </a>\n",
      "     </td>\n",
      "     <td>\n",
      "      <a href=\"/sise/sise_index_day.nhn?code=KPI200&amp;page=9\">\n",
      "       9\n",
      "      </a>\n",
      "     </td>\n",
      "     <td>\n",
      "      <a href=\"/sise/sise_index_day.nhn?code=KPI200&amp;page=10\">\n",
      "       10\n",
      "      </a>\n",
      "     </td>\n",
      "     <td class=\"pgR\">\n",
      "      <a href=\"/sise/sise_index_day.nhn?code=KPI200&amp;page=11\">\n",
      "       다음\n",
      "       <img alt=\"\" border=\"0\" height=\"5\" src=\"https://ssl.pstatic.net/static/n/cmn/bu_pgarR.gif\" width=\"3\"/>\n",
      "      </a>\n",
      "     </td>\n",
      "     <td class=\"pgRR\">\n",
      "      <a href=\"/sise/sise_index_day.nhn?code=KPI200&amp;page=641\">\n",
      "       맨뒤\n",
      "       <img alt=\"\" border=\"0\" height=\"5\" src=\"https://ssl.pstatic.net/static/n/cmn/bu_pgarRR.gif\" width=\"8\"/>\n",
      "      </a>\n",
      "     </td>\n",
      "    </tr>\n",
      "   </table>\n",
      "   <!--- 페이지 네비게이션 끝--->\n",
      "  </div>\n",
      "  <!-- //일별시세 -->\n",
      "  <script type=\"text/javascript\">\n",
      "   ;(function(){\n",
      "        var eventType = \"onpageshow\" in window ? \"pageshow\" : \"load\";\n",
      "        jindo.$Fn(function(){\n",
      "            lcs_do();\n",
      "        }).attach(window, eventType);\n",
      "    })();\n",
      "  </script>\n",
      " </body>\n",
      "</html>\n"
     ]
    }
   ],
   "source": [
    "print(source.prettify())"
   ]
  },
  {
   "cell_type": "code",
   "execution_count": 5,
   "metadata": {},
   "outputs": [
    {
     "data": {
      "text/plain": [
       "54"
      ]
     },
     "execution_count": 5,
     "metadata": {},
     "output_type": "execute_result"
    }
   ],
   "source": [
    "td = source.find_all('td')\n",
    "len(td)"
   ]
  },
  {
   "cell_type": "markdown",
   "metadata": {},
   "source": [
    "날짜 추출"
   ]
  },
  {
   "cell_type": "code",
   "execution_count": 6,
   "metadata": {},
   "outputs": [
    {
     "data": {
      "text/plain": [
       "<td class=\"date\">2021.07.22</td>"
      ]
     },
     "execution_count": 6,
     "metadata": {},
     "output_type": "execute_result"
    }
   ],
   "source": [
    "# /html/body/div/table[1]/tbody/tr[3]/td[1]\n",
    "source.find_all('table')[0].find_all('tr')[2].find_all('td')[0]\n"
   ]
  },
  {
   "cell_type": "code",
   "execution_count": 7,
   "metadata": {},
   "outputs": [
    {
     "data": {
      "text/plain": [
       "'2021.07.22'"
      ]
     },
     "execution_count": 7,
     "metadata": {},
     "output_type": "execute_result"
    }
   ],
   "source": [
    "d = source.find_all('td', class_='date')[0].text\n",
    "d"
   ]
  },
  {
   "cell_type": "code",
   "execution_count": 8,
   "metadata": {},
   "outputs": [],
   "source": [
    "import datetime as dt"
   ]
  },
  {
   "cell_type": "code",
   "execution_count": 9,
   "metadata": {},
   "outputs": [
    {
     "data": {
      "text/plain": [
       "datetime.date(2021, 7, 22)"
      ]
     },
     "execution_count": 9,
     "metadata": {},
     "output_type": "execute_result"
    }
   ],
   "source": [
    "yyyy = int(d.split('.')[0]) \n",
    "mm = int(d.split('.')[1])\n",
    "dd = int(d.split('.')[2])\n",
    "\n",
    "this_date= dt.date(yyyy, mm, dd)\n",
    "this_date"
   ]
  },
  {
   "cell_type": "markdown",
   "metadata": {},
   "source": [
    "날짜정보를  date 타입으로 변경하는 함수 정의"
   ]
  },
  {
   "cell_type": "code",
   "execution_count": 10,
   "metadata": {},
   "outputs": [],
   "source": [
    "def date_format(d):\n",
    "    d = str(d).replace('-', '.')\n",
    "    \n",
    "    yyyy = int(d.split('.')[0]) \n",
    "    mm = int(d.split('.')[1])\n",
    "    dd = int(d.split('.')[2])\n",
    "\n",
    "    this_date= dt.date(yyyy, mm, dd)\n",
    "    return this_date"
   ]
  },
  {
   "cell_type": "markdown",
   "metadata": {},
   "source": [
    "종가 추출"
   ]
  },
  {
   "cell_type": "code",
   "execution_count": 11,
   "metadata": {},
   "outputs": [],
   "source": [
    "# /html/body/div/table[1]/tbody/tr[3]/td[2]"
   ]
  },
  {
   "cell_type": "code",
   "execution_count": 12,
   "metadata": {},
   "outputs": [
    {
     "data": {
      "text/plain": [
       "431.38"
      ]
     },
     "execution_count": 12,
     "metadata": {},
     "output_type": "execute_result"
    }
   ],
   "source": [
    "this_close = source.find_all('tr')[2].find_all('td')[1].text\n",
    "this_close = this_close.replace(',', '')\n",
    "this_close = float(this_close)\n",
    "this_close"
   ]
  },
  {
   "cell_type": "code",
   "execution_count": 13,
   "metadata": {},
   "outputs": [
    {
     "data": {
      "text/plain": [
       "'431.38'"
      ]
     },
     "execution_count": 13,
     "metadata": {},
     "output_type": "execute_result"
    }
   ],
   "source": [
    "p = source.find_all('td', class_='number_1')[0].text\n",
    "p"
   ]
  },
  {
   "cell_type": "markdown",
   "metadata": {},
   "source": [
    "페이지 상의 날짜와 종가정보 전체 추출"
   ]
  },
  {
   "cell_type": "code",
   "execution_count": 14,
   "metadata": {},
   "outputs": [],
   "source": [
    "dates = source.find_all('td', class_='date')\n",
    "prices = source.find_all('td', class_='number_1')"
   ]
  },
  {
   "cell_type": "code",
   "execution_count": 15,
   "metadata": {},
   "outputs": [
    {
     "data": {
      "text/plain": [
       "6"
      ]
     },
     "execution_count": 15,
     "metadata": {},
     "output_type": "execute_result"
    }
   ],
   "source": [
    "len(dates)"
   ]
  },
  {
   "cell_type": "code",
   "execution_count": 16,
   "metadata": {},
   "outputs": [
    {
     "data": {
      "text/plain": [
       "24"
      ]
     },
     "execution_count": 16,
     "metadata": {},
     "output_type": "execute_result"
    }
   ],
   "source": [
    "len(prices)"
   ]
  },
  {
   "cell_type": "code",
   "execution_count": 17,
   "metadata": {},
   "outputs": [
    {
     "name": "stdout",
     "output_type": "stream",
     "text": [
      "2021-07-22 431.38\n",
      "2021-07-21 426.0\n",
      "2021-07-20 428.55\n",
      "2021-07-19 429.89\n",
      "2021-07-16 434.82\n",
      "2021-07-15 436.76\n"
     ]
    }
   ],
   "source": [
    "for n in range(len(dates)):\n",
    "    this_date = dates[n].text\n",
    "    this_date = date_format(this_date)\n",
    "    \n",
    "    this_close = prices[n*4].text   \n",
    "    # 0, 4, 8, ... 4의 배수로 돌아가는 가격 추출\n",
    "    this_close = this_close.replace(',', '')\n",
    "    this_close = float(this_close)\n",
    "    this_close\n",
    "    \n",
    "    print(this_date, this_close)"
   ]
  },
  {
   "cell_type": "markdown",
   "metadata": {},
   "source": [
    "마지막 페이지 번호 찾기"
   ]
  },
  {
   "cell_type": "code",
   "execution_count": 18,
   "metadata": {},
   "outputs": [],
   "source": [
    "# /html/body/div/table[2]/tbody/tr/td[7]/a"
   ]
  },
  {
   "cell_type": "code",
   "execution_count": 19,
   "metadata": {
    "scrolled": true
   },
   "outputs": [
    {
     "data": {
      "text/plain": [
       "'/sise/sise_index_day.nhn?code=KPI200&page=641'"
      ]
     },
     "execution_count": 19,
     "metadata": {},
     "output_type": "execute_result"
    }
   ],
   "source": [
    "paging = source.find('td', class_='pgRR').find('a')['href']\n",
    "paging"
   ]
  },
  {
   "cell_type": "code",
   "execution_count": 20,
   "metadata": {},
   "outputs": [
    {
     "data": {
      "text/plain": [
       "'page=641'"
      ]
     },
     "execution_count": 20,
     "metadata": {},
     "output_type": "execute_result"
    }
   ],
   "source": [
    "paging = paging.split('&')[1]\n",
    "paging"
   ]
  },
  {
   "cell_type": "code",
   "execution_count": 21,
   "metadata": {},
   "outputs": [
    {
     "data": {
      "text/plain": [
       "'641'"
      ]
     },
     "execution_count": 21,
     "metadata": {},
     "output_type": "execute_result"
    }
   ],
   "source": [
    "paging = paging.split('=')[1]\n",
    "paging"
   ]
  },
  {
   "cell_type": "code",
   "execution_count": 22,
   "metadata": {},
   "outputs": [],
   "source": [
    "naver_index = 'http://finance.naver.com/sise/sise_index_day.nhn?code=' + index_cd + '&page=' + str(505)\n",
    "\n",
    "source = urlopen(naver_index).read()\n",
    "source = bs4.BeautifulSoup(source, 'lxml')\n",
    "\n",
    "if source.find('td', class_='pgRR'):\n",
    "    last_page = source.find('td', class_='pgRR').find('a')['href']\n",
    "    last_page = last_page.split('&')[1]\n",
    "    last_page = last_page.split('=')[1]\n",
    "    last_page = int(last_page)"
   ]
  },
  {
   "cell_type": "code",
   "execution_count": 23,
   "metadata": {},
   "outputs": [],
   "source": [
    "def historical_index_naver(index_cd, page_n=1, last_page=0):   \n",
    "        \n",
    "    naver_index = 'http://finance.naver.com/sise/sise_index_day.nhn?code=' + index_cd + '&page=' + str(page_n)\n",
    "    \n",
    "    source = urlopen(naver_index).read()   # 지정한 페이지에서 코드 읽기\n",
    "    source = bs4.BeautifulSoup(source, 'lxml')   # 뷰티풀 스프로 태그별로 코드 분류\n",
    "    \n",
    "    dates = source.find_all('td', class_='date')   # <td class=\"date\">태그에서 날짜 수집   \n",
    "    prices = source.find_all('td', class_='number_1')   # <td class=\"number_1\">태그에서 지수 수집\n",
    "    \n",
    "    for n in range(len(dates)):\n",
    "    \n",
    "        if dates[n].text.split('.')[0].isdigit():\n",
    "            \n",
    "            # 날짜 처리\n",
    "            this_date = dates[n].text\n",
    "            this_date= date_format(this_date)\n",
    "            \n",
    "            # 종가 처리\n",
    "            this_close = prices[n*4].text   # prices 중 종가지수인 0,4,8,...번째 데이터 추출\n",
    "            this_close = this_close.replace(',', '')\n",
    "            this_close = float(this_close)\n",
    "\n",
    "            # 딕셔너리에 저장\n",
    "            historical_prices[this_date] = this_close\n",
    "            \n",
    "    # 페이지 네비게이션\n",
    "    if last_page == 0:\n",
    "        last_page = source.find('td', class_='pgRR').find('a')['href']\n",
    "        # 마지막페이지 주소 추출\n",
    "        last_page = last_page.split('&')[1]   # & 뒤의 page=506 부분 추출\n",
    "        last_page = last_page.split('=')[1]   # = 뒤의 페이지번호만 추출\n",
    "        last_page = int(last_page)   # 숫자형 변수로 변환\n",
    "        \n",
    "    # 다음 페이지 호출\n",
    "    if page_n < last_page:   \n",
    "        page_n = page_n + 1   \n",
    "        historical_index_naver(index_cd, start_date, end_date, page_n, last_page)   \n",
    "        \n",
    "    return historical_prices  "
   ]
  },
  {
   "cell_type": "markdown",
   "metadata": {},
   "source": [
    "네이버에서 일자별 인덱스를 추출하는 함수 정의"
   ]
  },
  {
   "cell_type": "code",
   "execution_count": 24,
   "metadata": {},
   "outputs": [],
   "source": [
    "def historical_index_naver(index_cd, start_date='', end_date='', page_n=1, last_page=0):\n",
    "    \n",
    "    if start_date:   # start_date가 있으면\n",
    "        start_date = date_format(start_date)   # date 포맷으로 변환\n",
    "    else:    # 없으면\n",
    "        start_date = dt.date.today()   # 오늘 날짜를 지정\n",
    "    if end_date:   \n",
    "        end_date = date_format(end_date)   \n",
    "    else:   \n",
    "        end_date = dt.date.today()  \n",
    "        \n",
    "        \n",
    "    naver_index = 'http://finance.naver.com/sise/sise_index_day.nhn?code=' + index_cd + '&page=' + str(page_n)\n",
    "    \n",
    "    source = urlopen(naver_index).read()   # 지정한 페이지에서 코드 읽기\n",
    "    source = bs4.BeautifulSoup(source, 'lxml')   # 뷰티풀 스프로 태그별로 코드 분류\n",
    "    \n",
    "    dates = source.find_all('td', class_='date')   # <td class=\"date\">태그에서 날짜 수집   \n",
    "    prices = source.find_all('td', class_='number_1')   # <td class=\"number_1\">태그에서 지수 수집\n",
    "    \n",
    "    for n in range(len(dates)):\n",
    "    \n",
    "        if dates[n].text.split('.')[0].isdigit():\n",
    "            \n",
    "            # 날짜 처리\n",
    "            this_date = dates[n].text\n",
    "            this_date= date_format(this_date)\n",
    "            \n",
    "            if this_date <= end_date and this_date >= start_date:   \n",
    "            # start_date와 end_date 사이에서 데이터 저장\n",
    "                # 종가 처리\n",
    "                this_close = prices[n*4].text   # prices 중 종가지수인 0,4,8,...번째 데이터 추출\n",
    "                this_close = this_close.replace(',', '')\n",
    "                this_close = float(this_close)\n",
    "\n",
    "                # 딕셔너리에 저장\n",
    "                historical_prices[this_date] = this_close\n",
    "                \n",
    "            elif this_date < start_date:   \n",
    "            # start_date 이전이면 함수 종료\n",
    "                return historical_prices              \n",
    "            \n",
    "    # 페이지 네비게이션\n",
    "    if last_page == 0:\n",
    "        last_page = source.find('td', class_='pgRR').find('a')['href']\n",
    "        # 마지막페이지 주소 추출\n",
    "        last_page = last_page.split('&')[1]   # & 뒤의 page=506 부분 추출\n",
    "        last_page = last_page.split('=')[1]   # = 뒤의 페이지번호만 추출\n",
    "        last_page = int(last_page)   # 숫자형 변수로 변환\n",
    "        \n",
    "    # 다음 페이지 호출\n",
    "    if page_n < last_page:   \n",
    "        page_n = page_n + 1   \n",
    "        historical_index_naver(index_cd, start_date, end_date, page_n, last_page)   \n",
    "        \n",
    "    return historical_prices  "
   ]
  },
  {
   "cell_type": "code",
   "execution_count": 25,
   "metadata": {
    "scrolled": true
   },
   "outputs": [
    {
     "data": {
      "text/plain": [
       "{datetime.date(2021, 4, 2): 423.74, datetime.date(2021, 4, 1): 419.42}"
      ]
     },
     "execution_count": 25,
     "metadata": {},
     "output_type": "execute_result"
    }
   ],
   "source": [
    "index_cd = 'KPI200'\n",
    "historical_prices = dict()\n",
    "historical_index_naver(index_cd, '2021-4-1', '2021-4-4')\n",
    "historical_prices"
   ]
  },
  {
   "cell_type": "markdown",
   "metadata": {},
   "source": [
    "# 다음에서 해외지수 추출 (다음 사이트 개편으로 네이버로 대체합니다)"
   ]
  },
  {
   "cell_type": "markdown",
   "metadata": {},
   "source": [
    "본 섹션의 내용은 다음 금융사이트 개편으로 사용이 불가해져, 네이버에서 해외지수 추출로 대체합니다."
   ]
  },
  {
   "cell_type": "raw",
   "metadata": {},
   "source": [
    "url = 'http://finance.daum.net/global/index_daily.daum?type=default&ric=/.GSPC&page=1' \n",
    "    \n",
    "source = urlopen(url).read()\n",
    "source = bs4.BeautifulSoup(source, 'lxml')"
   ]
  },
  {
   "cell_type": "raw",
   "metadata": {},
   "source": [
    "dates = source.find_all('td', class_='datetime')\n",
    "dates"
   ]
  },
  {
   "cell_type": "raw",
   "metadata": {},
   "source": [
    "prices = source.find_all('td', class_='num')\n",
    "print(len(dates))\n",
    "print(len(prices))"
   ]
  },
  {
   "cell_type": "raw",
   "metadata": {},
   "source": [
    "prices[0].text"
   ]
  },
  {
   "cell_type": "raw",
   "metadata": {},
   "source": [
    "def historical_global_daum(index_cd, start_date='', end_date='', page_n=1, last_page=0):\n",
    "    \n",
    "    if start_date:   # start_date가 있으면\n",
    "        start_date = date_format(start_date)   # date 포맷으로 변환\n",
    "    else:    # 없으면\n",
    "        start_date = dt.date.today()   # 오늘 날짜를 지정\n",
    "    if end_date:  \n",
    "        end_date = date_format(end_date)   \n",
    "    else:   \n",
    "        end_date = dt.date.today()  \n",
    "    \n",
    "    url = 'http://finance.daum.net/global/index_daily.daum?type=default&ric=/.' + index_cd + '&page=' + str(page_n)\n",
    "\n",
    "    source = urlopen(url).read()\n",
    "    source = bs4.BeautifulSoup(source, 'lxml')\n",
    "\n",
    "    dates = source.find_all('td', class_='datetime')   # <td class=\"datetime\">태그에서 날짜 수집\n",
    "    prices = source.find_all('td', class_='num')   # <td class=\"num\">태그에서 날짜 수집\n",
    "\n",
    "    rows_in_page = len(dates)\n",
    "\n",
    "    if len(dates) > 0:\n",
    "\n",
    "        for n in range(rows_in_page):\n",
    "\n",
    "            # 날짜 처리\n",
    "            this_date = dates[n].text\n",
    "            this_date= date_format(this_date)\n",
    "\n",
    "            if this_date <= end_date and this_date >= start_date:   \n",
    "            # start_date와 end_date 사이에서 데이터 저장\n",
    "                # 종가 처리\n",
    "                this_close = prices[n*3].text\n",
    "                this_close = this_close.replace(' ', '')\n",
    "                this_close = this_close.replace('\\t', '')\n",
    "                this_close = this_close.replace('\\n', '')\n",
    "                this_close = this_close.replace(',', '')\n",
    "                this_close = float(this_close)\n",
    "\n",
    "                # 딕셔너리에 저장\n",
    "                historical_prices[this_date] = this_close\n",
    "                \n",
    "            elif this_date < start_date:   \n",
    "            # start_date 이전이면 함수 종료\n",
    "                return historical_prices                         \n",
    "        # 페이지 네비게이션\n",
    "        if rows_in_page == 10:\n",
    "            page_n = int(page_n)\n",
    "            page_n = page_n + 1\n",
    "            \n",
    "            historical_global_daum(index_cd, start_date, end_date, page_n, last_page)\n",
    "            \n",
    "    return historical_prices  "
   ]
  },
  {
   "cell_type": "raw",
   "metadata": {},
   "source": [
    "historical_prices = dict()\n",
    "daum = historical_global_daum('GSPC', '2018-4-1', '2018-4-5')\n",
    "daum"
   ]
  },
  {
   "cell_type": "code",
   "execution_count": null,
   "metadata": {},
   "outputs": [],
   "source": []
  },
  {
   "cell_type": "markdown",
   "metadata": {},
   "source": [
    "# 네이버에서 해외지수 추출하기 (다음 해외지수 대체)"
   ]
  },
  {
   "cell_type": "code",
   "execution_count": 26,
   "metadata": {},
   "outputs": [],
   "source": [
    "import pandas as pd\n",
    "import requests, json   # 해외지수는 json 형태로 표출됨\n",
    "headers = {\n",
    "    'User-Agent': 'Mozilla/5.0',\n",
    "    'X-Requested-With': 'XMLHttpRequest',\n",
    "}"
   ]
  },
  {
   "cell_type": "code",
   "execution_count": 27,
   "metadata": {},
   "outputs": [],
   "source": [
    "symbol = 'SPI@SPX'\n",
    "page = 3"
   ]
  },
  {
   "cell_type": "code",
   "execution_count": 28,
   "metadata": {},
   "outputs": [],
   "source": [
    "url = 'https://finance.naver.com/world/worldDayListJson.nhn?symbol='+symbol+'&fdtc=0&page='+str(page)\n",
    "r = requests.post(url, headers=headers)\n",
    "data = json.loads(r.text)"
   ]
  },
  {
   "cell_type": "code",
   "execution_count": 29,
   "metadata": {},
   "outputs": [
    {
     "data": {
      "text/plain": [
       "{'symb': 'SPI@SPX',\n",
       " 'xymd': '20210623',\n",
       " 'open': 4249.27,\n",
       " 'high': 4256.6,\n",
       " 'low': 4241.43,\n",
       " 'clos': 4241.84,\n",
       " 'diff': -4.6,\n",
       " 'rate': -0.11,\n",
       " 'gvol': 1774854380}"
      ]
     },
     "execution_count": 29,
     "metadata": {},
     "output_type": "execute_result"
    }
   ],
   "source": [
    "data[0]"
   ]
  },
  {
   "cell_type": "code",
   "execution_count": 30,
   "metadata": {},
   "outputs": [
    {
     "data": {
      "text/plain": [
       "'SPI@SPX'"
      ]
     },
     "execution_count": 30,
     "metadata": {},
     "output_type": "execute_result"
    }
   ],
   "source": [
    "data[0]['symb']"
   ]
  },
  {
   "cell_type": "code",
   "execution_count": 31,
   "metadata": {},
   "outputs": [
    {
     "data": {
      "text/plain": [
       "'20210623'"
      ]
     },
     "execution_count": 31,
     "metadata": {},
     "output_type": "execute_result"
    }
   ],
   "source": [
    "data[0]['xymd']"
   ]
  },
  {
   "cell_type": "code",
   "execution_count": 32,
   "metadata": {},
   "outputs": [
    {
     "data": {
      "text/plain": [
       "4241.84"
      ]
     },
     "execution_count": 32,
     "metadata": {},
     "output_type": "execute_result"
    }
   ],
   "source": [
    "data[0]['clos']"
   ]
  },
  {
   "cell_type": "code",
   "execution_count": 33,
   "metadata": {},
   "outputs": [
    {
     "data": {
      "text/plain": [
       "10"
      ]
     },
     "execution_count": 33,
     "metadata": {},
     "output_type": "execute_result"
    }
   ],
   "source": [
    "len(data)"
   ]
  },
  {
   "cell_type": "code",
   "execution_count": 34,
   "metadata": {},
   "outputs": [
    {
     "name": "stdout",
     "output_type": "stream",
     "text": [
      "{datetime.date(2021, 6, 23): 4241.84, datetime.date(2021, 6, 22): 4246.44, datetime.date(2021, 6, 21): 4224.79, datetime.date(2021, 6, 18): 4166.45, datetime.date(2021, 6, 17): 4221.86, datetime.date(2021, 6, 16): 4223.7, datetime.date(2021, 6, 15): 4246.59, datetime.date(2021, 6, 14): 4255.15, datetime.date(2021, 6, 11): 4247.44, datetime.date(2021, 6, 10): 4239.18}\n"
     ]
    }
   ],
   "source": [
    "d = dict()\n",
    "for n in range(len(data)):\n",
    "    date = pd.to_datetime(data[n]['xymd']).date()\n",
    "    price = float(data[n]['clos'])\n",
    "    d[date] = price\n",
    "print(d)"
   ]
  },
  {
   "cell_type": "code",
   "execution_count": 35,
   "metadata": {},
   "outputs": [],
   "source": [
    "def read_json(d, symbol, page=1):\n",
    "    url = 'https://finance.naver.com/world/worldDayListJson.nhn?symbol='+symbol+'&fdtc=0&page='+str(page)\n",
    "    r = requests.post(url, headers=headers)\n",
    "    data = json.loads(r.text)\n",
    "    \n",
    "    for n in range(len(data)):\n",
    "        date = pd.to_datetime(data[n]['xymd']).date()\n",
    "        price = float(data[n]['clos'])\n",
    "        d[date] = price\n",
    "        \n",
    "    if len(data) >= 9 and page<3:\n",
    "        page += 1\n",
    "        read_json(d, symbol, page)\n",
    "        \n",
    "    return d"
   ]
  },
  {
   "cell_type": "code",
   "execution_count": 36,
   "metadata": {},
   "outputs": [],
   "source": [
    "historical_index = dict()\n",
    "historical_index = read_json(historical_index, symbol, page)"
   ]
  },
  {
   "cell_type": "code",
   "execution_count": 37,
   "metadata": {},
   "outputs": [
    {
     "data": {
      "text/plain": [
       "{datetime.date(2021, 6, 23): 4241.84,\n",
       " datetime.date(2021, 6, 22): 4246.44,\n",
       " datetime.date(2021, 6, 21): 4224.79,\n",
       " datetime.date(2021, 6, 18): 4166.45,\n",
       " datetime.date(2021, 6, 17): 4221.86,\n",
       " datetime.date(2021, 6, 16): 4223.7,\n",
       " datetime.date(2021, 6, 15): 4246.59,\n",
       " datetime.date(2021, 6, 14): 4255.15,\n",
       " datetime.date(2021, 6, 11): 4247.44,\n",
       " datetime.date(2021, 6, 10): 4239.18}"
      ]
     },
     "execution_count": 37,
     "metadata": {},
     "output_type": "execute_result"
    }
   ],
   "source": [
    "historical_index"
   ]
  },
  {
   "cell_type": "code",
   "execution_count": 38,
   "metadata": {},
   "outputs": [],
   "source": [
    "indices = {\n",
    "    'SPI@SPX' : 'S&P 500', \n",
    "    'NAS@NDX' : 'Nasdaq 100', \n",
    "    'NII@NI225' : 'Nikkei 225',\n",
    "}"
   ]
  },
  {
   "cell_type": "code",
   "execution_count": 39,
   "metadata": {},
   "outputs": [
    {
     "name": "stdout",
     "output_type": "stream",
     "text": [
      "SPI@SPX S&P 500\n",
      "NAS@NDX Nasdaq 100\n",
      "NII@NI225 Nikkei 225\n"
     ]
    }
   ],
   "source": [
    "historical_indices = dict()\n",
    "for key, value in indices.items(): \n",
    "    print (key, value)\n",
    "    s = dict()\n",
    "    s = read_json(s, key, 1)\n",
    "    historical_indices[value] = s    \n",
    "prices_df = pd.DataFrame(historical_indices)\n",
    "prices_df.sort_index(inplace=True)"
   ]
  },
  {
   "cell_type": "code",
   "execution_count": 40,
   "metadata": {},
   "outputs": [
    {
     "data": {
      "text/html": [
       "<div>\n",
       "<style scoped>\n",
       "    .dataframe tbody tr th:only-of-type {\n",
       "        vertical-align: middle;\n",
       "    }\n",
       "\n",
       "    .dataframe tbody tr th {\n",
       "        vertical-align: top;\n",
       "    }\n",
       "\n",
       "    .dataframe thead th {\n",
       "        text-align: right;\n",
       "    }\n",
       "</style>\n",
       "<table border=\"1\" class=\"dataframe\">\n",
       "  <thead>\n",
       "    <tr style=\"text-align: right;\">\n",
       "      <th></th>\n",
       "      <th>S&amp;P 500</th>\n",
       "      <th>Nasdaq 100</th>\n",
       "      <th>Nikkei 225</th>\n",
       "    </tr>\n",
       "  </thead>\n",
       "  <tbody>\n",
       "    <tr>\n",
       "      <th>2021-07-19</th>\n",
       "      <td>4258.49</td>\n",
       "      <td>14549.09</td>\n",
       "      <td>27652.74</td>\n",
       "    </tr>\n",
       "    <tr>\n",
       "      <th>2021-07-20</th>\n",
       "      <td>4323.06</td>\n",
       "      <td>14728.21</td>\n",
       "      <td>27388.16</td>\n",
       "    </tr>\n",
       "    <tr>\n",
       "      <th>2021-07-21</th>\n",
       "      <td>4358.69</td>\n",
       "      <td>14842.63</td>\n",
       "      <td>27548.00</td>\n",
       "    </tr>\n",
       "  </tbody>\n",
       "</table>\n",
       "</div>"
      ],
      "text/plain": [
       "            S&P 500  Nasdaq 100  Nikkei 225\n",
       "2021-07-19  4258.49    14549.09    27652.74\n",
       "2021-07-20  4323.06    14728.21    27388.16\n",
       "2021-07-21  4358.69    14842.63    27548.00"
      ]
     },
     "execution_count": 40,
     "metadata": {},
     "output_type": "execute_result"
    }
   ],
   "source": [
    "prices_df.tail(3)"
   ]
  },
  {
   "cell_type": "code",
   "execution_count": 41,
   "metadata": {},
   "outputs": [],
   "source": [
    "def date_format(d=''):\n",
    "    if d != '':\n",
    "        this_date = pd.to_datetime(d).date()\n",
    "    else:\n",
    "        this_date = pd.Timestamp.today().date()   # 오늘 날짜를 지정\n",
    "    return (this_date)"
   ]
  },
  {
   "cell_type": "code",
   "execution_count": 42,
   "metadata": {},
   "outputs": [],
   "source": [
    "def index_global(d, symbol, start_date='', end_date='', page=1):\n",
    "\n",
    "    end_date = date_format(end_date)\n",
    "    if start_date == '':\n",
    "        start_date = end_date - pd.DateOffset(months=1)\n",
    "    start_date = date_format(start_date)\n",
    "        \n",
    "    url = 'https://finance.naver.com/world/worldDayListJson.nhn?symbol='+symbol+'&fdtc=0&page='+str(page)\n",
    "    r = requests.post(url, headers=headers)\n",
    "    data = json.loads(r.text)\n",
    "    \n",
    "    if len(data) > 0:\n",
    "        \n",
    "        for n in range(len(data)):\n",
    "            date = pd.to_datetime(data[n]['xymd']).date()\n",
    "\n",
    "            if date <= end_date and date >= start_date:   \n",
    "            # start_date와 end_date 사이에서 데이터 저장\n",
    "                # 종가 처리\n",
    "                price = float(data[n]['clos'])\n",
    "                # 딕셔너리에 저장\n",
    "                d[date] = price\n",
    "            elif date < start_date:   \n",
    "            # start_date 이전이면 함수 종료\n",
    "                return d              \n",
    "\n",
    "        if len(data) >= 9:\n",
    "            page += 1\n",
    "            index_global(d, symbol, start_date, end_date, page)\n",
    "        \n",
    "    return d"
   ]
  },
  {
   "cell_type": "code",
   "execution_count": 43,
   "metadata": {},
   "outputs": [],
   "source": [
    "historical_indices = dict()\n",
    "start_date = '2021-01-01'\n",
    "end_date = '2021-3-31'\n",
    "for key, value in indices.items(): \n",
    "    s = dict()\n",
    "    s = index_global(s, key, start_date, end_date)\n",
    "    historical_indices[value] = s    \n",
    "prices_df = pd.DataFrame(historical_indices)"
   ]
  },
  {
   "cell_type": "code",
   "execution_count": 44,
   "metadata": {
    "scrolled": true
   },
   "outputs": [
    {
     "data": {
      "text/html": [
       "<div>\n",
       "<style scoped>\n",
       "    .dataframe tbody tr th:only-of-type {\n",
       "        vertical-align: middle;\n",
       "    }\n",
       "\n",
       "    .dataframe tbody tr th {\n",
       "        vertical-align: top;\n",
       "    }\n",
       "\n",
       "    .dataframe thead th {\n",
       "        text-align: right;\n",
       "    }\n",
       "</style>\n",
       "<table border=\"1\" class=\"dataframe\">\n",
       "  <thead>\n",
       "    <tr style=\"text-align: right;\">\n",
       "      <th></th>\n",
       "      <th>S&amp;P 500</th>\n",
       "      <th>Nasdaq 100</th>\n",
       "      <th>Nikkei 225</th>\n",
       "    </tr>\n",
       "  </thead>\n",
       "  <tbody>\n",
       "    <tr>\n",
       "      <th>2021-03-31</th>\n",
       "      <td>3972.89</td>\n",
       "      <td>13091.44</td>\n",
       "      <td>29178.80</td>\n",
       "    </tr>\n",
       "    <tr>\n",
       "      <th>2021-03-30</th>\n",
       "      <td>3958.55</td>\n",
       "      <td>12896.53</td>\n",
       "      <td>29432.70</td>\n",
       "    </tr>\n",
       "    <tr>\n",
       "      <th>2021-03-29</th>\n",
       "      <td>3971.09</td>\n",
       "      <td>12965.74</td>\n",
       "      <td>29384.52</td>\n",
       "    </tr>\n",
       "    <tr>\n",
       "      <th>2021-03-26</th>\n",
       "      <td>3974.54</td>\n",
       "      <td>12979.12</td>\n",
       "      <td>29176.70</td>\n",
       "    </tr>\n",
       "    <tr>\n",
       "      <th>2021-03-25</th>\n",
       "      <td>3909.52</td>\n",
       "      <td>12780.51</td>\n",
       "      <td>28729.88</td>\n",
       "    </tr>\n",
       "    <tr>\n",
       "      <th>2021-03-24</th>\n",
       "      <td>3889.14</td>\n",
       "      <td>12798.88</td>\n",
       "      <td>28405.52</td>\n",
       "    </tr>\n",
       "    <tr>\n",
       "      <th>2021-03-23</th>\n",
       "      <td>3910.52</td>\n",
       "      <td>13017.79</td>\n",
       "      <td>28995.92</td>\n",
       "    </tr>\n",
       "    <tr>\n",
       "      <th>2021-03-22</th>\n",
       "      <td>3940.59</td>\n",
       "      <td>13086.51</td>\n",
       "      <td>29174.15</td>\n",
       "    </tr>\n",
       "    <tr>\n",
       "      <th>2021-03-19</th>\n",
       "      <td>3913.10</td>\n",
       "      <td>12866.99</td>\n",
       "      <td>29792.05</td>\n",
       "    </tr>\n",
       "    <tr>\n",
       "      <th>2021-03-18</th>\n",
       "      <td>3915.46</td>\n",
       "      <td>12789.14</td>\n",
       "      <td>30216.75</td>\n",
       "    </tr>\n",
       "    <tr>\n",
       "      <th>2021-03-17</th>\n",
       "      <td>3974.12</td>\n",
       "      <td>13202.38</td>\n",
       "      <td>29914.33</td>\n",
       "    </tr>\n",
       "    <tr>\n",
       "      <th>2021-03-16</th>\n",
       "      <td>3962.71</td>\n",
       "      <td>13152.28</td>\n",
       "      <td>29921.09</td>\n",
       "    </tr>\n",
       "    <tr>\n",
       "      <th>2021-03-15</th>\n",
       "      <td>3968.94</td>\n",
       "      <td>13082.54</td>\n",
       "      <td>29766.97</td>\n",
       "    </tr>\n",
       "    <tr>\n",
       "      <th>2021-03-12</th>\n",
       "      <td>3943.34</td>\n",
       "      <td>12937.29</td>\n",
       "      <td>29717.83</td>\n",
       "    </tr>\n",
       "    <tr>\n",
       "      <th>2021-03-11</th>\n",
       "      <td>3939.34</td>\n",
       "      <td>13052.90</td>\n",
       "      <td>29211.64</td>\n",
       "    </tr>\n",
       "    <tr>\n",
       "      <th>2021-03-10</th>\n",
       "      <td>3898.81</td>\n",
       "      <td>12752.07</td>\n",
       "      <td>29036.56</td>\n",
       "    </tr>\n",
       "    <tr>\n",
       "      <th>2021-03-09</th>\n",
       "      <td>3875.44</td>\n",
       "      <td>12794.49</td>\n",
       "      <td>29027.94</td>\n",
       "    </tr>\n",
       "    <tr>\n",
       "      <th>2021-03-08</th>\n",
       "      <td>3821.35</td>\n",
       "      <td>12299.08</td>\n",
       "      <td>28743.25</td>\n",
       "    </tr>\n",
       "    <tr>\n",
       "      <th>2021-03-05</th>\n",
       "      <td>3841.94</td>\n",
       "      <td>12668.51</td>\n",
       "      <td>28864.32</td>\n",
       "    </tr>\n",
       "    <tr>\n",
       "      <th>2021-03-04</th>\n",
       "      <td>3768.47</td>\n",
       "      <td>12464.00</td>\n",
       "      <td>28930.11</td>\n",
       "    </tr>\n",
       "    <tr>\n",
       "      <th>2021-03-03</th>\n",
       "      <td>3819.72</td>\n",
       "      <td>12683.33</td>\n",
       "      <td>29559.10</td>\n",
       "    </tr>\n",
       "    <tr>\n",
       "      <th>2021-03-02</th>\n",
       "      <td>3870.29</td>\n",
       "      <td>13059.95</td>\n",
       "      <td>29408.17</td>\n",
       "    </tr>\n",
       "    <tr>\n",
       "      <th>2021-03-01</th>\n",
       "      <td>3901.82</td>\n",
       "      <td>13282.95</td>\n",
       "      <td>29663.50</td>\n",
       "    </tr>\n",
       "    <tr>\n",
       "      <th>2021-02-26</th>\n",
       "      <td>3811.15</td>\n",
       "      <td>12909.44</td>\n",
       "      <td>28966.01</td>\n",
       "    </tr>\n",
       "    <tr>\n",
       "      <th>2021-02-25</th>\n",
       "      <td>3829.34</td>\n",
       "      <td>12828.31</td>\n",
       "      <td>30168.27</td>\n",
       "    </tr>\n",
       "    <tr>\n",
       "      <th>2021-02-24</th>\n",
       "      <td>3925.43</td>\n",
       "      <td>13302.19</td>\n",
       "      <td>29671.70</td>\n",
       "    </tr>\n",
       "    <tr>\n",
       "      <th>2021-02-23</th>\n",
       "      <td>3881.37</td>\n",
       "      <td>13194.71</td>\n",
       "      <td>NaN</td>\n",
       "    </tr>\n",
       "    <tr>\n",
       "      <th>2021-02-22</th>\n",
       "      <td>3876.50</td>\n",
       "      <td>13223.74</td>\n",
       "      <td>30156.03</td>\n",
       "    </tr>\n",
       "    <tr>\n",
       "      <th>2021-02-19</th>\n",
       "      <td>3906.71</td>\n",
       "      <td>13580.78</td>\n",
       "      <td>30017.92</td>\n",
       "    </tr>\n",
       "    <tr>\n",
       "      <th>2021-02-18</th>\n",
       "      <td>3913.97</td>\n",
       "      <td>13637.51</td>\n",
       "      <td>30236.09</td>\n",
       "    </tr>\n",
       "  </tbody>\n",
       "</table>\n",
       "</div>"
      ],
      "text/plain": [
       "            S&P 500  Nasdaq 100  Nikkei 225\n",
       "2021-03-31  3972.89    13091.44    29178.80\n",
       "2021-03-30  3958.55    12896.53    29432.70\n",
       "2021-03-29  3971.09    12965.74    29384.52\n",
       "2021-03-26  3974.54    12979.12    29176.70\n",
       "2021-03-25  3909.52    12780.51    28729.88\n",
       "2021-03-24  3889.14    12798.88    28405.52\n",
       "2021-03-23  3910.52    13017.79    28995.92\n",
       "2021-03-22  3940.59    13086.51    29174.15\n",
       "2021-03-19  3913.10    12866.99    29792.05\n",
       "2021-03-18  3915.46    12789.14    30216.75\n",
       "2021-03-17  3974.12    13202.38    29914.33\n",
       "2021-03-16  3962.71    13152.28    29921.09\n",
       "2021-03-15  3968.94    13082.54    29766.97\n",
       "2021-03-12  3943.34    12937.29    29717.83\n",
       "2021-03-11  3939.34    13052.90    29211.64\n",
       "2021-03-10  3898.81    12752.07    29036.56\n",
       "2021-03-09  3875.44    12794.49    29027.94\n",
       "2021-03-08  3821.35    12299.08    28743.25\n",
       "2021-03-05  3841.94    12668.51    28864.32\n",
       "2021-03-04  3768.47    12464.00    28930.11\n",
       "2021-03-03  3819.72    12683.33    29559.10\n",
       "2021-03-02  3870.29    13059.95    29408.17\n",
       "2021-03-01  3901.82    13282.95    29663.50\n",
       "2021-02-26  3811.15    12909.44    28966.01\n",
       "2021-02-25  3829.34    12828.31    30168.27\n",
       "2021-02-24  3925.43    13302.19    29671.70\n",
       "2021-02-23  3881.37    13194.71         NaN\n",
       "2021-02-22  3876.50    13223.74    30156.03\n",
       "2021-02-19  3906.71    13580.78    30017.92\n",
       "2021-02-18  3913.97    13637.51    30236.09"
      ]
     },
     "execution_count": 44,
     "metadata": {},
     "output_type": "execute_result"
    }
   ],
   "source": [
    "prices_df[:30]"
   ]
  },
  {
   "cell_type": "code",
   "execution_count": null,
   "metadata": {},
   "outputs": [],
   "source": []
  },
  {
   "cell_type": "markdown",
   "metadata": {},
   "source": [
    "# 만들어둔 함수를 이용해 KOSPI200과 S&P500 지수 추출"
   ]
  },
  {
   "cell_type": "code",
   "execution_count": 45,
   "metadata": {},
   "outputs": [],
   "source": [
    "index_cd = 'KPI200'\n",
    "historical_prices = dict()\n",
    "kospi200 = historical_index_naver(index_cd, '2020-1-1', '2020-12-31')"
   ]
  },
  {
   "cell_type": "code",
   "execution_count": 46,
   "metadata": {},
   "outputs": [],
   "source": [
    "index_cd = 'SPI@SPX'\n",
    "historical_prices = dict()\n",
    "sp500 = index_global(historical_prices, index_cd, '2020-1-1', '2020-12-31')    # 대체 코드\n",
    "# sp500 = historical_global_daum(index_cd, '2017-1-1', '2017-12-31')    # 이전 코드"
   ]
  },
  {
   "cell_type": "code",
   "execution_count": 47,
   "metadata": {},
   "outputs": [],
   "source": [
    "tmp = {'S&P500':sp500, 'KOSPI200':kospi200}"
   ]
  },
  {
   "cell_type": "code",
   "execution_count": 48,
   "metadata": {},
   "outputs": [],
   "source": [
    "import pandas as pd"
   ]
  },
  {
   "cell_type": "code",
   "execution_count": 49,
   "metadata": {
    "scrolled": true
   },
   "outputs": [
    {
     "data": {
      "text/html": [
       "<div>\n",
       "<style scoped>\n",
       "    .dataframe tbody tr th:only-of-type {\n",
       "        vertical-align: middle;\n",
       "    }\n",
       "\n",
       "    .dataframe tbody tr th {\n",
       "        vertical-align: top;\n",
       "    }\n",
       "\n",
       "    .dataframe thead th {\n",
       "        text-align: right;\n",
       "    }\n",
       "</style>\n",
       "<table border=\"1\" class=\"dataframe\">\n",
       "  <thead>\n",
       "    <tr style=\"text-align: right;\">\n",
       "      <th></th>\n",
       "      <th>S&amp;P500</th>\n",
       "      <th>KOSPI200</th>\n",
       "    </tr>\n",
       "  </thead>\n",
       "  <tbody>\n",
       "    <tr>\n",
       "      <th>2020-01-02</th>\n",
       "      <td>3257.85</td>\n",
       "      <td>290.35</td>\n",
       "    </tr>\n",
       "    <tr>\n",
       "      <th>2020-01-03</th>\n",
       "      <td>3234.85</td>\n",
       "      <td>290.74</td>\n",
       "    </tr>\n",
       "    <tr>\n",
       "      <th>2020-01-06</th>\n",
       "      <td>3246.28</td>\n",
       "      <td>288.43</td>\n",
       "    </tr>\n",
       "    <tr>\n",
       "      <th>2020-01-07</th>\n",
       "      <td>3237.18</td>\n",
       "      <td>291.23</td>\n",
       "    </tr>\n",
       "    <tr>\n",
       "      <th>2020-01-08</th>\n",
       "      <td>3253.05</td>\n",
       "      <td>289.42</td>\n",
       "    </tr>\n",
       "    <tr>\n",
       "      <th>...</th>\n",
       "      <td>...</td>\n",
       "      <td>...</td>\n",
       "    </tr>\n",
       "    <tr>\n",
       "      <th>2020-12-24</th>\n",
       "      <td>3703.06</td>\n",
       "      <td>379.18</td>\n",
       "    </tr>\n",
       "    <tr>\n",
       "      <th>2020-12-28</th>\n",
       "      <td>3735.36</td>\n",
       "      <td>379.93</td>\n",
       "    </tr>\n",
       "    <tr>\n",
       "      <th>2020-12-29</th>\n",
       "      <td>3727.04</td>\n",
       "      <td>381.27</td>\n",
       "    </tr>\n",
       "    <tr>\n",
       "      <th>2020-12-30</th>\n",
       "      <td>3732.04</td>\n",
       "      <td>389.29</td>\n",
       "    </tr>\n",
       "    <tr>\n",
       "      <th>2020-12-31</th>\n",
       "      <td>3756.07</td>\n",
       "      <td>NaN</td>\n",
       "    </tr>\n",
       "  </tbody>\n",
       "</table>\n",
       "<p>260 rows × 2 columns</p>\n",
       "</div>"
      ],
      "text/plain": [
       "             S&P500  KOSPI200\n",
       "2020-01-02  3257.85    290.35\n",
       "2020-01-03  3234.85    290.74\n",
       "2020-01-06  3246.28    288.43\n",
       "2020-01-07  3237.18    291.23\n",
       "2020-01-08  3253.05    289.42\n",
       "...             ...       ...\n",
       "2020-12-24  3703.06    379.18\n",
       "2020-12-28  3735.36    379.93\n",
       "2020-12-29  3727.04    381.27\n",
       "2020-12-30  3732.04    389.29\n",
       "2020-12-31  3756.07       NaN\n",
       "\n",
       "[260 rows x 2 columns]"
      ]
     },
     "execution_count": 49,
     "metadata": {},
     "output_type": "execute_result"
    }
   ],
   "source": [
    "df = pd.DataFrame(tmp)\n",
    "df.sort_index(inplace=True)\n",
    "df"
   ]
  },
  {
   "cell_type": "code",
   "execution_count": 50,
   "metadata": {
    "scrolled": true
   },
   "outputs": [
    {
     "data": {
      "text/html": [
       "<div>\n",
       "<style scoped>\n",
       "    .dataframe tbody tr th:only-of-type {\n",
       "        vertical-align: middle;\n",
       "    }\n",
       "\n",
       "    .dataframe tbody tr th {\n",
       "        vertical-align: top;\n",
       "    }\n",
       "\n",
       "    .dataframe thead th {\n",
       "        text-align: right;\n",
       "    }\n",
       "</style>\n",
       "<table border=\"1\" class=\"dataframe\">\n",
       "  <thead>\n",
       "    <tr style=\"text-align: right;\">\n",
       "      <th></th>\n",
       "      <th>S&amp;P500</th>\n",
       "      <th>KOSPI200</th>\n",
       "    </tr>\n",
       "  </thead>\n",
       "  <tbody>\n",
       "    <tr>\n",
       "      <th>2020-01-02</th>\n",
       "      <td>3257.85</td>\n",
       "      <td>290.35</td>\n",
       "    </tr>\n",
       "    <tr>\n",
       "      <th>2020-01-03</th>\n",
       "      <td>3234.85</td>\n",
       "      <td>290.74</td>\n",
       "    </tr>\n",
       "    <tr>\n",
       "      <th>2020-01-06</th>\n",
       "      <td>3246.28</td>\n",
       "      <td>288.43</td>\n",
       "    </tr>\n",
       "    <tr>\n",
       "      <th>2020-01-07</th>\n",
       "      <td>3237.18</td>\n",
       "      <td>291.23</td>\n",
       "    </tr>\n",
       "    <tr>\n",
       "      <th>2020-01-08</th>\n",
       "      <td>3253.05</td>\n",
       "      <td>289.42</td>\n",
       "    </tr>\n",
       "    <tr>\n",
       "      <th>...</th>\n",
       "      <td>...</td>\n",
       "      <td>...</td>\n",
       "    </tr>\n",
       "    <tr>\n",
       "      <th>2020-12-24</th>\n",
       "      <td>3703.06</td>\n",
       "      <td>379.18</td>\n",
       "    </tr>\n",
       "    <tr>\n",
       "      <th>2020-12-28</th>\n",
       "      <td>3735.36</td>\n",
       "      <td>379.93</td>\n",
       "    </tr>\n",
       "    <tr>\n",
       "      <th>2020-12-29</th>\n",
       "      <td>3727.04</td>\n",
       "      <td>381.27</td>\n",
       "    </tr>\n",
       "    <tr>\n",
       "      <th>2020-12-30</th>\n",
       "      <td>3732.04</td>\n",
       "      <td>389.29</td>\n",
       "    </tr>\n",
       "    <tr>\n",
       "      <th>2020-12-31</th>\n",
       "      <td>3756.07</td>\n",
       "      <td>389.29</td>\n",
       "    </tr>\n",
       "  </tbody>\n",
       "</table>\n",
       "<p>260 rows × 2 columns</p>\n",
       "</div>"
      ],
      "text/plain": [
       "             S&P500  KOSPI200\n",
       "2020-01-02  3257.85    290.35\n",
       "2020-01-03  3234.85    290.74\n",
       "2020-01-06  3246.28    288.43\n",
       "2020-01-07  3237.18    291.23\n",
       "2020-01-08  3253.05    289.42\n",
       "...             ...       ...\n",
       "2020-12-24  3703.06    379.18\n",
       "2020-12-28  3735.36    379.93\n",
       "2020-12-29  3727.04    381.27\n",
       "2020-12-30  3732.04    389.29\n",
       "2020-12-31  3756.07    389.29\n",
       "\n",
       "[260 rows x 2 columns]"
      ]
     },
     "execution_count": 50,
     "metadata": {},
     "output_type": "execute_result"
    }
   ],
   "source": [
    "df = df.fillna(method='ffill')\n",
    "if df.isnull().values.any():\n",
    "    df = df.fillna(method='bfill')\n",
    "df"
   ]
  },
  {
   "cell_type": "code",
   "execution_count": 51,
   "metadata": {},
   "outputs": [
    {
     "data": {
      "text/html": [
       "<div>\n",
       "<style scoped>\n",
       "    .dataframe tbody tr th:only-of-type {\n",
       "        vertical-align: middle;\n",
       "    }\n",
       "\n",
       "    .dataframe tbody tr th {\n",
       "        vertical-align: top;\n",
       "    }\n",
       "\n",
       "    .dataframe thead th {\n",
       "        text-align: right;\n",
       "    }\n",
       "</style>\n",
       "<table border=\"1\" class=\"dataframe\">\n",
       "  <thead>\n",
       "    <tr style=\"text-align: right;\">\n",
       "      <th></th>\n",
       "      <th>S&amp;P500</th>\n",
       "      <th>KOSPI200</th>\n",
       "    </tr>\n",
       "  </thead>\n",
       "  <tbody>\n",
       "    <tr>\n",
       "      <th>2020-01-02</th>\n",
       "      <td>3257.85</td>\n",
       "      <td>290.35</td>\n",
       "    </tr>\n",
       "    <tr>\n",
       "      <th>2020-01-03</th>\n",
       "      <td>3234.85</td>\n",
       "      <td>290.74</td>\n",
       "    </tr>\n",
       "    <tr>\n",
       "      <th>2020-01-06</th>\n",
       "      <td>3246.28</td>\n",
       "      <td>288.43</td>\n",
       "    </tr>\n",
       "    <tr>\n",
       "      <th>2020-01-07</th>\n",
       "      <td>3237.18</td>\n",
       "      <td>291.23</td>\n",
       "    </tr>\n",
       "    <tr>\n",
       "      <th>2020-01-08</th>\n",
       "      <td>3253.05</td>\n",
       "      <td>289.42</td>\n",
       "    </tr>\n",
       "  </tbody>\n",
       "</table>\n",
       "</div>"
      ],
      "text/plain": [
       "             S&P500  KOSPI200\n",
       "2020-01-02  3257.85    290.35\n",
       "2020-01-03  3234.85    290.74\n",
       "2020-01-06  3246.28    288.43\n",
       "2020-01-07  3237.18    291.23\n",
       "2020-01-08  3253.05    289.42"
      ]
     },
     "execution_count": 51,
     "metadata": {},
     "output_type": "execute_result"
    }
   ],
   "source": [
    "df.head()"
   ]
  },
  {
   "cell_type": "code",
   "execution_count": 52,
   "metadata": {},
   "outputs": [],
   "source": [
    "index_cd = 'KPI200'\n",
    "historical_prices = dict()\n",
    "kospi200 = historical_index_naver(index_cd, '2020-1-1', '2021-12-31')"
   ]
  },
  {
   "cell_type": "code",
   "execution_count": 53,
   "metadata": {},
   "outputs": [],
   "source": [
    "index_cd = 'SPI@SPX'\n",
    "historical_prices = dict()\n",
    "sp500 = index_global(historical_prices, index_cd, '2020-1-1', '2021-12-31')    # 대체 코드\n",
    "# sp500 = historical_global_daum(index_cd, '2008-1-1', '2017-12-31')     # 이전 코드"
   ]
  },
  {
   "cell_type": "code",
   "execution_count": 54,
   "metadata": {},
   "outputs": [],
   "source": [
    "tmp = {'S&P500':sp500, 'KOSPI200':kospi200}"
   ]
  },
  {
   "cell_type": "code",
   "execution_count": 55,
   "metadata": {
    "scrolled": true
   },
   "outputs": [
    {
     "data": {
      "text/html": [
       "<div>\n",
       "<style scoped>\n",
       "    .dataframe tbody tr th:only-of-type {\n",
       "        vertical-align: middle;\n",
       "    }\n",
       "\n",
       "    .dataframe tbody tr th {\n",
       "        vertical-align: top;\n",
       "    }\n",
       "\n",
       "    .dataframe thead th {\n",
       "        text-align: right;\n",
       "    }\n",
       "</style>\n",
       "<table border=\"1\" class=\"dataframe\">\n",
       "  <thead>\n",
       "    <tr style=\"text-align: right;\">\n",
       "      <th></th>\n",
       "      <th>S&amp;P500</th>\n",
       "      <th>KOSPI200</th>\n",
       "    </tr>\n",
       "  </thead>\n",
       "  <tbody>\n",
       "    <tr>\n",
       "      <th>2020-01-02</th>\n",
       "      <td>3257.85</td>\n",
       "      <td>290.35</td>\n",
       "    </tr>\n",
       "    <tr>\n",
       "      <th>2020-01-03</th>\n",
       "      <td>3234.85</td>\n",
       "      <td>290.74</td>\n",
       "    </tr>\n",
       "    <tr>\n",
       "      <th>2020-01-06</th>\n",
       "      <td>3246.28</td>\n",
       "      <td>288.43</td>\n",
       "    </tr>\n",
       "    <tr>\n",
       "      <th>2020-01-07</th>\n",
       "      <td>3237.18</td>\n",
       "      <td>291.23</td>\n",
       "    </tr>\n",
       "    <tr>\n",
       "      <th>2020-01-08</th>\n",
       "      <td>3253.05</td>\n",
       "      <td>289.42</td>\n",
       "    </tr>\n",
       "    <tr>\n",
       "      <th>...</th>\n",
       "      <td>...</td>\n",
       "      <td>...</td>\n",
       "    </tr>\n",
       "    <tr>\n",
       "      <th>2021-07-16</th>\n",
       "      <td>4327.16</td>\n",
       "      <td>434.82</td>\n",
       "    </tr>\n",
       "    <tr>\n",
       "      <th>2021-07-19</th>\n",
       "      <td>4258.49</td>\n",
       "      <td>429.89</td>\n",
       "    </tr>\n",
       "    <tr>\n",
       "      <th>2021-07-20</th>\n",
       "      <td>4323.06</td>\n",
       "      <td>428.55</td>\n",
       "    </tr>\n",
       "    <tr>\n",
       "      <th>2021-07-21</th>\n",
       "      <td>4358.69</td>\n",
       "      <td>426.00</td>\n",
       "    </tr>\n",
       "    <tr>\n",
       "      <th>2021-07-22</th>\n",
       "      <td>NaN</td>\n",
       "      <td>431.38</td>\n",
       "    </tr>\n",
       "  </tbody>\n",
       "</table>\n",
       "<p>404 rows × 2 columns</p>\n",
       "</div>"
      ],
      "text/plain": [
       "             S&P500  KOSPI200\n",
       "2020-01-02  3257.85    290.35\n",
       "2020-01-03  3234.85    290.74\n",
       "2020-01-06  3246.28    288.43\n",
       "2020-01-07  3237.18    291.23\n",
       "2020-01-08  3253.05    289.42\n",
       "...             ...       ...\n",
       "2021-07-16  4327.16    434.82\n",
       "2021-07-19  4258.49    429.89\n",
       "2021-07-20  4323.06    428.55\n",
       "2021-07-21  4358.69    426.00\n",
       "2021-07-22      NaN    431.38\n",
       "\n",
       "[404 rows x 2 columns]"
      ]
     },
     "execution_count": 55,
     "metadata": {},
     "output_type": "execute_result"
    }
   ],
   "source": [
    "df = pd.DataFrame(tmp)\n",
    "df.sort_index(inplace=True)\n",
    "df"
   ]
  },
  {
   "cell_type": "code",
   "execution_count": 56,
   "metadata": {
    "scrolled": true
   },
   "outputs": [
    {
     "data": {
      "text/html": [
       "<div>\n",
       "<style scoped>\n",
       "    .dataframe tbody tr th:only-of-type {\n",
       "        vertical-align: middle;\n",
       "    }\n",
       "\n",
       "    .dataframe tbody tr th {\n",
       "        vertical-align: top;\n",
       "    }\n",
       "\n",
       "    .dataframe thead th {\n",
       "        text-align: right;\n",
       "    }\n",
       "</style>\n",
       "<table border=\"1\" class=\"dataframe\">\n",
       "  <thead>\n",
       "    <tr style=\"text-align: right;\">\n",
       "      <th></th>\n",
       "      <th>S&amp;P500</th>\n",
       "      <th>KOSPI200</th>\n",
       "    </tr>\n",
       "  </thead>\n",
       "  <tbody>\n",
       "    <tr>\n",
       "      <th>2020-01-02</th>\n",
       "      <td>3257.85</td>\n",
       "      <td>290.35</td>\n",
       "    </tr>\n",
       "    <tr>\n",
       "      <th>2020-01-03</th>\n",
       "      <td>3234.85</td>\n",
       "      <td>290.74</td>\n",
       "    </tr>\n",
       "    <tr>\n",
       "      <th>2020-01-06</th>\n",
       "      <td>3246.28</td>\n",
       "      <td>288.43</td>\n",
       "    </tr>\n",
       "    <tr>\n",
       "      <th>2020-01-07</th>\n",
       "      <td>3237.18</td>\n",
       "      <td>291.23</td>\n",
       "    </tr>\n",
       "    <tr>\n",
       "      <th>2020-01-08</th>\n",
       "      <td>3253.05</td>\n",
       "      <td>289.42</td>\n",
       "    </tr>\n",
       "    <tr>\n",
       "      <th>...</th>\n",
       "      <td>...</td>\n",
       "      <td>...</td>\n",
       "    </tr>\n",
       "    <tr>\n",
       "      <th>2021-07-16</th>\n",
       "      <td>4327.16</td>\n",
       "      <td>434.82</td>\n",
       "    </tr>\n",
       "    <tr>\n",
       "      <th>2021-07-19</th>\n",
       "      <td>4258.49</td>\n",
       "      <td>429.89</td>\n",
       "    </tr>\n",
       "    <tr>\n",
       "      <th>2021-07-20</th>\n",
       "      <td>4323.06</td>\n",
       "      <td>428.55</td>\n",
       "    </tr>\n",
       "    <tr>\n",
       "      <th>2021-07-21</th>\n",
       "      <td>4358.69</td>\n",
       "      <td>426.00</td>\n",
       "    </tr>\n",
       "    <tr>\n",
       "      <th>2021-07-22</th>\n",
       "      <td>4358.69</td>\n",
       "      <td>431.38</td>\n",
       "    </tr>\n",
       "  </tbody>\n",
       "</table>\n",
       "<p>404 rows × 2 columns</p>\n",
       "</div>"
      ],
      "text/plain": [
       "             S&P500  KOSPI200\n",
       "2020-01-02  3257.85    290.35\n",
       "2020-01-03  3234.85    290.74\n",
       "2020-01-06  3246.28    288.43\n",
       "2020-01-07  3237.18    291.23\n",
       "2020-01-08  3253.05    289.42\n",
       "...             ...       ...\n",
       "2021-07-16  4327.16    434.82\n",
       "2021-07-19  4258.49    429.89\n",
       "2021-07-20  4323.06    428.55\n",
       "2021-07-21  4358.69    426.00\n",
       "2021-07-22  4358.69    431.38\n",
       "\n",
       "[404 rows x 2 columns]"
      ]
     },
     "execution_count": 56,
     "metadata": {},
     "output_type": "execute_result"
    }
   ],
   "source": [
    "df = df.fillna(method='ffill')\n",
    "if df.isnull().values.any():\n",
    "    df = df.fillna(method='bfill')\n",
    "df"
   ]
  },
  {
   "cell_type": "markdown",
   "metadata": {},
   "source": [
    "# matplotlib를 이용해 그래프 그리기"
   ]
  },
  {
   "cell_type": "code",
   "execution_count": 57,
   "metadata": {},
   "outputs": [],
   "source": [
    "import matplotlib.pyplot as plt\n",
    "%matplotlib inline"
   ]
  },
  {
   "cell_type": "code",
   "execution_count": 58,
   "metadata": {},
   "outputs": [
    {
     "data": {
      "image/png": "[encoded data removed]",
      "text/plain": [
       "<Figure size 720x360 with 1 Axes>"
      ]
     },
     "metadata": {
      "needs_background": "light"
     },
     "output_type": "display_data"
    }
   ],
   "source": [
    "plt.figure(figsize=(10, 5))\n",
    "plt.plot(df['S&P500'], label='S&P500')\n",
    "plt.plot(df['KOSPI200'], label='KOSPI200')\n",
    "plt.legend(loc=0)\n",
    "plt.grid(True, color='0.7', linestyle=':', linewidth=1)"
   ]
  },
  {
   "cell_type": "code",
   "execution_count": 59,
   "metadata": {},
   "outputs": [
    {
     "data": {
      "text/plain": [
       "S&P500      3257.85\n",
       "KOSPI200     290.35\n",
       "Name: 2020-01-02, dtype: float64"
      ]
     },
     "execution_count": 59,
     "metadata": {},
     "output_type": "execute_result"
    }
   ],
   "source": [
    "df.iloc[0]"
   ]
  },
  {
   "cell_type": "code",
   "execution_count": 60,
   "metadata": {},
   "outputs": [
    {
     "data": {
      "text/plain": [
       "S&P500      3257.85\n",
       "KOSPI200     290.35\n",
       "Name: 2020-01-02, dtype: float64"
      ]
     },
     "execution_count": 60,
     "metadata": {},
     "output_type": "execute_result"
    }
   ],
   "source": [
    "df.loc[dt.date(2020, 1, 2)]"
   ]
  },
  {
   "cell_type": "code",
   "execution_count": 61,
   "metadata": {},
   "outputs": [
    {
     "data": {
      "image/png": "[encoded data removed]",
      "text/plain": [
       "<Figure size 720x360 with 1 Axes>"
      ]
     },
     "metadata": {
      "needs_background": "light"
     },
     "output_type": "display_data"
    }
   ],
   "source": [
    "plt.figure(figsize=(10, 5))\n",
    "plt.plot(df['S&P500'] / df['S&P500'].loc[dt.date(2020, 1, 2)] * 100, label='S&P500')\n",
    "plt.plot(df['KOSPI200'] / df['KOSPI200'].loc[dt.date(2020, 1, 2)] * 100, label='KOSPI200')\n",
    "plt.legend(loc=0)\n",
    "plt.grid(True, color='0.7', linestyle=':', linewidth=1)"
   ]
  },
  {
   "cell_type": "code",
   "execution_count": 62,
   "metadata": {},
   "outputs": [
    {
     "data": {
      "text/html": [
       "<div>\n",
       "<style scoped>\n",
       "    .dataframe tbody tr th:only-of-type {\n",
       "        vertical-align: middle;\n",
       "    }\n",
       "\n",
       "    .dataframe tbody tr th {\n",
       "        vertical-align: top;\n",
       "    }\n",
       "\n",
       "    .dataframe thead th {\n",
       "        text-align: right;\n",
       "    }\n",
       "</style>\n",
       "<table border=\"1\" class=\"dataframe\">\n",
       "  <thead>\n",
       "    <tr style=\"text-align: right;\">\n",
       "      <th></th>\n",
       "      <th>S&amp;P500</th>\n",
       "      <th>KOSPI200</th>\n",
       "    </tr>\n",
       "  </thead>\n",
       "  <tbody>\n",
       "    <tr>\n",
       "      <th>2021-01-04</th>\n",
       "      <td>100.000000</td>\n",
       "      <td>100.000000</td>\n",
       "    </tr>\n",
       "    <tr>\n",
       "      <th>2021-01-05</th>\n",
       "      <td>100.708254</td>\n",
       "      <td>101.537961</td>\n",
       "    </tr>\n",
       "    <tr>\n",
       "      <th>2021-01-06</th>\n",
       "      <td>101.283288</td>\n",
       "      <td>100.550165</td>\n",
       "    </tr>\n",
       "  </tbody>\n",
       "</table>\n",
       "</div>"
      ],
      "text/plain": [
       "                S&P500    KOSPI200\n",
       "2021-01-04  100.000000  100.000000\n",
       "2021-01-05  100.708254  101.537961\n",
       "2021-01-06  101.283288  100.550165"
      ]
     },
     "execution_count": 62,
     "metadata": {},
     "output_type": "execute_result"
    }
   ],
   "source": [
    "df_ratio_2021_now = df.loc[dt.date(2021, 1, 1):] / df.loc[dt.date(2021, 1, 4)] * 100\n",
    "df_ratio_2021_now.head(3)"
   ]
  },
  {
   "cell_type": "code",
   "execution_count": 63,
   "metadata": {},
   "outputs": [
    {
     "data": {
      "image/png": "[encoded data removed]",
      "text/plain": [
       "<Figure size 720x360 with 1 Axes>"
      ]
     },
     "metadata": {
      "needs_background": "light"
     },
     "output_type": "display_data"
    }
   ],
   "source": [
    "plt.figure(figsize=(10, 5))\n",
    "plt.plot(df_ratio_2021_now['S&P500'], label='S&P500')\n",
    "plt.plot(df_ratio_2021_now['KOSPI200'], label='KOSPI200')\n",
    "plt.legend(loc=0)\n",
    "plt.grid(True, color='0.7', linestyle=':', linewidth=1)"
   ]
  },
  {
   "cell_type": "code",
   "execution_count": 64,
   "metadata": {},
   "outputs": [
    {
     "data": {
      "text/plain": [
       "Text(0, 0.5, 'KOSPI200')"
      ]
     },
     "execution_count": 64,
     "metadata": {},
     "output_type": "execute_result"
    },
    {
     "data": {
      "image/png": "[encoded data removed]",
      "text/plain": [
       "<Figure size 504x504 with 1 Axes>"
      ]
     },
     "metadata": {
      "needs_background": "light"
     },
     "output_type": "display_data"
    }
   ],
   "source": [
    "plt.figure(figsize=(7,7))\n",
    "plt.scatter(df_ratio_2021_now['S&P500'], df_ratio_2021_now['KOSPI200'], marker='.')\n",
    "plt.grid(True, color='0.7', linestyle=':', linewidth=1)\n",
    "plt.xlabel('S&P500')\n",
    "plt.ylabel('KOSPI200')"
   ]
  },
  {
   "cell_type": "code",
   "execution_count": 65,
   "metadata": {},
   "outputs": [
    {
     "data": {
      "text/plain": [
       "{'Slope': 0.3162166688403968,\n",
       " 'Intercept': 71.37609412999917,\n",
       " 'R^2': 0.49979819059573805}"
      ]
     },
     "execution_count": 65,
     "metadata": {},
     "output_type": "execute_result"
    }
   ],
   "source": [
    "import numpy as np\n",
    "from sklearn.linear_model import LinearRegression\n",
    "\n",
    "x = df_ratio_2021_now['S&P500']\n",
    "y = df_ratio_2021_now['KOSPI200']\n",
    "\n",
    "# 1개 컬럼 np.array로 변환\n",
    "independent_var = np.array(x).reshape(-1, 1)\n",
    "dependent_var = np.array(y).reshape(-1, 1)\n",
    "\n",
    "# Linear Regression\n",
    "regr = LinearRegression()\n",
    "regr.fit(independent_var, dependent_var)\n",
    "\n",
    "result = {'Slope':regr.coef_[0,0], 'Intercept':regr.intercept_[0], 'R^2':regr.score(independent_var, dependent_var) }\n",
    "result"
   ]
  },
  {
   "cell_type": "code",
   "execution_count": 66,
   "metadata": {},
   "outputs": [
    {
     "data": {
      "text/plain": [
       "Text(0, 0.5, 'KOSPI200')"
      ]
     },
     "execution_count": 66,
     "metadata": {},
     "output_type": "execute_result"
    },
    {
     "data": {
      "image/png": "[encoded data removed]",
      "text/plain": [
       "<Figure size 504x504 with 1 Axes>"
      ]
     },
     "metadata": {
      "needs_background": "light"
     },
     "output_type": "display_data"
    }
   ],
   "source": [
    "plt.figure(figsize=(7,7))\n",
    "plt.scatter(independent_var, dependent_var, marker='.', color='skyblue')\n",
    "plt.plot(independent_var, regr.predict(independent_var), color='r', linewidth=3)\n",
    "plt.grid(True, color='0.7', linestyle=':', linewidth=1)\n",
    "plt.xlabel('S&P500')\n",
    "plt.ylabel('KOSPI200')"
   ]
  },
  {
   "cell_type": "code",
   "execution_count": null,
   "metadata": {},
   "outputs": [],
   "source": []
  }
 ],
 "metadata": {
  "kernelspec": {
   "display_name": "Python 3",
   "language": "python",
   "name": "python3"
  },
  "language_info": {
   "codemirror_mode": {
    "name": "ipython",
    "version": 3
   },
   "file_extension": ".py",
   "mimetype": "text/x-python",
   "name": "python",
   "nbconvert_exporter": "python",
   "pygments_lexer": "ipython3",
   "version": "3.8.6"
  }
 },
 "nbformat": 4,
 "nbformat_minor": 4
}

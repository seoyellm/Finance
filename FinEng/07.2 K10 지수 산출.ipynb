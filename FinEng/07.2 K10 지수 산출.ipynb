{
 "cells": [
  {
   "cell_type": "code",
   "execution_count": 1,
   "metadata": {},
   "outputs": [],
   "source": [
    "import bs4\n",
    "from urllib.request import urlopen"
   ]
  },
  {
   "cell_type": "code",
   "execution_count": 2,
   "metadata": {},
   "outputs": [],
   "source": [
    "# 크롤링 차단 장치 우회를 위해 웹사이트 호출 시 headers 값을 추가\n",
    "import urllib.request\n",
    "headers = {\n",
    "    'User-Agent': 'Mozilla/5.0',\n",
    "    'X-Requested-With': 'XMLHttpRequest',\n",
    "}"
   ]
  },
  {
   "cell_type": "code",
   "execution_count": 3,
   "metadata": {},
   "outputs": [
    {
     "data": {
      "text/plain": [
       "'https://navercomp.wisereport.co.kr/v2/company/c1010001.aspx?cmp_cd=005930'"
      ]
     },
     "execution_count": 3,
     "metadata": {},
     "output_type": "execute_result"
    }
   ],
   "source": [
    "# url_float = 'http://companyinfo.stock.naver.com/v1/company/c1010001.aspx?cmp_cd=035420'  \n",
    "url_float = 'https://navercomp.wisereport.co.kr/v2/company/c1010001.aspx?cmp_cd=005930'\n",
    "# Floating ratio from Naver\n",
    "url_float"
   ]
  },
  {
   "cell_type": "code",
   "execution_count": 4,
   "metadata": {},
   "outputs": [],
   "source": [
    "source = urlopen(url_float).read()   \n",
    "soup = bs4.BeautifulSoup(source, 'lxml')"
   ]
  },
  {
   "cell_type": "markdown",
   "metadata": {},
   "source": [
    "//*[@id=\"cTB11\"]/tbody/tr[7]/td"
   ]
  },
  {
   "cell_type": "code",
   "execution_count": 5,
   "metadata": {},
   "outputs": [
    {
     "data": {
      "text/plain": [
       "'\\r\\n\\t\\t\\t\\t\\t\\t\\t\\t\\t\\t\\t\\t\\t\\t\\t5,969,782,550주 / 75.82%\\r\\n\\t\\t\\t\\t\\t\\t\\t\\t\\t\\t\\t\\t\\t\\t'"
      ]
     },
     "execution_count": 5,
     "metadata": {},
     "output_type": "execute_result"
    }
   ],
   "source": [
    "soup.find(id='cTB11').find_all('tr')[6].td.text"
   ]
  },
  {
   "cell_type": "code",
   "execution_count": null,
   "metadata": {},
   "outputs": [],
   "source": []
  },
  {
   "cell_type": "code",
   "execution_count": 6,
   "metadata": {},
   "outputs": [
    {
     "data": {
      "text/plain": [
       "'5,969,782,550주 / 75.82%'"
      ]
     },
     "execution_count": 6,
     "metadata": {},
     "output_type": "execute_result"
    }
   ],
   "source": [
    "tmp = soup.find(id='cTB11').find_all('tr')[6].td.text\n",
    "tmp = tmp.replace('\\r', '')\n",
    "tmp = tmp.replace('\\n', '')\n",
    "tmp = tmp.replace('\\t', '')\n",
    "tmp"
   ]
  },
  {
   "cell_type": "code",
   "execution_count": 7,
   "metadata": {},
   "outputs": [],
   "source": [
    "import re"
   ]
  },
  {
   "cell_type": "code",
   "execution_count": 8,
   "metadata": {},
   "outputs": [
    {
     "data": {
      "text/plain": [
       "['5,969,782,550주 ', ' 75.82%']"
      ]
     },
     "execution_count": 8,
     "metadata": {},
     "output_type": "execute_result"
    }
   ],
   "source": [
    "tmp = re.split('/', tmp)\n",
    "tmp"
   ]
  },
  {
   "cell_type": "code",
   "execution_count": 9,
   "metadata": {},
   "outputs": [
    {
     "data": {
      "text/plain": [
       "'5,969,782,550주 '"
      ]
     },
     "execution_count": 9,
     "metadata": {},
     "output_type": "execute_result"
    }
   ],
   "source": [
    "tmp[0]"
   ]
  },
  {
   "cell_type": "code",
   "execution_count": 10,
   "metadata": {},
   "outputs": [
    {
     "data": {
      "text/plain": [
       "' 75.82%'"
      ]
     },
     "execution_count": 10,
     "metadata": {},
     "output_type": "execute_result"
    }
   ],
   "source": [
    "tmp[1]"
   ]
  },
  {
   "cell_type": "code",
   "execution_count": null,
   "metadata": {},
   "outputs": [],
   "source": []
  },
  {
   "cell_type": "code",
   "execution_count": 11,
   "metadata": {},
   "outputs": [
    {
     "data": {
      "text/plain": [
       "'5969782550'"
      ]
     },
     "execution_count": 11,
     "metadata": {},
     "output_type": "execute_result"
    }
   ],
   "source": [
    "# 상장주식수\n",
    "outstanding = tmp[0].replace(',', '')\n",
    "outstanding = outstanding.replace('주', '')\n",
    "outstanding = outstanding.replace(' ', '')\n",
    "outstanding"
   ]
  },
  {
   "cell_type": "code",
   "execution_count": 12,
   "metadata": {},
   "outputs": [
    {
     "data": {
      "text/plain": [
       "'75.82'"
      ]
     },
     "execution_count": 12,
     "metadata": {},
     "output_type": "execute_result"
    }
   ],
   "source": [
    "# 유동비율\n",
    "floating = tmp[1].replace(' ', '')\n",
    "floating = floating.replace('%', '')\n",
    "floating"
   ]
  },
  {
   "cell_type": "code",
   "execution_count": 13,
   "metadata": {},
   "outputs": [
    {
     "data": {
      "text/plain": [
       "5969782550"
      ]
     },
     "execution_count": 13,
     "metadata": {},
     "output_type": "execute_result"
    }
   ],
   "source": [
    "outstanding = int(outstanding)\n",
    "outstanding"
   ]
  },
  {
   "cell_type": "code",
   "execution_count": 14,
   "metadata": {},
   "outputs": [
    {
     "data": {
      "text/plain": [
       "75.82"
      ]
     },
     "execution_count": 14,
     "metadata": {},
     "output_type": "execute_result"
    }
   ],
   "source": [
    "floating = float(floating)\n",
    "floating"
   ]
  },
  {
   "cell_type": "code",
   "execution_count": 15,
   "metadata": {},
   "outputs": [],
   "source": [
    "# 구성종목 기본정보\n",
    "def stock_info(stock_cd):\n",
    "    url_float = 'http://companyinfo.stock.naver.com/v1/company/c1010001.aspx?cmp_cd=' + stock_cd\n",
    "    source = urlopen(url_float).read()\n",
    "    soup = bs4.BeautifulSoup(source, 'lxml')\n",
    "    \n",
    "    tmp = soup.find(id='cTB11').find_all('tr')[6].td.text\n",
    "    tmp = tmp.replace('\\r', '')\n",
    "    tmp = tmp.replace('\\n', '')\n",
    "    tmp = tmp.replace('\\t', '')\n",
    "    \n",
    "    tmp = re.split('/', tmp)\n",
    "\n",
    "    outstanding = tmp[0].replace(',', '')\n",
    "    outstanding = outstanding.replace('주', '')\n",
    "    outstanding = outstanding.replace(' ', '')\n",
    "    outstanding = int(outstanding)\n",
    "\n",
    "    floating = tmp[1].replace(' ', '')\n",
    "    floating = floating.replace('%', '')\n",
    "    floating = float(floating)\n",
    "    \n",
    "    name = soup.find(id='pArea').find('div').find('div').find('tr').find('td').find('span').text\n",
    "    \n",
    "    k10_outstanding[stock_cd] = outstanding\n",
    "    k10_floating[stock_cd] = floating\n",
    "    k10_name[stock_cd] = name"
   ]
  },
  {
   "cell_type": "code",
   "execution_count": 16,
   "metadata": {},
   "outputs": [],
   "source": [
    "'''\n",
    "한국거래소 시가총액 상위 10종목 (2019년1월 기준)\n",
    "005930\t삼성전자\n",
    "000660\tSK하이닉스\n",
    "068270\t셀트리온\n",
    "005380\t현대차\n",
    "207940\t삼성바이오로직스\n",
    "051910\tLG화학\n",
    "005490\tPOSCO\n",
    "035420\tNAVER\n",
    "017670\tSK텔레콤\n",
    "015760\t한국전력\n",
    "'''\n",
    "k10_component = ['005930', '000660', '068270', '005380', '207940',\\\n",
    "                 '051910', '005490', '035420', '017670', '015760']"
   ]
  },
  {
   "cell_type": "code",
   "execution_count": 17,
   "metadata": {},
   "outputs": [
    {
     "name": "stdout",
     "output_type": "stream",
     "text": [
      "005930\n",
      "000660\n",
      "068270\n",
      "005380\n",
      "207940\n",
      "051910\n",
      "005490\n",
      "035420\n",
      "017670\n",
      "015760\n"
     ]
    }
   ],
   "source": [
    "k10_outstanding = dict()\n",
    "k10_floating = dict()\n",
    "k10_name = dict()\n",
    "for stock_cd in k10_component:\n",
    "    print(stock_cd)\n",
    "    stock_info(stock_cd)"
   ]
  },
  {
   "cell_type": "code",
   "execution_count": 18,
   "metadata": {},
   "outputs": [
    {
     "data": {
      "text/plain": [
       "{'005930': 5969782550,\n",
       " '000660': 728002365,\n",
       " '068270': 146390862,\n",
       " '005380': 211531506,\n",
       " '207940': 71174000,\n",
       " '051910': 70592343,\n",
       " '005490': 84571230,\n",
       " '035420': 164049085,\n",
       " '017670': 218833144,\n",
       " '015760': 641964077}"
      ]
     },
     "execution_count": 18,
     "metadata": {},
     "output_type": "execute_result"
    }
   ],
   "source": [
    "k10_outstanding"
   ]
  },
  {
   "cell_type": "code",
   "execution_count": 19,
   "metadata": {},
   "outputs": [
    {
     "data": {
      "text/plain": [
       "{'005930': 75.82,\n",
       " '000660': 73.86,\n",
       " '068270': 74.3,\n",
       " '005380': 65.26,\n",
       " '207940': 24.76,\n",
       " '051910': 66.63,\n",
       " '005490': 72.35,\n",
       " '035420': 83.3,\n",
       " '017670': 63.35,\n",
       " '015760': 46.08}"
      ]
     },
     "execution_count": 19,
     "metadata": {},
     "output_type": "execute_result"
    }
   ],
   "source": [
    "k10_floating"
   ]
  },
  {
   "cell_type": "code",
   "execution_count": null,
   "metadata": {},
   "outputs": [],
   "source": []
  },
  {
   "cell_type": "markdown",
   "metadata": {},
   "source": [
    "과거 주가 구하기 "
   ]
  },
  {
   "cell_type": "code",
   "execution_count": 20,
   "metadata": {},
   "outputs": [],
   "source": [
    "import datetime as dt\n",
    "import pandas as pd"
   ]
  },
  {
   "cell_type": "code",
   "execution_count": 21,
   "metadata": {},
   "outputs": [],
   "source": [
    "def date_format(d):\n",
    "    d = str(d).replace('-', '.')\n",
    "    \n",
    "    yyyy = int(d.split('.')[0]) \n",
    "    mm = int(d.split('.')[1])\n",
    "    dd = int(d.split('.')[2])\n",
    "\n",
    "    this_date= dt.date(yyyy, mm, dd)\n",
    "    return this_date"
   ]
  },
  {
   "cell_type": "code",
   "execution_count": 22,
   "metadata": {},
   "outputs": [],
   "source": [
    "def historical_stock_naver(stock_cd, start_date='', end_date='', page_n=1, last_page=0):\n",
    "    \n",
    "    if start_date:   # start_date가 있으면\n",
    "        start_date = date_format(start_date)   # date 포맷으로 변환\n",
    "    else:    # 없으면\n",
    "        start_date = dt.date.today()   # 오늘 날짜를 지정\n",
    "    if end_date:   # end_date가 없으면 \n",
    "        end_date = date_format(end_date)   # date 포맷으로 변환\n",
    "    else:   # end_date가 있으면\n",
    "        end_date = dt.date.today()   # 오늘 날짜를 end_date로 지정\n",
    "        \n",
    "    naver_stock = 'http://finance.naver.com/item/sise_day.nhn?code=' + stock_cd + '&page=' + str(page_n)\n",
    "    \n",
    "    # 기존 코드\n",
    "    # source = urlopen(naver_stock).read()\n",
    "    \n",
    "    # 개정 코드 (1줄에서 2줄로 늘어남)\n",
    "    url = urllib.request.Request(naver_stock, headers=headers)   # headers 정보 보내기\n",
    "    source = urlopen(url).read()\n",
    "    \n",
    "    source = bs4.BeautifulSoup(source, 'lxml')\n",
    "    \n",
    "    dates = source.find_all('span', class_='tah p10 gray03')   # 날짜 수집   \n",
    "    prices = source.find_all('td', class_='num')   # 종가 수집\n",
    "    \n",
    "    for n in range(len(dates)):\n",
    "    \n",
    "        if len(dates) > 0:\n",
    "            \n",
    "            # 날짜 처리\n",
    "            this_date = dates[n].text\n",
    "            this_date = date_format(this_date)\n",
    "            \n",
    "            if this_date <= end_date and this_date >= start_date:   \n",
    "            # start_date와 end_date 사이에서 데이터 저장\n",
    "                # 종가 처리\n",
    "                this_close = prices[n*6].text\n",
    "                this_close = this_close.replace(',', '')\n",
    "                this_close = float(this_close)\n",
    "\n",
    "                # 딕셔너리에 저장\n",
    "                historical_prices[this_date] = this_close\n",
    "                              \n",
    "            elif this_date < start_date:   \n",
    "            # start_date 이전이면 함수 종료\n",
    "                return historical_prices              \n",
    "            \n",
    "    # 페이지 네비게이션\n",
    "    if last_page == 0:\n",
    "        last_page = source.find_all('table')[1].find('td', class_='pgRR').find('a')['href']\n",
    "        last_page = last_page.split('&')[1]\n",
    "        last_page = last_page.split('=')[1]\n",
    "        last_page = float(last_page)\n",
    "        \n",
    "    # 다음 페이지 호출\n",
    "    if page_n < last_page:\n",
    "        page_n = page_n + 1\n",
    "        historical_stock_naver(stock_cd, start_date, end_date, page_n, last_page)   \n",
    "        \n",
    "    return historical_prices  "
   ]
  },
  {
   "cell_type": "code",
   "execution_count": 23,
   "metadata": {},
   "outputs": [],
   "source": [
    "k10_historical_prices = dict()\n",
    "\n",
    "for stock_cd in k10_component:\n",
    "    \n",
    "    historical_prices = dict()\n",
    "    start_date = '2020-1-1'\n",
    "    end_date = '2020-12-31'\n",
    "    historical_stock_naver(stock_cd, start_date, end_date)\n",
    "    \n",
    "    k10_historical_prices[stock_cd] = historical_prices"
   ]
  },
  {
   "cell_type": "code",
   "execution_count": 24,
   "metadata": {
    "scrolled": true
   },
   "outputs": [],
   "source": [
    "k10_historical_price = pd.DataFrame(k10_historical_prices)\n",
    "k10_historical_price.sort_index(axis=1, inplace=True) "
   ]
  },
  {
   "cell_type": "code",
   "execution_count": 25,
   "metadata": {
    "scrolled": true
   },
   "outputs": [
    {
     "data": {
      "text/html": [
       "<div>\n",
       "<style scoped>\n",
       "    .dataframe tbody tr th:only-of-type {\n",
       "        vertical-align: middle;\n",
       "    }\n",
       "\n",
       "    .dataframe tbody tr th {\n",
       "        vertical-align: top;\n",
       "    }\n",
       "\n",
       "    .dataframe thead th {\n",
       "        text-align: right;\n",
       "    }\n",
       "</style>\n",
       "<table border=\"1\" class=\"dataframe\">\n",
       "  <thead>\n",
       "    <tr style=\"text-align: right;\">\n",
       "      <th></th>\n",
       "      <th>000660</th>\n",
       "      <th>005380</th>\n",
       "      <th>005490</th>\n",
       "      <th>005930</th>\n",
       "      <th>015760</th>\n",
       "      <th>017670</th>\n",
       "      <th>035420</th>\n",
       "      <th>051910</th>\n",
       "      <th>068270</th>\n",
       "      <th>207940</th>\n",
       "    </tr>\n",
       "  </thead>\n",
       "  <tbody>\n",
       "    <tr>\n",
       "      <th>2020-12-30</th>\n",
       "      <td>118500.0</td>\n",
       "      <td>192000.0</td>\n",
       "      <td>272000.0</td>\n",
       "      <td>81000.0</td>\n",
       "      <td>27400.0</td>\n",
       "      <td>238000.0</td>\n",
       "      <td>292500.0</td>\n",
       "      <td>824000.0</td>\n",
       "      <td>359000.0</td>\n",
       "      <td>826000.0</td>\n",
       "    </tr>\n",
       "    <tr>\n",
       "      <th>2020-12-29</th>\n",
       "      <td>116000.0</td>\n",
       "      <td>190500.0</td>\n",
       "      <td>270000.0</td>\n",
       "      <td>78300.0</td>\n",
       "      <td>26400.0</td>\n",
       "      <td>237500.0</td>\n",
       "      <td>283000.0</td>\n",
       "      <td>813000.0</td>\n",
       "      <td>360500.0</td>\n",
       "      <td>822000.0</td>\n",
       "    </tr>\n",
       "    <tr>\n",
       "      <th>2020-12-28</th>\n",
       "      <td>115500.0</td>\n",
       "      <td>189500.0</td>\n",
       "      <td>273500.0</td>\n",
       "      <td>78700.0</td>\n",
       "      <td>27050.0</td>\n",
       "      <td>247000.0</td>\n",
       "      <td>281000.0</td>\n",
       "      <td>814000.0</td>\n",
       "      <td>333500.0</td>\n",
       "      <td>789000.0</td>\n",
       "    </tr>\n",
       "  </tbody>\n",
       "</table>\n",
       "</div>"
      ],
      "text/plain": [
       "              000660    005380    005490   005930   015760    017670  \\\n",
       "2020-12-30  118500.0  192000.0  272000.0  81000.0  27400.0  238000.0   \n",
       "2020-12-29  116000.0  190500.0  270000.0  78300.0  26400.0  237500.0   \n",
       "2020-12-28  115500.0  189500.0  273500.0  78700.0  27050.0  247000.0   \n",
       "\n",
       "              035420    051910    068270    207940  \n",
       "2020-12-30  292500.0  824000.0  359000.0  826000.0  \n",
       "2020-12-29  283000.0  813000.0  360500.0  822000.0  \n",
       "2020-12-28  281000.0  814000.0  333500.0  789000.0  "
      ]
     },
     "execution_count": 25,
     "metadata": {},
     "output_type": "execute_result"
    }
   ],
   "source": [
    "k10_historical_price = k10_historical_price.fillna(method='ffill')   # ffill로 구멍을 채우고\n",
    "if k10_historical_price.isnull().values.any():   # 그래도 구멍이 남아 있으면\n",
    "    k10_historical_price = k10_historical_price.fillna(method='bfill')   # bfill로 채워라\n",
    "k10_historical_price.head(3)"
   ]
  },
  {
   "cell_type": "code",
   "execution_count": 26,
   "metadata": {},
   "outputs": [
    {
     "data": {
      "text/html": [
       "<div>\n",
       "<style scoped>\n",
       "    .dataframe tbody tr th:only-of-type {\n",
       "        vertical-align: middle;\n",
       "    }\n",
       "\n",
       "    .dataframe tbody tr th {\n",
       "        vertical-align: top;\n",
       "    }\n",
       "\n",
       "    .dataframe thead th {\n",
       "        text-align: right;\n",
       "    }\n",
       "</style>\n",
       "<table border=\"1\" class=\"dataframe\">\n",
       "  <thead>\n",
       "    <tr style=\"text-align: right;\">\n",
       "      <th></th>\n",
       "      <th>000660</th>\n",
       "      <th>005380</th>\n",
       "      <th>005490</th>\n",
       "      <th>005930</th>\n",
       "      <th>015760</th>\n",
       "      <th>017670</th>\n",
       "      <th>035420</th>\n",
       "      <th>051910</th>\n",
       "      <th>068270</th>\n",
       "      <th>207940</th>\n",
       "    </tr>\n",
       "  </thead>\n",
       "  <tbody>\n",
       "    <tr>\n",
       "      <th>2020-12-30</th>\n",
       "      <td>118500.0</td>\n",
       "      <td>192000.0</td>\n",
       "      <td>272000.0</td>\n",
       "      <td>1620.0</td>\n",
       "      <td>27400.0</td>\n",
       "      <td>238000.0</td>\n",
       "      <td>292500.0</td>\n",
       "      <td>824000.0</td>\n",
       "      <td>359000.0</td>\n",
       "      <td>826000.0</td>\n",
       "    </tr>\n",
       "    <tr>\n",
       "      <th>2020-12-29</th>\n",
       "      <td>116000.0</td>\n",
       "      <td>190500.0</td>\n",
       "      <td>270000.0</td>\n",
       "      <td>1566.0</td>\n",
       "      <td>26400.0</td>\n",
       "      <td>237500.0</td>\n",
       "      <td>283000.0</td>\n",
       "      <td>813000.0</td>\n",
       "      <td>360500.0</td>\n",
       "      <td>822000.0</td>\n",
       "    </tr>\n",
       "    <tr>\n",
       "      <th>2020-12-28</th>\n",
       "      <td>115500.0</td>\n",
       "      <td>189500.0</td>\n",
       "      <td>273500.0</td>\n",
       "      <td>1574.0</td>\n",
       "      <td>27050.0</td>\n",
       "      <td>247000.0</td>\n",
       "      <td>281000.0</td>\n",
       "      <td>814000.0</td>\n",
       "      <td>333500.0</td>\n",
       "      <td>789000.0</td>\n",
       "    </tr>\n",
       "  </tbody>\n",
       "</table>\n",
       "</div>"
      ],
      "text/plain": [
       "              000660    005380    005490  005930   015760    017670    035420  \\\n",
       "2020-12-30  118500.0  192000.0  272000.0  1620.0  27400.0  238000.0  292500.0   \n",
       "2020-12-29  116000.0  190500.0  270000.0  1566.0  26400.0  237500.0  283000.0   \n",
       "2020-12-28  115500.0  189500.0  273500.0  1574.0  27050.0  247000.0  281000.0   \n",
       "\n",
       "              051910    068270    207940  \n",
       "2020-12-30  824000.0  359000.0  826000.0  \n",
       "2020-12-29  813000.0  360500.0  822000.0  \n",
       "2020-12-28  814000.0  333500.0  789000.0  "
      ]
     },
     "execution_count": 26,
     "metadata": {},
     "output_type": "execute_result"
    }
   ],
   "source": [
    "k10_historical_price['005930'] = k10_historical_price['005930'] / 50   # 삼성전자 액면분할에 따른 수정주가 계산\n",
    "k10_historical_price.head(3)"
   ]
  },
  {
   "cell_type": "markdown",
   "metadata": {},
   "source": [
    "지수 산출을 위한 계산"
   ]
  },
  {
   "cell_type": "code",
   "execution_count": 27,
   "metadata": {
    "scrolled": true
   },
   "outputs": [],
   "source": [
    "tmp = {'Outstanding' : k10_outstanding,\\\n",
    "       'Floating' : k10_floating,\\\n",
    "       'Price' : k10_historical_price.iloc[0],\\\n",
    "       'Name' : k10_name}\n",
    "k10_info = pd.DataFrame(tmp)"
   ]
  },
  {
   "cell_type": "code",
   "execution_count": 28,
   "metadata": {},
   "outputs": [
    {
     "data": {
      "text/html": [
       "<div>\n",
       "<style scoped>\n",
       "    .dataframe tbody tr th:only-of-type {\n",
       "        vertical-align: middle;\n",
       "    }\n",
       "\n",
       "    .dataframe tbody tr th {\n",
       "        vertical-align: top;\n",
       "    }\n",
       "\n",
       "    .dataframe thead th {\n",
       "        text-align: right;\n",
       "    }\n",
       "</style>\n",
       "<table border=\"1\" class=\"dataframe\">\n",
       "  <thead>\n",
       "    <tr style=\"text-align: right;\">\n",
       "      <th></th>\n",
       "      <th>Outstanding</th>\n",
       "      <th>Floating</th>\n",
       "      <th>Price</th>\n",
       "      <th>Name</th>\n",
       "      <th>f Market Cap</th>\n",
       "      <th>Market Cap</th>\n",
       "    </tr>\n",
       "  </thead>\n",
       "  <tbody>\n",
       "    <tr>\n",
       "      <th>000660</th>\n",
       "      <td>728002365</td>\n",
       "      <td>73.86</td>\n",
       "      <td>118500.0</td>\n",
       "      <td>SK하이닉스</td>\n",
       "      <td>6.371775e+13</td>\n",
       "      <td>8.626828e+11</td>\n",
       "    </tr>\n",
       "    <tr>\n",
       "      <th>005380</th>\n",
       "      <td>211531506</td>\n",
       "      <td>65.26</td>\n",
       "      <td>192000.0</td>\n",
       "      <td>현대차</td>\n",
       "      <td>2.650473e+13</td>\n",
       "      <td>4.061405e+11</td>\n",
       "    </tr>\n",
       "    <tr>\n",
       "      <th>005490</th>\n",
       "      <td>84571230</td>\n",
       "      <td>72.35</td>\n",
       "      <td>272000.0</td>\n",
       "      <td>POSCO홀딩스</td>\n",
       "      <td>1.664294e+13</td>\n",
       "      <td>2.300337e+11</td>\n",
       "    </tr>\n",
       "    <tr>\n",
       "      <th>005930</th>\n",
       "      <td>5969782550</td>\n",
       "      <td>75.82</td>\n",
       "      <td>1620.0</td>\n",
       "      <td>삼성전자</td>\n",
       "      <td>7.332588e+12</td>\n",
       "      <td>9.671048e+10</td>\n",
       "    </tr>\n",
       "    <tr>\n",
       "      <th>015760</th>\n",
       "      <td>641964077</td>\n",
       "      <td>46.08</td>\n",
       "      <td>27400.0</td>\n",
       "      <td>한국전력</td>\n",
       "      <td>8.105387e+12</td>\n",
       "      <td>1.758982e+11</td>\n",
       "    </tr>\n",
       "    <tr>\n",
       "      <th>017670</th>\n",
       "      <td>218833144</td>\n",
       "      <td>63.35</td>\n",
       "      <td>238000.0</td>\n",
       "      <td>SK텔레콤</td>\n",
       "      <td>3.299413e+13</td>\n",
       "      <td>5.208229e+11</td>\n",
       "    </tr>\n",
       "    <tr>\n",
       "      <th>035420</th>\n",
       "      <td>164049085</td>\n",
       "      <td>83.30</td>\n",
       "      <td>292500.0</td>\n",
       "      <td>NAVER</td>\n",
       "      <td>3.997097e+13</td>\n",
       "      <td>4.798436e+11</td>\n",
       "    </tr>\n",
       "    <tr>\n",
       "      <th>051910</th>\n",
       "      <td>70592343</td>\n",
       "      <td>66.63</td>\n",
       "      <td>824000.0</td>\n",
       "      <td>LG화학</td>\n",
       "      <td>3.875740e+13</td>\n",
       "      <td>5.816809e+11</td>\n",
       "    </tr>\n",
       "    <tr>\n",
       "      <th>068270</th>\n",
       "      <td>146390862</td>\n",
       "      <td>74.30</td>\n",
       "      <td>359000.0</td>\n",
       "      <td>셀트리온</td>\n",
       "      <td>3.904786e+13</td>\n",
       "      <td>5.255432e+11</td>\n",
       "    </tr>\n",
       "    <tr>\n",
       "      <th>207940</th>\n",
       "      <td>71174000</td>\n",
       "      <td>24.76</td>\n",
       "      <td>826000.0</td>\n",
       "      <td>삼성바이오로직스</td>\n",
       "      <td>1.455634e+13</td>\n",
       "      <td>5.878972e+11</td>\n",
       "    </tr>\n",
       "  </tbody>\n",
       "</table>\n",
       "</div>"
      ],
      "text/plain": [
       "        Outstanding  Floating     Price      Name  f Market Cap    Market Cap\n",
       "000660    728002365     73.86  118500.0    SK하이닉스  6.371775e+13  8.626828e+11\n",
       "005380    211531506     65.26  192000.0       현대차  2.650473e+13  4.061405e+11\n",
       "005490     84571230     72.35  272000.0  POSCO홀딩스  1.664294e+13  2.300337e+11\n",
       "005930   5969782550     75.82    1620.0      삼성전자  7.332588e+12  9.671048e+10\n",
       "015760    641964077     46.08   27400.0      한국전력  8.105387e+12  1.758982e+11\n",
       "017670    218833144     63.35  238000.0     SK텔레콤  3.299413e+13  5.208229e+11\n",
       "035420    164049085     83.30  292500.0     NAVER  3.997097e+13  4.798436e+11\n",
       "051910     70592343     66.63  824000.0      LG화학  3.875740e+13  5.816809e+11\n",
       "068270    146390862     74.30  359000.0      셀트리온  3.904786e+13  5.255432e+11\n",
       "207940     71174000     24.76  826000.0  삼성바이오로직스  1.455634e+13  5.878972e+11"
      ]
     },
     "execution_count": 28,
     "metadata": {},
     "output_type": "execute_result"
    }
   ],
   "source": [
    "k10_info['f Market Cap'] = k10_info['Outstanding'] * k10_info['Floating'] * k10_info['Price'] * 0.01\n",
    "k10_info['Market Cap'] = k10_info['Outstanding'] * k10_info['Price'] * 0.01\n",
    "k10_info"
   ]
  },
  {
   "cell_type": "code",
   "execution_count": 29,
   "metadata": {
    "scrolled": true
   },
   "outputs": [
    {
     "data": {
      "text/html": [
       "<div>\n",
       "<style scoped>\n",
       "    .dataframe tbody tr th:only-of-type {\n",
       "        vertical-align: middle;\n",
       "    }\n",
       "\n",
       "    .dataframe tbody tr th {\n",
       "        vertical-align: top;\n",
       "    }\n",
       "\n",
       "    .dataframe thead th {\n",
       "        text-align: right;\n",
       "    }\n",
       "</style>\n",
       "<table border=\"1\" class=\"dataframe\">\n",
       "  <thead>\n",
       "    <tr style=\"text-align: right;\">\n",
       "      <th></th>\n",
       "      <th>000660</th>\n",
       "      <th>005380</th>\n",
       "      <th>005490</th>\n",
       "      <th>005930</th>\n",
       "      <th>015760</th>\n",
       "      <th>017670</th>\n",
       "      <th>035420</th>\n",
       "      <th>051910</th>\n",
       "      <th>068270</th>\n",
       "      <th>207940</th>\n",
       "    </tr>\n",
       "  </thead>\n",
       "  <tbody>\n",
       "    <tr>\n",
       "      <th>2020-12-30</th>\n",
       "      <td>6.371775e+13</td>\n",
       "      <td>2.650473e+13</td>\n",
       "      <td>1.664294e+13</td>\n",
       "      <td>7.332588e+12</td>\n",
       "      <td>8.105387e+12</td>\n",
       "      <td>3.299413e+13</td>\n",
       "      <td>3.997097e+13</td>\n",
       "      <td>3.875740e+13</td>\n",
       "      <td>3.904786e+13</td>\n",
       "      <td>1.455634e+13</td>\n",
       "    </tr>\n",
       "    <tr>\n",
       "      <th>2020-12-29</th>\n",
       "      <td>6.237350e+13</td>\n",
       "      <td>2.629766e+13</td>\n",
       "      <td>1.652057e+13</td>\n",
       "      <td>7.088169e+12</td>\n",
       "      <td>7.809570e+12</td>\n",
       "      <td>3.292481e+13</td>\n",
       "      <td>3.867277e+13</td>\n",
       "      <td>3.824001e+13</td>\n",
       "      <td>3.921101e+13</td>\n",
       "      <td>1.448584e+13</td>\n",
       "    </tr>\n",
       "    <tr>\n",
       "      <th>2020-12-28</th>\n",
       "      <td>6.210464e+13</td>\n",
       "      <td>2.615961e+13</td>\n",
       "      <td>1.673472e+13</td>\n",
       "      <td>7.124379e+12</td>\n",
       "      <td>8.001851e+12</td>\n",
       "      <td>3.424181e+13</td>\n",
       "      <td>3.839946e+13</td>\n",
       "      <td>3.828704e+13</td>\n",
       "      <td>3.627426e+13</td>\n",
       "      <td>1.390430e+13</td>\n",
       "    </tr>\n",
       "  </tbody>\n",
       "</table>\n",
       "</div>"
      ],
      "text/plain": [
       "                  000660        005380        005490        005930  \\\n",
       "2020-12-30  6.371775e+13  2.650473e+13  1.664294e+13  7.332588e+12   \n",
       "2020-12-29  6.237350e+13  2.629766e+13  1.652057e+13  7.088169e+12   \n",
       "2020-12-28  6.210464e+13  2.615961e+13  1.673472e+13  7.124379e+12   \n",
       "\n",
       "                  015760        017670        035420        051910  \\\n",
       "2020-12-30  8.105387e+12  3.299413e+13  3.997097e+13  3.875740e+13   \n",
       "2020-12-29  7.809570e+12  3.292481e+13  3.867277e+13  3.824001e+13   \n",
       "2020-12-28  8.001851e+12  3.424181e+13  3.839946e+13  3.828704e+13   \n",
       "\n",
       "                  068270        207940  \n",
       "2020-12-30  3.904786e+13  1.455634e+13  \n",
       "2020-12-29  3.921101e+13  1.448584e+13  \n",
       "2020-12-28  3.627426e+13  1.390430e+13  "
      ]
     },
     "execution_count": 29,
     "metadata": {},
     "output_type": "execute_result"
    }
   ],
   "source": [
    "k10_historical_mc = k10_historical_price * k10_info['Outstanding'] * k10_info['Floating'] * 0.01\n",
    "k10_historical_mc.head(3)"
   ]
  },
  {
   "cell_type": "code",
   "execution_count": 30,
   "metadata": {
    "scrolled": true
   },
   "outputs": [
    {
     "data": {
      "text/plain": [
       "2020-12-30    2.876301e+14\n",
       "2020-12-29    2.836239e+14\n",
       "2020-12-28    2.812321e+14\n",
       "2020-12-24    2.839177e+14\n",
       "2020-12-23    2.822224e+14\n",
       "                  ...     \n",
       "2020-01-08    1.922100e+14\n",
       "2020-01-07    1.930683e+14\n",
       "2020-01-06    1.913179e+14\n",
       "2020-01-03    1.933219e+14\n",
       "2020-01-02    1.943554e+14\n",
       "Length: 248, dtype: float64"
      ]
     },
     "execution_count": 30,
     "metadata": {},
     "output_type": "execute_result"
    }
   ],
   "source": [
    "'''\n",
    "<데이터프레임>.sum() 은 각 열의 합 (세로방향)\n",
    "<데이터프레임>.sum(axis=1) 은 각 행의 합 (가로방향)\n",
    "'''\n",
    "k10_historical_mc.sum(axis=1)     # 일자별 시가총액 합"
   ]
  },
  {
   "cell_type": "code",
   "execution_count": 31,
   "metadata": {
    "scrolled": true
   },
   "outputs": [
    {
     "data": {
      "text/html": [
       "<div>\n",
       "<style scoped>\n",
       "    .dataframe tbody tr th:only-of-type {\n",
       "        vertical-align: middle;\n",
       "    }\n",
       "\n",
       "    .dataframe tbody tr th {\n",
       "        vertical-align: top;\n",
       "    }\n",
       "\n",
       "    .dataframe thead th {\n",
       "        text-align: right;\n",
       "    }\n",
       "</style>\n",
       "<table border=\"1\" class=\"dataframe\">\n",
       "  <thead>\n",
       "    <tr style=\"text-align: right;\">\n",
       "      <th></th>\n",
       "      <th>K10 Market Cap</th>\n",
       "    </tr>\n",
       "  </thead>\n",
       "  <tbody>\n",
       "    <tr>\n",
       "      <th>2020-12-30</th>\n",
       "      <td>2.876301e+14</td>\n",
       "    </tr>\n",
       "    <tr>\n",
       "      <th>2020-12-29</th>\n",
       "      <td>2.836239e+14</td>\n",
       "    </tr>\n",
       "    <tr>\n",
       "      <th>2020-12-28</th>\n",
       "      <td>2.812321e+14</td>\n",
       "    </tr>\n",
       "  </tbody>\n",
       "</table>\n",
       "</div>"
      ],
      "text/plain": [
       "            K10 Market Cap\n",
       "2020-12-30    2.876301e+14\n",
       "2020-12-29    2.836239e+14\n",
       "2020-12-28    2.812321e+14"
      ]
     },
     "execution_count": 31,
     "metadata": {},
     "output_type": "execute_result"
    }
   ],
   "source": [
    "k10 = pd.DataFrame()\n",
    "k10['K10 Market Cap'] = k10_historical_mc.sum(axis=1)\n",
    "k10.head(3)"
   ]
  },
  {
   "cell_type": "code",
   "execution_count": 32,
   "metadata": {
    "scrolled": true
   },
   "outputs": [
    {
     "data": {
      "text/html": [
       "<div>\n",
       "<style scoped>\n",
       "    .dataframe tbody tr th:only-of-type {\n",
       "        vertical-align: middle;\n",
       "    }\n",
       "\n",
       "    .dataframe tbody tr th {\n",
       "        vertical-align: top;\n",
       "    }\n",
       "\n",
       "    .dataframe thead th {\n",
       "        text-align: right;\n",
       "    }\n",
       "</style>\n",
       "<table border=\"1\" class=\"dataframe\">\n",
       "  <thead>\n",
       "    <tr style=\"text-align: right;\">\n",
       "      <th></th>\n",
       "      <th>K10 Market Cap</th>\n",
       "      <th>K10</th>\n",
       "    </tr>\n",
       "  </thead>\n",
       "  <tbody>\n",
       "    <tr>\n",
       "      <th>2020-12-30</th>\n",
       "      <td>2.876301e+14</td>\n",
       "      <td>100.000000</td>\n",
       "    </tr>\n",
       "    <tr>\n",
       "      <th>2020-12-29</th>\n",
       "      <td>2.836239e+14</td>\n",
       "      <td>98.607175</td>\n",
       "    </tr>\n",
       "    <tr>\n",
       "      <th>2020-12-28</th>\n",
       "      <td>2.812321e+14</td>\n",
       "      <td>97.775613</td>\n",
       "    </tr>\n",
       "  </tbody>\n",
       "</table>\n",
       "</div>"
      ],
      "text/plain": [
       "            K10 Market Cap         K10\n",
       "2020-12-30    2.876301e+14  100.000000\n",
       "2020-12-29    2.836239e+14   98.607175\n",
       "2020-12-28    2.812321e+14   97.775613"
      ]
     },
     "execution_count": 32,
     "metadata": {},
     "output_type": "execute_result"
    }
   ],
   "source": [
    "k10['K10'] = k10['K10 Market Cap'] / k10['K10 Market Cap'][0] * 100\n",
    "k10.head(3)"
   ]
  },
  {
   "cell_type": "code",
   "execution_count": null,
   "metadata": {},
   "outputs": [],
   "source": []
  },
  {
   "cell_type": "markdown",
   "metadata": {},
   "source": [
    "K10 지수 그래프 그리기"
   ]
  },
  {
   "cell_type": "code",
   "execution_count": 33,
   "metadata": {},
   "outputs": [],
   "source": [
    "import matplotlib.pyplot as plt\n",
    "%matplotlib inline"
   ]
  },
  {
   "cell_type": "code",
   "execution_count": 34,
   "metadata": {},
   "outputs": [
    {
     "data": {
      "image/png": "[encoded data removed]",
      "text/plain": [
       "<Figure size 1000x500 with 1 Axes>"
      ]
     },
     "metadata": {},
     "output_type": "display_data"
    }
   ],
   "source": [
    "plt.figure(figsize=(10, 5))\n",
    "plt.plot(k10['K10'], label='K10')\n",
    "plt.legend(loc=0)\n",
    "plt.grid(True, color='0.7', linestyle=':', linewidth=1)"
   ]
  },
  {
   "cell_type": "markdown",
   "metadata": {},
   "source": [
    "KOSPI200과의 비교"
   ]
  },
  {
   "cell_type": "code",
   "execution_count": 35,
   "metadata": {},
   "outputs": [],
   "source": [
    "def historical_index_naver(index_cd, start_date='', end_date='', page_n=1, last_page=0):\n",
    "    \n",
    "    index_cd = index_cd   # 인덱스 코드 \n",
    "    page_n = page_n   # 페이지 번호 \n",
    "    \n",
    "    if start_date:   # start_date가 있으면\n",
    "        start_date = date_format(start_date)   # date 포맷으로 변환\n",
    "    else:    # 없으면\n",
    "        start_date = dt.date.today()   # 오늘 날짜를 지정\n",
    "    if not end_date:   # end_date가 없으면 \n",
    "        end_date = dt.date.today()   # 오늘 날짜를 end_date로 지정\n",
    "    else:   # end_date가 있으면\n",
    "        end_date = date_format(end_date)   # date 포맷으로 변환\n",
    "        \n",
    "    naver_index = 'http://finance.naver.com/sise/sise_index_day.nhn?code=' + index_cd + '&page=' + str(page_n)\n",
    "    \n",
    "    # source = urlopen(naver_index).read()   # 지정한 페이지에서 코드 읽기\n",
    "    \n",
    "    url = urllib.request.Request(naver_index, headers=headers)   # headers 정보 보내기\n",
    "    source = urlopen(url).read()\n",
    "    \n",
    "    source = bs4.BeautifulSoup(source, 'lxml')   # 뷰티풀 스프로 태그별로 코드 분류\n",
    "    \n",
    "    dates = source.find_all('td', class_='date')   # <td class=\"date\">태그에서 날짜 수집   \n",
    "    prices = source.find_all('td', class_='number_1')   # <td class=\"number_1\">태그에서 지수 수집\n",
    "    \n",
    "    for n in range(len(dates)):\n",
    "    \n",
    "        if dates[n].text.split('.')[0].isdigit():\n",
    "            \n",
    "            # 날짜 처리\n",
    "            this_date = dates[n].text\n",
    "            this_date= date_format(this_date)\n",
    "            \n",
    "            if this_date <= end_date and this_date >= start_date:   \n",
    "            # start_date와 end_date 사이에서 데이터 저장\n",
    "                # 종가 처리\n",
    "                this_close = prices[n*4].text   # prices 중 종가지수인 0,4,8,...번째 데이터 추출\n",
    "                this_close = this_close.replace(',', '')\n",
    "                this_close = float(this_close)\n",
    "\n",
    "                # 딕셔너리에 저장\n",
    "                historical_prices[this_date] = this_close\n",
    "                \n",
    "            elif this_date < start_date:   \n",
    "            # start_date 이전이면 함수 종료\n",
    "                return historical_prices           \n",
    "            \n",
    "    # 페이지 네비게이션\n",
    "    if last_page == 0:\n",
    "        last_page = source.find('td', class_='pgRR').find('a')['href']\n",
    "        # 마지막페이지 주소 추출\n",
    "        last_page = last_page.split('&')[1]   # & 뒤의 page=506 부분 추출\n",
    "        last_page = last_page.split('=')[1]   # = 뒤의 페이지번호만 추출\n",
    "        last_page = int(last_page)   # 숫자형 변수로 변환\n",
    "        \n",
    "    # 다음 페이지 호출\n",
    "    if page_n < last_page:   \n",
    "        page_n = page_n + 1   \n",
    "        historical_index_naver(index_cd, start_date, end_date, page_n, last_page)   \n",
    "        \n",
    "    return historical_prices  "
   ]
  },
  {
   "cell_type": "code",
   "execution_count": 36,
   "metadata": {
    "scrolled": true
   },
   "outputs": [
    {
     "data": {
      "text/plain": [
       "{datetime.date(2020, 12, 30): 389.29,\n",
       " datetime.date(2020, 12, 29): 381.27,\n",
       " datetime.date(2020, 12, 28): 379.93,\n",
       " datetime.date(2020, 12, 24): 379.18,\n",
       " datetime.date(2020, 12, 23): 371.32,\n",
       " datetime.date(2020, 12, 22): 366.43,\n",
       " datetime.date(2020, 12, 21): 372.18,\n",
       " datetime.date(2020, 12, 18): 371.55,\n",
       " datetime.date(2020, 12, 17): 372.0,\n",
       " datetime.date(2020, 12, 16): 372.53,\n",
       " datetime.date(2020, 12, 15): 370.88,\n",
       " datetime.date(2020, 12, 14): 371.56,\n",
       " datetime.date(2020, 12, 11): 372.24,\n",
       " datetime.date(2020, 12, 10): 369.37,\n",
       " datetime.date(2020, 12, 9): 371.47,\n",
       " datetime.date(2020, 12, 8): 363.45,\n",
       " datetime.date(2020, 12, 7): 369.86,\n",
       " datetime.date(2020, 12, 4): 367.63,\n",
       " datetime.date(2020, 12, 3): 361.66,\n",
       " datetime.date(2020, 12, 2): 358.66,\n",
       " datetime.date(2020, 12, 1): 352.4,\n",
       " datetime.date(2020, 11, 30): 346.05,\n",
       " datetime.date(2020, 11, 27): 352.73,\n",
       " datetime.date(2020, 11, 26): 352.12,\n",
       " datetime.date(2020, 11, 25): 348.3,\n",
       " datetime.date(2020, 11, 24): 350.28,\n",
       " datetime.date(2020, 11, 23): 348.46,\n",
       " datetime.date(2020, 11, 20): 340.62,\n",
       " datetime.date(2020, 11, 19): 340.16,\n",
       " datetime.date(2020, 11, 18): 339.96,\n",
       " datetime.date(2020, 11, 17): 339.85,\n",
       " datetime.date(2020, 11, 16): 340.63,\n",
       " datetime.date(2020, 11, 13): 333.03,\n",
       " datetime.date(2020, 11, 12): 329.72,\n",
       " datetime.date(2020, 11, 11): 331.12,\n",
       " datetime.date(2020, 11, 10): 326.13,\n",
       " datetime.date(2020, 11, 9): 325.83,\n",
       " datetime.date(2020, 11, 6): 322.1,\n",
       " datetime.date(2020, 11, 5): 321.51,\n",
       " datetime.date(2020, 11, 4): 313.83,\n",
       " datetime.date(2020, 11, 3): 312.07,\n",
       " datetime.date(2020, 11, 2): 305.95,\n",
       " datetime.date(2020, 10, 30): 301.6,\n",
       " datetime.date(2020, 10, 29): 309.94,\n",
       " datetime.date(2020, 10, 28): 313.17,\n",
       " datetime.date(2020, 10, 27): 311.8,\n",
       " datetime.date(2020, 10, 26): 313.53,\n",
       " datetime.date(2020, 10, 23): 314.79,\n",
       " datetime.date(2020, 10, 22): 313.77,\n",
       " datetime.date(2020, 10, 21): 315.76,\n",
       " datetime.date(2020, 10, 20): 314.71,\n",
       " datetime.date(2020, 10, 19): 312.59,\n",
       " datetime.date(2020, 10, 16): 311.83,\n",
       " datetime.date(2020, 10, 15): 313.92,\n",
       " datetime.date(2020, 10, 14): 316.57,\n",
       " datetime.date(2020, 10, 13): 319.58,\n",
       " datetime.date(2020, 10, 12): 319.15,\n",
       " datetime.date(2020, 10, 8): 317.47,\n",
       " datetime.date(2020, 10, 7): 317.35,\n",
       " datetime.date(2020, 10, 6): 314.45,\n",
       " datetime.date(2020, 10, 5): 313.51,\n",
       " datetime.date(2020, 9, 29): 309.44,\n",
       " datetime.date(2020, 9, 28): 307.03,\n",
       " datetime.date(2020, 9, 25): 303.57,\n",
       " datetime.date(2020, 9, 24): 302.48,\n",
       " datetime.date(2020, 9, 23): 309.64,\n",
       " datetime.date(2020, 9, 22): 308.82,\n",
       " datetime.date(2020, 9, 21): 315.89,\n",
       " datetime.date(2020, 9, 18): 318.39,\n",
       " datetime.date(2020, 9, 17): 318.0,\n",
       " datetime.date(2020, 9, 16): 322.31,\n",
       " datetime.date(2020, 9, 15): 323.36,\n",
       " datetime.date(2020, 9, 14): 320.98,\n",
       " datetime.date(2020, 9, 11): 316.45,\n",
       " datetime.date(2020, 9, 10): 316.53,\n",
       " datetime.date(2020, 9, 9): 313.77,\n",
       " datetime.date(2020, 9, 8): 317.38,\n",
       " datetime.date(2020, 9, 7): 313.67,\n",
       " datetime.date(2020, 9, 4): 312.03,\n",
       " datetime.date(2020, 9, 3): 316.43,\n",
       " datetime.date(2020, 9, 2): 311.5,\n",
       " datetime.date(2020, 9, 1): 309.81,\n",
       " datetime.date(2020, 8, 31): 307.14,\n",
       " datetime.date(2020, 8, 28): 312.24,\n",
       " datetime.date(2020, 8, 27): 311.38,\n",
       " datetime.date(2020, 8, 26): 314.19,\n",
       " datetime.date(2020, 8, 25): 313.59,\n",
       " datetime.date(2020, 8, 24): 309.33,\n",
       " datetime.date(2020, 8, 21): 306.16,\n",
       " datetime.date(2020, 8, 20): 301.59,\n",
       " datetime.date(2020, 8, 19): 313.54,\n",
       " datetime.date(2020, 8, 18): 312.84,\n",
       " datetime.date(2020, 8, 14): 319.24,\n",
       " datetime.date(2020, 8, 13): 323.33,\n",
       " datetime.date(2020, 8, 12): 322.68,\n",
       " datetime.date(2020, 8, 11): 321.02,\n",
       " datetime.date(2020, 8, 10): 316.77,\n",
       " datetime.date(2020, 8, 7): 312.57,\n",
       " datetime.date(2020, 8, 6): 311.32,\n",
       " datetime.date(2020, 8, 5): 306.64,\n",
       " datetime.date(2020, 8, 4): 303.04,\n",
       " datetime.date(2020, 8, 3): 299.46,\n",
       " datetime.date(2020, 7, 31): 299.32,\n",
       " datetime.date(2020, 7, 30): 301.85,\n",
       " datetime.date(2020, 7, 29): 301.25,\n",
       " datetime.date(2020, 7, 28): 300.13,\n",
       " datetime.date(2020, 7, 27): 293.51,\n",
       " datetime.date(2020, 7, 24): 290.66,\n",
       " datetime.date(2020, 7, 23): 292.37,\n",
       " datetime.date(2020, 7, 22): 294.04,\n",
       " datetime.date(2020, 7, 21): 295.16,\n",
       " datetime.date(2020, 7, 20): 290.81,\n",
       " datetime.date(2020, 7, 17): 291.57,\n",
       " datetime.date(2020, 7, 16): 289.25,\n",
       " datetime.date(2020, 7, 15): 292.27,\n",
       " datetime.date(2020, 7, 14): 289.63,\n",
       " datetime.date(2020, 7, 13): 289.84,\n",
       " datetime.date(2020, 7, 10): 285.06,\n",
       " datetime.date(2020, 7, 9): 287.25,\n",
       " datetime.date(2020, 7, 8): 285.97,\n",
       " datetime.date(2020, 7, 7): 286.77,\n",
       " datetime.date(2020, 7, 6): 290.62,\n",
       " datetime.date(2020, 7, 3): 285.89,\n",
       " datetime.date(2020, 7, 2): 283.86,\n",
       " datetime.date(2020, 7, 1): 280.26,\n",
       " datetime.date(2020, 6, 30): 280.09,\n",
       " datetime.date(2020, 6, 29): 278.04,\n",
       " datetime.date(2020, 6, 26): 283.38,\n",
       " datetime.date(2020, 6, 25): 279.73,\n",
       " datetime.date(2020, 6, 24): 286.7,\n",
       " datetime.date(2020, 6, 23): 281.94,\n",
       " datetime.date(2020, 6, 22): 281.42,\n",
       " datetime.date(2020, 6, 19): 283.37,\n",
       " datetime.date(2020, 6, 18): 281.91,\n",
       " datetime.date(2020, 6, 17): 283.02,\n",
       " datetime.date(2020, 6, 16): 282.59,\n",
       " datetime.date(2020, 6, 15): 267.95,\n",
       " datetime.date(2020, 6, 12): 281.78,\n",
       " datetime.date(2020, 6, 11): 288.62,\n",
       " datetime.date(2020, 6, 10): 291.9,\n",
       " datetime.date(2020, 6, 9): 291.32,\n",
       " datetime.date(2020, 6, 8): 290.77,\n",
       " datetime.date(2020, 6, 5): 290.62,\n",
       " datetime.date(2020, 6, 4): 286.45,\n",
       " datetime.date(2020, 6, 3): 285.91,\n",
       " datetime.date(2020, 6, 2): 276.08,\n",
       " datetime.date(2020, 6, 1): 273.19,\n",
       " datetime.date(2020, 5, 29): 268.32,\n",
       " datetime.date(2020, 5, 28): 268.29,\n",
       " datetime.date(2020, 5, 27): 267.64,\n",
       " datetime.date(2020, 5, 26): 267.31,\n",
       " datetime.date(2020, 5, 25): 262.76,\n",
       " datetime.date(2020, 5, 22): 259.62,\n",
       " datetime.date(2020, 5, 21): 263.74,\n",
       " datetime.date(2020, 5, 20): 262.72,\n",
       " datetime.date(2020, 5, 19): 261.79,\n",
       " datetime.date(2020, 5, 18): 255.44,\n",
       " datetime.date(2020, 5, 15): 253.79,\n",
       " datetime.date(2020, 5, 14): 253.65,\n",
       " datetime.date(2020, 5, 13): 255.85,\n",
       " datetime.date(2020, 5, 12): 253.37,\n",
       " datetime.date(2020, 5, 11): 254.95,\n",
       " datetime.date(2020, 5, 8): 256.62,\n",
       " datetime.date(2020, 5, 7): 254.46,\n",
       " datetime.date(2020, 5, 6): 255.0,\n",
       " datetime.date(2020, 5, 4): 250.6,\n",
       " datetime.date(2020, 4, 29): 258.15,\n",
       " datetime.date(2020, 4, 28): 256.39,\n",
       " datetime.date(2020, 4, 27): 254.84,\n",
       " datetime.date(2020, 4, 24): 250.28,\n",
       " datetime.date(2020, 4, 23): 253.74,\n",
       " datetime.date(2020, 4, 22): 251.88,\n",
       " datetime.date(2020, 4, 21): 249.4,\n",
       " datetime.date(2020, 4, 20): 252.14,\n",
       " datetime.date(2020, 4, 17): 255.02,\n",
       " datetime.date(2020, 4, 16): 247.1,\n",
       " datetime.date(2020, 4, 14): 247.45,\n",
       " datetime.date(2020, 4, 13): 243.4,\n",
       " datetime.date(2020, 4, 10): 248.0,\n",
       " datetime.date(2020, 4, 9): 245.61,\n",
       " datetime.date(2020, 4, 8): 241.89,\n",
       " datetime.date(2020, 4, 7): 244.87,\n",
       " datetime.date(2020, 4, 6): 240.81,\n",
       " datetime.date(2020, 4, 3): 231.7,\n",
       " datetime.date(2020, 4, 2): 231.84,\n",
       " datetime.date(2020, 4, 1): 226.35,\n",
       " datetime.date(2020, 3, 31): 236.82,\n",
       " datetime.date(2020, 3, 30): 232.45,\n",
       " datetime.date(2020, 3, 27): 233.79,\n",
       " datetime.date(2020, 3, 26): 229.34,\n",
       " datetime.date(2020, 3, 25): 232.89,\n",
       " datetime.date(2020, 3, 24): 220.34,\n",
       " datetime.date(2020, 3, 23): 201.87,\n",
       " datetime.date(2020, 3, 20): 213.67,\n",
       " datetime.date(2020, 3, 19): 199.28,\n",
       " datetime.date(2020, 3, 18): 215.83,\n",
       " datetime.date(2020, 3, 17): 226.89,\n",
       " datetime.date(2020, 3, 16): 232.97,\n",
       " datetime.date(2020, 3, 13): 240.65,\n",
       " datetime.date(2020, 3, 12): 247.62,\n",
       " datetime.date(2020, 3, 11): 257.01,\n",
       " datetime.date(2020, 3, 10): 264.67,\n",
       " datetime.date(2020, 3, 9): 263.11,\n",
       " datetime.date(2020, 3, 6): 275.1,\n",
       " datetime.date(2020, 3, 5): 281.38,\n",
       " datetime.date(2020, 3, 4): 278.13,\n",
       " datetime.date(2020, 3, 3): 271.56,\n",
       " datetime.date(2020, 3, 2): 270.37,\n",
       " datetime.date(2020, 2, 28): 268.02,\n",
       " datetime.date(2020, 2, 27): 277.09,\n",
       " datetime.date(2020, 2, 26): 279.94,\n",
       " datetime.date(2020, 2, 25): 284.24,\n",
       " datetime.date(2020, 2, 24): 281.02,\n",
       " datetime.date(2020, 2, 21): 292.42,\n",
       " datetime.date(2020, 2, 20): 296.65,\n",
       " datetime.date(2020, 2, 19): 298.33,\n",
       " datetime.date(2020, 2, 18): 297.74,\n",
       " datetime.date(2020, 2, 17): 302.76,\n",
       " datetime.date(2020, 2, 14): 303.01,\n",
       " datetime.date(2020, 2, 13): 300.93,\n",
       " datetime.date(2020, 2, 12): 301.54,\n",
       " datetime.date(2020, 2, 11): 299.28,\n",
       " datetime.date(2020, 2, 10): 296.24,\n",
       " datetime.date(2020, 2, 7): 298.21,\n",
       " datetime.date(2020, 2, 6): 300.65,\n",
       " datetime.date(2020, 2, 5): 292.02,\n",
       " datetime.date(2020, 2, 4): 290.68,\n",
       " datetime.date(2020, 2, 3): 285.05,\n",
       " datetime.date(2020, 1, 31): 284.53,\n",
       " datetime.date(2020, 1, 30): 288.37,\n",
       " datetime.date(2020, 1, 29): 293.98,\n",
       " datetime.date(2020, 1, 28): 292.77,\n",
       " datetime.date(2020, 1, 23): 302.33,\n",
       " datetime.date(2020, 1, 22): 306.08,\n",
       " datetime.date(2020, 1, 21): 302.11,\n",
       " datetime.date(2020, 1, 20): 305.58,\n",
       " datetime.date(2020, 1, 17): 303.3,\n",
       " datetime.date(2020, 1, 16): 302.78,\n",
       " datetime.date(2020, 1, 15): 299.74,\n",
       " datetime.date(2020, 1, 14): 301.53,\n",
       " datetime.date(2020, 1, 13): 300.13,\n",
       " datetime.date(2020, 1, 10): 297.06,\n",
       " datetime.date(2020, 1, 9): 294.41,\n",
       " datetime.date(2020, 1, 8): 289.42,\n",
       " datetime.date(2020, 1, 7): 291.23,\n",
       " datetime.date(2020, 1, 6): 288.43,\n",
       " datetime.date(2020, 1, 3): 290.74,\n",
       " datetime.date(2020, 1, 2): 290.35}"
      ]
     },
     "execution_count": 36,
     "metadata": {},
     "output_type": "execute_result"
    }
   ],
   "source": [
    "historical_prices = dict()     # 딕셔너리 초기화\n",
    "kospi200 = historical_index_naver('KPI200', '2020-1-1', '2020-12-31')\n",
    "kospi200"
   ]
  },
  {
   "cell_type": "code",
   "execution_count": 37,
   "metadata": {
    "scrolled": true
   },
   "outputs": [
    {
     "data": {
      "text/html": [
       "<div>\n",
       "<style scoped>\n",
       "    .dataframe tbody tr th:only-of-type {\n",
       "        vertical-align: middle;\n",
       "    }\n",
       "\n",
       "    .dataframe tbody tr th {\n",
       "        vertical-align: top;\n",
       "    }\n",
       "\n",
       "    .dataframe thead th {\n",
       "        text-align: right;\n",
       "    }\n",
       "</style>\n",
       "<table border=\"1\" class=\"dataframe\">\n",
       "  <thead>\n",
       "    <tr style=\"text-align: right;\">\n",
       "      <th></th>\n",
       "      <th>K200</th>\n",
       "    </tr>\n",
       "  </thead>\n",
       "  <tbody>\n",
       "    <tr>\n",
       "      <th>2020-01-02</th>\n",
       "      <td>290.35</td>\n",
       "    </tr>\n",
       "    <tr>\n",
       "      <th>2020-01-03</th>\n",
       "      <td>290.74</td>\n",
       "    </tr>\n",
       "    <tr>\n",
       "      <th>2020-01-06</th>\n",
       "      <td>288.43</td>\n",
       "    </tr>\n",
       "  </tbody>\n",
       "</table>\n",
       "</div>"
      ],
      "text/plain": [
       "              K200\n",
       "2020-01-02  290.35\n",
       "2020-01-03  290.74\n",
       "2020-01-06  288.43"
      ]
     },
     "execution_count": 37,
     "metadata": {},
     "output_type": "execute_result"
    }
   ],
   "source": [
    "k200 = pd.DataFrame({'K200' : kospi200})\n",
    "k200.head(3)"
   ]
  },
  {
   "cell_type": "code",
   "execution_count": 38,
   "metadata": {},
   "outputs": [
    {
     "data": {
      "image/png": "[encoded data removed]",
      "text/plain": [
       "<Figure size 1000x500 with 1 Axes>"
      ]
     },
     "metadata": {},
     "output_type": "display_data"
    }
   ],
   "source": [
    "plt.figure(figsize=(10, 5))\n",
    "plt.plot(k10['K10'] / k10['K10'][0] * 100, label='K10')\n",
    "plt.plot(k200['K200'] / k200['K200'][0] * 100, label='K200')\n",
    "plt.legend(loc=0)\n",
    "plt.grid(True, color='0.7', linestyle=':', linewidth=1)"
   ]
  },
  {
   "cell_type": "code",
   "execution_count": null,
   "metadata": {},
   "outputs": [],
   "source": []
  },
  {
   "cell_type": "markdown",
   "metadata": {},
   "source": [
    "# K10 선물가격 산출"
   ]
  },
  {
   "cell_type": "code",
   "execution_count": 39,
   "metadata": {},
   "outputs": [],
   "source": [
    "import math"
   ]
  },
  {
   "cell_type": "markdown",
   "metadata": {},
   "source": [
    "F = Se^(r-d)t"
   ]
  },
  {
   "cell_type": "code",
   "execution_count": 40,
   "metadata": {},
   "outputs": [],
   "source": [
    "def futures_price (S, r, d, T, t0):\n",
    "    t = (T - t0).days / 252\n",
    "    F = S * math.exp((r-d)*t)\n",
    "    return F"
   ]
  },
  {
   "cell_type": "code",
   "execution_count": 41,
   "metadata": {},
   "outputs": [
    {
     "data": {
      "text/plain": [
       "100.36176390281524"
      ]
     },
     "execution_count": 41,
     "metadata": {},
     "output_type": "execute_result"
    }
   ],
   "source": [
    "T = dt.date(2018, 12, 14)     # 만기일\n",
    "t0 = dt.date(2018, 6, 15)     # 현재일\n",
    "\n",
    "futures_price (100.0, 0.02, 0.015, T, t0)"
   ]
  },
  {
   "cell_type": "code",
   "execution_count": 42,
   "metadata": {},
   "outputs": [
    {
     "data": {
      "text/plain": [
       "100.00793682288563"
      ]
     },
     "execution_count": 42,
     "metadata": {},
     "output_type": "execute_result"
    }
   ],
   "source": [
    "T = dt.date(2018, 12, 14)     # 만기일\n",
    "t0 = dt.date(2018, 12, 10)     # 현재일\n",
    "\n",
    "futures_price (100.0, 0.02, 0.015, T, t0)"
   ]
  },
  {
   "cell_type": "code",
   "execution_count": null,
   "metadata": {},
   "outputs": [],
   "source": []
  }
 ],
 "metadata": {
  "kernelspec": {
   "display_name": "Python 3 (ipykernel)",
   "language": "python",
   "name": "python3"
  },
  "language_info": {
   "codemirror_mode": {
    "name": "ipython",
    "version": 3
   },
   "file_extension": ".py",
   "mimetype": "text/x-python",
   "name": "python",
   "nbconvert_exporter": "python",
   "pygments_lexer": "ipython3",
   "version": "3.8.8"
  }
 },
 "nbformat": 4,
 "nbformat_minor": 4
}

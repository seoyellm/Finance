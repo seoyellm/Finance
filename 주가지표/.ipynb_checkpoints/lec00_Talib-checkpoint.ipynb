{
 "cells": [
  {
   "cell_type": "markdown",
   "id": "05ba6ad2-97d9-4cb0-9b9f-e5fcb31aacc0",
   "metadata": {},
   "source": [
    "<font size=6><b>Lec00. Ta-Lib"
   ]
  },
  {
   "cell_type": "markdown",
   "id": "19e35012-d30e-4012-beca-142c07d4f878",
   "metadata": {},
   "source": [
    "ref : https://github.com/TA-Lib/ta-lib-python<br>\n",
    "**Function List**\n",
    "<pre>\n",
    "Overlap Studies\n",
    "Momentum Indicators\n",
    "Volume Indicators\n",
    "Volatility Indicators\n",
    "Price Transform\n",
    "Cycle Indicators\n",
    "Pattern Recognition\n",
    "Statistic Functions\n",
    "Math Transform\n",
    "Math Operators\n"
   ]
  },
  {
   "cell_type": "code",
   "execution_count": 16,
   "id": "5103b6bb-9557-4ebb-9986-185b2fca6056",
   "metadata": {
    "tags": []
   },
   "outputs": [],
   "source": [
    "import talib.abstract as ta\n",
    "from pandas_datareader import data\n",
    "import FinanceDataReader as fdr\n",
    "from talib import MA_Type\n",
    "import numpy as np"
   ]
  },
  {
   "cell_type": "code",
   "execution_count": null,
   "id": "c17a440f-178e-4af1-a5fa-ae92caa7204d",
   "metadata": {
    "tags": []
   },
   "outputs": [],
   "source": [
    "df = data.DataReader('215600.KQ','yahoo', '2017-01-01', '2018-01-31')\\\n",
    "    .dropna(how='all')\\\n",
    "    .rename(columns=lambda col:col.lower()) # 컬럼 이름을 소문자로 변경\n",
    "df.head()"
   ]
  },
  {
   "cell_type": "markdown",
   "id": "bd9bf0b9-dc07-4713-a6d7-c49d3d587a92",
   "metadata": {
    "tags": []
   },
   "source": [
    "## 이동평균(MA: Moving Average)\n",
    "- ref : https://bosungs2y.tistory.com/261\n",
    "- 보통 과거 5,10,20,60,120,200,250 일 동안의 이평 계산\n",
    "- 묶는 일수가 커질수록 변동폭이 완만해짐\n",
    "- 추세 판단에 사용\n",
    "- 이평선과 현재 주가의 괴리가 얼마나 벌어져 있는가로 추세적 매매를 결정\n",
    "    - 당일 종가가 이동평균선(5일,10일,20일,120일평균값) 위에 있으면 상승추세로 판단 (가격이 평균값보다 높으므로)\n",
    "*******\n",
    "- 저항선과 지지선\n",
    "    - 저항선 : 주가가 일정 수준까지 올라가면 더 이상 올라가지 못하는 지점을 선으로 이은 것\n",
    "    - 지지선 : 주가가 일정 수준으로 내려오면 더 이상 내려가지 않으려고 하는 저점을 선으로 이은 것\n",
    "    - 기준은 매매자에 따라 다름\n",
    "    - 거래량이 받춰줘야만 저항/지지선을 뚫을 수 있다 -> 반드시 같이 봐야 함\n",
    "        - 거래량 그래프 : 파란색 / 빨간색 : 단발성\n",
    "*******\n",
    "- Gold Cross : 단기이평이 중장기이평을 넘어가는 경우 --> 상승 추세로 볼 수 있음\n",
    "- Dead Cross : 단기이평이 중장기이평보다 내려가는 경우 --> 하락 추세로 볼 수 있음\n",
    "*******\n",
    "- 정배열 : 장기선 < 중기선 < 단기선 -> 강한 상승추세 == 매수신호\n",
    "- 역배열 : 장기선 > 중시건 > 단기선 -> 강한 하락추세 == 매도신호\n",
    "*******\n",
    "- 캔들스틱이 이평선 보다 올라와있어야 강한 상승(1분봉보기)\n",
    "- 캔들스틱이 이평선을 타고 내려오며 20일선이 뚫리면 강한 하락(5분봉보기)\n",
    "*******\n",
    "- 종류\n",
    "    1. 단순이동평균(SMA)\n",
    "    2. 가중이동평균(WMA)\n",
    "        - 현재의 값, 데이터에 더 가중치를 두고 과거의 값에는 보다 적은 가중치를 두어, 현재의 추세를 더욱 잘 반영하도록 함\n",
    "        - 특정기간내의 데이터만 반영      \n",
    "    3. 지수이동평균(EMA)\n",
    "        - 가중이평과 달리 과거의 데이터에 가중치 조금이라도 적용(가중이평은 과거의 데이터에 가중치를 적용하지 않음)\n",
    "        - 단기 변동성 파악에 좋음"
   ]
  },
  {
   "cell_type": "code",
   "execution_count": 18,
   "id": "740c8332-e0d0-4b3b-96a3-c7bd93445b8b",
   "metadata": {},
   "outputs": [
    {
     "name": "stdout",
     "output_type": "stream",
     "text": [
      "71.3 µs ± 2.26 µs per loop (mean ± std. dev. of 7 runs, 10000 loops each)\n"
     ]
    },
    {
     "data": {
      "text/plain": [
       "Date\n",
       "2017-01-02        NaN\n",
       "2017-01-13        NaN\n",
       "2017-01-17        NaN\n",
       "2017-01-23        NaN\n",
       "2017-02-07    11520.0\n",
       "dtype: float64"
      ]
     },
     "execution_count": 18,
     "metadata": {},
     "output_type": "execute_result"
    }
   ],
   "source": [
    "%timeit ta.MA(df, timeperiod=5)\n",
    "ta.MA(df, timeperiod=5).head()"
   ]
  },
  {
   "cell_type": "code",
   "execution_count": 14,
   "id": "d17f99df-df83-4f26-9753-0d1062d60ba5",
   "metadata": {},
   "outputs": [
    {
     "name": "stdout",
     "output_type": "stream",
     "text": [
      "179 µs ± 1.93 µs per loop (mean ± std. dev. of 7 runs, 1000 loops each)\n"
     ]
    },
    {
     "data": {
      "text/plain": [
       "Date\n",
       "2018-01-25    108820.0\n",
       "2018-01-26    110220.0\n",
       "2018-01-29    111400.0\n",
       "2018-01-30    110420.0\n",
       "2018-01-31    109500.0\n",
       "Name: close, dtype: float64"
      ]
     },
     "execution_count": 14,
     "metadata": {},
     "output_type": "execute_result"
    }
   ],
   "source": [
    "%timeit df['close'].rolling(window=5).mean()\n",
    "df['close'].rolling(window=5).mean().tail() "
   ]
  },
  {
   "cell_type": "markdown",
   "id": "725771cd-de70-45bc-bd0f-44772550bc59",
   "metadata": {},
   "source": [
    "## 단순이동평균(SMA)  == MA"
   ]
  },
  {
   "cell_type": "code",
   "execution_count": 21,
   "id": "a51116b9-6086-44ab-8380-d41a98c15e3c",
   "metadata": {},
   "outputs": [
    {
     "data": {
      "text/plain": [
       "Date\n",
       "2018-01-25    95876.666667\n",
       "2018-01-26    96553.333333\n",
       "2018-01-29    97286.666667\n",
       "2018-01-30    97986.666667\n",
       "2018-01-31    98686.666667\n",
       "dtype: float64"
      ]
     },
     "execution_count": 21,
     "metadata": {},
     "output_type": "execute_result"
    }
   ],
   "source": [
    "ta.SMA(df).tail()"
   ]
  },
  {
   "cell_type": "code",
   "execution_count": 31,
   "id": "93cd4f61-8607-476d-a23a-73c0f9dd2db0",
   "metadata": {},
   "outputs": [
    {
     "data": {
      "text/plain": [
       "Date\n",
       "2018-01-25     99539.795872\n",
       "2018-01-26    100214.647752\n",
       "2018-01-29    100845.960800\n",
       "2018-01-30    101442.995587\n",
       "2018-01-31    101730.544259\n",
       "dtype: float64"
      ]
     },
     "execution_count": 31,
     "metadata": {},
     "output_type": "execute_result"
    }
   ],
   "source": [
    "ta.EMA(df).tail()"
   ]
  },
  {
   "cell_type": "code",
   "execution_count": 32,
   "id": "c625800a-c827-4b0b-bc57-289284f43ab0",
   "metadata": {},
   "outputs": [
    {
     "data": {
      "text/plain": [
       "Date\n",
       "2018-01-25    100753.548387\n",
       "2018-01-26    101664.731183\n",
       "2018-01-29    102532.258065\n",
       "2018-01-30    103358.924731\n",
       "2018-01-31    103869.462366\n",
       "dtype: float64"
      ]
     },
     "execution_count": 32,
     "metadata": {},
     "output_type": "execute_result"
    }
   ],
   "source": [
    "ta.WMA(df).tail()"
   ]
  },
  {
   "cell_type": "markdown",
   "id": "ddbd984c-2c4a-49ab-9526-1a3282cefef4",
   "metadata": {},
   "source": [
    "## MACD(Moving Average Convergence/Divergence)\n",
    "- 단기 이동평균선과 장기 이동평균선 수렴과 확산 과정 지속\n",
    "    - 수렴 == 횡보\n",
    "    - 확장 == 변동성 크다\n",
    "- signal과 MACD 곡선이 크로스 되는 순간이 매수/매도 신호\n",
    "    - 기본값 : 12일(단기), 26일(장기), 9일(signal)\n",
    "    - signal 곡선 = 9일 MACD 이동평균선\n",
    "    - MACD 곡선 = (단기 이동평균- 장기이동평균)의 평균\n",
    "    - Golden cross : MACD 곡선이 signal 곡선 상향 돌파 == 매수신호\n",
    "    - Dead cross : MACD 곡선이 signal 곡선 하향 돌파 == 매도신호\n",
    "    - 교차점의 기울기가 가파를수록 신뢰도가 높음\n",
    "- MACD(선행) - 스토캐스틱(후행)"
   ]
  },
  {
   "cell_type": "code",
   "execution_count": 47,
   "id": "c3950a6d-fa51-426d-bc97-978bc6e16341",
   "metadata": {},
   "outputs": [
    {
     "name": "stdout",
     "output_type": "stream",
     "text": [
      "[4838.79595364 4739.15600131 4272.04030075] [4233.05922422 4334.27857964 4321.83092386] [605.73672942 404.87742167 -49.79062311]\n"
     ]
    }
   ],
   "source": [
    "macd, macdsignal, macdhist = ta.MACD(df['close'], fastperiod=12, slowperiod=26, signalperiod=9)\n",
    "print(macd[-3:], macdsignal[-3:], macdhist[-3:])"
   ]
  },
  {
   "cell_type": "code",
   "execution_count": 26,
   "id": "853afb6f-68c4-4fe1-9f76-a8db81b0ddd5",
   "metadata": {},
   "outputs": [
    {
     "name": "stdout",
     "output_type": "stream",
     "text": [
      "No Python documentation found for 'ta.SMA'.\n",
      "Use help() to get the interactive help utility.\n",
      "Use help(str) for help on the str class.\n",
      "\n"
     ]
    }
   ],
   "source": [
    "# help('ta.SMA')"
   ]
  },
  {
   "cell_type": "code",
   "execution_count": 45,
   "id": "7e631f04-0c97-45c9-bae5-58a760349330",
   "metadata": {},
   "outputs": [],
   "source": [
    "close_arr = np.asarray(df[\"close\"])\n",
    "high_arr  = np.asarray(df[\"high\"])\n",
    "low_arr   = np.asarray(df[\"low\"])"
   ]
  },
  {
   "cell_type": "markdown",
   "id": "896caafd-c485-405e-9bbf-f36efd1fc930",
   "metadata": {},
   "source": [
    "## BBAND(볼린저밴드)"
   ]
  },
  {
   "cell_type": "code",
   "execution_count": 44,
   "id": "11faae69-4608-4fbb-b745-a1c2bbb09dab",
   "metadata": {},
   "outputs": [
    {
     "name": "stdout",
     "output_type": "stream",
     "text": [
      "[115769.29211622 116437.62635222 116591.26932199]\n",
      "[103815. 104195. 104340.]\n",
      "[91860.70788378 91952.37364778 92088.73067801]\n"
     ]
    }
   ],
   "source": [
    "#볼린저 계산\n",
    "upper, middle, low = ta._ta_lib.BBANDS(close_arr, 20, 2, 2, matype=MA_Type.SMA)\n",
    "print(upper[-3:])\n",
    "print(middle[-3:])\n",
    "print(low[-3:] )"
   ]
  },
  {
   "cell_type": "markdown",
   "id": "90830cea-4227-46ec-8199-23c1fd8d39e4",
   "metadata": {},
   "source": [
    "## RSI \n",
    "- ref : https://www.nanumtrading.com/fx-%eb%b0%b0%ec%9a%b0%ea%b8%b0/%ec%b0%a8%ed%8a%b8-%eb%b3%b4%ec%a1%b0%ec%a7%80%ed%91%9c-%ec%9d%b4%ed%95%b4/03-rsi/\n",
    "- 현재 가격의 상승 압력과 하락 압력간의 상대적인 강도를 나타내는 기술적 지표\n",
    "    - 가격의 상승과 하락 추세에서 상승 폭과 하락 폭 계산하여 그 강도를 백분율로 계산\n",
    "    - 과매수와 과매도 상태 판단에 용이\n",
    "- RSI = ((n일 동안의 종가 상승 분 평균(AU))/(n일 동안의 종가 상승 분 평균 + n일 동안의 종가 하락분 평균(AD))) * 100\n",
    "    - RSI 30%으로 떨어지면 초과매도 국면 == 매수\n",
    "    - RSI 70%를 넘어서면 초과매수 국면 == 매도 -> 클수록 상승세"
   ]
  },
  {
   "cell_type": "markdown",
   "id": "5e6465ac-a4de-45ad-bdb4-9345452fa381",
   "metadata": {},
   "source": [
    "## 기타"
   ]
  },
  {
   "cell_type": "code",
   "execution_count": null,
   "id": "adc003f3-bfaa-40e4-a71c-ff26a2410200",
   "metadata": {},
   "outputs": [],
   "source": [
    "ta._ta_lib.RSI(close_arr, 14)\n",
    "ta._ta_lib.CCI(high_arr, low_arr, close_arr, 14)\n",
    "ta._ta_lib.WILLR(high_arr, low_arr, close_arr, 14)\n",
    "ta._ta_lib.VAR(close_arr, 5, 1)\n",
    "ta._ta_lib.ADX(high_arr, low_arr, close_arr, 14)\n",
    "ta._ta_lib.PLUS_DI(high_arr, low_arr, close_arr, 14)\n",
    "ta._ta_lib.PLUS_DM(high_arr, low_arr, 14)\n",
    "ta._ta_lib.ATR(high_arr, low_arr, close_arr, 30)"
   ]
  },
  {
   "cell_type": "code",
   "execution_count": null,
   "id": "56f07e62-e4ad-41dd-ad8f-815960dae48f",
   "metadata": {},
   "outputs": [],
   "source": []
  },
  {
   "cell_type": "markdown",
   "id": "41a6968d-0eaf-4103-91ed-007402a0b2af",
   "metadata": {},
   "source": [
    "## 실습"
   ]
  },
  {
   "cell_type": "markdown",
   "id": "9fe27de9-b429-412d-bda9-7ee64ea1e99a",
   "metadata": {},
   "source": [
    "- 4월 한달 삼성주가\n",
    "- EMA WMA SMA"
   ]
  },
  {
   "cell_type": "markdown",
   "id": "1988c82a-0af6-46ec-894a-779392a01df0",
   "metadata": {},
   "source": [
    "### data load"
   ]
  },
  {
   "cell_type": "code",
   "execution_count": 10,
   "id": "97115640-997f-4e15-8cf6-7ad2fcb6eb65",
   "metadata": {
    "tags": []
   },
   "outputs": [
    {
     "data": {
      "text/html": [
       "<div>\n",
       "<style scoped>\n",
       "    .dataframe tbody tr th:only-of-type {\n",
       "        vertical-align: middle;\n",
       "    }\n",
       "\n",
       "    .dataframe tbody tr th {\n",
       "        vertical-align: top;\n",
       "    }\n",
       "\n",
       "    .dataframe thead th {\n",
       "        text-align: right;\n",
       "    }\n",
       "</style>\n",
       "<table border=\"1\" class=\"dataframe\">\n",
       "  <thead>\n",
       "    <tr style=\"text-align: right;\">\n",
       "      <th></th>\n",
       "      <th>시가</th>\n",
       "      <th>고가</th>\n",
       "      <th>저가</th>\n",
       "      <th>종가</th>\n",
       "      <th>거래량</th>\n",
       "      <th>거래대금</th>\n",
       "      <th>등락률</th>\n",
       "    </tr>\n",
       "    <tr>\n",
       "      <th>날짜</th>\n",
       "      <th></th>\n",
       "      <th></th>\n",
       "      <th></th>\n",
       "      <th></th>\n",
       "      <th></th>\n",
       "      <th></th>\n",
       "      <th></th>\n",
       "    </tr>\n",
       "  </thead>\n",
       "  <tbody>\n",
       "    <tr>\n",
       "      <th>2023-04-03</th>\n",
       "      <td>64000</td>\n",
       "      <td>64000</td>\n",
       "      <td>63000</td>\n",
       "      <td>63100</td>\n",
       "      <td>11973133</td>\n",
       "      <td>757289145500</td>\n",
       "      <td>-1.41</td>\n",
       "    </tr>\n",
       "    <tr>\n",
       "      <th>2023-04-04</th>\n",
       "      <td>63400</td>\n",
       "      <td>63800</td>\n",
       "      <td>62800</td>\n",
       "      <td>63600</td>\n",
       "      <td>11120514</td>\n",
       "      <td>706088571400</td>\n",
       "      <td>0.79</td>\n",
       "    </tr>\n",
       "    <tr>\n",
       "      <th>2023-04-05</th>\n",
       "      <td>63700</td>\n",
       "      <td>64000</td>\n",
       "      <td>63400</td>\n",
       "      <td>63900</td>\n",
       "      <td>9176149</td>\n",
       "      <td>584822515500</td>\n",
       "      <td>0.47</td>\n",
       "    </tr>\n",
       "  </tbody>\n",
       "</table>\n",
       "</div>"
      ],
      "text/plain": [
       "               시가     고가     저가     종가       거래량          거래대금   등락률\n",
       "날짜                                                                  \n",
       "2023-04-03  64000  64000  63000  63100  11973133  757289145500 -1.41\n",
       "2023-04-04  63400  63800  62800  63600  11120514  706088571400  0.79\n",
       "2023-04-05  63700  64000  63400  63900   9176149  584822515500  0.47"
      ]
     },
     "execution_count": 10,
     "metadata": {},
     "output_type": "execute_result"
    }
   ],
   "source": [
    "from pykrx import stock\n",
    "df = stock.get_market_ohlcv(\"20230401\", \"20230430\", \"005930\")\n",
    "df.head(3)"
   ]
  },
  {
   "cell_type": "markdown",
   "id": "621600e2-8b36-4004-a748-5739bcb67e4b",
   "metadata": {},
   "source": [
    "### SMA"
   ]
  },
  {
   "cell_type": "code",
   "execution_count": 22,
   "id": "e999d34a-2bcd-4ab3-8b34-4a0da6da9ffe",
   "metadata": {
    "tags": []
   },
   "outputs": [
    {
     "data": {
      "text/plain": [
       "날짜\n",
       "2023-04-03        NaN\n",
       "2023-04-04        NaN\n",
       "2023-04-05        NaN\n",
       "2023-04-06        NaN\n",
       "2023-04-07    63580.0\n",
       "2023-04-10    64100.0\n",
       "2023-04-11    64560.0\n",
       "2023-04-12    64980.0\n",
       "2023-04-13    65740.0\n",
       "2023-04-14    65760.0\n",
       "2023-04-17    65680.0\n",
       "2023-04-18    65620.0\n",
       "2023-04-19    65520.0\n",
       "2023-04-20    65360.0\n",
       "2023-04-21    65480.0\n",
       "2023-04-24    65460.0\n",
       "2023-04-25    65060.0\n",
       "2023-04-26    64780.0\n",
       "2023-04-27    64640.0\n",
       "2023-04-28    64600.0\n",
       "Name: 종가, dtype: float64"
      ]
     },
     "execution_count": 22,
     "metadata": {},
     "output_type": "execute_result"
    }
   ],
   "source": [
    "SMA=df['종가'].rolling(5).mean()\n",
    "SMA"
   ]
  },
  {
   "cell_type": "code",
   "execution_count": 23,
   "id": "769f836a-724c-4a1d-8be0-2cac39ff7b61",
   "metadata": {
    "tags": []
   },
   "outputs": [
    {
     "data": {
      "text/plain": [
       "날짜\n",
       "2023-04-03        NaN\n",
       "2023-04-04        NaN\n",
       "2023-04-05        NaN\n",
       "2023-04-06        NaN\n",
       "2023-04-07    63580.0\n",
       "2023-04-10    64100.0\n",
       "2023-04-11    64560.0\n",
       "2023-04-12    64980.0\n",
       "2023-04-13    65740.0\n",
       "2023-04-14    65760.0\n",
       "2023-04-17    65680.0\n",
       "2023-04-18    65620.0\n",
       "2023-04-19    65520.0\n",
       "2023-04-20    65360.0\n",
       "2023-04-21    65480.0\n",
       "2023-04-24    65460.0\n",
       "2023-04-25    65060.0\n",
       "2023-04-26    64780.0\n",
       "2023-04-27    64640.0\n",
       "2023-04-28    64600.0\n",
       "dtype: float64"
      ]
     },
     "execution_count": 23,
     "metadata": {},
     "output_type": "execute_result"
    }
   ],
   "source": [
    "ta_SMA=ta.SMA(df,timeperiod=5, price='종가')\n",
    "ta_SMA"
   ]
  },
  {
   "cell_type": "markdown",
   "id": "20e1186f-73e3-46d1-8c5a-75e6e9884b26",
   "metadata": {},
   "source": [
    "### WMA\n",
    "- sum(가중치*가격)/ 가중치의 합"
   ]
  },
  {
   "cell_type": "code",
   "execution_count": 64,
   "id": "552e4795-cb6c-45e1-8978-96e2bf68de57",
   "metadata": {
    "tags": []
   },
   "outputs": [
    {
     "data": {
      "text/plain": [
       "array([1, 2, 3, 4, 5])"
      ]
     },
     "execution_count": 64,
     "metadata": {},
     "output_type": "execute_result"
    }
   ],
   "source": [
    "weights=np.arange(1,6)\n",
    "weights"
   ]
  },
  {
   "cell_type": "code",
   "execution_count": 67,
   "id": "56cc5fbb-cfa2-4c90-9dde-43de0272e0ad",
   "metadata": {
    "tags": []
   },
   "outputs": [
    {
     "data": {
      "text/plain": [
       "날짜\n",
       "2023-04-04    63600\n",
       "2023-04-05    63900\n",
       "2023-04-06    62300\n",
       "2023-04-07    65000\n",
       "2023-04-10    65700\n",
       "Name: 종가, dtype: int32"
      ]
     },
     "execution_count": 67,
     "metadata": {},
     "output_type": "execute_result"
    }
   ],
   "source": [
    "price=df['종가'][1:6]\n",
    "price"
   ]
  },
  {
   "cell_type": "code",
   "execution_count": 68,
   "id": "e0af093e-b54f-4e04-a80a-cddfc3a4970a",
   "metadata": {
    "tags": []
   },
   "outputs": [
    {
     "data": {
      "text/plain": [
       "956200"
      ]
     },
     "execution_count": 68,
     "metadata": {},
     "output_type": "execute_result"
    }
   ],
   "source": [
    "price=df['종가'][0:5]\n",
    "weights=np.arange(1,6)\n",
    "WMA=np.dot(price,weights)\n",
    "WMA"
   ]
  },
  {
   "cell_type": "code",
   "execution_count": 75,
   "id": "c919946d-ad0c-482c-b28a-57f391a942ed",
   "metadata": {
    "tags": []
   },
   "outputs": [
    {
     "data": {
      "text/plain": [
       "[63746.666666666664,\n",
       " 64453.333333333336,\n",
       " 65053.333333333336,\n",
       " 65533.333333333336,\n",
       " 65906.66666666667,\n",
       " 65693.33333333333,\n",
       " 65540.0,\n",
       " 65513.333333333336,\n",
       " 65473.333333333336,\n",
       " 65400.0,\n",
       " 65513.333333333336,\n",
       " 65420.0,\n",
       " 64800.0,\n",
       " 64480.0,\n",
       " 64420.0,\n",
       " 64706.666666666664]"
      ]
     },
     "execution_count": 75,
     "metadata": {},
     "output_type": "execute_result"
    }
   ],
   "source": [
    "WMA_list=[]\n",
    "window=5\n",
    "for i in range(len(df[:-(window-1)])):\n",
    "    price=df['종가'][i:i+5]\n",
    "    weights=np.arange(1,6)\n",
    "    WMA=np.dot(price,weights)/np.sum(weights)\n",
    "    WMA_list.append(WMA)\n",
    "WMA_list    "
   ]
  },
  {
   "cell_type": "code",
   "execution_count": 42,
   "id": "685a605b-bcc7-4c80-a5f3-ecd9f386921d",
   "metadata": {
    "tags": []
   },
   "outputs": [
    {
     "data": {
      "text/plain": [
       "날짜\n",
       "2023-04-03             NaN\n",
       "2023-04-04             NaN\n",
       "2023-04-05             NaN\n",
       "2023-04-06             NaN\n",
       "2023-04-07    63746.666667\n",
       "2023-04-10    64453.333333\n",
       "2023-04-11    65053.333333\n",
       "2023-04-12    65533.333333\n",
       "2023-04-13    65906.666667\n",
       "2023-04-14    65693.333333\n",
       "2023-04-17    65540.000000\n",
       "2023-04-18    65513.333333\n",
       "2023-04-19    65473.333333\n",
       "2023-04-20    65400.000000\n",
       "2023-04-21    65513.333333\n",
       "2023-04-24    65420.000000\n",
       "2023-04-25    64800.000000\n",
       "2023-04-26    64480.000000\n",
       "2023-04-27    64420.000000\n",
       "2023-04-28    64706.666667\n",
       "dtype: float64"
      ]
     },
     "execution_count": 42,
     "metadata": {},
     "output_type": "execute_result"
    }
   ],
   "source": [
    "ta_WMA=ta.WMA(df,timeperiod=5, price='종가')\n",
    "ta_WMA"
   ]
  },
  {
   "cell_type": "markdown",
   "id": "69f13b98-e936-4602-8958-3c399c7be93d",
   "metadata": {},
   "source": [
    "### EMA"
   ]
  },
  {
   "cell_type": "code",
   "execution_count": 72,
   "id": "268e5a6a-6320-4dd3-a40a-3c89e2bd0048",
   "metadata": {
    "tags": []
   },
   "outputs": [
    {
     "data": {
      "text/plain": [
       "날짜\n",
       "2023-04-03    63100.000000\n",
       "2023-04-04    63372.727273\n",
       "2023-04-05    63581.318681\n",
       "2023-04-06    63168.852459\n",
       "2023-04-07    63679.101269\n",
       "2023-04-10    64185.514486\n",
       "2023-04-11    64581.880571\n",
       "2023-04-12    64889.859976\n",
       "2023-04-13    65140.035714\n",
       "2023-04-14    65132.077857\n",
       "2023-04-17    65164.417394\n",
       "2023-04-18    65246.185311\n",
       "2023-04-19    65292.849142\n",
       "2023-04-20    65294.141618\n",
       "2023-04-21    65366.479827\n",
       "2023-04-24    65337.146618\n",
       "2023-04-25    65033.956415\n",
       "2023-04-26    64872.222104\n",
       "2023-04-27    64825.385735\n",
       "2023-04-28    64940.832772\n",
       "Name: 종가, dtype: float64"
      ]
     },
     "execution_count": 72,
     "metadata": {},
     "output_type": "execute_result"
    }
   ],
   "source": [
    "df['종가'].ewm(5).mean()"
   ]
  },
  {
   "cell_type": "code",
   "execution_count": 73,
   "id": "ea651472-e89f-4526-824b-e5e6248ce6ec",
   "metadata": {
    "tags": []
   },
   "outputs": [
    {
     "data": {
      "text/plain": [
       "날짜\n",
       "2023-04-03             NaN\n",
       "2023-04-04             NaN\n",
       "2023-04-05             NaN\n",
       "2023-04-06             NaN\n",
       "2023-04-07    63580.000000\n",
       "2023-04-10    64286.666667\n",
       "2023-04-11    64824.444444\n",
       "2023-04-12    65216.296296\n",
       "2023-04-13    65510.864198\n",
       "2023-04-14    65373.909465\n",
       "2023-04-17    65349.272977\n",
       "2023-04-18    65432.848651\n",
       "2023-04-19    65455.232434\n",
       "2023-04-20    65403.488289\n",
       "2023-04-21    65502.325526\n",
       "2023-04-24    65401.550351\n",
       "2023-04-25    64801.033567\n",
       "2023-04-26    64567.355711\n",
       "2023-04-27    64578.237141\n",
       "2023-04-28    64885.491427\n",
       "dtype: float64"
      ]
     },
     "execution_count": 73,
     "metadata": {},
     "output_type": "execute_result"
    }
   ],
   "source": [
    "ta_EMA=ta.EMA(df,timeperiod=5, price='종가')\n",
    "ta_EMA"
   ]
  },
  {
   "cell_type": "code",
   "execution_count": null,
   "id": "a5193770-d619-4a10-a229-3447ff38e311",
   "metadata": {},
   "outputs": [],
   "source": []
  },
  {
   "cell_type": "code",
   "execution_count": 44,
   "id": "abe6a492-b503-4075-bb0a-238591abe55f",
   "metadata": {
    "tags": []
   },
   "outputs": [],
   "source": [
    "# 금일의 지수이동평균 = (EMA[i] * EP) + (EMA[i-1] * (1 - EP))\n",
    "# EP = 2 / 기간 + 1)\n",
    "EP = 2 / (len(df) + 1)\n",
    "for i in range(len(df)):   \n",
    "    EMA = (df['종가'][i] * EP) + (df['종가'].rolling(5).mean() * (1 - EP))\n",
    "EMA"
   ]
  },
  {
   "cell_type": "code",
   "execution_count": null,
   "id": "08427c04-3449-4b11-a3e7-edc5a3b2c5ff",
   "metadata": {},
   "outputs": [],
   "source": []
  },
  {
   "cell_type": "code",
   "execution_count": null,
   "id": "2ad53a6b-e81c-442f-ac81-f2b67afab5b5",
   "metadata": {},
   "outputs": [],
   "source": []
  },
  {
   "cell_type": "code",
   "execution_count": null,
   "id": "07721dd1-4105-4db6-b0e4-0acbe0239f1b",
   "metadata": {},
   "outputs": [],
   "source": []
  }
 ],
 "metadata": {
  "kernelspec": {
   "display_name": "Python 3 (ipykernel)",
   "language": "python",
   "name": "python3"
  },
  "language_info": {
   "codemirror_mode": {
    "name": "ipython",
    "version": 3
   },
   "file_extension": ".py",
   "mimetype": "text/x-python",
   "name": "python",
   "nbconvert_exporter": "python",
   "pygments_lexer": "ipython3",
   "version": "3.8.8"
  }
 },
 "nbformat": 4,
 "nbformat_minor": 5
}

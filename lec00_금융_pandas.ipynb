{
 "cells": [
  {
   "cell_type": "markdown",
   "id": "742354d0-6bb5-40b2-b866-0961701d7f90",
   "metadata": {},
   "source": [
    "<font size=6><b>Lec02 : 금융을 위한 Pandas 활용 </b></font>"
   ]
  },
  {
   "cell_type": "markdown",
   "id": "30de74e1-8985-402e-b3a4-312217ff0496",
   "metadata": {},
   "source": [
    "### 주식 용어\n",
    "- 우리나라는 주식 1980년대부터 \n",
    "- 코넥스 : 상장을 앞두고 있는 비상장주 -> 시장 외 거래, 예금자보호 받지 못함(위험)\n",
    "<pre>\n",
    "* <b>시가총액</b> : 시가총액은 기업의 가치를 결정하는 지표   --> 매일 달라짐(매일 주식가격 변동)\n",
    "          시가총액 = 주식 수 × 주식 1주당 가격\n",
    "\n",
    "* <B>KOSPI</B> : 한국증권거래소에 상장되어 거래되는 모든 주식의 시가총액을 합쳐서 <b>주식시장 전체 장세의 흐름</b>을 나타내는 지수        \n",
    "          KOSPI 지수 = (현재 시가총액 합 / 1980. 1. 4 기준 시가총액 합) × 100<br>\n",
    "          KOSPI 50 / KOSPI 100 / KOSPI 200   (sorting 했을 때 몇개까지 끊을 것인지)\n",
    " \n",
    "* <B> KOSDAQ</B> : <b>중소기업이나 신생 벤처기업</b>을 위한 1996년 첨단 기술주 중심인 미국의 나스닥(NASDAQ) 시장을 본떠 만든 대한민국의 주식시장   --> 1990년대 이후 정보만 가져 올 수 있음\n",
    "\n",
    "* <B> KOSPI 200</B> : 어업, 광업, 제조업, 전기가스업, 건설업, 서비스업, 통신업 등 8개의 산업군에서 각 산업을 대표할 수 있는 200개의 종목을 뽑아서 만든 지수\n",
    "\n",
    "* <B> KODEX 200</B> : 삼성자산운용에서 운용하는 ETF로, KOSPI 200을 추종(복제)하는 ETF<br>\n",
    "          추종 : 코스피 200오름 -> 나도 오름\n",
    "\n",
    "* <B> ETF</B> : 특정 주가지수 또는 금, 채권, 원유와 같은 특정 자산가격를 그대로 추종하는 성격을 지닌 금융상품\n",
    " </pre>\n"
   ]
  },
  {
   "cell_type": "code",
   "execution_count": 1,
   "id": "b020ab6f-bb00-40b7-b09a-92a77e9d9c3a",
   "metadata": {
    "tags": []
   },
   "outputs": [
    {
     "data": {
      "text/html": [
       "<style>.container{width:100% !important;}</style>"
      ],
      "text/plain": [
       "<IPython.core.display.HTML object>"
      ]
     },
     "metadata": {},
     "output_type": "display_data"
    }
   ],
   "source": [
    "from pykrx import stock\n",
    "from pykrx import bond\n",
    "import FinanceDataReader as fdr\n",
    "\n",
    "from IPython.display import Image\n",
    "import pandas as pd\n",
    "import numpy as np\n",
    "import matplotlib.pyplot as plt\n",
    "import seaborn as sns\n",
    "\n",
    "\n",
    "import warnings\n",
    "warnings.filterwarnings(action='ignore')\n",
    "\n",
    "#-------------------- 차트 관련 속성 (한글처리, 그리드) -----------\n",
    "#plt.rc('font', family='NanumGothicOTF') # For MacOS\n",
    "plt.rcParams['font.family']= 'Malgun Gothic'\n",
    "plt.rcParams['axes.unicode_minus'] = False\n",
    "sns.set()\n",
    "\n",
    "#-------------------- 주피터 , 출력결과 넓이 늘리기 ---------------\n",
    "from IPython.core.display import display, HTML\n",
    "display(HTML(\"<style>.container{width:100% !important;}</style>\"))\n",
    "pd.set_option('display.max_rows', 100)\n",
    "pd.set_option('display.max_columns', 100)\n",
    "pd.set_option('max_colwidth', None)\n",
    "\n"
   ]
  },
  {
   "cell_type": "markdown",
   "id": "aaf10fe5-fa1f-4749-8c9f-cd11569b5d6a",
   "metadata": {
    "tags": []
   },
   "source": [
    "# Data Load by pykrx"
   ]
  },
  {
   "cell_type": "code",
   "execution_count": 2,
   "id": "f9abcdf2-7bd6-40fc-b308-9863a621d47d",
   "metadata": {
    "tags": []
   },
   "outputs": [
    {
     "name": "stdout",
     "output_type": "stream",
     "text": [
      "['060310', '054620', '265520', '211270', '032790']\n"
     ]
    }
   ],
   "source": [
    "tickers = stock.get_market_ticker_list(\"20220225\", market=\"KOSDAQ\") #KOSPI, KOSDAQ, KONEX         # 해당 일자 코스피 상장된 ticker\n",
    "print(tickers[:5])"
   ]
  },
  {
   "cell_type": "code",
   "execution_count": 3,
   "id": "2f0d3ec2-0901-4c74-8e85-8e3eecc6601e",
   "metadata": {
    "tags": []
   },
   "outputs": [
    {
     "name": "stdout",
     "output_type": "stream",
     "text": [
      "CJ ENM\n"
     ]
    }
   ],
   "source": [
    "종목명 = stock.get_market_ticker_name('035760')\n",
    "print(종목명)"
   ]
  },
  {
   "cell_type": "code",
   "execution_count": 4,
   "id": "29a893f9-c4ed-4d8e-82cc-70fe63fef83c",
   "metadata": {
    "tags": []
   },
   "outputs": [
    {
     "data": {
      "text/html": [
       "<div>\n",
       "<style scoped>\n",
       "    .dataframe tbody tr th:only-of-type {\n",
       "        vertical-align: middle;\n",
       "    }\n",
       "\n",
       "    .dataframe tbody tr th {\n",
       "        vertical-align: top;\n",
       "    }\n",
       "\n",
       "    .dataframe thead th {\n",
       "        text-align: right;\n",
       "    }\n",
       "</style>\n",
       "<table border=\"1\" class=\"dataframe\">\n",
       "  <thead>\n",
       "    <tr style=\"text-align: right;\">\n",
       "      <th></th>\n",
       "      <th>시가</th>\n",
       "      <th>고가</th>\n",
       "      <th>저가</th>\n",
       "      <th>종가</th>\n",
       "      <th>거래량</th>\n",
       "      <th>거래대금</th>\n",
       "      <th>등락률</th>\n",
       "    </tr>\n",
       "    <tr>\n",
       "      <th>날짜</th>\n",
       "      <th></th>\n",
       "      <th></th>\n",
       "      <th></th>\n",
       "      <th></th>\n",
       "      <th></th>\n",
       "      <th></th>\n",
       "      <th></th>\n",
       "    </tr>\n",
       "  </thead>\n",
       "  <tbody>\n",
       "    <tr>\n",
       "      <th>2021-01-04</th>\n",
       "      <td>81000</td>\n",
       "      <td>84400</td>\n",
       "      <td>80200</td>\n",
       "      <td>83000</td>\n",
       "      <td>38655276</td>\n",
       "      <td>3185356823460</td>\n",
       "      <td>2.47</td>\n",
       "    </tr>\n",
       "    <tr>\n",
       "      <th>2021-01-05</th>\n",
       "      <td>81600</td>\n",
       "      <td>83900</td>\n",
       "      <td>81600</td>\n",
       "      <td>83900</td>\n",
       "      <td>35335669</td>\n",
       "      <td>2915618322800</td>\n",
       "      <td>1.08</td>\n",
       "    </tr>\n",
       "    <tr>\n",
       "      <th>2021-01-06</th>\n",
       "      <td>83300</td>\n",
       "      <td>84500</td>\n",
       "      <td>82100</td>\n",
       "      <td>82200</td>\n",
       "      <td>42089013</td>\n",
       "      <td>3506903681680</td>\n",
       "      <td>-2.03</td>\n",
       "    </tr>\n",
       "  </tbody>\n",
       "</table>\n",
       "</div>"
      ],
      "text/plain": [
       "               시가     고가     저가     종가       거래량           거래대금   등락률\n",
       "날짜                                                                   \n",
       "2021-01-04  81000  84400  80200  83000  38655276  3185356823460  2.47\n",
       "2021-01-05  81600  83900  81600  83900  35335669  2915618322800  1.08\n",
       "2021-01-06  83300  84500  82100  82200  42089013  3506903681680 -2.03"
      ]
     },
     "execution_count": 4,
     "metadata": {},
     "output_type": "execute_result"
    }
   ],
   "source": [
    "df = stock.get_market_ohlcv(\"2021-01-01\", \"2021-12-31\", \"005930\")\n",
    "df.head(3)"
   ]
  },
  {
   "cell_type": "code",
   "execution_count": 5,
   "id": "c38c15fe-d9a4-441c-8d4d-5f9efbedfd44",
   "metadata": {
    "tags": []
   },
   "outputs": [
    {
     "data": {
      "text/plain": [
       "Index(['시가', '고가', '저가', '종가', '거래량', '거래대금', '등락률'], dtype='object')"
      ]
     },
     "execution_count": 5,
     "metadata": {},
     "output_type": "execute_result"
    }
   ],
   "source": [
    "df.columns"
   ]
  },
  {
   "cell_type": "markdown",
   "id": "6024193d-eb9d-4932-8f0a-ff8aaae5a11a",
   "metadata": {},
   "source": [
    "* 컬럼 이름 변경"
   ]
  },
  {
   "cell_type": "code",
   "execution_count": 6,
   "id": "6ceffcdc-a052-42a9-9a58-ea0de528b7ac",
   "metadata": {
    "tags": []
   },
   "outputs": [],
   "source": [
    "df = df[['시가', '고가', '저가', '종가', '거래량']].copy()\n",
    "df.columns = ['open','high','low','close','volumn']  # 한글 사용하지 말기"
   ]
  },
  {
   "cell_type": "code",
   "execution_count": 7,
   "id": "59b0bb53-8ed5-4811-b3db-915b5b049072",
   "metadata": {
    "tags": []
   },
   "outputs": [
    {
     "data": {
      "text/plain": [
       "open      0\n",
       "high      0\n",
       "low       0\n",
       "close     0\n",
       "volumn    0\n",
       "dtype: int64"
      ]
     },
     "execution_count": 7,
     "metadata": {},
     "output_type": "execute_result"
    }
   ],
   "source": [
    "df.isna().sum()"
   ]
  },
  {
   "cell_type": "markdown",
   "id": "dbac1b47-accb-488e-881c-290cc0f456eb",
   "metadata": {},
   "source": [
    "# 금융을 위한 pandas"
   ]
  },
  {
   "cell_type": "markdown",
   "id": "f52e340e-f00e-4eca-9e7f-1230462d8ac0",
   "metadata": {},
   "source": [
    "## shift(N)\n",
    "* N일가격 컬럼에 가져오기\n",
    "* diff를 계산하기 위해 하나씩 값을 끌어내림\n",
    "* <font size=4 color=red><b>전일 대비 가격 증감에 주로 사용 "
   ]
  },
  {
   "cell_type": "code",
   "execution_count": 8,
   "id": "5a2ed441-0964-4122-8344-05f4c08619e5",
   "metadata": {
    "tags": []
   },
   "outputs": [
    {
     "data": {
      "text/html": [
       "<div>\n",
       "<style scoped>\n",
       "    .dataframe tbody tr th:only-of-type {\n",
       "        vertical-align: middle;\n",
       "    }\n",
       "\n",
       "    .dataframe tbody tr th {\n",
       "        vertical-align: top;\n",
       "    }\n",
       "\n",
       "    .dataframe thead th {\n",
       "        text-align: right;\n",
       "    }\n",
       "</style>\n",
       "<table border=\"1\" class=\"dataframe\">\n",
       "  <thead>\n",
       "    <tr style=\"text-align: right;\">\n",
       "      <th></th>\n",
       "      <th>open</th>\n",
       "      <th>high</th>\n",
       "      <th>low</th>\n",
       "      <th>close</th>\n",
       "      <th>volumn</th>\n",
       "      <th>close_shift</th>\n",
       "    </tr>\n",
       "    <tr>\n",
       "      <th>날짜</th>\n",
       "      <th></th>\n",
       "      <th></th>\n",
       "      <th></th>\n",
       "      <th></th>\n",
       "      <th></th>\n",
       "      <th></th>\n",
       "    </tr>\n",
       "  </thead>\n",
       "  <tbody>\n",
       "    <tr>\n",
       "      <th>2021-01-04</th>\n",
       "      <td>81000</td>\n",
       "      <td>84400</td>\n",
       "      <td>80200</td>\n",
       "      <td>83000</td>\n",
       "      <td>38655276</td>\n",
       "      <td>NaN</td>\n",
       "    </tr>\n",
       "    <tr>\n",
       "      <th>2021-01-05</th>\n",
       "      <td>81600</td>\n",
       "      <td>83900</td>\n",
       "      <td>81600</td>\n",
       "      <td>83900</td>\n",
       "      <td>35335669</td>\n",
       "      <td>83000.0</td>\n",
       "    </tr>\n",
       "    <tr>\n",
       "      <th>2021-01-06</th>\n",
       "      <td>83300</td>\n",
       "      <td>84500</td>\n",
       "      <td>82100</td>\n",
       "      <td>82200</td>\n",
       "      <td>42089013</td>\n",
       "      <td>83900.0</td>\n",
       "    </tr>\n",
       "    <tr>\n",
       "      <th>2021-01-07</th>\n",
       "      <td>82800</td>\n",
       "      <td>84200</td>\n",
       "      <td>82700</td>\n",
       "      <td>82900</td>\n",
       "      <td>32644642</td>\n",
       "      <td>82200.0</td>\n",
       "    </tr>\n",
       "    <tr>\n",
       "      <th>2021-01-08</th>\n",
       "      <td>83300</td>\n",
       "      <td>90000</td>\n",
       "      <td>83000</td>\n",
       "      <td>88800</td>\n",
       "      <td>59013307</td>\n",
       "      <td>82900.0</td>\n",
       "    </tr>\n",
       "  </tbody>\n",
       "</table>\n",
       "</div>"
      ],
      "text/plain": [
       "             open   high    low  close    volumn  close_shift\n",
       "날짜                                                           \n",
       "2021-01-04  81000  84400  80200  83000  38655276          NaN\n",
       "2021-01-05  81600  83900  81600  83900  35335669      83000.0\n",
       "2021-01-06  83300  84500  82100  82200  42089013      83900.0\n",
       "2021-01-07  82800  84200  82700  82900  32644642      82200.0\n",
       "2021-01-08  83300  90000  83000  88800  59013307      82900.0"
      ]
     },
     "execution_count": 8,
     "metadata": {},
     "output_type": "execute_result"
    }
   ],
   "source": [
    "df['close_shift'] = df['close'].shift(1) # 전일 종가, 아래로 끌어내림\n",
    "df.head()"
   ]
  },
  {
   "cell_type": "code",
   "execution_count": 9,
   "id": "dde715a0-4a4a-49ad-8fa2-46544ace6303",
   "metadata": {
    "tags": []
   },
   "outputs": [
    {
     "data": {
      "text/plain": [
       "날짜\n",
       "2021-01-04    83900.0\n",
       "2021-01-05    82200.0\n",
       "2021-01-06    82900.0\n",
       "2021-01-07    88800.0\n",
       "2021-01-08    91000.0\n",
       "               ...   \n",
       "2021-12-24    80200.0\n",
       "2021-12-27    80300.0\n",
       "2021-12-28    78800.0\n",
       "2021-12-29    78300.0\n",
       "2021-12-30        NaN\n",
       "Name: close, Length: 248, dtype: float64"
      ]
     },
     "execution_count": 9,
     "metadata": {},
     "output_type": "execute_result"
    }
   ],
   "source": [
    "df['close'].shift(-1)  # 말일 기준, 위로 끌어올림"
   ]
  },
  {
   "cell_type": "markdown",
   "id": "0ae873e8-c24a-4d99-b9da-ac77c8e1dbd5",
   "metadata": {},
   "source": [
    "## df[\"Close\"] - df[\"Close\"].shift(1)"
   ]
  },
  {
   "cell_type": "code",
   "execution_count": 10,
   "id": "8096eef4-1033-41b7-a4a5-56009c658452",
   "metadata": {
    "tags": []
   },
   "outputs": [
    {
     "data": {
      "text/html": [
       "<div>\n",
       "<style scoped>\n",
       "    .dataframe tbody tr th:only-of-type {\n",
       "        vertical-align: middle;\n",
       "    }\n",
       "\n",
       "    .dataframe tbody tr th {\n",
       "        vertical-align: top;\n",
       "    }\n",
       "\n",
       "    .dataframe thead th {\n",
       "        text-align: right;\n",
       "    }\n",
       "</style>\n",
       "<table border=\"1\" class=\"dataframe\">\n",
       "  <thead>\n",
       "    <tr style=\"text-align: right;\">\n",
       "      <th></th>\n",
       "      <th>open</th>\n",
       "      <th>high</th>\n",
       "      <th>low</th>\n",
       "      <th>close</th>\n",
       "      <th>volumn</th>\n",
       "      <th>close_shift</th>\n",
       "      <th>pct_chg1</th>\n",
       "    </tr>\n",
       "    <tr>\n",
       "      <th>날짜</th>\n",
       "      <th></th>\n",
       "      <th></th>\n",
       "      <th></th>\n",
       "      <th></th>\n",
       "      <th></th>\n",
       "      <th></th>\n",
       "      <th></th>\n",
       "    </tr>\n",
       "  </thead>\n",
       "  <tbody>\n",
       "    <tr>\n",
       "      <th>2021-01-04</th>\n",
       "      <td>81000</td>\n",
       "      <td>84400</td>\n",
       "      <td>80200</td>\n",
       "      <td>83000</td>\n",
       "      <td>38655276</td>\n",
       "      <td>NaN</td>\n",
       "      <td>NaN</td>\n",
       "    </tr>\n",
       "    <tr>\n",
       "      <th>2021-01-05</th>\n",
       "      <td>81600</td>\n",
       "      <td>83900</td>\n",
       "      <td>81600</td>\n",
       "      <td>83900</td>\n",
       "      <td>35335669</td>\n",
       "      <td>83000.0</td>\n",
       "      <td>1.084337</td>\n",
       "    </tr>\n",
       "    <tr>\n",
       "      <th>2021-01-06</th>\n",
       "      <td>83300</td>\n",
       "      <td>84500</td>\n",
       "      <td>82100</td>\n",
       "      <td>82200</td>\n",
       "      <td>42089013</td>\n",
       "      <td>83900.0</td>\n",
       "      <td>-2.026222</td>\n",
       "    </tr>\n",
       "  </tbody>\n",
       "</table>\n",
       "</div>"
      ],
      "text/plain": [
       "             open   high    low  close    volumn  close_shift  pct_chg1\n",
       "날짜                                                                     \n",
       "2021-01-04  81000  84400  80200  83000  38655276          NaN       NaN\n",
       "2021-01-05  81600  83900  81600  83900  35335669      83000.0  1.084337\n",
       "2021-01-06  83300  84500  82100  82200  42089013      83900.0 -2.026222"
      ]
     },
     "execution_count": 10,
     "metadata": {},
     "output_type": "execute_result"
    }
   ],
   "source": [
    "last_day = df[\"close\"].shift(1)\n",
    "today    = df[\"close\"]\n",
    "df[\"pct_chg1\"] =   ( (today - last_day) / last_day ) * 100   # (오늘 종가 - 어제 종가) / 어제 종가 =전일 대비 증감률\n",
    "df.head(3)"
   ]
  },
  {
   "cell_type": "markdown",
   "id": "9fa46501-78fc-4c27-ae77-5697b302fe86",
   "metadata": {},
   "source": [
    "## diff(N)\n",
    "* 변화량 : 현재가격 - N일가격 \n",
    "* <font size=4 color=red><b> N일 대비 가격 증감에 주로 사용\n",
    "* <font size=4 color=blue><b> df['close'].diff(1) = </font>  <font size=4 color=red><b> df['close'] - df['colse'].shift(1)"
   ]
  },
  {
   "cell_type": "code",
   "execution_count": 11,
   "id": "34509eb7-b31d-4848-ac9f-ea251ad6c660",
   "metadata": {
    "tags": []
   },
   "outputs": [
    {
     "data": {
      "text/html": [
       "<div>\n",
       "<style scoped>\n",
       "    .dataframe tbody tr th:only-of-type {\n",
       "        vertical-align: middle;\n",
       "    }\n",
       "\n",
       "    .dataframe tbody tr th {\n",
       "        vertical-align: top;\n",
       "    }\n",
       "\n",
       "    .dataframe thead th {\n",
       "        text-align: right;\n",
       "    }\n",
       "</style>\n",
       "<table border=\"1\" class=\"dataframe\">\n",
       "  <thead>\n",
       "    <tr style=\"text-align: right;\">\n",
       "      <th></th>\n",
       "      <th>open</th>\n",
       "      <th>high</th>\n",
       "      <th>low</th>\n",
       "      <th>close</th>\n",
       "      <th>volumn</th>\n",
       "      <th>close_shift</th>\n",
       "      <th>pct_chg1</th>\n",
       "      <th>close_diff</th>\n",
       "      <th>close-close_shift</th>\n",
       "    </tr>\n",
       "    <tr>\n",
       "      <th>날짜</th>\n",
       "      <th></th>\n",
       "      <th></th>\n",
       "      <th></th>\n",
       "      <th></th>\n",
       "      <th></th>\n",
       "      <th></th>\n",
       "      <th></th>\n",
       "      <th></th>\n",
       "      <th></th>\n",
       "    </tr>\n",
       "  </thead>\n",
       "  <tbody>\n",
       "    <tr>\n",
       "      <th>2021-01-04</th>\n",
       "      <td>81000</td>\n",
       "      <td>84400</td>\n",
       "      <td>80200</td>\n",
       "      <td>83000</td>\n",
       "      <td>38655276</td>\n",
       "      <td>NaN</td>\n",
       "      <td>NaN</td>\n",
       "      <td>NaN</td>\n",
       "      <td>NaN</td>\n",
       "    </tr>\n",
       "    <tr>\n",
       "      <th>2021-01-05</th>\n",
       "      <td>81600</td>\n",
       "      <td>83900</td>\n",
       "      <td>81600</td>\n",
       "      <td>83900</td>\n",
       "      <td>35335669</td>\n",
       "      <td>83000.0</td>\n",
       "      <td>1.084337</td>\n",
       "      <td>900.0</td>\n",
       "      <td>900.0</td>\n",
       "    </tr>\n",
       "    <tr>\n",
       "      <th>2021-01-06</th>\n",
       "      <td>83300</td>\n",
       "      <td>84500</td>\n",
       "      <td>82100</td>\n",
       "      <td>82200</td>\n",
       "      <td>42089013</td>\n",
       "      <td>83900.0</td>\n",
       "      <td>-2.026222</td>\n",
       "      <td>-1700.0</td>\n",
       "      <td>-1700.0</td>\n",
       "    </tr>\n",
       "    <tr>\n",
       "      <th>2021-01-07</th>\n",
       "      <td>82800</td>\n",
       "      <td>84200</td>\n",
       "      <td>82700</td>\n",
       "      <td>82900</td>\n",
       "      <td>32644642</td>\n",
       "      <td>82200.0</td>\n",
       "      <td>0.851582</td>\n",
       "      <td>700.0</td>\n",
       "      <td>700.0</td>\n",
       "    </tr>\n",
       "    <tr>\n",
       "      <th>2021-01-08</th>\n",
       "      <td>83300</td>\n",
       "      <td>90000</td>\n",
       "      <td>83000</td>\n",
       "      <td>88800</td>\n",
       "      <td>59013307</td>\n",
       "      <td>82900.0</td>\n",
       "      <td>7.117008</td>\n",
       "      <td>5900.0</td>\n",
       "      <td>5900.0</td>\n",
       "    </tr>\n",
       "  </tbody>\n",
       "</table>\n",
       "</div>"
      ],
      "text/plain": [
       "             open   high    low  close    volumn  close_shift  pct_chg1  \\\n",
       "날짜                                                                        \n",
       "2021-01-04  81000  84400  80200  83000  38655276          NaN       NaN   \n",
       "2021-01-05  81600  83900  81600  83900  35335669      83000.0  1.084337   \n",
       "2021-01-06  83300  84500  82100  82200  42089013      83900.0 -2.026222   \n",
       "2021-01-07  82800  84200  82700  82900  32644642      82200.0  0.851582   \n",
       "2021-01-08  83300  90000  83000  88800  59013307      82900.0  7.117008   \n",
       "\n",
       "            close_diff  close-close_shift  \n",
       "날짜                                         \n",
       "2021-01-04         NaN                NaN  \n",
       "2021-01-05       900.0              900.0  \n",
       "2021-01-06     -1700.0            -1700.0  \n",
       "2021-01-07       700.0              700.0  \n",
       "2021-01-08      5900.0             5900.0  "
      ]
     },
     "execution_count": 11,
     "metadata": {},
     "output_type": "execute_result"
    }
   ],
   "source": [
    "df['close_diff'] = df['close'].diff(1)\n",
    "df['close-close_shift'] = df['close'] - df['close_shift']\n",
    "df.head()"
   ]
  },
  {
   "cell_type": "markdown",
   "id": "ee635574-75b8-4006-9414-b319ffab7bec",
   "metadata": {
    "tags": []
   },
   "source": [
    "## pct_change(N)\n",
    "* 백분위 변화율 : 현재가격 - N일가격 \n",
    "    * (현재가격-N일전가격)/N일전가격 == diff/N일전 가격\n",
    "* <font size=4 color=red><b>전일 대비 수익률에 주로 사용"
   ]
  },
  {
   "cell_type": "code",
   "execution_count": 12,
   "id": "57f2d203-a005-4153-8f45-d2939fece527",
   "metadata": {
    "tags": []
   },
   "outputs": [
    {
     "data": {
      "text/html": [
       "<div>\n",
       "<style scoped>\n",
       "    .dataframe tbody tr th:only-of-type {\n",
       "        vertical-align: middle;\n",
       "    }\n",
       "\n",
       "    .dataframe tbody tr th {\n",
       "        vertical-align: top;\n",
       "    }\n",
       "\n",
       "    .dataframe thead th {\n",
       "        text-align: right;\n",
       "    }\n",
       "</style>\n",
       "<table border=\"1\" class=\"dataframe\">\n",
       "  <thead>\n",
       "    <tr style=\"text-align: right;\">\n",
       "      <th></th>\n",
       "      <th>open</th>\n",
       "      <th>high</th>\n",
       "      <th>low</th>\n",
       "      <th>close</th>\n",
       "      <th>volumn</th>\n",
       "      <th>close_shift</th>\n",
       "      <th>pct_chg1</th>\n",
       "      <th>close_diff</th>\n",
       "      <th>close-close_shift</th>\n",
       "      <th>pct_chg</th>\n",
       "    </tr>\n",
       "    <tr>\n",
       "      <th>날짜</th>\n",
       "      <th></th>\n",
       "      <th></th>\n",
       "      <th></th>\n",
       "      <th></th>\n",
       "      <th></th>\n",
       "      <th></th>\n",
       "      <th></th>\n",
       "      <th></th>\n",
       "      <th></th>\n",
       "      <th></th>\n",
       "    </tr>\n",
       "  </thead>\n",
       "  <tbody>\n",
       "    <tr>\n",
       "      <th>2021-01-04</th>\n",
       "      <td>81000</td>\n",
       "      <td>84400</td>\n",
       "      <td>80200</td>\n",
       "      <td>83000</td>\n",
       "      <td>38655276</td>\n",
       "      <td>NaN</td>\n",
       "      <td>NaN</td>\n",
       "      <td>NaN</td>\n",
       "      <td>NaN</td>\n",
       "      <td>NaN</td>\n",
       "    </tr>\n",
       "    <tr>\n",
       "      <th>2021-01-05</th>\n",
       "      <td>81600</td>\n",
       "      <td>83900</td>\n",
       "      <td>81600</td>\n",
       "      <td>83900</td>\n",
       "      <td>35335669</td>\n",
       "      <td>83000.0</td>\n",
       "      <td>1.084337</td>\n",
       "      <td>900.0</td>\n",
       "      <td>900.0</td>\n",
       "      <td>0.010843</td>\n",
       "    </tr>\n",
       "    <tr>\n",
       "      <th>2021-01-06</th>\n",
       "      <td>83300</td>\n",
       "      <td>84500</td>\n",
       "      <td>82100</td>\n",
       "      <td>82200</td>\n",
       "      <td>42089013</td>\n",
       "      <td>83900.0</td>\n",
       "      <td>-2.026222</td>\n",
       "      <td>-1700.0</td>\n",
       "      <td>-1700.0</td>\n",
       "      <td>-0.020262</td>\n",
       "    </tr>\n",
       "    <tr>\n",
       "      <th>2021-01-07</th>\n",
       "      <td>82800</td>\n",
       "      <td>84200</td>\n",
       "      <td>82700</td>\n",
       "      <td>82900</td>\n",
       "      <td>32644642</td>\n",
       "      <td>82200.0</td>\n",
       "      <td>0.851582</td>\n",
       "      <td>700.0</td>\n",
       "      <td>700.0</td>\n",
       "      <td>0.008516</td>\n",
       "    </tr>\n",
       "    <tr>\n",
       "      <th>2021-01-08</th>\n",
       "      <td>83300</td>\n",
       "      <td>90000</td>\n",
       "      <td>83000</td>\n",
       "      <td>88800</td>\n",
       "      <td>59013307</td>\n",
       "      <td>82900.0</td>\n",
       "      <td>7.117008</td>\n",
       "      <td>5900.0</td>\n",
       "      <td>5900.0</td>\n",
       "      <td>0.071170</td>\n",
       "    </tr>\n",
       "  </tbody>\n",
       "</table>\n",
       "</div>"
      ],
      "text/plain": [
       "             open   high    low  close    volumn  close_shift  pct_chg1  \\\n",
       "날짜                                                                        \n",
       "2021-01-04  81000  84400  80200  83000  38655276          NaN       NaN   \n",
       "2021-01-05  81600  83900  81600  83900  35335669      83000.0  1.084337   \n",
       "2021-01-06  83300  84500  82100  82200  42089013      83900.0 -2.026222   \n",
       "2021-01-07  82800  84200  82700  82900  32644642      82200.0  0.851582   \n",
       "2021-01-08  83300  90000  83000  88800  59013307      82900.0  7.117008   \n",
       "\n",
       "            close_diff  close-close_shift   pct_chg  \n",
       "날짜                                                   \n",
       "2021-01-04         NaN                NaN       NaN  \n",
       "2021-01-05       900.0              900.0  0.010843  \n",
       "2021-01-06     -1700.0            -1700.0 -0.020262  \n",
       "2021-01-07       700.0              700.0  0.008516  \n",
       "2021-01-08      5900.0             5900.0  0.071170  "
      ]
     },
     "execution_count": 12,
     "metadata": {},
     "output_type": "execute_result"
    }
   ],
   "source": [
    "df['pct_chg'] = df['close'].pct_change()\n",
    "df.head()"
   ]
  },
  {
   "cell_type": "markdown",
   "id": "1b8dc926-1418-4d16-842d-2b132ce08f7b",
   "metadata": {},
   "source": [
    "## rolling(window=N)\n",
    "*  N일 간격으로 그룹화해 가격을 집계\n",
    "* <font size=4 color=red><b> 이동평균선에 주로 사용"
   ]
  },
  {
   "attachments": {
    "44c8d7af-e167-4086-b26e-161fd2804dfa.png": {
     "image/png": "[encoded data removed]"
    }
   },
   "cell_type": "markdown",
   "id": "0e19ca26-cf7c-49e2-96b1-bd66779532f2",
   "metadata": {},
   "source": [
    "![image.png](attachment:44c8d7af-e167-4086-b26e-161fd2804dfa.png)"
   ]
  },
  {
   "cell_type": "code",
   "execution_count": 13,
   "id": "8d699ac7-a71c-48a2-9d3f-bcd6cd9e04a7",
   "metadata": {
    "tags": []
   },
   "outputs": [
    {
     "data": {
      "text/plain": [
       "날짜\n",
       "2021-01-04        NaN\n",
       "2021-01-05        NaN\n",
       "2021-01-06        NaN\n",
       "2021-01-07        NaN\n",
       "2021-01-08    84160.0\n",
       "               ...   \n",
       "2021-12-24    79000.0\n",
       "2021-12-27    79620.0\n",
       "2021-12-28    80060.0\n",
       "2021-12-29    79940.0\n",
       "2021-12-30    79620.0\n",
       "Name: close, Length: 248, dtype: float64"
      ]
     },
     "execution_count": 13,
     "metadata": {},
     "output_type": "execute_result"
    }
   ],
   "source": [
    "df['close'].rolling(window=5).mean() # 현재날짜 기준으로 5일전 까지의 종가 평균"
   ]
  },
  {
   "cell_type": "code",
   "execution_count": 14,
   "id": "b3f96d5b-147c-434c-8f79-6ee0df6d4a13",
   "metadata": {
    "tags": []
   },
   "outputs": [
    {
     "data": {
      "text/html": [
       "<div>\n",
       "<style scoped>\n",
       "    .dataframe tbody tr th:only-of-type {\n",
       "        vertical-align: middle;\n",
       "    }\n",
       "\n",
       "    .dataframe tbody tr th {\n",
       "        vertical-align: top;\n",
       "    }\n",
       "\n",
       "    .dataframe thead th {\n",
       "        text-align: right;\n",
       "    }\n",
       "</style>\n",
       "<table border=\"1\" class=\"dataframe\">\n",
       "  <thead>\n",
       "    <tr style=\"text-align: right;\">\n",
       "      <th></th>\n",
       "      <th>open</th>\n",
       "      <th>high</th>\n",
       "      <th>low</th>\n",
       "      <th>close</th>\n",
       "      <th>volumn</th>\n",
       "      <th>close_shift</th>\n",
       "      <th>pct_chg1</th>\n",
       "      <th>close_diff</th>\n",
       "      <th>close-close_shift</th>\n",
       "      <th>pct_chg</th>\n",
       "      <th>close_ma5</th>\n",
       "      <th>close_ma20</th>\n",
       "      <th>close_ma60</th>\n",
       "      <th>close_ma120</th>\n",
       "    </tr>\n",
       "    <tr>\n",
       "      <th>날짜</th>\n",
       "      <th></th>\n",
       "      <th></th>\n",
       "      <th></th>\n",
       "      <th></th>\n",
       "      <th></th>\n",
       "      <th></th>\n",
       "      <th></th>\n",
       "      <th></th>\n",
       "      <th></th>\n",
       "      <th></th>\n",
       "      <th></th>\n",
       "      <th></th>\n",
       "      <th></th>\n",
       "      <th></th>\n",
       "    </tr>\n",
       "  </thead>\n",
       "  <tbody>\n",
       "    <tr>\n",
       "      <th>2021-01-04</th>\n",
       "      <td>81000</td>\n",
       "      <td>84400</td>\n",
       "      <td>80200</td>\n",
       "      <td>83000</td>\n",
       "      <td>38655276</td>\n",
       "      <td>NaN</td>\n",
       "      <td>NaN</td>\n",
       "      <td>NaN</td>\n",
       "      <td>NaN</td>\n",
       "      <td>NaN</td>\n",
       "      <td>NaN</td>\n",
       "      <td>NaN</td>\n",
       "      <td>NaN</td>\n",
       "      <td>NaN</td>\n",
       "    </tr>\n",
       "    <tr>\n",
       "      <th>2021-01-05</th>\n",
       "      <td>81600</td>\n",
       "      <td>83900</td>\n",
       "      <td>81600</td>\n",
       "      <td>83900</td>\n",
       "      <td>35335669</td>\n",
       "      <td>83000.0</td>\n",
       "      <td>1.084337</td>\n",
       "      <td>900.0</td>\n",
       "      <td>900.0</td>\n",
       "      <td>0.010843</td>\n",
       "      <td>NaN</td>\n",
       "      <td>NaN</td>\n",
       "      <td>NaN</td>\n",
       "      <td>NaN</td>\n",
       "    </tr>\n",
       "    <tr>\n",
       "      <th>2021-01-06</th>\n",
       "      <td>83300</td>\n",
       "      <td>84500</td>\n",
       "      <td>82100</td>\n",
       "      <td>82200</td>\n",
       "      <td>42089013</td>\n",
       "      <td>83900.0</td>\n",
       "      <td>-2.026222</td>\n",
       "      <td>-1700.0</td>\n",
       "      <td>-1700.0</td>\n",
       "      <td>-0.020262</td>\n",
       "      <td>NaN</td>\n",
       "      <td>NaN</td>\n",
       "      <td>NaN</td>\n",
       "      <td>NaN</td>\n",
       "    </tr>\n",
       "    <tr>\n",
       "      <th>2021-01-07</th>\n",
       "      <td>82800</td>\n",
       "      <td>84200</td>\n",
       "      <td>82700</td>\n",
       "      <td>82900</td>\n",
       "      <td>32644642</td>\n",
       "      <td>82200.0</td>\n",
       "      <td>0.851582</td>\n",
       "      <td>700.0</td>\n",
       "      <td>700.0</td>\n",
       "      <td>0.008516</td>\n",
       "      <td>NaN</td>\n",
       "      <td>NaN</td>\n",
       "      <td>NaN</td>\n",
       "      <td>NaN</td>\n",
       "    </tr>\n",
       "    <tr>\n",
       "      <th>2021-01-08</th>\n",
       "      <td>83300</td>\n",
       "      <td>90000</td>\n",
       "      <td>83000</td>\n",
       "      <td>88800</td>\n",
       "      <td>59013307</td>\n",
       "      <td>82900.0</td>\n",
       "      <td>7.117008</td>\n",
       "      <td>5900.0</td>\n",
       "      <td>5900.0</td>\n",
       "      <td>0.071170</td>\n",
       "      <td>84160.0</td>\n",
       "      <td>NaN</td>\n",
       "      <td>NaN</td>\n",
       "      <td>NaN</td>\n",
       "    </tr>\n",
       "    <tr>\n",
       "      <th>2021-01-11</th>\n",
       "      <td>90000</td>\n",
       "      <td>96800</td>\n",
       "      <td>89500</td>\n",
       "      <td>91000</td>\n",
       "      <td>90306177</td>\n",
       "      <td>88800.0</td>\n",
       "      <td>2.477477</td>\n",
       "      <td>2200.0</td>\n",
       "      <td>2200.0</td>\n",
       "      <td>0.024775</td>\n",
       "      <td>85760.0</td>\n",
       "      <td>NaN</td>\n",
       "      <td>NaN</td>\n",
       "      <td>NaN</td>\n",
       "    </tr>\n",
       "    <tr>\n",
       "      <th>2021-01-12</th>\n",
       "      <td>90300</td>\n",
       "      <td>91400</td>\n",
       "      <td>87800</td>\n",
       "      <td>90600</td>\n",
       "      <td>48682416</td>\n",
       "      <td>91000.0</td>\n",
       "      <td>-0.439560</td>\n",
       "      <td>-400.0</td>\n",
       "      <td>-400.0</td>\n",
       "      <td>-0.004396</td>\n",
       "      <td>87100.0</td>\n",
       "      <td>NaN</td>\n",
       "      <td>NaN</td>\n",
       "      <td>NaN</td>\n",
       "    </tr>\n",
       "  </tbody>\n",
       "</table>\n",
       "</div>"
      ],
      "text/plain": [
       "             open   high    low  close    volumn  close_shift  pct_chg1  \\\n",
       "날짜                                                                        \n",
       "2021-01-04  81000  84400  80200  83000  38655276          NaN       NaN   \n",
       "2021-01-05  81600  83900  81600  83900  35335669      83000.0  1.084337   \n",
       "2021-01-06  83300  84500  82100  82200  42089013      83900.0 -2.026222   \n",
       "2021-01-07  82800  84200  82700  82900  32644642      82200.0  0.851582   \n",
       "2021-01-08  83300  90000  83000  88800  59013307      82900.0  7.117008   \n",
       "2021-01-11  90000  96800  89500  91000  90306177      88800.0  2.477477   \n",
       "2021-01-12  90300  91400  87800  90600  48682416      91000.0 -0.439560   \n",
       "\n",
       "            close_diff  close-close_shift   pct_chg  close_ma5  close_ma20  \\\n",
       "날짜                                                                           \n",
       "2021-01-04         NaN                NaN       NaN        NaN         NaN   \n",
       "2021-01-05       900.0              900.0  0.010843        NaN         NaN   \n",
       "2021-01-06     -1700.0            -1700.0 -0.020262        NaN         NaN   \n",
       "2021-01-07       700.0              700.0  0.008516        NaN         NaN   \n",
       "2021-01-08      5900.0             5900.0  0.071170    84160.0         NaN   \n",
       "2021-01-11      2200.0             2200.0  0.024775    85760.0         NaN   \n",
       "2021-01-12      -400.0             -400.0 -0.004396    87100.0         NaN   \n",
       "\n",
       "            close_ma60  close_ma120  \n",
       "날짜                                   \n",
       "2021-01-04         NaN          NaN  \n",
       "2021-01-05         NaN          NaN  \n",
       "2021-01-06         NaN          NaN  \n",
       "2021-01-07         NaN          NaN  \n",
       "2021-01-08         NaN          NaN  \n",
       "2021-01-11         NaN          NaN  \n",
       "2021-01-12         NaN          NaN  "
      ]
     },
     "execution_count": 14,
     "metadata": {},
     "output_type": "execute_result"
    }
   ],
   "source": [
    "df['close_ma5']   = df['close'].rolling(window=5).mean() # 단기\n",
    "df['close_ma20']  = df['close'].rolling(window=20).mean() \n",
    "df['close_ma60']  = df['close'].rolling(window=60).mean()  \n",
    "df['close_ma120'] = df['close'].rolling(window=120).mean() # 중장기\n",
    "df.head(7)"
   ]
  },
  {
   "cell_type": "markdown",
   "id": "a46df799-7622-45b0-a90d-96ae47b09727",
   "metadata": {},
   "source": [
    "## resample()\n",
    "* 날짜 끊어오기\n",
    "* <font color=\"red\"><b>인덱스가 반드시 날짜인 경우만 사용 가능\n",
    "* 업샘플링 : 보간법 사용해 샘플수 늘리기\n",
    "* 다운샘플링 : 집계 사용해 샘플수 줄이기"
   ]
  },
  {
   "cell_type": "code",
   "execution_count": 15,
   "id": "890f9aa0-d3b8-4828-9af8-4b1982079b4e",
   "metadata": {
    "tags": []
   },
   "outputs": [
    {
     "name": "stdout",
     "output_type": "stream",
     "text": [
      "(248, 14)\n"
     ]
    },
    {
     "data": {
      "text/plain": [
       "날짜\n",
       "2021-01-31    86565.000000\n",
       "2021-02-28    83127.777778\n",
       "2021-03-31    82072.727273\n",
       "2021-04-30    83586.363636\n",
       "2021-05-31    80521.052632\n",
       "2021-06-30    81104.545455\n",
       "2021-07-31    79577.272727\n",
       "2021-08-31    77023.809524\n",
       "2021-09-30    76305.263158\n",
       "2021-10-31    70563.157895\n",
       "2021-11-30    71536.363636\n",
       "2021-12-31    77809.090909\n",
       "Freq: M, Name: close, dtype: float64"
      ]
     },
     "execution_count": 15,
     "metadata": {},
     "output_type": "execute_result"
    }
   ],
   "source": [
    "print(df.shape)\n",
    "df['close'].resample(rule='M').mean()  #월평균(월말)\n",
    "# 인덱스가 반드시 날짜인 경우만 사용 가능"
   ]
  },
  {
   "cell_type": "code",
   "execution_count": 16,
   "id": "b9c28618-ccf8-480e-831e-aea9f93650ff",
   "metadata": {
    "tags": []
   },
   "outputs": [
    {
     "name": "stdout",
     "output_type": "stream",
     "text": [
      "(248, 14)\n",
      "날짜\n",
      "2021-01-01    83000\n",
      "2021-02-01    83000\n",
      "2021-03-01    83600\n",
      "2021-04-01    82900\n",
      "2021-05-01    81700\n",
      "2021-06-01    80600\n",
      "2021-07-01    80100\n",
      "2021-08-01    79300\n",
      "2021-09-01    76800\n",
      "2021-10-01    73200\n",
      "2021-11-01    69900\n",
      "2021-12-01    74400\n",
      "Freq: MS, Name: close, dtype: int32\n"
     ]
    }
   ],
   "source": [
    "print(df.shape)\n",
    "print( df['close'].resample(rule='MS').first() )  #매월 초 가격\n",
    "# print( df['close'].resample(rule='M').last() )    #매월 말 가격"
   ]
  },
  {
   "cell_type": "code",
   "execution_count": null,
   "id": "ebebb752-8eb7-46f2-8f7c-e01321d02692",
   "metadata": {},
   "outputs": [],
   "source": []
  },
  {
   "cell_type": "markdown",
   "id": "c2b7cfa8-8c15-4aa0-8e91-bdf9d4dd1974",
   "metadata": {},
   "source": [
    "# [실습] FinanceDataReader"
   ]
  },
  {
   "cell_type": "markdown",
   "id": "a3c4ec22-3dfe-4696-ab31-c83029da7b5d",
   "metadata": {},
   "source": [
    "* 시가총액 : 시가총액은 기업의 가치를 결정하는 지표\n",
    "          시가총액 = 주식 수 × 주식 1주당 가격\n",
    "\n",
    "* KOSPI : 한국증권거래소에 상장되어 거래되는 모든 주식의 시가총액을 합쳐서 주식시장 전체 장세의 흐름을 나타내는 지수\n",
    "          KOSPI 지수 = (현재 시가총액 합 / 1980. 1. 4 기준 시가총액 합) × 100\n",
    " \n",
    "*  KOSDAQ : 중소기업이나 신생 벤처기업을 위한 1996년 첨단 기술주 중심인 미국의 나스닥(NASDAQ) 시장을 본떠 만든 대한민국의 주식시장\n",
    "\n",
    "*  KOSPI 200 : 어업, 광업, 제조업, 전기가스업, 건설업, 서비스업, 통신업 등 8개의 산업군에서 각 산업을 대표할 수 있는 200개의 종목을 뽑아서 만든 지수\n",
    "\n",
    "*  KODEX 200 : 삼성자산운용에서 운용하는 ETF로, KOSPI 200을 추종(복제)하는 ETF\n",
    "\n",
    "*  ETF : 특정 주가지수 또는 금, 채권, 원유와 같은 특정 자산가격를 그대로 추종하는 성격을 지닌 금융상품"
   ]
  },
  {
   "cell_type": "markdown",
   "id": "a7da13ba-dcf8-49e6-8745-035e0f3af322",
   "metadata": {},
   "source": [
    "## Data Load"
   ]
  },
  {
   "cell_type": "markdown",
   "id": "2c861220-3727-4120-8eff-895bd9397d2b",
   "metadata": {},
   "source": [
    "### FinanceDataReader 사용 시 "
   ]
  },
  {
   "cell_type": "code",
   "execution_count": 17,
   "id": "4b7bc6a1-0d45-4d54-a935-ebf06f67b144",
   "metadata": {
    "tags": []
   },
   "outputs": [
    {
     "data": {
      "text/html": [
       "<div>\n",
       "<style scoped>\n",
       "    .dataframe tbody tr th:only-of-type {\n",
       "        vertical-align: middle;\n",
       "    }\n",
       "\n",
       "    .dataframe tbody tr th {\n",
       "        vertical-align: top;\n",
       "    }\n",
       "\n",
       "    .dataframe thead th {\n",
       "        text-align: right;\n",
       "    }\n",
       "</style>\n",
       "<table border=\"1\" class=\"dataframe\">\n",
       "  <thead>\n",
       "    <tr style=\"text-align: right;\">\n",
       "      <th></th>\n",
       "      <th>Open</th>\n",
       "      <th>High</th>\n",
       "      <th>Low</th>\n",
       "      <th>Close</th>\n",
       "      <th>Volume</th>\n",
       "      <th>Change</th>\n",
       "    </tr>\n",
       "    <tr>\n",
       "      <th>Date</th>\n",
       "      <th></th>\n",
       "      <th></th>\n",
       "      <th></th>\n",
       "      <th></th>\n",
       "      <th></th>\n",
       "      <th></th>\n",
       "    </tr>\n",
       "  </thead>\n",
       "  <tbody>\n",
       "    <tr>\n",
       "      <th>2021-01-04</th>\n",
       "      <td>81000</td>\n",
       "      <td>84400</td>\n",
       "      <td>80200</td>\n",
       "      <td>83000</td>\n",
       "      <td>38655276</td>\n",
       "      <td>0.024691</td>\n",
       "    </tr>\n",
       "    <tr>\n",
       "      <th>2021-01-05</th>\n",
       "      <td>81600</td>\n",
       "      <td>83900</td>\n",
       "      <td>81600</td>\n",
       "      <td>83900</td>\n",
       "      <td>35335669</td>\n",
       "      <td>0.010843</td>\n",
       "    </tr>\n",
       "    <tr>\n",
       "      <th>2021-01-06</th>\n",
       "      <td>83300</td>\n",
       "      <td>84500</td>\n",
       "      <td>82100</td>\n",
       "      <td>82200</td>\n",
       "      <td>42089013</td>\n",
       "      <td>-0.020262</td>\n",
       "    </tr>\n",
       "  </tbody>\n",
       "</table>\n",
       "</div>"
      ],
      "text/plain": [
       "             Open   High    Low  Close    Volume    Change\n",
       "Date                                                      \n",
       "2021-01-04  81000  84400  80200  83000  38655276  0.024691\n",
       "2021-01-05  81600  83900  81600  83900  35335669  0.010843\n",
       "2021-01-06  83300  84500  82100  82200  42089013 -0.020262"
      ]
     },
     "execution_count": 17,
     "metadata": {},
     "output_type": "execute_result"
    }
   ],
   "source": [
    "import FinanceDataReader as fdr\n",
    "df_ss = fdr.DataReader('005930', '2021-01-01', '2021-12-31', exchange='KRX') \n",
    "df_ss.head(3)"
   ]
  },
  {
   "cell_type": "markdown",
   "id": "ce804fc5-aabb-43b0-a75d-f9411aea1790",
   "metadata": {},
   "source": [
    "* 현재 investing 에러..\n",
    "* 2023/4/26 현재 정상 구동"
   ]
  },
  {
   "cell_type": "code",
   "execution_count": 18,
   "id": "7fd6c256-f6b9-460b-a2b8-dff1f567c1e6",
   "metadata": {},
   "outputs": [],
   "source": [
    "# ! pip install -U finance-datareader "
   ]
  },
  {
   "cell_type": "code",
   "execution_count": 19,
   "id": "b304d7d4-c094-47dd-9605-bbc3c15343c8",
   "metadata": {
    "tags": []
   },
   "outputs": [],
   "source": [
    "# df_aapl = fdr.DataReader('AMZN', '2021-01-01', '2021-12-31')\n",
    "df_aapl = fdr.DataReader('AAPL', '2021-01-01', '2021-12-31')"
   ]
  },
  {
   "cell_type": "code",
   "execution_count": 20,
   "id": "5e402308-736b-4aa5-acef-cbcb0392b1ca",
   "metadata": {},
   "outputs": [],
   "source": [
    "# Image(filename='./img/lec05_2.png', width = 600)"
   ]
  },
  {
   "cell_type": "code",
   "execution_count": 21,
   "id": "0a6c84e1-cf58-42be-8444-8c1339d7bc0a",
   "metadata": {},
   "outputs": [],
   "source": [
    "# Image(filename='./img/lec05_1.png', width = 600)"
   ]
  },
  {
   "cell_type": "markdown",
   "id": "f69c7e90-6bc4-4b64-b196-fe3a9338facd",
   "metadata": {
    "tags": []
   },
   "source": [
    "### pandas_datareader 사용 시"
   ]
  },
  {
   "cell_type": "code",
   "execution_count": 22,
   "id": "97592957-7c8f-4c5a-94db-04ae85ab8f60",
   "metadata": {
    "tags": []
   },
   "outputs": [],
   "source": [
    "from pandas_datareader import data as pdr\n",
    "import yfinance as yf\n",
    "yf.pdr_override()"
   ]
  },
  {
   "cell_type": "markdown",
   "id": "99167502-e86a-4039-a47c-a1a0cd5024eb",
   "metadata": {},
   "source": [
    "* 상장 회사 정보 가져오기"
   ]
  },
  {
   "cell_type": "code",
   "execution_count": 23,
   "id": "7e118d1b-62dc-41c0-a71b-51ebb97371c8",
   "metadata": {
    "tags": []
   },
   "outputs": [
    {
     "data": {
      "text/html": [
       "<div>\n",
       "<style scoped>\n",
       "    .dataframe tbody tr th:only-of-type {\n",
       "        vertical-align: middle;\n",
       "    }\n",
       "\n",
       "    .dataframe tbody tr th {\n",
       "        vertical-align: top;\n",
       "    }\n",
       "\n",
       "    .dataframe thead th {\n",
       "        text-align: right;\n",
       "    }\n",
       "</style>\n",
       "<table border=\"1\" class=\"dataframe\">\n",
       "  <thead>\n",
       "    <tr style=\"text-align: right;\">\n",
       "      <th></th>\n",
       "      <th>Code</th>\n",
       "      <th>ISU_CD</th>\n",
       "      <th>Name</th>\n",
       "      <th>Market</th>\n",
       "      <th>Dept</th>\n",
       "      <th>Close</th>\n",
       "      <th>ChangeCode</th>\n",
       "      <th>Changes</th>\n",
       "      <th>ChagesRatio</th>\n",
       "      <th>Open</th>\n",
       "      <th>High</th>\n",
       "      <th>Low</th>\n",
       "      <th>Volume</th>\n",
       "      <th>Amount</th>\n",
       "      <th>Marcap</th>\n",
       "      <th>Stocks</th>\n",
       "      <th>MarketId</th>\n",
       "    </tr>\n",
       "  </thead>\n",
       "  <tbody>\n",
       "    <tr>\n",
       "      <th>0</th>\n",
       "      <td>005930</td>\n",
       "      <td>KR7005930003</td>\n",
       "      <td>삼성전자</td>\n",
       "      <td>KOSPI</td>\n",
       "      <td></td>\n",
       "      <td>63900</td>\n",
       "      <td>2</td>\n",
       "      <td>-200</td>\n",
       "      <td>-0.31</td>\n",
       "      <td>64100</td>\n",
       "      <td>64400</td>\n",
       "      <td>63300</td>\n",
       "      <td>5162537</td>\n",
       "      <td>329506598600</td>\n",
       "      <td>381469104945000</td>\n",
       "      <td>5969782550</td>\n",
       "      <td>STK</td>\n",
       "    </tr>\n",
       "    <tr>\n",
       "      <th>1</th>\n",
       "      <td>373220</td>\n",
       "      <td>KR7373220003</td>\n",
       "      <td>LG에너지솔루션</td>\n",
       "      <td>KOSPI</td>\n",
       "      <td></td>\n",
       "      <td>580000</td>\n",
       "      <td>1</td>\n",
       "      <td>13000</td>\n",
       "      <td>2.29</td>\n",
       "      <td>573000</td>\n",
       "      <td>585000</td>\n",
       "      <td>567000</td>\n",
       "      <td>177662</td>\n",
       "      <td>102746251000</td>\n",
       "      <td>135720000000000</td>\n",
       "      <td>234000000</td>\n",
       "      <td>STK</td>\n",
       "    </tr>\n",
       "    <tr>\n",
       "      <th>2</th>\n",
       "      <td>000660</td>\n",
       "      <td>KR7000660001</td>\n",
       "      <td>SK하이닉스</td>\n",
       "      <td>KOSPI</td>\n",
       "      <td></td>\n",
       "      <td>87600</td>\n",
       "      <td>1</td>\n",
       "      <td>200</td>\n",
       "      <td>0.23</td>\n",
       "      <td>87900</td>\n",
       "      <td>88200</td>\n",
       "      <td>86000</td>\n",
       "      <td>911290</td>\n",
       "      <td>79505053400</td>\n",
       "      <td>63773007174000</td>\n",
       "      <td>728002365</td>\n",
       "      <td>STK</td>\n",
       "    </tr>\n",
       "    <tr>\n",
       "      <th>3</th>\n",
       "      <td>207940</td>\n",
       "      <td>KR7207940008</td>\n",
       "      <td>삼성바이오로직스</td>\n",
       "      <td>KOSPI</td>\n",
       "      <td></td>\n",
       "      <td>772000</td>\n",
       "      <td>2</td>\n",
       "      <td>-11000</td>\n",
       "      <td>-1.40</td>\n",
       "      <td>780000</td>\n",
       "      <td>782000</td>\n",
       "      <td>767000</td>\n",
       "      <td>31098</td>\n",
       "      <td>24041195000</td>\n",
       "      <td>54946328000000</td>\n",
       "      <td>71174000</td>\n",
       "      <td>STK</td>\n",
       "    </tr>\n",
       "    <tr>\n",
       "      <th>4</th>\n",
       "      <td>051910</td>\n",
       "      <td>KR7051910008</td>\n",
       "      <td>LG화학</td>\n",
       "      <td>KOSPI</td>\n",
       "      <td></td>\n",
       "      <td>738000</td>\n",
       "      <td>1</td>\n",
       "      <td>11000</td>\n",
       "      <td>1.51</td>\n",
       "      <td>734000</td>\n",
       "      <td>740000</td>\n",
       "      <td>726000</td>\n",
       "      <td>96298</td>\n",
       "      <td>70712503000</td>\n",
       "      <td>52097149134000</td>\n",
       "      <td>70592343</td>\n",
       "      <td>STK</td>\n",
       "    </tr>\n",
       "  </tbody>\n",
       "</table>\n",
       "</div>"
      ],
      "text/plain": [
       "     Code        ISU_CD      Name Market Dept   Close ChangeCode  Changes  \\\n",
       "0  005930  KR7005930003      삼성전자  KOSPI        63900          2     -200   \n",
       "1  373220  KR7373220003  LG에너지솔루션  KOSPI       580000          1    13000   \n",
       "2  000660  KR7000660001    SK하이닉스  KOSPI        87600          1      200   \n",
       "3  207940  KR7207940008  삼성바이오로직스  KOSPI       772000          2   -11000   \n",
       "4  051910  KR7051910008      LG화학  KOSPI       738000          1    11000   \n",
       "\n",
       "   ChagesRatio    Open    High     Low   Volume        Amount  \\\n",
       "0        -0.31   64100   64400   63300  5162537  329506598600   \n",
       "1         2.29  573000  585000  567000   177662  102746251000   \n",
       "2         0.23   87900   88200   86000   911290   79505053400   \n",
       "3        -1.40  780000  782000  767000    31098   24041195000   \n",
       "4         1.51  734000  740000  726000    96298   70712503000   \n",
       "\n",
       "            Marcap      Stocks MarketId  \n",
       "0  381469104945000  5969782550      STK  \n",
       "1  135720000000000   234000000      STK  \n",
       "2   63773007174000   728002365      STK  \n",
       "3   54946328000000    71174000      STK  \n",
       "4   52097149134000    70592343      STK  "
      ]
     },
     "execution_count": 23,
     "metadata": {},
     "output_type": "execute_result"
    }
   ],
   "source": [
    "ticker_df = fdr.StockListing('KRX')  # 'KRX', 'KOSPI', 'KODAQ', 'KONEX'\n",
    "ticker_df.head()"
   ]
  },
  {
   "cell_type": "code",
   "execution_count": 24,
   "id": "ff057ea7-713f-467b-be0d-1723a1278d34",
   "metadata": {
    "tags": []
   },
   "outputs": [
    {
     "data": {
      "text/plain": [
       "KOSDAQ           1585\n",
       "KOSPI             948\n",
       "KONEX             129\n",
       "KOSDAQ GLOBAL      51\n",
       "Name: Market, dtype: int64"
      ]
     },
     "execution_count": 24,
     "metadata": {},
     "output_type": "execute_result"
    }
   ],
   "source": [
    "ticker_df['Market'].value_counts()"
   ]
  },
  {
   "cell_type": "code",
   "execution_count": 25,
   "id": "6e3ff9d6-db89-4d5b-81da-c9cdb54e6dd7",
   "metadata": {
    "tags": []
   },
   "outputs": [
    {
     "name": "stderr",
     "output_type": "stream",
     "text": [
      "100%|█████████████████████████████████████████████████████████████████████████████████████████████████████████████████████████████████████████████████████████████████████████████████████████████| 4323/4323 [00:07<00:00, 543.60it/s]"
     ]
    },
    {
     "name": "stdout",
     "output_type": "stream",
     "text": [
      "(4323, 4)\n"
     ]
    },
    {
     "name": "stderr",
     "output_type": "stream",
     "text": [
      "\n"
     ]
    },
    {
     "data": {
      "text/html": [
       "<div>\n",
       "<style scoped>\n",
       "    .dataframe tbody tr th:only-of-type {\n",
       "        vertical-align: middle;\n",
       "    }\n",
       "\n",
       "    .dataframe tbody tr th {\n",
       "        vertical-align: top;\n",
       "    }\n",
       "\n",
       "    .dataframe thead th {\n",
       "        text-align: right;\n",
       "    }\n",
       "</style>\n",
       "<table border=\"1\" class=\"dataframe\">\n",
       "  <thead>\n",
       "    <tr style=\"text-align: right;\">\n",
       "      <th></th>\n",
       "      <th>Symbol</th>\n",
       "      <th>Name</th>\n",
       "      <th>Industry</th>\n",
       "      <th>IndustryCode</th>\n",
       "    </tr>\n",
       "  </thead>\n",
       "  <tbody>\n",
       "    <tr>\n",
       "      <th>0</th>\n",
       "      <td>AAPL</td>\n",
       "      <td>Apple Inc</td>\n",
       "      <td>컴퓨터, 전화 및 가전제품</td>\n",
       "      <td>571060</td>\n",
       "    </tr>\n",
       "    <tr>\n",
       "      <th>1</th>\n",
       "      <td>MSFT</td>\n",
       "      <td>Microsoft Corp</td>\n",
       "      <td>소프트웨어 및 IT서비스</td>\n",
       "      <td>572010</td>\n",
       "    </tr>\n",
       "    <tr>\n",
       "      <th>2</th>\n",
       "      <td>AMZN</td>\n",
       "      <td>Amazon.com Inc</td>\n",
       "      <td>다양한 소매업</td>\n",
       "      <td>534020</td>\n",
       "    </tr>\n",
       "    <tr>\n",
       "      <th>3</th>\n",
       "      <td>GOOGL</td>\n",
       "      <td>Alphabet Inc Class A</td>\n",
       "      <td>소프트웨어 및 IT서비스</td>\n",
       "      <td>572010</td>\n",
       "    </tr>\n",
       "    <tr>\n",
       "      <th>4</th>\n",
       "      <td>NVDA</td>\n",
       "      <td>NVIDIA Corp</td>\n",
       "      <td>반도체 및 반도체 장비</td>\n",
       "      <td>571010</td>\n",
       "    </tr>\n",
       "  </tbody>\n",
       "</table>\n",
       "</div>"
      ],
      "text/plain": [
       "  Symbol                  Name        Industry IndustryCode\n",
       "0   AAPL             Apple Inc  컴퓨터, 전화 및 가전제품       571060\n",
       "1   MSFT        Microsoft Corp   소프트웨어 및 IT서비스       572010\n",
       "2   AMZN        Amazon.com Inc         다양한 소매업       534020\n",
       "3  GOOGL  Alphabet Inc Class A   소프트웨어 및 IT서비스       572010\n",
       "4   NVDA           NVIDIA Corp    반도체 및 반도체 장비       571010"
      ]
     },
     "execution_count": 25,
     "metadata": {},
     "output_type": "execute_result"
    }
   ],
   "source": [
    "ticker_df = fdr.StockListing('NASDAQ')  # 'NASDAQ', 'NYSE', 'AMEX' and 'S&P500', 'SSE'(상해), 'SZSE'(심천), 'HKEX'(홍콩), 'TSE'(도쿄)\n",
    "print(ticker_df.shape)\n",
    "ticker_df.head()"
   ]
  },
  {
   "cell_type": "code",
   "execution_count": 26,
   "id": "5d97d0aa-1ee2-44b4-aa5a-afec60e58cdf",
   "metadata": {
    "tags": []
   },
   "outputs": [
    {
     "name": "stdout",
     "output_type": "stream",
     "text": [
      "[*********************100%***********************]  1 of 1 completed\n",
      "(248, 6)\n"
     ]
    },
    {
     "data": {
      "text/html": [
       "<div>\n",
       "<style scoped>\n",
       "    .dataframe tbody tr th:only-of-type {\n",
       "        vertical-align: middle;\n",
       "    }\n",
       "\n",
       "    .dataframe tbody tr th {\n",
       "        vertical-align: top;\n",
       "    }\n",
       "\n",
       "    .dataframe thead th {\n",
       "        text-align: right;\n",
       "    }\n",
       "</style>\n",
       "<table border=\"1\" class=\"dataframe\">\n",
       "  <thead>\n",
       "    <tr style=\"text-align: right;\">\n",
       "      <th></th>\n",
       "      <th>Open</th>\n",
       "      <th>High</th>\n",
       "      <th>Low</th>\n",
       "      <th>Close</th>\n",
       "      <th>Adj Close</th>\n",
       "      <th>Volume</th>\n",
       "    </tr>\n",
       "    <tr>\n",
       "      <th>Date</th>\n",
       "      <th></th>\n",
       "      <th></th>\n",
       "      <th></th>\n",
       "      <th></th>\n",
       "      <th></th>\n",
       "      <th></th>\n",
       "    </tr>\n",
       "  </thead>\n",
       "  <tbody>\n",
       "    <tr>\n",
       "      <th>2021-01-04</th>\n",
       "      <td>81000.0</td>\n",
       "      <td>84400.0</td>\n",
       "      <td>80200.0</td>\n",
       "      <td>83000.0</td>\n",
       "      <td>79551.828125</td>\n",
       "      <td>38655276</td>\n",
       "    </tr>\n",
       "    <tr>\n",
       "      <th>2021-01-05</th>\n",
       "      <td>81600.0</td>\n",
       "      <td>83900.0</td>\n",
       "      <td>81600.0</td>\n",
       "      <td>83900.0</td>\n",
       "      <td>80414.445312</td>\n",
       "      <td>35335669</td>\n",
       "    </tr>\n",
       "    <tr>\n",
       "      <th>2021-01-06</th>\n",
       "      <td>83300.0</td>\n",
       "      <td>84500.0</td>\n",
       "      <td>82100.0</td>\n",
       "      <td>82200.0</td>\n",
       "      <td>78785.078125</td>\n",
       "      <td>42089013</td>\n",
       "    </tr>\n",
       "  </tbody>\n",
       "</table>\n",
       "</div>"
      ],
      "text/plain": [
       "               Open     High      Low    Close     Adj Close    Volume\n",
       "Date                                                                  \n",
       "2021-01-04  81000.0  84400.0  80200.0  83000.0  79551.828125  38655276\n",
       "2021-01-05  81600.0  83900.0  81600.0  83900.0  80414.445312  35335669\n",
       "2021-01-06  83300.0  84500.0  82100.0  82200.0  78785.078125  42089013"
      ]
     },
     "execution_count": 26,
     "metadata": {},
     "output_type": "execute_result"
    }
   ],
   "source": [
    "# df_ss = pdr.DataReader(\"005930.KS\" ,start='2018-01-01' ,end='2019-12-31' ,data_source='yahoo' )\n",
    "df_ss = pdr.get_data_yahoo('005930.KS', '2021-01-01', '2021-12-31')   # Adj Close(수정종가)까지 가져옴\n",
    "print(df_ss.shape)\n",
    "df_ss.head(3)"
   ]
  },
  {
   "cell_type": "code",
   "execution_count": 27,
   "id": "5228abf4-9e16-42d1-8af4-d0331c991c42",
   "metadata": {
    "tags": []
   },
   "outputs": [
    {
     "name": "stdout",
     "output_type": "stream",
     "text": [
      "[*********************100%***********************]  1 of 1 completed\n",
      "(251, 6)\n"
     ]
    },
    {
     "data": {
      "text/html": [
       "<div>\n",
       "<style scoped>\n",
       "    .dataframe tbody tr th:only-of-type {\n",
       "        vertical-align: middle;\n",
       "    }\n",
       "\n",
       "    .dataframe tbody tr th {\n",
       "        vertical-align: top;\n",
       "    }\n",
       "\n",
       "    .dataframe thead th {\n",
       "        text-align: right;\n",
       "    }\n",
       "</style>\n",
       "<table border=\"1\" class=\"dataframe\">\n",
       "  <thead>\n",
       "    <tr style=\"text-align: right;\">\n",
       "      <th></th>\n",
       "      <th>Open</th>\n",
       "      <th>High</th>\n",
       "      <th>Low</th>\n",
       "      <th>Close</th>\n",
       "      <th>Adj Close</th>\n",
       "      <th>Volume</th>\n",
       "    </tr>\n",
       "    <tr>\n",
       "      <th>Date</th>\n",
       "      <th></th>\n",
       "      <th></th>\n",
       "      <th></th>\n",
       "      <th></th>\n",
       "      <th></th>\n",
       "      <th></th>\n",
       "    </tr>\n",
       "  </thead>\n",
       "  <tbody>\n",
       "    <tr>\n",
       "      <th>2021-01-04</th>\n",
       "      <td>239.820007</td>\n",
       "      <td>248.163330</td>\n",
       "      <td>239.063339</td>\n",
       "      <td>243.256668</td>\n",
       "      <td>243.256668</td>\n",
       "      <td>145914600</td>\n",
       "    </tr>\n",
       "    <tr>\n",
       "      <th>2021-01-05</th>\n",
       "      <td>241.220001</td>\n",
       "      <td>246.946671</td>\n",
       "      <td>239.733337</td>\n",
       "      <td>245.036667</td>\n",
       "      <td>245.036667</td>\n",
       "      <td>96735600</td>\n",
       "    </tr>\n",
       "    <tr>\n",
       "      <th>2021-01-06</th>\n",
       "      <td>252.830002</td>\n",
       "      <td>258.000000</td>\n",
       "      <td>249.699997</td>\n",
       "      <td>251.993332</td>\n",
       "      <td>251.993332</td>\n",
       "      <td>134100000</td>\n",
       "    </tr>\n",
       "  </tbody>\n",
       "</table>\n",
       "</div>"
      ],
      "text/plain": [
       "                  Open        High         Low       Close   Adj Close  \\\n",
       "Date                                                                     \n",
       "2021-01-04  239.820007  248.163330  239.063339  243.256668  243.256668   \n",
       "2021-01-05  241.220001  246.946671  239.733337  245.036667  245.036667   \n",
       "2021-01-06  252.830002  258.000000  249.699997  251.993332  251.993332   \n",
       "\n",
       "               Volume  \n",
       "Date                   \n",
       "2021-01-04  145914600  \n",
       "2021-01-05   96735600  \n",
       "2021-01-06  134100000  "
      ]
     },
     "execution_count": 27,
     "metadata": {},
     "output_type": "execute_result"
    }
   ],
   "source": [
    "df_ts = pdr.get_data_yahoo('TSLA', '2021-01-01', '2021-12-31')\n",
    "print(df_ts.shape)\n",
    "df_ts.head(3)"
   ]
  },
  {
   "cell_type": "markdown",
   "id": "9859419e-ff03-48f6-ad5b-7ccc8e5645f2",
   "metadata": {},
   "source": [
    "### yfinance (pandas_datareader) 사용 시"
   ]
  },
  {
   "cell_type": "code",
   "execution_count": 28,
   "id": "e4e908c3-164f-433a-9ba3-a8f98ba4e109",
   "metadata": {
    "tags": []
   },
   "outputs": [],
   "source": [
    "from pandas_datareader import data as pdr\n",
    "import yfinance as yf\n",
    "yf.pdr_override()"
   ]
  },
  {
   "cell_type": "code",
   "execution_count": 29,
   "id": "cf6ec155-10d3-4e49-8ce0-9f6a9eed2668",
   "metadata": {
    "tags": []
   },
   "outputs": [
    {
     "name": "stdout",
     "output_type": "stream",
     "text": [
      "[*********************100%***********************]  1 of 1 completed\n"
     ]
    },
    {
     "data": {
      "text/html": [
       "<div>\n",
       "<style scoped>\n",
       "    .dataframe tbody tr th:only-of-type {\n",
       "        vertical-align: middle;\n",
       "    }\n",
       "\n",
       "    .dataframe tbody tr th {\n",
       "        vertical-align: top;\n",
       "    }\n",
       "\n",
       "    .dataframe thead th {\n",
       "        text-align: right;\n",
       "    }\n",
       "</style>\n",
       "<table border=\"1\" class=\"dataframe\">\n",
       "  <thead>\n",
       "    <tr style=\"text-align: right;\">\n",
       "      <th></th>\n",
       "      <th>Open</th>\n",
       "      <th>High</th>\n",
       "      <th>Low</th>\n",
       "      <th>Close</th>\n",
       "      <th>Adj Close</th>\n",
       "      <th>Volume</th>\n",
       "    </tr>\n",
       "    <tr>\n",
       "      <th>Date</th>\n",
       "      <th></th>\n",
       "      <th></th>\n",
       "      <th></th>\n",
       "      <th></th>\n",
       "      <th></th>\n",
       "      <th></th>\n",
       "    </tr>\n",
       "  </thead>\n",
       "  <tbody>\n",
       "    <tr>\n",
       "      <th>2021-01-04</th>\n",
       "      <td>239.820007</td>\n",
       "      <td>248.163330</td>\n",
       "      <td>239.063339</td>\n",
       "      <td>243.256668</td>\n",
       "      <td>243.256668</td>\n",
       "      <td>145914600</td>\n",
       "    </tr>\n",
       "    <tr>\n",
       "      <th>2021-01-05</th>\n",
       "      <td>241.220001</td>\n",
       "      <td>246.946671</td>\n",
       "      <td>239.733337</td>\n",
       "      <td>245.036667</td>\n",
       "      <td>245.036667</td>\n",
       "      <td>96735600</td>\n",
       "    </tr>\n",
       "    <tr>\n",
       "      <th>2021-01-06</th>\n",
       "      <td>252.830002</td>\n",
       "      <td>258.000000</td>\n",
       "      <td>249.699997</td>\n",
       "      <td>251.993332</td>\n",
       "      <td>251.993332</td>\n",
       "      <td>134100000</td>\n",
       "    </tr>\n",
       "    <tr>\n",
       "      <th>2021-01-07</th>\n",
       "      <td>259.209991</td>\n",
       "      <td>272.329987</td>\n",
       "      <td>258.399994</td>\n",
       "      <td>272.013336</td>\n",
       "      <td>272.013336</td>\n",
       "      <td>154496700</td>\n",
       "    </tr>\n",
       "    <tr>\n",
       "      <th>2021-01-08</th>\n",
       "      <td>285.333344</td>\n",
       "      <td>294.829987</td>\n",
       "      <td>279.463318</td>\n",
       "      <td>293.339996</td>\n",
       "      <td>293.339996</td>\n",
       "      <td>225166500</td>\n",
       "    </tr>\n",
       "  </tbody>\n",
       "</table>\n",
       "</div>"
      ],
      "text/plain": [
       "                  Open        High         Low       Close   Adj Close  \\\n",
       "Date                                                                     \n",
       "2021-01-04  239.820007  248.163330  239.063339  243.256668  243.256668   \n",
       "2021-01-05  241.220001  246.946671  239.733337  245.036667  245.036667   \n",
       "2021-01-06  252.830002  258.000000  249.699997  251.993332  251.993332   \n",
       "2021-01-07  259.209991  272.329987  258.399994  272.013336  272.013336   \n",
       "2021-01-08  285.333344  294.829987  279.463318  293.339996  293.339996   \n",
       "\n",
       "               Volume  \n",
       "Date                   \n",
       "2021-01-04  145914600  \n",
       "2021-01-05   96735600  \n",
       "2021-01-06  134100000  \n",
       "2021-01-07  154496700  \n",
       "2021-01-08  225166500  "
      ]
     },
     "execution_count": 29,
     "metadata": {},
     "output_type": "execute_result"
    }
   ],
   "source": [
    "df_ts = yf.download(\"TSLA\", start=\"2021-01-01\", end=\"2021-12-31\")\n",
    "df_ts.head()"
   ]
  },
  {
   "cell_type": "code",
   "execution_count": 30,
   "id": "51946477-bbaf-445d-baed-df651ed58ce2",
   "metadata": {
    "tags": []
   },
   "outputs": [
    {
     "data": {
      "image/png": "[encoded data removed]",
      "text/plain": [
       "<Figure size 900x600 with 1 Axes>"
      ]
     },
     "metadata": {},
     "output_type": "display_data"
    }
   ],
   "source": [
    "plt.figure(figsize=(9, 6))\n",
    "plt.title('Samsung vs TSLA close')\n",
    "plt.plot(df_ss.index, df_ss['Close'], label='samsung')\n",
    "plt.plot(df_ts.index, df_ts['Close'], label='tsla')\n",
    "plt.legend()\n",
    "plt.show() # 달러와 원 비교이기 때문에 차트 이렇게 나옴   --> 반드시 지수화!!! : 비율화(기준날짜 기준으로 해당날짜의 가격이 얼마인가)"
   ]
  },
  {
   "cell_type": "markdown",
   "id": "f0eb7d7f-1690-4a5d-882d-0710ed56c231",
   "metadata": {},
   "source": [
    "## 일간변동률(Daily Percent Change) \n",
    "* <font color=red size=4><b>가격이 다른 두 주가의 수익률 비교\n",
    "* <font color=red>오늘 - 기준일 / 기준일 * 100\n",
    "* ref : https://www.investopedia.com/terms/p/percentage-change.asp"
   ]
  },
  {
   "cell_type": "markdown",
   "id": "f2dafa34-17f4-468a-ae1d-7db3416d0131",
   "metadata": {},
   "source": [
    "<pre>\n",
    "* increase   = New Number - Original Number\n",
    "* increase%  = Increase ÷ Original Number × 100.\n",
    "* decrease   = Original Number - New Number\n",
    "* decrease%  = Decrease ÷ Original Number × 100\n",
    "\n",
    "  "
   ]
  },
  {
   "cell_type": "markdown",
   "id": "93e1ff78-0c5c-43d3-a0eb-65246dde2113",
   "metadata": {},
   "source": [
    "### df[\"Close\"].pct_change() "
   ]
  },
  {
   "cell_type": "code",
   "execution_count": 31,
   "id": "d9d092fe-bab1-4c3f-b3dc-c6b923690c42",
   "metadata": {
    "tags": []
   },
   "outputs": [
    {
     "data": {
      "text/html": [
       "<div>\n",
       "<style scoped>\n",
       "    .dataframe tbody tr th:only-of-type {\n",
       "        vertical-align: middle;\n",
       "    }\n",
       "\n",
       "    .dataframe tbody tr th {\n",
       "        vertical-align: top;\n",
       "    }\n",
       "\n",
       "    .dataframe thead th {\n",
       "        text-align: right;\n",
       "    }\n",
       "</style>\n",
       "<table border=\"1\" class=\"dataframe\">\n",
       "  <thead>\n",
       "    <tr style=\"text-align: right;\">\n",
       "      <th></th>\n",
       "      <th>Open</th>\n",
       "      <th>High</th>\n",
       "      <th>Low</th>\n",
       "      <th>Close</th>\n",
       "      <th>Adj Close</th>\n",
       "      <th>Volume</th>\n",
       "      <th>pct_chg2</th>\n",
       "    </tr>\n",
       "    <tr>\n",
       "      <th>Date</th>\n",
       "      <th></th>\n",
       "      <th></th>\n",
       "      <th></th>\n",
       "      <th></th>\n",
       "      <th></th>\n",
       "      <th></th>\n",
       "      <th></th>\n",
       "    </tr>\n",
       "  </thead>\n",
       "  <tbody>\n",
       "    <tr>\n",
       "      <th>2021-01-04</th>\n",
       "      <td>81000.0</td>\n",
       "      <td>84400.0</td>\n",
       "      <td>80200.0</td>\n",
       "      <td>83000.0</td>\n",
       "      <td>79551.828125</td>\n",
       "      <td>38655276</td>\n",
       "      <td>NaN</td>\n",
       "    </tr>\n",
       "    <tr>\n",
       "      <th>2021-01-05</th>\n",
       "      <td>81600.0</td>\n",
       "      <td>83900.0</td>\n",
       "      <td>81600.0</td>\n",
       "      <td>83900.0</td>\n",
       "      <td>80414.445312</td>\n",
       "      <td>35335669</td>\n",
       "      <td>0.010843</td>\n",
       "    </tr>\n",
       "    <tr>\n",
       "      <th>2021-01-06</th>\n",
       "      <td>83300.0</td>\n",
       "      <td>84500.0</td>\n",
       "      <td>82100.0</td>\n",
       "      <td>82200.0</td>\n",
       "      <td>78785.078125</td>\n",
       "      <td>42089013</td>\n",
       "      <td>-0.020262</td>\n",
       "    </tr>\n",
       "  </tbody>\n",
       "</table>\n",
       "</div>"
      ],
      "text/plain": [
       "               Open     High      Low    Close     Adj Close    Volume  \\\n",
       "Date                                                                     \n",
       "2021-01-04  81000.0  84400.0  80200.0  83000.0  79551.828125  38655276   \n",
       "2021-01-05  81600.0  83900.0  81600.0  83900.0  80414.445312  35335669   \n",
       "2021-01-06  83300.0  84500.0  82100.0  82200.0  78785.078125  42089013   \n",
       "\n",
       "            pct_chg2  \n",
       "Date                  \n",
       "2021-01-04       NaN  \n",
       "2021-01-05  0.010843  \n",
       "2021-01-06 -0.020262  "
      ]
     },
     "execution_count": 31,
     "metadata": {},
     "output_type": "execute_result"
    }
   ],
   "source": [
    "df_ss[\"pct_chg2\"] = df_ss[\"Close\"].pct_change()  # 전일 대비 등락율\n",
    "df_ts[\"pct_chg2\"] = df_ts[\"Close\"].pct_change() \n",
    "df_ss.head(3)"
   ]
  },
  {
   "cell_type": "markdown",
   "id": "c3c1895e-491e-4914-aa6b-ef99fb57484a",
   "metadata": {},
   "source": [
    "### 결측 채우기"
   ]
  },
  {
   "cell_type": "code",
   "execution_count": 32,
   "id": "d8e94b65-d058-4b80-b2cf-a78c3cded22f",
   "metadata": {
    "tags": []
   },
   "outputs": [
    {
     "data": {
      "text/html": [
       "<div>\n",
       "<style scoped>\n",
       "    .dataframe tbody tr th:only-of-type {\n",
       "        vertical-align: middle;\n",
       "    }\n",
       "\n",
       "    .dataframe tbody tr th {\n",
       "        vertical-align: top;\n",
       "    }\n",
       "\n",
       "    .dataframe thead th {\n",
       "        text-align: right;\n",
       "    }\n",
       "</style>\n",
       "<table border=\"1\" class=\"dataframe\">\n",
       "  <thead>\n",
       "    <tr style=\"text-align: right;\">\n",
       "      <th></th>\n",
       "      <th>Open</th>\n",
       "      <th>High</th>\n",
       "      <th>Low</th>\n",
       "      <th>Close</th>\n",
       "      <th>Adj Close</th>\n",
       "      <th>Volume</th>\n",
       "      <th>pct_chg2</th>\n",
       "    </tr>\n",
       "    <tr>\n",
       "      <th>Date</th>\n",
       "      <th></th>\n",
       "      <th></th>\n",
       "      <th></th>\n",
       "      <th></th>\n",
       "      <th></th>\n",
       "      <th></th>\n",
       "      <th></th>\n",
       "    </tr>\n",
       "  </thead>\n",
       "  <tbody>\n",
       "    <tr>\n",
       "      <th>2021-01-04</th>\n",
       "      <td>81000.0</td>\n",
       "      <td>84400.0</td>\n",
       "      <td>80200.0</td>\n",
       "      <td>83000.0</td>\n",
       "      <td>79551.828125</td>\n",
       "      <td>38655276</td>\n",
       "      <td>0.010843</td>\n",
       "    </tr>\n",
       "    <tr>\n",
       "      <th>2021-01-05</th>\n",
       "      <td>81600.0</td>\n",
       "      <td>83900.0</td>\n",
       "      <td>81600.0</td>\n",
       "      <td>83900.0</td>\n",
       "      <td>80414.445312</td>\n",
       "      <td>35335669</td>\n",
       "      <td>0.010843</td>\n",
       "    </tr>\n",
       "    <tr>\n",
       "      <th>2021-01-06</th>\n",
       "      <td>83300.0</td>\n",
       "      <td>84500.0</td>\n",
       "      <td>82100.0</td>\n",
       "      <td>82200.0</td>\n",
       "      <td>78785.078125</td>\n",
       "      <td>42089013</td>\n",
       "      <td>-0.020262</td>\n",
       "    </tr>\n",
       "    <tr>\n",
       "      <th>2021-01-07</th>\n",
       "      <td>82800.0</td>\n",
       "      <td>84200.0</td>\n",
       "      <td>82700.0</td>\n",
       "      <td>82900.0</td>\n",
       "      <td>79455.992188</td>\n",
       "      <td>32644642</td>\n",
       "      <td>0.008516</td>\n",
       "    </tr>\n",
       "    <tr>\n",
       "      <th>2021-01-08</th>\n",
       "      <td>83300.0</td>\n",
       "      <td>90000.0</td>\n",
       "      <td>83000.0</td>\n",
       "      <td>88800.0</td>\n",
       "      <td>85110.875000</td>\n",
       "      <td>59013307</td>\n",
       "      <td>0.071170</td>\n",
       "    </tr>\n",
       "  </tbody>\n",
       "</table>\n",
       "</div>"
      ],
      "text/plain": [
       "               Open     High      Low    Close     Adj Close    Volume  \\\n",
       "Date                                                                     \n",
       "2021-01-04  81000.0  84400.0  80200.0  83000.0  79551.828125  38655276   \n",
       "2021-01-05  81600.0  83900.0  81600.0  83900.0  80414.445312  35335669   \n",
       "2021-01-06  83300.0  84500.0  82100.0  82200.0  78785.078125  42089013   \n",
       "2021-01-07  82800.0  84200.0  82700.0  82900.0  79455.992188  32644642   \n",
       "2021-01-08  83300.0  90000.0  83000.0  88800.0  85110.875000  59013307   \n",
       "\n",
       "            pct_chg2  \n",
       "Date                  \n",
       "2021-01-04  0.010843  \n",
       "2021-01-05  0.010843  \n",
       "2021-01-06 -0.020262  \n",
       "2021-01-07  0.008516  \n",
       "2021-01-08  0.071170  "
      ]
     },
     "execution_count": 32,
     "metadata": {},
     "output_type": "execute_result"
    }
   ],
   "source": [
    "# 결측이 없으면 차트를 그릴 수 없기 때문에 반드시 결측 채워야함\n",
    "# 보통 ffill,bfill 둘다 함\n",
    "df_ss.fillna(method='bfill', inplace=True)\n",
    "df_ts.fillna(method='bfill', inplace=True)\n",
    "df_ss.head()"
   ]
  },
  {
   "cell_type": "markdown",
   "id": "7babcccd-0448-48dc-8177-54447f098820",
   "metadata": {},
   "source": [
    "### 차트"
   ]
  },
  {
   "cell_type": "code",
   "execution_count": 33,
   "id": "3a538d57-7586-4539-be75-f465e73d729c",
   "metadata": {
    "tags": []
   },
   "outputs": [
    {
     "data": {
      "text/plain": [
       "<matplotlib.legend.Legend at 0x1e08bfb9c40>"
      ]
     },
     "execution_count": 33,
     "metadata": {},
     "output_type": "execute_result"
    },
    {
     "data": {
      "image/png": "[encoded data removed]",
      "text/plain": [
       "<Figure size 900x600 with 1 Axes>"
      ]
     },
     "metadata": {},
     "output_type": "display_data"
    }
   ],
   "source": [
    "plt.figure(figsize=(9, 6))\n",
    "# plt.subplot(2, 1, 1)\n",
    "plt.title('Samsung vs MS close')\n",
    "plt.plot(df_ss.index, df_ss['pct_chg2'], label='samsung')\n",
    "plt.plot(df_ts.index, df_ts['pct_chg2'], label='TSLA')\n",
    "plt.legend()"
   ]
  },
  {
   "cell_type": "code",
   "execution_count": 34,
   "id": "dcbbbea7-07cf-4818-a4a3-3fba1274cb43",
   "metadata": {
    "tags": []
   },
   "outputs": [
    {
     "data": {
      "text/html": [
       "<div>\n",
       "<style scoped>\n",
       "    .dataframe tbody tr th:only-of-type {\n",
       "        vertical-align: middle;\n",
       "    }\n",
       "\n",
       "    .dataframe tbody tr th {\n",
       "        vertical-align: top;\n",
       "    }\n",
       "\n",
       "    .dataframe thead th {\n",
       "        text-align: right;\n",
       "    }\n",
       "</style>\n",
       "<table border=\"1\" class=\"dataframe\">\n",
       "  <thead>\n",
       "    <tr style=\"text-align: right;\">\n",
       "      <th></th>\n",
       "      <th>Open</th>\n",
       "      <th>High</th>\n",
       "      <th>Low</th>\n",
       "      <th>Close</th>\n",
       "      <th>Adj Close</th>\n",
       "      <th>Volume</th>\n",
       "      <th>pct_chg2</th>\n",
       "    </tr>\n",
       "    <tr>\n",
       "      <th>Date</th>\n",
       "      <th></th>\n",
       "      <th></th>\n",
       "      <th></th>\n",
       "      <th></th>\n",
       "      <th></th>\n",
       "      <th></th>\n",
       "      <th></th>\n",
       "    </tr>\n",
       "  </thead>\n",
       "  <tbody>\n",
       "    <tr>\n",
       "      <th>2021-01-04</th>\n",
       "      <td>239.820007</td>\n",
       "      <td>248.163330</td>\n",
       "      <td>239.063339</td>\n",
       "      <td>243.256668</td>\n",
       "      <td>243.256668</td>\n",
       "      <td>145914600</td>\n",
       "      <td>0.007317</td>\n",
       "    </tr>\n",
       "    <tr>\n",
       "      <th>2021-01-05</th>\n",
       "      <td>241.220001</td>\n",
       "      <td>246.946671</td>\n",
       "      <td>239.733337</td>\n",
       "      <td>245.036667</td>\n",
       "      <td>245.036667</td>\n",
       "      <td>96735600</td>\n",
       "      <td>0.007317</td>\n",
       "    </tr>\n",
       "    <tr>\n",
       "      <th>2021-01-06</th>\n",
       "      <td>252.830002</td>\n",
       "      <td>258.000000</td>\n",
       "      <td>249.699997</td>\n",
       "      <td>251.993332</td>\n",
       "      <td>251.993332</td>\n",
       "      <td>134100000</td>\n",
       "      <td>0.028390</td>\n",
       "    </tr>\n",
       "    <tr>\n",
       "      <th>2021-01-07</th>\n",
       "      <td>259.209991</td>\n",
       "      <td>272.329987</td>\n",
       "      <td>258.399994</td>\n",
       "      <td>272.013336</td>\n",
       "      <td>272.013336</td>\n",
       "      <td>154496700</td>\n",
       "      <td>0.079447</td>\n",
       "    </tr>\n",
       "    <tr>\n",
       "      <th>2021-01-08</th>\n",
       "      <td>285.333344</td>\n",
       "      <td>294.829987</td>\n",
       "      <td>279.463318</td>\n",
       "      <td>293.339996</td>\n",
       "      <td>293.339996</td>\n",
       "      <td>225166500</td>\n",
       "      <td>0.078403</td>\n",
       "    </tr>\n",
       "    <tr>\n",
       "      <th>...</th>\n",
       "      <td>...</td>\n",
       "      <td>...</td>\n",
       "      <td>...</td>\n",
       "      <td>...</td>\n",
       "      <td>...</td>\n",
       "      <td>...</td>\n",
       "      <td>...</td>\n",
       "    </tr>\n",
       "    <tr>\n",
       "      <th>2021-12-23</th>\n",
       "      <td>335.600006</td>\n",
       "      <td>357.660004</td>\n",
       "      <td>332.519989</td>\n",
       "      <td>355.666656</td>\n",
       "      <td>355.666656</td>\n",
       "      <td>92713200</td>\n",
       "      <td>0.057619</td>\n",
       "    </tr>\n",
       "    <tr>\n",
       "      <th>2021-12-27</th>\n",
       "      <td>357.890015</td>\n",
       "      <td>372.333344</td>\n",
       "      <td>356.906677</td>\n",
       "      <td>364.646667</td>\n",
       "      <td>364.646667</td>\n",
       "      <td>71145900</td>\n",
       "      <td>0.025248</td>\n",
       "    </tr>\n",
       "    <tr>\n",
       "      <th>2021-12-28</th>\n",
       "      <td>369.829987</td>\n",
       "      <td>373.000000</td>\n",
       "      <td>359.473328</td>\n",
       "      <td>362.823334</td>\n",
       "      <td>362.823334</td>\n",
       "      <td>60324000</td>\n",
       "      <td>-0.005000</td>\n",
       "    </tr>\n",
       "    <tr>\n",
       "      <th>2021-12-29</th>\n",
       "      <td>366.213318</td>\n",
       "      <td>368.000000</td>\n",
       "      <td>354.713318</td>\n",
       "      <td>362.063324</td>\n",
       "      <td>362.063324</td>\n",
       "      <td>56154000</td>\n",
       "      <td>-0.002095</td>\n",
       "    </tr>\n",
       "    <tr>\n",
       "      <th>2021-12-30</th>\n",
       "      <td>353.776672</td>\n",
       "      <td>365.183319</td>\n",
       "      <td>351.049988</td>\n",
       "      <td>356.779999</td>\n",
       "      <td>356.779999</td>\n",
       "      <td>47040900</td>\n",
       "      <td>-0.014592</td>\n",
       "    </tr>\n",
       "  </tbody>\n",
       "</table>\n",
       "<p>251 rows × 7 columns</p>\n",
       "</div>"
      ],
      "text/plain": [
       "                  Open        High         Low       Close   Adj Close  \\\n",
       "Date                                                                     \n",
       "2021-01-04  239.820007  248.163330  239.063339  243.256668  243.256668   \n",
       "2021-01-05  241.220001  246.946671  239.733337  245.036667  245.036667   \n",
       "2021-01-06  252.830002  258.000000  249.699997  251.993332  251.993332   \n",
       "2021-01-07  259.209991  272.329987  258.399994  272.013336  272.013336   \n",
       "2021-01-08  285.333344  294.829987  279.463318  293.339996  293.339996   \n",
       "...                ...         ...         ...         ...         ...   \n",
       "2021-12-23  335.600006  357.660004  332.519989  355.666656  355.666656   \n",
       "2021-12-27  357.890015  372.333344  356.906677  364.646667  364.646667   \n",
       "2021-12-28  369.829987  373.000000  359.473328  362.823334  362.823334   \n",
       "2021-12-29  366.213318  368.000000  354.713318  362.063324  362.063324   \n",
       "2021-12-30  353.776672  365.183319  351.049988  356.779999  356.779999   \n",
       "\n",
       "               Volume  pct_chg2  \n",
       "Date                             \n",
       "2021-01-04  145914600  0.007317  \n",
       "2021-01-05   96735600  0.007317  \n",
       "2021-01-06  134100000  0.028390  \n",
       "2021-01-07  154496700  0.079447  \n",
       "2021-01-08  225166500  0.078403  \n",
       "...               ...       ...  \n",
       "2021-12-23   92713200  0.057619  \n",
       "2021-12-27   71145900  0.025248  \n",
       "2021-12-28   60324000 -0.005000  \n",
       "2021-12-29   56154000 -0.002095  \n",
       "2021-12-30   47040900 -0.014592  \n",
       "\n",
       "[251 rows x 7 columns]"
      ]
     },
     "execution_count": 34,
     "metadata": {},
     "output_type": "execute_result"
    }
   ],
   "source": [
    "df_ts"
   ]
  },
  {
   "cell_type": "markdown",
   "id": "3bd19a05-356c-4ef0-8a02-ffea1bee3555",
   "metadata": {},
   "source": [
    "## 누적 수익률\n",
    "- (1+r)*cumprod()-1"
   ]
  },
  {
   "cell_type": "code",
   "execution_count": 43,
   "id": "21229360-b86b-45b3-8c99-4f9a4b6484c2",
   "metadata": {
    "tags": []
   },
   "outputs": [
    {
     "data": {
      "text/plain": [
       "<matplotlib.legend.Legend at 0x1e0890f11f0>"
      ]
     },
     "execution_count": 43,
     "metadata": {},
     "output_type": "execute_result"
    },
    {
     "data": {
      "image/png": "[encoded data removed]",
      "text/plain": [
       "<Figure size 900x600 with 1 Axes>"
      ]
     },
     "metadata": {},
     "output_type": "display_data"
    }
   ],
   "source": [
    "# 수익의 변화를 비교해 볼 수 있음 --> 테슬라가 삼성보다 큰 수익을 남김\n",
    "plt.figure(figsize=(9, 6))\n",
    "plt.title('Samsung Elec')\n",
    "plt.plot(df_ss.index  ,((1+df_ss['pct_chg2']).cumprod())-1, label='samsung')  # cumprod : 누적 곱 \n",
    "plt.plot(df_ts.index  ,((1+ df_ts['pct_chg2']).cumprod())-1, label='tsla')\n",
    "plt.legend()"
   ]
  },
  {
   "cell_type": "markdown",
   "id": "f92effea-bd1b-499c-9cd9-79e3b7bbe930",
   "metadata": {},
   "source": [
    "# [실습] 최대낙폭, 최대손실폭(Maximum DrowDown) : MDD \n",
    "* 특정 기간에서 발생한 최고점에서 최저점까지의 가장 큰 손실 == 최대 얼마의 손실이 날 수 있는가?\n",
    "* (65-130)/130=-50%"
   ]
  },
  {
   "cell_type": "markdown",
   "id": "65b66592-1d97-41ec-be27-c3d4d1fd8c7d",
   "metadata": {},
   "source": [
    "<table>\n",
    "<tr>\n",
    "<td><img src='https://downloads.intercomcdn.com/i/o/79244225/7dad4f4f919e2be8a4a791e6/MDD.png?expires=1619851026&signature=aafb18bbd3ed5f6946ad53a5fb9f19d6dbc7316703c94667bc422babd38a2200'></td><br>\n",
    "<td><img src='https://downloads.intercomcdn.com/i/o/79243103/d9a69bea18818ef2f126a6f8/%E1%84%89%E1%85%B3%E1%84%8F%E1%85%B3%E1%84%85%E1%85%B5%E1%86%AB%E1%84%89%E1%85%A3%E1%86%BA+2018-10-04+15.48.43.png?expires=1619851026&signature=dcce134c2a4882b00790a53d5d8cba27350f8f48f8c59d681be007e99def032c'></td>\n",
    "</tr>\n",
    "</table>"
   ]
  },
  {
   "cell_type": "markdown",
   "id": "f5efe0c7-7046-43ea-9de0-506463730cb2",
   "metadata": {},
   "source": [
    "## Data Load "
   ]
  },
  {
   "cell_type": "code",
   "execution_count": 36,
   "id": "f5cc4aa0-a35c-4509-8918-e20b61bd39ab",
   "metadata": {
    "tags": []
   },
   "outputs": [
    {
     "name": "stdout",
     "output_type": "stream",
     "text": [
      "(575, 6)\n"
     ]
    },
    {
     "data": {
      "text/html": [
       "<div>\n",
       "<style scoped>\n",
       "    .dataframe tbody tr th:only-of-type {\n",
       "        vertical-align: middle;\n",
       "    }\n",
       "\n",
       "    .dataframe tbody tr th {\n",
       "        vertical-align: top;\n",
       "    }\n",
       "\n",
       "    .dataframe thead th {\n",
       "        text-align: right;\n",
       "    }\n",
       "</style>\n",
       "<table border=\"1\" class=\"dataframe\">\n",
       "  <thead>\n",
       "    <tr style=\"text-align: right;\">\n",
       "      <th></th>\n",
       "      <th>open</th>\n",
       "      <th>high</th>\n",
       "      <th>low</th>\n",
       "      <th>close</th>\n",
       "      <th>volume</th>\n",
       "      <th>change</th>\n",
       "    </tr>\n",
       "    <tr>\n",
       "      <th>Date</th>\n",
       "      <th></th>\n",
       "      <th></th>\n",
       "      <th></th>\n",
       "      <th></th>\n",
       "      <th></th>\n",
       "      <th></th>\n",
       "    </tr>\n",
       "  </thead>\n",
       "  <tbody>\n",
       "    <tr>\n",
       "      <th>2021-01-04</th>\n",
       "      <td>81000</td>\n",
       "      <td>84400</td>\n",
       "      <td>80200</td>\n",
       "      <td>83000</td>\n",
       "      <td>38655276</td>\n",
       "      <td>0.024691</td>\n",
       "    </tr>\n",
       "    <tr>\n",
       "      <th>2021-01-05</th>\n",
       "      <td>81600</td>\n",
       "      <td>83900</td>\n",
       "      <td>81600</td>\n",
       "      <td>83900</td>\n",
       "      <td>35335669</td>\n",
       "      <td>0.010843</td>\n",
       "    </tr>\n",
       "    <tr>\n",
       "      <th>2021-01-06</th>\n",
       "      <td>83300</td>\n",
       "      <td>84500</td>\n",
       "      <td>82100</td>\n",
       "      <td>82200</td>\n",
       "      <td>42089013</td>\n",
       "      <td>-0.020262</td>\n",
       "    </tr>\n",
       "    <tr>\n",
       "      <th>2021-01-07</th>\n",
       "      <td>82800</td>\n",
       "      <td>84200</td>\n",
       "      <td>82700</td>\n",
       "      <td>82900</td>\n",
       "      <td>32644642</td>\n",
       "      <td>0.008516</td>\n",
       "    </tr>\n",
       "    <tr>\n",
       "      <th>2021-01-08</th>\n",
       "      <td>83300</td>\n",
       "      <td>90000</td>\n",
       "      <td>83000</td>\n",
       "      <td>88800</td>\n",
       "      <td>59013307</td>\n",
       "      <td>0.071170</td>\n",
       "    </tr>\n",
       "  </tbody>\n",
       "</table>\n",
       "</div>"
      ],
      "text/plain": [
       "             open   high    low  close    volume    change\n",
       "Date                                                      \n",
       "2021-01-04  81000  84400  80200  83000  38655276  0.024691\n",
       "2021-01-05  81600  83900  81600  83900  35335669  0.010843\n",
       "2021-01-06  83300  84500  82100  82200  42089013 -0.020262\n",
       "2021-01-07  82800  84200  82700  82900  32644642  0.008516\n",
       "2021-01-08  83300  90000  83000  88800  59013307  0.071170"
      ]
     },
     "execution_count": 36,
     "metadata": {},
     "output_type": "execute_result"
    }
   ],
   "source": [
    "import FinanceDataReader as fdr\n",
    "ohlcv_df   = fdr.DataReader('005930', '2021')  # 삼성전자(005930) , 2017-01-01 ~ Now\n",
    "ohlcv_df.columns = [ str.lower() for str in ohlcv_df.columns]\n",
    "print(ohlcv_df.shape)\n",
    "ohlcv_df.head()"
   ]
  },
  {
   "cell_type": "markdown",
   "id": "11ef9436-b585-4b06-b378-bca9ce2737c3",
   "metadata": {},
   "source": [
    "## 1년 기준 최고가 "
   ]
  },
  {
   "cell_type": "code",
   "execution_count": 37,
   "id": "ee0c3b52-bbb1-4e6d-ae4d-b6e3a2797619",
   "metadata": {
    "tags": []
   },
   "outputs": [
    {
     "data": {
      "text/html": [
       "<div>\n",
       "<style scoped>\n",
       "    .dataframe tbody tr th:only-of-type {\n",
       "        vertical-align: middle;\n",
       "    }\n",
       "\n",
       "    .dataframe tbody tr th {\n",
       "        vertical-align: top;\n",
       "    }\n",
       "\n",
       "    .dataframe thead th {\n",
       "        text-align: right;\n",
       "    }\n",
       "</style>\n",
       "<table border=\"1\" class=\"dataframe\">\n",
       "  <thead>\n",
       "    <tr style=\"text-align: right;\">\n",
       "      <th></th>\n",
       "      <th>open</th>\n",
       "      <th>high</th>\n",
       "      <th>low</th>\n",
       "      <th>close</th>\n",
       "      <th>volume</th>\n",
       "      <th>change</th>\n",
       "      <th>peak</th>\n",
       "    </tr>\n",
       "    <tr>\n",
       "      <th>Date</th>\n",
       "      <th></th>\n",
       "      <th></th>\n",
       "      <th></th>\n",
       "      <th></th>\n",
       "      <th></th>\n",
       "      <th></th>\n",
       "      <th></th>\n",
       "    </tr>\n",
       "  </thead>\n",
       "  <tbody>\n",
       "    <tr>\n",
       "      <th>2021-01-04</th>\n",
       "      <td>81000</td>\n",
       "      <td>84400</td>\n",
       "      <td>80200</td>\n",
       "      <td>83000</td>\n",
       "      <td>38655276</td>\n",
       "      <td>0.024691</td>\n",
       "      <td>83000.0</td>\n",
       "    </tr>\n",
       "    <tr>\n",
       "      <th>2021-01-05</th>\n",
       "      <td>81600</td>\n",
       "      <td>83900</td>\n",
       "      <td>81600</td>\n",
       "      <td>83900</td>\n",
       "      <td>35335669</td>\n",
       "      <td>0.010843</td>\n",
       "      <td>83900.0</td>\n",
       "    </tr>\n",
       "    <tr>\n",
       "      <th>2021-01-06</th>\n",
       "      <td>83300</td>\n",
       "      <td>84500</td>\n",
       "      <td>82100</td>\n",
       "      <td>82200</td>\n",
       "      <td>42089013</td>\n",
       "      <td>-0.020262</td>\n",
       "      <td>83900.0</td>\n",
       "    </tr>\n",
       "    <tr>\n",
       "      <th>2021-01-07</th>\n",
       "      <td>82800</td>\n",
       "      <td>84200</td>\n",
       "      <td>82700</td>\n",
       "      <td>82900</td>\n",
       "      <td>32644642</td>\n",
       "      <td>0.008516</td>\n",
       "      <td>83900.0</td>\n",
       "    </tr>\n",
       "    <tr>\n",
       "      <th>2021-01-08</th>\n",
       "      <td>83300</td>\n",
       "      <td>90000</td>\n",
       "      <td>83000</td>\n",
       "      <td>88800</td>\n",
       "      <td>59013307</td>\n",
       "      <td>0.071170</td>\n",
       "      <td>88800.0</td>\n",
       "    </tr>\n",
       "  </tbody>\n",
       "</table>\n",
       "</div>"
      ],
      "text/plain": [
       "             open   high    low  close    volume    change     peak\n",
       "Date                                                               \n",
       "2021-01-04  81000  84400  80200  83000  38655276  0.024691  83000.0\n",
       "2021-01-05  81600  83900  81600  83900  35335669  0.010843  83900.0\n",
       "2021-01-06  83300  84500  82100  82200  42089013 -0.020262  83900.0\n",
       "2021-01-07  82800  84200  82700  82900  32644642  0.008516  83900.0\n",
       "2021-01-08  83300  90000  83000  88800  59013307  0.071170  88800.0"
      ]
     },
     "execution_count": 37,
     "metadata": {},
     "output_type": "execute_result"
    }
   ],
   "source": [
    "ohlcv_df['peak'] = ohlcv_df['close'].rolling(window=252, min_periods=1).max()  # 252(1년치 기준)일 간격으로 그룹화해 가격을 집계\n",
    "ohlcv_df.head()\n",
    "\n",
    "# 2021-01-04을 기준으로 252일 전까지를 그룹으로 묶었을 때의 최고가\n",
    "# 2021-01-05을 기준으로 252일 전까지를 그룹으로 묶었을 때의 최고가....."
   ]
  },
  {
   "cell_type": "markdown",
   "id": "015d13b6-69f4-47c7-8a5b-81cc07fd839e",
   "metadata": {},
   "source": [
    "## 최고가 대비 종가 비율"
   ]
  },
  {
   "cell_type": "code",
   "execution_count": 38,
   "id": "2b974148-5e23-4b65-9848-1ed4aad1117a",
   "metadata": {
    "tags": []
   },
   "outputs": [
    {
     "data": {
      "text/html": [
       "<div>\n",
       "<style scoped>\n",
       "    .dataframe tbody tr th:only-of-type {\n",
       "        vertical-align: middle;\n",
       "    }\n",
       "\n",
       "    .dataframe tbody tr th {\n",
       "        vertical-align: top;\n",
       "    }\n",
       "\n",
       "    .dataframe thead th {\n",
       "        text-align: right;\n",
       "    }\n",
       "</style>\n",
       "<table border=\"1\" class=\"dataframe\">\n",
       "  <thead>\n",
       "    <tr style=\"text-align: right;\">\n",
       "      <th></th>\n",
       "      <th>open</th>\n",
       "      <th>high</th>\n",
       "      <th>low</th>\n",
       "      <th>close</th>\n",
       "      <th>volume</th>\n",
       "      <th>change</th>\n",
       "      <th>peak</th>\n",
       "      <th>close_pick_rate</th>\n",
       "    </tr>\n",
       "    <tr>\n",
       "      <th>Date</th>\n",
       "      <th></th>\n",
       "      <th></th>\n",
       "      <th></th>\n",
       "      <th></th>\n",
       "      <th></th>\n",
       "      <th></th>\n",
       "      <th></th>\n",
       "      <th></th>\n",
       "    </tr>\n",
       "  </thead>\n",
       "  <tbody>\n",
       "    <tr>\n",
       "      <th>2021-01-04</th>\n",
       "      <td>81000</td>\n",
       "      <td>84400</td>\n",
       "      <td>80200</td>\n",
       "      <td>83000</td>\n",
       "      <td>38655276</td>\n",
       "      <td>0.024691</td>\n",
       "      <td>83000.0</td>\n",
       "      <td>0.000000</td>\n",
       "    </tr>\n",
       "    <tr>\n",
       "      <th>2021-01-05</th>\n",
       "      <td>81600</td>\n",
       "      <td>83900</td>\n",
       "      <td>81600</td>\n",
       "      <td>83900</td>\n",
       "      <td>35335669</td>\n",
       "      <td>0.010843</td>\n",
       "      <td>83900.0</td>\n",
       "      <td>0.000000</td>\n",
       "    </tr>\n",
       "    <tr>\n",
       "      <th>2021-01-06</th>\n",
       "      <td>83300</td>\n",
       "      <td>84500</td>\n",
       "      <td>82100</td>\n",
       "      <td>82200</td>\n",
       "      <td>42089013</td>\n",
       "      <td>-0.020262</td>\n",
       "      <td>83900.0</td>\n",
       "      <td>-0.020262</td>\n",
       "    </tr>\n",
       "    <tr>\n",
       "      <th>2021-01-07</th>\n",
       "      <td>82800</td>\n",
       "      <td>84200</td>\n",
       "      <td>82700</td>\n",
       "      <td>82900</td>\n",
       "      <td>32644642</td>\n",
       "      <td>0.008516</td>\n",
       "      <td>83900.0</td>\n",
       "      <td>-0.011919</td>\n",
       "    </tr>\n",
       "    <tr>\n",
       "      <th>2021-01-08</th>\n",
       "      <td>83300</td>\n",
       "      <td>90000</td>\n",
       "      <td>83000</td>\n",
       "      <td>88800</td>\n",
       "      <td>59013307</td>\n",
       "      <td>0.071170</td>\n",
       "      <td>88800.0</td>\n",
       "      <td>0.000000</td>\n",
       "    </tr>\n",
       "  </tbody>\n",
       "</table>\n",
       "</div>"
      ],
      "text/plain": [
       "             open   high    low  close    volume    change     peak  \\\n",
       "Date                                                                  \n",
       "2021-01-04  81000  84400  80200  83000  38655276  0.024691  83000.0   \n",
       "2021-01-05  81600  83900  81600  83900  35335669  0.010843  83900.0   \n",
       "2021-01-06  83300  84500  82100  82200  42089013 -0.020262  83900.0   \n",
       "2021-01-07  82800  84200  82700  82900  32644642  0.008516  83900.0   \n",
       "2021-01-08  83300  90000  83000  88800  59013307  0.071170  88800.0   \n",
       "\n",
       "            close_pick_rate  \n",
       "Date                         \n",
       "2021-01-04         0.000000  \n",
       "2021-01-05         0.000000  \n",
       "2021-01-06        -0.020262  \n",
       "2021-01-07        -0.011919  \n",
       "2021-01-08         0.000000  "
      ]
     },
     "execution_count": 38,
     "metadata": {},
     "output_type": "execute_result"
    }
   ],
   "source": [
    "# 최고치 대비 현재 종가가 얼마나 하락했는가?\n",
    "ohlcv_df['close_pick_rate'] =  (ohlcv_df['close'] - ohlcv_df['peak']) / ohlcv_df['peak']  #  diff / peak\n",
    "ohlcv_df.head()"
   ]
  },
  {
   "cell_type": "markdown",
   "id": "0c2d42a9-2cf4-499e-82d3-852b6d0ad6f1",
   "metadata": {},
   "source": [
    "## MDD\n",
    "- ‘최대 낙폭’ 또는 ‘최대 손실폭’"
   ]
  },
  {
   "cell_type": "code",
   "execution_count": 39,
   "id": "6c89e2b2-104b-4461-85b7-017179ea9f33",
   "metadata": {
    "tags": []
   },
   "outputs": [
    {
     "data": {
      "text/plain": [
       "-0.34658385093167704"
      ]
     },
     "execution_count": 39,
     "metadata": {},
     "output_type": "execute_result"
    }
   ],
   "source": [
    "mdd = ohlcv_df.rolling(window=252, min_periods=1)['close_pick_rate'].min()\n",
    "mdd.min()"
   ]
  },
  {
   "cell_type": "code",
   "execution_count": 40,
   "id": "a2412ec7-2b4f-43c5-98d0-2d128a6fdf00",
   "metadata": {
    "tags": []
   },
   "outputs": [
    {
     "data": {
      "text/plain": [
       "<matplotlib.legend.Legend at 0x1e08c0fce50>"
      ]
     },
     "execution_count": 40,
     "metadata": {},
     "output_type": "execute_result"
    },
    {
     "data": {
      "image/png": "[encoded data removed]",
      "text/plain": [
       "<Figure size 900x600 with 1 Axes>"
      ]
     },
     "metadata": {},
     "output_type": "display_data"
    }
   ],
   "source": [
    "plt.figure(figsize=(9, 6))\n",
    "plt.title('KOSPI')\n",
    "plt.plot(ohlcv_df['close_pick_rate'], label='close_pick_rate')\n",
    "plt.plot(mdd, label='mdd')\n",
    "plt.legend()"
   ]
  },
  {
   "cell_type": "markdown",
   "id": "d5d87ed6-63c5-42bb-962e-15231f7153d0",
   "metadata": {
    "tags": []
   },
   "source": [
    "### 공통함수 생성"
   ]
  },
  {
   "cell_type": "markdown",
   "id": "8739d432-b115-40d8-b0cf-6826c3a9c7a5",
   "metadata": {},
   "source": [
    "* 차트 그리기"
   ]
  },
  {
   "cell_type": "code",
   "execution_count": 41,
   "id": "c21fc46d-accc-449d-bb67-3a57f3a72602",
   "metadata": {
    "tags": []
   },
   "outputs": [],
   "source": [
    "def myplot(df, nrows=5,  kind='line', title='제목', labels=False):  \n",
    "    if nrows > 0:\n",
    "        print(df.head(nrows))\n",
    "    else:\n",
    "        print(df.tail(nrows))\n",
    "    \n",
    "    if labels:\n",
    "        cols = df.columns\n",
    "        for i, col in enumerate(cols):\n",
    "            df[col].plot(label=labels[i], kind=kind)\n",
    "    else :\n",
    "        df.plot(kind=kind)\n",
    "    \n",
    "    plt.title(title)\n",
    "    plt.legend()\n",
    "    plt.show()"
   ]
  },
  {
   "cell_type": "code",
   "execution_count": 42,
   "id": "0852e734-e60e-4fdf-a1d5-0fe58546ebca",
   "metadata": {
    "tags": []
   },
   "outputs": [],
   "source": [
    "def myplotmix(df1, df2, y1='ylabel-1', y2='ylabel-2', kind1='bar', kind2='line', title='제목',  nrows1=5, nrows2=5,  labels=False):  \n",
    "    ytl=['b', 'g', 'r', 'c', 'm', 'y', 'k', 'w']\n",
    "\n",
    "    if nrows1 > 0:\n",
    "        print(df1.head(nrows1))\n",
    "    elif nrows1 < 0:\n",
    "        print(df1.tail(nrows1))\n",
    "    if nrows2 > 0:\n",
    "        print(df2.head(nrows2))\n",
    "    else:\n",
    "        print(df2.tail(nrows2))\n",
    "    fig, ax1 = plt.subplots(figsize=(12, 4))\n",
    "    ax2=ax1.twinx()\n",
    "    if kind1 == 'line':\n",
    "        df1.plot(kind=kind1, ax=ax2, marker='d',color='#e35f62')  #color='y', \n",
    "        df2.plot(kind=kind2, ax=ax1)  #bar\n",
    "    else:\n",
    "        df1.plot(kind=kind1, ax=ax1,color='#bcbd22')\n",
    "        df2.plot(kind=kind2, ax=ax2) #color='y',\n",
    "        \n",
    "    # df['date'] = df['date'].dt.strftime('%Y-%m-%d')\n",
    "    # ax1.set_xticklabels(df['date'])    \n",
    "    ax1.yaxis.tick_right()\n",
    "    ax2.yaxis.tick_left()\n",
    "    ax1.set_ylabel(y1) #, color='red')\n",
    "    ax2.set_ylabel(y2) #, color='red')\n",
    "    ax1.legend(loc=1)\n",
    "    ax2.legend(loc=2)\n",
    "    plt.title(title)\n",
    "    ax1.grid(False)\n",
    "    ax2.grid(False)\n",
    "    plt.show()"
   ]
  },
  {
   "cell_type": "markdown",
   "id": "4d3ac343-33f6-4cd0-87af-d96bb4320d80",
   "metadata": {},
   "source": [
    "# 키움증권 수익률 계산 예시"
   ]
  },
  {
   "cell_type": "markdown",
   "id": "b5d4fa82-60cb-43ba-9d3a-970b2ab22a82",
   "metadata": {},
   "source": [
    "* <b>투자원금평잔</b> = 평가 기간초 자산액계 + 기간내 총입출금고평잔\n",
    "* <b>평가손익</b> = 기간말자산액 - 기간초자산액 + 출금 - 입금 + 총출고 - 총입고 + 매도 - 매수\n",
    "* <b>수익률</b> = (평가손익/투자원금평잔) * 100"
   ]
  },
  {
   "cell_type": "markdown",
   "id": "dc434775-4d1a-402f-97f0-c6fc93e38448",
   "metadata": {},
   "source": [
    "<img src='https://t1.daumcdn.net/cfile/tistory/99FF84455EB80BED05'>"
   ]
  },
  {
   "cell_type": "code",
   "execution_count": null,
   "id": "2a4d887e-c2b2-4974-ae03-bd8874f86474",
   "metadata": {},
   "outputs": [],
   "source": []
  }
 ],
 "metadata": {
  "kernelspec": {
   "display_name": "Python 3 (ipykernel)",
   "language": "python",
   "name": "python3"
  },
  "language_info": {
   "codemirror_mode": {
    "name": "ipython",
    "version": 3
   },
   "file_extension": ".py",
   "mimetype": "text/x-python",
   "name": "python",
   "nbconvert_exporter": "python",
   "pygments_lexer": "ipython3",
   "version": "3.8.8"
  },
  "toc-autonumbering": true
 },
 "nbformat": 4,
 "nbformat_minor": 5
}

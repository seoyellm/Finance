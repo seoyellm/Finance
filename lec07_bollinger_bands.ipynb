{
 "cells": [
  {
   "cell_type": "markdown",
   "id": "durable-gnome",
   "metadata": {},
   "source": [
    "## 볼린저밴드\n",
    "- ref : https://www.nanumtrading.com/fx-%eb%b0%b0%ec%9a%b0%ea%b8%b0/%ec%b0%a8%ed%8a%b8-%eb%b3%b4%ec%a1%b0%ec%a7%80%ed%91%9c-%ec%9d%b4%ed%95%b4/05-%eb%b3%bc%eb%a6%b0%ec%a0%80%eb%b0%b4%eb%93%9c/\n",
    "- 볼린저 밴드 : 가격이 이동평균선을 중심으로 표준편차 범위(상한선 및 하한선) 안에서 등락을 거듭한다는 것을 전재로 만들어진 기술적 지표 -> 변동성 매매전략\n",
    "- 보통 2배수 편차를 사용하며, 편차의 상단, 하단은 저항선과 지지선으로 작용\n",
    "    - 3배수 편차를 보는 경우는 중장기적으로 보는 것 -> 리스크 큼(high risk high return)\n",
    "- 편차가 작은 경우에는 정확한 시그널을 주지 못함\n",
    "*****\n",
    "- 박스권 \n",
    "    - 추세가 일자(횡보) : 박스권 안에서 오르내림, 상승 혹은 하락 추세에서는 만들어지지 않음\n",
    "    - 변동이 많지 않기 때문에(거래량이 없음) 안정적인 수익을 얻을 수 있음\n",
    "    - 횡보장이 길어질 수 록 박스권을 이탈하는 순간 강한 상승/하락이 발생\n",
    "- 볼린저 밴드의 폭이 커짐(변동성이 커짐) -> 강한 상승/ 하락\n",
    "- 거래량이 받춰주고 밴드의 상단에 닿았다는 것은 하락할 가능성이 크다\n",
    "- 여러번 밴드의 상/하단을 건드리면 추세 반전\n"
   ]
  },
  {
   "cell_type": "code",
   "execution_count": 11,
   "id": "systematic-tuition",
   "metadata": {},
   "outputs": [],
   "source": [
    "import numpy as np\n",
    "import pandas as pd\n",
    "import matplotlib.pyplot as plt\n",
    "from pykrx import stock\n",
    "\n",
    "import time\n",
    "from functools import wraps\n",
    "from xml.etree import ElementTree\n",
    "\n",
    "import pandas as pd\n",
    "import numpy as np\n",
    "from datetime import datetime, date\n",
    "from pykrx import stock\n",
    "\n",
    "import FinanceDataReader as fdr"
   ]
  },
  {
   "cell_type": "code",
   "execution_count": 12,
   "id": "neither-savannah",
   "metadata": {},
   "outputs": [],
   "source": [
    "def myplot(df, nrows=5,  kind='line', title='제목', labels=False):  \n",
    "    if nrows > 0:\n",
    "        print(df.head(nrows))\n",
    "    else:\n",
    "        print(df.tail(nrows))\n",
    "    \n",
    "    if labels:\n",
    "        cols = df.columns\n",
    "        for i, col in enumerate(cols):\n",
    "            df[col].plot(label=labels[i], kind=kind)\n",
    "    else :\n",
    "        df.plot(kind=kind)\n",
    "    \n",
    "    plt.title(title)\n",
    "    plt.legend()\n",
    "    plt.show()"
   ]
  },
  {
   "cell_type": "code",
   "execution_count": 13,
   "id": "occasional-water",
   "metadata": {},
   "outputs": [],
   "source": [
    "def myplotmix(df1, df2, y1='ylabel-1', y2='ylabel-2', kind1='bar', kind2='line', title='제목',  nrows1=5, nrows2=5,  labels=False):  \n",
    "    ytl=['b', 'g', 'r', 'c', 'm', 'y', 'k', 'w']\n",
    "\n",
    "    if nrows1 > 0:\n",
    "        print(df1.head(nrows1))\n",
    "    elif nrows1 < 0:\n",
    "        print(df1.tail(nrows1))\n",
    "    if nrows2 > 0:\n",
    "        print(df2.head(nrows2))\n",
    "    else:\n",
    "        print(df2.tail(nrows2))\n",
    "    fig, ax1 = plt.subplots(figsize=(12, 4))\n",
    "    ax2=ax1.twinx()\n",
    "    if kind1 == 'line':\n",
    "        df1.plot(kind=kind1, ax=ax2, marker='d',color='#e35f62')  #color='y', \n",
    "        df2.plot(kind=kind2, ax=ax1)  #bar\n",
    "    else:\n",
    "        df1.plot(kind=kind1, ax=ax1,color='#bcbd22')\n",
    "        df2.plot(kind=kind2, ax=ax2) #color='y',\n",
    "        \n",
    "    # df['date'] = df['date'].dt.strftime('%Y-%m-%d')\n",
    "    # ax1.set_xticklabels(df['date'])    \n",
    "    ax1.yaxis.tick_right()\n",
    "    ax2.yaxis.tick_left()\n",
    "    ax1.set_ylabel(y1) #, color='red')\n",
    "    ax2.set_ylabel(y2) #, color='red')\n",
    "    ax1.legend(loc=1)\n",
    "    ax2.legend(loc=2)\n",
    "    plt.title(title)\n",
    "    ax1.grid(False)\n",
    "    ax2.grid(False)\n",
    "    plt.show()"
   ]
  },
  {
   "cell_type": "code",
   "execution_count": 14,
   "id": "unlimited-italic",
   "metadata": {},
   "outputs": [],
   "source": [
    "# def my_ticker(*names):    \n",
    "#     df_code = pd.read_html('http://kind.krx.co.kr/corpgeneral/corpList.do?method=download', header=0)[0]\n",
    "#     df_code.종목코드 = df_code.종목코드.map('{:06d}'.format)\n",
    "#     df_code = df_code[['회사명', '종목코드']]\n",
    "#     code_list = []\n",
    "#     for name in names:\n",
    "#         code = df_code.query(\"회사명=='{}'\".format(name))['종목코드'].to_string(index=False)\n",
    "#         code_list.append(code)\n",
    "#     return code_list\n",
    "# #     return code.strip()\n",
    "# my_ticker('삼성전자','현대자동차')"
   ]
  },
  {
   "cell_type": "code",
   "execution_count": 15,
   "id": "biological-present",
   "metadata": {},
   "outputs": [],
   "source": [
    "def my_ticker(names):    \n",
    "    df_code = pd.read_html('http://kind.krx.co.kr/corpgeneral/corpList.do?method=download', header=0)[0]\n",
    "    df_code.종목코드 = df_code.종목코드.map('{:06d}'.format)\n",
    "\n",
    "    df_code = df_code[['회사명', '종목코드']]\n",
    "    code_list = []\n",
    "    for name in names:\n",
    "        code = df_code.query(\"회사명=='{}'\".format(name))['종목코드'].to_string(index=False)\n",
    "        code_list.append(code)\n",
    "    return code_list\n",
    "\n",
    "# stocks = my_ticker(['삼성전자', 'SK하이닉스', '현대자동차', 'NAVER'])\n",
    "# print(stocks)"
   ]
  },
  {
   "cell_type": "code",
   "execution_count": 16,
   "id": "informal-slovakia",
   "metadata": {},
   "outputs": [],
   "source": [
    "# def logger(func):\n",
    "#     @wraps(func)\n",
    "#     def wrapper(*args, **kwargs):\n",
    "#         start = time.perf_counter()\n",
    "#         success, failed = func(*args, **kwargs)\n",
    "#         end = time.perf_counter() - start\n",
    "#         func_start, func_end = args[0], args[1]\n",
    "#         print(#f'#date: {func_start} ~ {func_end}, \\n',\n",
    "#               f'#success: {success} item(s), \\n',\n",
    "#               f'#failed: {failed} item(s), \\n',\n",
    "#              )\n",
    "#     return wrapper\n",
    "# @logger\n",
    "def my_krx(start, end, *codes):\n",
    "    error_list = []\n",
    "    failed = 0\n",
    "    success = 0\n",
    "    for code in codes:\n",
    "        try:\n",
    "            df = stock.get_market_ohlcv_by_date(start, end, code)\n",
    "            df.reset_index(inplace=True)\n",
    "            df.insert(loc=1, column='종목코드', value=code)\n",
    "            df.columns = ['date', 'code', 'open', 'high', 'low', 'close','volume']\n",
    "            success += 1\n",
    "        except ElementTree.ParseError as e:\n",
    "            error_list.append(e)\n",
    "            drop_rows(database, table, code)  # 특정 종목코드에서 에러 발생 시 해당 종목코드에 대한 데이터 삭제 후 다음 종목코드로 넘어감\n",
    "            failed += 1\n",
    "            continue\n",
    "        except Exception as e:\n",
    "            print('Error occurred : ', e)\n",
    "            failed += 1\n",
    "            continue\n",
    "    print(f'success:{success}, failed:{failed}')\n",
    "    return df"
   ]
  },
  {
   "cell_type": "code",
   "execution_count": null,
   "id": "considerable-customs",
   "metadata": {},
   "outputs": [],
   "source": [
    "df = pd.DataFrame()\n",
    "df = my_krx('20181203', '20210427', '005930')\n",
    "df.head()"
   ]
  },
  {
   "cell_type": "markdown",
   "id": "greatest-brighton",
   "metadata": {},
   "source": [
    "## 볼린저밴드\n",
    "* 20일 이동평균선을 이용한 매수 매도 진입점 파악\n",
    "\n",
    "* 상한선 : 볼리저밴드   + 2편차\n",
    "* 볼린저밴드 = 20일 이평선 / 편차\n",
    "* 하한선 : 볼리저밴드   - 2편차"
   ]
  },
  {
   "cell_type": "code",
   "execution_count": null,
   "id": "right-ceramic",
   "metadata": {},
   "outputs": [],
   "source": [
    "df['m20'] = df['close'].rolling(20).mean()\n",
    "df['m20_std'] = df['close'].rolling(20).std()\n",
    "df['upper'] = df['m20'] + (df['m20_std'] * 2)\n",
    "df['lower'] = df['m20'] - (df['m20_std'] * 2)\n"
   ]
  },
  {
   "cell_type": "code",
   "execution_count": null,
   "id": "wireless-savings",
   "metadata": {},
   "outputs": [],
   "source": [
    "df.dropna(axis=0, inplace=True)"
   ]
  },
  {
   "cell_type": "code",
   "execution_count": null,
   "id": "played-destiny",
   "metadata": {},
   "outputs": [],
   "source": [
    "# df['date'] = pd.to_datetime(df['date'])\n",
    "df = df.set_index('date')"
   ]
  },
  {
   "cell_type": "code",
   "execution_count": null,
   "id": "musical-internship",
   "metadata": {},
   "outputs": [],
   "source": [
    "df.head()"
   ]
  },
  {
   "cell_type": "code",
   "execution_count": null,
   "id": "smart-adjustment",
   "metadata": {},
   "outputs": [],
   "source": [
    "plt.plot(df['close'], label='close')\n",
    "plt.plot(df['m20'], label='m20')\n",
    "plt.plot(df['upper'], label='upper')\n",
    "plt.plot(df['lower'], label='lower')\n",
    "plt.legend()"
   ]
  },
  {
   "cell_type": "markdown",
   "id": "further-channels",
   "metadata": {},
   "source": [
    "## 주가 데이터 주기 설정"
   ]
  },
  {
   "cell_type": "code",
   "execution_count": null,
   "id": "mexican-jenny",
   "metadata": {},
   "outputs": [],
   "source": [
    "SIZE_ = 100"
   ]
  },
  {
   "cell_type": "code",
   "execution_count": null,
   "id": "computational-applicant",
   "metadata": {},
   "outputs": [],
   "source": [
    "df.iloc[:SIZE_].index"
   ]
  },
  {
   "cell_type": "code",
   "execution_count": null,
   "id": "chicken-defeat",
   "metadata": {},
   "outputs": [],
   "source": [
    "plt.plot(df['close'].iloc[:SIZE_], label='close')\n",
    "plt.plot(df['m20'].iloc[:SIZE_], label='m20')\n",
    "plt.plot(df['upper'].iloc[:SIZE_], label='upper')\n",
    "plt.plot(df['lower'].iloc[:SIZE_], label='lower')\n",
    "# plt.fill_between(df['upper'], df['lower'], color='#cccccc')\n",
    "plt.fill_between(df.iloc[:SIZE_].index, df['upper'].iloc[:SIZE_], df['lower'].iloc[:SIZE_], alpha=0.2)\n",
    "plt.legend()"
   ]
  },
  {
   "cell_type": "markdown",
   "id": "superb-little",
   "metadata": {},
   "source": [
    "### 1.  %b 지표\n",
    "* %b : 주가가 볼린저 밴드 영역 내 어느곳에 위치해 있는지를 나타내는 지표\n",
    "* %b =  (종가-하한볼린저) / (상한볼린저 - 하한볼린저)"
   ]
  },
  {
   "cell_type": "code",
   "execution_count": null,
   "id": "extreme-buddy",
   "metadata": {},
   "outputs": [],
   "source": [
    "df['b%'] = (df['close'].iloc[:SIZE_] -  df['lower'].iloc[:SIZE_]) / (df['upper'].iloc[:SIZE_] - df['lower'].iloc[:SIZE_])"
   ]
  },
  {
   "cell_type": "code",
   "execution_count": null,
   "id": "blank-musician",
   "metadata": {},
   "outputs": [],
   "source": [
    "fig, ax = plt.subplots(figsize=(10, 4))\n",
    "plt.plot(df['close'].iloc[:50], label = 'close')\n",
    "plt.plot(df['m20'].iloc[:50], label= 'm20')\n",
    "plt.plot(df['upper'].iloc[:50], label='upper')\n",
    "plt.plot(df['lower'].iloc[:50], label= 'lower')\n",
    "plt.fill_between(df.iloc[:50].index, df['upper'].iloc[:50], df['lower'].iloc[:50], alpha =0.2)\n",
    "plt.legend()\n",
    "\n",
    "plt.twinx()\n",
    "plt.plot(df['b%'].iloc[:50],label = 'b%' , color = 'purple')\n",
    "plt.legend()\n",
    "plt.show()\n"
   ]
  },
  {
   "cell_type": "markdown",
   "id": "known-compression",
   "metadata": {},
   "source": [
    "* %b 수치는 주가의 흐름을 따른다"
   ]
  },
  {
   "cell_type": "markdown",
   "id": "cutting-marshall",
   "metadata": {},
   "source": [
    "### 2. 밴드폭\n",
    "* 스퀴즈 파악에 유용\n",
    "* 주가가 극도로 떨어져 이제 곧 반등세(상승세)를 보일 것으로 예상되는 상황\n",
    "* 밴드폭 = (상한 - 하한) / 중간(-->이평선) # * 100"
   ]
  },
  {
   "cell_type": "code",
   "execution_count": null,
   "id": "impressed-machinery",
   "metadata": {},
   "outputs": [],
   "source": [
    "df[\"bwith\"] = (df['upper']- df['lower']) / df['m20'] *100"
   ]
  },
  {
   "cell_type": "code",
   "execution_count": null,
   "id": "green-station",
   "metadata": {},
   "outputs": [],
   "source": [
    "fig, ax = plt.subplots(figsize=(10, 4))\n",
    "plt.plot(df['close'].iloc[:SIZE_], label = 'close')\n",
    "plt.plot(df['m20'].iloc[:SIZE_], label= 'm20')\n",
    "# plt.plot(df['upper'].iloc[:SIZE_], label='upper')\n",
    "# plt.plot(df['lower'].iloc[:SIZE_], label= 'lower')\n",
    "plt.fill_between(df.iloc[:SIZE_].index, df['upper'].iloc[:SIZE_], df['lower'].iloc[:SIZE_], alpha =0.2)\n",
    "plt.legend()\n",
    "\n",
    "plt.twinx()\n",
    "plt.plot(df['b%'].iloc[:SIZE_],label = 'b%' , color = 'purple')\n",
    "plt.plot(df['bwith'].iloc[:SIZE_],label = 'bwith' , color = 'yellow')\n",
    "plt.legend()\n",
    "plt.show()"
   ]
  },
  {
   "cell_type": "markdown",
   "id": "median-palestine",
   "metadata": {},
   "source": [
    "* 변동성이 크다 = 밴드폭이 크다\n",
    "* 밴드폭 최상 == lower 최하"
   ]
  },
  {
   "cell_type": "markdown",
   "id": "studied-committee",
   "metadata": {},
   "source": [
    "* 일중강도지표(RSI) , 현금흐름지표(MFI)"
   ]
  },
  {
   "cell_type": "markdown",
   "id": "flush-spank",
   "metadata": {},
   "source": [
    "## 볼린저밴드 매매 전략\n",
    "* 변동성 돌파\n",
    "* 추세 추종  : 추세가 상승세일때 매수, 하락세 일때 매도\n",
    "* 반전 : 주가가 반등세(반등) 구간을 찾아내 매수 매도"
   ]
  },
  {
   "cell_type": "markdown",
   "id": "phantom-receptor",
   "metadata": {},
   "source": [
    "* 추세추종 : 현금흐름지수(MoneyFlowIndex)를 따른다\n",
    "* MFI : 중심가격(고,저,종 /3) , \n",
    "* RSI : 중심가격 * 거래량\n",
    "* MFI = 100 -  (  100 /  1 + (긍정현금흐름 / 부정현금흐름)  )\n",
    "  - 긍정현금흐름 : 중심가가 전날보다 상승한 날들의 합\n",
    "  - 부정현금흐름 : 중심가가 전날보다 하락한 날들의 합"
   ]
  },
  {
   "cell_type": "code",
   "execution_count": null,
   "id": "alike-concentrate",
   "metadata": {},
   "outputs": [],
   "source": [
    "df['mp'] = (df['high'] + df['low'] + df['close'] ) / 3\n",
    "df['pos_mf'] = 0 #긍정현금흐름\n",
    "df['neg_mf'] = 0 #부정현금흐름\n",
    "for d in range(len(df) -1):\n",
    "    #d:어제  d+1:오늘\n",
    "    if df['mp'].values[d] < df['mp'].values[d+1]:   #어제평균가 < 오늘평균가\n",
    "        #긍정현금흐름++   \n",
    "        # 시고저3 가 어제보다 올랐다 --> (시고저3*거래량) \n",
    "        df['pos_mf'].values[d+1] = df['mp'].values[d+1] * df['volume'].values[d+1]\n",
    "        df['neg_mf'].values[d+1] = 0\n",
    "    else:\n",
    "        #부정현금흐름++\n",
    "        df['neg_mf'].values[d+1] = df['mp'].values[d+1] * df['volume'].values[d+1]\n",
    "        df['pos_mf'].values[d+1] = 0\n",
    "\n",
    "# MFI = 100 - ( 100 / 1 + (긍정현금흐름합 / 부정현금흐름합) )\n",
    "df['MFI']   = 100 - ( 100 / ( 1 + (df['pos_mf'].sum() / df['neg_mf'].sum())) )\n",
    "df['MFI10'] = 100 - ( 100 / ( 1 + (df['pos_mf'].rolling(10).sum() / df['neg_mf'].rolling(10).sum()))  )"
   ]
  },
  {
   "cell_type": "code",
   "execution_count": null,
   "id": "global-crime",
   "metadata": {},
   "outputs": [],
   "source": [
    "import matplotlib.font_manager as fm\n",
    "import matplotlib as mpl\n",
    "mpl.rcParams['axes.unicode_minus'] = False"
   ]
  },
  {
   "cell_type": "code",
   "execution_count": null,
   "id": "indirect-boating",
   "metadata": {},
   "outputs": [],
   "source": [
    "df[\"b%\"]"
   ]
  },
  {
   "cell_type": "code",
   "execution_count": null,
   "id": "unavailable-individual",
   "metadata": {},
   "outputs": [],
   "source": [
    "fig, ax = plt.subplots(figsize=(10, 6))\n",
    "\n",
    "plt.subplot(2,1,1)\n",
    "plt.plot(df['close'].iloc[:SIZE_], label = 'close')\n",
    "plt.plot(df['m20'].iloc[:SIZE_], label= 'm20')\n",
    "# plt.plot(df['upper'].iloc[:SIZE_], label='upper')\n",
    "# plt.plot(df['lower'].iloc[:SIZE_], label= 'lower')\n",
    "plt.fill_between(df.iloc[:SIZE_].index, df['upper'].iloc[:SIZE_], df['lower'].iloc[:SIZE_], alpha =0.2)\n",
    "\n",
    "for i in range(len(df[:SIZE_])):\n",
    "    if df[\"MFI10\"].values[i] >= 80 and df[\"b%\"].values[i] >= 0.8 :  #앞으로 오를거야-->매수(지금사)\n",
    "        plt.plot(df.index.values[i], df['close'].values[i], 'r^')\n",
    "    elif df[\"MFI10\"].values[i] <= 20 and df[\"b%\"].values[i] <=0.2:  #앞으로 내일거야-->매도(지금팔아)\n",
    "        plt.plot(df.index.values[i], df['close'].values[i], 'bv')\n",
    "        \n",
    "plt.legend()\n",
    "plt.twinx()\n",
    "plt.plot(df['bwith'].iloc[:SIZE_],label = 'bwith' , color = 'yellow')\n",
    "plt.legend()\n",
    "plt.show()\n",
    "#======================================================\n",
    "fig, ax1 = plt.subplots(figsize=(10, 6))\n",
    "plt.subplot(2,1,2)\n",
    "plt.plot(df['b%'].iloc[:SIZE_]  , label = 'b%' , color = 'purple')\n",
    "plt.twinx()\n",
    "plt.plot(df['MFI10'].iloc[:SIZE_], label = 'MFI10' , color = 'pink')\n",
    "       \n",
    "plt.legend()\n",
    "plt.show()"
   ]
  },
  {
   "cell_type": "markdown",
   "id": "convertible-borough",
   "metadata": {},
   "source": [
    "* %b(금액) : 상한-하한\n",
    "* MFI(거래량) : 금액 * 거래량    \n",
    "* MFI >= 80% : 매수,  MFI <= 20% : 매도"
   ]
  },
  {
   "cell_type": "code",
   "execution_count": null,
   "id": "exceptional-culture",
   "metadata": {},
   "outputs": [],
   "source": []
  },
  {
   "cell_type": "code",
   "execution_count": null,
   "id": "final-enough",
   "metadata": {},
   "outputs": [],
   "source": []
  },
  {
   "cell_type": "code",
   "execution_count": null,
   "id": "crazy-input",
   "metadata": {},
   "outputs": [],
   "source": []
  },
  {
   "cell_type": "code",
   "execution_count": null,
   "id": "sapphire-aberdeen",
   "metadata": {},
   "outputs": [],
   "source": []
  },
  {
   "cell_type": "code",
   "execution_count": null,
   "id": "reduced-supplier",
   "metadata": {},
   "outputs": [],
   "source": []
  },
  {
   "cell_type": "code",
   "execution_count": null,
   "id": "divided-vocabulary",
   "metadata": {},
   "outputs": [],
   "source": []
  },
  {
   "cell_type": "code",
   "execution_count": null,
   "id": "comfortable-drawing",
   "metadata": {},
   "outputs": [],
   "source": []
  },
  {
   "cell_type": "code",
   "execution_count": null,
   "id": "confirmed-bulgaria",
   "metadata": {},
   "outputs": [],
   "source": []
  },
  {
   "cell_type": "code",
   "execution_count": null,
   "id": "operational-shooting",
   "metadata": {},
   "outputs": [],
   "source": []
  },
  {
   "cell_type": "code",
   "execution_count": null,
   "id": "utility-corner",
   "metadata": {},
   "outputs": [],
   "source": []
  },
  {
   "cell_type": "code",
   "execution_count": null,
   "id": "forbidden-packing",
   "metadata": {},
   "outputs": [],
   "source": []
  },
  {
   "cell_type": "code",
   "execution_count": null,
   "id": "indian-diabetes",
   "metadata": {},
   "outputs": [],
   "source": []
  },
  {
   "cell_type": "code",
   "execution_count": null,
   "id": "facial-winning",
   "metadata": {},
   "outputs": [],
   "source": []
  },
  {
   "cell_type": "code",
   "execution_count": null,
   "id": "divided-matthew",
   "metadata": {},
   "outputs": [],
   "source": []
  },
  {
   "cell_type": "code",
   "execution_count": null,
   "id": "desirable-switch",
   "metadata": {},
   "outputs": [],
   "source": []
  },
  {
   "cell_type": "code",
   "execution_count": null,
   "id": "hourly-illustration",
   "metadata": {},
   "outputs": [],
   "source": []
  },
  {
   "cell_type": "code",
   "execution_count": null,
   "id": "material-grammar",
   "metadata": {},
   "outputs": [],
   "source": []
  },
  {
   "cell_type": "code",
   "execution_count": null,
   "id": "activated-french",
   "metadata": {},
   "outputs": [],
   "source": []
  },
  {
   "cell_type": "markdown",
   "id": "agricultural-governor",
   "metadata": {},
   "source": [
    "* %b(거래금액)  MFI(거래량:강도)"
   ]
  },
  {
   "cell_type": "code",
   "execution_count": null,
   "id": "endless-providence",
   "metadata": {},
   "outputs": [],
   "source": [
    "df['b%']"
   ]
  },
  {
   "cell_type": "code",
   "execution_count": null,
   "id": "aquatic-merchandise",
   "metadata": {},
   "outputs": [],
   "source": [
    "# 캔들차트 그리기 --  bokeh 설치\n",
    "# df = my_krx('20181203', '20210427', '005930')\n",
    "ssdf = fdr.DataReader('005930', '2020-12-03', '2021-04-27')\n",
    "# dfcp = pd.DataFrame(df['ss'], columns=['Close']) \n",
    "# dfcp.info()\n",
    "\n",
    "# 차트 설정\n",
    "config = {'title':'fdr.chart.config()를 사용하여 설정을 한번에 지정할 수 있습니다', \n",
    "          'width': 600, \n",
    "          'height': 300,\n",
    "          'volume': True,\n",
    "}\n",
    "fdr.chart.config(config=config)\n",
    "fdr.chart.plot(ssdf, title='삼성전자')\n",
    "# fdr.show()"
   ]
  },
  {
   "cell_type": "code",
   "execution_count": null,
   "id": "armed-interim",
   "metadata": {
    "tags": []
   },
   "outputs": [],
   "source": [
    "import mplfinance as mpf\n",
    "# mpf.plot(df.iloc[:SIZE_], title=\"mpl chart\", type=\"candle\")\n",
    "kwargs = dict(title='Celltrion customized chart', type='candle', mav=(2, 4, 6), volume=True, ylabel='ohlc candles')\n",
    "mc = mpf.make_marketcolors(up='r', down='b', inherit=True)\n",
    "# s  = mpf.make_mpf_style(marketcolors=mc)\n",
    "mpf.plot(df.iloc[:SIZE_], **kwargs, style=s)"
   ]
  }
 ],
 "metadata": {
  "kernelspec": {
   "display_name": "Python 3 (ipykernel)",
   "language": "python",
   "name": "python3"
  },
  "language_info": {
   "codemirror_mode": {
    "name": "ipython",
    "version": 3
   },
   "file_extension": ".py",
   "mimetype": "text/x-python",
   "name": "python",
   "nbconvert_exporter": "python",
   "pygments_lexer": "ipython3",
   "version": "3.8.8"
  }
 },
 "nbformat": 4,
 "nbformat_minor": 5
}

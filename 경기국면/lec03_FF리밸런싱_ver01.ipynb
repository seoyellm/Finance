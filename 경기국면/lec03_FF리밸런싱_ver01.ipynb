{
 "cells": [
  {
   "cell_type": "markdown",
   "id": "a85519c9-8aab-4b72-b891-4667339cd726",
   "metadata": {},
   "source": [
    "<font size=6><b>[Project]경기국면에 따른 포트폴리오 리밸런싱(Fama French) </b></font>"
   ]
  },
  {
   "cell_type": "markdown",
   "id": "53934243-2bd8-41bf-ac14-08a44775cb90",
   "metadata": {},
   "source": [
    "* <b> Market Premium - Calculated from S&P/TSX Composite Index and 90-day Treasury Bills.\n",
    "* <b> SMB - Categorized each security as small or large market cap by using 30-70 percentiles of aggregate market cap in portfolio.\n",
    "* <b> HML - Used inverse of P/B as proxy to catergorize and calculate book to market value."
   ]
  },
  {
   "cell_type": "code",
   "execution_count": 1,
   "id": "efb3e739-299c-43d6-a8c9-219c1e4f66e8",
   "metadata": {},
   "outputs": [],
   "source": [
    "import numpy as np\n",
    "import pandas as pd\n",
    "import matplotlib.pyplot as plt\n",
    "%matplotlib inline\n",
    "import statsmodels.api as sm\n",
    "#from sklearn.linear_model import LinearRegression\n",
    "import scipy, scipy.stats\n",
    "pd.options.mode.chained_assignment = None  # default='warn'\n",
    "\n",
    "import plotly.graph_objects as go\n",
    "import plotly.io as pio\n",
    "import chart_studio\n",
    "import plotly.express as px\n",
    "from plotly.subplots import make_subplots\n",
    "\n",
    "chart_studio.tools.set_credentials_file(username='opencv.korea', api_key='YKVa3qq0Uq9Xf2JiIX22')\n",
    "\n",
    "import warnings\n",
    "warnings.filterwarnings(action='ignore')"
   ]
  },
  {
   "cell_type": "code",
   "execution_count": 2,
   "id": "ca8b0eab-a0c8-40b4-9bc5-154f039ba631",
   "metadata": {},
   "outputs": [
    {
     "data": {
      "text/html": [
       "<div>\n",
       "<style scoped>\n",
       "    .dataframe tbody tr th:only-of-type {\n",
       "        vertical-align: middle;\n",
       "    }\n",
       "\n",
       "    .dataframe tbody tr th {\n",
       "        vertical-align: top;\n",
       "    }\n",
       "\n",
       "    .dataframe thead th {\n",
       "        text-align: right;\n",
       "    }\n",
       "</style>\n",
       "<table border=\"1\" class=\"dataframe\">\n",
       "  <thead>\n",
       "    <tr style=\"text-align: right;\">\n",
       "      <th></th>\n",
       "      <th>rdate</th>\n",
       "      <th>cli</th>\n",
       "    </tr>\n",
       "  </thead>\n",
       "  <tbody>\n",
       "    <tr>\n",
       "      <th>5838</th>\n",
       "      <td>1999-08-01</td>\n",
       "      <td>105.7148</td>\n",
       "    </tr>\n",
       "    <tr>\n",
       "      <th>5839</th>\n",
       "      <td>1999-09-01</td>\n",
       "      <td>105.7379</td>\n",
       "    </tr>\n",
       "    <tr>\n",
       "      <th>5840</th>\n",
       "      <td>1999-10-01</td>\n",
       "      <td>105.5979</td>\n",
       "    </tr>\n",
       "    <tr>\n",
       "      <th>5841</th>\n",
       "      <td>1999-11-01</td>\n",
       "      <td>105.3427</td>\n",
       "    </tr>\n",
       "    <tr>\n",
       "      <th>5842</th>\n",
       "      <td>1999-12-01</td>\n",
       "      <td>104.9766</td>\n",
       "    </tr>\n",
       "  </tbody>\n",
       "</table>\n",
       "</div>"
      ],
      "text/plain": [
       "          rdate       cli\n",
       "5838 1999-08-01  105.7148\n",
       "5839 1999-09-01  105.7379\n",
       "5840 1999-10-01  105.5979\n",
       "5841 1999-11-01  105.3427\n",
       "5842 1999-12-01  104.9766"
      ]
     },
     "execution_count": 2,
     "metadata": {},
     "output_type": "execute_result"
    }
   ],
   "source": [
    "oecd = pd.read_csv(\"./dataset/OECD_CLI.csv\")\n",
    "oecd = oecd[oecd['LOCATION']=='KOR'][['TIME','Value']]\n",
    "oecd.columns = ['rdate','cli']\n",
    "oecd['rdate'] = pd.to_datetime(oecd['rdate'], format='%Y-%m-%d')\n",
    "# oecd = oecd.set_index(\"rdate\")\n",
    "oecd.head()"
   ]
  },
  {
   "cell_type": "markdown",
   "id": "5a710b6b-3451-4380-bef2-179154bfdc4b",
   "metadata": {},
   "source": [
    "# 기준순환일\n",
    "* ref : https://towardsdatascience.com/economic-indicators-with-python-befb8b35af4d"
   ]
  },
  {
   "cell_type": "code",
   "execution_count": 3,
   "id": "dc6ab4ff-544d-49c6-b2c2-645c536a8fa0",
   "metadata": {},
   "outputs": [],
   "source": [
    "# 미국 기준순환일\n",
    "# 1990-07\t1991-03\t8\t92\t100\t108\n",
    "# 2001-03\t2001-11\t8\t120\t128\t128\n",
    "# 2007-12\t2009-06\t18\t73\t91\t81\n",
    "# 2020-02\t2020-04\t2 \t128\t130 \t146\n",
    "\n",
    "# 한국 기준순환일\n",
    "# \t           저점\t  정점\t저점\t  확장기\t수축기\t순환기\n",
    "# 제 1 순환기\t1972-03\t1974-02\t1975-06\t23\t16\t39\n",
    "# 제 2 순환기\t1975-06\t1979-02\t1980-09\t44\t19\t63\n",
    "# 제 3 순환기\t1980-09\t1984-02\t1985-09\t41\t19\t60\n",
    "# 제 4 순환기\t1985-09\t1988-01\t1989-07\t28\t18\t46\n",
    "# 제 5 순환기\t1989-07\t1992-01\t1993-01\t30\t12\t42\n",
    "# 제 6 순환기\t1993-01\t1996-03\t1998-08\t38\t29\t67\n",
    "# 제 7 순환기\t1998-08\t2000-08\t2001-07\t24\t11\t35\n",
    "# 제 8 순환기\t2001-07\t2002-12\t2005-04\t17\t28\t45\n",
    "# 제 9 순환기\t2005-04\t2008-01\t2009-02\t33\t13\t46\n",
    "# 제10순환기\t2009-02\t2011-08\t2013-03\t30\t19\t49\n",
    "# 제11순환기\t2013-03\t2017-09\t-\t54\t-\t-\n"
   ]
  },
  {
   "cell_type": "code",
   "execution_count": 4,
   "id": "adac285b-593f-449f-baeb-0aa71ebc20fe",
   "metadata": {},
   "outputs": [
    {
     "name": "stdout",
     "output_type": "stream",
     "text": [
      "<class 'pandas.core.frame.DataFrame'>\n",
      "RangeIndex: 11 entries, 0 to 10\n",
      "Data columns (total 7 columns):\n",
      " #   Column  Non-Null Count  Dtype \n",
      "---  ------  --------------  ----- \n",
      " 0   title   11 non-null     object\n",
      " 1   ths     11 non-null     object\n",
      " 2   peak    11 non-null     object\n",
      " 3   the     11 non-null     object\n",
      " 4   exp     11 non-null     int64 \n",
      " 5   rece    11 non-null     int64 \n",
      " 6   recv    11 non-null     int64 \n",
      "dtypes: int64(3), object(4)\n",
      "memory usage: 744.0+ bytes\n"
     ]
    }
   ],
   "source": [
    "ko_cycle = [['1순환기','1972-03','1974-02','1975-06',23,16,39],\n",
    "            ['2순환기','1975-06','1979-02','1980-09',44,19,63],\n",
    "            ['3순환기','1980-09','1984-02','1985-09',41,19,60],\n",
    "            ['4순환기','1985-09','1988-01','1989-07',28,18,46],\n",
    "            ['5순환기','1989-07','1992-01','1993-01',30,12,42],\n",
    "            ['6순환기','1993-01','1996-03','1998-08',38,29,67],\n",
    "            ['7순환기','1998-08','2000-08','2001-07',24,11,35],\n",
    "            ['8순환기','2001-07','2002-12','2005-04',17,28,45],\n",
    "            ['9순환기','2005-04','2008-01','2009-02',33,13,46],\n",
    "            ['10순환기','2009-02','2011-08','2013-03',30,19,49],\n",
    "            ['11순환기','2013-03','2017-09','2021-12',54,0,0]]\n",
    "col_list = ['title','ths','peak','the','exp','rece','recv']\n",
    "cdf = pd.DataFrame(ko_cycle, columns=col_list)\n",
    "cdf.info()"
   ]
  },
  {
   "cell_type": "code",
   "execution_count": 5,
   "id": "a039a3e4-8bff-4fa1-a95e-ce043a4dc4bd",
   "metadata": {},
   "outputs": [
    {
     "data": {
      "text/html": [
       "<div>\n",
       "<style scoped>\n",
       "    .dataframe tbody tr th:only-of-type {\n",
       "        vertical-align: middle;\n",
       "    }\n",
       "\n",
       "    .dataframe tbody tr th {\n",
       "        vertical-align: top;\n",
       "    }\n",
       "\n",
       "    .dataframe thead th {\n",
       "        text-align: right;\n",
       "    }\n",
       "</style>\n",
       "<table border=\"1\" class=\"dataframe\">\n",
       "  <thead>\n",
       "    <tr style=\"text-align: right;\">\n",
       "      <th></th>\n",
       "      <th>rdate</th>\n",
       "      <th>p</th>\n",
       "      <th>t</th>\n",
       "    </tr>\n",
       "  </thead>\n",
       "  <tbody>\n",
       "    <tr>\n",
       "      <th>264</th>\n",
       "      <td>2021-08-01</td>\n",
       "      <td>0</td>\n",
       "      <td>0</td>\n",
       "    </tr>\n",
       "    <tr>\n",
       "      <th>265</th>\n",
       "      <td>2021-09-01</td>\n",
       "      <td>0</td>\n",
       "      <td>0</td>\n",
       "    </tr>\n",
       "    <tr>\n",
       "      <th>266</th>\n",
       "      <td>2021-10-01</td>\n",
       "      <td>0</td>\n",
       "      <td>0</td>\n",
       "    </tr>\n",
       "    <tr>\n",
       "      <th>267</th>\n",
       "      <td>2021-11-01</td>\n",
       "      <td>0</td>\n",
       "      <td>0</td>\n",
       "    </tr>\n",
       "    <tr>\n",
       "      <th>268</th>\n",
       "      <td>2021-12-01</td>\n",
       "      <td>0</td>\n",
       "      <td>0</td>\n",
       "    </tr>\n",
       "  </tbody>\n",
       "</table>\n",
       "</div>"
      ],
      "text/plain": [
       "         rdate  p  t\n",
       "264 2021-08-01  0  0\n",
       "265 2021-09-01  0  0\n",
       "266 2021-10-01  0  0\n",
       "267 2021-11-01  0  0\n",
       "268 2021-12-01  0  0"
      ]
     },
     "execution_count": 5,
     "metadata": {},
     "output_type": "execute_result"
    }
   ],
   "source": [
    "rdf = pd.DataFrame( {'rdate':pd.date_range('1999-08-01', '2021-12-31', freq='MS'), 'p':0, 't':0})\n",
    "rdf.tail()"
   ]
  },
  {
   "cell_type": "code",
   "execution_count": 6,
   "id": "5f81f9cd-890e-4b92-8fae-167716b57634",
   "metadata": {},
   "outputs": [
    {
     "data": {
      "text/html": [
       "<div>\n",
       "<style scoped>\n",
       "    .dataframe tbody tr th:only-of-type {\n",
       "        vertical-align: middle;\n",
       "    }\n",
       "\n",
       "    .dataframe tbody tr th {\n",
       "        vertical-align: top;\n",
       "    }\n",
       "\n",
       "    .dataframe thead th {\n",
       "        text-align: right;\n",
       "    }\n",
       "</style>\n",
       "<table border=\"1\" class=\"dataframe\">\n",
       "  <thead>\n",
       "    <tr style=\"text-align: right;\">\n",
       "      <th></th>\n",
       "      <th>rdate</th>\n",
       "      <th>p</th>\n",
       "      <th>t</th>\n",
       "      <th>cli</th>\n",
       "    </tr>\n",
       "  </thead>\n",
       "  <tbody>\n",
       "    <tr>\n",
       "      <th>0</th>\n",
       "      <td>1999-08-01</td>\n",
       "      <td>0</td>\n",
       "      <td>0</td>\n",
       "      <td>105.7148</td>\n",
       "    </tr>\n",
       "    <tr>\n",
       "      <th>1</th>\n",
       "      <td>1999-09-01</td>\n",
       "      <td>0</td>\n",
       "      <td>0</td>\n",
       "      <td>105.7379</td>\n",
       "    </tr>\n",
       "    <tr>\n",
       "      <th>2</th>\n",
       "      <td>1999-10-01</td>\n",
       "      <td>0</td>\n",
       "      <td>0</td>\n",
       "      <td>105.5979</td>\n",
       "    </tr>\n",
       "    <tr>\n",
       "      <th>3</th>\n",
       "      <td>1999-11-01</td>\n",
       "      <td>0</td>\n",
       "      <td>0</td>\n",
       "      <td>105.3427</td>\n",
       "    </tr>\n",
       "    <tr>\n",
       "      <th>4</th>\n",
       "      <td>1999-12-01</td>\n",
       "      <td>0</td>\n",
       "      <td>0</td>\n",
       "      <td>104.9766</td>\n",
       "    </tr>\n",
       "  </tbody>\n",
       "</table>\n",
       "</div>"
      ],
      "text/plain": [
       "       rdate  p  t       cli\n",
       "0 1999-08-01  0  0  105.7148\n",
       "1 1999-09-01  0  0  105.7379\n",
       "2 1999-10-01  0  0  105.5979\n",
       "3 1999-11-01  0  0  105.3427\n",
       "4 1999-12-01  0  0  104.9766"
      ]
     },
     "execution_count": 6,
     "metadata": {},
     "output_type": "execute_result"
    }
   ],
   "source": [
    "df = pd.merge(rdf, oecd, how=\"left\", on='rdate')\n",
    "df.head()"
   ]
  },
  {
   "cell_type": "code",
   "execution_count": 7,
   "id": "ca86217f-605b-4b57-a6ed-e489dc017bca",
   "metadata": {},
   "outputs": [],
   "source": [
    "# # for i in range(len(cdf)):\n",
    "# #     print(cdf.iloc[i]['peak'], cdf.iloc[i]['the'])   \n",
    "# idx = df[(df['rdate']>='1998-08-01') & (df['rdate']<='2000-08-01')].index\n",
    "# df.loc[idx, 'p'] = 1\n",
    "# idx = df[(df['rdate']>='2001-07-01') & (df['rdate']<='2002-12-01')].index\n",
    "# df.loc[idx, 'p'] = 1\n",
    "# idx = df[(df['rdate']>='2005-04-01') & (df['rdate']<='2008-01-01')].index\n",
    "# df.loc[idx, 'p'] = 1\n",
    "# idx = df[(df['rdate']>='2009-02-01') & (df['rdate']<='2011-08-01')].index\n",
    "# df.loc[idx, 'p'] = 1\n",
    "# idx = df[(df['rdate']>='2013-03 -01') & (df['rdate']<='2017-09-01')].index\n",
    "# df.loc[idx, 'p'] = 1\n",
    "# #-----------------------------\n",
    "# idx = df[(df['rdate']>='1996-03-01') & (df['rdate']<='1998-08-01')].index\n",
    "# df.loc[idx, 't'] = 1\n",
    "# idx = df[(df['rdate']>='2000-08-01') & (df['rdate']<='2001-07-01')].index\n",
    "# df.loc[idx, 't'] = 1\n",
    "# idx = df[(df['rdate']>='2002-12-01') & (df['rdate']<='2005-04-01')].index\n",
    "# df.loc[idx, 't'] = 1\n",
    "# idx = df[(df['rdate']>='2008-01-01') & (df['rdate']<='2009-02-01')].index\n",
    "# df.loc[idx, 't'] = 1\n",
    "# idx = df[(df['rdate']>='2011-08-01') & (df['rdate']<='2013-03-01')].index\n",
    "# df.loc[idx, 't'] = 1\n",
    "# idx = df[(df['rdate']>='2017-09-01') & (df['rdate']<='2021-12-01')].index\n",
    "# df.loc[idx, 't'] = 1"
   ]
  },
  {
   "cell_type": "code",
   "execution_count": 24,
   "id": "15768008-d347-486b-8905-9fd7b83e6ea9",
   "metadata": {},
   "outputs": [
    {
     "data": {
      "text/html": [
       "<div>\n",
       "<style scoped>\n",
       "    .dataframe tbody tr th:only-of-type {\n",
       "        vertical-align: middle;\n",
       "    }\n",
       "\n",
       "    .dataframe tbody tr th {\n",
       "        vertical-align: top;\n",
       "    }\n",
       "\n",
       "    .dataframe thead th {\n",
       "        text-align: right;\n",
       "    }\n",
       "</style>\n",
       "<table border=\"1\" class=\"dataframe\">\n",
       "  <thead>\n",
       "    <tr style=\"text-align: right;\">\n",
       "      <th></th>\n",
       "      <th>rdate</th>\n",
       "      <th>p</th>\n",
       "      <th>t</th>\n",
       "      <th>cli</th>\n",
       "      <th>cycle</th>\n",
       "      <th>pt</th>\n",
       "    </tr>\n",
       "  </thead>\n",
       "  <tbody>\n",
       "    <tr>\n",
       "      <th>1</th>\n",
       "      <td>1999-09-01</td>\n",
       "      <td>0</td>\n",
       "      <td>0</td>\n",
       "      <td>105.7379</td>\n",
       "      <td>2.0</td>\n",
       "      <td>1</td>\n",
       "    </tr>\n",
       "    <tr>\n",
       "      <th>2</th>\n",
       "      <td>1999-10-01</td>\n",
       "      <td>0</td>\n",
       "      <td>0</td>\n",
       "      <td>105.5979</td>\n",
       "      <td>2.0</td>\n",
       "      <td>0</td>\n",
       "    </tr>\n",
       "    <tr>\n",
       "      <th>3</th>\n",
       "      <td>1999-11-01</td>\n",
       "      <td>0</td>\n",
       "      <td>0</td>\n",
       "      <td>105.3427</td>\n",
       "      <td>2.0</td>\n",
       "      <td>0</td>\n",
       "    </tr>\n",
       "    <tr>\n",
       "      <th>4</th>\n",
       "      <td>1999-12-01</td>\n",
       "      <td>0</td>\n",
       "      <td>0</td>\n",
       "      <td>104.9766</td>\n",
       "      <td>2.0</td>\n",
       "      <td>0</td>\n",
       "    </tr>\n",
       "    <tr>\n",
       "      <th>5</th>\n",
       "      <td>2000-01-01</td>\n",
       "      <td>0</td>\n",
       "      <td>0</td>\n",
       "      <td>104.5321</td>\n",
       "      <td>2.0</td>\n",
       "      <td>0</td>\n",
       "    </tr>\n",
       "    <tr>\n",
       "      <th>...</th>\n",
       "      <td>...</td>\n",
       "      <td>...</td>\n",
       "      <td>...</td>\n",
       "      <td>...</td>\n",
       "      <td>...</td>\n",
       "      <td>...</td>\n",
       "    </tr>\n",
       "    <tr>\n",
       "      <th>264</th>\n",
       "      <td>2021-08-01</td>\n",
       "      <td>0</td>\n",
       "      <td>0</td>\n",
       "      <td>101.7592</td>\n",
       "      <td>-1.0</td>\n",
       "      <td>0</td>\n",
       "    </tr>\n",
       "    <tr>\n",
       "      <th>265</th>\n",
       "      <td>2021-09-01</td>\n",
       "      <td>0</td>\n",
       "      <td>0</td>\n",
       "      <td>101.4529</td>\n",
       "      <td>-1.0</td>\n",
       "      <td>0</td>\n",
       "    </tr>\n",
       "    <tr>\n",
       "      <th>266</th>\n",
       "      <td>2021-10-01</td>\n",
       "      <td>0</td>\n",
       "      <td>0</td>\n",
       "      <td>101.1319</td>\n",
       "      <td>-1.0</td>\n",
       "      <td>0</td>\n",
       "    </tr>\n",
       "    <tr>\n",
       "      <th>267</th>\n",
       "      <td>2021-11-01</td>\n",
       "      <td>0</td>\n",
       "      <td>0</td>\n",
       "      <td>100.8370</td>\n",
       "      <td>-1.0</td>\n",
       "      <td>0</td>\n",
       "    </tr>\n",
       "    <tr>\n",
       "      <th>268</th>\n",
       "      <td>2021-12-01</td>\n",
       "      <td>0</td>\n",
       "      <td>0</td>\n",
       "      <td>100.5729</td>\n",
       "      <td>NaN</td>\n",
       "      <td>0</td>\n",
       "    </tr>\n",
       "  </tbody>\n",
       "</table>\n",
       "<p>268 rows × 6 columns</p>\n",
       "</div>"
      ],
      "text/plain": [
       "         rdate  p  t       cli  cycle  pt\n",
       "1   1999-09-01  0  0  105.7379    2.0   1\n",
       "2   1999-10-01  0  0  105.5979    2.0   0\n",
       "3   1999-11-01  0  0  105.3427    2.0   0\n",
       "4   1999-12-01  0  0  104.9766    2.0   0\n",
       "5   2000-01-01  0  0  104.5321    2.0   0\n",
       "..         ... .. ..       ...    ...  ..\n",
       "264 2021-08-01  0  0  101.7592   -1.0   0\n",
       "265 2021-09-01  0  0  101.4529   -1.0   0\n",
       "266 2021-10-01  0  0  101.1319   -1.0   0\n",
       "267 2021-11-01  0  0  100.8370   -1.0   0\n",
       "268 2021-12-01  0  0  100.5729    NaN   0\n",
       "\n",
       "[268 rows x 6 columns]"
      ]
     },
     "execution_count": 24,
     "metadata": {},
     "output_type": "execute_result"
    }
   ],
   "source": [
    "df[df.index>0]"
   ]
  },
  {
   "cell_type": "markdown",
   "id": "257eea9d-0fd4-426f-82ef-03fc4824ad45",
   "metadata": {},
   "source": [
    "<img src=\"http://db.kookje.co.kr/news2000/photo/2022/0729/L20220729.99099008913i2.jpg\" width=400>"
   ]
  },
  {
   "cell_type": "code",
   "execution_count": 30,
   "id": "b2b0f166-2522-40dc-bd6f-dca96b870bf5",
   "metadata": {},
   "outputs": [],
   "source": [
    "tlist = [['2000-08-01','2001-07-01'],    #수축:고점~저점\n",
    "         ['2002-12-01','2005-04-01'],\n",
    "         ['2008-01-01','2009-02-01'],\n",
    "         ['2011-08-01','2013-03-01'],\n",
    "         ['2017-09-01','2021-12-01']]   \n",
    "plist = [['1998-08-01','2000-08-01'],   #확장:저점~고점\n",
    "         ['2001-07-01','2002-12-01'],\n",
    "         ['2005-04-01','2008-01-01'],\n",
    "         ['2009-02-01','2011-08-01'],\n",
    "         ['2013-03-01','2017-09-01']]\n",
    "p_points = []\n",
    "t_points = []\n",
    "for i, t in enumerate(tlist):\n",
    "    maxv = df[(df['rdate']>=plist[i][0]) & (df['rdate']<=plist[i][1])]['cli'].max()\n",
    "    minv = df[(df['rdate']>=tlist[i][0]) & (df['rdate']<=tlist[i][1])]['cli'].min()\n",
    "    \n",
    "    # print(\"전고(+)\", plist[i][0],plist[i][1], maxv)\n",
    "    idx = df[(df['rdate']>=plist[i][0]) & (df['rdate']<=plist[i][1])& (df['cli']==maxv)].index.values\n",
    "    # print(idx, df.iloc[idx]['rdate'], maxv)\n",
    "    p_points.append(idx)\n",
    "    # print(\"전저(-)\", tlist[i][0],tlist[i][1], minv)\n",
    "    idx = df[(df['rdate']>=tlist[i][0]) & (df['rdate']<=tlist[i][1])& (df['cli']==minv)].index.values\n",
    "    # print(idx, df.iloc[idx]['rdate'], minv)\n",
    "    t_points.append(idx)\n",
    "    \n",
    "    df['pt'] = 0\n",
    "    df.loc[[1,33,96,123,212]  ,'pt'] = 1 \n",
    "    df.loc[[20,45,110,148,240],'pt'] = -1\n",
    "#     # for s,e in zip(df[df['pt']==1].index,df[df['pt']==-1].index):\n",
    "#     #     print(s,e)\n",
    "#     pt_points = [1, 20, 33, 45, 96, 110, 123, 148, 212, 240]     \n",
    "#     for i, pt in enumerate(pt_points):\n",
    "#         if i%2 == 0: #불황\n",
    "#             idx = df[ (df.index>=i) & (df.index<i+1) & (df['cli'] >= 100)].index\n",
    "#             df.loc[idx, 'cycle'] = -1    #Slowdown   \n",
    "#             idx = df[ (df.index>=i) & (df.index<i+1) & (df['cli'] < 100)].index\n",
    "#             df.loc[idx, 'cycle'] = -2    #Contraction\n",
    "#         else:\n",
    "#             idx = df[ (df.index>=i) & (df.index<i+1) & (df['cli'] >= 100)].index\n",
    "#             df.loc[idx, 'cycle'] = 2    #Expansion \n",
    "#             idx = df[ (df.index>=i) & (df.index<i+1) & (df['cli'] < 100)].index\n",
    "#             df.loc[idx, 'cycle'] = 1    #Recovery\n",
    "            \n",
    "#     # 경기국면     cli          순환변동치경기국면\n",
    "#     # --------------------------------------------------\n",
    "#     # Recovery     100<=cli    전저점~전고점 호황상승 p=1\n",
    "#     # Expansion    100>cli     전저점~전고점 호황상승 p=1\n",
    "#     # Slowdown     100>cli     전고점~전저점 침체하락 t=1\n",
    "#     # Contraction  100>cli     전고점~전저점 침체하락 t=1\n",
    "   \n",
    "# p_points, t_points    "
   ]
  },
  {
   "cell_type": "code",
   "execution_count": 38,
   "id": "c8b6de0e-c69e-4f2b-b8e8-00c9150ae8a9",
   "metadata": {},
   "outputs": [
    {
     "data": {
      "text/plain": [
       "array(['1999-09-01T00:00:00.000000000', '2001-04-01T00:00:00.000000000',\n",
       "       '2002-05-01T00:00:00.000000000', '2003-05-01T00:00:00.000000000',\n",
       "       '2007-08-01T00:00:00.000000000', '2008-10-01T00:00:00.000000000',\n",
       "       '2009-11-01T00:00:00.000000000', '2011-12-01T00:00:00.000000000',\n",
       "       '2017-04-01T00:00:00.000000000', '2019-08-01T00:00:00.000000000'],\n",
       "      dtype='datetime64[ns]')"
      ]
     },
     "execution_count": 38,
     "metadata": {},
     "output_type": "execute_result"
    }
   ],
   "source": [
    "# df[df['pt']!=0]['rdate'].values\n"
   ]
  },
  {
   "cell_type": "code",
   "execution_count": 52,
   "id": "b061dc3a-e463-48ab-b7e7-047300f6c3d1",
   "metadata": {},
   "outputs": [],
   "source": [
    "# df[df['rdate']==pt_points[i]]['pt']\n",
    "# for s,e in zip(df[df['pt']==1].index,df[df['pt']==-1].index):\n",
    "#     print(s,e)\n",
    "p_points = [[1,20] , [33,45], [96,110]  ,[123,148] ,[212,240]]\n",
    "for p in p_points:\n",
    "    idx = df[ (df.index>=p[0]) &  (df.index<p[1])  & (df['cli']>=100)].index\n",
    "    df.loc[idx,'cycle'] = -1\n",
    "    idx = df[ (df.index>=p[0]) &  (df.index<p[1])  & (df['cli']<100)].index\n",
    "    df.loc[idx,'cycle'] = -2\n",
    "\n",
    "t_points = [[20,33], [45,96], [110,123] ,[148,212] ,[240, len(df)]]\n",
    "for p in t_points:\n",
    "    idx = df[ (df.index>=p[0]) &  (df.index<p[1])  & (df['cli']>=100)].index\n",
    "    df.loc[idx,'cycle'] = 2\n",
    "    idx = df[ (df.index>=p[0]) &  (df.index<p[1])  & (df['cli']<100)].index\n",
    "    df.loc[idx,'cycle'] = 1"
   ]
  },
  {
   "cell_type": "code",
   "execution_count": 54,
   "id": "3f8710ff-cdc4-41e2-b9ad-d116c07ffc25",
   "metadata": {},
   "outputs": [],
   "source": [
    "# pt_points = ['1999-09-01', '2001-04-01','2002-05-01', '2003-05-01','2007-08-01'\n",
    "#              , '2008-10-01','2009-11-01', '2011-12-01','2017-04-01', '2019-08-01']"
   ]
  },
  {
   "cell_type": "code",
   "execution_count": 55,
   "id": "7a9d4014-bea0-4025-86b1-2511627c7fec",
   "metadata": {},
   "outputs": [
    {
     "data": {
      "text/plain": [
       "-2.0    40\n",
       "-1.0    59\n",
       " 1.0    73\n",
       " 2.0    97\n",
       "Name: cycle, dtype: int64"
      ]
     },
     "execution_count": 55,
     "metadata": {},
     "output_type": "execute_result"
    }
   ],
   "source": [
    "df['cycle'].value_counts().sort_index()"
   ]
  },
  {
   "cell_type": "code",
   "execution_count": 56,
   "id": "c3dbfff5-5fad-4495-8a06-324822dbb70e",
   "metadata": {},
   "outputs": [
    {
     "ename": "KeyError",
     "evalue": "'[269] not in index'",
     "output_type": "error",
     "traceback": [
      "\u001b[1;31m---------------------------------------------------------------------------\u001b[0m",
      "\u001b[1;31mKeyError\u001b[0m                                  Traceback (most recent call last)",
      "Input \u001b[1;32mIn [56]\u001b[0m, in \u001b[0;36m<cell line: 16>\u001b[1;34m()\u001b[0m\n\u001b[0;32m     20\u001b[0m     plt\u001b[38;5;241m.\u001b[39mplot(pd\u001b[38;5;241m.\u001b[39mto_datetime(tlist[i][\u001b[38;5;241m1\u001b[39m]), df[df[\u001b[38;5;124m'\u001b[39m\u001b[38;5;124mrdate\u001b[39m\u001b[38;5;124m'\u001b[39m]\u001b[38;5;241m==\u001b[39mtlist[i][\u001b[38;5;241m1\u001b[39m]][\u001b[38;5;124m'\u001b[39m\u001b[38;5;124mcli\u001b[39m\u001b[38;5;124m'\u001b[39m], color\u001b[38;5;241m=\u001b[39m\u001b[38;5;124m'\u001b[39m\u001b[38;5;124mblack\u001b[39m\u001b[38;5;124m'\u001b[39m, marker\u001b[38;5;241m=\u001b[39m\u001b[38;5;124m\"\u001b[39m\u001b[38;5;124m*\u001b[39m\u001b[38;5;124m\"\u001b[39m)  \n\u001b[0;32m     22\u001b[0m     plt\u001b[38;5;241m.\u001b[39mplot(pd\u001b[38;5;241m.\u001b[39mto_datetime(df\u001b[38;5;241m.\u001b[39mloc[p_points[i]][\u001b[38;5;124m'\u001b[39m\u001b[38;5;124mrdate\u001b[39m\u001b[38;5;124m'\u001b[39m]), df\u001b[38;5;241m.\u001b[39mloc[p_points[i]][\u001b[38;5;124m'\u001b[39m\u001b[38;5;124mcli\u001b[39m\u001b[38;5;124m'\u001b[39m], \u001b[38;5;124m'\u001b[39m\u001b[38;5;124mro\u001b[39m\u001b[38;5;124m'\u001b[39m)\n\u001b[1;32m---> 23\u001b[0m     plt\u001b[38;5;241m.\u001b[39mplot(pd\u001b[38;5;241m.\u001b[39mto_datetime(\u001b[43mdf\u001b[49m\u001b[38;5;241;43m.\u001b[39;49m\u001b[43mloc\u001b[49m\u001b[43m[\u001b[49m\u001b[43mt_points\u001b[49m\u001b[43m[\u001b[49m\u001b[43mi\u001b[49m\u001b[43m]\u001b[49m\u001b[43m]\u001b[49m[\u001b[38;5;124m'\u001b[39m\u001b[38;5;124mrdate\u001b[39m\u001b[38;5;124m'\u001b[39m]), df\u001b[38;5;241m.\u001b[39mloc[t_points[i]][\u001b[38;5;124m'\u001b[39m\u001b[38;5;124mcli\u001b[39m\u001b[38;5;124m'\u001b[39m], \u001b[38;5;124m'\u001b[39m\u001b[38;5;124mbo\u001b[39m\u001b[38;5;124m'\u001b[39m)\n\u001b[0;32m     25\u001b[0m plt\u001b[38;5;241m.\u001b[39mhlines(\u001b[38;5;241m100\u001b[39m, df[\u001b[38;5;124m'\u001b[39m\u001b[38;5;124mrdate\u001b[39m\u001b[38;5;124m'\u001b[39m]\u001b[38;5;241m.\u001b[39mmin(), df[\u001b[38;5;124m'\u001b[39m\u001b[38;5;124mrdate\u001b[39m\u001b[38;5;124m'\u001b[39m]\u001b[38;5;241m.\u001b[39mmax(), color\u001b[38;5;241m=\u001b[39m\u001b[38;5;124m'\u001b[39m\u001b[38;5;124mgray\u001b[39m\u001b[38;5;124m'\u001b[39m, linestyle\u001b[38;5;241m=\u001b[39m\u001b[38;5;124m'\u001b[39m\u001b[38;5;124msolid\u001b[39m\u001b[38;5;124m'\u001b[39m, linewidth\u001b[38;5;241m=\u001b[39m\u001b[38;5;241m3\u001b[39m)\n\u001b[0;32m     27\u001b[0m \u001b[38;5;66;03m# plt.subplot(212) \u001b[39;00m\n\u001b[0;32m     28\u001b[0m \u001b[38;5;66;03m# # drawdown.plot(c='blue', label='KOSPI DD', grid=True, legend=True)\u001b[39;00m\n\u001b[0;32m     29\u001b[0m \u001b[38;5;66;03m# # mdd.plot(c='red', label='KOSPI MDD', grid=True, legend=True) \u001b[39;00m\n\u001b[0;32m     30\u001b[0m \u001b[38;5;66;03m# plt.plot(df['rdate'], df['drawdown'], c='blue', label='cli DD') # 낙폭 그래프\u001b[39;00m\n\u001b[0;32m     31\u001b[0m \u001b[38;5;66;03m# plt.plot(df['rdate'], df['mdd'],c='red', label='cli MDD') # 최대 손실 낙폭 그래프 \u001b[39;00m\n",
      "File \u001b[1;32mc:\\ai\\pythonproject7\\venv\\lib\\site-packages\\pandas\\core\\indexing.py:967\u001b[0m, in \u001b[0;36m_LocationIndexer.__getitem__\u001b[1;34m(self, key)\u001b[0m\n\u001b[0;32m    964\u001b[0m axis \u001b[38;5;241m=\u001b[39m \u001b[38;5;28mself\u001b[39m\u001b[38;5;241m.\u001b[39maxis \u001b[38;5;129;01mor\u001b[39;00m \u001b[38;5;241m0\u001b[39m\n\u001b[0;32m    966\u001b[0m maybe_callable \u001b[38;5;241m=\u001b[39m com\u001b[38;5;241m.\u001b[39mapply_if_callable(key, \u001b[38;5;28mself\u001b[39m\u001b[38;5;241m.\u001b[39mobj)\n\u001b[1;32m--> 967\u001b[0m \u001b[38;5;28;01mreturn\u001b[39;00m \u001b[38;5;28;43mself\u001b[39;49m\u001b[38;5;241;43m.\u001b[39;49m\u001b[43m_getitem_axis\u001b[49m\u001b[43m(\u001b[49m\u001b[43mmaybe_callable\u001b[49m\u001b[43m,\u001b[49m\u001b[43m \u001b[49m\u001b[43maxis\u001b[49m\u001b[38;5;241;43m=\u001b[39;49m\u001b[43maxis\u001b[49m\u001b[43m)\u001b[49m\n",
      "File \u001b[1;32mc:\\ai\\pythonproject7\\venv\\lib\\site-packages\\pandas\\core\\indexing.py:1191\u001b[0m, in \u001b[0;36m_LocIndexer._getitem_axis\u001b[1;34m(self, key, axis)\u001b[0m\n\u001b[0;32m   1188\u001b[0m     \u001b[38;5;28;01mif\u001b[39;00m \u001b[38;5;28mhasattr\u001b[39m(key, \u001b[38;5;124m\"\u001b[39m\u001b[38;5;124mndim\u001b[39m\u001b[38;5;124m\"\u001b[39m) \u001b[38;5;129;01mand\u001b[39;00m key\u001b[38;5;241m.\u001b[39mndim \u001b[38;5;241m>\u001b[39m \u001b[38;5;241m1\u001b[39m:\n\u001b[0;32m   1189\u001b[0m         \u001b[38;5;28;01mraise\u001b[39;00m \u001b[38;5;167;01mValueError\u001b[39;00m(\u001b[38;5;124m\"\u001b[39m\u001b[38;5;124mCannot index with multidimensional key\u001b[39m\u001b[38;5;124m\"\u001b[39m)\n\u001b[1;32m-> 1191\u001b[0m     \u001b[38;5;28;01mreturn\u001b[39;00m \u001b[38;5;28;43mself\u001b[39;49m\u001b[38;5;241;43m.\u001b[39;49m\u001b[43m_getitem_iterable\u001b[49m\u001b[43m(\u001b[49m\u001b[43mkey\u001b[49m\u001b[43m,\u001b[49m\u001b[43m \u001b[49m\u001b[43maxis\u001b[49m\u001b[38;5;241;43m=\u001b[39;49m\u001b[43maxis\u001b[49m\u001b[43m)\u001b[49m\n\u001b[0;32m   1193\u001b[0m \u001b[38;5;66;03m# nested tuple slicing\u001b[39;00m\n\u001b[0;32m   1194\u001b[0m \u001b[38;5;28;01mif\u001b[39;00m is_nested_tuple(key, labels):\n",
      "File \u001b[1;32mc:\\ai\\pythonproject7\\venv\\lib\\site-packages\\pandas\\core\\indexing.py:1132\u001b[0m, in \u001b[0;36m_LocIndexer._getitem_iterable\u001b[1;34m(self, key, axis)\u001b[0m\n\u001b[0;32m   1129\u001b[0m \u001b[38;5;28mself\u001b[39m\u001b[38;5;241m.\u001b[39m_validate_key(key, axis)\n\u001b[0;32m   1131\u001b[0m \u001b[38;5;66;03m# A collection of keys\u001b[39;00m\n\u001b[1;32m-> 1132\u001b[0m keyarr, indexer \u001b[38;5;241m=\u001b[39m \u001b[38;5;28;43mself\u001b[39;49m\u001b[38;5;241;43m.\u001b[39;49m\u001b[43m_get_listlike_indexer\u001b[49m\u001b[43m(\u001b[49m\u001b[43mkey\u001b[49m\u001b[43m,\u001b[49m\u001b[43m \u001b[49m\u001b[43maxis\u001b[49m\u001b[43m)\u001b[49m\n\u001b[0;32m   1133\u001b[0m \u001b[38;5;28;01mreturn\u001b[39;00m \u001b[38;5;28mself\u001b[39m\u001b[38;5;241m.\u001b[39mobj\u001b[38;5;241m.\u001b[39m_reindex_with_indexers(\n\u001b[0;32m   1134\u001b[0m     {axis: [keyarr, indexer]}, copy\u001b[38;5;241m=\u001b[39m\u001b[38;5;28;01mTrue\u001b[39;00m, allow_dups\u001b[38;5;241m=\u001b[39m\u001b[38;5;28;01mTrue\u001b[39;00m\n\u001b[0;32m   1135\u001b[0m )\n",
      "File \u001b[1;32mc:\\ai\\pythonproject7\\venv\\lib\\site-packages\\pandas\\core\\indexing.py:1327\u001b[0m, in \u001b[0;36m_LocIndexer._get_listlike_indexer\u001b[1;34m(self, key, axis)\u001b[0m\n\u001b[0;32m   1324\u001b[0m ax \u001b[38;5;241m=\u001b[39m \u001b[38;5;28mself\u001b[39m\u001b[38;5;241m.\u001b[39mobj\u001b[38;5;241m.\u001b[39m_get_axis(axis)\n\u001b[0;32m   1325\u001b[0m axis_name \u001b[38;5;241m=\u001b[39m \u001b[38;5;28mself\u001b[39m\u001b[38;5;241m.\u001b[39mobj\u001b[38;5;241m.\u001b[39m_get_axis_name(axis)\n\u001b[1;32m-> 1327\u001b[0m keyarr, indexer \u001b[38;5;241m=\u001b[39m \u001b[43max\u001b[49m\u001b[38;5;241;43m.\u001b[39;49m\u001b[43m_get_indexer_strict\u001b[49m\u001b[43m(\u001b[49m\u001b[43mkey\u001b[49m\u001b[43m,\u001b[49m\u001b[43m \u001b[49m\u001b[43maxis_name\u001b[49m\u001b[43m)\u001b[49m\n\u001b[0;32m   1329\u001b[0m \u001b[38;5;28;01mreturn\u001b[39;00m keyarr, indexer\n",
      "File \u001b[1;32mc:\\ai\\pythonproject7\\venv\\lib\\site-packages\\pandas\\core\\indexes\\base.py:5782\u001b[0m, in \u001b[0;36mIndex._get_indexer_strict\u001b[1;34m(self, key, axis_name)\u001b[0m\n\u001b[0;32m   5779\u001b[0m \u001b[38;5;28;01melse\u001b[39;00m:\n\u001b[0;32m   5780\u001b[0m     keyarr, indexer, new_indexer \u001b[38;5;241m=\u001b[39m \u001b[38;5;28mself\u001b[39m\u001b[38;5;241m.\u001b[39m_reindex_non_unique(keyarr)\n\u001b[1;32m-> 5782\u001b[0m \u001b[38;5;28;43mself\u001b[39;49m\u001b[38;5;241;43m.\u001b[39;49m\u001b[43m_raise_if_missing\u001b[49m\u001b[43m(\u001b[49m\u001b[43mkeyarr\u001b[49m\u001b[43m,\u001b[49m\u001b[43m \u001b[49m\u001b[43mindexer\u001b[49m\u001b[43m,\u001b[49m\u001b[43m \u001b[49m\u001b[43maxis_name\u001b[49m\u001b[43m)\u001b[49m\n\u001b[0;32m   5784\u001b[0m keyarr \u001b[38;5;241m=\u001b[39m \u001b[38;5;28mself\u001b[39m\u001b[38;5;241m.\u001b[39mtake(indexer)\n\u001b[0;32m   5785\u001b[0m \u001b[38;5;28;01mif\u001b[39;00m \u001b[38;5;28misinstance\u001b[39m(key, Index):\n\u001b[0;32m   5786\u001b[0m     \u001b[38;5;66;03m# GH 42790 - Preserve name from an Index\u001b[39;00m\n",
      "File \u001b[1;32mc:\\ai\\pythonproject7\\venv\\lib\\site-packages\\pandas\\core\\indexes\\base.py:5845\u001b[0m, in \u001b[0;36mIndex._raise_if_missing\u001b[1;34m(self, key, indexer, axis_name)\u001b[0m\n\u001b[0;32m   5842\u001b[0m     \u001b[38;5;28;01mraise\u001b[39;00m \u001b[38;5;167;01mKeyError\u001b[39;00m(\u001b[38;5;124mf\u001b[39m\u001b[38;5;124m\"\u001b[39m\u001b[38;5;124mNone of [\u001b[39m\u001b[38;5;132;01m{\u001b[39;00mkey\u001b[38;5;132;01m}\u001b[39;00m\u001b[38;5;124m] are in the [\u001b[39m\u001b[38;5;132;01m{\u001b[39;00maxis_name\u001b[38;5;132;01m}\u001b[39;00m\u001b[38;5;124m]\u001b[39m\u001b[38;5;124m\"\u001b[39m)\n\u001b[0;32m   5844\u001b[0m not_found \u001b[38;5;241m=\u001b[39m \u001b[38;5;28mlist\u001b[39m(ensure_index(key)[missing_mask\u001b[38;5;241m.\u001b[39mnonzero()[\u001b[38;5;241m0\u001b[39m]]\u001b[38;5;241m.\u001b[39munique())\n\u001b[1;32m-> 5845\u001b[0m \u001b[38;5;28;01mraise\u001b[39;00m \u001b[38;5;167;01mKeyError\u001b[39;00m(\u001b[38;5;124mf\u001b[39m\u001b[38;5;124m\"\u001b[39m\u001b[38;5;132;01m{\u001b[39;00mnot_found\u001b[38;5;132;01m}\u001b[39;00m\u001b[38;5;124m not in index\u001b[39m\u001b[38;5;124m\"\u001b[39m)\n",
      "\u001b[1;31mKeyError\u001b[0m: '[269] not in index'"
     ]
    },
    {
     "data": {
      "image/png": "[encoded data removed]",
      "text/plain": [
       "<Figure size 1872x864 with 1 Axes>"
      ]
     },
     "metadata": {
      "needs_background": "light"
     },
     "output_type": "display_data"
    }
   ],
   "source": [
    "plt.figure(figsize=(26,12))\n",
    "plt.subplot(211) \n",
    "ax = plt.plot(df['rdate'], df['cli'], label=\"OECD cli\")\n",
    "\n",
    "tlist = [['2000-08-01','2001-07-01'],    #수축:고점->저점\n",
    "         ['2002-12-01','2005-04-01'],\n",
    "         ['2008-01-01','2009-02-01'],\n",
    "         ['2011-08-01','2013-03-01'],\n",
    "         ['2017-09-01','2021-12-01']]  \n",
    "plist = [['1998-08-01','2000-08-01'],    #확장:저점->고점\n",
    "         ['2001-07-01','2002-12-01'],\n",
    "         ['2005-04-01','2008-01-01'],\n",
    "         ['2009-02-01','2011-08-01'],\n",
    "         ['2013-03-01','2017-09-01']]\n",
    "\n",
    "for i in range(len(tlist)):\n",
    "    plt.axvspan(pd.to_datetime(tlist[i][0]), pd.to_datetime(tlist[i][1]), color='#aaaaaa', alpha=0.3)\n",
    "    # plt.axvspan(pd.to_datetime(plist[i][0]), pd.to_datetime(plist[i][1]), color='skyblue', alpha=0.3)\n",
    "    plt.plot(pd.to_datetime(tlist[i][0]), df[df['rdate']==tlist[i][0]]['cli'], color='black', marker=\"*\")\n",
    "    plt.plot(pd.to_datetime(tlist[i][1]), df[df['rdate']==tlist[i][1]]['cli'], color='black', marker=\"*\")  \n",
    "    \n",
    "    plt.plot(pd.to_datetime(df.loc[p_points[i]]['rdate']), df.loc[p_points[i]]['cli'], 'ro')\n",
    "    plt.plot(pd.to_datetime(df.loc[t_points[i]]['rdate']), df.loc[t_points[i]]['cli'], 'bo')\n",
    "    \n",
    "plt.hlines(100, df['rdate'].min(), df['rdate'].max(), color='gray', linestyle='solid', linewidth=3)\n",
    "\n",
    "# plt.subplot(212) \n",
    "# # drawdown.plot(c='blue', label='KOSPI DD', grid=True, legend=True)\n",
    "# # mdd.plot(c='red', label='KOSPI MDD', grid=True, legend=True) \n",
    "# plt.plot(df['rdate'], df['drawdown'], c='blue', label='cli DD') # 낙폭 그래프\n",
    "# plt.plot(df['rdate'], df['mdd'],c='red', label='cli MDD') # 최대 손실 낙폭 그래프 \n",
    "\n",
    "plt.legend()\n",
    "plt.grid()\n",
    "plt.show()\n",
    "# ['2000-08-01', '2001-07-01'] 101.3817 97.12242\n",
    "# ['2002-12-01', '2005-04-01'] 100.3695 98.24312\n",
    "# ['2008-01-01', '2009-02-01'] 99.65656 96.55582\n",
    "# ['2011-08-01', '2013-03-01'] 99.4602 98.39614\n",
    "# ['2017-09-01', '2021-12-01'] 102.2099 98.65558"
   ]
  },
  {
   "cell_type": "code",
   "execution_count": 57,
   "id": "e6df96a3-5308-4144-88fc-18b2ae4bbd9e",
   "metadata": {},
   "outputs": [
    {
     "name": "stdout",
     "output_type": "stream",
     "text": [
      "[(0, 13, -1), (14, 19, -2), (20, 27, 1), (28, 32, 2), (33, 40, -1), (41, 44, -2), (45, 51, 1), (52, 62, 2), (63, 66, 1), (67, 95, 2), (96, 100, -1), (101, 109, -2), (110, 115, 1), (116, 122, 2), (123, 141, -1), (142, 147, -2), (148, 182, 1), (183, 211, 2), (212, 224, -1), (225, 239, -2), (240, 252, 1)]\n"
     ]
    }
   ],
   "source": [
    "cycle = df.iloc[0]['cycle']\n",
    "mlist = []\n",
    "snum = 0\n",
    "for i in range(1, len(df)) :\n",
    "    if  cycle == df.iloc[i]['cycle']:\n",
    "        continue\n",
    "    else :\n",
    "        mlist.append( (snum, i-1, int(df.iloc[i-1]['cycle']))) \n",
    "        cycle = df.iloc[i]['cycle']\n",
    "        snum = i\n",
    "print(mlist)    "
   ]
  },
  {
   "cell_type": "code",
   "execution_count": 58,
   "id": "ee659575-bda9-4cc8-be5d-6cf89408bc8f",
   "metadata": {},
   "outputs": [],
   "source": [
    "# df['rdate'] = df[\"rdate\"].dt.strftime(\"%Y-%m-%d\")\n",
    "df = df.set_index('rdate')"
   ]
  },
  {
   "cell_type": "code",
   "execution_count": 59,
   "id": "b2c415e6-7872-406c-b6f8-8bd3b00e61df",
   "metadata": {},
   "outputs": [
    {
     "data": {
      "image/png": "[encoded data removed]",
      "text/plain": [
       "<Figure size 1872x288 with 1 Axes>"
      ]
     },
     "metadata": {
      "needs_background": "light"
     },
     "output_type": "display_data"
    }
   ],
   "source": [
    "colors = ['','orange','red','blue','skyblue']\n",
    "ax = df[['cli']].plot(figsize=(26,4) )\n",
    "for var in mlist:\n",
    "    ax.axvspan(df.index[var[0]], df.index[var[1]], color=colors[var[2]], alpha=0.5)"
   ]
  },
  {
   "cell_type": "code",
   "execution_count": null,
   "id": "147a2ade-83ca-44d5-823a-d809a498ec50",
   "metadata": {},
   "outputs": [],
   "source": []
  },
  {
   "cell_type": "markdown",
   "id": "9c7fef4c-6216-4dbc-850c-75eefe46bc84",
   "metadata": {},
   "source": [
    "# 국내 경기순환국면"
   ]
  },
  {
   "cell_type": "markdown",
   "id": "3bac2e60-45c3-40fe-bb8f-5b7b81aa2e1b",
   "metadata": {},
   "source": [
    "## 소비자물가지수"
   ]
  },
  {
   "cell_type": "code",
   "execution_count": null,
   "id": "1bfe0a16-fc87-4e68-b5e8-48b69e126d67",
   "metadata": {},
   "outputs": [],
   "source": [
    "cpi_df = pd.read_csv(\"./dataset/소비자물가지수.csv\", sep=\"\\t\", parse_dates=['rdate'])\n",
    "cpi_df.head()"
   ]
  },
  {
   "cell_type": "markdown",
   "id": "d655ace7-9d34-437f-a1b8-071f6ea5afef",
   "metadata": {},
   "source": [
    "## 수출지수"
   ]
  },
  {
   "cell_type": "code",
   "execution_count": null,
   "id": "f70c3743-349f-41ee-af01-709fcb0d0439",
   "metadata": {},
   "outputs": [],
   "source": [
    "exp_df = pd.read_csv(\"./dataset/수출지수.csv\", sep=\"\\t\", parse_dates=['rdate'])\n",
    "exp_df.head()"
   ]
  },
  {
   "cell_type": "code",
   "execution_count": null,
   "id": "14416e63-61c9-42b9-8f23-5aaa69f0d633",
   "metadata": {},
   "outputs": [],
   "source": [
    "cli_df = pd.merge(exp_df, cpi_df, on=\"rdate\")\n",
    "cli_df = cli_df.set_index('rdate')\n",
    "cli_df['yy'] = cli_df.index.year\n",
    "cli_df.head()                  "
   ]
  },
  {
   "cell_type": "code",
   "execution_count": null,
   "id": "39bce8ce-39aa-49f2-859b-2b0146fe39c9",
   "metadata": {},
   "outputs": [],
   "source": [
    "cli_df['cpi_pct'] = cli_df['cpi'].pct_change()\n",
    "cli_df['exp_pct'] = cli_df['exp'].pct_change()\n",
    "cli_df.tail()"
   ]
  },
  {
   "cell_type": "code",
   "execution_count": null,
   "id": "8664658c-27d4-4196-a1d0-0f77aaa9593e",
   "metadata": {},
   "outputs": [],
   "source": [
    "cli_df['yy']"
   ]
  },
  {
   "cell_type": "code",
   "execution_count": null,
   "id": "8f54c75d-eaf6-41d5-ad0c-369d60231842",
   "metadata": {},
   "outputs": [],
   "source": [
    "for y in list(range(2000, 2021, 4)):\n",
    "    print(y)"
   ]
  },
  {
   "cell_type": "code",
   "execution_count": null,
   "id": "4ba70eb3-9ec1-4bf4-a17c-217b922759dd",
   "metadata": {},
   "outputs": [],
   "source": [
    "def my_calc_mean4(df) : \n",
    "    for y in list(range(2000, 2021, 4)):\n",
    "        if (df['yy'] == y) or (df['yy'] == y+1) or (df['yy'] == y+2) or (df['yy'] == y+3):\n",
    "            # print(y , cli_df.loc[str(y-4):str(y-1)]['cpi'].mean())\n",
    "            return cli_df.loc[str(y-4):str(y-1)]['cpi_pct'].mean()     \n",
    "cli_df['cpi_mean4'] = cli_df.apply(lambda df : my_calc_mean4(df), axis=1 )"
   ]
  },
  {
   "cell_type": "code",
   "execution_count": null,
   "id": "d130ee27-5f24-42e6-a5a4-d0325750ae60",
   "metadata": {},
   "outputs": [],
   "source": [
    "def my_calc_mean4(df) : \n",
    "    for y in list(range(2000, 2022, 4)):\n",
    "        if (df['yy'] == y) or (df['yy'] == y+1) or (df['yy'] == y+2) or (df['yy'] == y+3):\n",
    "            return cli_df.loc[str(y-4):str(y-1)]['cpi_pct'].std()     \n",
    "cli_df['cpi_std4'] = cli_df.apply(lambda df : my_calc_mean4(df), axis=1 )"
   ]
  },
  {
   "cell_type": "code",
   "execution_count": null,
   "id": "514cb69e-c832-4633-b241-249347c01718",
   "metadata": {},
   "outputs": [],
   "source": [
    "def my_calc_mean4(df) : \n",
    "    for y in list(range(2000, 2022, 4)):\n",
    "        if (df['yy'] == y) or (df['yy'] == y+1) or (df['yy'] == y+2) or (df['yy'] == y+3):\n",
    "            return cli_df.loc[str(y-4):str(y-1)]['exp_pct'].mean()     \n",
    "cli_df['exp_mean4'] = cli_df.apply(lambda df : my_calc_mean4(df), axis=1 )"
   ]
  },
  {
   "cell_type": "code",
   "execution_count": null,
   "id": "89bd2d91-1311-438e-9a18-925c366bc430",
   "metadata": {},
   "outputs": [],
   "source": [
    "def my_calc_mean4(df) : \n",
    "    for y in list(range(2000, 2022, 4)):\n",
    "        if (df['yy'] == y) or (df['yy'] == y+1) or (df['yy'] == y+2) or (df['yy'] == y+3):\n",
    "            return cli_df.loc[str(y-4):str(y-1)]['exp_pct'].std()     \n",
    "cli_df['exp_std4'] = cli_df.apply(lambda df : my_calc_mean4(df), axis=1 )"
   ]
  },
  {
   "cell_type": "code",
   "execution_count": null,
   "id": "5343071e-3adf-4758-a90a-0357b77af4a3",
   "metadata": {},
   "outputs": [],
   "source": [
    "# for y in list(range(1996, 2022)):\n",
    "#     print(y+4 , y, y+1, y+2, y+3,   cli_df[cli_df['yy'].isin([y, y+1, y+2, y+3])]['cpi'].mean())\n",
    "#     # if cli_df['yy'].any() == y+4 :\n",
    "#     #     cli_df['4y_mean'] = cli_df[cli_df['yy'].isin([y, y+1, y+2, y+3])]['cpi'].mean()"
   ]
  },
  {
   "cell_type": "code",
   "execution_count": null,
   "id": "b7a71ef9-5969-4261-b1c7-3cfdf18d5c0e",
   "metadata": {},
   "outputs": [],
   "source": [
    "cli_df.groupby('yy')['cpi_mean4'].mean()"
   ]
  },
  {
   "cell_type": "code",
   "execution_count": null,
   "id": "abbbe940-ec08-405a-8941-054a4b5dd7e4",
   "metadata": {},
   "outputs": [],
   "source": [
    "cli_df"
   ]
  },
  {
   "cell_type": "code",
   "execution_count": null,
   "id": "46f77de0-b475-4f77-919b-9604517073e8",
   "metadata": {},
   "outputs": [],
   "source": [
    "# cli_df['exp_z'] = cli_df['exp_pct'].rolling(48).mean()/cli_df['exp_pct'].rolling(48).std()\n",
    "# cli_df['cpi_z'] = cli_df['cpi_pct'].rolling(48).mean()/cli_df['cpi_pct'].rolling(48).std()\n",
    "\n",
    "cli_df['exp_z'] = (cli_df['exp_pct'] - cli_df['exp_mean4']) / cli_df['exp_std4']\n",
    "cli_df['cpi_z'] = (cli_df['cpi_pct'] - cli_df['cpi_mean4']) / cli_df['cpi_std4']"
   ]
  },
  {
   "cell_type": "code",
   "execution_count": null,
   "id": "15146841-2c71-4ea0-84f5-ccaec810d8e4",
   "metadata": {},
   "outputs": [],
   "source": [
    "cli_df.dropna(axis=0, inplace=True)\n",
    "cli_df"
   ]
  },
  {
   "cell_type": "code",
   "execution_count": null,
   "id": "b8877da5-627f-4cd3-b6e9-57bf7532d30f",
   "metadata": {},
   "outputs": [],
   "source": [
    "cli_df[['exp_z','cpi_z']].plot()"
   ]
  },
  {
   "cell_type": "code",
   "execution_count": null,
   "id": "fa850685-5fbd-40f5-82b5-98be54d64cec",
   "metadata": {},
   "outputs": [],
   "source": [
    "def my_exp_inc_check(df):\n",
    "    inc = 0\n",
    "    if df['exp_z'] > 0:\n",
    "        inc = 1\n",
    "    else :\n",
    "        inc = 0\n",
    "    return inc\n",
    "cli_df['exp_inc'] = cli_df.apply(lambda df : my_exp_inc_check(df), axis=1)"
   ]
  },
  {
   "cell_type": "code",
   "execution_count": null,
   "id": "e7d6127f-4f9d-44c9-94de-03fb65a64f6e",
   "metadata": {},
   "outputs": [],
   "source": [
    "def my_cpi_inc_check(df):\n",
    "    inc = 0\n",
    "    if df['cpi_z'] > 0:\n",
    "        inc = 1\n",
    "    else :\n",
    "        inc = 0\n",
    "    return inc\n",
    "cli_df['cpi_inc'] = cli_df.apply(lambda df : my_cpi_inc_check(df), axis=1)"
   ]
  },
  {
   "cell_type": "code",
   "execution_count": null,
   "id": "feafa646-c548-4312-ba7c-fa8456699821",
   "metadata": {},
   "outputs": [],
   "source": [
    "cli_df['exp_inc'].value_counts(), cli_df['cpi_inc'].value_counts()"
   ]
  },
  {
   "cell_type": "code",
   "execution_count": null,
   "id": "34328502-f55e-4df8-b3bf-f52774634897",
   "metadata": {},
   "outputs": [],
   "source": [
    "cli_df[['exp_pct','exp_z']].plot()"
   ]
  },
  {
   "cell_type": "code",
   "execution_count": null,
   "id": "e1c80d09-11eb-44cb-b1eb-1ab26371e410",
   "metadata": {},
   "outputs": [],
   "source": [
    "cli_df[['cpi_pct','cpi_z']].plot()"
   ]
  },
  {
   "cell_type": "markdown",
   "id": "60b5d3b1-da4f-41f4-a98e-e30a4667bb4d",
   "metadata": {
    "tags": []
   },
   "source": [
    "# 경기싸이클"
   ]
  },
  {
   "cell_type": "code",
   "execution_count": null,
   "id": "d2cffeb3-256e-4f7a-944b-b7289cc5df37",
   "metadata": {},
   "outputs": [],
   "source": [
    "# 경기국면     경기  물가   설명\n",
    "# -----------------------------------------------------\n",
    "# Recovery     +     ―    경기 상승, 물가 하락\n",
    "# Expansion    +     +    경기 상승, 물가 상승\n",
    "# Slowdown     ―     +    경기 하락, 물가 상승\n",
    "# Contraction  ―     ―    경기 하락, 물가 하락\n",
    "\n",
    "def my_cycle_check(df) :\n",
    "    cycle = 1\n",
    "    if df['exp_inc']==1   and df['cpi_inc']==0:  # Recovery\n",
    "        cycle = 1\n",
    "    elif df['exp_inc']==1 and df['cpi_inc']==1:  # Expansion\n",
    "        cycle = 2\n",
    "    elif df['exp_inc']==0 and df['cpi_inc']==1:  # Slowdown \n",
    "        cycle = -1\n",
    "    elif df['exp_inc']==0 and df['cpi_inc']==0:  # Contraction \n",
    "        cycle = -2\n",
    "    return cycle\n",
    "        \n",
    "cli_df['cycle']  = cli_df.apply(lambda df: my_cycle_check(df), axis=1)"
   ]
  },
  {
   "cell_type": "code",
   "execution_count": null,
   "id": "0d09f0bc-b2a8-4a2d-ab85-c2c72b75277b",
   "metadata": {},
   "outputs": [],
   "source": [
    "cli_df.head(50)"
   ]
  },
  {
   "cell_type": "code",
   "execution_count": null,
   "id": "40449993-d3c6-4737-937f-eb7729fd1c07",
   "metadata": {},
   "outputs": [],
   "source": [
    "cycle = cli_df.iloc[0]['cycle']\n",
    "mlist = []\n",
    "snum = 0\n",
    "for i in range(1, len(cli_df)) :\n",
    "    if  cycle == cli_df.iloc[i]['cycle']:\n",
    "        continue\n",
    "    else :\n",
    "        mlist.append( (snum, i-1, int(cli_df.iloc[i-1]['cycle']))) #(cdf.iloc[snum].index, cdf.iloc[i-1].index) )\n",
    "        cycle = cli_df.iloc[i]['cycle']\n",
    "        snum = i\n",
    "print(mlist)    "
   ]
  },
  {
   "cell_type": "code",
   "execution_count": null,
   "id": "337170d1-2ddf-472e-a4be-62c9c692928a",
   "metadata": {},
   "outputs": [],
   "source": [
    "# cli_df.groupby('cpi_mean4')."
   ]
  },
  {
   "cell_type": "code",
   "execution_count": null,
   "id": "11b7d862-685f-43c2-867c-b2efe3fa59e2",
   "metadata": {},
   "outputs": [],
   "source": [
    "colors = ['','orange','red','blue','skyblue']\n",
    "ax = cli_df[['exp_z']].plot(figsize=(26,4) )\n",
    "for var in mlist:\n",
    "    ax.axvspan(cli_df.index[var[0]], cli_df.index[var[1]], color=colors[var[2]], alpha=0.5)\n",
    "# Recovery     +     ―    경기 상승, 물가 하락\n",
    "# Expansion    +     +    경기 상승, 물가 상승\n",
    "# Slowdown     ―     +    경기 하락, 물가 상승\n",
    "# Contraction  ―     ―    경기 하락, 물가 하락    "
   ]
  },
  {
   "cell_type": "code",
   "execution_count": null,
   "id": "a95eca23-3d9a-42fb-a7ca-650a6996cf39",
   "metadata": {},
   "outputs": [],
   "source": [
    "dfdsfdfdf"
   ]
  },
  {
   "cell_type": "code",
   "execution_count": null,
   "id": "6a47361f-3f28-4df6-b368-a69e2fbe584f",
   "metadata": {},
   "outputs": [],
   "source": [
    "cli_df.to_csv(\"cli_df.csv\")"
   ]
  },
  {
   "cell_type": "code",
   "execution_count": null,
   "id": "63c03fd5-9867-4aee-b3e2-ebca7df3136a",
   "metadata": {},
   "outputs": [],
   "source": [
    "colors = ['','orange','red','skyblue','blue']\n",
    "ax = cli_df[['exp_inc','cpi_inc']].plot(figsize=(26,4))\n",
    "for var in mlist:\n",
    "    ax.axvspan(cli_df.index[var[0]], cli_df.index[var[1]], color=colors[var[2]], alpha=0.5)\n",
    "# 경기국면     exp  cpi  설명\n",
    "# -----------------------------------------------------\n",
    "# Recovery     +     ―    orange\n",
    "# Expansion    +     +    red\n",
    "# Slowdown     ―     +    orange\n",
    "# Contraction  ―     ―    blue"
   ]
  },
  {
   "cell_type": "code",
   "execution_count": null,
   "id": "bc5e240a-b6ce-465d-8ee5-6b96c93b7390",
   "metadata": {},
   "outputs": [],
   "source": [
    "cli_df['cycle'].plot()"
   ]
  },
  {
   "cell_type": "code",
   "execution_count": null,
   "id": "efdb9633-821a-4f7c-9e7e-272813d66c60",
   "metadata": {},
   "outputs": [],
   "source": []
  },
  {
   "cell_type": "code",
   "execution_count": null,
   "id": "2a40fde0-2fc5-4b9c-ba80-75e9b448554e",
   "metadata": {},
   "outputs": [],
   "source": [
    "import FinanceDataReader as fdr\n",
    "\n",
    "nas = fdr.DataReader('NASDAQCOM', data_source='fred')\n",
    "nas.index.names = ['rdate']\n",
    "nas.columns = [\"nasdaq\"]\n",
    "nas.head()"
   ]
  },
  {
   "cell_type": "code",
   "execution_count": null,
   "id": "49674cee-c6ec-4e2d-bcc2-08c449fdcc43",
   "metadata": {},
   "outputs": [],
   "source": [
    "# import plotly.graph_objects as go\n",
    "# from plotly.subplots import make_subplots\n",
    "\n",
    "\n",
    "# fig = make_subplots(specs=[[{\"secondary_y\": True}]])\n",
    "\n",
    "# fig.add_trace(  \n",
    "#     go.Scatter(x=oecd.index, y=oecd['cli'], name=\"OECD CLI\"),\n",
    "#     secondary_y=False,\n",
    "# )\n",
    "# # fig.add_trace(\n",
    "# #     go.Scatter(x=nas.index, y=nas['nasdaq'], name=\"Nasdaq\"),\n",
    "# #     secondary_y=True,\n",
    "# # )\n",
    "\n",
    "# fig.update_layout(\n",
    "#     title_text=\"OECD Amplitude Adjusted CLI\"\n",
    "# )\n",
    "\n",
    "# # Set x-axis title\n",
    "# fig.update_xaxes(title_text=\"Time\")\n",
    "\n",
    "# # Set y-axes titles\n",
    "# fig.update_yaxes(title_text=\"OECD CLI\", secondary_y=False)\n",
    "# # fig.update_yaxes(title_text=\"NasDaq\", secondary_y=True)\n",
    "\n",
    "# fig.show()"
   ]
  },
  {
   "cell_type": "code",
   "execution_count": null,
   "id": "01668cbb-fb28-4273-9582-1ef535efdcbf",
   "metadata": {},
   "outputs": [],
   "source": [
    "# cycle = oecd2.iloc[0]['cycle']\n",
    "# mlist = []\n",
    "# snum = 0\n",
    "# for i in range(1, len(oecd2)) :\n",
    "#     if  cycle == oecd2.iloc[i]['cycle']:\n",
    "#         continue\n",
    "#     else :\n",
    "#         mlist.append( (snum, i-1, int(oecd2.iloc[i]['cycle']))) #(cdf.iloc[snum].index, cdf.iloc[i-1].index) )\n",
    "#         cycle = oecd2.iloc[i]['cycle']\n",
    "#         snum = i\n",
    "# # print(mlist)    "
   ]
  },
  {
   "cell_type": "code",
   "execution_count": null,
   "id": "0f1340fe-4bdd-4580-a3be-5d1efa603e58",
   "metadata": {},
   "outputs": [],
   "source": [
    "\n"
   ]
  },
  {
   "cell_type": "code",
   "execution_count": null,
   "id": "2577ccfc-75bb-43cf-acb4-bdb60a7d1baa",
   "metadata": {},
   "outputs": [],
   "source": []
  },
  {
   "cell_type": "markdown",
   "id": "24b349c3-a93a-4c94-a6ef-34049fe5ad6a",
   "metadata": {},
   "source": [
    "## 경기종합지수(Composite Index) 순환변동치\n",
    "* ref : https://www.index.go.kr/potal/main/EachDtlPageDetail.do?idx_cd=1057"
   ]
  },
  {
   "cell_type": "code",
   "execution_count": null,
   "id": "068ad127-a9b0-4b84-90aa-1ab84f6589fb",
   "metadata": {},
   "outputs": [],
   "source": [
    "cdf = pd.read_csv(\"./dataset/경기지수.csv\", sep=\"\\t\")\n",
    "cdf['rdate'] = pd.to_datetime(cdf['rdate'], format='%Y%m')\n",
    "cdf = cdf.set_index('rdate')\n",
    "cdf.head()"
   ]
  },
  {
   "cell_type": "code",
   "execution_count": null,
   "id": "cbc47148-ab2e-4253-8eb5-e6bf53574ff4",
   "metadata": {},
   "outputs": [],
   "source": [
    "cdf['cci2'] = cdf['cci'].diff()\n",
    "cdf['cli2'] = cdf['cli'].diff()\n",
    "cdf['cpi2'] = cdf['cpi'].diff()"
   ]
  },
  {
   "cell_type": "code",
   "execution_count": null,
   "id": "29bfda9c-a88b-4f24-bcf0-1b61c47b9e29",
   "metadata": {},
   "outputs": [],
   "source": [
    "cdf.head()"
   ]
  },
  {
   "cell_type": "code",
   "execution_count": null,
   "id": "a8f9c24e-f2f9-4843-9b5d-0aae85866364",
   "metadata": {},
   "outputs": [],
   "source": [
    "cdf.head(30)"
   ]
  },
  {
   "cell_type": "code",
   "execution_count": null,
   "id": "87b48a9a-ce66-4f0a-99b9-d88cf413e889",
   "metadata": {},
   "outputs": [],
   "source": [
    "    \n",
    "    "
   ]
  },
  {
   "cell_type": "code",
   "execution_count": null,
   "id": "f71d9f2d-549c-4a11-9831-98e73807dd8a",
   "metadata": {},
   "outputs": [],
   "source": [
    "colors = ['','orange','red','blue','#bbbbbb']\n",
    "ax = cdf[['cli2','cpi2']].plot(figsize=(26,4))\n",
    "for var in mlist:\n",
    "    ax.axvspan(cdf.index[var[0]], cdf.index[var[1]], color=colors[var[2]], alpha=0.5)\n",
    "    \n",
    "    \n",
    "# a2 = ax.axvspan('2010-04-01', '2010-05-01', color='#bbbbbb', alpha=0.5)\n",
    "# a3 = ax.axvspan('2010-06-01', '2010-07-01', color='orange', alpha=0.5)\n",
    "# a4 = ax.axvspan('2010-08-01', '2010-10-01', color='pink', alpha=0.5)\n"
   ]
  },
  {
   "cell_type": "code",
   "execution_count": null,
   "id": "e6dddd50-d0a2-43b4-8b8e-686eb42d6621",
   "metadata": {},
   "outputs": [],
   "source": [
    "# ddf = pd.DataFrame( {'rdate':pd.date_range('1972-03-01', '2021-12-31', freq='MS'), 'cycle':1})\n",
    "ddf.to_csv(\"./dataset/경기변동일2.csv\")\n",
    "# ddf = ddf.set_index('rdate')\n",
    "# ddf.tail()"
   ]
  },
  {
   "cell_type": "code",
   "execution_count": null,
   "id": "0a41462b-68c0-4160-b621-9ca602841ab2",
   "metadata": {},
   "outputs": [],
   "source": [
    "df = pd.merge(cdf, ddf,  left_index=True, right_index=True, how='left')\n",
    "df.head()"
   ]
  },
  {
   "cell_type": "code",
   "execution_count": null,
   "id": "f2a87ff4-f8a5-43e8-92fa-a13f64c3e0c4",
   "metadata": {},
   "outputs": [],
   "source": [
    "dd = pd.DataFrame( {'rdate':pd.date_range('1972-03-01', '2021-12-31', freq='MS'), 'cycle':1})\n",
    "dd.to_csv(\"ddd.csv\")"
   ]
  },
  {
   "cell_type": "code",
   "execution_count": null,
   "id": "922f838f-32f4-4bf6-ad1d-ef92a846c60b",
   "metadata": {},
   "outputs": [],
   "source": [
    "# 미국기준순환일\n",
    "p_date = ['1990-07-01','2001-03-01','2007-12-01','2020-02-01']\n",
    "t_date = ['1991-03-01','2001-11-01','2009-06-01','2020-04-01']"
   ]
  },
  {
   "cell_type": "markdown",
   "id": "24c3382e-8615-41c3-8b94-83c5813afb04",
   "metadata": {},
   "source": [
    "# OECD경기선행지표(Composite Leading Indicator, CLI)"
   ]
  },
  {
   "cell_type": "markdown",
   "id": "48ba3d05-8d19-4ff0-9f44-f3c48d5fbc7b",
   "metadata": {},
   "source": [
    "* [OECD CLI] : https://data.oecd.org/api/sdmx-json-documentation/\n",
    "* [AA CLI] : https://data.nasdaq.com/data/OECD/MEI_CLI_LOLITOAA_USA_M-amplitude-adjusted-cli-united-states\n",
    "* [CLI.csv] : https://data.oecd.org/leadind/composite-leading-indicator-cli.htm\n",
    "* [기준순환점] : https://www.nber.org/research/data/us-business-cycle-expansions-and-contractions"
   ]
  },
  {
   "cell_type": "markdown",
   "id": "96d0bc66-7a03-41a3-8530-8b76594083ac",
   "metadata": {},
   "source": [
    "## Amplitude Adjusted (Cli), United States\n",
    "* 추세 복원 지수(The trend restored CLI) \n",
    "    * 경기순환 지표에 장기추세를 복원한 원지수\n",
    "* 연율 변동 지수(The 12-month rate of change of the CLI) \n",
    "    * 추세 복원 지수(The trend restored CLI)의 전년동월 대비 증가율로 경기순환 예측 지표\n",
    "* <b>진폭 조정 지수(The amplitude adjusted CLI) </b>\n",
    "    * OECD에서 제공되는 경기선행지수 가운데 가장 일반적으로 사용\n",
    "    * 장기추세를 제거하고 최근 수치에 가중치를 두는 지수\n",
    "    * 경기순환(business cycle)의 단계는 다음과 같이 분류\n",
    "    * 2단계 분류\n",
    "        * 확장(기준선 100pt 상회)\n",
    "        * 위축(기준선 100pt 하회)\n",
    "        * 경기 저점과 고점에 대한 기준순환점을 시후적으로 공표\n",
    "    * 4단계 분류: \n",
    "        * 확장(expansion)- 100pt 상회 + 상승 추이 \n",
    "        * 둔화(slow down)- 100pt 상회 + 하락 추이\n",
    "        * 위축(recession)- 100pt 하회 + 하락 추이 \n",
    "        * 회복(recovery) - 100pt 하회 + 상승 추이\n",
    "        * 4단계 분류상 기준순환점을 공식적으로 발표하지는 않음<br><br>"
   ]
  },
  {
   "cell_type": "code",
   "execution_count": null,
   "id": "69472d2e-263f-4c46-aac4-55ab6dc1dbe3",
   "metadata": {},
   "outputs": [],
   "source": [
    "oecd = pd.read_csv(\"./dataset/OECD_AA_CLI.csv\")\n",
    "oecd['rdate'] = pd.to_datetime(oecd['rdate'])\n",
    "oecd = oecd.set_index(\"rdate\")\n",
    "oecd.head()"
   ]
  },
  {
   "cell_type": "code",
   "execution_count": null,
   "id": "ae8fe64f-c86c-465e-8b8d-e176980a11c4",
   "metadata": {},
   "outputs": [],
   "source": [
    "p_date = ['2001-03-31','2007-12-31','2020-02-29']\n",
    "t_date = ['2001-11-30','2009-06-30','2020-04-30']\n",
    "pt_dates = []\n",
    "for pair in zip(p_date, t_date):\n",
    "    pt_dates.append(pair)\n",
    "print(pt_dates)\n",
    "\n",
    "colors = ['','orange','red','blue','#bbbbbb']\n",
    "oecd['cli'].plot(figsize=(26,4))\n",
    "plt.hlines(100, oecd.index.min(), oecd.index.max(), color='gray', linestyle='solid', linewidth=3)\n",
    "for p in p_date:\n",
    "    plt.plot(pd.to_datetime(p), oecd.loc[p], 'r^')\n",
    "for t in t_date:\n",
    "    plt.plot(pd.to_datetime(t), oecd.loc[t], 'bv')\n",
    "plt.grid()\n",
    "plt.show()\n",
    "\n"
   ]
  },
  {
   "cell_type": "markdown",
   "id": "58d37b01-2634-4eac-9310-2a469ecee100",
   "metadata": {},
   "source": [
    "## OECD CLI"
   ]
  },
  {
   "cell_type": "code",
   "execution_count": null,
   "id": "4e1b184f-4e6c-46dd-bac0-9c4bca5eab87",
   "metadata": {},
   "outputs": [],
   "source": [
    "oecd = pd.read_csv(\"./dataset/OECD_CLI.csv\")\n",
    "oecd = oecd[oecd['LOCATION']=='USA'][['TIME','Value']]\n",
    "oecd.columns = ['rdate','cli']\n",
    "oecd['rdate'] = pd.to_datetime(oecd['rdate'], format='%Y-%m-%d')\n",
    "oecd = oecd.set_index(\"rdate\")\n",
    "oecd.head()"
   ]
  },
  {
   "cell_type": "code",
   "execution_count": null,
   "id": "a6923229-61f2-40c0-9a39-e824fefd69b0",
   "metadata": {},
   "outputs": [],
   "source": [
    "oecd[oecd.index.values == pd.to_datetime('2001-03-01')]"
   ]
  },
  {
   "cell_type": "code",
   "execution_count": null,
   "id": "16d97992-46e4-41af-bc6b-6a45d8f04939",
   "metadata": {},
   "outputs": [],
   "source": [
    "pd.to_datetime('2001-03-01'),  oecd.loc['2001-03-01']"
   ]
  },
  {
   "cell_type": "code",
   "execution_count": null,
   "id": "fb1f780c-1b03-4d1d-a762-f52bc13a0ffc",
   "metadata": {},
   "outputs": [],
   "source": [
    "p_date = ['2001-03-01','2007-12-01','2020-02-01']\n",
    "t_date = ['2001-11-01','2009-06-01','2020-04-01']\n",
    "\n",
    "pt_dates = []\n",
    "for pair in zip(p_date, t_date):\n",
    "    pt_dates.append(pair)\n",
    "print(pt_dates)\n",
    "oecd['cli'].plot(figsize=(26,4))\n",
    "for p in p_date:\n",
    "    plt.plot(pd.to_datetime('2001-03-01'), oecd.loc[p], 'r^')\n",
    "for t in t_date:\n",
    "    plt.plot(pd.to_datetime(t), oecd.loc[t], 'bv')\n",
    "    \n",
    "    "
   ]
  }
 ],
 "metadata": {
  "kernelspec": {
   "display_name": "Python 3 (ipykernel)",
   "language": "python",
   "name": "python3"
  },
  "language_info": {
   "codemirror_mode": {
    "name": "ipython",
    "version": 3
   },
   "file_extension": ".py",
   "mimetype": "text/x-python",
   "name": "python",
   "nbconvert_exporter": "python",
   "pygments_lexer": "ipython3",
   "version": "3.8.8"
  },
  "widgets": {
   "application/vnd.jupyter.widget-state+json": {
    "state": {},
    "version_major": 2,
    "version_minor": 0
   }
  }
 },
 "nbformat": 4,
 "nbformat_minor": 5
}

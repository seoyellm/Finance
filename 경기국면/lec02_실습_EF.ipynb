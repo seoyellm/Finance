{
 "cells": [
  {
   "cell_type": "markdown",
   "id": "5cd9d56c-fbda-4fb5-9dba-f15f814be85f",
   "metadata": {},
   "source": [
    "<font size=6><b>[실습] Efficient Frontier"
   ]
  },
  {
   "cell_type": "markdown",
   "id": "5cc68c6f-e8e3-4c8c-90ae-12d17af12393",
   "metadata": {},
   "source": [
    "* Efficient Frontier(효율적 투자선) \n",
    "    * 서로 다른 위험-수익률로 구성된 종목들 중 지배원리에 따라 가장 우수한 종목들을 연결한 선\n",
    "* 지배원리\n",
    "    * 같은 위험 하에서 기대수익률이 높은 종목이 기대수익률이 낮은 종목을 지배한다는 원리\n",
    "    * 기대수익률이 같을 경우는 낮은 위험이 우수\n",
    "* <font color=red>포트폴리오 비중을 어떻게 구성하느냐에 따라 더 높은 수익률과 더 낮은 위험을 기대할 수 있다"
   ]
  },
  {
   "cell_type": "code",
   "execution_count": 1,
   "id": "290023e2-ae42-480b-b97f-2aa2a0c7339a",
   "metadata": {},
   "outputs": [],
   "source": [
    "import numpy as np\n",
    "import pandas as pd\n",
    "import matplotlib.pyplot as plt\n",
    "import statsmodels.api as sm\n",
    "import scipy, scipy.stats\n",
    "from pandas_datareader import data as pdr\n",
    "import yfinance as yf\n",
    "yf.pdr_override()\n",
    "\n",
    "\n",
    "import warnings\n",
    "warnings.filterwarnings(action='ignore')"
   ]
  },
  {
   "cell_type": "markdown",
   "id": "b047ac41-5641-4619-936c-6ab3289ca704",
   "metadata": {},
   "source": [
    "# Data load"
   ]
  },
  {
   "cell_type": "code",
   "execution_count": 2,
   "id": "63d1ce92-3ee5-456a-adf0-03c249813ef0",
   "metadata": {},
   "outputs": [
    {
     "name": "stdout",
     "output_type": "stream",
     "text": [
      "[*********************100%***********************]  1 of 1 completed\n",
      "[*********************100%***********************]  1 of 1 completed\n",
      "[*********************100%***********************]  1 of 1 completed\n"
     ]
    },
    {
     "data": {
      "text/html": [
       "<div>\n",
       "<style scoped>\n",
       "    .dataframe tbody tr th:only-of-type {\n",
       "        vertical-align: middle;\n",
       "    }\n",
       "\n",
       "    .dataframe tbody tr th {\n",
       "        vertical-align: top;\n",
       "    }\n",
       "\n",
       "    .dataframe thead th {\n",
       "        text-align: right;\n",
       "    }\n",
       "</style>\n",
       "<table border=\"1\" class=\"dataframe\">\n",
       "  <thead>\n",
       "    <tr style=\"text-align: right;\">\n",
       "      <th></th>\n",
       "      <th>aapl</th>\n",
       "      <th>gld</th>\n",
       "      <th>nasdaq</th>\n",
       "    </tr>\n",
       "    <tr>\n",
       "      <th>Date</th>\n",
       "      <th></th>\n",
       "      <th></th>\n",
       "      <th></th>\n",
       "    </tr>\n",
       "  </thead>\n",
       "  <tbody>\n",
       "    <tr>\n",
       "      <th>2012-01-04</th>\n",
       "      <td>0.005374</td>\n",
       "      <td>0.005067</td>\n",
       "      <td>0.001697</td>\n",
       "    </tr>\n",
       "    <tr>\n",
       "      <th>2012-01-05</th>\n",
       "      <td>0.011102</td>\n",
       "      <td>0.006828</td>\n",
       "      <td>-0.000219</td>\n",
       "    </tr>\n",
       "    <tr>\n",
       "      <th>2012-01-06</th>\n",
       "      <td>0.010454</td>\n",
       "      <td>-0.003676</td>\n",
       "      <td>-0.004493</td>\n",
       "    </tr>\n",
       "    <tr>\n",
       "      <th>2012-01-09</th>\n",
       "      <td>-0.001586</td>\n",
       "      <td>-0.004453</td>\n",
       "      <td>0.002651</td>\n",
       "    </tr>\n",
       "    <tr>\n",
       "      <th>2012-01-10</th>\n",
       "      <td>0.003580</td>\n",
       "      <td>0.013674</td>\n",
       "      <td>0.005631</td>\n",
       "    </tr>\n",
       "  </tbody>\n",
       "</table>\n",
       "</div>"
      ],
      "text/plain": [
       "                aapl       gld    nasdaq\n",
       "Date                                    \n",
       "2012-01-04  0.005374  0.005067  0.001697\n",
       "2012-01-05  0.011102  0.006828 -0.000219\n",
       "2012-01-06  0.010454 -0.003676 -0.004493\n",
       "2012-01-09 -0.001586 -0.004453  0.002651\n",
       "2012-01-10  0.003580  0.013674  0.005631"
      ]
     },
     "execution_count": 2,
     "metadata": {},
     "output_type": "execute_result"
    }
   ],
   "source": [
    "sdate = \"2012-01-01\"\n",
    "edate = \"2021-12-31\"\n",
    "df1 = yf.download('AAPL',sdate, edate)['Close']\n",
    "df2 = yf.download('GLD', sdate, edate)['Close']\n",
    "df3 = yf.download('^DJI',sdate, edate)['Close']\n",
    "df  = pd.concat([df1, df2, df3 ], axis=1)\n",
    "df.columns = [\"aapl\",\"gld\",\"nasdaq\"]\n",
    "df = df.dropna()\n",
    "ret = df.pct_change().dropna()\n",
    "ret.head()"
   ]
  },
  {
   "cell_type": "markdown",
   "id": "cb43dc16-2010-4f8b-bbad-df9e879bd1cd",
   "metadata": {},
   "source": [
    "# 가격추이"
   ]
  },
  {
   "cell_type": "code",
   "execution_count": 3,
   "id": "9468ea34-5e1f-4682-b785-f312b81b5f33",
   "metadata": {},
   "outputs": [
    {
     "data": {
      "text/html": [
       "<div>\n",
       "<style scoped>\n",
       "    .dataframe tbody tr th:only-of-type {\n",
       "        vertical-align: middle;\n",
       "    }\n",
       "\n",
       "    .dataframe tbody tr th {\n",
       "        vertical-align: top;\n",
       "    }\n",
       "\n",
       "    .dataframe thead th {\n",
       "        text-align: right;\n",
       "    }\n",
       "</style>\n",
       "<table border=\"1\" class=\"dataframe\">\n",
       "  <thead>\n",
       "    <tr style=\"text-align: right;\">\n",
       "      <th></th>\n",
       "      <th>aapl</th>\n",
       "      <th>gld</th>\n",
       "      <th>nasdaq</th>\n",
       "    </tr>\n",
       "    <tr>\n",
       "      <th>Date</th>\n",
       "      <th></th>\n",
       "      <th></th>\n",
       "      <th></th>\n",
       "    </tr>\n",
       "  </thead>\n",
       "  <tbody>\n",
       "    <tr>\n",
       "      <th>2012-01-03</th>\n",
       "      <td>14.686786</td>\n",
       "      <td>155.919998</td>\n",
       "      <td>12397.379883</td>\n",
       "    </tr>\n",
       "    <tr>\n",
       "      <th>2012-01-04</th>\n",
       "      <td>14.765714</td>\n",
       "      <td>156.710007</td>\n",
       "      <td>12418.419922</td>\n",
       "    </tr>\n",
       "    <tr>\n",
       "      <th>2012-01-05</th>\n",
       "      <td>14.929643</td>\n",
       "      <td>157.779999</td>\n",
       "      <td>12415.700195</td>\n",
       "    </tr>\n",
       "    <tr>\n",
       "      <th>2012-01-06</th>\n",
       "      <td>15.085714</td>\n",
       "      <td>157.199997</td>\n",
       "      <td>12359.919922</td>\n",
       "    </tr>\n",
       "    <tr>\n",
       "      <th>2012-01-09</th>\n",
       "      <td>15.061786</td>\n",
       "      <td>156.500000</td>\n",
       "      <td>12392.690430</td>\n",
       "    </tr>\n",
       "  </tbody>\n",
       "</table>\n",
       "</div>"
      ],
      "text/plain": [
       "                 aapl         gld        nasdaq\n",
       "Date                                           \n",
       "2012-01-03  14.686786  155.919998  12397.379883\n",
       "2012-01-04  14.765714  156.710007  12418.419922\n",
       "2012-01-05  14.929643  157.779999  12415.700195\n",
       "2012-01-06  15.085714  157.199997  12359.919922\n",
       "2012-01-09  15.061786  156.500000  12392.690430"
      ]
     },
     "execution_count": 3,
     "metadata": {},
     "output_type": "execute_result"
    }
   ],
   "source": [
    "df.head()"
   ]
  },
  {
   "cell_type": "markdown",
   "id": "0285a3a6-dab3-4725-9ba7-0c82b47688d2",
   "metadata": {},
   "source": [
    "# 가격추이"
   ]
  },
  {
   "cell_type": "code",
   "execution_count": 4,
   "id": "9c5fbbae-f2ce-49c9-ad14-a98fda9f05f8",
   "metadata": {},
   "outputs": [
    {
     "data": {
      "image/png": "[encoded data removed]",
      "text/plain": [
       "<Figure size 432x288 with 1 Axes>"
      ]
     },
     "metadata": {
      "needs_background": "light"
     },
     "output_type": "display_data"
    }
   ],
   "source": [
    "(df / df.iloc[0]*100).plot()\n",
    "plt.show()"
   ]
  },
  {
   "cell_type": "markdown",
   "id": "8fd6b47b-43c9-4651-9821-50e1c1684e1a",
   "metadata": {},
   "source": [
    "# 최소분산포트폴리오(Minimum Volatility Portfolio, MVP)"
   ]
  },
  {
   "cell_type": "markdown",
   "id": "785c132b-d38d-48b1-bfc2-a50b73eae680",
   "metadata": {},
   "source": [
    "## 비중"
   ]
  },
  {
   "cell_type": "code",
   "execution_count": 5,
   "id": "9ebc387a-cfef-47ca-88a4-44749930e47d",
   "metadata": {},
   "outputs": [
    {
     "name": "stdout",
     "output_type": "stream",
     "text": [
      "[0.03400342 0.37431729 0.59167928]\n"
     ]
    }
   ],
   "source": [
    "w = np.random.random(len(df.columns)) \n",
    "w = w / np.sum(w) \n",
    "print(w)"
   ]
  },
  {
   "cell_type": "markdown",
   "id": "02900e9c-efba-45ac-9a60-e3f6157e3a17",
   "metadata": {},
   "source": [
    "## 연간수익률"
   ]
  },
  {
   "cell_type": "code",
   "execution_count": 6,
   "id": "62591e88-0ff1-4d09-8998-8cab0ca234df",
   "metadata": {},
   "outputs": [
    {
     "name": "stdout",
     "output_type": "stream",
     "text": [
      "수익률:0.08876902412325394\n"
     ]
    }
   ],
   "source": [
    "pmean = np.sum(w*ret.mean())*250\n",
    "print(f\"수익률:{pmean}\")"
   ]
  },
  {
   "cell_type": "markdown",
   "id": "c6d4284d-6590-483d-b0ae-275822be1f00",
   "metadata": {},
   "source": [
    "## 위험"
   ]
  },
  {
   "cell_type": "code",
   "execution_count": 7,
   "id": "f8fffba2-821d-4694-b2f5-eaab4ce36341",
   "metadata": {},
   "outputs": [
    {
     "name": "stdout",
     "output_type": "stream",
     "text": [
      "분산:0.014070676119772613 , 편차:0.11861988079480021\n"
     ]
    }
   ],
   "source": [
    "pvar = np.dot(w.T,np.dot(ret.cov()*250, w))\n",
    "pstd = np.sqrt(pvar)\n",
    "print(f\"분산:{pvar} , 편차:{pstd}\")"
   ]
  },
  {
   "cell_type": "markdown",
   "id": "79153957-c0db-4413-88c0-6ff46778d736",
   "metadata": {},
   "source": [
    "## 임의 포트폴리오 수익률 "
   ]
  },
  {
   "cell_type": "code",
   "execution_count": 8,
   "id": "c17c34fe-6684-4bf8-acd4-425f09db9a7f",
   "metadata": {},
   "outputs": [
    {
     "data": {
      "image/png": "[encoded data removed]",
      "text/plain": [
       "<Figure size 432x288 with 1 Axes>"
      ]
     },
     "metadata": {
      "needs_background": "light"
     },
     "output_type": "display_data"
    }
   ],
   "source": [
    "noa = len(df.columns)\n",
    "ret_list     = []\n",
    "risk_list    = []\n",
    "sharp_list   = []\n",
    "weight_list  = []\n",
    "for w in range(1000):\n",
    "    w = np.random.random(len(df.columns)) \n",
    "    w /= np.sum(w)\n",
    "    \n",
    "    mean = np.sum(w*ret.mean())*250\n",
    "    std  = np.sqrt(np.dot(w.T,np.dot(ret.cov()*250, w)) )\n",
    "    ret_list.append(mean)\n",
    "    risk_list.append(std)\n",
    "    sharp_list.append(mean / std) \n",
    "    weight_list.append(w)\n",
    "plt.scatter(risk_list, ret_list)\n",
    "\n",
    "plt.xlabel(\"risk\")\n",
    "plt.ylabel(\"E(r)\")\n",
    "plt.show()"
   ]
  },
  {
   "cell_type": "markdown",
   "id": "54bf3609-534d-4e05-b61c-8291d0747ad5",
   "metadata": {},
   "source": [
    "## 포트폴리오 평가 : 샤프지수(Sharpe Ratio)\n",
    "* 리스크(std) vs 수익률(mean) 관계\n",
    "* 포트폴리오 내에서 인내할 있는 리스크 대비 최대 수익률\n",
    "* 샤프 =  (수익률-무위험수익률)/표준편차(리스크)"
   ]
  },
  {
   "cell_type": "code",
   "execution_count": 9,
   "id": "f6c77567-b157-47fb-9299-1f59a3bbe6e2",
   "metadata": {},
   "outputs": [],
   "source": [
    " #"
   ]
  },
  {
   "cell_type": "markdown",
   "id": "98e491d6-c56a-4576-87fa-51154b6ccecc",
   "metadata": {},
   "source": [
    "## 최적화 해 찾기\n",
    "* SLSQP(Sequential Least SQuares Programming)\n",
    "    * 복잡한 현실 문제를 단순화해 목적함수를 이차식으로 근사해 풀고 다음 번 지점을 예측해 다시 동일한 방법을 수행하는 문제를 푸는 알고리즘\n",
    "    * 비선형 최적화 해 찾기에 일반적으로 사용 \n",
    "    * 제약조건(constraint)과 상하한선(bound) 필요"
   ]
  },
  {
   "cell_type": "code",
   "execution_count": 10,
   "id": "602ec1c3-68a7-4cb9-9377-4e9b857ab095",
   "metadata": {},
   "outputs": [],
   "source": [
    "# scipy.optimize.minimize(\n",
    "#     fun,               #목적함수\n",
    "#     x0,                #초깃값\n",
    "#     args=( ),          #목적함수 파라미터\n",
    "#     method=None,       #최적화메서드, 일반적으로  SLSQP  사용\n",
    "#     bounds=None,       #경계값\n",
    "#     constraints=( ),   #제약조건\n",
    "#     jac=None, hess=None, hessp=None,\n",
    "#     tol=None, callback=None, options=None )"
   ]
  },
  {
   "cell_type": "markdown",
   "id": "dcb6fc40-7337-42ae-b526-23b3987cf55d",
   "metadata": {},
   "source": [
    "* 연습"
   ]
  },
  {
   "cell_type": "code",
   "execution_count": 11,
   "id": "63e172ec-aa4c-4ca9-91be-2fec9d69c4ec",
   "metadata": {},
   "outputs": [
    {
     "name": "stdout",
     "output_type": "stream",
     "text": [
      "[3.]\n"
     ]
    }
   ],
   "source": [
    "from scipy.optimize import minimize\n",
    "\n",
    "def my_objfunc( x ):   \n",
    "    return x + 1        #목적함수 : y=x+1\n",
    "\n",
    "x0  = [ 1 ]             #초기값 : 1\n",
    "\n",
    "b   = ( 2, 5 )          #해의범위 : 2,3,4,5\n",
    "bnd = ( b, )\n",
    "\n",
    "\n",
    "def my_constraint( x ):\n",
    "    return x-3         #제약조건 : x>=3\n",
    "con = { 'type':'ineq', 'fun':my_constraint }\n",
    "\n",
    "sol = minimize( my_objfunc, x0, method='SLSQP', bounds=bnd, constraints=con ) #최적화\n",
    "print( sol.x )         #해의범위 중 목적함수y를 최적화(minimize)하는 x"
   ]
  },
  {
   "cell_type": "markdown",
   "id": "4a78782e-099c-4e43-8d61-25f9e4138e3d",
   "metadata": {},
   "source": [
    "## SLSQP 사용"
   ]
  },
  {
   "cell_type": "code",
   "execution_count": 22,
   "id": "a526606a-2084-4440-a73e-4a9d08dda538",
   "metadata": {},
   "outputs": [
    {
     "ename": "ValueError",
     "evalue": "operands could not be broadcast together with shapes (3000,) (3,) (3,) ",
     "output_type": "error",
     "traceback": [
      "\u001b[1;31m---------------------------------------------------------------------------\u001b[0m",
      "\u001b[1;31mValueError\u001b[0m                                Traceback (most recent call last)",
      "Input \u001b[1;32mIn [22]\u001b[0m, in \u001b[0;36m<cell line: 10>\u001b[1;34m()\u001b[0m\n\u001b[0;32m      7\u001b[0m bnds \u001b[38;5;241m=\u001b[39m ( (\u001b[38;5;241m0\u001b[39m,\u001b[38;5;241m1\u001b[39m), (\u001b[38;5;241m0\u001b[39m,\u001b[38;5;241m1\u001b[39m), (\u001b[38;5;241m0\u001b[39m,\u001b[38;5;241m1\u001b[39m) )                           \u001b[38;5;66;03m#투자비중한도: 0~100%\u001b[39;00m\n\u001b[0;32m      8\u001b[0m cons \u001b[38;5;241m=\u001b[39m ({ \u001b[38;5;124m'\u001b[39m\u001b[38;5;124mtype\u001b[39m\u001b[38;5;124m'\u001b[39m: \u001b[38;5;124m'\u001b[39m\u001b[38;5;124meq\u001b[39m\u001b[38;5;124m'\u001b[39m, \u001b[38;5;124m'\u001b[39m\u001b[38;5;124mfun\u001b[39m\u001b[38;5;124m'\u001b[39m: \u001b[38;5;28;01mlambda\u001b[39;00m x: np\u001b[38;5;241m.\u001b[39msum(x)\u001b[38;5;241m-\u001b[39m\u001b[38;5;241m1\u001b[39m })  \u001b[38;5;66;03m#제약조건: 투자 비중 100%(무차입투자)\u001b[39;00m\n\u001b[1;32m---> 10\u001b[0m res \u001b[38;5;241m=\u001b[39m \u001b[43mminimize\u001b[49m\u001b[43m(\u001b[49m\u001b[43m \u001b[49m\u001b[43mmy_objfunc\u001b[49m\u001b[43m,\u001b[49m\u001b[43m \u001b[49m\u001b[43mw\u001b[49m\u001b[43m,\u001b[49m\u001b[43m \u001b[49m\u001b[43mmethod\u001b[49m\u001b[38;5;241;43m=\u001b[39;49m\u001b[38;5;124;43m'\u001b[39;49m\u001b[38;5;124;43mSLSQP\u001b[39;49m\u001b[38;5;124;43m'\u001b[39;49m\u001b[43m,\u001b[49m\u001b[43m \u001b[49m\u001b[43mbounds\u001b[49m\u001b[38;5;241;43m=\u001b[39;49m\u001b[43mbnds\u001b[49m\u001b[43m,\u001b[49m\u001b[43m \u001b[49m\u001b[43mconstraints\u001b[49m\u001b[38;5;241;43m=\u001b[39;49m\u001b[43mcons\u001b[49m\u001b[43m \u001b[49m\u001b[43m)\u001b[49m\n\u001b[0;32m     11\u001b[0m \u001b[38;5;28mprint\u001b[39m( res )\n",
      "File \u001b[1;32mc:\\ai\\pythonproject7\\venv\\lib\\site-packages\\scipy\\optimize\\_minimize.py:625\u001b[0m, in \u001b[0;36mminimize\u001b[1;34m(fun, x0, args, method, jac, hess, hessp, bounds, constraints, tol, callback, options)\u001b[0m\n\u001b[0;32m    623\u001b[0m     \u001b[38;5;28;01mreturn\u001b[39;00m _minimize_cobyla(fun, x0, args, constraints, \u001b[38;5;241m*\u001b[39m\u001b[38;5;241m*\u001b[39moptions)\n\u001b[0;32m    624\u001b[0m \u001b[38;5;28;01melif\u001b[39;00m meth \u001b[38;5;241m==\u001b[39m \u001b[38;5;124m'\u001b[39m\u001b[38;5;124mslsqp\u001b[39m\u001b[38;5;124m'\u001b[39m:\n\u001b[1;32m--> 625\u001b[0m     \u001b[38;5;28;01mreturn\u001b[39;00m \u001b[43m_minimize_slsqp\u001b[49m\u001b[43m(\u001b[49m\u001b[43mfun\u001b[49m\u001b[43m,\u001b[49m\u001b[43m \u001b[49m\u001b[43mx0\u001b[49m\u001b[43m,\u001b[49m\u001b[43m \u001b[49m\u001b[43margs\u001b[49m\u001b[43m,\u001b[49m\u001b[43m \u001b[49m\u001b[43mjac\u001b[49m\u001b[43m,\u001b[49m\u001b[43m \u001b[49m\u001b[43mbounds\u001b[49m\u001b[43m,\u001b[49m\n\u001b[0;32m    626\u001b[0m \u001b[43m                           \u001b[49m\u001b[43mconstraints\u001b[49m\u001b[43m,\u001b[49m\u001b[43m \u001b[49m\u001b[43mcallback\u001b[49m\u001b[38;5;241;43m=\u001b[39;49m\u001b[43mcallback\u001b[49m\u001b[43m,\u001b[49m\u001b[43m \u001b[49m\u001b[38;5;241;43m*\u001b[39;49m\u001b[38;5;241;43m*\u001b[39;49m\u001b[43moptions\u001b[49m\u001b[43m)\u001b[49m\n\u001b[0;32m    627\u001b[0m \u001b[38;5;28;01melif\u001b[39;00m meth \u001b[38;5;241m==\u001b[39m \u001b[38;5;124m'\u001b[39m\u001b[38;5;124mtrust-constr\u001b[39m\u001b[38;5;124m'\u001b[39m:\n\u001b[0;32m    628\u001b[0m     \u001b[38;5;28;01mreturn\u001b[39;00m _minimize_trustregion_constr(fun, x0, args, jac, hess, hessp,\n\u001b[0;32m    629\u001b[0m                                         bounds, constraints,\n\u001b[0;32m    630\u001b[0m                                         callback\u001b[38;5;241m=\u001b[39mcallback, \u001b[38;5;241m*\u001b[39m\u001b[38;5;241m*\u001b[39moptions)\n",
      "File \u001b[1;32mc:\\ai\\pythonproject7\\venv\\lib\\site-packages\\scipy\\optimize\\slsqp.py:318\u001b[0m, in \u001b[0;36m_minimize_slsqp\u001b[1;34m(func, x0, args, jac, bounds, constraints, maxiter, ftol, iprint, disp, eps, callback, finite_diff_rel_step, **unknown_options)\u001b[0m\n\u001b[0;32m    315\u001b[0m     new_bounds \u001b[38;5;241m=\u001b[39m old_bound_to_new(bounds)\n\u001b[0;32m    317\u001b[0m \u001b[38;5;66;03m# clip the initial guess to bounds, otherwise ScalarFunction doesn't work\u001b[39;00m\n\u001b[1;32m--> 318\u001b[0m x \u001b[38;5;241m=\u001b[39m \u001b[43mnp\u001b[49m\u001b[38;5;241;43m.\u001b[39;49m\u001b[43mclip\u001b[49m\u001b[43m(\u001b[49m\u001b[43mx\u001b[49m\u001b[43m,\u001b[49m\u001b[43m \u001b[49m\u001b[43mnew_bounds\u001b[49m\u001b[43m[\u001b[49m\u001b[38;5;241;43m0\u001b[39;49m\u001b[43m]\u001b[49m\u001b[43m,\u001b[49m\u001b[43m \u001b[49m\u001b[43mnew_bounds\u001b[49m\u001b[43m[\u001b[49m\u001b[38;5;241;43m1\u001b[39;49m\u001b[43m]\u001b[49m\u001b[43m)\u001b[49m\n\u001b[0;32m    320\u001b[0m \u001b[38;5;66;03m# Set the parameters that SLSQP will need\u001b[39;00m\n\u001b[0;32m    321\u001b[0m \u001b[38;5;66;03m# meq, mieq: number of equality and inequality constraints\u001b[39;00m\n\u001b[0;32m    322\u001b[0m meq \u001b[38;5;241m=\u001b[39m \u001b[38;5;28msum\u001b[39m(\u001b[38;5;28mmap\u001b[39m(\u001b[38;5;28mlen\u001b[39m, [atleast_1d(c[\u001b[38;5;124m'\u001b[39m\u001b[38;5;124mfun\u001b[39m\u001b[38;5;124m'\u001b[39m](x, \u001b[38;5;241m*\u001b[39mc[\u001b[38;5;124m'\u001b[39m\u001b[38;5;124margs\u001b[39m\u001b[38;5;124m'\u001b[39m]))\n\u001b[0;32m    323\u001b[0m           \u001b[38;5;28;01mfor\u001b[39;00m c \u001b[38;5;129;01min\u001b[39;00m cons[\u001b[38;5;124m'\u001b[39m\u001b[38;5;124meq\u001b[39m\u001b[38;5;124m'\u001b[39m]]))\n",
      "File \u001b[1;32m<__array_function__ internals>:180\u001b[0m, in \u001b[0;36mclip\u001b[1;34m(*args, **kwargs)\u001b[0m\n",
      "File \u001b[1;32mc:\\ai\\pythonproject7\\venv\\lib\\site-packages\\numpy\\core\\fromnumeric.py:2152\u001b[0m, in \u001b[0;36mclip\u001b[1;34m(a, a_min, a_max, out, **kwargs)\u001b[0m\n\u001b[0;32m   2083\u001b[0m \u001b[38;5;129m@array_function_dispatch\u001b[39m(_clip_dispatcher)\n\u001b[0;32m   2084\u001b[0m \u001b[38;5;28;01mdef\u001b[39;00m \u001b[38;5;21mclip\u001b[39m(a, a_min, a_max, out\u001b[38;5;241m=\u001b[39m\u001b[38;5;28;01mNone\u001b[39;00m, \u001b[38;5;241m*\u001b[39m\u001b[38;5;241m*\u001b[39mkwargs):\n\u001b[0;32m   2085\u001b[0m     \u001b[38;5;124;03m\"\"\"\u001b[39;00m\n\u001b[0;32m   2086\u001b[0m \u001b[38;5;124;03m    Clip (limit) the values in an array.\u001b[39;00m\n\u001b[0;32m   2087\u001b[0m \n\u001b[1;32m   (...)\u001b[0m\n\u001b[0;32m   2150\u001b[0m \n\u001b[0;32m   2151\u001b[0m \u001b[38;5;124;03m    \"\"\"\u001b[39;00m\n\u001b[1;32m-> 2152\u001b[0m     \u001b[38;5;28;01mreturn\u001b[39;00m \u001b[43m_wrapfunc\u001b[49m\u001b[43m(\u001b[49m\u001b[43ma\u001b[49m\u001b[43m,\u001b[49m\u001b[43m \u001b[49m\u001b[38;5;124;43m'\u001b[39;49m\u001b[38;5;124;43mclip\u001b[39;49m\u001b[38;5;124;43m'\u001b[39;49m\u001b[43m,\u001b[49m\u001b[43m \u001b[49m\u001b[43ma_min\u001b[49m\u001b[43m,\u001b[49m\u001b[43m \u001b[49m\u001b[43ma_max\u001b[49m\u001b[43m,\u001b[49m\u001b[43m \u001b[49m\u001b[43mout\u001b[49m\u001b[38;5;241;43m=\u001b[39;49m\u001b[43mout\u001b[49m\u001b[43m,\u001b[49m\u001b[43m \u001b[49m\u001b[38;5;241;43m*\u001b[39;49m\u001b[38;5;241;43m*\u001b[39;49m\u001b[43mkwargs\u001b[49m\u001b[43m)\u001b[49m\n",
      "File \u001b[1;32mc:\\ai\\pythonproject7\\venv\\lib\\site-packages\\numpy\\core\\fromnumeric.py:57\u001b[0m, in \u001b[0;36m_wrapfunc\u001b[1;34m(obj, method, *args, **kwds)\u001b[0m\n\u001b[0;32m     54\u001b[0m     \u001b[38;5;28;01mreturn\u001b[39;00m _wrapit(obj, method, \u001b[38;5;241m*\u001b[39margs, \u001b[38;5;241m*\u001b[39m\u001b[38;5;241m*\u001b[39mkwds)\n\u001b[0;32m     56\u001b[0m \u001b[38;5;28;01mtry\u001b[39;00m:\n\u001b[1;32m---> 57\u001b[0m     \u001b[38;5;28;01mreturn\u001b[39;00m \u001b[43mbound\u001b[49m\u001b[43m(\u001b[49m\u001b[38;5;241;43m*\u001b[39;49m\u001b[43margs\u001b[49m\u001b[43m,\u001b[49m\u001b[43m \u001b[49m\u001b[38;5;241;43m*\u001b[39;49m\u001b[38;5;241;43m*\u001b[39;49m\u001b[43mkwds\u001b[49m\u001b[43m)\u001b[49m\n\u001b[0;32m     58\u001b[0m \u001b[38;5;28;01mexcept\u001b[39;00m \u001b[38;5;167;01mTypeError\u001b[39;00m:\n\u001b[0;32m     59\u001b[0m     \u001b[38;5;66;03m# A TypeError occurs if the object does have such a method in its\u001b[39;00m\n\u001b[0;32m     60\u001b[0m     \u001b[38;5;66;03m# class, but its signature is not identical to that of NumPy's. This\u001b[39;00m\n\u001b[1;32m   (...)\u001b[0m\n\u001b[0;32m     64\u001b[0m     \u001b[38;5;66;03m# Call _wrapit from within the except clause to ensure a potential\u001b[39;00m\n\u001b[0;32m     65\u001b[0m     \u001b[38;5;66;03m# exception has a traceback chain.\u001b[39;00m\n\u001b[0;32m     66\u001b[0m     \u001b[38;5;28;01mreturn\u001b[39;00m _wrapit(obj, method, \u001b[38;5;241m*\u001b[39margs, \u001b[38;5;241m*\u001b[39m\u001b[38;5;241m*\u001b[39mkwds)\n",
      "File \u001b[1;32mc:\\ai\\pythonproject7\\venv\\lib\\site-packages\\numpy\\core\\_methods.py:159\u001b[0m, in \u001b[0;36m_clip\u001b[1;34m(a, min, max, out, casting, **kwargs)\u001b[0m\n\u001b[0;32m    156\u001b[0m     \u001b[38;5;28;01mreturn\u001b[39;00m _clip_dep_invoke_with_casting(\n\u001b[0;32m    157\u001b[0m         um\u001b[38;5;241m.\u001b[39mmaximum, a, \u001b[38;5;28mmin\u001b[39m, out\u001b[38;5;241m=\u001b[39mout, casting\u001b[38;5;241m=\u001b[39mcasting, \u001b[38;5;241m*\u001b[39m\u001b[38;5;241m*\u001b[39mkwargs)\n\u001b[0;32m    158\u001b[0m \u001b[38;5;28;01melse\u001b[39;00m:\n\u001b[1;32m--> 159\u001b[0m     \u001b[38;5;28;01mreturn\u001b[39;00m \u001b[43m_clip_dep_invoke_with_casting\u001b[49m\u001b[43m(\u001b[49m\n\u001b[0;32m    160\u001b[0m \u001b[43m        \u001b[49m\u001b[43mum\u001b[49m\u001b[38;5;241;43m.\u001b[39;49m\u001b[43mclip\u001b[49m\u001b[43m,\u001b[49m\u001b[43m \u001b[49m\u001b[43ma\u001b[49m\u001b[43m,\u001b[49m\u001b[43m \u001b[49m\u001b[38;5;28;43mmin\u001b[39;49m\u001b[43m,\u001b[49m\u001b[43m \u001b[49m\u001b[38;5;28;43mmax\u001b[39;49m\u001b[43m,\u001b[49m\u001b[43m \u001b[49m\u001b[43mout\u001b[49m\u001b[38;5;241;43m=\u001b[39;49m\u001b[43mout\u001b[49m\u001b[43m,\u001b[49m\u001b[43m \u001b[49m\u001b[43mcasting\u001b[49m\u001b[38;5;241;43m=\u001b[39;49m\u001b[43mcasting\u001b[49m\u001b[43m,\u001b[49m\u001b[43m \u001b[49m\u001b[38;5;241;43m*\u001b[39;49m\u001b[38;5;241;43m*\u001b[39;49m\u001b[43mkwargs\u001b[49m\u001b[43m)\u001b[49m\n",
      "File \u001b[1;32mc:\\ai\\pythonproject7\\venv\\lib\\site-packages\\numpy\\core\\_methods.py:113\u001b[0m, in \u001b[0;36m_clip_dep_invoke_with_casting\u001b[1;34m(ufunc, out, casting, *args, **kwargs)\u001b[0m\n\u001b[0;32m    111\u001b[0m \u001b[38;5;66;03m# try to deal with broken casting rules\u001b[39;00m\n\u001b[0;32m    112\u001b[0m \u001b[38;5;28;01mtry\u001b[39;00m:\n\u001b[1;32m--> 113\u001b[0m     \u001b[38;5;28;01mreturn\u001b[39;00m \u001b[43mufunc\u001b[49m\u001b[43m(\u001b[49m\u001b[38;5;241;43m*\u001b[39;49m\u001b[43margs\u001b[49m\u001b[43m,\u001b[49m\u001b[43m \u001b[49m\u001b[43mout\u001b[49m\u001b[38;5;241;43m=\u001b[39;49m\u001b[43mout\u001b[49m\u001b[43m,\u001b[49m\u001b[43m \u001b[49m\u001b[38;5;241;43m*\u001b[39;49m\u001b[38;5;241;43m*\u001b[39;49m\u001b[43mkwargs\u001b[49m\u001b[43m)\u001b[49m\n\u001b[0;32m    114\u001b[0m \u001b[38;5;28;01mexcept\u001b[39;00m _exceptions\u001b[38;5;241m.\u001b[39m_UFuncOutputCastingError \u001b[38;5;28;01mas\u001b[39;00m e:\n\u001b[0;32m    115\u001b[0m     \u001b[38;5;66;03m# Numpy 1.17.0, 2019-02-24\u001b[39;00m\n\u001b[0;32m    116\u001b[0m     warnings\u001b[38;5;241m.\u001b[39mwarn(\n\u001b[0;32m    117\u001b[0m         \u001b[38;5;124m\"\u001b[39m\u001b[38;5;124mConverting the output of clip from \u001b[39m\u001b[38;5;132;01m{!r}\u001b[39;00m\u001b[38;5;124m to \u001b[39m\u001b[38;5;132;01m{!r}\u001b[39;00m\u001b[38;5;124m is deprecated. \u001b[39m\u001b[38;5;124m\"\u001b[39m\n\u001b[0;32m    118\u001b[0m         \u001b[38;5;124m\"\u001b[39m\u001b[38;5;124mPass `casting=\u001b[39m\u001b[38;5;130;01m\\\"\u001b[39;00m\u001b[38;5;124munsafe\u001b[39m\u001b[38;5;130;01m\\\"\u001b[39;00m\u001b[38;5;124m` explicitly to silence this warning, or \u001b[39m\u001b[38;5;124m\"\u001b[39m\n\u001b[1;32m   (...)\u001b[0m\n\u001b[0;32m    121\u001b[0m         stacklevel\u001b[38;5;241m=\u001b[39m\u001b[38;5;241m2\u001b[39m\n\u001b[0;32m    122\u001b[0m     )\n",
      "\u001b[1;31mValueError\u001b[0m: operands could not be broadcast together with shapes (3000,) (3,) (3,) "
     ]
    }
   ],
   "source": [
    "from scipy.optimize import minimize\n",
    "def my_objfunc(w):\n",
    "    #return np.sqrt( weights.T @ corr @ weights )         #목적함수\n",
    "    return np.sqrt(np.dot(w.T,np.dot(ret_list.cov()*250, w)) )\n",
    "\n",
    "w = weight_list                                          #초깃값: 투자비중\n",
    "bnds = ( (0,1), (0,1), (0,1) )                           #투자비중한도: 0~100%\n",
    "cons = ({ 'type': 'eq', 'fun': lambda x: np.sum(x)-1 })  #제약조건: 투자 비중 100%(무차입투자)\n",
    "\n",
    "res = minimize( my_objfunc, w, method='SLSQP', bounds=bnds, constraints=cons )\n",
    "print( res )                                             #최적화된 투자비중\n",
    " "
   ]
  },
  {
   "cell_type": "markdown",
   "id": "1ef61afb-9bf5-4c84-b10e-89fe415ef3e2",
   "metadata": {},
   "source": [
    "## max min "
   ]
  },
  {
   "cell_type": "code",
   "execution_count": 21,
   "id": "e6d15403-e38f-44fc-b96e-e5e67016a41e",
   "metadata": {},
   "outputs": [
    {
     "name": "stdout",
     "output_type": "stream",
     "text": [
      "(1000, 4)\n"
     ]
    },
    {
     "data": {
      "text/html": [
       "<div>\n",
       "<style scoped>\n",
       "    .dataframe tbody tr th:only-of-type {\n",
       "        vertical-align: middle;\n",
       "    }\n",
       "\n",
       "    .dataframe tbody tr th {\n",
       "        vertical-align: top;\n",
       "    }\n",
       "\n",
       "    .dataframe thead th {\n",
       "        text-align: right;\n",
       "    }\n",
       "</style>\n",
       "<table border=\"1\" class=\"dataframe\">\n",
       "  <thead>\n",
       "    <tr style=\"text-align: right;\">\n",
       "      <th></th>\n",
       "      <th>ret</th>\n",
       "      <th>risk</th>\n",
       "      <th>sharp</th>\n",
       "      <th>weight</th>\n",
       "    </tr>\n",
       "  </thead>\n",
       "  <tbody>\n",
       "    <tr>\n",
       "      <th>995</th>\n",
       "      <td>0.106074</td>\n",
       "      <td>0.122308</td>\n",
       "      <td>0.867274</td>\n",
       "      <td>[0.17475867068046205, 0.43597993418690884, 0.3...</td>\n",
       "    </tr>\n",
       "    <tr>\n",
       "      <th>996</th>\n",
       "      <td>0.114766</td>\n",
       "      <td>0.127397</td>\n",
       "      <td>0.900853</td>\n",
       "      <td>[0.23760882458251611, 0.45398005402140623, 0.3...</td>\n",
       "    </tr>\n",
       "    <tr>\n",
       "      <th>997</th>\n",
       "      <td>0.157998</td>\n",
       "      <td>0.157588</td>\n",
       "      <td>1.002602</td>\n",
       "      <td>[0.35606194168078664, 0.22257422088235257, 0.4...</td>\n",
       "    </tr>\n",
       "    <tr>\n",
       "      <th>998</th>\n",
       "      <td>0.079822</td>\n",
       "      <td>0.113500</td>\n",
       "      <td>0.703280</td>\n",
       "      <td>[0.03646752560079183, 0.4668031380813685, 0.49...</td>\n",
       "    </tr>\n",
       "    <tr>\n",
       "      <th>999</th>\n",
       "      <td>0.159602</td>\n",
       "      <td>0.161822</td>\n",
       "      <td>0.986276</td>\n",
       "      <td>[0.3220058228893971, 0.15043598307041903, 0.52...</td>\n",
       "    </tr>\n",
       "  </tbody>\n",
       "</table>\n",
       "</div>"
      ],
      "text/plain": [
       "          ret      risk     sharp  \\\n",
       "995  0.106074  0.122308  0.867274   \n",
       "996  0.114766  0.127397  0.900853   \n",
       "997  0.157998  0.157588  1.002602   \n",
       "998  0.079822  0.113500  0.703280   \n",
       "999  0.159602  0.161822  0.986276   \n",
       "\n",
       "                                                weight  \n",
       "995  [0.17475867068046205, 0.43597993418690884, 0.3...  \n",
       "996  [0.23760882458251611, 0.45398005402140623, 0.3...  \n",
       "997  [0.35606194168078664, 0.22257422088235257, 0.4...  \n",
       "998  [0.03646752560079183, 0.4668031380813685, 0.49...  \n",
       "999  [0.3220058228893971, 0.15043598307041903, 0.52...  "
      ]
     },
     "execution_count": 21,
     "metadata": {},
     "output_type": "execute_result"
    }
   ],
   "source": [
    "port_dict = {\"ret\":ret_list,\"risk\":risk_list,\"sharp\":sharp_list,\"weight\":weight_list}\n",
    "port_df = pd.DataFrame(port_dict)\n",
    "print(port_df.shape)\n",
    "port_df.tail()"
   ]
  },
  {
   "cell_type": "code",
   "execution_count": 14,
   "id": "c48bef07-73be-4883-af65-289e8f11e415",
   "metadata": {},
   "outputs": [
    {
     "data": {
      "text/html": [
       "<div>\n",
       "<style scoped>\n",
       "    .dataframe tbody tr th:only-of-type {\n",
       "        vertical-align: middle;\n",
       "    }\n",
       "\n",
       "    .dataframe tbody tr th {\n",
       "        vertical-align: top;\n",
       "    }\n",
       "\n",
       "    .dataframe thead th {\n",
       "        text-align: right;\n",
       "    }\n",
       "</style>\n",
       "<table border=\"1\" class=\"dataframe\">\n",
       "  <thead>\n",
       "    <tr style=\"text-align: right;\">\n",
       "      <th></th>\n",
       "      <th>ret</th>\n",
       "      <th>risk</th>\n",
       "      <th>sharp</th>\n",
       "      <th>weight</th>\n",
       "    </tr>\n",
       "  </thead>\n",
       "  <tbody>\n",
       "    <tr>\n",
       "      <th>166</th>\n",
       "      <td>0.216749</td>\n",
       "      <td>0.209475</td>\n",
       "      <td>1.034722</td>\n",
       "      <td>[0.6547924802849038, 0.135824400234463, 0.2093...</td>\n",
       "    </tr>\n",
       "  </tbody>\n",
       "</table>\n",
       "</div>"
      ],
      "text/plain": [
       "          ret      risk     sharp  \\\n",
       "166  0.216749  0.209475  1.034722   \n",
       "\n",
       "                                                weight  \n",
       "166  [0.6547924802849038, 0.135824400234463, 0.2093...  "
      ]
     },
     "execution_count": 14,
     "metadata": {},
     "output_type": "execute_result"
    }
   ],
   "source": [
    "sharp_max = port_df[port_df['sharp'] == port_df['sharp'].max()]\n",
    "sharp_max"
   ]
  },
  {
   "cell_type": "code",
   "execution_count": 15,
   "id": "c1d3bbff-d749-4e19-afc4-f3469e4b5ca8",
   "metadata": {},
   "outputs": [
    {
     "data": {
      "text/html": [
       "<div>\n",
       "<style scoped>\n",
       "    .dataframe tbody tr th:only-of-type {\n",
       "        vertical-align: middle;\n",
       "    }\n",
       "\n",
       "    .dataframe tbody tr th {\n",
       "        vertical-align: top;\n",
       "    }\n",
       "\n",
       "    .dataframe thead th {\n",
       "        text-align: right;\n",
       "    }\n",
       "</style>\n",
       "<table border=\"1\" class=\"dataframe\">\n",
       "  <thead>\n",
       "    <tr style=\"text-align: right;\">\n",
       "      <th></th>\n",
       "      <th>ret</th>\n",
       "      <th>risk</th>\n",
       "      <th>sharp</th>\n",
       "      <th>weight</th>\n",
       "    </tr>\n",
       "  </thead>\n",
       "  <tbody>\n",
       "    <tr>\n",
       "      <th>766</th>\n",
       "      <td>0.064759</td>\n",
       "      <td>0.111305</td>\n",
       "      <td>0.581815</td>\n",
       "      <td>[0.0009711216512321987, 0.5569778154152685, 0....</td>\n",
       "    </tr>\n",
       "  </tbody>\n",
       "</table>\n",
       "</div>"
      ],
      "text/plain": [
       "          ret      risk     sharp  \\\n",
       "766  0.064759  0.111305  0.581815   \n",
       "\n",
       "                                                weight  \n",
       "766  [0.0009711216512321987, 0.5569778154152685, 0....  "
      ]
     },
     "execution_count": 15,
     "metadata": {},
     "output_type": "execute_result"
    }
   ],
   "source": [
    "risk_min = port_df[port_df['risk'] == port_df['risk'].min()]\n",
    "risk_min"
   ]
  },
  {
   "cell_type": "code",
   "execution_count": 16,
   "id": "28c61c01-a906-470d-bf33-09fdaa8a4927",
   "metadata": {},
   "outputs": [
    {
     "data": {
      "text/html": [
       "<div>\n",
       "<style scoped>\n",
       "    .dataframe tbody tr th:only-of-type {\n",
       "        vertical-align: middle;\n",
       "    }\n",
       "\n",
       "    .dataframe tbody tr th {\n",
       "        vertical-align: top;\n",
       "    }\n",
       "\n",
       "    .dataframe thead th {\n",
       "        text-align: right;\n",
       "    }\n",
       "</style>\n",
       "<table border=\"1\" class=\"dataframe\">\n",
       "  <thead>\n",
       "    <tr style=\"text-align: right;\">\n",
       "      <th></th>\n",
       "      <th>ret</th>\n",
       "      <th>risk</th>\n",
       "      <th>sharp</th>\n",
       "      <th>weight</th>\n",
       "    </tr>\n",
       "  </thead>\n",
       "  <tbody>\n",
       "    <tr>\n",
       "      <th>146</th>\n",
       "      <td>0.27613</td>\n",
       "      <td>0.269671</td>\n",
       "      <td>1.023951</td>\n",
       "      <td>[0.9321179962160085, 0.007455806765420285, 0.0...</td>\n",
       "    </tr>\n",
       "  </tbody>\n",
       "</table>\n",
       "</div>"
      ],
      "text/plain": [
       "         ret      risk     sharp  \\\n",
       "146  0.27613  0.269671  1.023951   \n",
       "\n",
       "                                                weight  \n",
       "146  [0.9321179962160085, 0.007455806765420285, 0.0...  "
      ]
     },
     "execution_count": 16,
     "metadata": {},
     "output_type": "execute_result"
    }
   ],
   "source": [
    "ret_max = port_df[port_df['ret'] == port_df['ret'].max()]\n",
    "ret_max"
   ]
  },
  {
   "cell_type": "code",
   "execution_count": null,
   "id": "39469a48-047a-4dc9-ba14-4a9113e608e6",
   "metadata": {},
   "outputs": [],
   "source": []
  },
  {
   "cell_type": "code",
   "execution_count": null,
   "id": "2d9b97c1-27ea-46b1-9e64-832d294af77e",
   "metadata": {},
   "outputs": [],
   "source": [
    "https://thebook.io/080227/ch04/03/04-01/\n",
    "\n",
    "https://ktcf.tistory.com/m/58"
   ]
  },
  {
   "cell_type": "code",
   "execution_count": null,
   "id": "a4ec72e1-1262-44e0-a78c-790f1d93d727",
   "metadata": {},
   "outputs": [],
   "source": []
  },
  {
   "cell_type": "code",
   "execution_count": null,
   "id": "b7c4dc29-318f-4431-8cf9-290d4aebd384",
   "metadata": {},
   "outputs": [],
   "source": []
  },
  {
   "cell_type": "code",
   "execution_count": null,
   "id": "3108fdf9-4453-4a7e-8940-2a5e99aead4c",
   "metadata": {},
   "outputs": [],
   "source": []
  },
  {
   "cell_type": "code",
   "execution_count": null,
   "id": "44c7db87-488e-4c2a-92b0-93a018239403",
   "metadata": {},
   "outputs": [],
   "source": []
  },
  {
   "cell_type": "code",
   "execution_count": null,
   "id": "76019b49-0280-4a30-bb84-f30e2bb4d957",
   "metadata": {},
   "outputs": [],
   "source": []
  },
  {
   "cell_type": "code",
   "execution_count": null,
   "id": "9389d19c-e5dd-4fb7-8dcf-a1651499442d",
   "metadata": {},
   "outputs": [],
   "source": []
  },
  {
   "cell_type": "code",
   "execution_count": null,
   "id": "f83d8158-8fab-4e15-9167-4daa7706d7f3",
   "metadata": {},
   "outputs": [],
   "source": []
  }
 ],
 "metadata": {
  "kernelspec": {
   "display_name": "Python 3 (ipykernel)",
   "language": "python",
   "name": "python3"
  },
  "language_info": {
   "codemirror_mode": {
    "name": "ipython",
    "version": 3
   },
   "file_extension": ".py",
   "mimetype": "text/x-python",
   "name": "python",
   "nbconvert_exporter": "python",
   "pygments_lexer": "ipython3",
   "version": "3.8.8"
  },
  "widgets": {
   "application/vnd.jupyter.widget-state+json": {
    "state": {},
    "version_major": 2,
    "version_minor": 0
   }
  }
 },
 "nbformat": 4,
 "nbformat_minor": 5
}

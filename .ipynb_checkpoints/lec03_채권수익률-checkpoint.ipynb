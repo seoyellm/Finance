{
 "cells": [
  {
   "cell_type": "markdown",
   "id": "3265202a-d368-4757-941f-2bb4a5c93fd6",
   "metadata": {},
   "source": [
    "<font size=6><b>Lec04.채권(bond)\n",
    "\n",
    "* 채권 기초 \n",
    "    * https://www.bondweb.co.kr/_help/05_guide_01.asp\n",
    "    * https://www.iprovest.com/financial/bond/bondguide/bondstudy_1.html\n",
    "    * ETF : https://www.tigeretf.com/ko/insight/hot-etf-introduce/view.do?listCnt=6&pageIndex=1&detailsKey=342&q&gclid=CjwKCAjw3ueiBhBmEiwA4BhspBm-cy7bIs1d8G-2VG2FCN-i76iWngs5IER1kCA26LxX__CRpY0h9BoC8osQAvD_BwE\n",
    "* <font color=red> 금융투자협회 채권정보센터 : https://www.kofiabond.or.kr/</font>\n",
    "* <font color=red> 한국은행 : https://www.bok.or.kr/portal/bbs/B0000217/view.do?nttId=10054547&menuNo=200144&listType=G&pageIndex=5 </font>\n",
    "* KB증권 : https://www.kbsec.com/go.able?linkcd=m01060000\n",
    "* 삼성증권 : https://www.samsungpop.com/ \n",
    "* NH투자증권(채권체험) : https://m.nhqv.com/guide/MNHSI0075#    \n",
    "* 푸르덴셜 : https://www.prudential.co.kr/plan-your-story/content/financial-life/Financial-Life-052.aspx    \n",
    "* 필델리티 : https://www.fidelity.co.kr/insight-and-learning/bond-investing-made-simple/yield-curve\n",
    "    "
   ]
  },
  {
   "cell_type": "markdown",
   "id": "c3b6d08a-31de-41b7-b81e-ade7d9284bd4",
   "metadata": {},
   "source": [
    "<a href=\"https://www.iprovest.com/financial/bond/bondguide/bondstudy_1.html\">채권의 의의</a><br>\n",
    "<a href=\"https://www.iprovest.com/financial/bond/bondguide/bondstudy_2.html\">채권의 특징</a><br>\n",
    "<a href=\"https://www.iprovest.com/financial/bond/bondguide/bondstudy_3.html\">채권과 주식의 차이</a><br>\n",
    "<a href=\"https://www.iprovest.com/financial/bond/bondguide/bondstudy_4.html\">채권의 종류</a><br>\n",
    "<a href=\"https://www.iprovest.com/financial/bond/bondguide/bondstudy_5.html\">채권수익률</a><br>\n",
    "<a href=\"https://www.iprovest.com/financial/bond/bondguide/bondstudy_6.html\">채권수익률의 종류</a><br>\n",
    "<a href=\"https://www.iprovest.com/financial/bond/bondguide/bondstudy_7.html\">채권수익률과 가격</a><br>\n",
    "<a href=\"https://www.iprovest.com/financial/bond/bondguide/bondstudy_8.html\">채권 매매 시장</a><br>\n",
    "<a href=\"https://www.iprovest.com/financial/bond/bondguide/bondstudy_9.html\">채권의 매매절차</a><br>\n",
    "<a href=\"https://www.iprovest.com/financial/bond/bondguide/bondstudy_10.html\">채권 투자 방법</a><br>"
   ]
  },
  {
   "cell_type": "markdown",
   "id": "5c1ac6c8-20e2-4174-ad7f-6451561d0d06",
   "metadata": {
    "tags": []
   },
   "source": [
    "# 채권(bonds)\n",
    "\n",
    "> 기본 개념\n",
    "* 장기적으로 발행자(정부, 은행, 회사 등)가 자금을 조달하기 위해 발행한 증권으로서\n",
    "    * 대출의 한계로 인해 채권 발행\n",
    "* 일정한 이자(C)를 지급함과 동시에 일정기간 후에는 약속한 금액(액면금액)을 상환하기로 약속한 증서\n",
    "* 신용등급이 낮은 채권일 수 록 수익률 높음(리스크 높음)\n",
    "* 채권은 주식보다 안전(이자율 낮음, 법으로 규제됨)\n",
    "* 발행주체 : 국고채(정부), 지방채(지방정부), 통안채(한은), 공사채(공사), 금융채(혹은 은행채, 금융기관), 카드캐피탈채(여신전문회사), 회사채로 구분\n",
    "\n",
    "> 채권과 주식의 차이? 지분(주인된 권리)의 유무\n",
    "* 채권 : 단순히 돈을 빌려주고 빌리는 관계(채무자와 채권자) --> 값을 금액을 제외한 수익 모두 소유 가능, 잉여수익에대한 확신이있을 때 투자자금 채권을 통해 조달\n",
    "* 주식 : 주식을 사게되면 회사의 지분(경영 참가권)을 소유하게 됨 --> 경영활동에 의한 수익, 지분만큼 주식 소유자에게 분배됨\n",
    "\n",
    "> 특징\n",
    "1. 확정이자부 증권 : 발행시에 이자가 확정되어 있음(금리가 상승해도 이미 발행된 채권은 이자가 상승하지 않음)\n",
    "2. 이자지급 증권 : 수익의 발생여부와 관계없이 이자 지급해야 함\n",
    "3. 기한부 증권 : 만기시점 확정되어있음(결합부 채권은 만기시점 없음), 잔존기간에 따라 채권가격이 달라짐\n",
    "4. 장기 증권 : 장기의 안정적 자금조달 가능하게 함\n",
    "5. 상환증권 : 발행자의 상환능력이 있는 한 반드시 상환해야 함\n",
    "\n",
    "> 이자지급방법    \n",
    "* 이표채 : 만기 이전에도 이자를 지급받을 수 있음\n",
    "* 할인채 : 미래에 받을 이자를 감면하고 나온 가격으로 채권 구매 \n",
    "* 복리채, 단리채, 거치채\n",
    "\n",
    "> 발행시장\n",
    "* 직접 발행 : 발행사와 투자자 직접 거래 \n",
    "* 간접 발행 : 위탁기관을 사이에두고 거래"
   ]
  },
  {
   "cell_type": "markdown",
   "id": "3e5032b4-ae53-4c0c-970b-835de48aa98e",
   "metadata": {
    "jp-MarkdownHeadingCollapsed": true,
    "tags": []
   },
   "source": [
    "## 기초 용어\n",
    "* 금리인상효과는 변수가 다양하기 때문에 정답이 없다. \n",
    "* <font color=red><b>기준금리와 주가 등의 상관관계는 상황에 따라 다르다. '금리인상=주가하락, 경기둔화'의 이론적인 공식을 버려라~!!!!</b></font><br><br>\n",
    "* 기초자산 : 파생상품 대상이 되는 상픔(주식,채권,외환,유가상품 등)\n",
    "* 변동성 : 기초자산의 가격이 변하는 정도\n",
    "* 레버리지 : 지렛대라는 의미, 적은 투자 금액으로 수익률 극대화\n",
    "\t*  예) 100만 레버리지 2.5배 250만 수익<br><br>\n",
    "* 인버스 : 마이너스일때 수익\n",
    "* BP(Basis Point) : 0.01% (100bp==1%)\n",
    "    * 예) 액면이자율(10%) 채권가 하락 --> 실질수익률(10.5%)  --> 액면이자율보다 50베이시스 포인트 높아졌다\n",
    "* PVBP(Present Value Basis Point) : 금리 1bp(0.01%) 변동시 변하는 자산의 가치<br><br>\n",
    "* 스프레드 : 상품간 가격(금리)차이\n",
    "* 스왑(swap) : 서로 다른 금리나 통화들을 교환하는 거래\n",
    "    * 대표적 파생상품 : 선물, 옵션, 스왑\n",
    "* 차익거래: 시장가격과 이론가격의 차이나 일시적인 이벤트로 발생하는 가격의 왜곡을 이용해 저평가시 매수 고평가시 패도 하는 거래 방식    \n",
    "* 경제활성지표: GDP성장률>GDP갭  \n",
    "* NIM(Net Interest Margin) :금융기관의 수익성을 나타내는 지표(순이자 마진)\n",
    "    * 은행등 금융기관이 자산을 운용해 낸 수익에서 조달비용을 뺀 나머지를 운용자산 총액으로 나눈 수치\n",
    "* RBC(Risk Based Capital) : 위험기준자기자본\n",
    "    * 보험회사의 자본적정성 지표인 지급여력비율을 산정할 대 적용 \n",
    "    * 보험회사가 보유하고 있는 총조정자본과 총필요자본액 간 비율"
   ]
  },
  {
   "cell_type": "markdown",
   "id": "4e56a871-3de9-4ff7-bbf3-0d464f33d605",
   "metadata": {},
   "source": [
    "## 장내/장외 채권\n",
    "* 장내채권 : 한국거래소에 상장된 채권, 국채 --> 대량 매매가 이루어짐\n",
    "    * 거래가능 채권 : 상장채권\n",
    "    * 호가 및 가격 제한폭 존재, 10만원 단위로 매매 체결, 매매시간 정해져있음,위탁수수료 지불\n",
    "* 장외채권 : 특정 증권사만 판매하는 채권(기업이 발행한 채권을 증권사가 매입하고 수수료를 붙여 고객에게 되파는 방식) --> 증권사와 개인 고객거래가 이루어짐\n",
    "    * 거래가능 채권 : 상장, 비상장 채권\n",
    "    * 호가 및 가격 제한폭 없음, 매매시간은 증권사의 영업시간, 위탁수수료 없음(매수, 매도가의 차로 스프레드 취함)\n",
    "* 높은 기대수익률과 정기적인 현금흐름을 앞세워 투자 대안으로 떠오른 신종자본증권이 대표적\n",
    "* 만기 보유,  만기일 이전에 채권을 사고파는 '트레이딩' 방식\n",
    "    * 만기수익률(YTM)을 활용해 액면가와 채권 가격이 다를 때의 수익률을 측정해 유리할 때 매매\n",
    "* 저쿠폰 국채 \n",
    "    * 금융소득종합과세 대상\n",
    "    * 액면가보다 시장 가격이 낮은 채권 "
   ]
  },
  {
   "cell_type": "markdown",
   "id": "e677c2ce-4a69-4555-8288-9ceb1408adbc",
   "metadata": {
    "jp-MarkdownHeadingCollapsed": true,
    "tags": []
   },
   "source": [
    "## 국채금리에 내포된 성장 가능성\n",
    "* 30년 국채금리가 1.5% 대에서 거래되고 있다\n",
    "    * 향후 30년동안 한 단위의 자본을 투입해서 얻을 수 있는 기대수익률이 평균적으로 1.5%에 불과하다는 의미\n",
    "    * 향후 물가상승률을 1%로만 가정하더라도 명목 국고채 금리가 1.5%라면 향후 30년간 실질성장률은 0.5%에 불과하다는 결론\n",
    "    *  즉 한국경제의 미래가 어둡다는 것이다."
   ]
  },
  {
   "cell_type": "markdown",
   "id": "bb627b19-e5d6-434e-8683-dab9a3df4661",
   "metadata": {
    "tags": []
   },
   "source": [
    "## 금리 스프레드\n",
    "* 장단기 스프레드 : ('국고채3년 - 기준금리 스프레드') 또는 ('국고채 10년 - 국고채 3년') 일반적\n"
   ]
  },
  {
   "cell_type": "markdown",
   "id": "de66dceb-1c23-478c-9e24-5237150df7dd",
   "metadata": {
    "tags": [],
    "toc-hr-collapsed": true
   },
   "source": [
    "## 장단기 금리차 역전\n",
    "* 기준금리와 스프레드 (장단기 스프레드, 신용스프레드)가 미래의 경제상황을 말해준다. \n",
    "* ref : https://m.blog.naver.com/yngsklee/221044770075<br><br>\n",
    "* 수급적으로 장기채 공급은 부족한 반면, 수요 측면에서는 보험사와 연기금 등의 장기물 수요가 초과 상태인 것이 영향<br>\n",
    "* 수익률 곡선의 기울기를 비교해보면 미국은 기준금리가 0.25%~0.5%로 한국의 1.25%보다 크게 낮은 반면에 국고채 30년 금리는 2.3%대로 한국의 30년 금리 1.5%대보다는 매우 높다<br>\n"
   ]
  },
  {
   "cell_type": "markdown",
   "id": "38af62a0-b477-49ae-94f7-1dec4f7c49f4",
   "metadata": {
    "tags": []
   },
   "source": [
    "# 채권의 가치평가\n",
    "\n",
    "* 채권의 이론가격\n",
    "    * 정기적으로 받는 이자수입(C), 만기 시 돌려받는 액면금액(F)을 채권투자자의 요구수익률로 할인한 현재가치\n",
    "    * 채권수익률은 채권가격 결정을 위한 사전적인 수익률로 실제로 실현될 수 있는 수익률이 아니다<p>\n",
    "* 채권 가격 결정 요인\n",
    "    * 액면가, 잔존만기(maturity), 표면이자율(coupon), 이자지급횟수\n",
    "    * 채권의 위험성 : 시장(금리변동), 구매수요(선호도), 유동성(발행물량,시장규모), 채무불이행(지급능력)<p>\n",
    "* 환율상승 : 금리상승(부정적요인)\n",
    "    * 1달러=1,000 --> 1달러=2,000원\n",
    "    * [원저] 원화가치하락 == 원화평가절하 == 달러가치상승\n",
    "    * [반값] 수출증가(1달러*10개공급=10$(*1000=1만) --> 0.5달러*10개공급=5$(*2000=1만)\n",
    "    * 기업이익증가(수취거래대금1$는 2000원으로 바꿀수 있다) --> 주가상승 \n",
    "* 환율하락 : 금리하락(긍정적요인)<p><p>"
   ]
  },
  {
   "cell_type": "markdown",
   "id": "24f0a8f9-1d6b-4a00-9731-c186b4518491",
   "metadata": {},
   "source": [
    "<img src=\"http://m.asiaherald.co.kr/app/newsimage.php?actmode=LARGE&actmode=LARGE&attimgno=11809&seqno=2&p=%2Fdata%2Fnews%2Fimages%2F2017%2F08&f=207_L_1503536601.png&rd=20170824100321\">"
   ]
  },
  {
   "cell_type": "markdown",
   "id": "584be807-cc3d-488c-8ae8-af3ae6928f32",
   "metadata": {},
   "source": [
    "## 마이너스금리 채권 수요가 존재하는 이유"
   ]
  },
  {
   "cell_type": "markdown",
   "id": "4cb9e034-669e-49a9-a652-aa51a9792b07",
   "metadata": {},
   "source": [
    "* 마이너스 금리의 폭이 커지면, 즉 마이너스 금리가 더 내려가면 채권 투자 자본 이익을 낼 수 있다.\n",
    "* 환차익(외국인 입장에서는 마이너스 금리 채권이라고 하더라도 통화가치가 상승할 경우 이익을 낼 수 있다.)\n",
    "* 담보 및 규제로 인해 마이너스 금리라도 국채를 의무적으로 보유해야 한다. (자산배분 관점에서 일부는 기본적으로 채권자산을 편입)\n",
    "    * 예) 보험사와 연기금 등 장기투자기관의  경우 각종 유동성 비율을 맞추고 자산-부채 관리(ALM, Asset-Liability Management)를 위해서는 환금성이 좋고 투자만기가 긴 국채를 우선적으로 보유\n",
    "* 디플레이션이 발생하면 마이너스 금리도 실질금리로는 플러스다\n",
    "\n",
    "* 코코본드 (CoCo Bond: Contingent Convertible Bond)\n",
    "    * 유사시 투자 원금이 주식으로 강제 전환되거나 상각된다는 조건이 붙은 채권\n",
    "    "
   ]
  },
  {
   "cell_type": "markdown",
   "id": "fab5a792-bba1-4921-971b-3b5b9f2b376d",
   "metadata": {},
   "source": [
    "# 채권 수익률\n",
    "- 투자성과 평가하는데 사용"
   ]
  },
  {
   "cell_type": "markdown",
   "id": "d1df0994-f002-487e-bf32-0a3d89920bf0",
   "metadata": {},
   "source": [
    "## 현재가치\n",
    "* 할인율 : 미래가치를 현재가치로 적용"
   ]
  },
  {
   "cell_type": "markdown",
   "id": "5f980424-608b-4619-b28c-2d531fb7398c",
   "metadata": {},
   "source": [
    " $PV = \\frac {FV} {(1+r)^n} = FV(1+r)^{-n}$  "
   ]
  },
  {
   "cell_type": "code",
   "execution_count": 1,
   "id": "f4707440-c5e6-4fc1-8aa9-c47cf81b61f3",
   "metadata": {
    "tags": []
   },
   "outputs": [
    {
     "data": {
      "text/plain": [
       "1295756"
      ]
     },
     "execution_count": 1,
     "metadata": {},
     "output_type": "execute_result"
    }
   ],
   "source": [
    "def my_pv(FV,r,yn) :\n",
    "    PV=FV*(1+r)**-yn\n",
    "    return int(round(PV,0))\n",
    "\n",
    "# 3년만기 연이율 5% 지급 만기시 150만원 지급: 무이표채 (만기시 원금 +이자)\n",
    "my_pv(1500000,0.05,3) # 현재 1295756원을 넣어야 3년 이후  150만원을 받을 수 있음"
   ]
  },
  {
   "cell_type": "markdown",
   "id": "9c667fda-b723-4ed1-9a16-e456c36aa6a5",
   "metadata": {},
   "source": [
    "## 미래가치\n",
    "* 이자율 "
   ]
  },
  {
   "cell_type": "markdown",
   "id": "6102067b-1102-4d8b-996e-70ca7881060d",
   "metadata": {},
   "source": [
    "단리 :  ${FV = PV × [1+(r×n)]}$  \n",
    "복리 : ${FV = PV × (1+r)^n}$  "
   ]
  },
  {
   "cell_type": "code",
   "execution_count": 2,
   "id": "e549a714-6914-413f-b72a-63da6d8d4160",
   "metadata": {
    "tags": []
   },
   "outputs": [
    {
     "name": "stdout",
     "output_type": "stream",
     "text": [
      "1157625\n",
      "1628895\n"
     ]
    }
   ],
   "source": [
    "# 연이율 5% : 연단위 이자 3번\n",
    "def my_fv(PV,r,yn) :\n",
    "    FV=PV*(1+r)**yn\n",
    "    return int(round(FV,0))\n",
    "\n",
    "# 100만 3년만기 연이율 5% 지급 : 무이표채 (만기시 원금 +이자)\n",
    "print(my_fv(1000000,0.05,3))   # 3년 후 1157625원을 받을 수 있음\n",
    "print(my_fv(1000000,0.05,10))  # 10년 후 1628895원을 받을 수 있음"
   ]
  },
  {
   "cell_type": "code",
   "execution_count": 3,
   "id": "02c9c28a-31aa-4639-815d-a6af181789c1",
   "metadata": {
    "tags": []
   },
   "outputs": [
    {
     "data": {
      "text/plain": [
       "1159693"
      ]
     },
     "execution_count": 3,
     "metadata": {},
     "output_type": "execute_result"
    }
   ],
   "source": [
    "# 무이표채 : 연이율 5% : 연단위 이자 3번 --> 이표채 : 연이율(2/r) 2.5%  (yn*2)6번\n",
    "# 이표채 : 복리이자 10%를 6개월에 한번씩 받겠다(단순히 복리이자를 나누면 됨)\n",
    "\n",
    "def my_fv(PV,r,yn, yn_cnt) : # yn_cnt 이자를 받을 횟수\n",
    "    FV=PV*(1+r/yn_cnt)**(yn*yn_cnt)\n",
    "    return int(round(FV,0))\n",
    "\n",
    "# 100만 3년만기 연이율 5% 6개월마다 이자 지급 : 이표채 (만기시 원금+이자, 6개월마다 이자지급)\n",
    "my_fv(1000000,0.05,3,2) # 이표채일 경우 3년 후 1159693원을 받을 수 있음 (무이표채 < 이표채)"
   ]
  },
  {
   "cell_type": "markdown",
   "id": "3cf054da-cf74-4c43-be33-5457073f2b42",
   "metadata": {},
   "source": [
    "# 채권 가격\n",
    "* 채권의 종류 : 할인채, 복리채, 이표채(금리확정부, 변동금리부 등)\n",
    "* 표면금리 : 이자지급방법, 할인(증)율\n",
    "* 상환방법 : 만기일시상환, 분할상환\n",
    "* 발행일, 만기일, 매출일\n",
    "* 액면 1만원당 단가로 계산, 소수점이하 절사\n",
    "* 액면가 : 만기시 받을 금액"
   ]
  },
  {
   "cell_type": "markdown",
   "id": "768166c7-63f5-4f78-9978-f7bb83dbbc20",
   "metadata": {
    "tags": []
   },
   "source": [
    "## 이표채\n",
    "* 정해진 기간마다 주기적으로 이자를 지급하고, 만기에 마지막 이자와 원금을 지급\n",
    "* $PV = {\\frac {연지급이자} {시장이자율}} +  {\\frac {{채권원금} -  {\\frac {연지급이자} {시장이자율}}}{(1+시장이자율)^{남은만기}}}$\n",
    "\n",
    "* <b> 3년 만기, 10%의 표면금리, 이자 연 1회, 시장이자율이 5%인 이표채 채권의 현재가치는?</b>\n",
    "    * 연지급이자 1000 = 10000 * 0.1\n",
    "    * $11,361.624원 = {\\frac {1000} {0.05}} +  {\\frac {{10000} -  {\\frac {1000} {0.05}}}{(1+0.05)^{3}}}$\n",
    "      --> 현재 준비해야할 돈(내가 얼마를 주고 사야하나?)\n",
    "    \n",
    "    <p>\n"
   ]
  },
  {
   "cell_type": "markdown",
   "id": "f10f7492-4508-4e60-8ae0-03af7aa7b74b",
   "metadata": {},
   "source": [
    "## 무이표채 중 복리채\n",
    "* 표면이율을 복리로 재투자하여 만기에 원금과 이자를 동시에 지급\n",
    "* $PV = {\\frac {FV} {  (1 +   {\\frac {r ×d} {365}}) } } = {\\frac {FV}  {{\\frac {(1+r)^t}{365}}}  }$\n",
    "    *  d(1년 이내의 잔존일수), t(총잔존일수)<p>\n",
    "* <b> 91일 후, 50,000,000원을 지급 받는 외환은행 CD의 경우, 매매금리가 5.5%일 때 가격은?</b>\n",
    "    * 49,323,657원 = 50,000,000원 / (1+0.055 * 91/365)<p> --> 내가 구매해야할 금액(얼마에사면 적정한가?)\n",
    "* <b>183일 후, 50,000,000원을 지급 받는 외환은행CD의 경우, 매매금리가 5.8%일 때 가격은?</b>\n",
    "    * 48,587,113원 = 50,000,000원 / (1+0.058 * 183/365)\n"
   ]
  },
  {
   "cell_type": "markdown",
   "id": "a93cfef5-8d13-4ff1-839b-1b6dcf2c4bd8",
   "metadata": {},
   "source": [
    "# 듀레이션(duration)\n",
    "<table>\n",
    "    <tr>\n",
    "        <td>\n",
    "        <img width=400 src=\"https://img1.daumcdn.net/thumb/R1280x0/?scode=mtistory2&fname=https%3A%2F%2Fblog.kakaocdn.net%2Fdn%2FbTcjsi%2FbtqCHwvtYqz%2FUIWKR9I8X892yAoGm7FwkK%2Fimg.png\">\n",
    "        <td>\n",
    "        <img width=400 src='https://www.fidelity.co.kr/static/korea/images/campaign/SEO/Bond_Duration_table.png'>\n",
    "        </td>\n",
    "    </tr>\n",
    "</table>\n",
    "\n",
    "\n",
    "- 연단위 환산\n",
    "- 이자의 합산이 원금이 되는 때\n",
    "- cash flow(이자) 발생시 듀레이션은 짧아짐 -> <font color =red><b>잔존만기와 듀레이션은 반비례</b>\n",
    "- 듀레이션 1 = 투자의 기회를 놓침 : 원금이 모두 회수(듀레이션) 된 이후 시점부터가 투자 수익\n",
    "    - 무이표채(만기시일시상환)는 만기일 == 듀레이션\n",
    "    - <b>cash flow 금액 큰경우, cash flow가 빈번하게 발생, 잔존만기 기간이 길어질수록</b> 듀레이션이 짧아짐"
   ]
  },
  {
   "cell_type": "markdown",
   "id": "da8b07c1-b196-4830-b322-63451c1e76b5",
   "metadata": {},
   "source": [
    "- 채권의 수익률 == 채권의 가격(p)\n",
    "- 채권가격(p)은 시장금리(r)의 영향을 받음   (p ==r)\n",
    "- 채권의 수익률(p)에 따라 듀레이션이 달라짐 (p ==듀레이션)\n",
    "- 시장의 금리는 듀레이션에 영향을 준다 --> <font color =blue><b> 듀레이션 : 시장 금리변화 따른 채권가격의 민감도  \n",
    "- 잔존만기기간이 길고, 시장 변동성이 큰경우는 듀레이션이 짧은 것이 좋음"
   ]
  },
  {
   "cell_type": "markdown",
   "id": "6c649e11-3505-4642-8f65-3418f6bec9c0",
   "metadata": {},
   "source": [
    "## MacD : Macaulay Duration\n",
    "* <font color=red><b>원금의 평균 회수기간 : 실제로 투자금액을 회수하는데 걸리는 시간은 얼마인가? "
   ]
  },
  {
   "cell_type": "markdown",
   "id": "369657ed-ce28-4d07-83ae-2dc5506e1d15",
   "metadata": {},
   "source": [
    "* <b>이자율 변화에 대한 채권 가격의 민감도를 측정하기 위한 척도 </b>\n",
    "* 채권이 지닌 일련의 현금흐름들의 잔존기간을 각 현금 흐름의 현재가치를 가중치로 하여 가중 평균한 값 \n",
    "* 가중 평균 잔존만기<br><br>\n",
    "* $D = {\\frac {받을 이자와 원금의 총합을 현재 가치로 환산} {받을 이자와 원금을 현재 가치로 환산}}  =\\sum _{t=1}^{n}t{\\frac {CF(t)}{B_{0}}} $<p>\n",
    "    - B0 : 오늘의 채권가격  , CF : 원금 또는 이자(만기시에는 원금+이자), 만기 때까지 들어오는 모든 돈\n",
    "    - 잔존만기가 길수록 듀레이션의 변동성은 커진다\n",
    "    * 듀레이션이 길수록 시장이자율이 조금만 변해도, 채권 가격은 크게 변한다  \n",
    "    * <font color=red>액면(쿠폰)이자율, 시장이자율(할인율), 이자지급횟수가 클수록 듀레이션은 짧아진다</font>  \n",
    "    * 시장 이자율 상승세 : 듀레이션이 긴 채권들부터 비중을 줄여나간다\n",
    "        * 시장 이자율 상승 == 채권가격 하락\n",
    "        * 듀레이션이 길다 == 시장의 변동 가능성(금리 상승) 크다 == 채권 가격이 떨어질 가능성이 크다\n",
    "        * 이자율이 계속 상승할 것으로 예상된다면 채권의 가격이 떨어질 수 있는 듀레이션이 긴 상품들을 없애야 함\n",
    "    * 시장 이자율 하락세 : 듀레이션이 긴 채권들을 미리 매수해둔다  \n",
    "        * 시장 이자율 하락 == 채권가격 상승 \n",
    "        * 듀레이션 길다 == 시장 이자율의 변동 가능성(금리 하락) 크다 == 채권가격이 높아질 가능성이 크다\n",
    "        * 이자율이 계속 하락할 것으로 예상된다면 채권의 가격을 더 높일 수 있는 듀레이션이 긴 상품들을 매수<br><br>  \n",
    "    * ref : https://www.fidelity.co.kr/insight-and-learning/bond-investing-made-simple/bond-duration\n",
    "    \n",
    "    * 예) 쿠폰금리 7%인 3년만기 이표채의 듀레이션\n",
    "    * <img width=500 src=\"https://img1.daumcdn.net/thumb/R1280x0/?scode=mtistory2&fname=https%3A%2F%2Fblog.kakaocdn.net%2Fdn%2FqSlnE%2FbtqXobb6UVS%2FSbKfM4KDaxL07UkZKRtWP0%2Fimg.png\">"
   ]
  },
  {
   "cell_type": "code",
   "execution_count": 4,
   "id": "0bfe83e6-fda0-4503-9ee0-225ab530101a",
   "metadata": {
    "tags": []
   },
   "outputs": [
    {
     "data": {
      "text/plain": [
       "10000.0"
      ]
     },
     "execution_count": 4,
     "metadata": {},
     "output_type": "execute_result"
    }
   ],
   "source": [
    "# c 7% 3년만기 이표(년1회지급) r 7% --> 쿠폰의 현재가격은?\n",
    "# 10000*0.07 = 700\n",
    "PV=700/(1+0.07)**1+700/(1+0.07)**2+10700/(1+0.07)**3\n",
    "PV # 쿠폰가와 시장금리가 동일한 경우 쿠폰가 == 액면가"
   ]
  },
  {
   "cell_type": "code",
   "execution_count": 5,
   "id": "d01f6257-86fb-4550-9f7b-f8753f83c70e",
   "metadata": {
    "tags": []
   },
   "outputs": [
    {
     "data": {
      "text/plain": [
       "2.8165778670626254"
      ]
     },
     "execution_count": 5,
     "metadata": {},
     "output_type": "execute_result"
    }
   ],
   "source": [
    "CF_t=(1*(700/(1+0.07)**1))+(2*(700/(1+0.07)**1))+(3*(10700/(1+0.07)**3))\n",
    "D=CF_t/PV     \n",
    "D"
   ]
  },
  {
   "cell_type": "code",
   "execution_count": 6,
   "id": "9bd10d3f-6460-4edd-a1e9-ef94b8da47ff",
   "metadata": {
    "tags": []
   },
   "outputs": [
    {
     "data": {
      "text/plain": [
       "2.808018167525548"
      ]
     },
     "execution_count": 6,
     "metadata": {},
     "output_type": "execute_result"
    }
   ],
   "source": [
    "# 초기 투자자본(투자자본) : 100만 시장이율(시장이율) : 7%, 표면금리(표면금리) : 7%, 만기3년(만기) , 년1회지급이표(a)\n",
    "\n",
    "def my_duration(투자자본,시장이율,표면금리,만기):\n",
    "    만기일전까지의채권가격=0\n",
    "    만기일전까지의CF=0\n",
    "    for i in range(1,만기):\n",
    "        연지급이자 = 투자자본 * 표면금리\n",
    "        만기일전까지의채권가격 += 연지급이자 / ((1+시장이율)**i)\n",
    "        만기일전까지의CF += i* 연지급이자 / ((1+시장이율)**i)\n",
    "\n",
    "    만기일의채권가격 = (투자자본 + 연지급이자) / ((1 + 시장이율 )** 만기)\n",
    "    만기일의CF = 만기 * 만기일의채권가격\n",
    "    총CF = 만기일전까지의CF +만기일의CF\n",
    "    채권가격 = 만기일전까지의채권가격 + 만기일의채권가격\n",
    "    듀레이션 = 총CF / 채권가격 \n",
    "    return 듀레이션\n",
    "    \n",
    "my_duration(1000000,0.07,0.07,3)"
   ]
  },
  {
   "cell_type": "markdown",
   "id": "45adebb6-3cef-475f-8d51-d96e800af689",
   "metadata": {},
   "source": [
    "## MD : Modified Duration\n",
    "* <font color=red><b> 금리가 변하면 채권 가격이 얼마나 변할까? \n",
    "* 금리 변화에 대한 채권 가격의 민감도를 측정하기 위한 척도"
   ]
  },
  {
   "cell_type": "markdown",
   "id": "f43117ce-8414-4985-892f-c645e9949b66",
   "metadata": {},
   "source": [
    "## ED : Effective Duration\n",
    "* <font color=red><b>현금흐름이 바뀌더라도 듀레이션 계산이 가능한가?</b>\n",
    "* MD 한계 : 이자율 변동에 따라 채권의 현금흐름이 바뀌는 경우에는 적용이 불가\n"
   ]
  },
  {
   "cell_type": "markdown",
   "id": "1ad77cf3-0520-42fa-876b-1abf2caf06cc",
   "metadata": {},
   "source": [
    "# 만기수익률 (YTM) \n",
    "* 채권에 투자한 후부터 만기 상환일까지 기간 동안에 \n",
    "    * 그 채권으로부터 유입되는 모든 현금흐름의 현재가치(CF)와 == 그 채권을 매입하는 시점의 매입 가격(P, 오늘의 채권가격)을 \n",
    "    * 일치시키는 할인율 == 이자율(r).\n",
    "    * 만기수익률(y) == 시장이자율(r)\n",
    "* <font color=blue><b>채권가격 결정 모형 r(시장금리) == 만기수익률 결정 모형 y(만기수익률) : r = y </font></b>\n",
    "    * 가격 모형 : 시장금리가 정해져야 채권가격을 알 수 있다(오늘의 시장금리를 알아야 오늘의 채권가격을 알 수 있음)  \n",
    "    * 만기수익률 모형 : 현재가격과 현금흐름 가격이 정해져야 수익률(y)을 계산 할 수 있다(수요와 공급에 의한 채권가격을 알아야 만기수익률을 알 수 있다)\n",
    "\n",
    "<img src= \"https://img1.daumcdn.net/thumb/R1280x0/?scode=mtistory2&fname=https%3A%2F%2Fblog.kakaocdn.net%2Fdn%2FQDf4g%2FbtqWTXt4eSc%2FtzbFB2trqOW96U7PiWKU61%2Fimg.png\">\n"
   ]
  },
  {
   "cell_type": "markdown",
   "id": "4210edb3-e239-437b-8641-3a92a72798aa",
   "metadata": {},
   "source": [
    "# 볼록성\n",
    "* 수익률 커브 곡선\n",
    "    * 채권의 가격과 수익률(yield) 또는 시장금리(r)는 반비례관계이다\n",
    "    * 금리상승, 채권가격 하락\n",
    "    * 듀레이션 : (채권가격-수익률곡선)의 기울기\n",
    "*  듀레이션의 한계 : 수익률 변동폭이 커질수록 실제 가격변동치와 비교해 오차 증가\n",
    "* <b>볼록성 : (채권가격-수익률곡선) 기울기(듀레이션)의 변화를 나타냄</b>\n",
    "    * 만기수익률에 대한 채권가격함수의 2차 도함수(미분)를 채권가격으로 나누어 준것 \n",
    "    * 채권가격의 변화량 / 수익률의 변화량\n",
    "    * 기울기가 가파르다 == 듀레이션이 변동이 폭이 크다(민감하다)"
   ]
  },
  {
   "cell_type": "markdown",
   "id": "d705ce90-4bfa-485d-a887-65f8ada7e255",
   "metadata": {},
   "source": [
    "<table>\n",
    "    <tr>\n",
    "        <td>\n",
    "        <img src='https://i0.wp.com/financialforest.com/wp-content/uploads/2016/08/convexity_chart.png?w=385&ssl=1'>\n",
    "        </td>\n",
    "        <td>\n",
    "        <img src='https://www.bondweb.co.kr/_images/img_bd06_049.gif'>\n",
    "        </td>\n",
    "        <td>\n",
    "        <img src='https://i0.wp.com/financialforest.com/wp-content/uploads/2016/08/convexity_chart_2.png?w=381&ssl=1'>\n",
    "        </td>\n",
    "    </tr>\n",
    "</table>\n",
    "\n"
   ]
  },
  {
   "cell_type": "markdown",
   "id": "a41df351-e003-4c71-b287-1475b559aaaa",
   "metadata": {
    "tags": []
   },
   "source": [
    "# 최근 주요 이슈\n",
    "* 기준금리인상\n",
    "* 미국 10년2년 금리역전\n",
    "* 마이너스금리 \n",
    "* 해외 채권 공급 증가"
   ]
  },
  {
   "cell_type": "markdown",
   "id": "8dbc2a16-7ce8-45cc-9901-05723dfa877f",
   "metadata": {},
   "source": [
    "## [NEWS] 급격한 금리인상에 국고채 ETF도 '흔들'\n",
    "* ref : https://m.blog.naver.com/yngsklee/222702638075\n",
    "* ref : https://www.mbn.co.kr/news/stock/4739999"
   ]
  },
  {
   "cell_type": "markdown",
   "id": "8334fcdc-d96d-4fc7-8d69-cdd0203b2fd0",
   "metadata": {},
   "source": [
    "<img src=\"https://img.mbn.co.kr/filewww/news/other/2022/04/14/402120422622.jpg\">"
   ]
  },
  {
   "cell_type": "markdown",
   "id": "03e4ae31-896c-4118-a44f-e6adb8c176ed",
   "metadata": {},
   "source": [
    "* <font color=red><b>통상 채권 가격과 금리는 서로 반대 방향으로 움직인다. 금리가 하락하면 채권 가격이 오르는 구조 </b></font>\n",
    "* <font color=red><b>지난해부터 채권 보유량을 줄이고, 채권 듀레이션(기간)을 짧게 가져가는 등 채권 가격 하락에 대비 </b></font><br><br>\n",
    "* 국고채 ETF는 3종의 국고채에 나눠서 투자하고 정기적으로 리밸런싱(자산조정)이 이뤄진다. \n",
    "    * 예) 가령 코덱스(KODEX) 국고채3년 ETF의 경우 만기일이 2024년 6월, 2024년 12월, 2026년 9월인 국고채를 3분의 1씩 담고 있다. \n",
    "* 대표적 안전자산으로 여겼던 국고채권을 담은 상장지수펀드(ETF)가 요동치고 있다. <br><br>\n",
    "* 최근 금리가 가파르게 상승하며 채권 가격이 꾸준히 하락세를 보이고 있기 때문이다. \n",
    "    *  안정적인 수익을 기대하고 자금을 넣는 채권형 상품이 주식형 못지않게 큰 변동성을 보인 것\n",
    "    *  30년물 ETF가 3년물 ETF보다 하락폭이 크다\n",
    "    *  \"금리 상승폭이 작았음에도 듀레이션이 길면 금리가 상승할 때 채권 가격 하락폭이 상대적으로 더 크다\"\n",
    "    * 기준금리 인상시기 : 듀레이션이 짧은 단기채나 통안채\n",
    "    * 기준금리 인하시기 : 장기채권<br><br>\n",
    "* 특히 지수를 2배로 추종하는 레버리지형 국고채 ETF의 경우 올 들어 20% 가까이 떨어졌다.\n",
    "* 예) KBSTAR KIS국고채30년Enhanced ETF : 채권형상품 + 변동성(레버리지효과)\n",
    "    * \"고수익률을 원하면서 위험 친화적이고 채권형 상품에 투자를 원하는 이들에게 적합한 상품\"\n",
    "* 물가 상승 우려가 높아지고 있는 만큼 국채 금리 상승 가능성을 높게 점치고 있다. "
   ]
  },
  {
   "cell_type": "markdown",
   "id": "5d31322c-96eb-4fc7-857e-c4cfebfe7ae7",
   "metadata": {
    "tags": []
   },
   "source": [
    "-----\n",
    "## [NEWS] 금리 상승에 채권 곱버스 고공행진\n",
    "* https://www.mk.co.kr/news/stock/view/2022/06/562355/\n",
    "* 주식시장 변동성에 지친 투자자들의 관심이 채권형 상장지수펀드(ETF)로 모이는 가운데 올해 들어 장기국채인버스 ETF가 36%의 수익 달성<br><br>\n",
    "* 'KBSTAR미국장기국채선물인버스2X ETF' : 국내 64개 채권형 ETF 가운데 올해 수익률이 가장 높았던 상품(35.65% 수익률)\n",
    "    * 미국 시카고상품거래소 상장 미국채 선물의 일간 변동률을 역으로 2배 추종<br><br>\n",
    "* KODEX미국채울트라30년선물인버스ETF (26% 수익률)\n",
    "    * 미국채 30년 장기물을 역으로 추종<br><br>\n",
    "* 키움 `KOSEF 물가채KIS (1.11% 수익률), 물가채 평가 지표인 기대인플레이션(BEI) \n",
    "    * 물가채 ETF \n",
    "    * 국내 물가연동국채(소비자물가지수(CPI)에 연동된 만기 10년물 국채)에 투자하는 첫 ETF\n",
    "    * 이자율은 그대로지만 물가 상승률이 원금에 반영되는 구조\n",
    "    * 예) 약정이율이 1.0%인 물가연동국채를 100만원 보유할 경우 물가 상승률이 5%면 원금이 105만원으로 불어나는 것\n",
    "    * 물가채의 BEI(Break Even Inflation, 손익분기 인플레이션율) = 기대실제인플레이션 + 유동성프리미엄\n",
    "    \n",
    "    <br><br>\n",
    "* 최근 가파른 금리 상승으로 발행 채권의 가격이 하락해 저가 매수세가 유입되고 있다    \n",
    "* 신규 발행되는 채권의 이자율도 높은 수준으로 올라 채권 ETF 수요가 커지는 상황<br><br>\n",
    "* <font color=red>국채선물지수를 반대로 추종하는 상품의 수익률이 우수\n",
    "* <font color=red>채권 가격과 금리는 서로 반대로 움직여 금리가 하락하면 채권 가격이 오른다. \n",
    "* <font color=red>금리가 오르면 채권 가격이 하락하고 국고채 ETF 가격 역시 떨어진다. \n",
    "* <font color=red>금리 상승 시기에는 채권 가격의 역방향으로 투자하는 '인버스 상품'에 투자하면 높은 수익을 기대할 수 있다.  <br><br>\n",
    "* 운용사별로 채권형 ETF 시장, 2022.06기준    \n",
    "    KB자산운용(19종), 삼성자산운용(12종), 미래에셋자산운용(7종), 한국투자신탁운용(7종), 한화자산운용(6종), 키움투자자산운용(6종) "
   ]
  },
  {
   "cell_type": "markdown",
   "id": "51a58625-f795-4ba5-bec8-7cea8ff1dc66",
   "metadata": {},
   "source": [
    "<img src=\"https://file.mk.co.kr/meet/neds/2022/06/image_readtop_2022_520739_16552039775075411.jpg\">\n",
    "* ref : https://www.mk.co.kr/news/stock/view/2022/06/520739/"
   ]
  },
  {
   "cell_type": "markdown",
   "id": "4624f417-10ac-47c9-98ef-610e467dfa4d",
   "metadata": {},
   "source": [
    "----\n",
    "## <font color=red><b>[NEWS] 한미 금리역전</b></font>\n",
    "* ref : https://www.mk.co.kr/news/stock/view/2022/07/579525/\n",
    "* 외화표시채권KP(Korea Paper): 한국 금융사나 대기업에서 외환조달을 위해 발행한 외화표시채권\n",
    "    * 최소 가입 금액이 20만달러(약 2억5700만원)\n",
    "    * 한미 금리역전되면 더 좋은 이 상품…6% 수익률까지\n",
    "    * 한미 기준금리 역전이 현실화되면 미국의 채권 금리가 국내보다 빠르게 상승하면서 가산금리가 붙게 된다. \n",
    "    * 거래 시점에 따라 향후 금리가 크게 상승하면 매매가격이 떨어져 손실을 볼 위험성이 있다"
   ]
  },
  {
   "cell_type": "markdown",
   "id": "1e3022ea-428e-4f22-85da-8fcae38c751f",
   "metadata": {},
   "source": [
    "<font color=red><b> 한국과 미국의 금리 역전이 가능할 수 있는 이유  </b><font>\n",
    "* 펀드멘털. 2004년~2006년 한미간 금리역전 사례 (역전폭이 무려 1%)\n",
    "    * 대규모 무역수지 흑자를 통해 달러화가 국내에 꾸준히 유입되면서 원화가 계속 절상 압력\n",
    "    * 한국 금리가 미국보다는 낮더라도 원화가치가 계속해서 상승할 것으로 예상\n",
    "* 다른 대부분의 국가보다 상대적으로 저금리와 높은 신용도 \n",
    "    *  한국의국가 신용등급도 글로벌 3개사 평균이 AA급\n",
    "    * 외국인의 채권투자 만기 장기화는 원화채권에 대한 안정성이 높다는 사실을 입증"
   ]
  },
  {
   "cell_type": "markdown",
   "id": "978780d0-9cce-47c2-8bd5-2902667c94dd",
   "metadata": {},
   "source": [
    "## [NEWS] 태풍 만난 연금개미들…'달러채 ETF' 꽉 잡았다\n",
    "* ref : https://www.mk.co.kr/news/stock/view/2022/07/579523/\n",
    "* 연금계좌를 활용한 투자\n",
    "    * 달러채권(원·달러 환율 상승 효과) +  상장지수펀드ETF(금리 영향을 적게 받는 단기 채권)에 분산투자\n",
    "* 타이거(TIGER) 미국달러단기채권액티브 ETF(약 8% 수익률)\n",
    "    * 올해 들어 연금 투자자들이 가장 많이 매수한 상품  \n",
    "* 국고채 10년물·30년물 등 장기채 ETF \n",
    "    * 올해 금리 상승세가 이어지고 채권 가격이 하락하면서 마이너스 수익률을 기록  "
   ]
  },
  {
   "cell_type": "markdown",
   "id": "b13eb3f6-6f3a-4446-a2bb-6a0ba8b1e98b",
   "metadata": {},
   "source": [
    "<img src=\"https://file.mk.co.kr/meet/neds/2022/07/image_readmed_2022_579523_16566707645094244.jpg\">"
   ]
  },
  {
   "cell_type": "markdown",
   "id": "63c11fa3-b9f9-40d6-8233-623f013c494f",
   "metadata": {},
   "source": [
    "# [실습] 포트폴리오 : 채권 비율\n",
    "* Data Load\n",
    "* EDA : 총누적배당금, 일일수익률, 만기수익률, 변동성(위험) 대비 수익률, 수익률간 상관관계\n",
    "* 샤프 지수에 따른 포트폴리오 비율 산정\n",
    "* 최적의 수익률, 변동성"
   ]
  },
  {
   "cell_type": "code",
   "execution_count": 7,
   "id": "a14076a1-11aa-42db-aad0-ad7685b421cd",
   "metadata": {},
   "outputs": [],
   "source": [
    "import pandas as pd\n",
    "import numpy as np\n",
    "import yfinance as yf\n",
    "import time\n",
    "import matplotlib.pyplot as plt\n",
    "import seaborn as sns\n",
    "sns.set()"
   ]
  },
  {
   "cell_type": "markdown",
   "id": "61d6515a-6217-41ff-8e25-fafe9954dfe1",
   "metadata": {},
   "source": [
    "## Data Load"
   ]
  },
  {
   "cell_type": "code",
   "execution_count": 8,
   "id": "ae426a38-ada8-49a3-8232-67a2fbc17c7b",
   "metadata": {},
   "outputs": [],
   "source": [
    "#------------------------------------------------\n",
    "# 주가 & 배당금\n",
    "#------------------------------------------------\n",
    "class YFinance():\n",
    "    def __init__(self, tickers, period):\n",
    "        self.period = period       \n",
    "        self.df_price    = pd.DataFrame()\n",
    "        self.df_dividends = pd.DataFrame()\n",
    "        for ticker in tickers:\n",
    "            print(f'ticker : {ticker}')\n",
    "            full_data = yf.Ticker(ticker).history(start=self.period[0], end=self.period[1])\n",
    "            self.df_price[ticker]     = full_data['Close']\n",
    "            self.df_dividends[ticker] = full_data['Dividends']\n",
    "            time.sleep(0.5)            \n",
    "    def get_price(self):  \n",
    "        self.df_price.columns = ['us_stock','kr_stock','us_bond','kr_bond']\n",
    "        return self.df_price\n",
    "        \n",
    "    def get_dividends(self):\n",
    "        self.df_dividends.columns = ['us_stock','kr_stock','us_bond','kr_bond']\n",
    "        return self.df_dividends\n"
   ]
  },
  {
   "cell_type": "code",
   "execution_count": 9,
   "id": "3be90e51-b2c6-4e9a-898b-9c38358cc192",
   "metadata": {},
   "outputs": [
    {
     "name": "stdout",
     "output_type": "stream",
     "text": [
      "ticker : SPY\n",
      "ticker : ^KS11\n",
      "ticker : IEF\n",
      "ticker : 148070.KS\n",
      "(2517, 4) (2517, 4)\n"
     ]
    }
   ],
   "source": [
    "tickers      = ['SPY', '^KS11','IEF', '148070.KS'] # 채권 :각 국가의 7~10년물 국채 \n",
    "# start_date   = '2017-01-01'\n",
    "# end_date     = '2021-12-31'\n",
    "start_date = '2012-02-28'\n",
    "end_date = '2022-02-28'\n",
    "y_finance    = YFinance(tickers=tickers, period=(start_date, end_date))\n",
    "\n",
    "yf_price     = y_finance.get_price()       # 주가\n",
    "yf_dividends = y_finance.get_dividends()   # 배당금\n",
    "print(yf_price.shape, yf_dividends.shape)"
   ]
  },
  {
   "cell_type": "code",
   "execution_count": 10,
   "id": "d9652f67-f93d-4749-9cd1-33a70a8568dc",
   "metadata": {},
   "outputs": [
    {
     "data": {
      "text/html": [
       "<div>\n",
       "<style scoped>\n",
       "    .dataframe tbody tr th:only-of-type {\n",
       "        vertical-align: middle;\n",
       "    }\n",
       "\n",
       "    .dataframe tbody tr th {\n",
       "        vertical-align: top;\n",
       "    }\n",
       "\n",
       "    .dataframe thead th {\n",
       "        text-align: right;\n",
       "    }\n",
       "</style>\n",
       "<table border=\"1\" class=\"dataframe\">\n",
       "  <thead>\n",
       "    <tr style=\"text-align: right;\">\n",
       "      <th></th>\n",
       "      <th>us_stock</th>\n",
       "      <th>kr_stock</th>\n",
       "      <th>us_bond</th>\n",
       "      <th>kr_bond</th>\n",
       "    </tr>\n",
       "    <tr>\n",
       "      <th>Date</th>\n",
       "      <th></th>\n",
       "      <th></th>\n",
       "      <th></th>\n",
       "      <th></th>\n",
       "    </tr>\n",
       "  </thead>\n",
       "  <tbody>\n",
       "    <tr>\n",
       "      <th>2012-02-28 00:00:00-05:00</th>\n",
       "      <td>111.345184</td>\n",
       "      <td>NaN</td>\n",
       "      <td>86.544800</td>\n",
       "      <td>NaN</td>\n",
       "    </tr>\n",
       "    <tr>\n",
       "      <th>2012-02-29 00:00:00-05:00</th>\n",
       "      <td>110.908089</td>\n",
       "      <td>NaN</td>\n",
       "      <td>86.200394</td>\n",
       "      <td>NaN</td>\n",
       "    </tr>\n",
       "  </tbody>\n",
       "</table>\n",
       "</div>"
      ],
      "text/plain": [
       "                             us_stock  kr_stock    us_bond  kr_bond\n",
       "Date                                                               \n",
       "2012-02-28 00:00:00-05:00  111.345184       NaN  86.544800      NaN\n",
       "2012-02-29 00:00:00-05:00  110.908089       NaN  86.200394      NaN"
      ]
     },
     "execution_count": 10,
     "metadata": {},
     "output_type": "execute_result"
    }
   ],
   "source": [
    "yf_price.head(2)"
   ]
  },
  {
   "cell_type": "code",
   "execution_count": 11,
   "id": "8e66052d-cbd6-47f6-9ab4-ab7175b5cc7f",
   "metadata": {},
   "outputs": [
    {
     "data": {
      "text/html": [
       "<div>\n",
       "<style scoped>\n",
       "    .dataframe tbody tr th:only-of-type {\n",
       "        vertical-align: middle;\n",
       "    }\n",
       "\n",
       "    .dataframe tbody tr th {\n",
       "        vertical-align: top;\n",
       "    }\n",
       "\n",
       "    .dataframe thead th {\n",
       "        text-align: right;\n",
       "    }\n",
       "</style>\n",
       "<table border=\"1\" class=\"dataframe\">\n",
       "  <thead>\n",
       "    <tr style=\"text-align: right;\">\n",
       "      <th></th>\n",
       "      <th>us_stock</th>\n",
       "      <th>kr_stock</th>\n",
       "      <th>us_bond</th>\n",
       "      <th>kr_bond</th>\n",
       "    </tr>\n",
       "    <tr>\n",
       "      <th>Date</th>\n",
       "      <th></th>\n",
       "      <th></th>\n",
       "      <th></th>\n",
       "      <th></th>\n",
       "    </tr>\n",
       "  </thead>\n",
       "  <tbody>\n",
       "    <tr>\n",
       "      <th>2012-02-28 00:00:00-05:00</th>\n",
       "      <td>0.0</td>\n",
       "      <td>NaN</td>\n",
       "      <td>0.0</td>\n",
       "      <td>NaN</td>\n",
       "    </tr>\n",
       "    <tr>\n",
       "      <th>2012-02-29 00:00:00-05:00</th>\n",
       "      <td>0.0</td>\n",
       "      <td>NaN</td>\n",
       "      <td>0.0</td>\n",
       "      <td>NaN</td>\n",
       "    </tr>\n",
       "  </tbody>\n",
       "</table>\n",
       "</div>"
      ],
      "text/plain": [
       "                           us_stock  kr_stock  us_bond  kr_bond\n",
       "Date                                                           \n",
       "2012-02-28 00:00:00-05:00       0.0       NaN      0.0      NaN\n",
       "2012-02-29 00:00:00-05:00       0.0       NaN      0.0      NaN"
      ]
     },
     "execution_count": 11,
     "metadata": {},
     "output_type": "execute_result"
    }
   ],
   "source": [
    "yf_dividends.head(2)"
   ]
  },
  {
   "cell_type": "code",
   "execution_count": 12,
   "id": "2a7c13d4-9a8b-4d2a-9e00-8a9b29a50c22",
   "metadata": {},
   "outputs": [
    {
     "name": "stdout",
     "output_type": "stream",
     "text": [
      "(0, 4) (0, 4)\n"
     ]
    }
   ],
   "source": [
    "yf_price     = yf_price.dropna()\n",
    "yf_dividends = yf_dividends.dropna()\n",
    "print(yf_price.shape, yf_dividends.shape) #(1258, 4) (1258, 4)"
   ]
  },
  {
   "cell_type": "code",
   "execution_count": 13,
   "id": "369dd5cf-3bb6-4569-a8d4-2ba892ebd5cb",
   "metadata": {},
   "outputs": [
    {
     "data": {
      "text/plain": [
       "(NaT, NaT)"
      ]
     },
     "execution_count": 13,
     "metadata": {},
     "output_type": "execute_result"
    }
   ],
   "source": [
    "yf_price.index.min(), yf_price.index.max()"
   ]
  },
  {
   "cell_type": "code",
   "execution_count": 14,
   "id": "5d93c45b-2ce5-4b56-b9dc-d3df20891d73",
   "metadata": {},
   "outputs": [
    {
     "data": {
      "text/plain": [
       "(NaT, NaT)"
      ]
     },
     "execution_count": 14,
     "metadata": {},
     "output_type": "execute_result"
    }
   ],
   "source": [
    "yf_dividends.index.min(), yf_dividends.index.max()"
   ]
  },
  {
   "cell_type": "markdown",
   "id": "cc0b2ce9-cfb7-4f99-a2c4-1368174560f3",
   "metadata": {},
   "source": [
    "## 총 누적 배당금"
   ]
  },
  {
   "cell_type": "code",
   "execution_count": 15,
   "id": "15019508-cdde-48c9-b778-78a4b2589b05",
   "metadata": {},
   "outputs": [
    {
     "ename": "IndexError",
     "evalue": "single positional indexer is out-of-bounds",
     "output_type": "error",
     "traceback": [
      "\u001b[1;31m---------------------------------------------------------------------------\u001b[0m",
      "\u001b[1;31mIndexError\u001b[0m                                Traceback (most recent call last)",
      "Cell \u001b[1;32mIn[15], line 1\u001b[0m\n\u001b[1;32m----> 1\u001b[0m price_rate \u001b[38;5;241m=\u001b[39m yf_price\u001b[38;5;241m/\u001b[39m\u001b[43myf_price\u001b[49m\u001b[38;5;241;43m.\u001b[39;49m\u001b[43miloc\u001b[49m\u001b[43m[\u001b[49m\u001b[38;5;241;43m0\u001b[39;49m\u001b[43m]\u001b[49m       \u001b[38;5;66;03m#기준일(2017-01-03) 대비 증감\u001b[39;00m\n\u001b[0;32m      2\u001b[0m \u001b[38;5;28mprint\u001b[39m( yf_dividends\u001b[38;5;241m.\u001b[39msum())\n\u001b[0;32m      3\u001b[0m price_rate\u001b[38;5;241m.\u001b[39mhead(\u001b[38;5;241m4\u001b[39m)\n",
      "File \u001b[1;32mC:\\AI\\pythonProject2\\venv\\lib\\site-packages\\pandas\\core\\indexing.py:1073\u001b[0m, in \u001b[0;36m_LocationIndexer.__getitem__\u001b[1;34m(self, key)\u001b[0m\n\u001b[0;32m   1070\u001b[0m axis \u001b[38;5;241m=\u001b[39m \u001b[38;5;28mself\u001b[39m\u001b[38;5;241m.\u001b[39maxis \u001b[38;5;129;01mor\u001b[39;00m \u001b[38;5;241m0\u001b[39m\n\u001b[0;32m   1072\u001b[0m maybe_callable \u001b[38;5;241m=\u001b[39m com\u001b[38;5;241m.\u001b[39mapply_if_callable(key, \u001b[38;5;28mself\u001b[39m\u001b[38;5;241m.\u001b[39mobj)\n\u001b[1;32m-> 1073\u001b[0m \u001b[38;5;28;01mreturn\u001b[39;00m \u001b[38;5;28;43mself\u001b[39;49m\u001b[38;5;241;43m.\u001b[39;49m\u001b[43m_getitem_axis\u001b[49m\u001b[43m(\u001b[49m\u001b[43mmaybe_callable\u001b[49m\u001b[43m,\u001b[49m\u001b[43m \u001b[49m\u001b[43maxis\u001b[49m\u001b[38;5;241;43m=\u001b[39;49m\u001b[43maxis\u001b[49m\u001b[43m)\u001b[49m\n",
      "File \u001b[1;32mC:\\AI\\pythonProject2\\venv\\lib\\site-packages\\pandas\\core\\indexing.py:1625\u001b[0m, in \u001b[0;36m_iLocIndexer._getitem_axis\u001b[1;34m(self, key, axis)\u001b[0m\n\u001b[0;32m   1622\u001b[0m     \u001b[38;5;28;01mraise\u001b[39;00m \u001b[38;5;167;01mTypeError\u001b[39;00m(\u001b[38;5;124m\"\u001b[39m\u001b[38;5;124mCannot index by location index with a non-integer key\u001b[39m\u001b[38;5;124m\"\u001b[39m)\n\u001b[0;32m   1624\u001b[0m \u001b[38;5;66;03m# validate the location\u001b[39;00m\n\u001b[1;32m-> 1625\u001b[0m \u001b[38;5;28;43mself\u001b[39;49m\u001b[38;5;241;43m.\u001b[39;49m\u001b[43m_validate_integer\u001b[49m\u001b[43m(\u001b[49m\u001b[43mkey\u001b[49m\u001b[43m,\u001b[49m\u001b[43m \u001b[49m\u001b[43maxis\u001b[49m\u001b[43m)\u001b[49m\n\u001b[0;32m   1627\u001b[0m \u001b[38;5;28;01mreturn\u001b[39;00m \u001b[38;5;28mself\u001b[39m\u001b[38;5;241m.\u001b[39mobj\u001b[38;5;241m.\u001b[39m_ixs(key, axis\u001b[38;5;241m=\u001b[39maxis)\n",
      "File \u001b[1;32mC:\\AI\\pythonProject2\\venv\\lib\\site-packages\\pandas\\core\\indexing.py:1557\u001b[0m, in \u001b[0;36m_iLocIndexer._validate_integer\u001b[1;34m(self, key, axis)\u001b[0m\n\u001b[0;32m   1555\u001b[0m len_axis \u001b[38;5;241m=\u001b[39m \u001b[38;5;28mlen\u001b[39m(\u001b[38;5;28mself\u001b[39m\u001b[38;5;241m.\u001b[39mobj\u001b[38;5;241m.\u001b[39m_get_axis(axis))\n\u001b[0;32m   1556\u001b[0m \u001b[38;5;28;01mif\u001b[39;00m key \u001b[38;5;241m>\u001b[39m\u001b[38;5;241m=\u001b[39m len_axis \u001b[38;5;129;01mor\u001b[39;00m key \u001b[38;5;241m<\u001b[39m \u001b[38;5;241m-\u001b[39mlen_axis:\n\u001b[1;32m-> 1557\u001b[0m     \u001b[38;5;28;01mraise\u001b[39;00m \u001b[38;5;167;01mIndexError\u001b[39;00m(\u001b[38;5;124m\"\u001b[39m\u001b[38;5;124msingle positional indexer is out-of-bounds\u001b[39m\u001b[38;5;124m\"\u001b[39m)\n",
      "\u001b[1;31mIndexError\u001b[0m: single positional indexer is out-of-bounds"
     ]
    }
   ],
   "source": [
    "price_rate = yf_price/yf_price.iloc[0]       #기준일(2017-01-03) 대비 증감\n",
    "print( yf_dividends.sum())\n",
    "price_rate.head(4)"
   ]
  },
  {
   "cell_type": "code",
   "execution_count": null,
   "id": "23cd3fac-8f12-4c4d-8295-60abf8c2e25d",
   "metadata": {},
   "outputs": [],
   "source": [
    "plt.figure(figsize=(12,4))\n",
    "sns.lineplot(data=price_rate)\n",
    "plt.ylim((0, price_rate.max().max()))\n",
    "plt.title('Increase/decrease rate compared to the base date')\n",
    "plt.show()"
   ]
  },
  {
   "cell_type": "markdown",
   "id": "95adef35-01c1-4a88-910d-a0a19e7fe372",
   "metadata": {},
   "source": [
    "## 일일수익률, 만기수익률"
   ]
  },
  {
   "cell_type": "code",
   "execution_count": null,
   "id": "5d5b9091-82ed-4eec-b4c7-191ba70cebfa",
   "metadata": {},
   "outputs": [],
   "source": [
    "pcc = yf_price.pct_change(1).iloc[1:,:]  # 1행제외(NaN)\n",
    "pcc.head(2)"
   ]
  },
  {
   "cell_type": "code",
   "execution_count": null,
   "id": "9abcf8da-d33e-4dc1-91be-8a0ec0ad104b",
   "metadata": {},
   "outputs": [],
   "source": [
    "plt.figure(figsize=(12,8))\n",
    "for i in range(4):\n",
    "    data = pcc.iloc[:,i]\n",
    "    plt.subplot(int(f'22{i+1}'))\n",
    "    sns.lineplot(data=data)\n",
    "    inc_rate = (data > 0).sum() / len(data) * 100\n",
    "    plt.title(f'< {data.name} : Increase rate {inc_rate:.2f}% >')\n",
    "    plt.axhline(y=0, color='r', linestyle='--')\n",
    "\n",
    "plt.tight_layout()\n",
    "plt.show()"
   ]
  },
  {
   "cell_type": "code",
   "execution_count": null,
   "id": "dc420782-fe73-4e18-929f-a360868e8c2b",
   "metadata": {},
   "outputs": [],
   "source": [
    "pcc.head(1) "
   ]
  },
  {
   "cell_type": "code",
   "execution_count": null,
   "id": "0cf6038a-1b45-41ab-82c2-ca7ddd4e8948",
   "metadata": {},
   "outputs": [],
   "source": [
    "pcc.tail(1)"
   ]
  },
  {
   "cell_type": "code",
   "execution_count": null,
   "id": "48ab0910-c3b4-48af-8cdd-122f0fa7fff9",
   "metadata": {},
   "outputs": [],
   "source": [
    "pcc.cumsum().tail(1)"
   ]
  },
  {
   "cell_type": "code",
   "execution_count": null,
   "id": "f29aa5c9-ca68-47b6-8f73-140e0162867c",
   "metadata": {},
   "outputs": [],
   "source": [
    "return_rate = np.round(pcc.cumsum().tail(1).values*100, 0)[0]\n",
    "return_rate"
   ]
  },
  {
   "cell_type": "code",
   "execution_count": null,
   "id": "96eb9e51-21fe-4dcc-8897-510ca73341b0",
   "metadata": {},
   "outputs": [],
   "source": [
    "plt.figure(figsize=(9,4))\n",
    "bars = sns.barplot(x=pcc.columns, y=return_rate)\n",
    "for p in bars.patches:\n",
    "    bars.annotate(f'{p.get_height():.1f}%',\n",
    "                    (p.get_x() + p.get_width() / 2., p.get_height()),\n",
    "                     ha = 'center', va='center',\n",
    "                     xytext = (0,9),\n",
    "                     textcoords = 'offset points')\n",
    "    \n",
    "plt.title(f'Return rate of total period (%) - {(yf_price.index[-1] - yf_price.index[0]).days} days')\n",
    "plt.show()"
   ]
  },
  {
   "cell_type": "markdown",
   "id": "8466b47e-1513-4bca-9084-18db3dca94c2",
   "metadata": {},
   "source": [
    "## 수익률 간 상관관계"
   ]
  },
  {
   "cell_type": "code",
   "execution_count": null,
   "id": "9648852c-f16b-40fc-a667-b22c0b990c93",
   "metadata": {},
   "outputs": [],
   "source": [
    "plt.title(\"Correlation of all asset's percent change\")\n",
    "sns.heatmap(yf_price.pct_change().corr(), cmap='Blues', annot=True, fmt=\".2f\")\n",
    "plt.show()"
   ]
  },
  {
   "cell_type": "code",
   "execution_count": null,
   "id": "0a9ef060-a2df-446d-b3d0-7da4ebb359b1",
   "metadata": {},
   "outputs": [],
   "source": []
  },
  {
   "cell_type": "markdown",
   "id": "ee26131d-525e-4869-a372-03fb0df62a4a",
   "metadata": {},
   "source": [
    "## 변동성(위험) 대비 수익률"
   ]
  },
  {
   "cell_type": "markdown",
   "id": "146d8182-a52b-4e43-a6c1-8e9df1f58166",
   "metadata": {},
   "source": [
    "* 연 평균 수익률   \n",
    "    ((마지막날 자산가격 + (배당금) / 첫날 자산 가격 )   * np.sqrt(10)\n",
    "* 연간 리스크 :     \n",
    "    분산(변동성 제곱)  = 'W x 공분산 x WT'을 계산  \n",
    "    표준편차(변동성)   = np.sqrt(분산(변동성 제곱))  "
   ]
  },
  {
   "cell_type": "code",
   "execution_count": null,
   "id": "bc6f4de3-168f-4cab-9aaa-04bd6245bde3",
   "metadata": {},
   "outputs": [],
   "source": [
    "port_ratios = []\n",
    "port_returns = np.array([])\n",
    "port_risks = np.array([])\n",
    "for i in range(10000): # 포트폴리오 비율 조합 10000개\n",
    "    # 포트폴리오 비율\n",
    "    port_ratio = np.random.rand(len(yf_price.columns)) # 4가지 랜덤 실수 조합\n",
    "    port_ratio = port_ratio / port_ratio.sum() # 합계가 1인 랜덤 실수\n",
    "    port_ratios.append(port_ratio)\n",
    "    \n",
    "    # 연 평균 수익률\n",
    "    total_return_rate = (yf_price.iloc[-1] + yf_dividends.sum()) / yf_price.iloc[0] # 배당금 합산 총 수익률(%)\n",
    "    annual_avg_rr = total_return_rate ** (1/10) # 연 (기하)평균 수익률(%)\n",
    "    port_return = np.dot(port_ratio, annual_avg_rr-1) # 연 평균 포트폴리오 수익률 = 연 평균 수익률과 포트폴리오 비율의 행렬곱\n",
    "    port_returns = np.append(port_returns, port_return)\n",
    "    \n",
    "    # 연간 리스크\n",
    "    annual_cov = yf_price.pct_change().cov() * len(yf_price)/10 # 연간 수익률의 공분산 = 일별 수익률 공분산 * 연간 평균 거래일수\n",
    "    port_risk = np.sqrt(np.dot(port_ratio.T, np.dot(annual_cov, port_ratio))) # E(Volatility) = sqrt(WT*COV*W)\n",
    "    port_risks = np.append(port_risks, port_risk)"
   ]
  },
  {
   "cell_type": "code",
   "execution_count": null,
   "id": "1763ffab-277f-487d-b0a8-6658809ff202",
   "metadata": {},
   "outputs": [],
   "source": [
    "sorted_shape_idx = np.argsort(port_returns/port_risks)\n",
    "sorted_risk_idx = np.argsort(port_risks)\n",
    "plt.figure(figsize=(12,6))\n",
    "sns.scatterplot(x=port_risks, y=port_returns, c=port_returns/port_risks, cmap='cool', alpha=0.85, s=20)\n",
    "sns.scatterplot(x=port_risks[sorted_shape_idx[-1:]], y=port_returns[sorted_shape_idx[-1:]], color='r', marker='^', s=500)\n",
    "sns.scatterplot(x=port_risks[sorted_risk_idx[:1]], y=port_returns[sorted_risk_idx[:1]], color='b', marker='v', s=500)\n",
    "\n",
    "plt.title('Return per unit risk')\n",
    "plt.show()"
   ]
  },
  {
   "cell_type": "code",
   "execution_count": null,
   "id": "2a8f6026-6324-4996-b832-564a15561933",
   "metadata": {},
   "outputs": [],
   "source": [
    "port_df = pd.DataFrame(port_ratios)\n",
    "port_df.head(2)"
   ]
  },
  {
   "cell_type": "markdown",
   "id": "dd0b65ab-5e04-43b9-bb26-48f4be777fef",
   "metadata": {},
   "source": [
    "* * https://songseungwon.tistory.com/118"
   ]
  },
  {
   "cell_type": "code",
   "execution_count": null,
   "id": "afa97f80-c125-4ef8-ab01-d97f3f7329a6",
   "metadata": {},
   "outputs": [],
   "source": [
    "sorted_port_df = port_df.iloc[sorted_shape_idx[::-1]] # 역순\n",
    "sorted_port_df.columns = yf_price.columns\n",
    "\n",
    "plt.figure(figsize=(12,4))\n",
    "plt.stackplot(np.arange(1,len(sorted_port_df)+1,1), np.array(sorted_port_df.T), labels=sorted_port_df.columns)\n",
    "\n",
    "plt.xlim(0,10000)\n",
    "plt.legend(bbox_to_anchor=(1.12,0.95))\n",
    "plt.xlabel('Ranking of Sharpe Ratio')\n",
    "plt.ylabel('Portfolio Ratio')\n",
    "plt.title('Ranking of Optimal Portfolios by Sharpe Ratio')\n",
    "plt.show()\n"
   ]
  },
  {
   "cell_type": "markdown",
   "id": "94b3bd9b-a1aa-4bd5-b297-87b94871166a",
   "metadata": {},
   "source": [
    "## 포트폴리오 비율"
   ]
  },
  {
   "cell_type": "code",
   "execution_count": null,
   "id": "8435f0dd-9be5-4082-b632-064f3110112a",
   "metadata": {},
   "outputs": [],
   "source": [
    "sorted_returns = port_returns[[sorted_port_df.index]]\n",
    "sorted_risks = port_risks[[sorted_port_df.index]]\n"
   ]
  },
  {
   "cell_type": "code",
   "execution_count": null,
   "id": "9bbb4d02-6ef6-4d7e-b4db-4eae31eec159",
   "metadata": {},
   "outputs": [],
   "source": [
    "\n",
    "plt.figure(figsize=(12,4))\n",
    "plt.fill_between(x=np.arange(1,len(sorted_returns)+1,1), y1=sorted_returns.tolist(), label='return')\n",
    "plt.fill_between(x=np.arange(1,len(sorted_risks)+1,1), y1=sorted_risks.tolist(), alpha=0.3, label='risk')\n",
    "plt.xlabel('Ranking of Sharpe Ratio')\n",
    "plt.ylabel('Return & Risk')\n",
    "plt.title('Returns & Risks of Portfolio by Sharpe Ratio Ranking')\n",
    "plt.legend()\n",
    "plt.show()\n"
   ]
  },
  {
   "cell_type": "code",
   "execution_count": null,
   "id": "d235d15a-e792-4331-ade5-28bef9b7c795",
   "metadata": {},
   "outputs": [],
   "source": []
  },
  {
   "cell_type": "code",
   "execution_count": null,
   "id": "7dc0d8a1-bc09-4935-b3ef-a022d1d5f5d6",
   "metadata": {},
   "outputs": [],
   "source": [
    "print(f'최적의 포트폴리오 비율 : \\n{pd.Series(sorted_port_df.iloc[0], index=sorted_port_df.columns)}')"
   ]
  },
  {
   "cell_type": "code",
   "execution_count": null,
   "id": "c8384feb-a6d4-4136-a4f2-76d85aff2499",
   "metadata": {},
   "outputs": [],
   "source": []
  }
 ],
 "metadata": {
  "kernelspec": {
   "display_name": "Python 3 (ipykernel)",
   "language": "python",
   "name": "python3"
  },
  "language_info": {
   "codemirror_mode": {
    "name": "ipython",
    "version": 3
   },
   "file_extension": ".py",
   "mimetype": "text/x-python",
   "name": "python",
   "nbconvert_exporter": "python",
   "pygments_lexer": "ipython3",
   "version": "3.8.8"
  },
  "toc-autonumbering": true
 },
 "nbformat": 4,
 "nbformat_minor": 5
}

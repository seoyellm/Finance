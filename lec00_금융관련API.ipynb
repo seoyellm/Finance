{
 "cells": [
  {
   "cell_type": "markdown",
   "id": "28bfbe7a-de81-4d5e-8c93-b6f05e89b91c",
   "metadata": {},
   "source": [
    "<font size=6><b>Lec01 : 금융관련 API 활용 </b></font>"
   ]
  },
  {
   "cell_type": "code",
   "execution_count": 1,
   "id": "1bc75938-1d9d-4c7f-8fb8-2be0a2706446",
   "metadata": {
    "tags": []
   },
   "outputs": [
    {
     "data": {
      "text/html": [
       "<style>.container{width:100% !important;}</style>"
      ],
      "text/plain": [
       "<IPython.core.display.HTML object>"
      ]
     },
     "metadata": {},
     "output_type": "display_data"
    }
   ],
   "source": [
    "import pandas as pd\n",
    "import numpy as np\n",
    "import matplotlib.pyplot as plt\n",
    "import seaborn as sns\n",
    "\n",
    "import warnings\n",
    "warnings.filterwarnings(action='ignore')\n",
    "\n",
    "#-------------------- 차트 관련 속성 (한글처리, 그리드) -----------\n",
    "#plt.rc('font', family='NanumGothicOTF') # For MacOS\n",
    "plt.rcParams['font.family']= 'Malgun Gothic'\n",
    "plt.rcParams['axes.unicode_minus'] = False\n",
    "sns.set()\n",
    "\n",
    "#-------------------- 주피터 , 출력결과 넓이 늘리기 ---------------\n",
    "from IPython.core.display import display, HTML\n",
    "display(HTML(\"<style>.container{width:100% !important;}</style>\"))\n",
    "pd.set_option('display.max_rows', 100)\n",
    "pd.set_option('display.max_columns', 100)\n",
    "pd.set_option('max_colwidth', None)\n"
   ]
  },
  {
   "cell_type": "markdown",
   "id": "453a794b-2ef4-4203-b74e-2dd97a304193",
   "metadata": {
    "tags": []
   },
   "source": [
    "# 증시 정보 관련 "
   ]
  },
  {
   "cell_type": "markdown",
   "id": "7374c086-0ca5-4617-b83a-05fa9f3d1d0a",
   "metadata": {},
   "source": [
    "<img src=\"https://avatars.githubusercontent.com/u/34187310?v=4\">"
   ]
  },
  {
   "cell_type": "markdown",
   "id": "1886da00-829b-4f01-8418-0c37f73af1b7",
   "metadata": {
    "tags": []
   },
   "source": [
    "## PyKRX\n",
    "* 웹 싸이트 (Naver/KRX)에서 주가 정보 스크래핑\n",
    "* 외국계 제공 x, 한국 거래소의 정보만\n",
    "* ref : https://github.com/sharebook-kr/pykrx\n",
    "\n",
    "----\n",
    "* STOCK : MarketData, 인덱스, 공매도\n",
    "* ETX : ETF, ETN, ELW\n",
    "* 채권\n",
    "* 채권 수익률\n",
    "* 기타"
   ]
  },
  {
   "cell_type": "code",
   "execution_count": 2,
   "id": "9bbb06fe-3573-48ad-b768-b39bc3fd416b",
   "metadata": {
    "tags": []
   },
   "outputs": [],
   "source": [
    "# ! pip install pykrx"
   ]
  },
  {
   "cell_type": "code",
   "execution_count": 2,
   "id": "d4ab41a9-7ecb-474c-b66b-7f3f63e5376e",
   "metadata": {
    "tags": []
   },
   "outputs": [],
   "source": [
    "from pykrx import stock  # 주식  api\n",
    "from pykrx import bond   # 채권  api"
   ]
  },
  {
   "cell_type": "markdown",
   "id": "383b1ac6-ba64-4c53-9e9f-133defd301f5",
   "metadata": {},
   "source": [
    "* Stock 모듈 - MarketData API"
   ]
  },
  {
   "cell_type": "code",
   "execution_count": 33,
   "id": "12770d4e-3c84-4f0b-be10-559287d38d4a",
   "metadata": {
    "tags": []
   },
   "outputs": [
    {
     "name": "stdout",
     "output_type": "stream",
     "text": [
      "['095570', '006840', '027410', '282330', '138930']\n"
     ]
    }
   ],
   "source": [
    "# tickers, symbol : 기업에 대한 코드나, 기업명 \n",
    "tickers = stock.get_market_ticker_list(\"202201\")   # 2021-01 해당 일자 코스피 상장된 ticker : 상패업종 따로 분리하지 않음(거래대금, 종가 =0 것들이 상패)\n",
    "print(tickers[:5])"
   ]
  },
  {
   "cell_type": "code",
   "execution_count": 48,
   "id": "7877a239-8966-418f-ab17-0570c62d8da4",
   "metadata": {
    "tags": []
   },
   "outputs": [
    {
     "name": "stdout",
     "output_type": "stream",
     "text": [
      "['060310', '054620', '265520', '211270', '035760']\n"
     ]
    }
   ],
   "source": [
    "# KONEX(코넥스) : 상장을 앞두고 있는 비상장주 -> 시장 외 거래, 예금자보호 받지 못함(위험)\n",
    "tickers = stock.get_market_ticker_list(\"20190225\", market=\"KOSDAQ\") #KOSPI, KOSDAQ, KONEX\n",
    "print(tickers[:5])"
   ]
  },
  {
   "cell_type": "markdown",
   "id": "01ed649a-c667-498e-aaa7-a08e962283dc",
   "metadata": {},
   "source": [
    "- 코스피 : 코스닥  = 3 : 7\n",
    "- 코스피: 대형주 / 코스닥: 기술주(변동성 큼), 동전주(몇백원)으로 주로 형성\n",
    "\n",
    "-  면접 질문 \n",
    "    - 코스피지수, 한국 상장 종목 개수, 코스피가 차지하는 비율 (약 30%)\n",
    "    - 가장 핫한 뉴스\n",
    "    - 입사하고자하는 회사의 주가는?"
   ]
  },
  {
   "cell_type": "code",
   "execution_count": 52,
   "id": "3d74ea9c-3990-44af-b35c-ffd4a5579538",
   "metadata": {
    "tags": []
   },
   "outputs": [
    {
     "data": {
      "text/plain": [
       "2690"
      ]
     },
     "execution_count": 52,
     "metadata": {},
     "output_type": "execute_result"
    }
   ],
   "source": [
    "tickers = stock.get_market_ticker_list(\"2023\", market=\"ALL\") #KOSPI, KOSDAQ, KONEX\n",
    "len(tickers)"
   ]
  },
  {
   "cell_type": "code",
   "execution_count": 51,
   "id": "8d8478ab-c62a-4603-b6fc-0dc24fd0e05b",
   "metadata": {
    "tags": []
   },
   "outputs": [
    {
     "data": {
      "text/plain": [
       "948"
      ]
     },
     "execution_count": 51,
     "metadata": {},
     "output_type": "execute_result"
    }
   ],
   "source": [
    "tickers = stock.get_market_ticker_list(\"20230426\", market=\"KOSPI\") #KOSPI, KOSDAQ, KONEX\n",
    "len(tickers)"
   ]
  },
  {
   "cell_type": "code",
   "execution_count": 53,
   "id": "38acedb7-fa86-45cd-90af-0c120f415f10",
   "metadata": {
    "tags": []
   },
   "outputs": [
    {
     "name": "stdout",
     "output_type": "stream",
     "text": [
      "CJ ENM\n"
     ]
    }
   ],
   "source": [
    "종목명 = stock.get_market_ticker_name('035760')\n",
    "print(종목명)"
   ]
  },
  {
   "cell_type": "code",
   "execution_count": 6,
   "id": "39a0594c-863b-4f39-b379-79c63f3b0eac",
   "metadata": {
    "tags": []
   },
   "outputs": [
    {
     "name": "stdout",
     "output_type": "stream",
     "text": [
      "            시가  고가  저가     종가  거래량  거래대금  등락률\n",
      "날짜                                           \n",
      "2018-04-30   0   0   0  53000    0     0  0.0\n",
      "2018-05-02   0   0   0  53000    0     0  0.0\n",
      "2018-05-03   0   0   0  53000    0     0  0.0\n"
     ]
    }
   ],
   "source": [
    "# o open, h high, l low, c close, v volume  \n",
    "df = stock.get_market_ohlcv(\"2018-04-28\", \"2018-05-10\", \"005930\") # (start, end, 종목) : start, end적어줄 경우 반드시 종목 적어야 함\n",
    "                                                                  #                    : start만 주는 것은 가능(년, 년-월, 년-월-일)\n",
    "print(df.head(3))"
   ]
  },
  {
   "cell_type": "code",
   "execution_count": 35,
   "id": "533864a1-5b08-453a-8611-9d539f1cf196",
   "metadata": {
    "tags": []
   },
   "outputs": [
    {
     "data": {
      "text/plain": [
       "[Timestamp('2022-02-03 00:00:00'),\n",
       " Timestamp('2022-02-04 00:00:00'),\n",
       " Timestamp('2022-02-07 00:00:00'),\n",
       " Timestamp('2022-02-08 00:00:00'),\n",
       " Timestamp('2022-02-09 00:00:00'),\n",
       " Timestamp('2022-02-10 00:00:00'),\n",
       " Timestamp('2022-02-11 00:00:00'),\n",
       " Timestamp('2022-02-14 00:00:00'),\n",
       " Timestamp('2022-02-15 00:00:00'),\n",
       " Timestamp('2022-02-16 00:00:00')]"
      ]
     },
     "execution_count": 35,
     "metadata": {},
     "output_type": "execute_result"
    }
   ],
   "source": [
    "stock.get_business_days(2022, 2)[:10]  # working day: 근무하는날 , 휴장일 확인 가능"
   ]
  },
  {
   "cell_type": "markdown",
   "id": "a7f62a9b-891d-4deb-a6a3-ef83c874d819",
   "metadata": {},
   "source": [
    "* 해당 날짜 기준 종목 정보\n",
    "* 대상 : etf, elw, market, index"
   ]
  },
  {
   "cell_type": "code",
   "execution_count": 8,
   "id": "c26c05f8-61a0-40f7-8eb9-6bf694f42865",
   "metadata": {
    "tags": []
   },
   "outputs": [
    {
     "data": {
      "text/plain": [
       "['095570', '006840', '027410']"
      ]
     },
     "execution_count": 8,
     "metadata": {},
     "output_type": "execute_result"
    }
   ],
   "source": [
    "stock.get_market_ticker_list(date='202201', market='KOSPI')[:3]"
   ]
  },
  {
   "cell_type": "code",
   "execution_count": 9,
   "id": "bc8ad7d4-0f32-4b1e-b9bb-4988ef6867aa",
   "metadata": {
    "tags": []
   },
   "outputs": [
    {
     "data": {
      "text/plain": [
       "['1001', '1002', '1003']"
      ]
     },
     "execution_count": 9,
     "metadata": {},
     "output_type": "execute_result"
    }
   ],
   "source": [
    "stock.get_index_ticker_list(date='202201', market='KOSPI')[:3]"
   ]
  },
  {
   "cell_type": "markdown",
   "id": "d9b5dc54-9c28-4b3e-859e-a9f927dcdbe1",
   "metadata": {},
   "source": [
    "* 네이버 주가정보 크롤링 정보 제공\n",
    "* krx는 네이버 사이트 크롤링 해서 사용하기 때문"
   ]
  },
  {
   "cell_type": "code",
   "execution_count": 10,
   "id": "9fa2324c-b0d7-49d7-828d-be1d8d4f5a70",
   "metadata": {
    "tags": []
   },
   "outputs": [
    {
     "name": "stdout",
     "output_type": "stream",
     "text": [
      "AJ네트웍스\n",
      "              시가    고가    저가    종가     거래량       거래대금   등락률\n",
      "날짜                                                         \n",
      "2018-12-10  4840  4840  4670  4750   32310  152157715 -2.06\n",
      "2018-12-11  4685  4750  4585  4585   37975  175311205 -3.47\n",
      "2018-12-12  4605  4605  4520  4540  102752  466242595 -0.98\n",
      "--------------------------------------------------------------------------------\n",
      "AK홀딩스\n",
      "               시가     고가     저가     종가    거래량        거래대금   등락률\n",
      "날짜                                                             \n",
      "2018-12-10  55400  56200  54900  55800  28618  1583487700  0.72\n",
      "2018-12-11  55800  56200  54900  55100  24302  1343526800 -1.25\n",
      "2018-12-12  55400  55900  54900  55900  13179   733026700  1.45\n",
      "--------------------------------------------------------------------------------\n",
      "BGF\n",
      "              시가    고가    저가    종가     거래량        거래대금   등락률\n",
      "날짜                                                          \n",
      "2018-12-10  7900  8000  7830  7900  103028   813870860 -1.25\n",
      "2018-12-11  7900  8010  7860  7900  122166   970701250  0.00\n",
      "2018-12-12  7900  8230  7900  8200  160608  1298009770  3.80\n",
      "--------------------------------------------------------------------------------\n"
     ]
    }
   ],
   "source": [
    "import time\n",
    "ticker_list = stock.get_market_ticker_list(date='202201', market='KOSPI')[:3]\n",
    "for ticker in ticker_list:\n",
    "    print(stock.get_market_ticker_name(ticker))\n",
    "    df = stock.get_market_ohlcv(\"20181210\", \"20181212\", ticker)\n",
    "    print(df.head())\n",
    "    print(\"----\" * 20)\n",
    "    time.sleep(1)      #------ 무작위 크롤링시 차단 주의 !!!!"
   ]
  },
  {
   "cell_type": "code",
   "execution_count": null,
   "id": "055b9662-1737-4e52-b877-7f8415a99143",
   "metadata": {},
   "outputs": [],
   "source": []
  },
  {
   "cell_type": "markdown",
   "id": "301bfc4d-82c0-4d8a-9d69-4adb8c7d0701",
   "metadata": {},
   "source": [
    "<img src=\"data:image/png;base64,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\" width=600>"
   ]
  },
  {
   "cell_type": "markdown",
   "id": "9ae00394-d3d0-478b-aaa8-e24beef8b2ac",
   "metadata": {
    "tags": []
   },
   "source": [
    "## FinanceDataReader\n",
    "* 수정종가(Adjusted Price) : 총 발행 주식수의 변화를 반영한 가격\n",
    "* 백테스트, 수익률 분석 시 반드시!!! 수정종가 사용  -->  주가 연속성 보장\n",
    "* <font color=red><b>FinanceDataReader 모든 가격을 수정가격(Adjusted Price)로 제공</b></font><br><br>\n",
    "* ref : https://github.com/FinanceData/FinanceDataReader\n",
    "\n",
    "- Indexes: 'KS11'(코스피지수), 'KQ11'(코스닥지수), 'DJI'(다우존스지수), 'IXIC'(나스닥지수), 'US500'(S&P 500지수) "
   ]
  },
  {
   "cell_type": "markdown",
   "id": "bb5d7c7c-33da-4663-b664-cd2bc39d9179",
   "metadata": {},
   "source": [
    "- <b>종가(close)</b> : 시장이 마감되기 전 마지막으로 거래된 주가를 뜻하는데 \n",
    "- <b>수정 종가(adjusted close)</b>: 해당 주식의 종가(close)에 분할(splits), 배당금 분배(dividend distributions) 등 <font color ='red'><b>주가에 영향을 미칠 수 있는 기업의 활동(corporate actions)을 반영한 후의 종가</b></font>"
   ]
  },
  {
   "cell_type": "code",
   "execution_count": 11,
   "id": "b23ac7cd-a733-422a-b6a1-1c445ce2875a",
   "metadata": {
    "tags": []
   },
   "outputs": [],
   "source": [
    "#### ! pip install finance-datareader"
   ]
  },
  {
   "cell_type": "markdown",
   "id": "e5b59c73-4004-40bc-87aa-8f0b617a1b9b",
   "metadata": {},
   "source": [
    "* 2018년 5월 4일, 삼성전자는 50:1로 액면분할"
   ]
  },
  {
   "cell_type": "code",
   "execution_count": 38,
   "id": "97237da7-2453-4ba3-a152-02978ff8d203",
   "metadata": {
    "tags": []
   },
   "outputs": [],
   "source": [
    "import FinanceDataReader as fdr"
   ]
  },
  {
   "cell_type": "code",
   "execution_count": 39,
   "id": "957b71ab-5ec2-45af-9f0d-dafbf4d93d61",
   "metadata": {
    "tags": []
   },
   "outputs": [
    {
     "data": {
      "text/html": [
       "<div>\n",
       "<style scoped>\n",
       "    .dataframe tbody tr th:only-of-type {\n",
       "        vertical-align: middle;\n",
       "    }\n",
       "\n",
       "    .dataframe tbody tr th {\n",
       "        vertical-align: top;\n",
       "    }\n",
       "\n",
       "    .dataframe thead th {\n",
       "        text-align: right;\n",
       "    }\n",
       "</style>\n",
       "<table border=\"1\" class=\"dataframe\">\n",
       "  <thead>\n",
       "    <tr style=\"text-align: right;\">\n",
       "      <th></th>\n",
       "      <th>Open</th>\n",
       "      <th>High</th>\n",
       "      <th>Low</th>\n",
       "      <th>Close</th>\n",
       "      <th>Volume</th>\n",
       "      <th>Change</th>\n",
       "    </tr>\n",
       "    <tr>\n",
       "      <th>Date</th>\n",
       "      <th></th>\n",
       "      <th></th>\n",
       "      <th></th>\n",
       "      <th></th>\n",
       "      <th></th>\n",
       "      <th></th>\n",
       "    </tr>\n",
       "  </thead>\n",
       "  <tbody>\n",
       "    <tr>\n",
       "      <th>2018-04-30</th>\n",
       "      <td>0</td>\n",
       "      <td>0</td>\n",
       "      <td>0</td>\n",
       "      <td>53000</td>\n",
       "      <td>0</td>\n",
       "      <td>0.000000</td>\n",
       "    </tr>\n",
       "    <tr>\n",
       "      <th>2018-05-02</th>\n",
       "      <td>0</td>\n",
       "      <td>0</td>\n",
       "      <td>0</td>\n",
       "      <td>53000</td>\n",
       "      <td>0</td>\n",
       "      <td>0.000000</td>\n",
       "    </tr>\n",
       "    <tr>\n",
       "      <th>2018-05-03</th>\n",
       "      <td>0</td>\n",
       "      <td>0</td>\n",
       "      <td>0</td>\n",
       "      <td>53000</td>\n",
       "      <td>0</td>\n",
       "      <td>0.000000</td>\n",
       "    </tr>\n",
       "    <tr>\n",
       "      <th>2018-05-04</th>\n",
       "      <td>53000</td>\n",
       "      <td>53900</td>\n",
       "      <td>51800</td>\n",
       "      <td>51900</td>\n",
       "      <td>39565391</td>\n",
       "      <td>-0.020755</td>\n",
       "    </tr>\n",
       "    <tr>\n",
       "      <th>2018-05-08</th>\n",
       "      <td>52600</td>\n",
       "      <td>53200</td>\n",
       "      <td>51900</td>\n",
       "      <td>52600</td>\n",
       "      <td>23104720</td>\n",
       "      <td>0.013487</td>\n",
       "    </tr>\n",
       "    <tr>\n",
       "      <th>2018-05-09</th>\n",
       "      <td>52600</td>\n",
       "      <td>52800</td>\n",
       "      <td>50900</td>\n",
       "      <td>50900</td>\n",
       "      <td>16128305</td>\n",
       "      <td>-0.032319</td>\n",
       "    </tr>\n",
       "    <tr>\n",
       "      <th>2018-05-10</th>\n",
       "      <td>51700</td>\n",
       "      <td>51700</td>\n",
       "      <td>50600</td>\n",
       "      <td>51600</td>\n",
       "      <td>13905263</td>\n",
       "      <td>0.013752</td>\n",
       "    </tr>\n",
       "  </tbody>\n",
       "</table>\n",
       "</div>"
      ],
      "text/plain": [
       "             Open   High    Low  Close    Volume    Change\n",
       "Date                                                      \n",
       "2018-04-30      0      0      0  53000         0  0.000000\n",
       "2018-05-02      0      0      0  53000         0  0.000000\n",
       "2018-05-03      0      0      0  53000         0  0.000000\n",
       "2018-05-04  53000  53900  51800  51900  39565391 -0.020755\n",
       "2018-05-08  52600  53200  51900  52600  23104720  0.013487\n",
       "2018-05-09  52600  52800  50900  50900  16128305 -0.032319\n",
       "2018-05-10  51700  51700  50600  51600  13905263  0.013752"
      ]
     },
     "execution_count": 39,
     "metadata": {},
     "output_type": "execute_result"
    }
   ],
   "source": [
    "df = fdr.DataReader('005930', '2018-04-28', '2018-05-10', exchange='KRX') # exchange = '거래소 코드' -> 한국외의 거래소도 가능\n",
    "df.head(10)"
   ]
  },
  {
   "cell_type": "code",
   "execution_count": 41,
   "id": "0283262a-3439-4bcb-97ce-c48fc16b5c07",
   "metadata": {
    "tags": []
   },
   "outputs": [
    {
     "data": {
      "text/plain": [
       "DatetimeIndex(['2018-04-30', '2018-05-02', '2018-05-03', '2018-05-04',\n",
       "               '2018-05-08', '2018-05-09', '2018-05-10'],\n",
       "              dtype='datetime64[ns]', name='Date', freq=None)"
      ]
     },
     "execution_count": 41,
     "metadata": {},
     "output_type": "execute_result"
    }
   ],
   "source": [
    "df.index"
   ]
  },
  {
   "cell_type": "code",
   "execution_count": 15,
   "id": "72a85a65-7e8e-44e3-b274-34619843eda3",
   "metadata": {
    "tags": []
   },
   "outputs": [
    {
     "name": "stderr",
     "output_type": "stream",
     "text": [
      "findfont: Font family 'NanumBarunGothic' not found.\n",
      "findfont: Font family 'NanumBarunGothic' not found.\n",
      "findfont: Font family 'NanumBarunGothic' not found.\n",
      "findfont: Font family 'NanumBarunGothic' not found.\n",
      "findfont: Font family 'NanumBarunGothic' not found.\n",
      "findfont: Font family 'NanumBarunGothic' not found.\n",
      "findfont: Font family 'NanumBarunGothic' not found.\n",
      "findfont: Font family 'NanumBarunGothic' not found.\n",
      "findfont: Font family 'NanumBarunGothic' not found.\n",
      "findfont: Font family 'NanumBarunGothic' not found.\n",
      "findfont: Font family 'NanumBarunGothic' not found.\n",
      "findfont: Font family 'NanumBarunGothic' not found.\n",
      "findfont: Font family 'NanumBarunGothic' not found.\n",
      "findfont: Font family 'NanumBarunGothic' not found.\n",
      "findfont: Font family 'NanumBarunGothic' not found.\n",
      "findfont: Font family 'NanumBarunGothic' not found.\n",
      "findfont: Font family 'NanumBarunGothic' not found.\n",
      "findfont: Font family 'NanumBarunGothic' not found.\n",
      "findfont: Font family 'NanumBarunGothic' not found.\n",
      "findfont: Font family 'NanumBarunGothic' not found.\n",
      "findfont: Font family 'NanumBarunGothic' not found.\n",
      "findfont: Font family 'NanumBarunGothic' not found.\n",
      "findfont: Font family 'NanumBarunGothic' not found.\n",
      "findfont: Font family 'NanumBarunGothic' not found.\n",
      "findfont: Font family 'NanumBarunGothic' not found.\n",
      "findfont: Font family 'NanumBarunGothic' not found.\n",
      "findfont: Font family 'NanumBarunGothic' not found.\n",
      "findfont: Font family 'NanumBarunGothic' not found.\n",
      "findfont: Font family 'NanumBarunGothic' not found.\n",
      "findfont: Font family 'NanumBarunGothic' not found.\n",
      "findfont: Font family 'NanumBarunGothic' not found.\n",
      "findfont: Font family 'NanumBarunGothic' not found.\n",
      "findfont: Font family 'NanumBarunGothic' not found.\n",
      "findfont: Font family 'NanumBarunGothic' not found.\n",
      "findfont: Font family 'NanumBarunGothic' not found.\n",
      "findfont: Font family 'NanumBarunGothic' not found.\n",
      "findfont: Font family 'NanumBarunGothic' not found.\n",
      "findfont: Font family 'NanumBarunGothic' not found.\n",
      "findfont: Font family 'NanumBarunGothic' not found.\n",
      "findfont: Font family 'NanumBarunGothic' not found.\n",
      "findfont: Font family 'NanumBarunGothic' not found.\n",
      "findfont: Font family 'NanumBarunGothic' not found.\n",
      "findfont: Font family 'NanumBarunGothic' not found.\n",
      "findfont: Font family 'NanumBarunGothic' not found.\n"
     ]
    },
    {
     "data": {
      "image/png": "[encoded data removed]",
      "text/plain": [
       "<Figure size 1500x500 with 1 Axes>"
      ]
     },
     "metadata": {},
     "output_type": "display_data"
    }
   ],
   "source": [
    "df = fdr.DataReader('005930', '2018-01-01', '2018-05-10')\n",
    "ax = df['Close'].plot(figsize=(15,5))\n",
    "ax.axvline('2018-05-04', ls='--', color='r')\n",
    "plt.show()"
   ]
  },
  {
   "cell_type": "code",
   "execution_count": 89,
   "id": "26a82b13-d6a5-4435-a3ac-427c467e912b",
   "metadata": {
    "tags": []
   },
   "outputs": [
    {
     "name": "stdout",
     "output_type": "stream",
     "text": [
      "        Code        ISU_CD      Name Market   Dept   Close ChangeCode  \\\n",
      "0     005930  KR7005930003      삼성전자  KOSPI          64100          1   \n",
      "1     373220  KR7373220003  LG에너지솔루션  KOSPI         567000          1   \n",
      "2     000660  KR7000660001    SK하이닉스  KOSPI          87400          1   \n",
      "3     207940  KR7207940008  삼성바이오로직스  KOSPI         783000          2   \n",
      "4     051910  KR7051910008      LG화학  KOSPI         727000          2   \n",
      "...      ...           ...       ...    ...    ...     ...        ...   \n",
      "2708  000547  KR7000542001   흥국화재2우B  KOSPI          16650          3   \n",
      "2709  288490  KR7288490006     나라소프트  KONEX  일반기업부      60          2   \n",
      "2710  135160  KR7135160000     무송지오씨  KONEX  일반기업부     200          2   \n",
      "2711  308700  KR7308700004       테크엔  KONEX  일반기업부     372          1   \n",
      "2712  322190  KR7322190000        베른  KONEX  일반기업부     123          5   \n",
      "\n",
      "      Changes  ChagesRatio    Open    High     Low    Volume        Amount  \\\n",
      "0         500         0.79   63600   64300   63300  12664541  808719849900   \n",
      "1       16000         2.90  551000  572000  550000    296105  166642321000   \n",
      "2        1900         2.22   86400   88700   86200   3240654  283962551300   \n",
      "3       -3000        -0.38  787000  790000  781000     48842   38281745000   \n",
      "4      -15000        -2.02  742000  746000  727000    240656  176551465000   \n",
      "...       ...          ...     ...     ...     ...       ...           ...   \n",
      "2708        0         0.00   16880   17950   16650      1684      28602410   \n",
      "2709       -2        -3.23      56      63      56     73597       4234487   \n",
      "2710      -70       -25.93     269     269     200    127215      28463720   \n",
      "2711       46        14.11     373     373     372       124         46202   \n",
      "2712      -21       -14.58     165     165     123     19164       2389750   \n",
      "\n",
      "               Marcap      Stocks MarketId  \n",
      "0     382663061455000  5969782550      STK  \n",
      "1     132678000000000   234000000      STK  \n",
      "2      63627406701000   728002365      STK  \n",
      "3      55729242000000    71174000      STK  \n",
      "4      51320633361000    70592343      STK  \n",
      "...               ...         ...      ...  \n",
      "2708       2557440000      153600      STK  \n",
      "2709       2288820000    38147000      KNX  \n",
      "2710       1915266600     9576333      KNX  \n",
      "2711       1488000000     4000000      KNX  \n",
      "2712       1097799231     8925197      KNX  \n",
      "\n",
      "[2713 rows x 17 columns]\n"
     ]
    }
   ],
   "source": [
    "#------------------------------------------------------------\n",
    "# FX 환율, 1995 ~ 현재\n",
    "#------------------------------------------------------------\n",
    "usdkrw = fdr.DataReader('USD/KRW', '2022-01-01') # 달러 원화\n",
    "usdeur = fdr.DataReader('USD/EUR', '1995-01-01') # 달러 유로화\n",
    "usdcny = fdr.DataReader('USD/CNY', '1995-01-01') # 달러 위엔화\n",
    "\n",
    "\n",
    "#------------------------------------------------------------\n",
    "# 상품 선물 가격 데이터\n",
    "#------------------------------------------------------------\n",
    "df = fdr.DataReader('NG') # NG 천연가스 선물 (NYMEX)\n",
    "df = fdr.DataReader('ZG') # 금 선물 (ICE)\n",
    "df = fdr.DataReader('ZI') # 은 선물 (ICE)\n",
    "# df = fdr.DataReader('HG') # 구리 선물 (COMEX)   # ----------------- X\n",
    "\n",
    "#------------------------------------------------------------\n",
    "# Bitcoin KRW price (Bithumbs), 2016 ~ Now\n",
    "#------------------------------------------------------------\n",
    "# btc = fdr.DataReader('BTC/KRW', '2016-01-01')\n",
    "\n",
    "#------------------------------------------------------------\n",
    "# 채권 수익률\n",
    "#------------------------------------------------------------\n",
    "# df = fdr.DataReader('KR1YT=RR') # 1년만기 한국국채 수익률\n",
    "# df = fdr.DataReader('KR10YT=RR') # 10년만기 한국국채 수익률\n",
    "# df = fdr.DataReader('US1MT=X') # 1개월 만기 미국국채 수익률\n",
    "# df = fdr.DataReader('US10YT=X') # 10년 만기 미국국채 수익률\n",
    "\n",
    "#------------------------------------------------------------\n",
    "# stock symbol list\n",
    "#------------------------------------------------------------\n",
    "stock_df = fdr.StockListing('KRX')   # 코스피, 코스닥, 코넥스 전체\n",
    "# stock_df = fdr.StockListing('KOSPI') # 코스피\n",
    "# stock_df = fdr.StockListing('KOSDAQ') # 코스닥\n",
    "# stock_df = fdr.StockListing('KONEX') # 코넥스\n",
    "# stock_df = fdr.StockListing('NYSE')   # 뉴욕거래소\n",
    "# stock_df = fdr.StockListing('NASDAQ') # 나스닥\n",
    "# stock_df = fdr.StockListing('AMEX')   # 아멕스\n",
    "# stock_df = fdr.StockListing('S&P500')\n",
    "# stock_df = fdr.StockListing('SSE') # 상해 거래소\n",
    "# stock_df = fdr.StockListing('SZSE') # 신천 거래소\n",
    "# stock_df = fdr.StockListing('HKEX') # 홍콩거래소\n",
    "# stock_df = fdr.StockListing('TSE') # 도쿄 증권거래소\n",
    "# stock_df = fdr.StockListing('HOSE') # 호치민 증권거래소\n",
    "# stock_df = fdr.StockListing('KRX-ADMINISTRATIVE') # 관리종목 리스트\n",
    "# stock_df = fdr.StockListing('KRX-DELISTING')  # -----------상장폐지 종목 전체 리스트\n",
    "print(stock_df)\n",
    "#------------------------------------------------------------\n",
    "# FRED 연준 데이터\n",
    "#------------------------------------------------------------ \n",
    "# m2 = fdr.DataReader('M2', data_source='fred')                        #M2통화량     # data_source: 데이터 어디서 가져올래?(default='investing')\n",
    "# nq = fdr.DataReader('NASDAQCOM', data_source='fred')                 # NASDAQCOM 나스닥종합지수\n",
    "# hou_nas = fdr.DataReader(['HSN1F', 'NASDAQCOM'], data_source='fred') # HSN1F 주택판매지수, NASDAQCOM 나스닥종합지수 \n"
   ]
  },
  {
   "cell_type": "markdown",
   "id": "a6f16ff5-a81e-4d69-8d1a-ecde6e3c424d",
   "metadata": {},
   "source": [
    "* 캔들차트 "
   ]
  },
  {
   "cell_type": "code",
   "execution_count": 76,
   "id": "a60f4e11-4ac8-4ea7-92ca-fd473574d384",
   "metadata": {
    "tags": []
   },
   "outputs": [],
   "source": [
    "# ! pip install --upgrade bokeh==2.4.3\n",
    "# df = fdr.DataReader('005930', '2022-01-01', '2022-02-15')\n",
    "\n",
    "# my_config = {'title':'fdr.chart.config()', \n",
    "#           # 'width': 600, \n",
    "#           # 'height': 300,\n",
    "#           'volume': True,\n",
    "# }\n",
    "# fdr.chart.config(config=my_config)\n",
    "# fdr.chart.plot(df) #, title='삼성전자(005930)')"
   ]
  },
  {
   "cell_type": "markdown",
   "id": "7b59b551-6eff-4cb4-a771-6b3ce04805bc",
   "metadata": {},
   "source": [
    "<img src=\"data:image/png;base64,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\">"
   ]
  },
  {
   "cell_type": "markdown",
   "id": "0c0ffbb3-cb47-4e47-9864-89e9af1d3127",
   "metadata": {
    "tags": []
   },
   "source": [
    "## yahoo finance\n",
    "* ref : https://github.com/ranaroussi/yfinance/\n",
    "* ref : https://pypi.org/project/yfinance/"
   ]
  },
  {
   "cell_type": "code",
   "execution_count": 29,
   "id": "516d9368-62ed-403d-b202-aa148a7f6e6a",
   "metadata": {},
   "outputs": [],
   "source": [
    "##### ! pip install yfinance\n",
    "# XXXXX #! pip install yahoo-finance  <구버전>"
   ]
  },
  {
   "cell_type": "code",
   "execution_count": 16,
   "id": "3a11aa0b-8f1a-41f6-add6-b4b167e4db58",
   "metadata": {
    "tags": []
   },
   "outputs": [],
   "source": [
    "import yfinance as yf"
   ]
  },
  {
   "cell_type": "code",
   "execution_count": 17,
   "id": "c3e4fa6e-41cf-4ca5-a8f6-631a9c1ccba0",
   "metadata": {
    "tags": []
   },
   "outputs": [
    {
     "data": {
      "text/html": [
       "<div>\n",
       "<style scoped>\n",
       "    .dataframe tbody tr th:only-of-type {\n",
       "        vertical-align: middle;\n",
       "    }\n",
       "\n",
       "    .dataframe tbody tr th {\n",
       "        vertical-align: top;\n",
       "    }\n",
       "\n",
       "    .dataframe thead th {\n",
       "        text-align: right;\n",
       "    }\n",
       "</style>\n",
       "<table border=\"1\" class=\"dataframe\">\n",
       "  <thead>\n",
       "    <tr style=\"text-align: right;\">\n",
       "      <th></th>\n",
       "      <th>Open</th>\n",
       "      <th>High</th>\n",
       "      <th>Low</th>\n",
       "      <th>Close</th>\n",
       "      <th>Volume</th>\n",
       "      <th>Dividends</th>\n",
       "      <th>Stock Splits</th>\n",
       "    </tr>\n",
       "    <tr>\n",
       "      <th>Date</th>\n",
       "      <th></th>\n",
       "      <th></th>\n",
       "      <th></th>\n",
       "      <th></th>\n",
       "      <th></th>\n",
       "      <th></th>\n",
       "      <th></th>\n",
       "    </tr>\n",
       "  </thead>\n",
       "  <tbody>\n",
       "    <tr>\n",
       "      <th>2023-04-25 00:00:00-04:00</th>\n",
       "      <td>165.190002</td>\n",
       "      <td>166.309998</td>\n",
       "      <td>163.729996</td>\n",
       "      <td>163.770004</td>\n",
       "      <td>48534900</td>\n",
       "      <td>0.0</td>\n",
       "      <td>0.0</td>\n",
       "    </tr>\n",
       "  </tbody>\n",
       "</table>\n",
       "</div>"
      ],
      "text/plain": [
       "                                 Open        High         Low       Close  \\\n",
       "Date                                                                        \n",
       "2023-04-25 00:00:00-04:00  165.190002  166.309998  163.729996  163.770004   \n",
       "\n",
       "                             Volume  Dividends  Stock Splits  \n",
       "Date                                                          \n",
       "2023-04-25 00:00:00-04:00  48534900        0.0           0.0  "
      ]
     },
     "execution_count": 17,
     "metadata": {},
     "output_type": "execute_result"
    }
   ],
   "source": [
    "msft = yf.Ticker(\"AAPL\")  # AAPL : 애플\n",
    "\n",
    "# get stock info\n",
    "msft.info\n",
    "\n",
    "# get historical market data\n",
    "hist = msft.history(period=\"min\")\n",
    "hist.head()"
   ]
  },
  {
   "cell_type": "code",
   "execution_count": null,
   "id": "c9f6dc00-659b-4278-8ecf-ce15e5e3a2a2",
   "metadata": {},
   "outputs": [],
   "source": []
  },
  {
   "cell_type": "markdown",
   "id": "c60b4d7a-5f72-4c5c-8e2b-2381512259f1",
   "metadata": {},
   "source": [
    "<img src=\"data:image/png;base64,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\">"
   ]
  },
  {
   "cell_type": "markdown",
   "id": "81ffee0b-eda6-41a3-81ec-1e8ce0f522ed",
   "metadata": {},
   "source": [
    "## pandas_datareader"
   ]
  },
  {
   "cell_type": "code",
   "execution_count": 18,
   "id": "12572d8c-7aaa-45f0-89a0-e74af3abedd8",
   "metadata": {
    "tags": []
   },
   "outputs": [],
   "source": [
    "#### ! pip install pandas_datareader"
   ]
  },
  {
   "cell_type": "code",
   "execution_count": 66,
   "id": "dabc1b51-2f34-4c7b-a547-2f956270d02b",
   "metadata": {
    "tags": []
   },
   "outputs": [],
   "source": [
    "from pandas_datareader import data as pdr\n",
    "import yfinance as yf\n",
    "yf.pdr_override()"
   ]
  },
  {
   "cell_type": "code",
   "execution_count": 67,
   "id": "674ff79f-f63a-4eab-9304-4d6cde7bef5e",
   "metadata": {
    "tags": []
   },
   "outputs": [
    {
     "name": "stdout",
     "output_type": "stream",
     "text": [
      "[*********************100%***********************]  1 of 1 completed\n",
      "[*********************100%***********************]  1 of 1 completed\n"
     ]
    }
   ],
   "source": [
    "from datetime import datetime\n",
    "\n",
    "start = datetime(2017,1,20)\n",
    "end = datetime(2019,12,31)\n",
    "\n",
    "# yf.pdr_override()\n",
    "df_ss = pdr.get_data_yahoo('005930.KS',start, end)   # 홈페이지에서 막음     --> 직접 csv로 다운\n",
    "df_ms = pdr.get_data_yahoo('MSFT', '2018-01-01', '2019-12-31')"
   ]
  },
  {
   "cell_type": "code",
   "execution_count": 68,
   "id": "61b02b3e-b273-4589-acb9-e50a9053c8f7",
   "metadata": {
    "tags": []
   },
   "outputs": [
    {
     "name": "stdout",
     "output_type": "stream",
     "text": [
      "<class 'pandas.core.frame.DataFrame'>\n",
      "DatetimeIndex: 717 entries, 2017-01-20 to 2019-12-30\n",
      "Data columns (total 6 columns):\n",
      " #   Column     Non-Null Count  Dtype  \n",
      "---  ------     --------------  -----  \n",
      " 0   Open       717 non-null    float64\n",
      " 1   High       717 non-null    float64\n",
      " 2   Low        717 non-null    float64\n",
      " 3   Close      717 non-null    float64\n",
      " 4   Adj Close  717 non-null    float64\n",
      " 5   Volume     717 non-null    int64  \n",
      "dtypes: float64(5), int64(1)\n",
      "memory usage: 39.2 KB\n"
     ]
    },
    {
     "data": {
      "text/html": [
       "<div>\n",
       "<style scoped>\n",
       "    .dataframe tbody tr th:only-of-type {\n",
       "        vertical-align: middle;\n",
       "    }\n",
       "\n",
       "    .dataframe tbody tr th {\n",
       "        vertical-align: top;\n",
       "    }\n",
       "\n",
       "    .dataframe thead th {\n",
       "        text-align: right;\n",
       "    }\n",
       "</style>\n",
       "<table border=\"1\" class=\"dataframe\">\n",
       "  <thead>\n",
       "    <tr style=\"text-align: right;\">\n",
       "      <th></th>\n",
       "      <th>Open</th>\n",
       "      <th>High</th>\n",
       "      <th>Low</th>\n",
       "      <th>Close</th>\n",
       "      <th>Adj Close</th>\n",
       "      <th>Volume</th>\n",
       "    </tr>\n",
       "    <tr>\n",
       "      <th>Date</th>\n",
       "      <th></th>\n",
       "      <th></th>\n",
       "      <th></th>\n",
       "      <th></th>\n",
       "      <th></th>\n",
       "      <th></th>\n",
       "    </tr>\n",
       "  </thead>\n",
       "  <tbody>\n",
       "    <tr>\n",
       "      <th>2017-01-20</th>\n",
       "      <td>37120.0</td>\n",
       "      <td>37420.0</td>\n",
       "      <td>36880.0</td>\n",
       "      <td>37200.0</td>\n",
       "      <td>31506.033203</td>\n",
       "      <td>9185000</td>\n",
       "    </tr>\n",
       "    <tr>\n",
       "      <th>2017-01-23</th>\n",
       "      <td>37200.0</td>\n",
       "      <td>38060.0</td>\n",
       "      <td>37000.0</td>\n",
       "      <td>38060.0</td>\n",
       "      <td>32234.400391</td>\n",
       "      <td>8810400</td>\n",
       "    </tr>\n",
       "    <tr>\n",
       "      <th>2017-01-24</th>\n",
       "      <td>38120.0</td>\n",
       "      <td>38580.0</td>\n",
       "      <td>37880.0</td>\n",
       "      <td>38160.0</td>\n",
       "      <td>32319.093750</td>\n",
       "      <td>11048750</td>\n",
       "    </tr>\n",
       "    <tr>\n",
       "      <th>2017-01-25</th>\n",
       "      <td>38340.0</td>\n",
       "      <td>39400.0</td>\n",
       "      <td>38320.0</td>\n",
       "      <td>39400.0</td>\n",
       "      <td>33369.296875</td>\n",
       "      <td>13433850</td>\n",
       "    </tr>\n",
       "    <tr>\n",
       "      <th>2017-01-26</th>\n",
       "      <td>39420.0</td>\n",
       "      <td>40000.0</td>\n",
       "      <td>39420.0</td>\n",
       "      <td>39900.0</td>\n",
       "      <td>33792.765625</td>\n",
       "      <td>15214500</td>\n",
       "    </tr>\n",
       "  </tbody>\n",
       "</table>\n",
       "</div>"
      ],
      "text/plain": [
       "               Open     High      Low    Close     Adj Close    Volume\n",
       "Date                                                                  \n",
       "2017-01-20  37120.0  37420.0  36880.0  37200.0  31506.033203   9185000\n",
       "2017-01-23  37200.0  38060.0  37000.0  38060.0  32234.400391   8810400\n",
       "2017-01-24  38120.0  38580.0  37880.0  38160.0  32319.093750  11048750\n",
       "2017-01-25  38340.0  39400.0  38320.0  39400.0  33369.296875  13433850\n",
       "2017-01-26  39420.0  40000.0  39420.0  39900.0  33792.765625  15214500"
      ]
     },
     "execution_count": 68,
     "metadata": {},
     "output_type": "execute_result"
    }
   ],
   "source": [
    "df_ss.info()\n",
    "df_ss.head()"
   ]
  },
  {
   "cell_type": "markdown",
   "id": "e58a4214-84a5-4b7e-b3d3-48d6030a9ea2",
   "metadata": {},
   "source": [
    "# 기술적 지표 관련 "
   ]
  },
  {
   "cell_type": "markdown",
   "id": "970fa979-4a53-436d-925a-351d84efc776",
   "metadata": {},
   "source": [
    "<img src=\"data:image/jpeg;base64,/9j/4AAQSkZJRgABAQAAAQABAAD/2wCEAAkGBxMTERUTERIWERUTGBgZFhgYGBYXFxYXFhcYGBkWGR4ZHSggGBslHRYVITEhJSkrLi4uFx8zODMtNyotLisBCgoKDg0OGxAQGzIlICUvLTIwLTUtLTYtLTUtLTIvLTIyLS03LSstLS8tLS0tLS0tLS0tLS0tLS0tLS0xLS0tLf/AABEIAHMBtwMBIgACEQEDEQH/xAAcAAEAAgMBAQEAAAAAAAAAAAAABgcDBAUCAQj/xABIEAABAwICBgQICggHAQEAAAABAAIDBBEFIQYHEjFBURMiYXEyNFNygZGxwRYXMzVCgpKhstIjc4Ois9HT8BRSVGLCw+FDo//EABoBAQADAQEBAAAAAAAAAAAAAAACAwQFAQb/xAA+EQABAwIDBAQMBAUFAAAAAAABAAIRAwQSMUEFIVFhE3GBkRQiMlJiobGywdHh8DM04vEVI1NykjVCc4PC/9oADAMBAAIRAxEAPwC8URERERERERaeI1zIYzJKdlrfWeQHMnkvCQBJXrWlxAAklMQrmQxmSV2y1u/t5AcyeSrXFcVqKqXpGl0LYzeJty035nmTz3cFv19U+pvUzi0MeccfMf5ncyoriOJvlft32beCBlay5t1WBALpg5AbieZOg4DXVfR2Nr0JMQX6ncQ30QMifOO+N4GpVl6KaSipHRydSZnhDdt2+k33jgpMqXp5eks9jujmjzuMr24/37FYOimkoqR0clmTM3jcHgfSb7x7lfb3Ew1xmcjx5Hg4etYr6xiatIQB5TfN5jizgdMjoVJ0RFsXIREREREREREREREREREREREREREREREREREREREREREREREREREREREREREREREREREREREREREREREREREREREREREREREWniVfHDG6SV2y1vrJ4AcyeS8JAEletaXEACSUxGvjhjMkrtlrfvPADmTyVZ4rir6qTpZepDGbxx87cTzJ5+gL5i+KPq39JL1IWfJs955k8/QFxKypMh5NG4cv/Vy7i4xb9NBx5n0eA14L6ayshb/36nzeQ9LidMgpdUVHStHBhGQ7CFG6jBCxhdtg7Ivay7WGfIs7lx8UrpNt7L2aCRYcR2qdyabmBzxJ07QvLdr2uLGbgPguUwkG4NiNxXWil6Sz2Ho5o87jK9lzLI0kG4yIXNpvw7jvBzH3kQui5s7xuIyPwPEHUaq09FNJBUjo5epOzeNweB9JvbzHuUnVLxSbdnNPRzszBGV7KwdFNJBUDo5bMnZvG4PA+k3t5j3Lr29xMNcZnI8eR4OHrXAv7AAGrSEAeU3zeY9H3clJ0RFtXHREREREREREREREREREREREREREREREREREREREREREREREREREREREREREREREREREREREREREREREREREREREWniVfHBGZJXbLW+sngAOJPJeEgCSvWtLiGgSSmJV8cEZkldstb6yeAA4k8lWGL4q+rf0kvUhZ8mz3nmTz9C+Yxir6uTpJepCz5NnvPMnmuRU1BeeQG4clyri4x9Wg48zy4BfTWVl4P8A36nzeQ9LidMgc0qqgvPJo3DksK9ALLTQbbg0cT93FYjieZOZW/xWDkFJcPbaJg/2j781zsTwvwpA7mSCPYV1pXhrSeDR7FHJK6RwIc64O/IfyXRuCwNDHCeCwUQ8uLmlaNkW3SUpkdsggd69uw6TaLQ0m3Hh61zxScRIC3dI2YJWi02NxkQujHJt2c09HKzMEZXsuhX4SHBvRhrCN/C/qC+UeF7DHbQa53AjhllYnctLbZ7XFp3j7y1B4Kg3LYDxud9jfoRxUy0U0lFQOjlsydu8bg8D6Q7eYUnVPw0cr3N2QYpWZh3gjLjcKc6LaSdN+im/RzsyIOW3biO3mPSMltoVjua/sPHkfSHrXIv7Ju+rRG4eU3zeY4t9mqk6Iq/0u00npakxRsjc0Naes15ddwudzwPuWl7wwSVgtrapcPwU881YCKpvjNqvJQfZf/UT4zaryUH2X/1FV4Sxbv4Ldcu9Wyiqb4zavyUH2X/1FJNB9LJqySRsrI2BjA4bIcDmbZ7TipNrscYCqrbLuKNM1HRA5qaoiq/FtYs7J5GRMhcxry1pc19yG5XJDwN4PBTfUazNUW1pVuSRT0VoIqm+M2r8lB9l/wDUU50Pxo1dKJXgB+05rw24aDkRa5J8Et481FlZrzAVlzs6vbsxvAjLNSBERWrCiIiIiKu9K9NqilqnwsZE5rQ2xc15d1mhxvZ4HHksOj+ntTPVRQuZCGyOsS0PDrWJyu88uSp6dmLCuiNl3BpdLAiJz0iVZSIiuXOUd0n0qho7B4L3vF2sbbcMrknID/1eNGNL4aslgaYpAL7LiDduVy0jfa4Ue1kaNzTStngaZAGBrmtzcNkkggcQdrhyWDV3oxPHP08zDE1rXBodkSXZbt4AF9/Ys2Op0uGNy7ItbTwHpMXjxx14Ye72yrNRVxrTr5Y3wCKR0dw6+y5zb5jfY5qIYXjNQZogaiUgyMBHSPzBeMt69fcBrsMKNvsh1aiKocBM6cCR8FeyIi0LkIiIiIihWm+lktHKxkbGO22bRLw426xHBwUafrNqvJwj6r/e9UursaYXRo7LuKzA9oEHLeraRVG3WVV/5YT9V351uUOs59/08DSOJYS0j0OJv6wvBcsU3bGugJAB7fnCtBFzcFxeKqiEsLrjcQcnNPJw4FRLTHTKekqeijZG5uw113NeTd177ngWy5Kx1RrW4jkslG0q1appAQ4cd2Sn6KpvjNqvJQfZf/UT4zaryUH2X/1FV4Sxbf4Ldcu9WyirLBdYFRNPFE+OECR7Wkhsl7ONsuuc139OdJJaLojE1j+kLwdsOPg7NrbLh/mUxWaWl3BUO2dXbVbSMS6SN/D9lLkVTfGbV+Sg+y/+ovrdZ1VxihPc2Qf8yoeEsV/8FuuA71bCKt6LWgP/ALU9hzjdc+pwHtUywTHIKpm1C+9vCacnt7x79ysbVY7cCslexuKAmo3dx3EepdZERWLItTEKxkMbpJMmsFzxPcO1Vbi+Kvq5Okk6sTL9HHw7zzPMq154WvaWPAc1wIIOYIO8FVlpHgDqR5ewF9O895YT9E9nI8dxz34bwO3E+Tr8CeIH1PLs7IdTlzRuqHyTy1DeDjzzyHOPVE5ceQG4LyAss0IHWbm0/cvAC5jgcXjZruAiIavgC7uCUdh0h3nwe7msOG4YXWc8WHAcT39i7E8my0utew3Ba6FKPHcslarPiNX2aIPaWncd64kOHMMjmF+4Zc/7Cx0wdJL4WyXZ3/kupQ4dsOLnEOPD07ye1SnpiDh3TmvI6IEYljoML2HbTjcjdbId5XSsiLSxgYIas7nFxkr5ZeVkXwqaivANty1azDDI7pIn9HM3MG5FyNxB4Ldawk2C1aupe54p6UbcjsnOG5vPPhbieHeq6uDB4+XrnSNZVlHpMf8ALMEa6AazpHHjlvUm0S0h/wAQDFKNmeMdYcHAGxcLZA3IuO1a+kOg7KuYzOlcwkNFg1pHVFuK6WjmAx0sdh1nu8N/EnkOTQu4rabHGmBV3n79fHmuXWuW0rhz7TcPuYBmATkDkFUmluhMdJT9M2UvNw2xa0DrXzy7lClcGtLxH9oz2OVPhZK7Q18BfSbKrVK1DHUMmT8FYGBavo56aKYzOaZG3IDWkDPtUp0V0SZRPe5sjpNtobYgC1je+S29CfEKfzPeV3Fsp0mAB0b187d31w576Zd4skRu4rlaSYh0FLLLxa07PnHqt+8hUIPerO1s4jaOOnH0yXu7h1Wj1kn6qgWjlD09VFFvBkbteaHXP3ArNcOxPwhdrY1MUbY1Xayexv2exfMZwt1O5rX/AE44392225HoO0PQpbqmxDZllhJye0PaP9zMj6SHD7K2dblD8jOBziPou9o/GoboziHQVUMvAOG13Oyd9xKj+HVVwJvbHmQe8H5hX4i+XVZSa0JASP8ADNyJHhO4ehbn1Gs8pfL21nWuZ6ITGe8DPr6lZyKr/jRk/wBM37Z/kpDobpa6tfIx0TY9hodcOLr3NrZgKLazHGAVdV2Zc0mF727hzHzUF1kfOMvdH/DatTQn5wp/O9zlt6yPnGXuj/htWpoT84U/ne5ywn8Xt+K+nZ+RH/H/AOFeiIi6a+JVeaY6ZVFLVGKNsZYGtPWa8m7hc5hwWPRbTepqKpkMjYg1+1fZa6+TSRYl55clwdZvj7vMZ+FYdXfzjD9f8DlhNR3SxO6V9S2zoGxx4BOCZjfOHNdzXB4dP3O9oUKwe3Tw3IA6WO5OQA2m3J7ALlTXW98pT9zvaFBsNgEk0bDcB72gkbwCQ0kduarrfiFatm/kWdR9pUy0g1iSveW0to2A2DiAXu7etkB2Wv7FoYfp/WRuBkc2VvEFoz7iLEH1qT4jq4pxE4xPl6RrSWlzmkEgbiA0Zdyq2ylUNVplxVVnTsK9MtpMBAiZG/vz7j1QNyv/AATFGVMDJY9zhmDva4b2ntBXRUA1STHoJmcBI1w+u2x/AFP1tpuxNBXzV5QFCu6mMgd3Voqr1ueMQ/qj+JyhFGwOexp3OIB7iQCptrc8Yh/VH8TlCIZNlzXb7EG3OxuufW/EK+t2b+UZ1fEq3J9XdEWkND4zwIcTb0OuCqnxCmMU0kZNzG9zSeZaS0n7lOZdaLrdWmaDzL3OHq2Rf1qDybc8jnBpc+RziQASSSSTYDPeVKsaZjAqNnU7uni8JO7dEuB9c+1TDVLUEVMkf0XRFx72uYB+IrV1pePfs2e9SPVvo5JBtzzgsc9uy1hycG3uSRwvZuXYo5rS8e/Zs96k4EURPFU06jKm03FhnxYnmAP27FHcFohNURROJAkeGkjeATwurK+LKm8rN62flVX0VU6KRkjLbTCHNuLi45hSf4xa3nH9j/1QpmmB44Wq9pXb3A27oEb9+s9uimGHav4IZWStklJjcHAHYsSOdmrl64fBpu+X/rW9oBpJPVvmbNsERtaW7LdnMlwN8+wLR1weDTd8v/WtDsHREsC5Vsa42ixld0kA+tpKrU5K149XVI6MEGRri0G+005kci1VOV+iaP5Nnmt9gVdsxrpkLZtq4q0W0zTcROLLsVIaUYA+jm2HHaa4bTXWttNvbdwI4ju5rVwPFH00zJYzmDmOBb9Jp7x99ip7rdjHRwO47Tx6CAfcqzCqqtwPgLdZVfCbZrqgmZB574Pev0VBKHta9uYcAR3EXC+rl6IvJoacnyTR6hb3Iuk0yJXxb2YHlvAkLsrDPC17S17Q5rhYg5gg8CsyL1VqsNIdHnUr9tl3Uzzmd5jvwPMcj6N+/JT4VG0B7P0gOYccx6FYs8TXtLXgOa4WIOYIPAqCYlhz6F+028lK895jJ59nb79+F1JtEzHi+79PZ1Zd63u3XQwE/wAz3/1+9156tZWtjGeZ4D+9y1qfFmkHbFiOW49nYsWNlji10bg4WzIzHZn61zAFnq13tfuyW2lRY5kkLYZTuebsaQCcrbhnz7FJQFx8JqnAtjsLG/fuJXZVlsG4SRrmoXBOIArzZLL0i0rOsa9Nbc2C9Bt9y0aqqe94p6UbcjsnOG5g458Lc+HeoveGCT+/IKTGOeYb2nQDUk6AfQJV1T3PFNSjbkfk5w3MHHPhbnw71MdHcBjpY7DrPd4b+LjyHJvYmjuAx0sdm9Z7vDfxJ5Dk3sXbUqVIz0lTytBoPrxPYufeXgcOho+RqdXnieAH+1unWiIi0rmqH60vEf2jPY5U+FcGtLxH9oz2OVPhc+58tfXbE/K9p+CvTQnxCn8z3ldxcPQnxCn8z3lbWOV3QU8svFjHFva63VHpNltYYYDyXzNdpdcOaMy4j1qotPMR6atkIN2xno29zLh3711ysKxKSnkEsJDXgEAkB1r5HIrVe8k3OZOZPMlWHq80Zgmp3yzxCTaeQ25cLNAF9xHEn1LnsDnu3Z5r6+u+laW0PEtENjj95lRTF9Kaqpj6OZ4c24dbYaDcbjcC/Eriq65tCqItIbTtaSDY3fkbZHwlS0jC0uaci0kHvBsV7VY5pGIqFhd0KwcKLcMRugDPq6leeh9f09HC8m52Q13nM6pPptf0qvZNXNWSTeHMn6bufmLrapMQu2anJ4iVo7DZjvYz1qx1qDBVYCVwqteps+4qMpxBIOWmY7phVD8W9Zzh+278qkugei89JLI6YsIewNGy4uzDr53aFOUXrLdrTIVVfatetTNN0QeX1VLayPnGXuj/AIbVqaE/OFP53uctvWR84S90f8NqjtPUOjcHxuLXNzDhkQexY3GKhPNfTUG47RrRqwDvbC/RaKhvhRWf6mb7bl2dDceqZK6Fkk8rmEu2mlxIPVdv9NlqF0CYhcGpsSoxjn4xuBOuglYtZvj7vMZ+FYdXfzjD9f8AA5ZtZvj7vMZ+FYNXfzjD3P8AwOWc/i9q7Df9P/6z7q7uuDw6fud7QoZgfjMH62L+I1TPW98pT9zvaFA6WoMb2vG9haRfdcEEX9S8rfiFe7NE2LByPtK/Q1S6zHHkD7F+dXbz3qY1WsepfG5nRxt22lu0A64uLXF32uoZvUq9Rr4hVbJsqtsH9JrGvCfmrO1RM/RTu/3MHqaT7wrDUX1e4b0FE3aGy6UmQg7xtABoN93VaMlKFsoiGAL57aNQVLp7hlMd274KqtbnjEP6o/icoTTR7T2t3bTmj1kBTbW74xD+qP4nKGYd8tH57faFgrfiFfU7O/KM6vmp9jGrqOOCSSKV5cxpcGuDbHZFyMgDewKryKVzTdjnNPAtJaR3EZhfop7bgg7jl61+fMUpeinki3bD3t9TiPcrbimGEFqxbHvKldr21TJEd2v3zVr6u8dfU07mynakiIBcd7muF2k9uTh9VQ3Wl49+zZ71l1V12xVmM7pWEfWb1h920sWtLx79mz3o5+KiOtRo0BR2k4NEAtkdsT65XB0dp2yVUMbxtNfI0OHMF27JW78C6D/Tj7T/AMypalqXRva+M2ewgtNgbEbjYgg+ld34dYh/qf8A84fyKFJ7GjxhK1X1rcVnNNGphAHFw15A6K2sKwKnpy4wRCMvADrFxuBe289pUN1weDTd8v8A1rj6O6XVstXDHJPtMe9ocNiIXBOYuGgj0Lsa4fBpu+X/AK1e57XUjhELnW9rVoX9PpXYiQd8k6EagcFWhX6Jo/k2ea32BfnYqQN00rgABUEAZDqRbu/ZuqaFQMmV0Np2L7sMDCBE5zrHAHgpTremyp2ceu78I96re+a2sQxGWd23M90jrWu7gN9hwAzKk2hGib55WyzMIhYQesCOkI3Nbzbfed3Dui4mq/crqIbY2oFQ5T2mSd2vL1qztHqbo6WBh3tiYD37Iv8Aei6SLogQIXxbnlzi46oiIvVFFhnia5pa8BzXCxBzBB4FfXyLXfMiKutIsDdRvL47vp3nvLCeB7OR9Bz38osFtpuYKtGocHAtcA5rhYg5gg8Cq9xvCTSvLo7uhcd28sJ4Hs7f7PKubfoxLfJ939Ps6svprC/8IhlQ/wAzQ+f+r3uvPJhbogAT4d+3ju7F11HqaDbI2CLHipG1StycMR9VZcAB2a8L01t0AuclzcQrXOf/AIen6z3ZOdwaOOfDv4d6uc8MEn9+Q5qlrC8wO06AaknQfsF6rKt75BT0w2pXZOdwYOOfC3Ph3qY6O4FHSx2b1nu8N53uPIcmjktDR/C2UzLN6z3eG/i48uwdi7LJlZRomekqeV7OXXxPYFzby8Dh0NHyNTq88Ty4D4rootZkqztctK5q9IiIi0cVwuKoZ0czdtlwbXLcxuzaQVx/gHQeR/fk/MpMiiWNOYV1O5rUxhY8gciQtWgo2QxtjjGy1gs0XJsO85rDiuGRVMZimBcwkEgOc29jcZtI4roIvYEQqw9wdjB35zqox8AcP8h+/J+ZdrDMPjgiEcQ2WNvYXLjmSTmSScyVuootY1uQVlS5rVRFR5I5kn2oozU6EUT3l74SXOcXO68guXG5Ng629SZFItDswo061SkZpuI6iR7FwsK0WpaeTpIYyx1i2+3I7I7xZziOAXdREa0NEALypVfUOJ7iTxJkoiIvVBR/EtEaSokdLLGXPda525G+CABk1wG4LB8AcP8AIfvyfmUnRQNNh3kBaW3ly0BrajgB6R+ajHwBw/yH78n5llw/Q6jhkbJFEWvYbtO3I6xII3OcRuJUiRBSYN8DuR17cuEGo6P7j81wcU0UpaiQyyxlzyACduQZDdk1wC84dojSQSNlijLXtvY7cjt4scnOI4qQIvcDZmFHwqvgwdI6IiJMRwhc/EMJgnAE0TJLbi4AkX5HeFw59X1C7cxzPNef+V1LEQsacwlK5rUhDHkDrMd2Shnxb0fOU/Xb+VdLDdD6OEhzIQ5wzBf17HmAcge4KQovBSYMgpvvbl4wuqGOtERFNZVxsX0dpqlwfPH0haNkdZ7cr3+iQtNmg1CCCIcwQR15N4Nx9JSVFA02neQtDLuuxuFr3AcJMIo9XaHUcr3SSREvebuIe8XNgNwdbgpCikWg5hV06tSkZpuIPIkKPUWh9JDI2SKItew3aduQ2Nrbi6x3rJi2i1LUSdLNGXvsG325G5Ddk1wHFd1FHA2IhT8Kr48eN0xEyZjrUY+AOH+Q/fk/MnwBw/yH78n5lJ0XnQs80dys8Puv6rv8j81G6PQujie18cRa9hDmnbkNiOwust7GsAgqtjp2bfR32es5ttq1/BIvuC6yKQY0CIVZuq7nB5e6RkZMjt0UY+AOH+Q/fk/MvjdA6Af/AA9ckp9rlKEUeiZwHcp+HXX9V3+R+a41LozSRkFlPHcbiW7RHpdddlEUwAMlQ+o95lxJ6yiIi9UEXiRe18IRFpSlasjlvyxLUliRFoyPWpUEOBa4BwIsQcwQeBW7LCtSWEoihmIUbqZ+2y5jJ9LSf73rcwhznOu07TTvPLku3PS3BBFwd4UcmwieJxEBOxJl5vff2rm1LfonB7AS3gMx9PZ1ZfRWl+Lhhp1SA/zjk4c+Dh2YuvPaxPEXF3QwZvPhO4N558O/gulgtCyFthm53hO4k/yWDC8IETbDNx8J3M/yXUjgK00aJB6Sp5XqHIfE9gXPvb0PHQ0fI1OrzxPADRumeeW1HItqN61ooStyKJaVzVnjctqIrDFEttjERewvqIiIiIiIiIiIiIiIiIiIiIiIiIiIiIiIiIiIiIiIiIiIiIiIiIiIiIiIiIiIiIiIiIiIiIiIiIiIiIiIiIiIiIiIsUjUREWtIwclrvYOSIiLC5g5LGYxyRERegwclkYwckREWxGwclsRtRERbDV6RERERERERERERERERERERERERERERERERERERERERERERERERERERERERERERERERERERERERERERERERERERERf/9k=\">"
   ]
  },
  {
   "cell_type": "markdown",
   "id": "3cc3cfa0-6283-4f8b-bb51-b7aa0d3d5683",
   "metadata": {},
   "source": [
    "## TA-LIB"
   ]
  },
  {
   "cell_type": "markdown",
   "id": "e6936d97-e35b-4b21-9245-5b9d6db63a27",
   "metadata": {
    "jp-MarkdownHeadingCollapsed": true,
    "tags": []
   },
   "source": [
    "TA-LIB download ( TA_Lib‑0.4.24‑cp38‑cp38‑win_amd64.whl )\n",
    "* 주식 보조 지표\n",
    "* ref : https://www.lfd.uci.edu/~gohlke/pythonlibs/#ta-lib\n",
    "* ref : https://github.com/mrjbq7/ta-lib"
   ]
  },
  {
   "cell_type": "code",
   "execution_count": null,
   "id": "07da96c7-b076-4a9d-bca4-47b03954e7f8",
   "metadata": {},
   "outputs": [],
   "source": [
    "# ! pip install TA_Lib-0.4.24-cp38-cp38-win_amd64.whl"
   ]
  },
  {
   "cell_type": "code",
   "execution_count": 22,
   "id": "6ff73776-d11f-463c-adef-5b9670da55ab",
   "metadata": {
    "tags": []
   },
   "outputs": [
    {
     "name": "stdout",
     "output_type": "stream",
     "text": [
      "(array([         nan,          nan,          nan,          nan,\n",
      "                nan,          nan,          nan,          nan,\n",
      "                nan,          nan,          nan,          nan,\n",
      "                nan,          nan,          nan,          nan,\n",
      "                nan,          nan,          nan,          nan,\n",
      "       100.        ,  10.74794297,   1.90417501,  90.1277579 ,\n",
      "        56.84663058,  61.71266598,   0.        ,  36.19136391,\n",
      "        97.60450881, 100.        ,  11.84673791,   0.        ,\n",
      "        50.90875473,  30.9943834 , 100.        ,  93.93037078,\n",
      "        53.97270661,  44.83813678,   0.        ,  34.87787597,\n",
      "       100.        ,  63.70463129,  51.17529712,   0.        ,\n",
      "        69.62454185, 100.        ,  18.84931364,  96.73011471,\n",
      "        49.32585219,  52.23440949,  42.56976563,  65.85411179,\n",
      "       100.        ,  44.71275052, 100.        , 100.        ,\n",
      "        72.37169979,   0.        ,   0.        ,  11.75249247,\n",
      "        62.40044282, 100.        , 100.        ,  74.96834897,\n",
      "         0.        ,  46.30546549,   0.        , 100.        ,\n",
      "        85.67759254,   1.40880317,   0.        ,  34.95625884,\n",
      "       100.        ,  15.43812988,   5.85418562,  74.99440284,\n",
      "        22.832391  ,   0.        ,  34.49748988,  30.67761046,\n",
      "        61.60377502, 100.        ,   0.        , 100.        ,\n",
      "        14.46747955,  44.07669386,   0.        ,  45.97976442,\n",
      "       100.        ,  89.46382121,  55.836699  , 100.        ,\n",
      "        98.96305365,   0.        , 100.        ,  16.78334713,\n",
      "         0.37823902,   0.        ,  85.11964668,  60.64636217]), array([        nan,         nan,         nan,         nan,         nan,\n",
      "               nan,         nan,         nan,         nan,         nan,\n",
      "               nan,         nan,         nan,         nan,         nan,\n",
      "               nan,         nan,         nan,         nan,         nan,\n",
      "       55.2082065 , 58.79085416, 37.550706  , 34.25995863, 49.62618783,\n",
      "       69.56235149, 39.51976552, 32.63467663, 44.59862424, 77.93195757,\n",
      "       69.81708224, 37.28224597, 20.91849755, 27.30104604, 60.63437938,\n",
      "       74.97491806, 82.63435913, 64.24707139, 32.9369478 , 26.57200425,\n",
      "       44.95929199, 66.19416909, 71.6266428 , 38.29330947, 40.26661299,\n",
      "       56.54151395, 62.8246185 , 71.85980945, 54.96842685, 66.09679213,\n",
      "       48.04334244, 53.5527623 , 69.47462581, 70.1889541 , 81.57091684,\n",
      "       81.57091684, 90.7905666 , 57.45723326, 24.12389993,  3.91749749,\n",
      "       24.7176451 , 58.05097843, 87.46681427, 91.65611632, 58.32278299,\n",
      "       40.42460482, 15.43515516, 48.7684885 , 61.89253085, 62.3621319 ,\n",
      "       29.02879857, 12.12168734, 44.98541961, 50.13146291, 40.43077184,\n",
      "       32.09557278, 34.56032649, 32.60893128, 19.10996029, 21.72503345,\n",
      "       42.25962512, 64.09379516, 53.86792501, 66.66666667, 38.15582652,\n",
      "       52.84805781, 19.51472447, 30.01881943, 48.65992147, 78.48119521,\n",
      "       81.76684007, 81.76684007, 84.93325088, 66.32101788, 66.32101788,\n",
      "       38.92778238, 39.05386205,  5.72052872, 28.49929523, 48.58866962]))\n",
      "(array([         nan,          nan,          nan,          nan,\n",
      "                nan,          nan,          nan,          nan,\n",
      "                nan,          nan,          nan,          nan,\n",
      "                nan,          nan,          nan,          nan,\n",
      "                nan,          nan,          nan,          nan,\n",
      "       100.        ,  10.74794297,   1.90417501,  90.1277579 ,\n",
      "        56.84663058,  61.71266598,   0.        ,  36.19136391,\n",
      "        97.60450881, 100.        ,  11.84673791,   0.        ,\n",
      "        50.90875473,  30.9943834 , 100.        ,  93.93037078,\n",
      "        53.97270661,  44.83813678,   0.        ,  34.87787597,\n",
      "       100.        ,  63.70463129,  51.17529712,   0.        ,\n",
      "        69.62454185, 100.        ,  18.84931364,  96.73011471,\n",
      "        49.32585219,  52.23440949,  42.56976563,  65.85411179,\n",
      "       100.        ,  44.71275052, 100.        , 100.        ,\n",
      "        72.37169979,   0.        ,   0.        ,  11.75249247,\n",
      "        62.40044282, 100.        , 100.        ,  74.96834897,\n",
      "         0.        ,  46.30546549,   0.        , 100.        ,\n",
      "        85.67759254,   1.40880317,   0.        ,  34.95625884,\n",
      "       100.        ,  15.43812988,   5.85418562,  74.99440284,\n",
      "        22.832391  ,   0.        ,  34.49748988,  30.67761046,\n",
      "        61.60377502, 100.        ,   0.        , 100.        ,\n",
      "        14.46747955,  44.07669386,   0.        ,  45.97976442,\n",
      "       100.        ,  89.46382121,  55.836699  , 100.        ,\n",
      "        98.96305365,   0.        , 100.        ,  16.78334713,\n",
      "         0.37823902,   0.        ,  85.11964668,  60.64636217]), array([        nan,         nan,         nan,         nan,         nan,\n",
      "               nan,         nan,         nan,         nan,         nan,\n",
      "               nan,         nan,         nan,         nan,         nan,\n",
      "               nan,         nan,         nan,         nan,         nan,\n",
      "       55.2082065 , 58.79085416, 37.550706  , 34.25995863, 49.62618783,\n",
      "       69.56235149, 39.51976552, 32.63467663, 44.59862424, 77.93195757,\n",
      "       69.81708224, 37.28224597, 20.91849755, 27.30104604, 60.63437938,\n",
      "       74.97491806, 82.63435913, 64.24707139, 32.9369478 , 26.57200425,\n",
      "       44.95929199, 66.19416909, 71.6266428 , 38.29330947, 40.26661299,\n",
      "       56.54151395, 62.8246185 , 71.85980945, 54.96842685, 66.09679213,\n",
      "       48.04334244, 53.5527623 , 69.47462581, 70.1889541 , 81.57091684,\n",
      "       81.57091684, 90.7905666 , 57.45723326, 24.12389993,  3.91749749,\n",
      "       24.7176451 , 58.05097843, 87.46681427, 91.65611632, 58.32278299,\n",
      "       40.42460482, 15.43515516, 48.7684885 , 61.89253085, 62.3621319 ,\n",
      "       29.02879857, 12.12168734, 44.98541961, 50.13146291, 40.43077184,\n",
      "       32.09557278, 34.56032649, 32.60893128, 19.10996029, 21.72503345,\n",
      "       42.25962512, 64.09379516, 53.86792501, 66.66666667, 38.15582652,\n",
      "       52.84805781, 19.51472447, 30.01881943, 48.65992147, 78.48119521,\n",
      "       81.76684007, 81.76684007, 84.93325088, 66.32101788, 66.32101788,\n",
      "       38.92778238, 39.05386205,  5.72052872, 28.49929523, 48.58866962]))\n",
      "[        nan         nan         nan         nan         nan         nan\n",
      "         nan         nan         nan         nan         nan         nan\n",
      "         nan         nan 53.48771316 57.06140386 50.23656016 49.60683049\n",
      " 48.71882988 54.19361231 56.86383231 49.5942501  48.87392498 56.07504932\n",
      " 53.41591809 53.31793079 47.68806324 50.72342789 53.27870783 55.17022785\n",
      " 48.57445567 45.2501088  50.30031787 48.32478853 53.90618558 53.38079381\n",
      " 51.33721958 50.82738297 41.83489651 45.86186025 54.23015993 49.73125337\n",
      " 48.17820939 44.89623394 51.39493715 52.57941361 46.34446057 52.32818245\n",
      " 49.41990429 49.60125147 48.89171695 51.15477078 53.98205526 51.16774722\n",
      " 55.38535027 55.39296337 54.22560797 50.60132969 45.58359421 46.73643959\n",
      " 50.97624907 52.85787527 54.71638035 52.71886942 49.43718015 51.88173838\n",
      " 47.98308289 57.68455129 56.29506746 48.11975748 45.84855609 49.98597721\n",
      " 56.41007704 47.47905741 46.46684713 53.92371302 48.73712426 45.51170783\n",
      " 48.41363847 48.09231001 47.49868611 53.27136148 47.13528498 56.7066928\n",
      " 48.52002645 51.3540451  44.20440522 49.9529276  51.63028769 50.84788343\n",
      " 48.35077286 51.99798041 51.96016082 47.66330094 54.68798353 48.8422778\n",
      " 47.68987103 45.34723078 53.29804651 50.16911128]\n"
     ]
    }
   ],
   "source": [
    "import talib\n",
    "import numpy\n",
    "c = numpy.random.randn(100)\n",
    "\n",
    "print(talib.STOCHRSI(c))\n",
    "\n",
    "rsi = talib.RSI(c)\n",
    "print(talib.STOCHF(rsi, rsi, rsi))\n",
    "print(talib.RSI(c))\n"
   ]
  },
  {
   "cell_type": "markdown",
   "id": "1161ffd6-a1b3-4bc4-a289-a9f7a52af580",
   "metadata": {
    "tags": []
   },
   "source": [
    "# 증시 달력 관련\n",
    "* https://open.krx.co.kr/contents/MKD/01/0110/01100305/MKD01100305.jsp\n",
    "* https://github.com/rsheftel/pandas_market_calendars\n",
    "* https://github.com/quantopian/trading_calendars\n",
    "* https://github.com/gerrymanoim/exchange_calendars"
   ]
  },
  {
   "cell_type": "markdown",
   "id": "42ea1bd9-e809-4272-b8bd-0631c1afba76",
   "metadata": {},
   "source": [
    "## pykrx"
   ]
  },
  {
   "cell_type": "code",
   "execution_count": 23,
   "id": "405a4837-4610-4130-b016-8499060936f5",
   "metadata": {
    "tags": []
   },
   "outputs": [
    {
     "data": {
      "text/plain": [
       "[Timestamp('2022-02-03 00:00:00'),\n",
       " Timestamp('2022-02-04 00:00:00'),\n",
       " Timestamp('2022-02-07 00:00:00'),\n",
       " Timestamp('2022-02-08 00:00:00'),\n",
       " Timestamp('2022-02-09 00:00:00'),\n",
       " Timestamp('2022-02-10 00:00:00'),\n",
       " Timestamp('2022-02-11 00:00:00'),\n",
       " Timestamp('2022-02-14 00:00:00'),\n",
       " Timestamp('2022-02-15 00:00:00'),\n",
       " Timestamp('2022-02-16 00:00:00'),\n",
       " Timestamp('2022-02-17 00:00:00'),\n",
       " Timestamp('2022-02-18 00:00:00'),\n",
       " Timestamp('2022-02-21 00:00:00'),\n",
       " Timestamp('2022-02-22 00:00:00'),\n",
       " Timestamp('2022-02-23 00:00:00'),\n",
       " Timestamp('2022-02-24 00:00:00'),\n",
       " Timestamp('2022-02-25 00:00:00'),\n",
       " Timestamp('2022-02-28 00:00:00')]"
      ]
     },
     "execution_count": 23,
     "metadata": {},
     "output_type": "execute_result"
    }
   ],
   "source": [
    "from pykrx import stock\n",
    "stock.get_business_days(2022, 2)"
   ]
  },
  {
   "cell_type": "markdown",
   "id": "783dbeea-0fe5-466a-85fd-d48d691cebe3",
   "metadata": {},
   "source": [
    "## pandas_market_calendars\n",
    "* https://github.com/rsheftel/pandas_market_calendars/blob/master/docs/usage.rst"
   ]
  },
  {
   "cell_type": "code",
   "execution_count": 78,
   "id": "76541887-f63f-4e2f-8e8c-1ca893f734e1",
   "metadata": {
    "tags": []
   },
   "outputs": [],
   "source": [
    "# ! pip install pandas_market_calendars"
   ]
  },
  {
   "cell_type": "code",
   "execution_count": 79,
   "id": "c98b0ab8-ae4f-41fa-a9bd-ff0e70b2f0f7",
   "metadata": {
    "tags": []
   },
   "outputs": [],
   "source": [
    "from datetime import time\n",
    "import pandas as pd\n",
    "import pandas_market_calendars as mcal"
   ]
  },
  {
   "cell_type": "code",
   "execution_count": 80,
   "id": "3386713b-f1d9-4811-9f76-89823dfa3318",
   "metadata": {
    "tags": []
   },
   "outputs": [
    {
     "name": "stdout",
     "output_type": "stream",
     "text": [
      "True\n",
      "False\n"
     ]
    },
    {
     "data": {
      "text/html": [
       "<div>\n",
       "<style scoped>\n",
       "    .dataframe tbody tr th:only-of-type {\n",
       "        vertical-align: middle;\n",
       "    }\n",
       "\n",
       "    .dataframe tbody tr th {\n",
       "        vertical-align: top;\n",
       "    }\n",
       "\n",
       "    .dataframe thead th {\n",
       "        text-align: right;\n",
       "    }\n",
       "</style>\n",
       "<table border=\"1\" class=\"dataframe\">\n",
       "  <thead>\n",
       "    <tr style=\"text-align: right;\">\n",
       "      <th></th>\n",
       "      <th>market_open</th>\n",
       "      <th>market_close</th>\n",
       "    </tr>\n",
       "  </thead>\n",
       "  <tbody>\n",
       "    <tr>\n",
       "      <th>2022-02-22</th>\n",
       "      <td>2022-02-22 00:00:00+00:00</td>\n",
       "      <td>2022-02-22 06:30:00+00:00</td>\n",
       "    </tr>\n",
       "    <tr>\n",
       "      <th>2022-02-23</th>\n",
       "      <td>2022-02-23 00:00:00+00:00</td>\n",
       "      <td>2022-02-23 06:30:00+00:00</td>\n",
       "    </tr>\n",
       "    <tr>\n",
       "      <th>2022-02-24</th>\n",
       "      <td>2022-02-24 00:00:00+00:00</td>\n",
       "      <td>2022-02-24 06:30:00+00:00</td>\n",
       "    </tr>\n",
       "  </tbody>\n",
       "</table>\n",
       "</div>"
      ],
      "text/plain": [
       "                         market_open              market_close\n",
       "2022-02-22 2022-02-22 00:00:00+00:00 2022-02-22 06:30:00+00:00\n",
       "2022-02-23 2022-02-23 00:00:00+00:00 2022-02-23 06:30:00+00:00\n",
       "2022-02-24 2022-02-24 00:00:00+00:00 2022-02-24 06:30:00+00:00"
      ]
     },
     "execution_count": 80,
     "metadata": {},
     "output_type": "execute_result"
    }
   ],
   "source": [
    "xkrx = mcal.get_calendar('XKRX')\n",
    "xkrx.discontinued_market_times\n",
    "print(xkrx.has_discontinued)\n",
    "xkrx.remove_time(\"break_start\")\n",
    "xkrx.remove_time(\"break_end\")\n",
    "print(xkrx.has_discontinued)\n",
    "cal_df = xkrx.schedule(\"2022-02-22\", \"2022-02-24\")\n",
    "cal_df.head()"
   ]
  },
  {
   "cell_type": "markdown",
   "id": "fff7b5d5-e67f-40f0-adfd-ae3080bc3075",
   "metadata": {
    "tags": []
   },
   "source": [
    "## exchange_calendars\n",
    "* ref : https://github.com/gerrymanoim/exchange_calendars"
   ]
  },
  {
   "cell_type": "code",
   "execution_count": 82,
   "id": "608d1d77-ac59-4276-aa6b-e4e6bc596bf7",
   "metadata": {
    "tags": []
   },
   "outputs": [],
   "source": [
    "# ! pip install exchange_calendars"
   ]
  },
  {
   "cell_type": "code",
   "execution_count": 83,
   "id": "1eb76d73-3900-4231-9f1d-a1ff2fc6af6e",
   "metadata": {
    "tags": []
   },
   "outputs": [
    {
     "name": "stdout",
     "output_type": "stream",
     "text": [
      "['24/5', '24/7', 'AIXK', 'ASEX', 'BVMF', 'CMES', 'IEPA', 'XAMS', 'XASX', 'XBKK', 'XBOG', 'XBOM', 'XBRU', 'XBSE', 'XBUD', 'XBUE', 'XCBF', 'XCSE', 'XDUB', 'XETR', 'XFRA', 'XHEL', 'XHKG', 'XICE', 'XIDX', 'XIST', 'XJSE', 'XKAR', 'XKLS', 'XKRX', 'XLIM', 'XLIS', 'XLON', 'XMAD', 'XMEX', 'XMIL', 'XMOS', 'XNYS', 'XNZE', 'XOSL', 'XPAR', 'XPHS', 'XPRA', 'XSES', 'XSGO', 'XSHG', 'XSTO', 'XSWX', 'XTAE', 'XTAI', 'XTKS', 'XTSE', 'XWAR', 'XWBO', 'us_futures']\n",
      "False\n",
      "True\n"
     ]
    },
    {
     "data": {
      "text/html": [
       "<div>\n",
       "<style scoped>\n",
       "    .dataframe tbody tr th:only-of-type {\n",
       "        vertical-align: middle;\n",
       "    }\n",
       "\n",
       "    .dataframe tbody tr th {\n",
       "        vertical-align: top;\n",
       "    }\n",
       "\n",
       "    .dataframe thead th {\n",
       "        text-align: right;\n",
       "    }\n",
       "</style>\n",
       "<table border=\"1\" class=\"dataframe\">\n",
       "  <thead>\n",
       "    <tr style=\"text-align: right;\">\n",
       "      <th></th>\n",
       "      <th>open</th>\n",
       "      <th>break_start</th>\n",
       "      <th>break_end</th>\n",
       "      <th>close</th>\n",
       "    </tr>\n",
       "  </thead>\n",
       "  <tbody>\n",
       "    <tr>\n",
       "      <th>2022-02-23</th>\n",
       "      <td>2022-02-23 00:00:00+00:00</td>\n",
       "      <td>NaT</td>\n",
       "      <td>NaT</td>\n",
       "      <td>2022-02-23 06:30:00+00:00</td>\n",
       "    </tr>\n",
       "    <tr>\n",
       "      <th>2022-02-24</th>\n",
       "      <td>2022-02-24 00:00:00+00:00</td>\n",
       "      <td>NaT</td>\n",
       "      <td>NaT</td>\n",
       "      <td>2022-02-24 06:30:00+00:00</td>\n",
       "    </tr>\n",
       "    <tr>\n",
       "      <th>2022-02-25</th>\n",
       "      <td>2022-02-25 00:00:00+00:00</td>\n",
       "      <td>NaT</td>\n",
       "      <td>NaT</td>\n",
       "      <td>2022-02-25 06:30:00+00:00</td>\n",
       "    </tr>\n",
       "  </tbody>\n",
       "</table>\n",
       "</div>"
      ],
      "text/plain": [
       "                                open break_start break_end  \\\n",
       "2022-02-23 2022-02-23 00:00:00+00:00         NaT       NaT   \n",
       "2022-02-24 2022-02-24 00:00:00+00:00         NaT       NaT   \n",
       "2022-02-25 2022-02-25 00:00:00+00:00         NaT       NaT   \n",
       "\n",
       "                               close  \n",
       "2022-02-23 2022-02-23 06:30:00+00:00  \n",
       "2022-02-24 2022-02-24 06:30:00+00:00  \n",
       "2022-02-25 2022-02-25 06:30:00+00:00  "
      ]
     },
     "execution_count": 83,
     "metadata": {},
     "output_type": "execute_result"
    }
   ],
   "source": [
    "import exchange_calendars as xcals \n",
    "import datetime\n",
    "import pandas as pd\n",
    "print( xcals.get_calendar_names(include_aliases=False))\n",
    "\n",
    "krx = xcals.get_calendar(\"XKRX\") \n",
    "print(krx.is_session(\"2022-02-20\"))   #일요일\n",
    "print(krx.is_session(datetime.date.today().strftime(\"%Y-%m-%d\"))) #오늘   개장여부\n",
    "\n",
    "cal_df = krx.schedule.loc[\"2022-02-23\":\"2022-02-25\"]\n",
    "cal_df.head()\n"
   ]
  },
  {
   "cell_type": "code",
   "execution_count": 84,
   "id": "f199e4c3-efcd-47cb-a298-bd235d7dd6b1",
   "metadata": {
    "tags": []
   },
   "outputs": [
    {
     "data": {
      "text/plain": [
       "DatetimeIndex(['2022-01-03', '2022-01-04', '2022-01-05', '2022-01-06',\n",
       "               '2022-01-07', '2022-01-10'],\n",
       "              dtype='datetime64[ns]', freq='C')"
      ]
     },
     "execution_count": 84,
     "metadata": {},
     "output_type": "execute_result"
    }
   ],
   "source": [
    "cal_df = krx.sessions_in_range(\"2022-01-01\", \"2022-01-10\")\n",
    "cal_df"
   ]
  },
  {
   "cell_type": "code",
   "execution_count": 85,
   "id": "84963400-3fc3-4a70-9164-b088267fd688",
   "metadata": {
    "tags": []
   },
   "outputs": [
    {
     "name": "stdout",
     "output_type": "stream",
     "text": [
      "이전개장일 2022-02-18 00:00:00\n",
      "다음개장일 2022-02-22 00:00:00\n"
     ]
    }
   ],
   "source": [
    "print(\"이전개장일\", krx.previous_session(\"2022-02-21\")) #월요일\n",
    "print(\"다음개장일\", krx.next_session(\"2022-02-21\"))     #"
   ]
  },
  {
   "cell_type": "code",
   "execution_count": 86,
   "id": "5f04a018-04ca-4e31-8d1b-c213b6d33262",
   "metadata": {
    "tags": []
   },
   "outputs": [
    {
     "name": "stdout",
     "output_type": "stream",
     "text": [
      "        January 2022\n",
      " Su  Mo  Tu  We  Th  Fr  Sa\n",
      "                        [ 1]\n",
      "[ 2]  3   4   5   6   7 [ 8]\n",
      "[ 9] 10  11  12  13  14 [15]\n",
      "[16] 17  18  19  20  21 [22]\n",
      "[23] 24  25  26  27  28 [29]\n",
      "[30][31]\n",
      "\n"
     ]
    },
    {
     "name": "stderr",
     "output_type": "stream",
     "text": [
      "C:\\AI\\pythonProject2\\venv\\lib\\site-packages\\exchange_calendars\\ecal.py:44: FutureWarning: Argument `closed` is deprecated in favor of `inclusive`.\n",
      "  days = pd.date_range(start, end, closed=\"left\")\n"
     ]
    }
   ],
   "source": [
    "! ecal XKRX 1 2022"
   ]
  },
  {
   "cell_type": "code",
   "execution_count": 87,
   "id": "6909396f-addd-42ff-8510-a1f09f96a2b0",
   "metadata": {
    "tags": []
   },
   "outputs": [
    {
     "name": "stdout",
     "output_type": "stream",
     "text": [
      "                                          2022\n",
      "          January                        February                        March\n",
      " Su  Mo  Tu  We  Th  Fr  Sa     Su  Mo  Tu  We  Th  Fr  Sa     Su  Mo  Tu  We  Th  Fr  Sa\n",
      "                        [ 1]           [ 1][ 2]  3   4 [ 5]           [ 1]  2   3   4 [ 5]\n",
      "[ 2]  3   4   5   6   7 [ 8]   [ 6]  7   8   9  10  11 [12]   [ 6]  7   8 [ 9] 10  11 [12]\n",
      "[ 9] 10  11  12  13  14 [15]   [13] 14  15  16  17  18 [19]   [13] 14  15  16  17  18 [19]\n",
      "[16] 17  18  19  20  21 [22]   [20] 21  22  23  24  25 [26]   [20] 21  22  23  24  25 [26]\n",
      "[23] 24  25  26  27  28 [29]   [27] 28                        [27] 28  29  30  31\n",
      "[30][31]\n",
      "\n",
      "           April                           May                            June\n",
      " Su  Mo  Tu  We  Th  Fr  Sa     Su  Mo  Tu  We  Th  Fr  Sa     Su  Mo  Tu  We  Th  Fr  Sa\n",
      "                      1 [ 2]                                              [ 1]  2   3 [ 4]\n",
      "[ 3]  4   5   6   7   8 [ 9]   [ 1]  2   3   4 [ 5]  6 [ 7]   [ 5][ 6]  7   8   9  10 [11]\n",
      "[10] 11  12  13  14  15 [16]   [ 8]  9  10  11  12  13 [14]   [12] 13  14  15  16  17 [18]\n",
      "[17] 18  19  20  21  22 [23]   [15] 16  17  18  19  20 [21]   [19] 20  21  22  23  24 [25]\n",
      "[24] 25  26  27  28  29 [30]   [22] 23  24  25  26  27 [28]   [26] 27  28  29  30\n",
      "                               [29] 30  31\n",
      "\n",
      "            July                          August                       September\n",
      " Su  Mo  Tu  We  Th  Fr  Sa     Su  Mo  Tu  We  Th  Fr  Sa     Su  Mo  Tu  We  Th  Fr  Sa\n",
      "                      1 [ 2]         1   2   3   4   5 [ 6]                     1   2 [ 3]\n",
      "[ 3]  4   5   6   7   8 [ 9]   [ 7]  8   9  10  11  12 [13]   [ 4]  5   6   7   8 [ 9][10]\n",
      "[10] 11  12  13  14  15 [16]   [14][15] 16  17  18  19 [20]   [11][12] 13  14  15  16 [17]\n",
      "[17] 18  19  20  21  22 [23]   [21] 22  23  24  25  26 [27]   [18] 19  20  21  22  23 [24]\n",
      "[24] 25  26  27  28  29 [30]   [28] 29  30  31                [25] 26  27  28  29  30\n",
      "[31]\n",
      "\n",
      "          October                        November                       December\n",
      " Su  Mo  Tu  We  Th  Fr  Sa     Su  Mo  Tu  We  Th  Fr  Sa     Su  Mo  Tu  We  Th  Fr  Sa\n",
      "                        [ 1]             1   2   3   4 [ 5]                     1   2 [ 3]\n",
      "[ 2][ 3]  4   5   6   7 [ 8]   [ 6]  7   8   9  10  11 [12]   [ 4]  5   6   7   8   9 [10]\n",
      "[ 9][10] 11  12  13  14 [15]   [13] 14  15  16  17  18 [19]   [11] 12  13  14  15  16 [17]\n",
      "[16] 17  18  19  20  21 [22]   [20] 21  22  23  24  25 [26]   [18] 19  20  21  22  23 [24]\n",
      "[23] 24  25  26  27  28 [29]   [27] 28  29  30                [25] 26  27  28  29 [30][31]\n",
      "[30] 31\n"
     ]
    },
    {
     "name": "stderr",
     "output_type": "stream",
     "text": [
      "C:\\AI\\pythonProject2\\venv\\lib\\site-packages\\exchange_calendars\\ecal.py:44: FutureWarning: Argument `closed` is deprecated in favor of `inclusive`.\n",
      "  days = pd.date_range(start, end, closed=\"left\")\n"
     ]
    }
   ],
   "source": [
    "! ecal XKRX 2022"
   ]
  },
  {
   "cell_type": "markdown",
   "id": "ae796ba0-6ba0-4546-9cd7-25082aad7934",
   "metadata": {},
   "source": [
    "# finterstellar\n",
    "- backtesting \n",
    "- chart"
   ]
  },
  {
   "cell_type": "code",
   "execution_count": null,
   "id": "cdd76a5e-2b76-4874-8cca-4474f2d8ec8a",
   "metadata": {},
   "outputs": [],
   "source": []
  },
  {
   "cell_type": "code",
   "execution_count": null,
   "id": "d24d78c3-f3c8-4e98-98db-87dc58cad976",
   "metadata": {},
   "outputs": [],
   "source": []
  },
  {
   "cell_type": "code",
   "execution_count": null,
   "id": "86819158-0006-43aa-98f1-10ca14936531",
   "metadata": {},
   "outputs": [],
   "source": []
  },
  {
   "cell_type": "code",
   "execution_count": null,
   "id": "31d1cc31-e7db-4892-9a69-ab3a98599ba7",
   "metadata": {},
   "outputs": [],
   "source": []
  },
  {
   "cell_type": "code",
   "execution_count": null,
   "id": "0598f70b-4c40-42cc-88e0-00af35d7d19c",
   "metadata": {},
   "outputs": [],
   "source": []
  },
  {
   "cell_type": "code",
   "execution_count": null,
   "id": "a53e4e01-35e3-4fce-a4cb-be31046de068",
   "metadata": {},
   "outputs": [],
   "source": []
  },
  {
   "cell_type": "code",
   "execution_count": null,
   "id": "ed5e9f9f-96ad-4eef-a03d-2715820042a0",
   "metadata": {},
   "outputs": [],
   "source": []
  },
  {
   "cell_type": "code",
   "execution_count": null,
   "id": "e903dfe8-fad5-4556-bd60-40f93d127897",
   "metadata": {},
   "outputs": [],
   "source": []
  },
  {
   "cell_type": "code",
   "execution_count": null,
   "id": "6ca8fd47-d43b-43c9-af88-e0034854c884",
   "metadata": {},
   "outputs": [],
   "source": []
  },
  {
   "cell_type": "code",
   "execution_count": null,
   "id": "af2accd4-ef40-4339-bf11-d77618d8d793",
   "metadata": {},
   "outputs": [],
   "source": []
  },
  {
   "cell_type": "code",
   "execution_count": null,
   "id": "d407156d-6f9d-4665-aca2-b33c745e334c",
   "metadata": {},
   "outputs": [],
   "source": []
  },
  {
   "cell_type": "code",
   "execution_count": null,
   "id": "dc78fe24-7b95-45c0-bd1f-6745183ecbf3",
   "metadata": {},
   "outputs": [],
   "source": []
  },
  {
   "cell_type": "code",
   "execution_count": null,
   "id": "84043e87-a041-404d-b3c2-477345e090f3",
   "metadata": {},
   "outputs": [],
   "source": []
  },
  {
   "cell_type": "code",
   "execution_count": null,
   "id": "ad6aadfa-9903-4f67-978f-41443554d531",
   "metadata": {},
   "outputs": [],
   "source": []
  },
  {
   "cell_type": "code",
   "execution_count": null,
   "id": "8a351f95-ee32-4f56-b507-c3888165bc6f",
   "metadata": {},
   "outputs": [],
   "source": []
  },
  {
   "cell_type": "code",
   "execution_count": null,
   "id": "50912c0d-027f-401c-8161-0628e955bad2",
   "metadata": {},
   "outputs": [],
   "source": []
  },
  {
   "cell_type": "code",
   "execution_count": null,
   "id": "7a6db386-e3ba-4027-b685-5dea43624185",
   "metadata": {},
   "outputs": [],
   "source": []
  }
 ],
 "metadata": {
  "kernelspec": {
   "display_name": "Python 3 (ipykernel)",
   "language": "python",
   "name": "python3"
  },
  "language_info": {
   "codemirror_mode": {
    "name": "ipython",
    "version": 3
   },
   "file_extension": ".py",
   "mimetype": "text/x-python",
   "name": "python",
   "nbconvert_exporter": "python",
   "pygments_lexer": "ipython3",
   "version": "3.8.8"
  },
  "toc-autonumbering": true
 },
 "nbformat": 4,
 "nbformat_minor": 5
}

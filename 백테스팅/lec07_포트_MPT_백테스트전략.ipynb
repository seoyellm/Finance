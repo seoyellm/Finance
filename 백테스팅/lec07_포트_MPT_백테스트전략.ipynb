{
 "cells": [
  {
   "cell_type": "markdown",
   "id": "6f11c0c8-1d0d-4cda-9286-55f6fa9f2780",
   "metadata": {
    "tags": []
   },
   "source": [
    "# MPT(Modern Portfolio Tehory) based Backtesting trading strategies\n",
    "* ref : https://github.com/bottama/trading-strategy-backtest/blob/main/src/risk_parity_portfolio.py"
   ]
  },
  {
   "cell_type": "markdown",
   "id": "7f6d10ae-6b1b-488c-8d19-da1698ea67ae",
   "metadata": {},
   "source": [
    "# 벡테스트 전략"
   ]
  },
  {
   "cell_type": "markdown",
   "id": "7a6dadd5-2f75-4ed6-bcf2-c22571b92f1b",
   "metadata": {},
   "source": [
    "* 평균분산 : The Optimal Markowitz Portfolio\n",
    "* 최소분산 : The Global Minimum Variance Portfolio : 최소 편차\n",
    "* 리스크패리디 : The Risk-Parity Portfolio : 리스크\n",
    "* 균등 가중치 : The Equally Weighted Portfolio"
   ]
  },
  {
   "cell_type": "markdown",
   "id": "092bd164-a923-4ace-9bdc-8944d9e45d19",
   "metadata": {},
   "source": [
    "# 관련 ETF\n",
    "* EEM: iShares MSCI Emerging Markets ETF\n",
    "* EMLC: VanEck Vectors J.P. Morgan EM Local Currency Bond ETF\n",
    "* IAU: iShares Gold Trust\n",
    "* IEF: iShares 7-10 Year Treasury Bond ETF\n",
    "* IWM: iShares Russell 2000 ETF\n",
    "* SPY: SPDR S&P 500 ETF Trust\n",
    "* TIP: iShares TIPS Bond ETF\n",
    "* TLT: iShares 20+ Year Treasury Bond ETF\n",
    "* VGK: Vanguard FTSE Europe Index Fund ETF Shares"
   ]
  },
  {
   "cell_type": "markdown",
   "id": "f3258f28-559f-4ab3-8840-32a3a57a8d05",
   "metadata": {},
   "source": [
    "<pre>\n",
    "trading-strategy-backtest/\n",
    "    deliverable/\n",
    "        run_backtest.py\n",
    "    src/\n",
    "        equally_weighted_portfolio.py\n",
    "        mean_variance_portfolio.py\n",
    "        minimum_variance_portfolio.py\n",
    "        risk_parity_portoflio.py\n",
    "    README.md"
   ]
  },
  {
   "cell_type": "markdown",
   "id": "3611aa30-f182-4f39-94ec-4883255187f4",
   "metadata": {},
   "source": [
    "## Equally weighted Portfolio"
   ]
  },
  {
   "cell_type": "code",
   "execution_count": 2,
   "id": "0624a01c-3e23-45a2-8640-4726cbc73321",
   "metadata": {},
   "outputs": [],
   "source": [
    "\n",
    "def equally_weighted_portfolio(ret):\n",
    "    init_weights = [1 / len(ret.columns)] * len(ret.columns)\n",
    "    opt_weights = init_weights\n",
    "\n",
    "    return opt_weights\n"
   ]
  },
  {
   "cell_type": "markdown",
   "id": "e45b4c93-9f3f-4d93-93a8-2b19e984b7dd",
   "metadata": {},
   "source": [
    "# risk_parity_portfolio"
   ]
  },
  {
   "cell_type": "code",
   "execution_count": 4,
   "id": "19ef00a7-7b8f-4e46-ae03-4cb1a014ff0c",
   "metadata": {},
   "outputs": [],
   "source": [
    "def risk_parity_portfolio(ret):\n",
    "    init_guess = 1 / ret.std()\n",
    "    opt_weights = list(init_guess / init_guess.sum())\n",
    "\n",
    "    return opt_weights"
   ]
  },
  {
   "cell_type": "markdown",
   "id": "e5f081cf-c7fd-41b7-a078-d509699d710b",
   "metadata": {},
   "source": [
    "# minimum_variance_portfolio"
   ]
  },
  {
   "cell_type": "code",
   "execution_count": 5,
   "id": "bfd1268a-b47a-40f7-88f9-b2e5d281ac2d",
   "metadata": {},
   "outputs": [],
   "source": [
    "import numpy as np\n",
    "from scipy.optimize import minimize\n",
    "\n",
    "\n",
    "def minimum_variance_portfolio(ret):\n",
    "\n",
    "    # define objective function to minimize: variance\n",
    "    def get_portfolio_variance(weights):\n",
    "        weights = np.array(weights)  # check\n",
    "        cov_mat = ret.cov()\n",
    "        port_variance = np.dot(weights.T, np.dot(cov_mat, weights))\n",
    "        return port_variance\n",
    "\n",
    "    # equality constraint: sum of the weights = 1\n",
    "    def weight_cons(weights):\n",
    "        return np.sum(weights) - 1\n",
    "\n",
    "    # model set-up\n",
    "    # - long only portfolio\n",
    "    # - initial guess\n",
    "    # - constraints\n",
    "    bounds_lim = ((0, 1),) * len(ret.columns)\n",
    "    init_weights = [1 / len(ret.columns)] * len(ret.columns)\n",
    "    constraint = {'type': 'eq', 'fun': weight_cons}\n",
    "\n",
    "    # find optimal portfolio\n",
    "    opt_port = minimize(fun=get_portfolio_variance,\n",
    "                        x0=init_weights,\n",
    "                        bounds=bounds_lim,\n",
    "                        constraints=constraint,\n",
    "                        method='SLSQP')\n",
    "\n",
    "    # find optimal weights\n",
    "    opt_weights = list(opt_port['x'])\n",
    "\n",
    "    return opt_weights"
   ]
  },
  {
   "cell_type": "markdown",
   "id": "edf44f53-172e-473a-87e5-68edf7b675b0",
   "metadata": {},
   "source": [
    "# mean_variance_portfolio"
   ]
  },
  {
   "cell_type": "code",
   "execution_count": 6,
   "id": "b74585ce-b7a0-47dc-a88e-6f2e17d9ea99",
   "metadata": {},
   "outputs": [],
   "source": [
    "# import modules\n",
    "import numpy as np\n",
    "from scipy.optimize import minimize\n",
    "\n",
    "\n",
    "def mean_variance_portfolio(ret):\n",
    "\n",
    "    # define objective function to minimize: sharpe ratio\n",
    "    def get_portfolio_sr(weights):\n",
    "\n",
    "        weights = np.array(weights)  # check\n",
    "\n",
    "        # expected returns\n",
    "        port_ret = np.dot(ret, weights)\n",
    "        mean_ret = port_ret.mean()\n",
    "\n",
    "        # volatility\n",
    "        cov_mat = ret.cov()\n",
    "        port_std = np.sqrt(np.dot(weights.T, np.dot(cov_mat, weights)))\n",
    "\n",
    "        # sharpe ratio\n",
    "        port_sr = mean_ret / port_std\n",
    "        return port_sr\n",
    "\n",
    "    def objective_fun(weights):\n",
    "        neg_sr = get_portfolio_sr(weights) * (-1)\n",
    "        return neg_sr\n",
    "\n",
    "    # equality constraint: sum of the weights = 1\n",
    "    def weight_cons(weights):\n",
    "        return np.sum(weights) - 1\n",
    "\n",
    "    # model set-up\n",
    "    # - long only portfolio\n",
    "    # - initial guess\n",
    "    # - constraints\n",
    "    bounds_lim = ((0, 1),) * len(ret.columns)\n",
    "    init_weights = [1 / len(ret.columns)] * len(ret.columns)\n",
    "    constraint = {'type': 'eq', 'fun': weight_cons}\n",
    "\n",
    "    # find optimal portfolio\n",
    "    opt_port = minimize(fun=objective_fun,\n",
    "                        x0=init_weights,\n",
    "                        bounds=bounds_lim,\n",
    "                        constraints=constraint,\n",
    "                        method='SLSQP')\n",
    "\n",
    "    # find optimal weights\n",
    "    opt_weights = list(opt_port['x'])\n",
    "\n",
    "    return opt_weights"
   ]
  },
  {
   "cell_type": "markdown",
   "id": "bbce3a61-7ffc-4959-ae75-e0dbe93eae3b",
   "metadata": {},
   "source": [
    "# deliverable"
   ]
  },
  {
   "cell_type": "code",
   "execution_count": 11,
   "id": "f9c90bf8-c768-482b-8e28-f0ea1116d93a",
   "metadata": {},
   "outputs": [],
   "source": [
    "# import modules\n",
    "import numpy as np\n",
    "import pandas as pd\n",
    "import yfinance as yf\n",
    "import matplotlib.pyplot as plt\n",
    "from tqdm import tqdm"
   ]
  },
  {
   "cell_type": "code",
   "execution_count": 12,
   "id": "4dbaf3ce-368f-4f19-b623-a18a89ee7983",
   "metadata": {},
   "outputs": [
    {
     "name": "stdout",
     "output_type": "stream",
     "text": [
      "[*********************100%***********************]  9 of 9 completed\n"
     ]
    }
   ],
   "source": [
    "# main variables\n",
    "tickers = ['SPY', 'EEM', 'TIP', 'IAU', 'IEF', 'TLT', 'VGK', 'IWM', 'EMLC']\n",
    "months_training_set = 12 * 5\n",
    "months_test_set = 1\n",
    "initial_capital = 1\n",
    "\n",
    "# data\n",
    "prices = yf.download(tickers=tickers)['Adj Close']\n",
    "prices = prices.dropna(axis=0)\n",
    "daily_ret = np.log(prices / prices.shift(1))[1:]\n",
    "monthly_ret = daily_ret.groupby(pd.Grouper(freq='M')).apply(np.sum)\n",
    "\n",
    "# strategy back-test\n",
    "index = list(prices.columns)\n",
    "columns = [1] * (len(monthly_ret.index) - months_training_set)\n",
    "portfolio_weights_df = pd.DataFrame(data=index, columns=['index'])\n",
    "weights_equally_weighted = portfolio_weights_df\n",
    "weights_risk_parity = portfolio_weights_df\n",
    "weights_minimum_variance = portfolio_weights_df\n",
    "weights_mean_variance = portfolio_weights_df"
   ]
  },
  {
   "cell_type": "markdown",
   "id": "6e4d2def-5d5d-42f3-a355-3fd9ee96345a",
   "metadata": {},
   "source": [
    "\n",
    "## monthly back-test with rolling approach"
   ]
  },
  {
   "cell_type": "code",
   "execution_count": 13,
   "id": "b674cadf-eedd-47fc-a481-e677adda21e0",
   "metadata": {},
   "outputs": [
    {
     "name": "stderr",
     "output_type": "stream",
     "text": [
      "  4%|██                                                      | 3/81 [00:00<00:08,  9.07it/s]C:\\Users\\677\\AppData\\Local\\Temp/ipykernel_1640/1333171354.py:14: FutureWarning: Passing 'suffixes' which cause duplicate columns {'weight_x'} in the result is deprecated and will raise a MergeError in a future version.\n",
      "  weights_equally_weighted = pd.merge(weights_equally_weighted, equally_weighted, how='outer', on='index')\n",
      "C:\\Users\\677\\AppData\\Local\\Temp/ipykernel_1640/1333171354.py:15: FutureWarning: Passing 'suffixes' which cause duplicate columns {'weight_x'} in the result is deprecated and will raise a MergeError in a future version.\n",
      "  weights_risk_parity = pd.merge(weights_risk_parity, risk_parity, how='outer', on='index')\n",
      "C:\\Users\\677\\AppData\\Local\\Temp/ipykernel_1640/1333171354.py:16: FutureWarning: Passing 'suffixes' which cause duplicate columns {'weight_x'} in the result is deprecated and will raise a MergeError in a future version.\n",
      "  weights_minimum_variance = pd.merge(weights_minimum_variance, minimum_variance, how='outer', on='index')\n",
      "C:\\Users\\677\\AppData\\Local\\Temp/ipykernel_1640/1333171354.py:17: FutureWarning: Passing 'suffixes' which cause duplicate columns {'weight_x'} in the result is deprecated and will raise a MergeError in a future version.\n",
      "  weights_mean_variance = pd.merge(weights_mean_variance, mean_variance, how='outer', on='index')\n",
      "100%|███████████████████████████████████████████████████████| 81/81 [00:06<00:00, 11.90it/s]\n"
     ]
    }
   ],
   "source": [
    "# initialize progress bar\n",
    "pbar = tqdm(total=len(columns))\n",
    "for i in range(len(columns)):\n",
    "    # -- subset monthly returns -- #\n",
    "    ret = monthly_ret.iloc[i:i + months_training_set, :]\n",
    "\n",
    "    # -- find optimal portfolios -- #\n",
    "    equally_weighted = pd.DataFrame(data=[index, equally_weighted_portfolio(ret)], index=['index', 'weight']).T\n",
    "    risk_parity = pd.DataFrame(data=[index, risk_parity_portfolio(ret)], index=['index', 'weight']).T\n",
    "    minimum_variance = pd.DataFrame(data=[index, minimum_variance_portfolio(ret)], index=['index', 'weight']).T\n",
    "    mean_variance = pd.DataFrame(data=[index, mean_variance_portfolio(ret)], index=['index', 'weight']).T\n",
    "\n",
    "    # -- append data to existing -- #\n",
    "    weights_equally_weighted = pd.merge(weights_equally_weighted, equally_weighted, how='outer', on='index')\n",
    "    weights_risk_parity = pd.merge(weights_risk_parity, risk_parity, how='outer', on='index')\n",
    "    weights_minimum_variance = pd.merge(weights_minimum_variance, minimum_variance, how='outer', on='index')\n",
    "    weights_mean_variance = pd.merge(weights_mean_variance, mean_variance, how='outer', on='index')\n",
    "\n",
    "    # update progress bar\n",
    "    pbar.update(1)\n",
    "pbar.close()\n"
   ]
  },
  {
   "cell_type": "markdown",
   "id": "56e77e3a-40ff-4e8d-9d99-791657e12ac1",
   "metadata": {},
   "source": [
    "## get back-test results"
   ]
  },
  {
   "cell_type": "code",
   "execution_count": 14,
   "id": "123df970-3b14-4989-87c7-a8756045fe90",
   "metadata": {},
   "outputs": [],
   "source": [
    "def get_backtest_results(weights_df):\n",
    "\n",
    "    # get final weights data-frames\n",
    "    def get_final_weights(weights_df):\n",
    "        weights_df = weights_df.set_index('index')\n",
    "        weights_df = weights_df.T\n",
    "        weights_df.index = daily_ret.resample('BMS').first().index[-len(weights_df):]\n",
    "        return weights_df\n",
    "\n",
    "    final_weights = get_final_weights(weights_df)\n",
    "\n",
    "    # get buy and sell price\n",
    "    open_prices = prices.resample('BMS').first()\n",
    "    open_prices = open_prices[months_training_set:]\n",
    "    close_prices = prices.resample('M').last()\n",
    "    close_prices = close_prices[months_training_set:]\n",
    "\n",
    "    # get cumulative returns\n",
    "    def get_cumulative_returns(weights_df):\n",
    "\n",
    "        # initialize data\n",
    "        portfolio_cum_ret = []\n",
    "        starting_capital = initial_capital\n",
    "\n",
    "        pbar = tqdm(total=len(weights_df))\n",
    "\n",
    "        # loop\n",
    "        for i in range(len(weights_df)):\n",
    "            # - n:                 number of share bought at the start of the month\n",
    "            # - s:                 start date of the investment every month\n",
    "            # - e:                 end date every of the investments every month\n",
    "            # - p:                 portfolio value\n",
    "            # - starting_capital:  set the starting capital of the next month as the last value of the previous month\n",
    "            # - portfolio_cum_ret: append every portfolio value\n",
    "            n = (weights_df.iloc[i, :] * starting_capital) / open_prices.iloc[i, :]\n",
    "            s = open_prices.index[i]\n",
    "            e = close_prices.index[i]\n",
    "            p = np.sum(prices.loc[str(s):str(e)] * n, axis=1)\n",
    "            starting_capital = p[-1]\n",
    "            portfolio_cum_ret.append(list(p))\n",
    "\n",
    "            # update progress bar\n",
    "            pbar.update(1)\n",
    "\n",
    "        # final results\n",
    "        portfolio_cum_ret = [item for sublist in portfolio_cum_ret for item in sublist]\n",
    "        pbar.close()\n",
    "\n",
    "        return portfolio_cum_ret\n",
    "\n",
    "    cumulative_returns = get_cumulative_returns(final_weights)\n",
    "\n",
    "    # final data\n",
    "    cumulative_returns = pd.DataFrame(data=cumulative_returns, index=prices[-len(cumulative_returns):].index)\n",
    "\n",
    "    return cumulative_returns"
   ]
  },
  {
   "cell_type": "code",
   "execution_count": 15,
   "id": "45d8de1b-56fe-4551-a5da-228e6ecec48d",
   "metadata": {},
   "outputs": [
    {
     "name": "stderr",
     "output_type": "stream",
     "text": [
      "100%|██████████████████████████████████████████████████████| 81/81 [00:00<00:00, 244.83it/s]\n",
      "100%|██████████████████████████████████████████████████████| 81/81 [00:00<00:00, 316.58it/s]\n",
      "100%|██████████████████████████████████████████████████████| 81/81 [00:00<00:00, 301.99it/s]\n",
      "100%|██████████████████████████████████████████████████████| 81/81 [00:00<00:00, 295.01it/s]\n"
     ]
    }
   ],
   "source": [
    "backtest_equally_weighted = get_backtest_results(weights_equally_weighted)\n",
    "backtest_risk_parity      = get_backtest_results(weights_risk_parity)\n",
    "backtest_minimum_variance = get_backtest_results(weights_minimum_variance)\n",
    "backtest_mean_variance    = get_backtest_results(weights_mean_variance)\n",
    "backtest_df               = pd.DataFrame(data=[backtest_equally_weighted[0],\n",
    "                                               backtest_risk_parity[0],\n",
    "                                               backtest_minimum_variance[0],\n",
    "                                               backtest_mean_variance[0]],\n",
    "                                         index=['equally_weighted',\n",
    "                                                'risk_parity',\n",
    "                                                'minimum_variance',\n",
    "                                                'mean_variance']).T\n",
    "\n",
    "# sharpe ratio\n",
    "mean_returns = (((backtest_df / backtest_df.shift(1))-1)[1:]).mean()\n",
    "std_returns  = (((backtest_df / backtest_df.shift(1))-1)[1:]).std()\n",
    "sharpe_ratio = mean_returns / std_returns"
   ]
  },
  {
   "cell_type": "markdown",
   "id": "831a5666-5ac3-4e95-804e-5a8aa29c63bd",
   "metadata": {},
   "source": [
    "## plot"
   ]
  },
  {
   "cell_type": "code",
   "execution_count": 16,
   "id": "5b9c54ea-c4fc-4d2c-8d7a-e6e53bd11351",
   "metadata": {},
   "outputs": [
    {
     "data": {
      "image/png": "[encoded data removed]",
      "text/plain": [
       "<Figure size 432x288 with 1 Axes>"
      ]
     },
     "metadata": {
      "needs_background": "light"
     },
     "output_type": "display_data"
    }
   ],
   "source": [
    "plt.rcParams[\"font.family\"] = \"serif\"\n",
    "fig, ax = plt.subplots()\n",
    "ax.spines['right'].set_visible(False)\n",
    "ax.spines['top'].set_visible(False)\n",
    "plt.suptitle('Backtest trading stragey',fontsize=20)\n",
    "plt.title('Assets considered: {}'.format(tickers))\n",
    "plt.ylabel('Cumulative returns')\n",
    "plt.hlines(y=initial_capital,\n",
    "           linestyles='dashed',\n",
    "           colors='black',\n",
    "           xmin=backtest_df.index[0], xmax=backtest_df.index[-1], linewidth=0.5)\n",
    "plt.plot(backtest_df)\n",
    "plt.legend(['Equally weighted, daily sharpe ratio: ' + str(np.round(sharpe_ratio[0], 3)),\n",
    "            'Risk parity, daily sharpe ratio: ' + str(np.round(sharpe_ratio[1], 3)),\n",
    "            'Minimum variance, daily sharpe ratio: ' + str(np.round(sharpe_ratio[2], 3)),\n",
    "            'Mean-variance, daily sharpe ratio: ' + str(np.round(sharpe_ratio[3], 3))],\n",
    "           loc='upper center', bbox_to_anchor=(0.5, -0.05), ncol=4, frameon=False)\n",
    "plt.show()"
   ]
  },
  {
   "cell_type": "code",
   "execution_count": null,
   "id": "63ee905c-23e7-40dd-a4ec-5978b1e498f2",
   "metadata": {},
   "outputs": [],
   "source": []
  },
  {
   "cell_type": "code",
   "execution_count": null,
   "id": "a1983e18-f1a4-4c85-81e6-139884883819",
   "metadata": {},
   "outputs": [],
   "source": []
  }
 ],
 "metadata": {
  "kernelspec": {
   "display_name": "Python 3 (ipykernel)",
   "language": "python",
   "name": "python3"
  },
  "language_info": {
   "codemirror_mode": {
    "name": "ipython",
    "version": 3
   },
   "file_extension": ".py",
   "mimetype": "text/x-python",
   "name": "python",
   "nbconvert_exporter": "python",
   "pygments_lexer": "ipython3",
   "version": "3.8.8"
  }
 },
 "nbformat": 4,
 "nbformat_minor": 5
}

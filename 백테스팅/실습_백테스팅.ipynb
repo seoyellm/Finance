{
 "cells": [
  {
   "cell_type": "markdown",
   "id": "715e1abd-bfb4-4921-81ca-0990a9685c8e",
   "metadata": {},
   "source": []
  },
  {
   "cell_type": "code",
   "execution_count": 1,
   "id": "66bd8178-ee65-4e8c-9edc-92d09aa51285",
   "metadata": {},
   "outputs": [
    {
     "data": {
      "text/html": [
       "<style>.container{width:100% !important;}</style>"
      ],
      "text/plain": [
       "<IPython.core.display.HTML object>"
      ]
     },
     "metadata": {},
     "output_type": "display_data"
    }
   ],
   "source": [
    "import numpy as np\n",
    "import pandas as pd\n",
    "import datetime as dt\n",
    "from pykrx import stock\n",
    "import matplotlib.pyplot as plt\n",
    "import seaborn as sns\n",
    "\n",
    "import warnings\n",
    "warnings.filterwarnings(action='ignore')\n",
    "\n",
    "#-------------------- 차트 관련 속성 (한글처리, 그리드) -----------\n",
    "plt.rcParams['font.family']= 'Malgun Gothic'\n",
    "plt.rcParams['axes.unicode_minus'] = False\n",
    "plt.rc('font', family='Malgun Gothic')\n",
    "sns.set()\n",
    "\n",
    "#-------------------- 주피터 , 출력결과 넓이 늘리기 ---------------\n",
    "from IPython.core.display import display, HTML\n",
    "display(HTML(\"<style>.container{width:100% !important;}</style>\"))\n",
    "pd.set_option('display.max_rows', 100)\n",
    "pd.set_option('display.max_columns', 100)\n",
    "pd.set_option('max_colwidth', None)"
   ]
  },
  {
   "cell_type": "markdown",
   "id": "b2ed12cf-28e3-4921-bceb-47b77703cb48",
   "metadata": {},
   "source": [
    "\n",
    "1. 매매전략\n",
    "    - MACD\n",
    "        - signal과 MACD 곡선이 크로스 되는 순간이 매수/매도 신호\n",
    "        - 기본값 : 12일(단기), 26일(장기), 9일(signal)\n",
    "        - signal 곡선 = 9일 MACD 이동평균선\n",
    "        - MACD 곡선 = (단기 이동평균- 장기이동평균)\n",
    "        - Golden cross : MACD 곡선이 signal 곡선 상향 돌파 == 매수신호\n",
    "        - Dead cross : MACD 곡선이 signal 곡선 하향 돌파 == 매도신호\n",
    "    - RSI\n",
    "        - RSI = ((n일 동안의 종가 상승 분 평균(AU))/(n일 동안의 종가 상승 분 평균 + n일 동안의 종가 하락분 평균(AD))) * 100\n",
    "        - RSI 30%으로 떨어지면 초과매도 국면 == 매수\n",
    "        - RSI 70%를 넘어서면 초과매수 국면 == 매도 -> 클수록 상승세\n"
   ]
  },
  {
   "cell_type": "markdown",
   "id": "1a2dffd4-89dc-4a3b-9cf6-5e29a4fda6be",
   "metadata": {},
   "source": [
    "# Data Load"
   ]
  },
  {
   "cell_type": "code",
   "execution_count": 2,
   "id": "7e4c0f49-07c9-47c8-b6b3-f9bef70ba0bb",
   "metadata": {
    "tags": []
   },
   "outputs": [
    {
     "data": {
      "text/html": [
       "<div>\n",
       "<style scoped>\n",
       "    .dataframe tbody tr th:only-of-type {\n",
       "        vertical-align: middle;\n",
       "    }\n",
       "\n",
       "    .dataframe tbody tr th {\n",
       "        vertical-align: top;\n",
       "    }\n",
       "\n",
       "    .dataframe thead th {\n",
       "        text-align: right;\n",
       "    }\n",
       "</style>\n",
       "<table border=\"1\" class=\"dataframe\">\n",
       "  <thead>\n",
       "    <tr style=\"text-align: right;\">\n",
       "      <th></th>\n",
       "      <th>open</th>\n",
       "      <th>high</th>\n",
       "      <th>low</th>\n",
       "      <th>close</th>\n",
       "      <th>volume</th>\n",
       "    </tr>\n",
       "    <tr>\n",
       "      <th>날짜</th>\n",
       "      <th></th>\n",
       "      <th></th>\n",
       "      <th></th>\n",
       "      <th></th>\n",
       "      <th></th>\n",
       "    </tr>\n",
       "  </thead>\n",
       "  <tbody>\n",
       "    <tr>\n",
       "      <th>2020-01-02</th>\n",
       "      <td>55500</td>\n",
       "      <td>56000</td>\n",
       "      <td>55000</td>\n",
       "      <td>55200</td>\n",
       "      <td>12993228</td>\n",
       "    </tr>\n",
       "    <tr>\n",
       "      <th>2020-01-03</th>\n",
       "      <td>56000</td>\n",
       "      <td>56600</td>\n",
       "      <td>54900</td>\n",
       "      <td>55500</td>\n",
       "      <td>15422255</td>\n",
       "    </tr>\n",
       "    <tr>\n",
       "      <th>2020-01-06</th>\n",
       "      <td>54900</td>\n",
       "      <td>55600</td>\n",
       "      <td>54600</td>\n",
       "      <td>55500</td>\n",
       "      <td>10278951</td>\n",
       "    </tr>\n",
       "    <tr>\n",
       "      <th>2020-01-07</th>\n",
       "      <td>55700</td>\n",
       "      <td>56400</td>\n",
       "      <td>55600</td>\n",
       "      <td>55800</td>\n",
       "      <td>10009778</td>\n",
       "    </tr>\n",
       "    <tr>\n",
       "      <th>2020-01-08</th>\n",
       "      <td>56200</td>\n",
       "      <td>57400</td>\n",
       "      <td>55900</td>\n",
       "      <td>56800</td>\n",
       "      <td>23501171</td>\n",
       "    </tr>\n",
       "  </tbody>\n",
       "</table>\n",
       "</div>"
      ],
      "text/plain": [
       "             open   high    low  close    volume\n",
       "날짜                                              \n",
       "2020-01-02  55500  56000  55000  55200  12993228\n",
       "2020-01-03  56000  56600  54900  55500  15422255\n",
       "2020-01-06  54900  55600  54600  55500  10278951\n",
       "2020-01-07  55700  56400  55600  55800  10009778\n",
       "2020-01-08  56200  57400  55900  56800  23501171"
      ]
     },
     "execution_count": 2,
     "metadata": {},
     "output_type": "execute_result"
    }
   ],
   "source": [
    "from pykrx import stock\n",
    "from pykrx import bond\n",
    "\n",
    "df =    stock.get_market_ohlcv('20200101', '20211231', '005930')[['시가','고가','저가','종가','거래량']]\n",
    "# 삼성 =  stock.get_market_ohlcv('20211201','20221231', '005930')[['종가']]\n",
    "df.columns=['open', 'high', 'low', 'close', 'volume']\n",
    "df.head()"
   ]
  },
  {
   "cell_type": "markdown",
   "id": "5fe0d344-cd62-48c0-a125-1427acee00e3",
   "metadata": {},
   "source": [
    "# RSI"
   ]
  },
  {
   "cell_type": "markdown",
   "id": "d5b733ae-72b7-4daa-9742-5d05762d1c28",
   "metadata": {},
   "source": [
    "- Golden cross : MACD 곡선이 signal 곡선 상향 돌파 == 매수신호\n",
    "- Dead cross : MACD 곡선이 signal 곡선 하향 돌파 == 매도신호"
   ]
  },
  {
   "cell_type": "code",
   "execution_count": 3,
   "id": "bcd76ab7-ebf9-4bd3-bfb6-170c245118ec",
   "metadata": {
    "tags": []
   },
   "outputs": [],
   "source": [
    "import talib.abstract as ta\n",
    "\n",
    "macd, macdsignal, macdhist= ta.MACD(df['close'], fastperiod=12, slowperiod=26, signalperiod=9)\n",
    "\n",
    "df['macd']=macd\n",
    "df['macdsignal']=macdsignal\n",
    "df['macdhist']=macdhist"
   ]
  },
  {
   "cell_type": "code",
   "execution_count": 4,
   "id": "12877bc2-d58f-40ee-8c60-6614e3a35818",
   "metadata": {
    "tags": []
   },
   "outputs": [],
   "source": [
    "Golden_cross=df[df['macd']>df['macdsignal']]\n",
    "Dead_cross=df[df['macd']<df['macdsignal']]"
   ]
  },
  {
   "cell_type": "markdown",
   "id": "c8cfb9dd-4695-4837-a165-1a37fcada3bc",
   "metadata": {},
   "source": [
    "- RSI = ((n일 동안의 종가 상승 분 평균(AU))/(n일 동안의 종가 상승 분 평균 + n일 동안의 종가 하락분 평균(AD))) * 100\n",
    "- RSI 30%으로 떨어지면 초과매도 국면 == 매수\n",
    "- RSI 70%를 넘어서면 초과매수 국면 == 매도 -> 클수록 상승세"
   ]
  },
  {
   "cell_type": "code",
   "execution_count": 5,
   "id": "e381eda5-8625-4b2e-b6ae-2f79260fc905",
   "metadata": {
    "tags": []
   },
   "outputs": [],
   "source": [
    "df['rsi']=ta.RSI(df['close'],timeperiod=14)"
   ]
  },
  {
   "cell_type": "code",
   "execution_count": 6,
   "id": "c09bdb31-7b77-48ba-959c-0c7ae442569a",
   "metadata": {
    "tags": []
   },
   "outputs": [],
   "source": [
    "buy=df[df['rsi']<30.0]\n",
    "sell=df[df['rsi']>70.0]"
   ]
  },
  {
   "cell_type": "code",
   "execution_count": 7,
   "id": "68a68bd2-5750-42f4-8966-54eda159a74a",
   "metadata": {
    "tags": []
   },
   "outputs": [
    {
     "data": {
      "text/html": [
       "<div>\n",
       "<style scoped>\n",
       "    .dataframe tbody tr th:only-of-type {\n",
       "        vertical-align: middle;\n",
       "    }\n",
       "\n",
       "    .dataframe tbody tr th {\n",
       "        vertical-align: top;\n",
       "    }\n",
       "\n",
       "    .dataframe thead th {\n",
       "        text-align: right;\n",
       "    }\n",
       "</style>\n",
       "<table border=\"1\" class=\"dataframe\">\n",
       "  <thead>\n",
       "    <tr style=\"text-align: right;\">\n",
       "      <th></th>\n",
       "      <th>open</th>\n",
       "      <th>high</th>\n",
       "      <th>low</th>\n",
       "      <th>close</th>\n",
       "      <th>volume</th>\n",
       "      <th>macd</th>\n",
       "      <th>macdsignal</th>\n",
       "      <th>macdhist</th>\n",
       "      <th>rsi</th>\n",
       "    </tr>\n",
       "    <tr>\n",
       "      <th>날짜</th>\n",
       "      <th></th>\n",
       "      <th></th>\n",
       "      <th></th>\n",
       "      <th></th>\n",
       "      <th></th>\n",
       "      <th></th>\n",
       "      <th></th>\n",
       "      <th></th>\n",
       "      <th></th>\n",
       "    </tr>\n",
       "  </thead>\n",
       "  <tbody>\n",
       "    <tr>\n",
       "      <th>2021-03-22</th>\n",
       "      <td>82000</td>\n",
       "      <td>82300</td>\n",
       "      <td>81700</td>\n",
       "      <td>82000</td>\n",
       "      <td>12670506</td>\n",
       "      <td>-238.336385</td>\n",
       "      <td>-231.555406</td>\n",
       "      <td>-6.780979</td>\n",
       "      <td>47.694227</td>\n",
       "    </tr>\n",
       "  </tbody>\n",
       "</table>\n",
       "</div>"
      ],
      "text/plain": [
       "             open   high    low  close    volume        macd  macdsignal  \\\n",
       "날짜                                                                         \n",
       "2021-03-22  82000  82300  81700  82000  12670506 -238.336385 -231.555406   \n",
       "\n",
       "            macdhist        rsi  \n",
       "날짜                               \n",
       "2021-03-22 -6.780979  47.694227  "
      ]
     },
     "execution_count": 7,
     "metadata": {},
     "output_type": "execute_result"
    }
   ],
   "source": [
    "df[df.index=='2021-03-22']"
   ]
  },
  {
   "cell_type": "markdown",
   "id": "6708f923-e943-4c42-8572-1e473d7e0461",
   "metadata": {},
   "source": [
    "# STOCHSTIC"
   ]
  },
  {
   "cell_type": "code",
   "execution_count": 8,
   "id": "205bbf6e-e1ec-4d9c-a0ae-7e9c000489e6",
   "metadata": {
    "tags": []
   },
   "outputs": [],
   "source": [
    "import talib\n",
    "from talib.abstract import *\n",
    "\n",
    "slowk, slowd = talib.STOCH(df['high'], df['low'], df['close'], \n",
    "                           fastk_period=5, \n",
    "                           slowk_period=3, slowk_matype=0, \n",
    "                           slowd_period=3, slowd_matype=0)"
   ]
  },
  {
   "cell_type": "code",
   "execution_count": 9,
   "id": "76665cb5-833d-4952-b6d5-3d5c08f0fe60",
   "metadata": {
    "tags": []
   },
   "outputs": [],
   "source": [
    "fastk, fastd = talib.STOCHF(df['high'], df['low'], df['close'],  \n",
    "                            fastk_period=5, \n",
    "                            fastd_period=3, fastd_matype=0)"
   ]
  },
  {
   "cell_type": "code",
   "execution_count": 10,
   "id": "72b3dba2-d558-4b14-8e9e-6a3165aeb8ae",
   "metadata": {
    "tags": []
   },
   "outputs": [],
   "source": [
    "df['fastk']=fastk\n",
    "df['fastd']=fastd"
   ]
  },
  {
   "cell_type": "code",
   "execution_count": 11,
   "id": "5a4b067d-6660-44ac-978a-eec74343245d",
   "metadata": {},
   "outputs": [
    {
     "data": {
      "text/html": [
       "<div>\n",
       "<style scoped>\n",
       "    .dataframe tbody tr th:only-of-type {\n",
       "        vertical-align: middle;\n",
       "    }\n",
       "\n",
       "    .dataframe tbody tr th {\n",
       "        vertical-align: top;\n",
       "    }\n",
       "\n",
       "    .dataframe thead th {\n",
       "        text-align: right;\n",
       "    }\n",
       "</style>\n",
       "<table border=\"1\" class=\"dataframe\">\n",
       "  <thead>\n",
       "    <tr style=\"text-align: right;\">\n",
       "      <th></th>\n",
       "      <th>open</th>\n",
       "      <th>high</th>\n",
       "      <th>low</th>\n",
       "      <th>close</th>\n",
       "      <th>volume</th>\n",
       "      <th>macd</th>\n",
       "      <th>macdsignal</th>\n",
       "      <th>macdhist</th>\n",
       "      <th>rsi</th>\n",
       "      <th>fastk</th>\n",
       "      <th>fastd</th>\n",
       "    </tr>\n",
       "    <tr>\n",
       "      <th>날짜</th>\n",
       "      <th></th>\n",
       "      <th></th>\n",
       "      <th></th>\n",
       "      <th></th>\n",
       "      <th></th>\n",
       "      <th></th>\n",
       "      <th></th>\n",
       "      <th></th>\n",
       "      <th></th>\n",
       "      <th></th>\n",
       "      <th></th>\n",
       "    </tr>\n",
       "  </thead>\n",
       "  <tbody>\n",
       "    <tr>\n",
       "      <th>2020-03-04</th>\n",
       "      <td>54800</td>\n",
       "      <td>57600</td>\n",
       "      <td>54600</td>\n",
       "      <td>57400</td>\n",
       "      <td>24765728</td>\n",
       "      <td>-920.092098</td>\n",
       "      <td>-525.930768</td>\n",
       "      <td>-394.161330</td>\n",
       "      <td>49.015842</td>\n",
       "      <td>95.000000</td>\n",
       "      <td>59.919786</td>\n",
       "    </tr>\n",
       "    <tr>\n",
       "      <th>2020-03-05</th>\n",
       "      <td>57600</td>\n",
       "      <td>58000</td>\n",
       "      <td>56700</td>\n",
       "      <td>57800</td>\n",
       "      <td>21698990</td>\n",
       "      <td>-795.011690</td>\n",
       "      <td>-579.746953</td>\n",
       "      <td>-215.264737</td>\n",
       "      <td>50.521484</td>\n",
       "      <td>95.454545</td>\n",
       "      <td>81.131907</td>\n",
       "    </tr>\n",
       "    <tr>\n",
       "      <th>2020-03-24</th>\n",
       "      <td>43850</td>\n",
       "      <td>46950</td>\n",
       "      <td>43050</td>\n",
       "      <td>46950</td>\n",
       "      <td>49801908</td>\n",
       "      <td>-3560.309359</td>\n",
       "      <td>-2847.165222</td>\n",
       "      <td>-713.144138</td>\n",
       "      <td>39.283954</td>\n",
       "      <td>76.859504</td>\n",
       "      <td>38.542368</td>\n",
       "    </tr>\n",
       "    <tr>\n",
       "      <th>2020-03-25</th>\n",
       "      <td>48950</td>\n",
       "      <td>49600</td>\n",
       "      <td>47150</td>\n",
       "      <td>48650</td>\n",
       "      <td>52735922</td>\n",
       "      <td>-3252.239405</td>\n",
       "      <td>-2928.180058</td>\n",
       "      <td>-324.059347</td>\n",
       "      <td>43.614444</td>\n",
       "      <td>86.986301</td>\n",
       "      <td>55.522298</td>\n",
       "    </tr>\n",
       "    <tr>\n",
       "      <th>2020-03-26</th>\n",
       "      <td>49000</td>\n",
       "      <td>49300</td>\n",
       "      <td>47700</td>\n",
       "      <td>47800</td>\n",
       "      <td>42185129</td>\n",
       "      <td>-3041.617766</td>\n",
       "      <td>-2950.867600</td>\n",
       "      <td>-90.750166</td>\n",
       "      <td>42.001380</td>\n",
       "      <td>75.000000</td>\n",
       "      <td>79.615269</td>\n",
       "    </tr>\n",
       "    <tr>\n",
       "      <th>...</th>\n",
       "      <td>...</td>\n",
       "      <td>...</td>\n",
       "      <td>...</td>\n",
       "      <td>...</td>\n",
       "      <td>...</td>\n",
       "      <td>...</td>\n",
       "      <td>...</td>\n",
       "      <td>...</td>\n",
       "      <td>...</td>\n",
       "      <td>...</td>\n",
       "      <td>...</td>\n",
       "    </tr>\n",
       "    <tr>\n",
       "      <th>2021-12-22</th>\n",
       "      <td>78900</td>\n",
       "      <td>79400</td>\n",
       "      <td>78800</td>\n",
       "      <td>79400</td>\n",
       "      <td>17105892</td>\n",
       "      <td>1524.815981</td>\n",
       "      <td>1421.376948</td>\n",
       "      <td>103.439033</td>\n",
       "      <td>68.281463</td>\n",
       "      <td>100.000000</td>\n",
       "      <td>73.649539</td>\n",
       "    </tr>\n",
       "    <tr>\n",
       "      <th>2021-12-23</th>\n",
       "      <td>79800</td>\n",
       "      <td>80000</td>\n",
       "      <td>79300</td>\n",
       "      <td>79900</td>\n",
       "      <td>13577498</td>\n",
       "      <td>1614.784497</td>\n",
       "      <td>1460.058458</td>\n",
       "      <td>154.726039</td>\n",
       "      <td>69.794361</td>\n",
       "      <td>96.875000</td>\n",
       "      <td>92.897727</td>\n",
       "    </tr>\n",
       "    <tr>\n",
       "      <th>2021-12-24</th>\n",
       "      <td>80200</td>\n",
       "      <td>80800</td>\n",
       "      <td>80200</td>\n",
       "      <td>80500</td>\n",
       "      <td>12086380</td>\n",
       "      <td>1714.733795</td>\n",
       "      <td>1510.993525</td>\n",
       "      <td>203.740270</td>\n",
       "      <td>71.548134</td>\n",
       "      <td>92.500000</td>\n",
       "      <td>96.458333</td>\n",
       "    </tr>\n",
       "    <tr>\n",
       "      <th>2021-12-27</th>\n",
       "      <td>80600</td>\n",
       "      <td>80600</td>\n",
       "      <td>79800</td>\n",
       "      <td>80200</td>\n",
       "      <td>10783368</td>\n",
       "      <td>1749.568900</td>\n",
       "      <td>1558.708600</td>\n",
       "      <td>190.860300</td>\n",
       "      <td>69.379089</td>\n",
       "      <td>81.818182</td>\n",
       "      <td>90.397727</td>\n",
       "    </tr>\n",
       "    <tr>\n",
       "      <th>2021-12-28</th>\n",
       "      <td>80200</td>\n",
       "      <td>80400</td>\n",
       "      <td>79700</td>\n",
       "      <td>80300</td>\n",
       "      <td>18226325</td>\n",
       "      <td>1764.900463</td>\n",
       "      <td>1599.946973</td>\n",
       "      <td>164.953490</td>\n",
       "      <td>69.708738</td>\n",
       "      <td>75.000000</td>\n",
       "      <td>83.106061</td>\n",
       "    </tr>\n",
       "  </tbody>\n",
       "</table>\n",
       "<p>138 rows × 11 columns</p>\n",
       "</div>"
      ],
      "text/plain": [
       "             open   high    low  close    volume         macd   macdsignal  \\\n",
       "날짜                                                                           \n",
       "2020-03-04  54800  57600  54600  57400  24765728  -920.092098  -525.930768   \n",
       "2020-03-05  57600  58000  56700  57800  21698990  -795.011690  -579.746953   \n",
       "2020-03-24  43850  46950  43050  46950  49801908 -3560.309359 -2847.165222   \n",
       "2020-03-25  48950  49600  47150  48650  52735922 -3252.239405 -2928.180058   \n",
       "2020-03-26  49000  49300  47700  47800  42185129 -3041.617766 -2950.867600   \n",
       "...           ...    ...    ...    ...       ...          ...          ...   \n",
       "2021-12-22  78900  79400  78800  79400  17105892  1524.815981  1421.376948   \n",
       "2021-12-23  79800  80000  79300  79900  13577498  1614.784497  1460.058458   \n",
       "2021-12-24  80200  80800  80200  80500  12086380  1714.733795  1510.993525   \n",
       "2021-12-27  80600  80600  79800  80200  10783368  1749.568900  1558.708600   \n",
       "2021-12-28  80200  80400  79700  80300  18226325  1764.900463  1599.946973   \n",
       "\n",
       "              macdhist        rsi       fastk      fastd  \n",
       "날짜                                                        \n",
       "2020-03-04 -394.161330  49.015842   95.000000  59.919786  \n",
       "2020-03-05 -215.264737  50.521484   95.454545  81.131907  \n",
       "2020-03-24 -713.144138  39.283954   76.859504  38.542368  \n",
       "2020-03-25 -324.059347  43.614444   86.986301  55.522298  \n",
       "2020-03-26  -90.750166  42.001380   75.000000  79.615269  \n",
       "...                ...        ...         ...        ...  \n",
       "2021-12-22  103.439033  68.281463  100.000000  73.649539  \n",
       "2021-12-23  154.726039  69.794361   96.875000  92.897727  \n",
       "2021-12-24  203.740270  71.548134   92.500000  96.458333  \n",
       "2021-12-27  190.860300  69.379089   81.818182  90.397727  \n",
       "2021-12-28  164.953490  69.708738   75.000000  83.106061  \n",
       "\n",
       "[138 rows x 11 columns]"
      ]
     },
     "execution_count": 11,
     "metadata": {},
     "output_type": "execute_result"
    }
   ],
   "source": [
    "df[(df['macdhist'] * df['macdhist'].shift() < 0) & (df['fastk']<=20.0)] # 매수신호\n",
    "df[(df['macdhist'] * df['macdhist'].shift() > 0) & (df['fastk']>=70.0)] # 매도신호"
   ]
  },
  {
   "cell_type": "code",
   "execution_count": 12,
   "id": "c1d8e9a3-5338-45bc-9fe1-28f885489190",
   "metadata": {
    "tags": []
   },
   "outputs": [
    {
     "data": {
      "text/plain": [
       "496"
      ]
     },
     "execution_count": 12,
     "metadata": {},
     "output_type": "execute_result"
    }
   ],
   "source": [
    "len(df)"
   ]
  },
  {
   "cell_type": "code",
   "execution_count": 13,
   "id": "9647aa67-1a5e-420d-b697-a803e4169812",
   "metadata": {
    "tags": []
   },
   "outputs": [],
   "source": [
    "df['macdhist_shift']=df['macdhist'] * df['macdhist'].shift()"
   ]
  },
  {
   "cell_type": "code",
   "execution_count": 14,
   "id": "bd0fce26-a6a9-4a6c-bad6-3df551d4af6e",
   "metadata": {
    "tags": []
   },
   "outputs": [],
   "source": [
    "# np.where((df['macd'][0]>df['macdsignal'][0])&(df['rsi'][0]<20.0), True, False)"
   ]
  },
  {
   "cell_type": "code",
   "execution_count": 20,
   "id": "b24864ba-9b01-42a8-a046-01e47d8ee96f",
   "metadata": {
    "tags": []
   },
   "outputs": [],
   "source": [
    "basic_asset=1000000\n",
    "sell_price=0\n",
    "buy_price=0\n",
    "buy_signal=False\n",
    "ret_list=[]\n",
    "for idx, row in df.iterrows() :\n",
    "    if basic_asset != 0:\n",
    "        buy_signal = np.where((df['macdhist_shift'][idx] < 0) & (df['fastk'][idx]<=20.0), True, False)\n",
    "        sell_signal = np.where((df['macdhist_shift'][idx] > 0) & (df['fastk'][idx]>=70.0), True, False)\n",
    "        # print(buy_signal, sell_signal)\n",
    "        if buy_signal:\n",
    "            buy_price=df['close'].loc[idx]\n",
    "            # print(buy_price)\n",
    "        if sell_signal :  \n",
    "            sell_price=df['close'].loc[idx]\n",
    "            # print(sell_price)\n",
    "        ret=sell_price-buy_price\n",
    "        basic_asset+=ret\n",
    "        ret_list.append(ret) \n",
    "    elif basic_asset <= 0:\n",
    "        break\n",
    "total_ret=np.sum(np.array(ret_list))\n",
    "final_asset= basic_asset+ total_ret\n",
    "final_ret=(final_asset/basic_asset)*100"
   ]
  },
  {
   "cell_type": "code",
   "execution_count": 21,
   "id": "77ce3533-f504-4258-8e3a-e19ffdcc968a",
   "metadata": {
    "tags": []
   },
   "outputs": [
    {
     "data": {
      "text/plain": [
       "(12111600, 184.74633149272398)"
      ]
     },
     "execution_count": 21,
     "metadata": {},
     "output_type": "execute_result"
    }
   ],
   "source": [
    "final_asset,final_ret"
   ]
  },
  {
   "cell_type": "code",
   "execution_count": 22,
   "id": "af7a6e2a-a37a-45c6-b9c4-64caeb3d8606",
   "metadata": {
    "tags": []
   },
   "outputs": [
    {
     "data": {
      "text/html": [
       "<div>\n",
       "<style scoped>\n",
       "    .dataframe tbody tr th:only-of-type {\n",
       "        vertical-align: middle;\n",
       "    }\n",
       "\n",
       "    .dataframe tbody tr th {\n",
       "        vertical-align: top;\n",
       "    }\n",
       "\n",
       "    .dataframe thead th {\n",
       "        text-align: right;\n",
       "    }\n",
       "</style>\n",
       "<table border=\"1\" class=\"dataframe\">\n",
       "  <thead>\n",
       "    <tr style=\"text-align: right;\">\n",
       "      <th></th>\n",
       "      <th>open</th>\n",
       "      <th>high</th>\n",
       "      <th>low</th>\n",
       "      <th>close</th>\n",
       "      <th>volume</th>\n",
       "      <th>macd</th>\n",
       "      <th>macdsignal</th>\n",
       "      <th>macdhist</th>\n",
       "      <th>rsi</th>\n",
       "      <th>fastk</th>\n",
       "      <th>fastd</th>\n",
       "      <th>macdhist_shift</th>\n",
       "    </tr>\n",
       "    <tr>\n",
       "      <th>날짜</th>\n",
       "      <th></th>\n",
       "      <th></th>\n",
       "      <th></th>\n",
       "      <th></th>\n",
       "      <th></th>\n",
       "      <th></th>\n",
       "      <th></th>\n",
       "      <th></th>\n",
       "      <th></th>\n",
       "      <th></th>\n",
       "      <th></th>\n",
       "      <th></th>\n",
       "    </tr>\n",
       "  </thead>\n",
       "  <tbody>\n",
       "    <tr>\n",
       "      <th>2020-01-02</th>\n",
       "      <td>55500</td>\n",
       "      <td>56000</td>\n",
       "      <td>55000</td>\n",
       "      <td>55200</td>\n",
       "      <td>12993228</td>\n",
       "      <td>NaN</td>\n",
       "      <td>NaN</td>\n",
       "      <td>NaN</td>\n",
       "      <td>NaN</td>\n",
       "      <td>NaN</td>\n",
       "      <td>NaN</td>\n",
       "      <td>NaN</td>\n",
       "    </tr>\n",
       "    <tr>\n",
       "      <th>2020-01-03</th>\n",
       "      <td>56000</td>\n",
       "      <td>56600</td>\n",
       "      <td>54900</td>\n",
       "      <td>55500</td>\n",
       "      <td>15422255</td>\n",
       "      <td>NaN</td>\n",
       "      <td>NaN</td>\n",
       "      <td>NaN</td>\n",
       "      <td>NaN</td>\n",
       "      <td>NaN</td>\n",
       "      <td>NaN</td>\n",
       "      <td>NaN</td>\n",
       "    </tr>\n",
       "    <tr>\n",
       "      <th>2020-01-06</th>\n",
       "      <td>54900</td>\n",
       "      <td>55600</td>\n",
       "      <td>54600</td>\n",
       "      <td>55500</td>\n",
       "      <td>10278951</td>\n",
       "      <td>NaN</td>\n",
       "      <td>NaN</td>\n",
       "      <td>NaN</td>\n",
       "      <td>NaN</td>\n",
       "      <td>NaN</td>\n",
       "      <td>NaN</td>\n",
       "      <td>NaN</td>\n",
       "    </tr>\n",
       "    <tr>\n",
       "      <th>2020-01-07</th>\n",
       "      <td>55700</td>\n",
       "      <td>56400</td>\n",
       "      <td>55600</td>\n",
       "      <td>55800</td>\n",
       "      <td>10009778</td>\n",
       "      <td>NaN</td>\n",
       "      <td>NaN</td>\n",
       "      <td>NaN</td>\n",
       "      <td>NaN</td>\n",
       "      <td>NaN</td>\n",
       "      <td>NaN</td>\n",
       "      <td>NaN</td>\n",
       "    </tr>\n",
       "    <tr>\n",
       "      <th>2020-01-08</th>\n",
       "      <td>56200</td>\n",
       "      <td>57400</td>\n",
       "      <td>55900</td>\n",
       "      <td>56800</td>\n",
       "      <td>23501171</td>\n",
       "      <td>NaN</td>\n",
       "      <td>NaN</td>\n",
       "      <td>NaN</td>\n",
       "      <td>NaN</td>\n",
       "      <td>NaN</td>\n",
       "      <td>NaN</td>\n",
       "      <td>NaN</td>\n",
       "    </tr>\n",
       "  </tbody>\n",
       "</table>\n",
       "</div>"
      ],
      "text/plain": [
       "             open   high    low  close    volume  macd  macdsignal  macdhist  \\\n",
       "날짜                                                                             \n",
       "2020-01-02  55500  56000  55000  55200  12993228   NaN         NaN       NaN   \n",
       "2020-01-03  56000  56600  54900  55500  15422255   NaN         NaN       NaN   \n",
       "2020-01-06  54900  55600  54600  55500  10278951   NaN         NaN       NaN   \n",
       "2020-01-07  55700  56400  55600  55800  10009778   NaN         NaN       NaN   \n",
       "2020-01-08  56200  57400  55900  56800  23501171   NaN         NaN       NaN   \n",
       "\n",
       "            rsi  fastk  fastd  macdhist_shift  \n",
       "날짜                                             \n",
       "2020-01-02  NaN    NaN    NaN             NaN  \n",
       "2020-01-03  NaN    NaN    NaN             NaN  \n",
       "2020-01-06  NaN    NaN    NaN             NaN  \n",
       "2020-01-07  NaN    NaN    NaN             NaN  \n",
       "2020-01-08  NaN    NaN    NaN             NaN  "
      ]
     },
     "execution_count": 22,
     "metadata": {},
     "output_type": "execute_result"
    }
   ],
   "source": [
    "df.head()"
   ]
  },
  {
   "cell_type": "code",
   "execution_count": null,
   "id": "470f2e4c-56f8-4aa2-9875-3a5c74990ebc",
   "metadata": {
    "tags": []
   },
   "outputs": [],
   "source": [
    "df.dropna(inplace=True,axis=0)"
   ]
  },
  {
   "cell_type": "code",
   "execution_count": null,
   "id": "cc28dee8-d7c6-4ec1-8fe6-9e7b00de2081",
   "metadata": {
    "tags": []
   },
   "outputs": [],
   "source": [
    "\n",
    "import numpy as np\n",
    "\n",
    "class MyBackTesting :\n",
    "    def __init__(self, daily_ohlcv, start_cash) :\n",
    "        self.daily_ohlcv = daily_ohlcv      # 일봉 데이터\n",
    "        # self.fee = 0.0011                   # 수수료 ( calculate_fee.xlsx 참고 )\n",
    "        self.buy_signal = False             # 매수 신호\n",
    "        self.sell_signal = False\n",
    "        \n",
    "        self.start_cash   = start_cash      # 시작 자산\n",
    "        self.current_cash = start_cash      # 현재 자산\n",
    "        self.highest_cash = start_cash      # 자산 최고점\n",
    "        self.lowest_cash  = start_cash      # 자산 최저점\n",
    "\n",
    "        self.ror = 1                        # 수익률\n",
    "        self.accumulated_ror = 1            # 누적 수익률\n",
    "        self.mdd = 0                        # 최대 낙폭\n",
    "\n",
    "        self.trade_count = 0\n",
    "        # self.buy_trade_count = 0\n",
    "        # self.sell_trade_count = 0         # 거래횟수\n",
    "        self.win_count = 0                  # 승리횟수\n",
    "\n",
    "    def my_execute(self) : # 전략\n",
    "        K = 0.5 # 수익률\n",
    "        \n",
    "        # 변동폭 ( 고가 - 저가 )\n",
    "        self.daily_ohlcv['range'] = self.daily_ohlcv['high'] - self.daily_ohlcv['low']\n",
    "        # 목표매수가 ( 시가 + 변동폭 * K )\n",
    "        self.daily_ohlcv['targetPrice'] = self.daily_ohlcv['open'] + self.daily_ohlcv['range'].shift(1) * K\n",
    "\n",
    "        for idx, row in self.daily_ohlcv.iterrows() :\n",
    "\n",
    "            self.buy_signal = np.where((df['macdhist_shift'][idx] < 0) & (df['fastk'][idx]<=20.0), True, False)\n",
    "            self.sell_signal = np.where((df['macdhist_shift'][idx] > 0) & (df['fastk'][idx]>=70.0), True, False)\n",
    "            \n",
    "            if self.buy_signal:\n",
    "            #     self.buy_trade_count += 1\n",
    "            #     self.buy_signal=False\n",
    "            # elif self.sell_signal:\n",
    "            #     self.sell_trade_count += 1\n",
    "\n",
    "            # 거래 횟수\n",
    "                self.trade_count+=1\n",
    "                # 수익률 계산\n",
    "                self.ror = row['close'] / row['targetPrice'] \n",
    "                # 촣거래 횟수\n",
    "                # self.total_trade_count=self.buy_trade_count+self.sell_trade_count\n",
    "\n",
    "                # 누적 수익률 계산\n",
    "                self.accumulated_ror = (1+self.ror).cumprod()-1\n",
    "\n",
    "                # 현재 자산 갱신\n",
    "                self.current_cash *= self.ror\n",
    "                # 자산 최고점 갱신\n",
    "                self.highest_cash = max(self.highest_cash, self.current_cash)\n",
    "                # 자산 최저점 갱신\n",
    "                self.lowest_cash = min(self.lowest_cash, self.current_cash)\n",
    "                # 최대 낙폭 계산\n",
    "                dd = (self.highest_cash - self.current_cash) / self.highest_cash * 100\n",
    "                self.mdd = max(self.mdd, dd)\n",
    "        print('='*40)\n",
    "        print('테스트 결과')\n",
    "        print('-'*40)\n",
    "        print('총 거래 횟수 : %s' %self.trade_count)\n",
    "        print('누적 수익률 : %s' %self.accumulated_ror)\n",
    "        print('현재 잔액 : %s' % self.current_cash)\n",
    "        print('최고 잔액 : %s' % self.highest_cash)\n",
    "        print('최저 잔액 : %s' % self.lowest_cash)\n",
    "        print('최대 낙폭 (MDD) : %s' % self.mdd)\n",
    "        print('='*40)\n",
    "\n",
    "\n",
    "backtest = MyBackTesting(df, 1000000)\n",
    "backtest.my_execute()"
   ]
  },
  {
   "cell_type": "code",
   "execution_count": null,
   "id": "5a77489c-0b12-47df-8f7f-54af9430e1a7",
   "metadata": {},
   "outputs": [],
   "source": []
  },
  {
   "cell_type": "code",
   "execution_count": null,
   "id": "5a9d2af8-c83f-4167-babd-3c0847c0a479",
   "metadata": {},
   "outputs": [],
   "source": []
  },
  {
   "cell_type": "code",
   "execution_count": null,
   "id": "95ab0643-faa1-4221-bf24-0adb970d647d",
   "metadata": {},
   "outputs": [],
   "source": []
  },
  {
   "cell_type": "code",
   "execution_count": null,
   "id": "323faeb2-95bd-4c84-8235-a0d001b7b059",
   "metadata": {},
   "outputs": [],
   "source": []
  },
  {
   "cell_type": "code",
   "execution_count": null,
   "id": "4061f565-1119-474d-9115-b71ee6cbacb4",
   "metadata": {},
   "outputs": [],
   "source": []
  },
  {
   "cell_type": "code",
   "execution_count": null,
   "id": "7be83547-b8ed-4038-9774-4c0c4faf1739",
   "metadata": {},
   "outputs": [],
   "source": []
  }
 ],
 "metadata": {
  "kernelspec": {
   "display_name": "Python 3 (ipykernel)",
   "language": "python",
   "name": "python3"
  },
  "language_info": {
   "codemirror_mode": {
    "name": "ipython",
    "version": 3
   },
   "file_extension": ".py",
   "mimetype": "text/x-python",
   "name": "python",
   "nbconvert_exporter": "python",
   "pygments_lexer": "ipython3",
   "version": "3.8.8"
  }
 },
 "nbformat": 4,
 "nbformat_minor": 5
}

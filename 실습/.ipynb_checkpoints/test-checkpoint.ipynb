{
 "cells": [
  {
   "cell_type": "code",
   "execution_count": null,
   "id": "0b5e941e-6755-4191-b7c5-e1c0e9da3883",
   "metadata": {},
   "outputs": [],
   "source": []
  },
  {
   "cell_type": "code",
   "execution_count": 1,
   "id": "f6e9e78d-2668-491b-87a8-b6e55a3cd6d5",
   "metadata": {
    "tags": []
   },
   "outputs": [
    {
     "data": {
      "text/html": [
       "<style>.container{width:100% !important;}</style>"
      ],
      "text/plain": [
       "<IPython.core.display.HTML object>"
      ]
     },
     "metadata": {},
     "output_type": "display_data"
    }
   ],
   "source": [
    "from pykrx import stock\n",
    "from pykrx import bond\n",
    "import FinanceDataReader as fdr\n",
    "\n",
    "from IPython.display import Image\n",
    "import pandas as pd\n",
    "import numpy as np\n",
    "import matplotlib.pyplot as plt\n",
    "import seaborn as sns\n",
    "\n",
    "\n",
    "import warnings\n",
    "warnings.filterwarnings(action='ignore')\n",
    "\n",
    "#-------------------- 차트 관련 속성 (한글처리, 그리드) -----------\n",
    "sns.set()\n",
    "#plt.rc('font', family='NanumGothicOTF') # For MacOS\n",
    "plt.rcParams['font.family']= 'Malgun Gothic'\n",
    "plt.rcParams['axes.unicode_minus'] = False\n",
    "\n",
    "\n",
    "#-------------------- 주피터 , 출력결과 넓이 늘리기 ---------------\n",
    "from IPython.core.display import display, HTML\n",
    "display(HTML(\"<style>.container{width:100% !important;}</style>\"))\n",
    "pd.set_option('display.max_rows', 100)\n",
    "pd.set_option('display.max_columns', 100)\n",
    "pd.set_option('max_colwidth', None)\n",
    "\n"
   ]
  },
  {
   "cell_type": "markdown",
   "id": "dc475b1f-25eb-446d-8423-513ce7c2f452",
   "metadata": {},
   "source": [
    "# Data Load"
   ]
  },
  {
   "cell_type": "code",
   "execution_count": 2,
   "id": "664a1b68-b8ef-4cd2-be2d-f199a0622469",
   "metadata": {
    "tags": []
   },
   "outputs": [],
   "source": [
    "from pykrx import stock\n",
    "from pykrx import bond"
   ]
  },
  {
   "cell_type": "code",
   "execution_count": 3,
   "id": "1ff08d54-7093-4313-9a2c-cfd21689af8f",
   "metadata": {
    "tags": []
   },
   "outputs": [
    {
     "data": {
      "text/plain": [
       "['095570', '006840', '027410', '282330', '138930']"
      ]
     },
     "execution_count": 3,
     "metadata": {},
     "output_type": "execute_result"
    }
   ],
   "source": [
    "stock_ticker=stock.get_market_ticker_list(\"20200312\",market='KOSPI') #KOSPI, KOSDAQ, KONEX\n",
    "stock_ticker[:5]"
   ]
  },
  {
   "cell_type": "code",
   "execution_count": 4,
   "id": "c2c167c5-8b0c-41b5-8602-e8edf419411a",
   "metadata": {
    "tags": []
   },
   "outputs": [],
   "source": [
    "stock_name_list=[]\n",
    "for ticker in stock_ticker:\n",
    "    name=stock_name=stock.get_market_ticker_name(ticker)\n",
    "    stock_name_list.append(name)"
   ]
  },
  {
   "cell_type": "code",
   "execution_count": 5,
   "id": "43ba9058-c0f3-44de-afaf-6bc5649dc0dc",
   "metadata": {
    "tags": []
   },
   "outputs": [
    {
     "data": {
      "text/html": [
       "<div>\n",
       "<style scoped>\n",
       "    .dataframe tbody tr th:only-of-type {\n",
       "        vertical-align: middle;\n",
       "    }\n",
       "\n",
       "    .dataframe tbody tr th {\n",
       "        vertical-align: top;\n",
       "    }\n",
       "\n",
       "    .dataframe thead th {\n",
       "        text-align: right;\n",
       "    }\n",
       "</style>\n",
       "<table border=\"1\" class=\"dataframe\">\n",
       "  <thead>\n",
       "    <tr style=\"text-align: right;\">\n",
       "      <th></th>\n",
       "      <th>stock_ticker</th>\n",
       "      <th>stock_name</th>\n",
       "    </tr>\n",
       "  </thead>\n",
       "  <tbody>\n",
       "    <tr>\n",
       "      <th>0</th>\n",
       "      <td>095570</td>\n",
       "      <td>AJ네트웍스</td>\n",
       "    </tr>\n",
       "    <tr>\n",
       "      <th>1</th>\n",
       "      <td>006840</td>\n",
       "      <td>AK홀딩스</td>\n",
       "    </tr>\n",
       "    <tr>\n",
       "      <th>2</th>\n",
       "      <td>027410</td>\n",
       "      <td>BGF</td>\n",
       "    </tr>\n",
       "    <tr>\n",
       "      <th>3</th>\n",
       "      <td>282330</td>\n",
       "      <td>BGF리테일</td>\n",
       "    </tr>\n",
       "    <tr>\n",
       "      <th>4</th>\n",
       "      <td>138930</td>\n",
       "      <td>BNK금융지주</td>\n",
       "    </tr>\n",
       "  </tbody>\n",
       "</table>\n",
       "</div>"
      ],
      "text/plain": [
       "  stock_ticker stock_name\n",
       "0       095570     AJ네트웍스\n",
       "1       006840      AK홀딩스\n",
       "2       027410        BGF\n",
       "3       282330     BGF리테일\n",
       "4       138930    BNK금융지주"
      ]
     },
     "execution_count": 5,
     "metadata": {},
     "output_type": "execute_result"
    }
   ],
   "source": [
    "dic={'stock_ticker':stock_ticker,'stock_name':stock_name_list}\n",
    "stock_df=pd.DataFrame(dic)\n",
    "stock_df.head()"
   ]
  },
  {
   "cell_type": "code",
   "execution_count": 6,
   "id": "d43257f4-09cd-446a-a834-4a61399d33f6",
   "metadata": {
    "tags": []
   },
   "outputs": [
    {
     "data": {
      "text/html": [
       "<div>\n",
       "<style scoped>\n",
       "    .dataframe tbody tr th:only-of-type {\n",
       "        vertical-align: middle;\n",
       "    }\n",
       "\n",
       "    .dataframe tbody tr th {\n",
       "        vertical-align: top;\n",
       "    }\n",
       "\n",
       "    .dataframe thead th {\n",
       "        text-align: right;\n",
       "    }\n",
       "</style>\n",
       "<table border=\"1\" class=\"dataframe\">\n",
       "  <thead>\n",
       "    <tr style=\"text-align: right;\">\n",
       "      <th></th>\n",
       "      <th>종가</th>\n",
       "      <th>등락률</th>\n",
       "    </tr>\n",
       "    <tr>\n",
       "      <th>날짜</th>\n",
       "      <th></th>\n",
       "      <th></th>\n",
       "    </tr>\n",
       "  </thead>\n",
       "  <tbody>\n",
       "    <tr>\n",
       "      <th>2022-01-03</th>\n",
       "      <td>78600</td>\n",
       "      <td>0.38</td>\n",
       "    </tr>\n",
       "    <tr>\n",
       "      <th>2022-01-04</th>\n",
       "      <td>78700</td>\n",
       "      <td>0.13</td>\n",
       "    </tr>\n",
       "    <tr>\n",
       "      <th>2022-01-05</th>\n",
       "      <td>77400</td>\n",
       "      <td>-1.65</td>\n",
       "    </tr>\n",
       "    <tr>\n",
       "      <th>2022-01-06</th>\n",
       "      <td>76900</td>\n",
       "      <td>-0.65</td>\n",
       "    </tr>\n",
       "    <tr>\n",
       "      <th>2022-01-07</th>\n",
       "      <td>78300</td>\n",
       "      <td>1.82</td>\n",
       "    </tr>\n",
       "  </tbody>\n",
       "</table>\n",
       "</div>"
      ],
      "text/plain": [
       "               종가   등락률\n",
       "날짜                     \n",
       "2022-01-03  78600  0.38\n",
       "2022-01-04  78700  0.13\n",
       "2022-01-05  77400 -1.65\n",
       "2022-01-06  76900 -0.65\n",
       "2022-01-07  78300  1.82"
      ]
     },
     "execution_count": 6,
     "metadata": {},
     "output_type": "execute_result"
    }
   ],
   "source": [
    "# 20220103~20221229\n",
    "# df = stock.get_market_ohlcv(\"2022-03-09\", \"2022-03-13\", \"005930\")[['종가','등락률']]\n",
    "# df.head()"
   ]
  },
  {
   "cell_type": "code",
   "execution_count": 12,
   "id": "eeacace3-ecab-4887-a8f5-fdfebb4b4e56",
   "metadata": {
    "tags": []
   },
   "outputs": [
    {
     "data": {
      "text/plain": [
       "날짜\n",
       "2022-03-10    71200\n",
       "2022-03-11    70000\n",
       "Name: 종가, dtype: int32"
      ]
     },
     "execution_count": 12,
     "metadata": {},
     "output_type": "execute_result"
    }
   ],
   "source": [
    "stock.get_market_ohlcv(\"2022-03-09\", \"2022-03-13\", \"005930\")['종가']"
   ]
  },
  {
   "cell_type": "code",
   "execution_count": 19,
   "id": "618b6c2a-67fe-455f-90bb-794fd553b745",
   "metadata": {},
   "outputs": [
    {
     "name": "stdout",
     "output_type": "stream",
     "text": [
      "[날짜\n",
      "2022-03-10    5650\n",
      "2022-03-11    5670\n",
      "2022-03-14    5670\n",
      "2022-03-15    5670\n",
      "2022-03-16    5650\n",
      "2022-03-17    5650\n",
      "2022-03-18    5510\n",
      "2022-03-21    5800\n",
      "2022-03-22    5760\n",
      "2022-03-23    5810\n",
      "2022-03-24    6100\n",
      "2022-03-25    6030\n",
      "2022-03-28    6180\n",
      "2022-03-29    6080\n",
      "2022-03-30    6170\n",
      "2022-03-31    6190\n",
      "Name: 종가, dtype: int32]\n",
      "[날짜\n",
      "2022-03-10    5650\n",
      "2022-03-11    5670\n",
      "2022-03-14    5670\n",
      "2022-03-15    5670\n",
      "2022-03-16    5650\n",
      "2022-03-17    5650\n",
      "2022-03-18    5510\n",
      "2022-03-21    5800\n",
      "2022-03-22    5760\n",
      "2022-03-23    5810\n",
      "2022-03-24    6100\n",
      "2022-03-25    6030\n",
      "2022-03-28    6180\n",
      "2022-03-29    6080\n",
      "2022-03-30    6170\n",
      "2022-03-31    6190\n",
      "Name: 종가, dtype: int32, 날짜\n",
      "2022-03-10    20650\n",
      "2022-03-11    21350\n",
      "2022-03-14    21350\n",
      "2022-03-15    21500\n",
      "2022-03-16    22300\n",
      "2022-03-17    22100\n",
      "2022-03-18    21850\n",
      "2022-03-21    21800\n",
      "2022-03-22    22150\n",
      "2022-03-23    22100\n",
      "2022-03-24    21550\n",
      "2022-03-25    21550\n",
      "2022-03-28    21800\n",
      "2022-03-29    21900\n",
      "2022-03-30    22100\n",
      "2022-03-31    21950\n",
      "Name: 종가, dtype: int32]\n",
      "[날짜\n",
      "2022-03-10    5650\n",
      "2022-03-11    5670\n",
      "2022-03-14    5670\n",
      "2022-03-15    5670\n",
      "2022-03-16    5650\n",
      "2022-03-17    5650\n",
      "2022-03-18    5510\n",
      "2022-03-21    5800\n",
      "2022-03-22    5760\n",
      "2022-03-23    5810\n",
      "2022-03-24    6100\n",
      "2022-03-25    6030\n",
      "2022-03-28    6180\n",
      "2022-03-29    6080\n",
      "2022-03-30    6170\n",
      "2022-03-31    6190\n",
      "Name: 종가, dtype: int32, 날짜\n",
      "2022-03-10    20650\n",
      "2022-03-11    21350\n",
      "2022-03-14    21350\n",
      "2022-03-15    21500\n",
      "2022-03-16    22300\n",
      "2022-03-17    22100\n",
      "2022-03-18    21850\n",
      "2022-03-21    21800\n",
      "2022-03-22    22150\n",
      "2022-03-23    22100\n",
      "2022-03-24    21550\n",
      "2022-03-25    21550\n",
      "2022-03-28    21800\n",
      "2022-03-29    21900\n",
      "2022-03-30    22100\n",
      "2022-03-31    21950\n",
      "Name: 종가, dtype: int32, 날짜\n",
      "2022-03-10    5180\n",
      "2022-03-11    5230\n",
      "2022-03-14    5160\n",
      "2022-03-15    5190\n",
      "2022-03-16    5220\n",
      "2022-03-17    5240\n",
      "2022-03-18    5250\n",
      "2022-03-21    5260\n",
      "2022-03-22    5250\n",
      "2022-03-23    5240\n",
      "2022-03-24    5300\n",
      "2022-03-25    5300\n",
      "2022-03-28    5280\n",
      "2022-03-29    5280\n",
      "2022-03-30    5330\n",
      "2022-03-31    5320\n",
      "Name: 종가, dtype: int32]\n",
      "[날짜\n",
      "2022-03-10    5650\n",
      "2022-03-11    5670\n",
      "2022-03-14    5670\n",
      "2022-03-15    5670\n",
      "2022-03-16    5650\n",
      "2022-03-17    5650\n",
      "2022-03-18    5510\n",
      "2022-03-21    5800\n",
      "2022-03-22    5760\n",
      "2022-03-23    5810\n",
      "2022-03-24    6100\n",
      "2022-03-25    6030\n",
      "2022-03-28    6180\n",
      "2022-03-29    6080\n",
      "2022-03-30    6170\n",
      "2022-03-31    6190\n",
      "Name: 종가, dtype: int32, 날짜\n",
      "2022-03-10    20650\n",
      "2022-03-11    21350\n",
      "2022-03-14    21350\n",
      "2022-03-15    21500\n",
      "2022-03-16    22300\n",
      "2022-03-17    22100\n",
      "2022-03-18    21850\n",
      "2022-03-21    21800\n",
      "2022-03-22    22150\n",
      "2022-03-23    22100\n",
      "2022-03-24    21550\n",
      "2022-03-25    21550\n",
      "2022-03-28    21800\n",
      "2022-03-29    21900\n",
      "2022-03-30    22100\n",
      "2022-03-31    21950\n",
      "Name: 종가, dtype: int32, 날짜\n",
      "2022-03-10    5180\n",
      "2022-03-11    5230\n",
      "2022-03-14    5160\n",
      "2022-03-15    5190\n",
      "2022-03-16    5220\n",
      "2022-03-17    5240\n",
      "2022-03-18    5250\n",
      "2022-03-21    5260\n",
      "2022-03-22    5250\n",
      "2022-03-23    5240\n",
      "2022-03-24    5300\n",
      "2022-03-25    5300\n",
      "2022-03-28    5280\n",
      "2022-03-29    5280\n",
      "2022-03-30    5330\n",
      "2022-03-31    5320\n",
      "Name: 종가, dtype: int32, 날짜\n",
      "2022-03-10    169500\n",
      "2022-03-11    175000\n",
      "2022-03-14    171000\n",
      "2022-03-15    173000\n",
      "2022-03-16    179000\n",
      "2022-03-17    175000\n",
      "2022-03-18    177500\n",
      "2022-03-21    178000\n",
      "2022-03-22    179000\n",
      "2022-03-23    180000\n",
      "2022-03-24    180000\n",
      "2022-03-25    181000\n",
      "2022-03-28    176000\n",
      "2022-03-29    173000\n",
      "2022-03-30    173500\n",
      "2022-03-31    174500\n",
      "Name: 종가, dtype: int32]\n",
      "[날짜\n",
      "2022-03-10    5650\n",
      "2022-03-11    5670\n",
      "2022-03-14    5670\n",
      "2022-03-15    5670\n",
      "2022-03-16    5650\n",
      "2022-03-17    5650\n",
      "2022-03-18    5510\n",
      "2022-03-21    5800\n",
      "2022-03-22    5760\n",
      "2022-03-23    5810\n",
      "2022-03-24    6100\n",
      "2022-03-25    6030\n",
      "2022-03-28    6180\n",
      "2022-03-29    6080\n",
      "2022-03-30    6170\n",
      "2022-03-31    6190\n",
      "Name: 종가, dtype: int32, 날짜\n",
      "2022-03-10    20650\n",
      "2022-03-11    21350\n",
      "2022-03-14    21350\n",
      "2022-03-15    21500\n",
      "2022-03-16    22300\n",
      "2022-03-17    22100\n",
      "2022-03-18    21850\n",
      "2022-03-21    21800\n",
      "2022-03-22    22150\n",
      "2022-03-23    22100\n",
      "2022-03-24    21550\n",
      "2022-03-25    21550\n",
      "2022-03-28    21800\n",
      "2022-03-29    21900\n",
      "2022-03-30    22100\n",
      "2022-03-31    21950\n",
      "Name: 종가, dtype: int32, 날짜\n",
      "2022-03-10    5180\n",
      "2022-03-11    5230\n",
      "2022-03-14    5160\n",
      "2022-03-15    5190\n",
      "2022-03-16    5220\n",
      "2022-03-17    5240\n",
      "2022-03-18    5250\n",
      "2022-03-21    5260\n",
      "2022-03-22    5250\n",
      "2022-03-23    5240\n",
      "2022-03-24    5300\n",
      "2022-03-25    5300\n",
      "2022-03-28    5280\n",
      "2022-03-29    5280\n",
      "2022-03-30    5330\n",
      "2022-03-31    5320\n",
      "Name: 종가, dtype: int32, 날짜\n",
      "2022-03-10    169500\n",
      "2022-03-11    175000\n",
      "2022-03-14    171000\n",
      "2022-03-15    173000\n",
      "2022-03-16    179000\n",
      "2022-03-17    175000\n",
      "2022-03-18    177500\n",
      "2022-03-21    178000\n",
      "2022-03-22    179000\n",
      "2022-03-23    180000\n",
      "2022-03-24    180000\n",
      "2022-03-25    181000\n",
      "2022-03-28    176000\n",
      "2022-03-29    173000\n",
      "2022-03-30    173500\n",
      "2022-03-31    174500\n",
      "Name: 종가, dtype: int32, 날짜\n",
      "2022-03-10    7490\n",
      "2022-03-11    7600\n",
      "2022-03-14    7610\n",
      "2022-03-15    7620\n",
      "2022-03-16    7660\n",
      "2022-03-17    7700\n",
      "2022-03-18    7760\n",
      "2022-03-21    7720\n",
      "2022-03-22    7780\n",
      "2022-03-23    7880\n",
      "2022-03-24    7850\n",
      "2022-03-25    7850\n",
      "2022-03-28    7960\n",
      "2022-03-29    7970\n",
      "2022-03-30    7910\n",
      "2022-03-31    7960\n",
      "Name: 종가, dtype: int32]\n"
     ]
    }
   ],
   "source": [
    "ohlcv_list=[]\n",
    "for i in stock_ticker[:5]:\n",
    "    ohlcv_list.append(stock.get_market_ohlcv(\"2022-03-09\", \"2022-03-31\", i)['종가'])\n",
    "    print(ohlcv_list)"
   ]
  },
  {
   "cell_type": "code",
   "execution_count": 27,
   "id": "34bfbb5e-4cb6-42dc-a9b8-92499f59d5c0",
   "metadata": {},
   "outputs": [
    {
     "data": {
      "text/html": [
       "<div>\n",
       "<style scoped>\n",
       "    .dataframe tbody tr th:only-of-type {\n",
       "        vertical-align: middle;\n",
       "    }\n",
       "\n",
       "    .dataframe tbody tr th {\n",
       "        vertical-align: top;\n",
       "    }\n",
       "\n",
       "    .dataframe thead th {\n",
       "        text-align: right;\n",
       "    }\n",
       "</style>\n",
       "<table border=\"1\" class=\"dataframe\">\n",
       "  <thead>\n",
       "    <tr style=\"text-align: right;\">\n",
       "      <th></th>\n",
       "      <th>AJ네트웍스</th>\n",
       "      <th>AK홀딩스</th>\n",
       "      <th>BGF</th>\n",
       "      <th>BGF리테일</th>\n",
       "      <th>BNK금융지주</th>\n",
       "    </tr>\n",
       "    <tr>\n",
       "      <th>날짜</th>\n",
       "      <th></th>\n",
       "      <th></th>\n",
       "      <th></th>\n",
       "      <th></th>\n",
       "      <th></th>\n",
       "    </tr>\n",
       "  </thead>\n",
       "  <tbody>\n",
       "    <tr>\n",
       "      <th>2022-03-10</th>\n",
       "      <td>5650</td>\n",
       "      <td>20650</td>\n",
       "      <td>5180</td>\n",
       "      <td>169500</td>\n",
       "      <td>7490</td>\n",
       "    </tr>\n",
       "    <tr>\n",
       "      <th>2022-03-11</th>\n",
       "      <td>5670</td>\n",
       "      <td>21350</td>\n",
       "      <td>5230</td>\n",
       "      <td>175000</td>\n",
       "      <td>7600</td>\n",
       "    </tr>\n",
       "    <tr>\n",
       "      <th>2022-03-14</th>\n",
       "      <td>5670</td>\n",
       "      <td>21350</td>\n",
       "      <td>5160</td>\n",
       "      <td>171000</td>\n",
       "      <td>7610</td>\n",
       "    </tr>\n",
       "    <tr>\n",
       "      <th>2022-03-15</th>\n",
       "      <td>5670</td>\n",
       "      <td>21500</td>\n",
       "      <td>5190</td>\n",
       "      <td>173000</td>\n",
       "      <td>7620</td>\n",
       "    </tr>\n",
       "    <tr>\n",
       "      <th>2022-03-16</th>\n",
       "      <td>5650</td>\n",
       "      <td>22300</td>\n",
       "      <td>5220</td>\n",
       "      <td>179000</td>\n",
       "      <td>7660</td>\n",
       "    </tr>\n",
       "  </tbody>\n",
       "</table>\n",
       "</div>"
      ],
      "text/plain": [
       "            AJ네트웍스  AK홀딩스   BGF  BGF리테일  BNK금융지주\n",
       "날짜                                              \n",
       "2022-03-10    5650  20650  5180  169500     7490\n",
       "2022-03-11    5670  21350  5230  175000     7600\n",
       "2022-03-14    5670  21350  5160  171000     7610\n",
       "2022-03-15    5670  21500  5190  173000     7620\n",
       "2022-03-16    5650  22300  5220  179000     7660"
      ]
     },
     "execution_count": 27,
     "metadata": {},
     "output_type": "execute_result"
    }
   ],
   "source": [
    "ohlcv_df=pd.DataFrame(ohlcv_list)\n",
    "ohlcv_df=ohlcv_df.T\n",
    "ohlcv_df.columns=stock_name_list[:5]\n",
    "ohlcv_df.head()"
   ]
  },
  {
   "cell_type": "code",
   "execution_count": 31,
   "id": "baf3b0b4-372a-4441-a9e1-c1ef60e92b38",
   "metadata": {},
   "outputs": [],
   "source": [
    "ohlcv_df=ohlcv_df.pct_change()\n",
    "ohlcv_df.dropna(inplace=True,axis=0)"
   ]
  },
  {
   "cell_type": "code",
   "execution_count": 32,
   "id": "34e1b725-bd5c-4ba0-aa84-bd9007437075",
   "metadata": {
    "tags": []
   },
   "outputs": [
    {
     "data": {
      "text/html": [
       "<div>\n",
       "<style scoped>\n",
       "    .dataframe tbody tr th:only-of-type {\n",
       "        vertical-align: middle;\n",
       "    }\n",
       "\n",
       "    .dataframe tbody tr th {\n",
       "        vertical-align: top;\n",
       "    }\n",
       "\n",
       "    .dataframe thead th {\n",
       "        text-align: right;\n",
       "    }\n",
       "</style>\n",
       "<table border=\"1\" class=\"dataframe\">\n",
       "  <thead>\n",
       "    <tr style=\"text-align: right;\">\n",
       "      <th></th>\n",
       "      <th>AJ네트웍스</th>\n",
       "      <th>AK홀딩스</th>\n",
       "      <th>BGF</th>\n",
       "      <th>BGF리테일</th>\n",
       "      <th>BNK금융지주</th>\n",
       "    </tr>\n",
       "    <tr>\n",
       "      <th>날짜</th>\n",
       "      <th></th>\n",
       "      <th></th>\n",
       "      <th></th>\n",
       "      <th></th>\n",
       "      <th></th>\n",
       "    </tr>\n",
       "  </thead>\n",
       "  <tbody>\n",
       "    <tr>\n",
       "      <th>2022-03-11</th>\n",
       "      <td>0.003534</td>\n",
       "      <td>0.033336</td>\n",
       "      <td>0.009606</td>\n",
       "      <td>0.031933</td>\n",
       "      <td>0.014579</td>\n",
       "    </tr>\n",
       "    <tr>\n",
       "      <th>2022-03-14</th>\n",
       "      <td>0.000000</td>\n",
       "      <td>0.000000</td>\n",
       "      <td>-0.013475</td>\n",
       "      <td>-0.023122</td>\n",
       "      <td>0.001315</td>\n",
       "    </tr>\n",
       "    <tr>\n",
       "      <th>2022-03-15</th>\n",
       "      <td>0.000000</td>\n",
       "      <td>0.007001</td>\n",
       "      <td>0.005797</td>\n",
       "      <td>0.011628</td>\n",
       "      <td>0.001313</td>\n",
       "    </tr>\n",
       "    <tr>\n",
       "      <th>2022-03-16</th>\n",
       "      <td>-0.003534</td>\n",
       "      <td>0.036534</td>\n",
       "      <td>0.005764</td>\n",
       "      <td>0.034094</td>\n",
       "      <td>0.005236</td>\n",
       "    </tr>\n",
       "    <tr>\n",
       "      <th>2022-03-17</th>\n",
       "      <td>0.000000</td>\n",
       "      <td>-0.009009</td>\n",
       "      <td>0.003824</td>\n",
       "      <td>-0.022600</td>\n",
       "      <td>0.005208</td>\n",
       "    </tr>\n",
       "  </tbody>\n",
       "</table>\n",
       "</div>"
      ],
      "text/plain": [
       "              AJ네트웍스     AK홀딩스       BGF    BGF리테일   BNK금융지주\n",
       "날짜                                                          \n",
       "2022-03-11  0.003534  0.033336  0.009606  0.031933  0.014579\n",
       "2022-03-14  0.000000  0.000000 -0.013475 -0.023122  0.001315\n",
       "2022-03-15  0.000000  0.007001  0.005797  0.011628  0.001313\n",
       "2022-03-16 -0.003534  0.036534  0.005764  0.034094  0.005236\n",
       "2022-03-17  0.000000 -0.009009  0.003824 -0.022600  0.005208"
      ]
     },
     "execution_count": 32,
     "metadata": {},
     "output_type": "execute_result"
    }
   ],
   "source": [
    "log_ohlcv_df=np.log(1+ohlcv_df)\n",
    "log_ohlcv_df.head()"
   ]
  },
  {
   "cell_type": "code",
   "execution_count": null,
   "id": "1737e7b0-1e4e-4b75-9ff5-16f1b4515d50",
   "metadata": {},
   "outputs": [],
   "source": [
    "annual_return=ohlcv_df.mean(*252)"
   ]
  },
  {
   "cell_type": "code",
   "execution_count": null,
   "id": "c0a90e26-ee61-48c7-8bb3-7b8f82411698",
   "metadata": {},
   "outputs": [],
   "source": []
  },
  {
   "cell_type": "code",
   "execution_count": null,
   "id": "9f9821b4-9802-4e2e-8ede-df40d9568140",
   "metadata": {},
   "outputs": [],
   "source": []
  },
  {
   "cell_type": "code",
   "execution_count": null,
   "id": "1c1e566a-8064-41f9-a41c-715c7c616f86",
   "metadata": {},
   "outputs": [],
   "source": []
  },
  {
   "cell_type": "code",
   "execution_count": null,
   "id": "3001a804-6d4d-4059-a055-8000895a6798",
   "metadata": {},
   "outputs": [],
   "source": []
  },
  {
   "cell_type": "code",
   "execution_count": 58,
   "id": "3d5f7288-9bed-4e4c-a211-1949c50ac91f",
   "metadata": {},
   "outputs": [
    {
     "ename": "NameError",
     "evalue": "name 'ᄋᆱᄋᄅᄂᄆᄅᄋ' is not defined",
     "output_type": "error",
     "traceback": [
      "\u001b[1;31m---------------------------------------------------------------------------\u001b[0m",
      "\u001b[1;31mNameError\u001b[0m                                 Traceback (most recent call last)",
      "Cell \u001b[1;32mIn[58], line 1\u001b[0m\n\u001b[1;32m----> 1\u001b[0m \u001b[43mㅇㄻㅇㄹㄴㅁㄹㅇ\u001b[49m\n",
      "\u001b[1;31mNameError\u001b[0m: name 'ᄋᆱᄋᄅᄂᄆᄅᄋ' is not defined"
     ]
    }
   ],
   "source": [
    "ㅇㄻㅇㄹㄴㅁㄹㅇ"
   ]
  },
  {
   "cell_type": "code",
   "execution_count": null,
   "id": "b30e7889-cf52-417e-bb7a-555a11f21bdd",
   "metadata": {
    "tags": []
   },
   "outputs": [],
   "source": [
    "from bs4 import BeautifulSoup\n",
    "import requests\n"
   ]
  },
  {
   "cell_type": "code",
   "execution_count": null,
   "id": "88c5d3b7-2866-4af6-b812-1112a9f0ee36",
   "metadata": {
    "tags": []
   },
   "outputs": [],
   "source": [
    "html_doc = \"\"\"<html><head><title>The Dormouse's story</title></head>\n",
    "<body>\n",
    "<p class=\"title\"><b>The Dormouse's story</b></p>\n",
    "\n",
    "<p class=\"story\">Once upon a time there were three little sisters; and their names were\n",
    "<a href=\"http://example.com/elsie\" class=\"sister\" id=\"link1\">안녕하세요</a>,\n",
    "<a href=\"http://example.com/lacie\" class=\"sister\" id=\"link2\">Lacie</a> and\n",
    "<a href=\"http://example.com/tillie\" class=\"sister\" id=\"link3\">Tillie</a>;\n",
    "and they lived at the bottom of a well.</p>\n",
    "<p class=\"story\">...</p>\n",
    "\"\"\"\n",
    "\n",
    "soup = BeautifulSoup(html_doc, 'html.parser')\n",
    "print(soup.prettify())"
   ]
  },
  {
   "cell_type": "code",
   "execution_count": null,
   "id": "f550dca1-e793-46fe-86ad-eaf947242d74",
   "metadata": {
    "tags": []
   },
   "outputs": [],
   "source": [
    "res = requests.get(\"https://www.asiae.co.kr/section/economy\")\n",
    "print(res.status_code)\n",
    "res.text[:1000]"
   ]
  },
  {
   "cell_type": "code",
   "execution_count": null,
   "id": "27578515-2272-4231-a94e-99f03fafd3d0",
   "metadata": {},
   "outputs": [],
   "source": [
    "#container > div.content > div.cont_section_body > div.area_seclstview > div > div:nth-child(1) > ul"
   ]
  },
  {
   "cell_type": "code",
   "execution_count": null,
   "id": "985c21f4-84f3-4066-94e2-fd55c4227851",
   "metadata": {
    "tags": []
   },
   "outputs": [],
   "source": [
    "# soup = BeautifulSoup(res.text,'html.parser',from_encoding='cp949')\n",
    "# soup = BeautifulSoup(res.content.decode('euc-kr', 'replace'), 'html.parser',from_encoding='cp949')\n",
    "soup = BeautifulSoup(res.content, 'html.parser', from_encoding='utf-8')\n",
    "# soup = BeautifulSoup(res.text, 'html.parser',from_encoding='cp949')\n",
    "\n",
    "news_list=[]\n",
    "li_list = soup.select(\"#container > div.content > div.cont_section_body > div.area_seclstview > div > div:nth-child(1) > ul > li\")\n",
    "# print(li_list)\n",
    "for li in li_list:\n",
    "    title    = li.select_one(\"div.inner_txt > h3 > a\").text\n",
    "    regdate  = li.select_one(\"div.inner_txt > p.txt_time > span.t_time\").text\n",
    "    contents = li.select_one(\"div.inner_txt > p.txt_info\").text\n",
    "    href     = li.select_one(\"div.inner_txt > h3 > a\").get('href')\n",
    "    news_list.append(   [title,regdate,contents,href]   )\n",
    "news_list"
   ]
  },
  {
   "cell_type": "code",
   "execution_count": null,
   "id": "d895262d-a519-4c81-9937-da90f4c9aabc",
   "metadata": {},
   "outputs": [],
   "source": [
    "craw_df=pd.DataFrame(news_list, columns=['title','regdate','contents','href'])\n",
    "craw_df"
   ]
  },
  {
   "cell_type": "code",
   "execution_count": null,
   "id": "046ba44d-4e0f-4758-8f03-b89369cba7d4",
   "metadata": {},
   "outputs": [],
   "source": []
  }
 ],
 "metadata": {
  "kernelspec": {
   "display_name": "Python 3 (ipykernel)",
   "language": "python",
   "name": "python3"
  },
  "language_info": {
   "codemirror_mode": {
    "name": "ipython",
    "version": 3
   },
   "file_extension": ".py",
   "mimetype": "text/x-python",
   "name": "python",
   "nbconvert_exporter": "python",
   "pygments_lexer": "ipython3",
   "version": "3.8.8"
  }
 },
 "nbformat": 4,
 "nbformat_minor": 5
}

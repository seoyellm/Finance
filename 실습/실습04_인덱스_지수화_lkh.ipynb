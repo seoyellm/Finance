{
 "cells": [
  {
   "cell_type": "markdown",
   "id": "3835c0c2-4e14-41f7-bdac-7acdd5ba7023",
   "metadata": {},
   "source": [
    "# 인덱스 지수화\n",
    "* 기준일자 : 2008-01-02 ~ 2017-12-29\n",
    "* KOSPI200/ S&P500"
   ]
  },
  {
   "cell_type": "code",
   "execution_count": 1,
   "id": "c16b8b83-dba9-4c63-9dc0-0ccdbf67c2e6",
   "metadata": {
    "tags": []
   },
   "outputs": [
    {
     "data": {
      "text/html": [
       "<style>.container{width:100% !important;}</style>"
      ],
      "text/plain": [
       "<IPython.core.display.HTML object>"
      ]
     },
     "metadata": {},
     "output_type": "display_data"
    }
   ],
   "source": [
    "from IPython.display import Image\n",
    "import pandas as pd\n",
    "import numpy as np\n",
    "import matplotlib.pyplot as plt\n",
    "import seaborn as sns\n",
    "\n",
    "\n",
    "import warnings\n",
    "warnings.filterwarnings(action='ignore')\n",
    "sns.set()\n",
    "\n",
    "#-------------------- 차트 관련 속성 (한글처리, 그리드) -----------\n",
    "#plt.rc('font', family='NanumGothicOTF') # For MacOS\n",
    "plt.rcParams['font.family']= 'Malgun Gothic'\n",
    "plt.rcParams['axes.unicode_minus'] = False\n",
    "\n",
    "\n",
    "#-------------------- 주피터 , 출력결과 넓이 늘리기 ---------------\n",
    "from IPython.core.display import display, HTML\n",
    "display(HTML(\"<style>.container{width:100% !important;}</style>\"))\n",
    "pd.set_option('display.max_rows', 100)\n",
    "pd.set_option('display.max_columns', 100)\n",
    "pd.set_option('max_colwidth', None)\n",
    "\n"
   ]
  },
  {
   "cell_type": "markdown",
   "id": "257ab9c2-5875-4d13-88b0-54f99fbf2b10",
   "metadata": {
    "tags": []
   },
   "source": [
    "# Data Load"
   ]
  },
  {
   "cell_type": "markdown",
   "id": "549fedbb-1ab1-441e-9a07-ea5a0d43f714",
   "metadata": {},
   "source": [
    "## read_excel()\n",
    "* https://pandas.pydata.org/docs/reference/api/pandas.read_excel.html\n",
    "* pandas.read_excel(io, sheet_name=0, *, header=0, names=None, index_col=None, usecols=None, dtype=None, engine=None, converters=None, true_values=None, false_values=None, skiprows=None, nrows=None, na_values=None, keep_default_na=True, na_filter=True, verbose=False, parse_dates=False, date_parser=_NoDefault.no_default, date_format=None, thousands=None, decimal='.', comment=None, skipfooter=0, storage_options=None, dtype_backend=_NoDefault.no_default)"
   ]
  },
  {
   "cell_type": "code",
   "execution_count": 2,
   "id": "06f91fa5-4fbc-4f4c-92c8-919f7dfcad10",
   "metadata": {
    "tags": []
   },
   "outputs": [
    {
     "name": "stdout",
     "output_type": "stream",
     "text": [
      "<class 'pandas.core.frame.DataFrame'>\n",
      "DatetimeIndex: 2592 entries, 2008-01-02 to 2017-12-29\n",
      "Data columns (total 4 columns):\n",
      " #   Column       Non-Null Count  Dtype  \n",
      "---  ------       --------------  -----  \n",
      " 0   S&P500       2592 non-null   float64\n",
      " 1   KOSPI200     2592 non-null   float64\n",
      " 2   S&P500지수화    2592 non-null   float64\n",
      " 3   KOSPI200지수화  2592 non-null   float64\n",
      "dtypes: float64(4)\n",
      "memory usage: 101.2 KB\n"
     ]
    }
   ],
   "source": [
    "df = pd.read_excel(\"./실습04_S&P500-KOSPI200.xlsx\", sheet_name='sheet1', parse_dates=[0], index_col=0)\n",
    "df.info()"
   ]
  },
  {
   "cell_type": "code",
   "execution_count": 3,
   "id": "5021a3dc-6e0f-4fe0-b8aa-a81eb61a0420",
   "metadata": {
    "tags": []
   },
   "outputs": [
    {
     "data": {
      "text/html": [
       "<div>\n",
       "<style scoped>\n",
       "    .dataframe tbody tr th:only-of-type {\n",
       "        vertical-align: middle;\n",
       "    }\n",
       "\n",
       "    .dataframe tbody tr th {\n",
       "        vertical-align: top;\n",
       "    }\n",
       "\n",
       "    .dataframe thead th {\n",
       "        text-align: right;\n",
       "    }\n",
       "</style>\n",
       "<table border=\"1\" class=\"dataframe\">\n",
       "  <thead>\n",
       "    <tr style=\"text-align: right;\">\n",
       "      <th></th>\n",
       "      <th>S&amp;P500</th>\n",
       "      <th>KOSPI200</th>\n",
       "      <th>S&amp;P500지수화</th>\n",
       "      <th>KOSPI200지수화</th>\n",
       "    </tr>\n",
       "  </thead>\n",
       "  <tbody>\n",
       "    <tr>\n",
       "      <th>2008-01-02</th>\n",
       "      <td>1447.16</td>\n",
       "      <td>235.30</td>\n",
       "      <td>100.000000</td>\n",
       "      <td>100.000000</td>\n",
       "    </tr>\n",
       "    <tr>\n",
       "      <th>2008-01-03</th>\n",
       "      <td>1447.16</td>\n",
       "      <td>234.67</td>\n",
       "      <td>100.000000</td>\n",
       "      <td>99.732257</td>\n",
       "    </tr>\n",
       "    <tr>\n",
       "      <th>2008-01-04</th>\n",
       "      <td>1411.63</td>\n",
       "      <td>235.77</td>\n",
       "      <td>97.544846</td>\n",
       "      <td>100.199745</td>\n",
       "    </tr>\n",
       "    <tr>\n",
       "      <th>2008-01-07</th>\n",
       "      <td>1416.18</td>\n",
       "      <td>231.00</td>\n",
       "      <td>97.859255</td>\n",
       "      <td>98.172546</td>\n",
       "    </tr>\n",
       "    <tr>\n",
       "      <th>2008-01-08</th>\n",
       "      <td>1390.19</td>\n",
       "      <td>230.34</td>\n",
       "      <td>96.063324</td>\n",
       "      <td>97.892053</td>\n",
       "    </tr>\n",
       "  </tbody>\n",
       "</table>\n",
       "</div>"
      ],
      "text/plain": [
       "             S&P500  KOSPI200   S&P500지수화  KOSPI200지수화\n",
       "2008-01-02  1447.16    235.30  100.000000   100.000000\n",
       "2008-01-03  1447.16    234.67  100.000000    99.732257\n",
       "2008-01-04  1411.63    235.77   97.544846   100.199745\n",
       "2008-01-07  1416.18    231.00   97.859255    98.172546\n",
       "2008-01-08  1390.19    230.34   96.063324    97.892053"
      ]
     },
     "execution_count": 3,
     "metadata": {},
     "output_type": "execute_result"
    }
   ],
   "source": [
    "df.head()"
   ]
  },
  {
   "cell_type": "code",
   "execution_count": 4,
   "id": "c2e1ace7-b2d6-49ac-a542-a6c44dcbbdd3",
   "metadata": {
    "tags": []
   },
   "outputs": [
    {
     "data": {
      "text/plain": [
       "<AxesSubplot: >"
      ]
     },
     "execution_count": 4,
     "metadata": {},
     "output_type": "execute_result"
    },
    {
     "data": {
      "image/png": "[encoded data removed]",
      "text/plain": [
       "<Figure size 640x480 with 1 Axes>"
      ]
     },
     "metadata": {},
     "output_type": "display_data"
    }
   ],
   "source": [
    "df[['S&P500지수화','KOSPI200지수화']].plot()"
   ]
  },
  {
   "cell_type": "markdown",
   "id": "296dacc5-6d47-4c62-8cf4-12d82d7ecc7b",
   "metadata": {
    "tags": []
   },
   "source": [
    "## API 사용\n",
    "* pandas_datareader / yfinance\n",
    "    * S&P 500 (^GSPC)\n",
    "    * KOSPI 200 Index (^KS200)\n",
    "    * 기준일자 : 2008-01-02 ~ 2017-12-29"
   ]
  },
  {
   "cell_type": "code",
   "execution_count": 5,
   "id": "9de174dd-4490-4583-be1e-6897992fe233",
   "metadata": {
    "tags": []
   },
   "outputs": [],
   "source": [
    "from pandas_datareader import data as pdr\n",
    "import yfinance as yf\n",
    "yf.pdr_override()"
   ]
  },
  {
   "cell_type": "code",
   "execution_count": 6,
   "id": "d54b8efc-1449-4735-97f6-e4fb7a34c763",
   "metadata": {
    "tags": []
   },
   "outputs": [
    {
     "name": "stdout",
     "output_type": "stream",
     "text": [
      "[*********************100%***********************]  1 of 1 completed\n",
      "[*********************100%***********************]  1 of 1 completed\n"
     ]
    }
   ],
   "source": [
    "sp_df = pdr.get_data_yahoo('^GSPC', '2008-01-02', '2017-12-29')\n",
    "ks_df = pdr.get_data_yahoo('^KS200', '2008-01-02', '2017-12-29')"
   ]
  },
  {
   "cell_type": "code",
   "execution_count": 7,
   "id": "45bac9d1-648b-4e36-b016-3bf3db77ad48",
   "metadata": {
    "tags": []
   },
   "outputs": [
    {
     "data": {
      "text/html": [
       "<div>\n",
       "<style scoped>\n",
       "    .dataframe tbody tr th:only-of-type {\n",
       "        vertical-align: middle;\n",
       "    }\n",
       "\n",
       "    .dataframe tbody tr th {\n",
       "        vertical-align: top;\n",
       "    }\n",
       "\n",
       "    .dataframe thead th {\n",
       "        text-align: right;\n",
       "    }\n",
       "</style>\n",
       "<table border=\"1\" class=\"dataframe\">\n",
       "  <thead>\n",
       "    <tr style=\"text-align: right;\">\n",
       "      <th></th>\n",
       "      <th>Open</th>\n",
       "      <th>High</th>\n",
       "      <th>Low</th>\n",
       "      <th>Close</th>\n",
       "      <th>Adj Close</th>\n",
       "      <th>Volume</th>\n",
       "    </tr>\n",
       "    <tr>\n",
       "      <th>Date</th>\n",
       "      <th></th>\n",
       "      <th></th>\n",
       "      <th></th>\n",
       "      <th></th>\n",
       "      <th></th>\n",
       "      <th></th>\n",
       "    </tr>\n",
       "  </thead>\n",
       "  <tbody>\n",
       "    <tr>\n",
       "      <th>2008-01-02</th>\n",
       "      <td>1467.969971</td>\n",
       "      <td>1471.770020</td>\n",
       "      <td>1442.069946</td>\n",
       "      <td>1447.160034</td>\n",
       "      <td>1447.160034</td>\n",
       "      <td>3452650000</td>\n",
       "    </tr>\n",
       "    <tr>\n",
       "      <th>2008-01-03</th>\n",
       "      <td>1447.550049</td>\n",
       "      <td>1456.800049</td>\n",
       "      <td>1443.729980</td>\n",
       "      <td>1447.160034</td>\n",
       "      <td>1447.160034</td>\n",
       "      <td>3429500000</td>\n",
       "    </tr>\n",
       "    <tr>\n",
       "      <th>2008-01-04</th>\n",
       "      <td>1444.010010</td>\n",
       "      <td>1444.010010</td>\n",
       "      <td>1411.189941</td>\n",
       "      <td>1411.630005</td>\n",
       "      <td>1411.630005</td>\n",
       "      <td>4166000000</td>\n",
       "    </tr>\n",
       "    <tr>\n",
       "      <th>2008-01-07</th>\n",
       "      <td>1414.069946</td>\n",
       "      <td>1423.869995</td>\n",
       "      <td>1403.449951</td>\n",
       "      <td>1416.180054</td>\n",
       "      <td>1416.180054</td>\n",
       "      <td>4221260000</td>\n",
       "    </tr>\n",
       "    <tr>\n",
       "      <th>2008-01-08</th>\n",
       "      <td>1415.709961</td>\n",
       "      <td>1430.280029</td>\n",
       "      <td>1388.300049</td>\n",
       "      <td>1390.189941</td>\n",
       "      <td>1390.189941</td>\n",
       "      <td>4705390000</td>\n",
       "    </tr>\n",
       "  </tbody>\n",
       "</table>\n",
       "</div>"
      ],
      "text/plain": [
       "                   Open         High          Low        Close    Adj Close  \\\n",
       "Date                                                                          \n",
       "2008-01-02  1467.969971  1471.770020  1442.069946  1447.160034  1447.160034   \n",
       "2008-01-03  1447.550049  1456.800049  1443.729980  1447.160034  1447.160034   \n",
       "2008-01-04  1444.010010  1444.010010  1411.189941  1411.630005  1411.630005   \n",
       "2008-01-07  1414.069946  1423.869995  1403.449951  1416.180054  1416.180054   \n",
       "2008-01-08  1415.709961  1430.280029  1388.300049  1390.189941  1390.189941   \n",
       "\n",
       "                Volume  \n",
       "Date                    \n",
       "2008-01-02  3452650000  \n",
       "2008-01-03  3429500000  \n",
       "2008-01-04  4166000000  \n",
       "2008-01-07  4221260000  \n",
       "2008-01-08  4705390000  "
      ]
     },
     "execution_count": 7,
     "metadata": {},
     "output_type": "execute_result"
    }
   ],
   "source": [
    "sp_df.head()"
   ]
  },
  {
   "cell_type": "code",
   "execution_count": 8,
   "id": "f03aa854-1b52-4236-af98-174e7fe29bd7",
   "metadata": {
    "tags": []
   },
   "outputs": [
    {
     "name": "stdout",
     "output_type": "stream",
     "text": [
      "<class 'pandas.core.frame.DataFrame'>\n",
      "DatetimeIndex: 2517 entries, 2008-01-02 to 2017-12-28\n",
      "Data columns (total 6 columns):\n",
      " #   Column     Non-Null Count  Dtype  \n",
      "---  ------     --------------  -----  \n",
      " 0   Open       2517 non-null   float64\n",
      " 1   High       2517 non-null   float64\n",
      " 2   Low        2517 non-null   float64\n",
      " 3   Close      2517 non-null   float64\n",
      " 4   Adj Close  2517 non-null   float64\n",
      " 5   Volume     2517 non-null   int64  \n",
      "dtypes: float64(5), int64(1)\n",
      "memory usage: 137.6 KB\n"
     ]
    }
   ],
   "source": [
    "sp_df.info()"
   ]
  },
  {
   "cell_type": "code",
   "execution_count": 9,
   "id": "0f668116-30d0-4070-b485-413df26f782f",
   "metadata": {
    "tags": []
   },
   "outputs": [
    {
     "data": {
      "text/html": [
       "<div>\n",
       "<style scoped>\n",
       "    .dataframe tbody tr th:only-of-type {\n",
       "        vertical-align: middle;\n",
       "    }\n",
       "\n",
       "    .dataframe tbody tr th {\n",
       "        vertical-align: top;\n",
       "    }\n",
       "\n",
       "    .dataframe thead th {\n",
       "        text-align: right;\n",
       "    }\n",
       "</style>\n",
       "<table border=\"1\" class=\"dataframe\">\n",
       "  <thead>\n",
       "    <tr style=\"text-align: right;\">\n",
       "      <th></th>\n",
       "      <th>sp</th>\n",
       "      <th>kospi</th>\n",
       "    </tr>\n",
       "    <tr>\n",
       "      <th>Date</th>\n",
       "      <th></th>\n",
       "      <th></th>\n",
       "    </tr>\n",
       "  </thead>\n",
       "  <tbody>\n",
       "    <tr>\n",
       "      <th>2008-01-02</th>\n",
       "      <td>1447.160034</td>\n",
       "      <td>235.300003</td>\n",
       "    </tr>\n",
       "    <tr>\n",
       "      <th>2008-01-03</th>\n",
       "      <td>1447.160034</td>\n",
       "      <td>234.669998</td>\n",
       "    </tr>\n",
       "    <tr>\n",
       "      <th>2008-01-04</th>\n",
       "      <td>1411.630005</td>\n",
       "      <td>235.770004</td>\n",
       "    </tr>\n",
       "    <tr>\n",
       "      <th>2008-01-07</th>\n",
       "      <td>1416.180054</td>\n",
       "      <td>231.000000</td>\n",
       "    </tr>\n",
       "    <tr>\n",
       "      <th>2008-01-08</th>\n",
       "      <td>1390.189941</td>\n",
       "      <td>230.339996</td>\n",
       "    </tr>\n",
       "  </tbody>\n",
       "</table>\n",
       "</div>"
      ],
      "text/plain": [
       "                     sp       kospi\n",
       "Date                               \n",
       "2008-01-02  1447.160034  235.300003\n",
       "2008-01-03  1447.160034  234.669998\n",
       "2008-01-04  1411.630005  235.770004\n",
       "2008-01-07  1416.180054  231.000000\n",
       "2008-01-08  1390.189941  230.339996"
      ]
     },
     "execution_count": 9,
     "metadata": {},
     "output_type": "execute_result"
    }
   ],
   "source": [
    "df = pd.concat( [sp_df[['Close']], ks_df[['Close']]], axis=1)\n",
    "df.columns = ['sp','kospi']\n",
    "df.head()"
   ]
  },
  {
   "cell_type": "markdown",
   "id": "b5035e77-2c81-49d8-90d7-438d3b20f698",
   "metadata": {},
   "source": [
    "## 지수(index)화\n",
    "* =(B2/$B$2) * 100\n",
    "* <font color=red size=4><b>지수 = (현재가 / 기준가) * 100\n",
    "    * 2008-01-02\t1447.160034\t235.300003"
   ]
  },
  {
   "cell_type": "code",
   "execution_count": 10,
   "id": "19a724f3-c07a-410d-8158-0598b8959c4a",
   "metadata": {
    "tags": []
   },
   "outputs": [
    {
     "data": {
      "text/plain": [
       "1447.1600341796875"
      ]
     },
     "execution_count": 10,
     "metadata": {},
     "output_type": "execute_result"
    }
   ],
   "source": [
    "df.iloc[0,0]"
   ]
  },
  {
   "cell_type": "code",
   "execution_count": 11,
   "id": "5902d35e-3705-490d-812a-779cda44a590",
   "metadata": {
    "tags": []
   },
   "outputs": [
    {
     "data": {
      "text/plain": [
       "1447.1600341796875"
      ]
     },
     "execution_count": 11,
     "metadata": {},
     "output_type": "execute_result"
    }
   ],
   "source": [
    "# df.loc[pd.to_datetime('2008-01-02')]\n",
    "df.loc['2008-01-02', 'sp']"
   ]
  },
  {
   "cell_type": "code",
   "execution_count": 12,
   "id": "791188b1-3feb-45b0-82fa-47bdbce09736",
   "metadata": {
    "tags": []
   },
   "outputs": [
    {
     "data": {
      "text/html": [
       "<div>\n",
       "<style scoped>\n",
       "    .dataframe tbody tr th:only-of-type {\n",
       "        vertical-align: middle;\n",
       "    }\n",
       "\n",
       "    .dataframe tbody tr th {\n",
       "        vertical-align: top;\n",
       "    }\n",
       "\n",
       "    .dataframe thead th {\n",
       "        text-align: right;\n",
       "    }\n",
       "</style>\n",
       "<table border=\"1\" class=\"dataframe\">\n",
       "  <thead>\n",
       "    <tr style=\"text-align: right;\">\n",
       "      <th></th>\n",
       "      <th>sp</th>\n",
       "      <th>kospi</th>\n",
       "      <th>sp_idx</th>\n",
       "      <th>kospi_idx</th>\n",
       "    </tr>\n",
       "    <tr>\n",
       "      <th>Date</th>\n",
       "      <th></th>\n",
       "      <th></th>\n",
       "      <th></th>\n",
       "      <th></th>\n",
       "    </tr>\n",
       "  </thead>\n",
       "  <tbody>\n",
       "    <tr>\n",
       "      <th>2008-01-02</th>\n",
       "      <td>1447.160034</td>\n",
       "      <td>235.300003</td>\n",
       "      <td>100.000000</td>\n",
       "      <td>100.000000</td>\n",
       "    </tr>\n",
       "    <tr>\n",
       "      <th>2008-01-03</th>\n",
       "      <td>1447.160034</td>\n",
       "      <td>234.669998</td>\n",
       "      <td>100.000000</td>\n",
       "      <td>99.732255</td>\n",
       "    </tr>\n",
       "    <tr>\n",
       "      <th>2008-01-04</th>\n",
       "      <td>1411.630005</td>\n",
       "      <td>235.770004</td>\n",
       "      <td>97.544844</td>\n",
       "      <td>100.199746</td>\n",
       "    </tr>\n",
       "    <tr>\n",
       "      <th>2008-01-07</th>\n",
       "      <td>1416.180054</td>\n",
       "      <td>231.000000</td>\n",
       "      <td>97.859257</td>\n",
       "      <td>98.172544</td>\n",
       "    </tr>\n",
       "    <tr>\n",
       "      <th>2008-01-08</th>\n",
       "      <td>1390.189941</td>\n",
       "      <td>230.339996</td>\n",
       "      <td>96.063318</td>\n",
       "      <td>97.892050</td>\n",
       "    </tr>\n",
       "  </tbody>\n",
       "</table>\n",
       "</div>"
      ],
      "text/plain": [
       "                     sp       kospi      sp_idx   kospi_idx\n",
       "Date                                                       \n",
       "2008-01-02  1447.160034  235.300003  100.000000  100.000000\n",
       "2008-01-03  1447.160034  234.669998  100.000000   99.732255\n",
       "2008-01-04  1411.630005  235.770004   97.544844  100.199746\n",
       "2008-01-07  1416.180054  231.000000   97.859257   98.172544\n",
       "2008-01-08  1390.189941  230.339996   96.063318   97.892050"
      ]
     },
     "execution_count": 12,
     "metadata": {},
     "output_type": "execute_result"
    }
   ],
   "source": [
    "df['sp_idx']    = (df['sp']   /df.iloc[0,0]) * 100\n",
    "df['kospi_idx'] = (df['kospi']/df.iloc[0,1]) * 100\n",
    "df.head()"
   ]
  },
  {
   "cell_type": "code",
   "execution_count": 13,
   "id": "d9abec57-ef61-428f-8f50-5812258255ab",
   "metadata": {
    "tags": []
   },
   "outputs": [
    {
     "data": {
      "text/plain": [
       "<AxesSubplot: xlabel='Date'>"
      ]
     },
     "execution_count": 13,
     "metadata": {},
     "output_type": "execute_result"
    },
    {
     "data": {
      "image/png": "[encoded data removed]",
      "text/plain": [
       "<Figure size 640x480 with 1 Axes>"
      ]
     },
     "metadata": {},
     "output_type": "display_data"
    }
   ],
   "source": [
    "df[['sp_idx','kospi_idx']].plot()"
   ]
  },
  {
   "cell_type": "markdown",
   "id": "1561163e-a482-49c2-bac6-83c16d960c3c",
   "metadata": {},
   "source": [
    "# 수익률 vs. 지수화"
   ]
  },
  {
   "cell_type": "code",
   "execution_count": 14,
   "id": "7e8e3b4e-9473-4288-a337-21e43db5ab7e",
   "metadata": {
    "tags": []
   },
   "outputs": [
    {
     "name": "stdout",
     "output_type": "stream",
     "text": [
      "<class 'pandas.core.frame.DataFrame'>\n",
      "DatetimeIndex: 2564 entries, 2008-01-02 to 2017-12-28\n",
      "Data columns (total 2 columns):\n",
      " #   Column  Non-Null Count  Dtype  \n",
      "---  ------  --------------  -----  \n",
      " 0   sp      2517 non-null   float64\n",
      " 1   kospi   2430 non-null   float64\n",
      "dtypes: float64(2)\n",
      "memory usage: 124.6 KB\n"
     ]
    }
   ],
   "source": [
    "cpdf = df[['sp','kospi']]\n",
    "cpdf.info()"
   ]
  },
  {
   "cell_type": "code",
   "execution_count": 15,
   "id": "3f25af77-9b0b-48ac-a586-c42ff672eb32",
   "metadata": {
    "tags": []
   },
   "outputs": [
    {
     "name": "stdout",
     "output_type": "stream",
     "text": [
      "<class 'pandas.core.frame.DataFrame'>\n",
      "DatetimeIndex: 2564 entries, 2008-01-02 to 2017-12-28\n",
      "Data columns (total 2 columns):\n",
      " #   Column  Non-Null Count  Dtype  \n",
      "---  ------  --------------  -----  \n",
      " 0   sp      2564 non-null   float64\n",
      " 1   kospi   2564 non-null   float64\n",
      "dtypes: float64(2)\n",
      "memory usage: 124.6 KB\n"
     ]
    }
   ],
   "source": [
    "cpdf = cpdf.fillna(method='ffill')\n",
    "cpdf.info()"
   ]
  },
  {
   "cell_type": "code",
   "execution_count": 16,
   "id": "ed3364cf-fce6-4f23-ac38-fd1afa13aba4",
   "metadata": {
    "tags": []
   },
   "outputs": [
    {
     "data": {
      "text/html": [
       "<div>\n",
       "<style scoped>\n",
       "    .dataframe tbody tr th:only-of-type {\n",
       "        vertical-align: middle;\n",
       "    }\n",
       "\n",
       "    .dataframe tbody tr th {\n",
       "        vertical-align: top;\n",
       "    }\n",
       "\n",
       "    .dataframe thead th {\n",
       "        text-align: right;\n",
       "    }\n",
       "</style>\n",
       "<table border=\"1\" class=\"dataframe\">\n",
       "  <thead>\n",
       "    <tr style=\"text-align: right;\">\n",
       "      <th></th>\n",
       "      <th>sp</th>\n",
       "      <th>kospi</th>\n",
       "    </tr>\n",
       "    <tr>\n",
       "      <th>Date</th>\n",
       "      <th></th>\n",
       "      <th></th>\n",
       "    </tr>\n",
       "  </thead>\n",
       "  <tbody>\n",
       "    <tr>\n",
       "      <th>2008-01-02</th>\n",
       "      <td>1447</td>\n",
       "      <td>235</td>\n",
       "    </tr>\n",
       "    <tr>\n",
       "      <th>2008-01-03</th>\n",
       "      <td>1447</td>\n",
       "      <td>235</td>\n",
       "    </tr>\n",
       "    <tr>\n",
       "      <th>2008-01-04</th>\n",
       "      <td>1412</td>\n",
       "      <td>236</td>\n",
       "    </tr>\n",
       "    <tr>\n",
       "      <th>2008-01-07</th>\n",
       "      <td>1416</td>\n",
       "      <td>231</td>\n",
       "    </tr>\n",
       "    <tr>\n",
       "      <th>2008-01-08</th>\n",
       "      <td>1390</td>\n",
       "      <td>230</td>\n",
       "    </tr>\n",
       "  </tbody>\n",
       "</table>\n",
       "</div>"
      ],
      "text/plain": [
       "              sp  kospi\n",
       "Date                   \n",
       "2008-01-02  1447    235\n",
       "2008-01-03  1447    235\n",
       "2008-01-04  1412    236\n",
       "2008-01-07  1416    231\n",
       "2008-01-08  1390    230"
      ]
     },
     "execution_count": 16,
     "metadata": {},
     "output_type": "execute_result"
    }
   ],
   "source": [
    "cpdf = cpdf.round(0).astype(int)\n",
    "cpdf.head()"
   ]
  },
  {
   "cell_type": "markdown",
   "id": "1b6b3671-de7f-4a13-baef-7f148a673ae9",
   "metadata": {},
   "source": [
    "## 지수화 == 기간수익률\n",
    "* 가정 : 첫날(2008-01-02)를 기준으로 100으로 한다"
   ]
  },
  {
   "cell_type": "code",
   "execution_count": 17,
   "id": "5f9739f1-5399-477a-be7a-c8a3e461e307",
   "metadata": {
    "tags": []
   },
   "outputs": [
    {
     "data": {
      "text/html": [
       "<div>\n",
       "<style scoped>\n",
       "    .dataframe tbody tr th:only-of-type {\n",
       "        vertical-align: middle;\n",
       "    }\n",
       "\n",
       "    .dataframe tbody tr th {\n",
       "        vertical-align: top;\n",
       "    }\n",
       "\n",
       "    .dataframe thead th {\n",
       "        text-align: right;\n",
       "    }\n",
       "</style>\n",
       "<table border=\"1\" class=\"dataframe\">\n",
       "  <thead>\n",
       "    <tr style=\"text-align: right;\">\n",
       "      <th></th>\n",
       "      <th>sp</th>\n",
       "      <th>kospi</th>\n",
       "      <th>sp지수화</th>\n",
       "      <th>kospi지수화</th>\n",
       "    </tr>\n",
       "    <tr>\n",
       "      <th>Date</th>\n",
       "      <th></th>\n",
       "      <th></th>\n",
       "      <th></th>\n",
       "      <th></th>\n",
       "    </tr>\n",
       "  </thead>\n",
       "  <tbody>\n",
       "    <tr>\n",
       "      <th>2008-01-02</th>\n",
       "      <td>1447</td>\n",
       "      <td>235</td>\n",
       "      <td>100.000000</td>\n",
       "      <td>100.000000</td>\n",
       "    </tr>\n",
       "    <tr>\n",
       "      <th>2008-01-03</th>\n",
       "      <td>1447</td>\n",
       "      <td>235</td>\n",
       "      <td>100.000000</td>\n",
       "      <td>100.000000</td>\n",
       "    </tr>\n",
       "    <tr>\n",
       "      <th>2008-01-04</th>\n",
       "      <td>1412</td>\n",
       "      <td>236</td>\n",
       "      <td>97.581202</td>\n",
       "      <td>100.425532</td>\n",
       "    </tr>\n",
       "    <tr>\n",
       "      <th>2008-01-07</th>\n",
       "      <td>1416</td>\n",
       "      <td>231</td>\n",
       "      <td>97.857636</td>\n",
       "      <td>98.297872</td>\n",
       "    </tr>\n",
       "    <tr>\n",
       "      <th>2008-01-08</th>\n",
       "      <td>1390</td>\n",
       "      <td>230</td>\n",
       "      <td>96.060815</td>\n",
       "      <td>97.872340</td>\n",
       "    </tr>\n",
       "  </tbody>\n",
       "</table>\n",
       "</div>"
      ],
      "text/plain": [
       "              sp  kospi       sp지수화    kospi지수화\n",
       "Date                                           \n",
       "2008-01-02  1447    235  100.000000  100.000000\n",
       "2008-01-03  1447    235  100.000000  100.000000\n",
       "2008-01-04  1412    236   97.581202  100.425532\n",
       "2008-01-07  1416    231   97.857636   98.297872\n",
       "2008-01-08  1390    230   96.060815   97.872340"
      ]
     },
     "execution_count": 17,
     "metadata": {},
     "output_type": "execute_result"
    }
   ],
   "source": [
    "# cpdf['sp지수화']    =  (cpdf['sp']    / 1447) * 100 \n",
    "# cpdf['kospi지수화'] =  (cpdf['kospi'] / 235 ) * 100 \n",
    "cpdf['sp지수화']    =  (cpdf['sp']   /cpdf.iloc[0,0]) * 100 \n",
    "cpdf['kospi지수화'] =  (cpdf['kospi']/cpdf.iloc[0,1]) * 100 \n",
    "cpdf.head()"
   ]
  },
  {
   "cell_type": "markdown",
   "id": "4044a8fa-f26a-4f76-9ac9-8fbc96f9c3c2",
   "metadata": {
    "tags": []
   },
   "source": [
    "## 일간 변동가(price)\n",
    "* 변화량 : 현재가격 - N일가격 \n",
    "* <font size=4 color=red><b> N일 대비 가격 증감에 주로 사용\n",
    "* <font size=4 color=blue><b> df['close'].diff(1) = </font>  <font size=4 color=red><b> df['close'] - df['colse'].shift(1)"
   ]
  },
  {
   "cell_type": "code",
   "execution_count": 18,
   "id": "f69ac8a7-1045-4665-a9fa-20d233526694",
   "metadata": {
    "tags": []
   },
   "outputs": [
    {
     "data": {
      "text/html": [
       "<div>\n",
       "<style scoped>\n",
       "    .dataframe tbody tr th:only-of-type {\n",
       "        vertical-align: middle;\n",
       "    }\n",
       "\n",
       "    .dataframe tbody tr th {\n",
       "        vertical-align: top;\n",
       "    }\n",
       "\n",
       "    .dataframe thead th {\n",
       "        text-align: right;\n",
       "    }\n",
       "</style>\n",
       "<table border=\"1\" class=\"dataframe\">\n",
       "  <thead>\n",
       "    <tr style=\"text-align: right;\">\n",
       "      <th></th>\n",
       "      <th>sp</th>\n",
       "      <th>kospi</th>\n",
       "      <th>sp지수화</th>\n",
       "      <th>kospi지수화</th>\n",
       "      <th>kospi일간변동가</th>\n",
       "    </tr>\n",
       "    <tr>\n",
       "      <th>Date</th>\n",
       "      <th></th>\n",
       "      <th></th>\n",
       "      <th></th>\n",
       "      <th></th>\n",
       "      <th></th>\n",
       "    </tr>\n",
       "  </thead>\n",
       "  <tbody>\n",
       "    <tr>\n",
       "      <th>2008-01-02</th>\n",
       "      <td>1447</td>\n",
       "      <td>235</td>\n",
       "      <td>100.000000</td>\n",
       "      <td>100.000000</td>\n",
       "      <td>NaN</td>\n",
       "    </tr>\n",
       "    <tr>\n",
       "      <th>2008-01-03</th>\n",
       "      <td>1447</td>\n",
       "      <td>235</td>\n",
       "      <td>100.000000</td>\n",
       "      <td>100.000000</td>\n",
       "      <td>0.0</td>\n",
       "    </tr>\n",
       "    <tr>\n",
       "      <th>2008-01-04</th>\n",
       "      <td>1412</td>\n",
       "      <td>236</td>\n",
       "      <td>97.581202</td>\n",
       "      <td>100.425532</td>\n",
       "      <td>1.0</td>\n",
       "    </tr>\n",
       "    <tr>\n",
       "      <th>2008-01-07</th>\n",
       "      <td>1416</td>\n",
       "      <td>231</td>\n",
       "      <td>97.857636</td>\n",
       "      <td>98.297872</td>\n",
       "      <td>-5.0</td>\n",
       "    </tr>\n",
       "    <tr>\n",
       "      <th>2008-01-08</th>\n",
       "      <td>1390</td>\n",
       "      <td>230</td>\n",
       "      <td>96.060815</td>\n",
       "      <td>97.872340</td>\n",
       "      <td>-1.0</td>\n",
       "    </tr>\n",
       "  </tbody>\n",
       "</table>\n",
       "</div>"
      ],
      "text/plain": [
       "              sp  kospi       sp지수화    kospi지수화  kospi일간변동가\n",
       "Date                                                       \n",
       "2008-01-02  1447    235  100.000000  100.000000         NaN\n",
       "2008-01-03  1447    235  100.000000  100.000000         0.0\n",
       "2008-01-04  1412    236   97.581202  100.425532         1.0\n",
       "2008-01-07  1416    231   97.857636   98.297872        -5.0\n",
       "2008-01-08  1390    230   96.060815   97.872340        -1.0"
      ]
     },
     "execution_count": 18,
     "metadata": {},
     "output_type": "execute_result"
    }
   ],
   "source": [
    "# cpdf[['sp일간변동가','kospi일간변동가']] =  cpdf[['sp','kospi']].diff(1)\n",
    "cpdf[['kospi일간변동가']] =  cpdf[['kospi']].diff(1)\n",
    "cpdf.head()"
   ]
  },
  {
   "cell_type": "markdown",
   "id": "e7d5b006-79ea-4e46-bcc4-4373b58be8d5",
   "metadata": {
    "tags": []
   },
   "source": [
    "## 일간 변동률(rate)\n",
    "* 백분위 변화율 : (현재가격 - N일가격 ) / N일가격\n",
    "* <font size=4 color=red><b>전일 대비 수익률에 주로 사용"
   ]
  },
  {
   "cell_type": "code",
   "execution_count": 19,
   "id": "84676811-a86f-4519-b85f-49ceee644282",
   "metadata": {
    "tags": []
   },
   "outputs": [
    {
     "data": {
      "text/html": [
       "<div>\n",
       "<style scoped>\n",
       "    .dataframe tbody tr th:only-of-type {\n",
       "        vertical-align: middle;\n",
       "    }\n",
       "\n",
       "    .dataframe tbody tr th {\n",
       "        vertical-align: top;\n",
       "    }\n",
       "\n",
       "    .dataframe thead th {\n",
       "        text-align: right;\n",
       "    }\n",
       "</style>\n",
       "<table border=\"1\" class=\"dataframe\">\n",
       "  <thead>\n",
       "    <tr style=\"text-align: right;\">\n",
       "      <th></th>\n",
       "      <th>sp</th>\n",
       "      <th>kospi</th>\n",
       "      <th>sp지수화</th>\n",
       "      <th>kospi지수화</th>\n",
       "      <th>kospi일간변동가</th>\n",
       "      <th>kospi일간변동률</th>\n",
       "    </tr>\n",
       "    <tr>\n",
       "      <th>Date</th>\n",
       "      <th></th>\n",
       "      <th></th>\n",
       "      <th></th>\n",
       "      <th></th>\n",
       "      <th></th>\n",
       "      <th></th>\n",
       "    </tr>\n",
       "  </thead>\n",
       "  <tbody>\n",
       "    <tr>\n",
       "      <th>2008-01-02</th>\n",
       "      <td>1447</td>\n",
       "      <td>235</td>\n",
       "      <td>100.000000</td>\n",
       "      <td>100.000000</td>\n",
       "      <td>NaN</td>\n",
       "      <td>NaN</td>\n",
       "    </tr>\n",
       "    <tr>\n",
       "      <th>2008-01-03</th>\n",
       "      <td>1447</td>\n",
       "      <td>235</td>\n",
       "      <td>100.000000</td>\n",
       "      <td>100.000000</td>\n",
       "      <td>0.0</td>\n",
       "      <td>0.000000</td>\n",
       "    </tr>\n",
       "    <tr>\n",
       "      <th>2008-01-04</th>\n",
       "      <td>1412</td>\n",
       "      <td>236</td>\n",
       "      <td>97.581202</td>\n",
       "      <td>100.425532</td>\n",
       "      <td>1.0</td>\n",
       "      <td>0.004255</td>\n",
       "    </tr>\n",
       "    <tr>\n",
       "      <th>2008-01-07</th>\n",
       "      <td>1416</td>\n",
       "      <td>231</td>\n",
       "      <td>97.857636</td>\n",
       "      <td>98.297872</td>\n",
       "      <td>-5.0</td>\n",
       "      <td>-0.021186</td>\n",
       "    </tr>\n",
       "    <tr>\n",
       "      <th>2008-01-08</th>\n",
       "      <td>1390</td>\n",
       "      <td>230</td>\n",
       "      <td>96.060815</td>\n",
       "      <td>97.872340</td>\n",
       "      <td>-1.0</td>\n",
       "      <td>-0.004329</td>\n",
       "    </tr>\n",
       "  </tbody>\n",
       "</table>\n",
       "</div>"
      ],
      "text/plain": [
       "              sp  kospi       sp지수화    kospi지수화  kospi일간변동가  kospi일간변동률\n",
       "Date                                                                   \n",
       "2008-01-02  1447    235  100.000000  100.000000         NaN         NaN\n",
       "2008-01-03  1447    235  100.000000  100.000000         0.0    0.000000\n",
       "2008-01-04  1412    236   97.581202  100.425532         1.0    0.004255\n",
       "2008-01-07  1416    231   97.857636   98.297872        -5.0   -0.021186\n",
       "2008-01-08  1390    230   96.060815   97.872340        -1.0   -0.004329"
      ]
     },
     "execution_count": 19,
     "metadata": {},
     "output_type": "execute_result"
    }
   ],
   "source": [
    "# cpdf[['sp일간변동률','kospi일간변동률']] = cpdf[['sp','kospi']].pct_change()\n",
    "cpdf[['kospi일간변동률']] = cpdf[['kospi']].pct_change()\n",
    "cpdf.head()"
   ]
  },
  {
   "cell_type": "code",
   "execution_count": 20,
   "id": "4f437671-9259-4b89-af88-ee250dd8b1f2",
   "metadata": {
    "tags": []
   },
   "outputs": [
    {
     "data": {
      "text/html": [
       "<div>\n",
       "<style scoped>\n",
       "    .dataframe tbody tr th:only-of-type {\n",
       "        vertical-align: middle;\n",
       "    }\n",
       "\n",
       "    .dataframe tbody tr th {\n",
       "        vertical-align: top;\n",
       "    }\n",
       "\n",
       "    .dataframe thead th {\n",
       "        text-align: right;\n",
       "    }\n",
       "</style>\n",
       "<table border=\"1\" class=\"dataframe\">\n",
       "  <thead>\n",
       "    <tr style=\"text-align: right;\">\n",
       "      <th></th>\n",
       "      <th>sp</th>\n",
       "      <th>kospi</th>\n",
       "      <th>sp지수화</th>\n",
       "      <th>kospi지수화</th>\n",
       "      <th>kospi일간변동가</th>\n",
       "      <th>kospi일간변동률</th>\n",
       "      <th>kospi지수화_일간변동률</th>\n",
       "    </tr>\n",
       "    <tr>\n",
       "      <th>Date</th>\n",
       "      <th></th>\n",
       "      <th></th>\n",
       "      <th></th>\n",
       "      <th></th>\n",
       "      <th></th>\n",
       "      <th></th>\n",
       "      <th></th>\n",
       "    </tr>\n",
       "  </thead>\n",
       "  <tbody>\n",
       "    <tr>\n",
       "      <th>2008-01-02</th>\n",
       "      <td>1447</td>\n",
       "      <td>235</td>\n",
       "      <td>100.000000</td>\n",
       "      <td>100.000000</td>\n",
       "      <td>NaN</td>\n",
       "      <td>NaN</td>\n",
       "      <td>NaN</td>\n",
       "    </tr>\n",
       "    <tr>\n",
       "      <th>2008-01-03</th>\n",
       "      <td>1447</td>\n",
       "      <td>235</td>\n",
       "      <td>100.000000</td>\n",
       "      <td>100.000000</td>\n",
       "      <td>0.0</td>\n",
       "      <td>0.000000</td>\n",
       "      <td>0.000000</td>\n",
       "    </tr>\n",
       "    <tr>\n",
       "      <th>2008-01-04</th>\n",
       "      <td>1412</td>\n",
       "      <td>236</td>\n",
       "      <td>97.581202</td>\n",
       "      <td>100.425532</td>\n",
       "      <td>1.0</td>\n",
       "      <td>0.004255</td>\n",
       "      <td>0.004255</td>\n",
       "    </tr>\n",
       "    <tr>\n",
       "      <th>2008-01-07</th>\n",
       "      <td>1416</td>\n",
       "      <td>231</td>\n",
       "      <td>97.857636</td>\n",
       "      <td>98.297872</td>\n",
       "      <td>-5.0</td>\n",
       "      <td>-0.021186</td>\n",
       "      <td>-0.021186</td>\n",
       "    </tr>\n",
       "    <tr>\n",
       "      <th>2008-01-08</th>\n",
       "      <td>1390</td>\n",
       "      <td>230</td>\n",
       "      <td>96.060815</td>\n",
       "      <td>97.872340</td>\n",
       "      <td>-1.0</td>\n",
       "      <td>-0.004329</td>\n",
       "      <td>-0.004329</td>\n",
       "    </tr>\n",
       "  </tbody>\n",
       "</table>\n",
       "</div>"
      ],
      "text/plain": [
       "              sp  kospi       sp지수화    kospi지수화  kospi일간변동가  kospi일간변동률  \\\n",
       "Date                                                                      \n",
       "2008-01-02  1447    235  100.000000  100.000000         NaN         NaN   \n",
       "2008-01-03  1447    235  100.000000  100.000000         0.0    0.000000   \n",
       "2008-01-04  1412    236   97.581202  100.425532         1.0    0.004255   \n",
       "2008-01-07  1416    231   97.857636   98.297872        -5.0   -0.021186   \n",
       "2008-01-08  1390    230   96.060815   97.872340        -1.0   -0.004329   \n",
       "\n",
       "            kospi지수화_일간변동률  \n",
       "Date                        \n",
       "2008-01-02             NaN  \n",
       "2008-01-03        0.000000  \n",
       "2008-01-04        0.004255  \n",
       "2008-01-07       -0.021186  \n",
       "2008-01-08       -0.004329  "
      ]
     },
     "execution_count": 20,
     "metadata": {},
     "output_type": "execute_result"
    }
   ],
   "source": [
    "# cpdf[['sp일간변동률','kospi일간변동률']] = cpdf[['sp','kospi']].pct_change()\n",
    "cpdf[['kospi지수화_일간변동률']] = cpdf[['kospi지수화']].pct_change()\n",
    "cpdf.head()"
   ]
  },
  {
   "cell_type": "markdown",
   "id": "37427401-99ce-4dab-aed3-21d07324b13c",
   "metadata": {
    "tags": []
   },
   "source": [
    "## 누적 일간 변동가(cumsum)"
   ]
  },
  {
   "cell_type": "code",
   "execution_count": 21,
   "id": "e77cd4bb-a004-4b9f-9772-6874f1500c7a",
   "metadata": {
    "tags": []
   },
   "outputs": [
    {
     "data": {
      "text/html": [
       "<div>\n",
       "<style scoped>\n",
       "    .dataframe tbody tr th:only-of-type {\n",
       "        vertical-align: middle;\n",
       "    }\n",
       "\n",
       "    .dataframe tbody tr th {\n",
       "        vertical-align: top;\n",
       "    }\n",
       "\n",
       "    .dataframe thead th {\n",
       "        text-align: right;\n",
       "    }\n",
       "</style>\n",
       "<table border=\"1\" class=\"dataframe\">\n",
       "  <thead>\n",
       "    <tr style=\"text-align: right;\">\n",
       "      <th></th>\n",
       "      <th>sp</th>\n",
       "      <th>kospi</th>\n",
       "      <th>sp지수화</th>\n",
       "      <th>kospi지수화</th>\n",
       "      <th>kospi일간변동가</th>\n",
       "      <th>kospi일간변동률</th>\n",
       "      <th>kospi지수화_일간변동률</th>\n",
       "      <th>kospi누적일간변동가</th>\n",
       "    </tr>\n",
       "    <tr>\n",
       "      <th>Date</th>\n",
       "      <th></th>\n",
       "      <th></th>\n",
       "      <th></th>\n",
       "      <th></th>\n",
       "      <th></th>\n",
       "      <th></th>\n",
       "      <th></th>\n",
       "      <th></th>\n",
       "    </tr>\n",
       "  </thead>\n",
       "  <tbody>\n",
       "    <tr>\n",
       "      <th>2008-01-02</th>\n",
       "      <td>1447</td>\n",
       "      <td>235</td>\n",
       "      <td>100.000000</td>\n",
       "      <td>100.000000</td>\n",
       "      <td>NaN</td>\n",
       "      <td>NaN</td>\n",
       "      <td>NaN</td>\n",
       "      <td>NaN</td>\n",
       "    </tr>\n",
       "    <tr>\n",
       "      <th>2008-01-03</th>\n",
       "      <td>1447</td>\n",
       "      <td>235</td>\n",
       "      <td>100.000000</td>\n",
       "      <td>100.000000</td>\n",
       "      <td>0.0</td>\n",
       "      <td>0.000000</td>\n",
       "      <td>0.000000</td>\n",
       "      <td>0.0</td>\n",
       "    </tr>\n",
       "    <tr>\n",
       "      <th>2008-01-04</th>\n",
       "      <td>1412</td>\n",
       "      <td>236</td>\n",
       "      <td>97.581202</td>\n",
       "      <td>100.425532</td>\n",
       "      <td>1.0</td>\n",
       "      <td>0.004255</td>\n",
       "      <td>0.004255</td>\n",
       "      <td>1.0</td>\n",
       "    </tr>\n",
       "    <tr>\n",
       "      <th>2008-01-07</th>\n",
       "      <td>1416</td>\n",
       "      <td>231</td>\n",
       "      <td>97.857636</td>\n",
       "      <td>98.297872</td>\n",
       "      <td>-5.0</td>\n",
       "      <td>-0.021186</td>\n",
       "      <td>-0.021186</td>\n",
       "      <td>-4.0</td>\n",
       "    </tr>\n",
       "    <tr>\n",
       "      <th>2008-01-08</th>\n",
       "      <td>1390</td>\n",
       "      <td>230</td>\n",
       "      <td>96.060815</td>\n",
       "      <td>97.872340</td>\n",
       "      <td>-1.0</td>\n",
       "      <td>-0.004329</td>\n",
       "      <td>-0.004329</td>\n",
       "      <td>-5.0</td>\n",
       "    </tr>\n",
       "  </tbody>\n",
       "</table>\n",
       "</div>"
      ],
      "text/plain": [
       "              sp  kospi       sp지수화    kospi지수화  kospi일간변동가  kospi일간변동률  \\\n",
       "Date                                                                      \n",
       "2008-01-02  1447    235  100.000000  100.000000         NaN         NaN   \n",
       "2008-01-03  1447    235  100.000000  100.000000         0.0    0.000000   \n",
       "2008-01-04  1412    236   97.581202  100.425532         1.0    0.004255   \n",
       "2008-01-07  1416    231   97.857636   98.297872        -5.0   -0.021186   \n",
       "2008-01-08  1390    230   96.060815   97.872340        -1.0   -0.004329   \n",
       "\n",
       "            kospi지수화_일간변동률  kospi누적일간변동가  \n",
       "Date                                      \n",
       "2008-01-02             NaN           NaN  \n",
       "2008-01-03        0.000000           0.0  \n",
       "2008-01-04        0.004255           1.0  \n",
       "2008-01-07       -0.021186          -4.0  \n",
       "2008-01-08       -0.004329          -5.0  "
      ]
     },
     "execution_count": 21,
     "metadata": {},
     "output_type": "execute_result"
    }
   ],
   "source": [
    "# cpdf[['sp일간변동가','kospi일간변동가']] = cpdf[['sp','kospi']].diff(1).cumsum()\n",
    "cpdf[['kospi누적일간변동가']] = cpdf[['kospi']].diff(1).cumsum()\n",
    "cpdf.head()"
   ]
  },
  {
   "cell_type": "markdown",
   "id": "615f9485-2904-404d-a5ab-a396bafa556f",
   "metadata": {
    "tags": []
   },
   "source": [
    "## 누적 일간 변동률(cumprod)"
   ]
  },
  {
   "cell_type": "code",
   "execution_count": 22,
   "id": "cfb9b09c-ce5c-4e8e-a33e-0d422915d4cc",
   "metadata": {
    "tags": []
   },
   "outputs": [
    {
     "data": {
      "text/html": [
       "<div>\n",
       "<style scoped>\n",
       "    .dataframe tbody tr th:only-of-type {\n",
       "        vertical-align: middle;\n",
       "    }\n",
       "\n",
       "    .dataframe tbody tr th {\n",
       "        vertical-align: top;\n",
       "    }\n",
       "\n",
       "    .dataframe thead th {\n",
       "        text-align: right;\n",
       "    }\n",
       "</style>\n",
       "<table border=\"1\" class=\"dataframe\">\n",
       "  <thead>\n",
       "    <tr style=\"text-align: right;\">\n",
       "      <th></th>\n",
       "      <th>sp</th>\n",
       "      <th>kospi</th>\n",
       "      <th>sp지수화</th>\n",
       "      <th>kospi지수화</th>\n",
       "      <th>kospi일간변동가</th>\n",
       "      <th>kospi일간변동률</th>\n",
       "      <th>kospi지수화_일간변동률</th>\n",
       "      <th>kospi누적일간변동가</th>\n",
       "      <th>kospi누적일간변동률</th>\n",
       "    </tr>\n",
       "    <tr>\n",
       "      <th>Date</th>\n",
       "      <th></th>\n",
       "      <th></th>\n",
       "      <th></th>\n",
       "      <th></th>\n",
       "      <th></th>\n",
       "      <th></th>\n",
       "      <th></th>\n",
       "      <th></th>\n",
       "      <th></th>\n",
       "    </tr>\n",
       "  </thead>\n",
       "  <tbody>\n",
       "    <tr>\n",
       "      <th>2008-01-02</th>\n",
       "      <td>1447</td>\n",
       "      <td>235</td>\n",
       "      <td>100.000000</td>\n",
       "      <td>100.000000</td>\n",
       "      <td>NaN</td>\n",
       "      <td>NaN</td>\n",
       "      <td>NaN</td>\n",
       "      <td>NaN</td>\n",
       "      <td>NaN</td>\n",
       "    </tr>\n",
       "    <tr>\n",
       "      <th>2008-01-03</th>\n",
       "      <td>1447</td>\n",
       "      <td>235</td>\n",
       "      <td>100.000000</td>\n",
       "      <td>100.000000</td>\n",
       "      <td>0.0</td>\n",
       "      <td>0.000000</td>\n",
       "      <td>0.000000</td>\n",
       "      <td>0.0</td>\n",
       "      <td>0.000000</td>\n",
       "    </tr>\n",
       "    <tr>\n",
       "      <th>2008-01-04</th>\n",
       "      <td>1412</td>\n",
       "      <td>236</td>\n",
       "      <td>97.581202</td>\n",
       "      <td>100.425532</td>\n",
       "      <td>1.0</td>\n",
       "      <td>0.004255</td>\n",
       "      <td>0.004255</td>\n",
       "      <td>1.0</td>\n",
       "      <td>0.004255</td>\n",
       "    </tr>\n",
       "    <tr>\n",
       "      <th>2008-01-07</th>\n",
       "      <td>1416</td>\n",
       "      <td>231</td>\n",
       "      <td>97.857636</td>\n",
       "      <td>98.297872</td>\n",
       "      <td>-5.0</td>\n",
       "      <td>-0.021186</td>\n",
       "      <td>-0.021186</td>\n",
       "      <td>-4.0</td>\n",
       "      <td>-0.017021</td>\n",
       "    </tr>\n",
       "    <tr>\n",
       "      <th>2008-01-08</th>\n",
       "      <td>1390</td>\n",
       "      <td>230</td>\n",
       "      <td>96.060815</td>\n",
       "      <td>97.872340</td>\n",
       "      <td>-1.0</td>\n",
       "      <td>-0.004329</td>\n",
       "      <td>-0.004329</td>\n",
       "      <td>-5.0</td>\n",
       "      <td>-0.021277</td>\n",
       "    </tr>\n",
       "  </tbody>\n",
       "</table>\n",
       "</div>"
      ],
      "text/plain": [
       "              sp  kospi       sp지수화    kospi지수화  kospi일간변동가  kospi일간변동률  \\\n",
       "Date                                                                      \n",
       "2008-01-02  1447    235  100.000000  100.000000         NaN         NaN   \n",
       "2008-01-03  1447    235  100.000000  100.000000         0.0    0.000000   \n",
       "2008-01-04  1412    236   97.581202  100.425532         1.0    0.004255   \n",
       "2008-01-07  1416    231   97.857636   98.297872        -5.0   -0.021186   \n",
       "2008-01-08  1390    230   96.060815   97.872340        -1.0   -0.004329   \n",
       "\n",
       "            kospi지수화_일간변동률  kospi누적일간변동가  kospi누적일간변동률  \n",
       "Date                                                    \n",
       "2008-01-02             NaN           NaN           NaN  \n",
       "2008-01-03        0.000000           0.0      0.000000  \n",
       "2008-01-04        0.004255           1.0      0.004255  \n",
       "2008-01-07       -0.021186          -4.0     -0.017021  \n",
       "2008-01-08       -0.004329          -5.0     -0.021277  "
      ]
     },
     "execution_count": 22,
     "metadata": {},
     "output_type": "execute_result"
    }
   ],
   "source": [
    "# cpdf[['sp누적일간변동률','kospi누적일간변동률']] = (1+cpdf[['sp일간변동률','kospi일간변동률']]).cumprod()-1\n",
    "r = cpdf[['kospi']].pct_change()\n",
    "cpdf[['kospi누적일간변동률']] = (1+r).cumprod()-1\n",
    "cpdf.head()"
   ]
  },
  {
   "cell_type": "markdown",
   "id": "62bdae0e-d725-4878-9548-ff4844af8367",
   "metadata": {
    "tags": []
   },
   "source": [
    "## 연복리 수익률(CAGR: (Compound Annual Growth Rate)\n",
    "* 투자 기간에 대한 투자 수익률\n",
    "* $ (1+r)^N  = 기간수익률 $  : 기간(N)동안에 총 얼마를 받았는가?\n",
    "* $ 연복리수익률(r) = 기간수익률^{1 \\over N} -1  $\n",
    "    * <font color=red><b>$단리 = 원금 × (1 + 년이율 × 기간) $\n",
    "    * <font color=red><b>$복리 = 원금 × (1 + 년이율)^{기간} $  "
   ]
  },
  {
   "cell_type": "markdown",
   "id": "2353c74a-6ade-447d-b2eb-5de373aa340c",
   "metadata": {
    "tags": []
   },
   "source": [
    "* 투자기간"
   ]
  },
  {
   "cell_type": "code",
   "execution_count": 23,
   "id": "2b18658d-a840-4433-a0d2-5e5d8ba2e5b4",
   "metadata": {
    "tags": []
   },
   "outputs": [
    {
     "data": {
      "text/plain": [
       "(Timestamp('2008-01-02 00:00:00'), Timestamp('2017-12-28 00:00:00'))"
      ]
     },
     "execution_count": 23,
     "metadata": {},
     "output_type": "execute_result"
    }
   ],
   "source": [
    "cpdf.index.min(), cpdf.index.max() #약10년"
   ]
  },
  {
   "cell_type": "code",
   "execution_count": 24,
   "id": "5aa41e95-272f-41c7-87bc-d6026cbfb36f",
   "metadata": {
    "tags": []
   },
   "outputs": [
    {
     "data": {
      "text/plain": [
       "9.994520547945205"
      ]
     },
     "execution_count": 24,
     "metadata": {},
     "output_type": "execute_result"
    }
   ],
   "source": [
    "diff = cpdf.index[-1] - cpdf.index[0]\n",
    "N = diff.days / 365\n",
    "N"
   ]
  },
  {
   "cell_type": "markdown",
   "id": "a3e5e6ff-94cc-493c-b0b7-74cf47a9a2eb",
   "metadata": {},
   "source": [
    "* 기간수익률(배) \n",
    "     * df['기간수익률(배)'] = df['종가'] / df['종가'][0]"
   ]
  },
  {
   "cell_type": "code",
   "execution_count": 25,
   "id": "a3fa4d19-be9f-42a6-ac64-4ac6d44f17de",
   "metadata": {
    "tags": []
   },
   "outputs": [
    {
     "name": "stdout",
     "output_type": "stream",
     "text": [
      "최초:235   만기:325\n"
     ]
    },
    {
     "data": {
      "text/plain": [
       "1.3829787234042554"
      ]
     },
     "execution_count": 25,
     "metadata": {},
     "output_type": "execute_result"
    }
   ],
   "source": [
    "print(f\"최초:{cpdf['kospi'][0]}   만기:{cpdf['kospi'][-1]}\")  \n",
    "cpdf['kospi'][-1] / cpdf['kospi'][0]      #---------------자산볓배"
   ]
  },
  {
   "cell_type": "code",
   "execution_count": 26,
   "id": "cb8bae79-88fc-4061-80b0-3d49a157f1dc",
   "metadata": {
    "tags": []
   },
   "outputs": [
    {
     "data": {
      "text/html": [
       "<div>\n",
       "<style scoped>\n",
       "    .dataframe tbody tr th:only-of-type {\n",
       "        vertical-align: middle;\n",
       "    }\n",
       "\n",
       "    .dataframe tbody tr th {\n",
       "        vertical-align: top;\n",
       "    }\n",
       "\n",
       "    .dataframe thead th {\n",
       "        text-align: right;\n",
       "    }\n",
       "</style>\n",
       "<table border=\"1\" class=\"dataframe\">\n",
       "  <thead>\n",
       "    <tr style=\"text-align: right;\">\n",
       "      <th></th>\n",
       "      <th>sp</th>\n",
       "      <th>kospi</th>\n",
       "      <th>sp지수화</th>\n",
       "      <th>kospi지수화</th>\n",
       "      <th>kospi일간변동가</th>\n",
       "      <th>kospi일간변동률</th>\n",
       "      <th>kospi지수화_일간변동률</th>\n",
       "      <th>kospi누적일간변동가</th>\n",
       "      <th>kospi누적일간변동률</th>\n",
       "    </tr>\n",
       "    <tr>\n",
       "      <th>Date</th>\n",
       "      <th></th>\n",
       "      <th></th>\n",
       "      <th></th>\n",
       "      <th></th>\n",
       "      <th></th>\n",
       "      <th></th>\n",
       "      <th></th>\n",
       "      <th></th>\n",
       "      <th></th>\n",
       "    </tr>\n",
       "  </thead>\n",
       "  <tbody>\n",
       "    <tr>\n",
       "      <th>2017-12-28</th>\n",
       "      <td>2688</td>\n",
       "      <td>325</td>\n",
       "      <td>185.763649</td>\n",
       "      <td>138.297872</td>\n",
       "      <td>5.0</td>\n",
       "      <td>0.015625</td>\n",
       "      <td>0.015625</td>\n",
       "      <td>90.0</td>\n",
       "      <td>0.382979</td>\n",
       "    </tr>\n",
       "  </tbody>\n",
       "</table>\n",
       "</div>"
      ],
      "text/plain": [
       "              sp  kospi       sp지수화    kospi지수화  kospi일간변동가  kospi일간변동률  \\\n",
       "Date                                                                      \n",
       "2017-12-28  2688    325  185.763649  138.297872         5.0    0.015625   \n",
       "\n",
       "            kospi지수화_일간변동률  kospi누적일간변동가  kospi누적일간변동률  \n",
       "Date                                                    \n",
       "2017-12-28        0.015625          90.0      0.382979  "
      ]
     },
     "execution_count": 26,
     "metadata": {},
     "output_type": "execute_result"
    }
   ],
   "source": [
    "cpdf.tail(1)                          #----------------누적이자"
   ]
  },
  {
   "cell_type": "markdown",
   "id": "d7332aff-b546-4d09-bd4e-1510d0f8d985",
   "metadata": {},
   "source": [
    "* 연복리 수익률(r)\n",
    "    * (1+r) ** N = 기간수익률(배)\n",
    "    * r = 기간수익률(배) ** (1/N) - 1"
   ]
  },
  {
   "cell_type": "code",
   "execution_count": 27,
   "id": "76d59f7e-ef3c-48d1-8104-d6b9a3ad411b",
   "metadata": {
    "tags": []
   },
   "outputs": [
    {
     "data": {
      "text/plain": [
       "(1.3829787234042532, 0.03295535127647109)"
      ]
     },
     "execution_count": 27,
     "metadata": {},
     "output_type": "execute_result"
    }
   ],
   "source": [
    "N = 10\n",
    "기간수익률_몇배 = cpdf['kospi누적일간변동률'][-1] + 1\n",
    "연복리수익률r = (기간수익률_몇배 ** (1/N))-1\n",
    "기간수익률_몇배, 연복리수익률r"
   ]
  },
  {
   "cell_type": "code",
   "execution_count": 28,
   "id": "28dec998-3caa-4b05-b227-66b75507844e",
   "metadata": {
    "tags": []
   },
   "outputs": [
    {
     "data": {
      "text/plain": [
       "(1.3829787234042554, 0.03295535127647109)"
      ]
     },
     "execution_count": 28,
     "metadata": {},
     "output_type": "execute_result"
    }
   ],
   "source": [
    "N = 10\n",
    "기간수익률_몇배 = cpdf['kospi'][-1] / cpdf['kospi'][0] \n",
    "연복리수익률r = (기간수익률_몇배 ** (1/N))-1\n",
    "기간수익률_몇배, 연복리수익률r"
   ]
  },
  {
   "cell_type": "code",
   "execution_count": 29,
   "id": "92de8950-1272-4e7e-bae5-6aab81d13c07",
   "metadata": {
    "tags": []
   },
   "outputs": [
    {
     "data": {
      "text/plain": [
       "3.2"
      ]
     },
     "execution_count": 29,
     "metadata": {},
     "output_type": "execute_result"
    }
   ],
   "source": [
    "(0.032 * 100) # %"
   ]
  },
  {
   "cell_type": "markdown",
   "id": "8ba4ff55-7cb6-46a9-83ee-9946b5231853",
   "metadata": {},
   "source": [
    "## 누적 로그 수익률  \n",
    "* <font color=red><b>log(1+r) \n",
    "* <font color=red><b>log(1+ 가격.pct_change())\n",
    "* logA + logB = log(A*B)\n",
    "* <font color=red><b> 로그 수익률은 합산(cumsum())</font></b> --> 계산하기 쉬움\n",
    "* 100 --> 150(50%)  --> 100(-33%) : 원금의 비율을 왜곡 없이 보기 위함\n",
    "    * 자산의 실가치 확인"
   ]
  },
  {
   "cell_type": "code",
   "execution_count": 30,
   "id": "29b262b0-55ac-49d4-957e-0ca087730978",
   "metadata": {
    "tags": []
   },
   "outputs": [
    {
     "data": {
      "text/html": [
       "<div>\n",
       "<style scoped>\n",
       "    .dataframe tbody tr th:only-of-type {\n",
       "        vertical-align: middle;\n",
       "    }\n",
       "\n",
       "    .dataframe tbody tr th {\n",
       "        vertical-align: top;\n",
       "    }\n",
       "\n",
       "    .dataframe thead th {\n",
       "        text-align: right;\n",
       "    }\n",
       "</style>\n",
       "<table border=\"1\" class=\"dataframe\">\n",
       "  <thead>\n",
       "    <tr style=\"text-align: right;\">\n",
       "      <th></th>\n",
       "      <th>sp</th>\n",
       "      <th>kospi</th>\n",
       "      <th>sp지수화</th>\n",
       "      <th>kospi지수화</th>\n",
       "      <th>kospi일간변동가</th>\n",
       "      <th>kospi일간변동률</th>\n",
       "      <th>kospi지수화_일간변동률</th>\n",
       "      <th>kospi누적일간변동가</th>\n",
       "      <th>kospi누적일간변동률</th>\n",
       "      <th>sp로그수익률</th>\n",
       "      <th>kospi로그수익률</th>\n",
       "    </tr>\n",
       "    <tr>\n",
       "      <th>Date</th>\n",
       "      <th></th>\n",
       "      <th></th>\n",
       "      <th></th>\n",
       "      <th></th>\n",
       "      <th></th>\n",
       "      <th></th>\n",
       "      <th></th>\n",
       "      <th></th>\n",
       "      <th></th>\n",
       "      <th></th>\n",
       "      <th></th>\n",
       "    </tr>\n",
       "  </thead>\n",
       "  <tbody>\n",
       "    <tr>\n",
       "      <th>2008-01-02</th>\n",
       "      <td>1447</td>\n",
       "      <td>235</td>\n",
       "      <td>100.000000</td>\n",
       "      <td>100.000000</td>\n",
       "      <td>NaN</td>\n",
       "      <td>NaN</td>\n",
       "      <td>NaN</td>\n",
       "      <td>NaN</td>\n",
       "      <td>NaN</td>\n",
       "      <td>NaN</td>\n",
       "      <td>NaN</td>\n",
       "    </tr>\n",
       "    <tr>\n",
       "      <th>2008-01-03</th>\n",
       "      <td>1447</td>\n",
       "      <td>235</td>\n",
       "      <td>100.000000</td>\n",
       "      <td>100.000000</td>\n",
       "      <td>0.0</td>\n",
       "      <td>0.000000</td>\n",
       "      <td>0.000000</td>\n",
       "      <td>0.0</td>\n",
       "      <td>0.000000</td>\n",
       "      <td>0.000000</td>\n",
       "      <td>0.000000</td>\n",
       "    </tr>\n",
       "    <tr>\n",
       "      <th>2008-01-04</th>\n",
       "      <td>1412</td>\n",
       "      <td>236</td>\n",
       "      <td>97.581202</td>\n",
       "      <td>100.425532</td>\n",
       "      <td>1.0</td>\n",
       "      <td>0.004255</td>\n",
       "      <td>0.004255</td>\n",
       "      <td>1.0</td>\n",
       "      <td>0.004255</td>\n",
       "      <td>-0.024485</td>\n",
       "      <td>0.004246</td>\n",
       "    </tr>\n",
       "    <tr>\n",
       "      <th>2008-01-07</th>\n",
       "      <td>1416</td>\n",
       "      <td>231</td>\n",
       "      <td>97.857636</td>\n",
       "      <td>98.297872</td>\n",
       "      <td>-5.0</td>\n",
       "      <td>-0.021186</td>\n",
       "      <td>-0.021186</td>\n",
       "      <td>-4.0</td>\n",
       "      <td>-0.017021</td>\n",
       "      <td>0.002829</td>\n",
       "      <td>-0.021414</td>\n",
       "    </tr>\n",
       "    <tr>\n",
       "      <th>2008-01-08</th>\n",
       "      <td>1390</td>\n",
       "      <td>230</td>\n",
       "      <td>96.060815</td>\n",
       "      <td>97.872340</td>\n",
       "      <td>-1.0</td>\n",
       "      <td>-0.004329</td>\n",
       "      <td>-0.004329</td>\n",
       "      <td>-5.0</td>\n",
       "      <td>-0.021277</td>\n",
       "      <td>-0.018532</td>\n",
       "      <td>-0.004338</td>\n",
       "    </tr>\n",
       "  </tbody>\n",
       "</table>\n",
       "</div>"
      ],
      "text/plain": [
       "              sp  kospi       sp지수화    kospi지수화  kospi일간변동가  kospi일간변동률  \\\n",
       "Date                                                                      \n",
       "2008-01-02  1447    235  100.000000  100.000000         NaN         NaN   \n",
       "2008-01-03  1447    235  100.000000  100.000000         0.0    0.000000   \n",
       "2008-01-04  1412    236   97.581202  100.425532         1.0    0.004255   \n",
       "2008-01-07  1416    231   97.857636   98.297872        -5.0   -0.021186   \n",
       "2008-01-08  1390    230   96.060815   97.872340        -1.0   -0.004329   \n",
       "\n",
       "            kospi지수화_일간변동률  kospi누적일간변동가  kospi누적일간변동률   sp로그수익률  kospi로그수익률  \n",
       "Date                                                                          \n",
       "2008-01-02             NaN           NaN           NaN       NaN         NaN  \n",
       "2008-01-03        0.000000           0.0      0.000000  0.000000    0.000000  \n",
       "2008-01-04        0.004255           1.0      0.004255 -0.024485    0.004246  \n",
       "2008-01-07       -0.021186          -4.0     -0.017021  0.002829   -0.021414  \n",
       "2008-01-08       -0.004329          -5.0     -0.021277 -0.018532   -0.004338  "
      ]
     },
     "execution_count": 30,
     "metadata": {},
     "output_type": "execute_result"
    }
   ],
   "source": [
    "# cpdf['kospi로그수익률']    = np.log(1+ cpdf['kospi'].pct_change() ) \n",
    "cpdf[['sp로그수익률','kospi로그수익률']]    = np.log(1+ cpdf[['sp','kospi']].pct_change() ) \n",
    "cpdf.head()"
   ]
  },
  {
   "cell_type": "code",
   "execution_count": 31,
   "id": "7d333b00-9266-4584-a7e3-0c240f920628",
   "metadata": {
    "tags": []
   },
   "outputs": [
    {
     "data": {
      "text/html": [
       "<div>\n",
       "<style scoped>\n",
       "    .dataframe tbody tr th:only-of-type {\n",
       "        vertical-align: middle;\n",
       "    }\n",
       "\n",
       "    .dataframe tbody tr th {\n",
       "        vertical-align: top;\n",
       "    }\n",
       "\n",
       "    .dataframe thead th {\n",
       "        text-align: right;\n",
       "    }\n",
       "</style>\n",
       "<table border=\"1\" class=\"dataframe\">\n",
       "  <thead>\n",
       "    <tr style=\"text-align: right;\">\n",
       "      <th></th>\n",
       "      <th>sp</th>\n",
       "      <th>kospi</th>\n",
       "      <th>sp지수화</th>\n",
       "      <th>kospi지수화</th>\n",
       "      <th>kospi일간변동가</th>\n",
       "      <th>kospi일간변동률</th>\n",
       "      <th>kospi지수화_일간변동률</th>\n",
       "      <th>kospi누적일간변동가</th>\n",
       "      <th>kospi누적일간변동률</th>\n",
       "      <th>sp로그수익률</th>\n",
       "      <th>kospi로그수익률</th>\n",
       "      <th>kospi누적로그수익률</th>\n",
       "    </tr>\n",
       "    <tr>\n",
       "      <th>Date</th>\n",
       "      <th></th>\n",
       "      <th></th>\n",
       "      <th></th>\n",
       "      <th></th>\n",
       "      <th></th>\n",
       "      <th></th>\n",
       "      <th></th>\n",
       "      <th></th>\n",
       "      <th></th>\n",
       "      <th></th>\n",
       "      <th></th>\n",
       "      <th></th>\n",
       "    </tr>\n",
       "  </thead>\n",
       "  <tbody>\n",
       "    <tr>\n",
       "      <th>2008-01-02</th>\n",
       "      <td>1447</td>\n",
       "      <td>235</td>\n",
       "      <td>100.000000</td>\n",
       "      <td>100.000000</td>\n",
       "      <td>NaN</td>\n",
       "      <td>NaN</td>\n",
       "      <td>NaN</td>\n",
       "      <td>NaN</td>\n",
       "      <td>NaN</td>\n",
       "      <td>NaN</td>\n",
       "      <td>NaN</td>\n",
       "      <td>NaN</td>\n",
       "    </tr>\n",
       "    <tr>\n",
       "      <th>2008-01-03</th>\n",
       "      <td>1447</td>\n",
       "      <td>235</td>\n",
       "      <td>100.000000</td>\n",
       "      <td>100.000000</td>\n",
       "      <td>0.0</td>\n",
       "      <td>0.000000</td>\n",
       "      <td>0.000000</td>\n",
       "      <td>0.0</td>\n",
       "      <td>0.000000</td>\n",
       "      <td>0.000000</td>\n",
       "      <td>0.000000</td>\n",
       "      <td>0.000000</td>\n",
       "    </tr>\n",
       "    <tr>\n",
       "      <th>2008-01-04</th>\n",
       "      <td>1412</td>\n",
       "      <td>236</td>\n",
       "      <td>97.581202</td>\n",
       "      <td>100.425532</td>\n",
       "      <td>1.0</td>\n",
       "      <td>0.004255</td>\n",
       "      <td>0.004255</td>\n",
       "      <td>1.0</td>\n",
       "      <td>0.004255</td>\n",
       "      <td>-0.024485</td>\n",
       "      <td>0.004246</td>\n",
       "      <td>0.004246</td>\n",
       "    </tr>\n",
       "    <tr>\n",
       "      <th>2008-01-07</th>\n",
       "      <td>1416</td>\n",
       "      <td>231</td>\n",
       "      <td>97.857636</td>\n",
       "      <td>98.297872</td>\n",
       "      <td>-5.0</td>\n",
       "      <td>-0.021186</td>\n",
       "      <td>-0.021186</td>\n",
       "      <td>-4.0</td>\n",
       "      <td>-0.017021</td>\n",
       "      <td>0.002829</td>\n",
       "      <td>-0.021414</td>\n",
       "      <td>-0.017168</td>\n",
       "    </tr>\n",
       "    <tr>\n",
       "      <th>2008-01-08</th>\n",
       "      <td>1390</td>\n",
       "      <td>230</td>\n",
       "      <td>96.060815</td>\n",
       "      <td>97.872340</td>\n",
       "      <td>-1.0</td>\n",
       "      <td>-0.004329</td>\n",
       "      <td>-0.004329</td>\n",
       "      <td>-5.0</td>\n",
       "      <td>-0.021277</td>\n",
       "      <td>-0.018532</td>\n",
       "      <td>-0.004338</td>\n",
       "      <td>-0.021506</td>\n",
       "    </tr>\n",
       "  </tbody>\n",
       "</table>\n",
       "</div>"
      ],
      "text/plain": [
       "              sp  kospi       sp지수화    kospi지수화  kospi일간변동가  kospi일간변동률  \\\n",
       "Date                                                                      \n",
       "2008-01-02  1447    235  100.000000  100.000000         NaN         NaN   \n",
       "2008-01-03  1447    235  100.000000  100.000000         0.0    0.000000   \n",
       "2008-01-04  1412    236   97.581202  100.425532         1.0    0.004255   \n",
       "2008-01-07  1416    231   97.857636   98.297872        -5.0   -0.021186   \n",
       "2008-01-08  1390    230   96.060815   97.872340        -1.0   -0.004329   \n",
       "\n",
       "            kospi지수화_일간변동률  kospi누적일간변동가  kospi누적일간변동률   sp로그수익률  kospi로그수익률  \\\n",
       "Date                                                                           \n",
       "2008-01-02             NaN           NaN           NaN       NaN         NaN   \n",
       "2008-01-03        0.000000           0.0      0.000000  0.000000    0.000000   \n",
       "2008-01-04        0.004255           1.0      0.004255 -0.024485    0.004246   \n",
       "2008-01-07       -0.021186          -4.0     -0.017021  0.002829   -0.021414   \n",
       "2008-01-08       -0.004329          -5.0     -0.021277 -0.018532   -0.004338   \n",
       "\n",
       "            kospi누적로그수익률  \n",
       "Date                      \n",
       "2008-01-02           NaN  \n",
       "2008-01-03      0.000000  \n",
       "2008-01-04      0.004246  \n",
       "2008-01-07     -0.017168  \n",
       "2008-01-08     -0.021506  "
      ]
     },
     "execution_count": 31,
     "metadata": {},
     "output_type": "execute_result"
    }
   ],
   "source": [
    "cpdf['kospi누적로그수익률'] = np.log( 1+cpdf['kospi'].pct_change() ).cumsum() \n",
    "cpdf.head()"
   ]
  },
  {
   "cell_type": "markdown",
   "id": "98f71579-f23f-4fac-b11e-9c9621f32e90",
   "metadata": {
    "tags": []
   },
   "source": [
    "## 포트폴리오 기대수익률(expected return)\n",
    "* <font color=red><b>포트폴리오의 각 자산에 대한 예상 수익률의 가중평균(기하평균) -> np.log(x)의 평균    \n",
    "* 과거 수익률을 바탕으로 미래 수익률을 추정한 값\n",
    "* 일반적으로 로그 수익률을 많이 활용\n",
    "    * $로그수익률=\\ln (\\frac{나중\\, \\, 주가}{처음\\, \\, 주가}) = np.log(1+r)$\n",
    "    * r = (현재가격 - 이전가격) / 이전가격\n",
    "    * <font color=red><b>기하평균 : f(n) = ln x일 때의 일반화된 f-평균\n",
    "<img width=400 src=\"http://www.dentalnews.or.kr/data/photos/20210414/art_16178427616153_62e095.jpg\">\n"
   ]
  },
  {
   "cell_type": "markdown",
   "id": "01a531c1-eb1c-4745-a994-91803d0e13e5",
   "metadata": {},
   "source": [
    "* 기대수익률 : 로그의 기하평균(log.mean())\n",
    "* 포트폴리오 기대수익률\n",
    "    * 각 자산별로 기대수익률에 비중을 내적해서 계산(기대수익률*가중치)\n",
    "    * v.dot(w) -->  $v\\, ⋅\\, w=1\\times 4+2\\times 5+3\\times 6$"
   ]
  },
  {
   "cell_type": "markdown",
   "id": "e663d871-6aff-474d-8a08-203d9bace15b",
   "metadata": {},
   "source": [
    "* <font color=red size=4><b>포트폴리오 기대수익률(기하평균)</b></font> \n",
    "    * == <b><font color=blue size=4>로그수익률</font> .mean()</b>\n",
    "    * == <b><font color=blue size=4>log(1+가격.pct_change())</font>.mean()</b>"
   ]
  },
  {
   "cell_type": "code",
   "execution_count": 32,
   "id": "ecb8c470-d5c3-450f-99e9-03c156dc28eb",
   "metadata": {
    "tags": []
   },
   "outputs": [
    {
     "data": {
      "text/plain": [
       "sp       0.000242\n",
       "kospi    0.000127\n",
       "dtype: float64"
      ]
     },
     "execution_count": 32,
     "metadata": {},
     "output_type": "execute_result"
    }
   ],
   "source": [
    "r = cpdf[['sp','kospi']].pct_change()\n",
    "np.log( 1+r ).mean() "
   ]
  },
  {
   "cell_type": "code",
   "execution_count": 33,
   "id": "dbb8f252-e870-4e1c-bf4e-95c46529683c",
   "metadata": {
    "tags": []
   },
   "outputs": [
    {
     "data": {
      "text/plain": [
       "sp로그수익률       0.000242\n",
       "kospi로그수익률    0.000127\n",
       "dtype: float64"
      ]
     },
     "execution_count": 33,
     "metadata": {},
     "output_type": "execute_result"
    }
   ],
   "source": [
    "cpdf[['sp로그수익률','kospi로그수익률']].mean() "
   ]
  },
  {
   "cell_type": "markdown",
   "id": "b8e6d681-a8a6-4faf-a47f-7669c434bfc3",
   "metadata": {},
   "source": [
    "* ret_df\n",
    "<pre>\n",
    "r = cpdf[['sp','kospi']].pct_change()\n",
    "ret_df = np.log(1+ r)"
   ]
  },
  {
   "cell_type": "code",
   "execution_count": 34,
   "id": "544597d0-c12c-410b-bce6-e89048fc75d3",
   "metadata": {
    "tags": []
   },
   "outputs": [
    {
     "data": {
      "text/plain": [
       "sp       0.000242\n",
       "kospi    0.000127\n",
       "dtype: float64"
      ]
     },
     "execution_count": 34,
     "metadata": {},
     "output_type": "execute_result"
    }
   ],
   "source": [
    "r = cpdf[['sp','kospi']].pct_change()\n",
    "ret_df = np.log(1+ r)\n",
    "ret_df.mean()"
   ]
  },
  {
   "cell_type": "markdown",
   "id": "369b2f5f-5da1-4383-b235-137b4b42912d",
   "metadata": {
    "tags": []
   },
   "source": [
    "* 년간 기대수익률 == 일간 기대수익률 * 252 "
   ]
  },
  {
   "cell_type": "code",
   "execution_count": 35,
   "id": "d030ae74-f14b-4ed5-bfc8-6eefc86f73a2",
   "metadata": {
    "tags": []
   },
   "outputs": [
    {
     "data": {
      "text/plain": [
       "sp로그수익률       0.060891\n",
       "kospi로그수익률    0.031880\n",
       "dtype: float64"
      ]
     },
     "execution_count": 35,
     "metadata": {},
     "output_type": "execute_result"
    }
   ],
   "source": [
    "cpdf[['sp로그수익률','kospi로그수익률']].mean()  * 252"
   ]
  },
  {
   "cell_type": "code",
   "execution_count": 36,
   "id": "9792f3e6-0024-4f5d-b15e-e860b71da3e3",
   "metadata": {
    "tags": []
   },
   "outputs": [
    {
     "data": {
      "text/plain": [
       "sp       0.060891\n",
       "kospi    0.031880\n",
       "dtype: float64"
      ]
     },
     "execution_count": 36,
     "metadata": {},
     "output_type": "execute_result"
    }
   ],
   "source": [
    "ret_df.mean() * 252 "
   ]
  },
  {
   "cell_type": "markdown",
   "id": "99d8240e-9a35-4d26-b779-4f9a427d53d2",
   "metadata": {},
   "source": [
    "* 포트폴리오 연간 기대수익률 : (ret_df.mean() * 252).values"
   ]
  },
  {
   "cell_type": "code",
   "execution_count": 37,
   "id": "aeba882c-53e7-4747-8ee4-e9c1ba4193c0",
   "metadata": {
    "tags": []
   },
   "outputs": [
    {
     "name": "stdout",
     "output_type": "stream",
     "text": [
      "0.040583430971053415\n"
     ]
    }
   ],
   "source": [
    "w = [0.3, 0.7]\n",
    "er = cpdf[['sp로그수익률','kospi로그수익률']].mean()  * 252\n",
    "print( np.dot(er, w) )"
   ]
  },
  {
   "cell_type": "code",
   "execution_count": 38,
   "id": "fb53f81d-3c13-4e92-bac7-e9d81d591d04",
   "metadata": {
    "tags": []
   },
   "outputs": [
    {
     "name": "stdout",
     "output_type": "stream",
     "text": [
      "0.052188028289843605\n"
     ]
    }
   ],
   "source": [
    "w = [0.7, 0.3]\n",
    "er = cpdf[['sp로그수익률','kospi로그수익률']].mean()  * 252\n",
    "print( np.dot(er, w) )"
   ]
  },
  {
   "cell_type": "markdown",
   "id": "01eb9ec8-c9da-48f8-86c2-32afa337c803",
   "metadata": {
    "tags": []
   },
   "source": [
    "## 포트폴리오 리스크\n",
    "* 리스크 : df['sp'].std()\n",
    "* 포트폴리오 리스크\n",
    "    * 공분산행렬을 이용 여러 종목의 리스크를 계산\n",
    "    * np.dot(np.dot(df.cov(), W), W.T)\n",
    "    * $\\left[\\begin{matrix}VAR[S_1]&COV[S_1,S_2]&\\cdots &COV[S_1,S_N]\\\\COV[S_2,S_1]&VAR[S_2]&\\cdots &COV[S_2,S_N]\\\\\\vdots &\\vdots &\\ddots &\\vdots \\\\COV[S_N,S_1]&COV[S_N,S_2]&\\cdots &VAR[S_N]\\end{matrix}\\right]$\n",
    "\n",
    "    * <font color=red><b>$\\sigma _p^2=\\omega \\ C\\ \\omega ^{\\top }$"
   ]
  },
  {
   "cell_type": "markdown",
   "id": "28ac99da-1019-456a-8765-dc08e8d66eba",
   "metadata": {},
   "source": [
    "* 일간 리스크 \n",
    "* == np.log(1+ r).std() == 로그수익률.std() == ret_df.std()"
   ]
  },
  {
   "cell_type": "code",
   "execution_count": 39,
   "id": "f7afac14-c906-4e4f-9372-31d777ae022a",
   "metadata": {
    "tags": []
   },
   "outputs": [
    {
     "data": {
      "text/plain": [
       "sp       0.012765\n",
       "kospi    0.012869\n",
       "dtype: float64"
      ]
     },
     "execution_count": 39,
     "metadata": {},
     "output_type": "execute_result"
    }
   ],
   "source": [
    "r = cpdf[['sp','kospi']].pct_change()\n",
    "# ret_df = np.log(1+ r)\n",
    "np.log(1+ r).std()"
   ]
  },
  {
   "cell_type": "code",
   "execution_count": 40,
   "id": "a1c5963d-4cbc-49be-ab4e-dc6ae212bf4e",
   "metadata": {
    "tags": []
   },
   "outputs": [
    {
     "data": {
      "text/plain": [
       "sp로그수익률       0.012765\n",
       "kospi로그수익률    0.012869\n",
       "dtype: float64"
      ]
     },
     "execution_count": 40,
     "metadata": {},
     "output_type": "execute_result"
    }
   ],
   "source": [
    "cpdf[['sp로그수익률','kospi로그수익률']].std()"
   ]
  },
  {
   "cell_type": "code",
   "execution_count": 41,
   "id": "f57a02c9-d528-42d6-a535-3f36776cfbeb",
   "metadata": {
    "tags": []
   },
   "outputs": [
    {
     "data": {
      "text/plain": [
       "sp       0.012765\n",
       "kospi    0.012869\n",
       "dtype: float64"
      ]
     },
     "execution_count": 41,
     "metadata": {},
     "output_type": "execute_result"
    }
   ],
   "source": [
    "r = cpdf[['sp','kospi']].pct_change()\n",
    "ret_df = np.log(1+ r)\n",
    "ret_df.std() "
   ]
  },
  {
   "cell_type": "code",
   "execution_count": 42,
   "id": "6c279f75-0494-4134-a177-806bd7fbb4e6",
   "metadata": {},
   "outputs": [
    {
     "name": "stdout",
     "output_type": "stream",
     "text": [
      "             sp     kospi\n",
      "sp     0.000163  0.000036\n",
      "kospi  0.000036  0.000166\n",
      "             sp     kospi\n",
      "sp     0.012765  0.006025\n",
      "kospi  0.006025  0.012869\n"
     ]
    }
   ],
   "source": [
    "r = cpdf[['sp','kospi']].pct_change() \n",
    "# ret_df = np.log(1+ r)\n",
    "print( np.log(1+ r).cov() )                #공분산행렬\n",
    "print( np.sqrt(np.log(1+ r).cov()) )       #표준편차"
   ]
  },
  {
   "cell_type": "code",
   "execution_count": 43,
   "id": "e11f054b-7b8a-436c-90e3-d3251c7babe8",
   "metadata": {
    "tags": []
   },
   "outputs": [
    {
     "name": "stdout",
     "output_type": "stream",
     "text": [
      "공분산행렬의 분산제곱:\n",
      " 0.012764699929098233 0.012869023796732885\n",
      "로그수익률 표준편차:\n",
      " [0.0127647  0.01286902]\n"
     ]
    }
   ],
   "source": [
    "cov_df = ret_df.cov()\n",
    "print(\"공분산행렬의 분산제곱:\\n\",  np.sqrt(cov_df.iloc[0,0]), np.sqrt(cov_df.iloc[1,1])  )\n",
    "print(\"로그수익률 표준편차:\\n\",  ret_df.std().values )  "
   ]
  },
  {
   "cell_type": "markdown",
   "id": "3ccf4d51-606c-4838-bcca-be4b4ff3a844",
   "metadata": {},
   "source": [
    "* 년간 리스크 : ret_df.std() * np.sqrt(252)"
   ]
  },
  {
   "cell_type": "code",
   "execution_count": 44,
   "id": "b9a69feb-62a2-44b2-8c06-36882bff367b",
   "metadata": {
    "tags": []
   },
   "outputs": [
    {
     "data": {
      "text/plain": [
       "sp       0.202633\n",
       "kospi    0.204289\n",
       "dtype: float64"
      ]
     },
     "execution_count": 44,
     "metadata": {},
     "output_type": "execute_result"
    }
   ],
   "source": [
    "r = cpdf[['sp','kospi']].pct_change()\n",
    "# ret_df = np.log(1+ r)\n",
    "np.log(1+ r).std() *  np.sqrt(252)"
   ]
  },
  {
   "cell_type": "code",
   "execution_count": 45,
   "id": "fa07b186-9668-45ba-8554-6e5aa29815f6",
   "metadata": {
    "tags": []
   },
   "outputs": [
    {
     "data": {
      "text/plain": [
       "sp로그수익률       0.202633\n",
       "kospi로그수익률    0.204289\n",
       "dtype: float64"
      ]
     },
     "execution_count": 45,
     "metadata": {},
     "output_type": "execute_result"
    }
   ],
   "source": [
    "cpdf[['sp로그수익률','kospi로그수익률']].std()  * np.sqrt(252)"
   ]
  },
  {
   "cell_type": "code",
   "execution_count": 46,
   "id": "a48d2f1e-d6f4-4893-89c1-cef12ec866e6",
   "metadata": {
    "tags": []
   },
   "outputs": [
    {
     "data": {
      "text/plain": [
       "sp       0.202633\n",
       "kospi    0.204289\n",
       "dtype: float64"
      ]
     },
     "execution_count": 46,
     "metadata": {},
     "output_type": "execute_result"
    }
   ],
   "source": [
    "r = cpdf[['sp','kospi']].pct_change()\n",
    "ret_df = np.log(1+ r)\n",
    "ret_df.std() * np.sqrt(252)"
   ]
  },
  {
   "cell_type": "code",
   "execution_count": 47,
   "id": "7166b509-ffa7-4d85-ade3-d70943fd9dc8",
   "metadata": {
    "tags": []
   },
   "outputs": [
    {
     "data": {
      "text/html": [
       "<div>\n",
       "<style scoped>\n",
       "    .dataframe tbody tr th:only-of-type {\n",
       "        vertical-align: middle;\n",
       "    }\n",
       "\n",
       "    .dataframe tbody tr th {\n",
       "        vertical-align: top;\n",
       "    }\n",
       "\n",
       "    .dataframe thead th {\n",
       "        text-align: right;\n",
       "    }\n",
       "</style>\n",
       "<table border=\"1\" class=\"dataframe\">\n",
       "  <thead>\n",
       "    <tr style=\"text-align: right;\">\n",
       "      <th></th>\n",
       "      <th>sp</th>\n",
       "      <th>kospi</th>\n",
       "    </tr>\n",
       "  </thead>\n",
       "  <tbody>\n",
       "    <tr>\n",
       "      <th>sp</th>\n",
       "      <td>0.202633</td>\n",
       "      <td>0.095647</td>\n",
       "    </tr>\n",
       "    <tr>\n",
       "      <th>kospi</th>\n",
       "      <td>0.095647</td>\n",
       "      <td>0.204289</td>\n",
       "    </tr>\n",
       "  </tbody>\n",
       "</table>\n",
       "</div>"
      ],
      "text/plain": [
       "             sp     kospi\n",
       "sp     0.202633  0.095647\n",
       "kospi  0.095647  0.204289"
      ]
     },
     "execution_count": 47,
     "metadata": {},
     "output_type": "execute_result"
    }
   ],
   "source": [
    "np.sqrt(ret_df.cov()*252)"
   ]
  },
  {
   "cell_type": "markdown",
   "id": "c8eb7604-b94d-4f06-9a04-41e42d0adadc",
   "metadata": {},
   "source": [
    "* <font color=red><b>포트폴리오 가중치 적용 - 년간 리스크\n",
    "    * <font color=red><b>$\\sigma _p^2=\\omega \\ C\\ \\omega ^{\\top }$"
   ]
  },
  {
   "cell_type": "code",
   "execution_count": 48,
   "id": "3f03202e-f572-495a-acdd-3248c35e2af0",
   "metadata": {
    "tags": []
   },
   "outputs": [
    {
     "name": "stdout",
     "output_type": "stream",
     "text": [
      "[0.04106027 0.00914836]\n"
     ]
    },
    {
     "data": {
      "text/plain": [
       "0.20263332943654644"
      ]
     },
     "execution_count": 48,
     "metadata": {},
     "output_type": "execute_result"
    }
   ],
   "source": [
    "w = np.array([1.0, 0])\n",
    "C = ret_df.cov()*252\n",
    "print(   np.dot(w, C) ) \n",
    "portfolio_var = np.dot( np.dot(w, C) , w.T) \n",
    "portfolio_std = np.sqrt(portfolio_var)\n",
    "portfolio_std"
   ]
  },
  {
   "cell_type": "code",
   "execution_count": 49,
   "id": "03f91dee-0d99-412f-a62e-beb5944b591b",
   "metadata": {
    "tags": []
   },
   "outputs": [
    {
     "name": "stdout",
     "output_type": "stream",
     "text": [
      "[0.00914836 0.04173417]\n"
     ]
    },
    {
     "data": {
      "text/plain": [
       "0.20428941949396467"
      ]
     },
     "execution_count": 49,
     "metadata": {},
     "output_type": "execute_result"
    }
   ],
   "source": [
    "w = np.array([0, 1.0])\n",
    "C = ret_df.cov()*252\n",
    "print(   np.dot(w, C) ) \n",
    "portfolio_var = np.dot( np.dot(w, C) , w.T) \n",
    "portfolio_std = np.sqrt(portfolio_var)\n",
    "portfolio_std"
   ]
  },
  {
   "cell_type": "code",
   "execution_count": 50,
   "id": "646efdbc-35f5-4f1a-ac76-c70931d8f648",
   "metadata": {
    "tags": []
   },
   "outputs": [
    {
     "name": "stdout",
     "output_type": "stream",
     "text": [
      "[0.02510432 0.02544127]\n"
     ]
    },
    {
     "data": {
      "text/plain": [
       "0.15897418138113267"
      ]
     },
     "execution_count": 50,
     "metadata": {},
     "output_type": "execute_result"
    }
   ],
   "source": [
    "w = np.array([0.5, 0.5])\n",
    "C = ret_df.cov()*252\n",
    "print(   np.dot(w, C) ) \n",
    "portfolio_var = np.dot( np.dot(w, C) , w.T) \n",
    "portfolio_std = np.sqrt(portfolio_var)\n",
    "portfolio_std"
   ]
  },
  {
   "cell_type": "markdown",
   "id": "ae78ef28-bcce-4a93-8daa-dad7bf74b001",
   "metadata": {
    "tags": []
   },
   "source": [
    "## 포트폴리오 성과지표\n",
    "* <font color=red><b>샤프지수(Sharpe index) </b></font>\n",
    "    * (기대수익률 - 벤치마크수익률)의 기대값을 (기대수익률 - 벤치마크수익률)의 표준편차로 나눈 것\n",
    "    * <b>(수익률-무위험수익률) / 리스크  --> <font color=red>수익률/표준편차</font></b>\n",
    "    * <font color=red><b>샤프지수가 높다 == 수익률이 높다 == 위험이 적다 == 더 좋은 포트폴리오"
   ]
  },
  {
   "cell_type": "code",
   "execution_count": 51,
   "id": "33a3e0fb-5f39-437f-a8cf-9b8596893c34",
   "metadata": {
    "tags": []
   },
   "outputs": [],
   "source": [
    "r = cpdf[['sp','kospi']].pct_change()\n"
   ]
  },
  {
   "cell_type": "code",
   "execution_count": 54,
   "id": "aac33c3f-11ab-4a14-92af-0e8d5fc98f3f",
   "metadata": {
    "tags": []
   },
   "outputs": [
    {
     "data": {
      "text/plain": [
       "0.1560530303572702"
      ]
     },
     "execution_count": 54,
     "metadata": {},
     "output_type": "execute_result"
    }
   ],
   "source": [
    "w = np.array([1.0, 0])  #0.30\n",
    "w = np.array([0, 1.0])  #0.15\n",
    "r = cpdf[['sp','kospi']].pct_change()\n",
    "연간기대수익률 = np.log(1+ r).mean() * 252\n",
    "returns_평균 = np.dot(w, 연간기대수익률) \n",
    "\n",
    "연간공분산행렬 = np.log(1+ r).cov() * 252\n",
    "risk_편차    = np.sqrt(np.dot(w.T, np.dot(연간공분산행렬, w))) \n",
    "sharp   =  returns_평균 / risk_편차\n",
    "sharp   # 샤프지수가 높다 == 수익률이 높다 == 위험이 적다 == 더 좋은 포트폴리오"
   ]
  }
 ],
 "metadata": {
  "kernelspec": {
   "display_name": "Python 3 (ipykernel)",
   "language": "python",
   "name": "python3"
  },
  "language_info": {
   "codemirror_mode": {
    "name": "ipython",
    "version": 3
   },
   "file_extension": ".py",
   "mimetype": "text/x-python",
   "name": "python",
   "nbconvert_exporter": "python",
   "pygments_lexer": "ipython3",
   "version": "3.8.8"
  },
  "toc-autonumbering": true
 },
 "nbformat": 4,
 "nbformat_minor": 5
}

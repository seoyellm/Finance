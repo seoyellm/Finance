{
 "cells": [
  {
   "cell_type": "code",
   "execution_count": null,
   "id": "7c875be3-a4f5-4a88-8c8d-afea563d19f0",
   "metadata": {},
   "outputs": [],
   "source": [
    "기준금리 \n",
    "대출금리 (양 & 이율) 시장 유동성 \n",
    "\n",
    "\n",
    "환율\n",
    "주가\n",
    "채권\n",
    "외환보유고\n",
    "수출입-원자재\n",
    "생산자물가지수\n",
    "부동산"
   ]
  },
  {
   "cell_type": "code",
   "execution_count": null,
   "id": "b36f2b87-6890-40df-8df1-16126ee62946",
   "metadata": {},
   "outputs": [],
   "source": [
    "여수신금리\n",
    "- 예금은행 수신금리\n",
    "- 예금은행 대출금리\n",
    "\n",
    "예금/대출금\n",
    "- 예금은행총예금(말잔)\n",
    "- 예금은행대출금(말잔)\n",
    "- 가계신용\n",
    "- 가계대출연체율 "
   ]
  },
  {
   "cell_type": "code",
   "execution_count": null,
   "id": "fe663a07-74fa-4fe4-8a22-4e814115c20d",
   "metadata": {},
   "outputs": [],
   "source": [
    "콜금리"
   ]
  },
  {
   "cell_type": "code",
   "execution_count": null,
   "id": "14a0a9f0-b840-4722-8ffb-9354c218b85a",
   "metadata": {},
   "outputs": [],
   "source": [
    "[금리] \n",
    "    \n",
    "COFIX (Cost of Funds Index) 자금 조달 비용 지수  (8개 은행)\n",
    "자금 조달 방법\n",
    "- 적금, 부금, 금융채, 환매조건부채권, 어음 등\n",
    "\n",
    "KORIBOR (Korea Inter-Bank Offered Rate) 은행의 콜 금리\n",
    "은행 간 대차 시장에서의 단기 기준 금리 "
   ]
  },
  {
   "cell_type": "code",
   "execution_count": null,
   "id": "7decb986-f174-48e9-ae76-4dd23d07c3f6",
   "metadata": {},
   "outputs": [],
   "source": [
    "대출금리 = 기준금리(만기시 시장금리) + 가산금리 - 우대금리\n",
    "가산금리 = 기준금리 + a\n",
    "\n",
    "고정금리 : 금리상승시\n",
    "변동금리(시장 risk 적용) : 금리하락시\n",
    "\n",
    "우대금리(Prime Rate) : 신용도가 높은 기업에 대출할 때 적용하는 금리\n",
    "가산금리(Spread Rate) : 대출자의 신용에 따라 금융기관 수수료를 추가해 결정"
   ]
  },
  {
   "cell_type": "code",
   "execution_count": null,
   "id": "1f20aa48-0d24-473a-b7f1-4528802aa1d2",
   "metadata": {},
   "outputs": [],
   "source": [
    "[콜금리] \n",
    "금융기관 상호간의 극히 단기의 자금대차인 콜에 대한 이자율\n",
    "\n",
    "\n",
    "[기준금리]\n",
    "2023년 3월\n",
    "\n"
   ]
  },
  {
   "cell_type": "code",
   "execution_count": null,
   "id": "2694a1d0-1fe2-4f86-bda1-30102991276c",
   "metadata": {},
   "outputs": [],
   "source": [
    "1) 1.3.1. 한국은행 기준금리 및 여수신금리\n",
    "통계담당 : \n",
    "한국은행 통화정책국 정책총괄팀(02-759-4679)\n",
    "\n",
    "주 : \n",
    "1) 한국은행 기준금리의 경우 2008년 2월까지는 콜금리목표, 2008.3월부터는 한국은행 기준금리\n",
    "2) 총액한도대출금리의 경우 2013.4.11일 이후 지원부문별로 대출금리 차등화\n",
    "3) 2023년 통화정책방향 결정회의 개최 예정일: 1.13(금), 2.23(목), 4.11(화), 5.25(목), 7.13(목), 8.24(목), 10.19(목), 11.30(목)\n",
    "2) 1.3.2.2. 시장금리(월,분기,년)\n",
    "통계담당 : \n",
    "한국은행 금융시장국 채권시장팀(02-759-5630), 자금시장팀(02-759-4522)\n",
    "\n",
    "주 : \n",
    "1) 월평균(영업일기준)\n",
    "2) 국고채(30년) : 2012.9월부터 발행\n",
    "3) 통안증권(1년) : 2011.5.1부터 364일물(할인채)에서 1년물(이표채)로 고시기준 변경"
   ]
  }
 ],
 "metadata": {
  "kernelspec": {
   "display_name": "Python 3 (ipykernel)",
   "language": "python",
   "name": "python3"
  },
  "language_info": {
   "codemirror_mode": {
    "name": "ipython",
    "version": 3
   },
   "file_extension": ".py",
   "mimetype": "text/x-python",
   "name": "python",
   "nbconvert_exporter": "python",
   "pygments_lexer": "ipython3",
   "version": "3.8.8"
  }
 },
 "nbformat": 4,
 "nbformat_minor": 5
}

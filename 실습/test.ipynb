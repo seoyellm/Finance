{
 "cells": [
  {
   "cell_type": "code",
   "execution_count": null,
   "id": "0b5e941e-6755-4191-b7c5-e1c0e9da3883",
   "metadata": {},
   "outputs": [],
   "source": []
  },
  {
   "cell_type": "code",
   "execution_count": 1,
   "id": "f6e9e78d-2668-491b-87a8-b6e55a3cd6d5",
   "metadata": {
    "tags": []
   },
   "outputs": [
    {
     "data": {
      "text/html": [
       "<style>.container{width:100% !important;}</style>"
      ],
      "text/plain": [
       "<IPython.core.display.HTML object>"
      ]
     },
     "metadata": {},
     "output_type": "display_data"
    }
   ],
   "source": [
    "from pykrx import stock\n",
    "from pykrx import bond\n",
    "import FinanceDataReader as fdr\n",
    "\n",
    "from IPython.display import Image\n",
    "import pandas as pd\n",
    "import numpy as np\n",
    "import matplotlib.pyplot as plt\n",
    "import seaborn as sns\n",
    "\n",
    "\n",
    "import warnings\n",
    "warnings.filterwarnings(action='ignore')\n",
    "\n",
    "#-------------------- 차트 관련 속성 (한글처리, 그리드) -----------\n",
    "sns.set()\n",
    "#plt.rc('font', family='NanumGothicOTF') # For MacOS\n",
    "plt.rcParams['font.family']= 'Malgun Gothic'\n",
    "plt.rcParams['axes.unicode_minus'] = False\n",
    "\n",
    "\n",
    "#-------------------- 주피터 , 출력결과 넓이 늘리기 ---------------\n",
    "from IPython.core.display import display, HTML\n",
    "display(HTML(\"<style>.container{width:100% !important;}</style>\"))\n",
    "pd.set_option('display.max_rows', 100)\n",
    "pd.set_option('display.max_columns', 100)\n",
    "pd.set_option('max_colwidth', None)\n",
    "\n"
   ]
  },
  {
   "cell_type": "markdown",
   "id": "dc475b1f-25eb-446d-8423-513ce7c2f452",
   "metadata": {},
   "source": [
    "# Data Load"
   ]
  },
  {
   "cell_type": "code",
   "execution_count": 2,
   "id": "664a1b68-b8ef-4cd2-be2d-f199a0622469",
   "metadata": {
    "tags": []
   },
   "outputs": [],
   "source": [
    "from pykrx import stock\n",
    "from pykrx import bond"
   ]
  },
  {
   "cell_type": "code",
   "execution_count": 3,
   "id": "1ff08d54-7093-4313-9a2c-cfd21689af8f",
   "metadata": {
    "tags": []
   },
   "outputs": [
    {
     "data": {
      "text/plain": [
       "['095570', '006840', '027410', '282330', '138930']"
      ]
     },
     "execution_count": 3,
     "metadata": {},
     "output_type": "execute_result"
    }
   ],
   "source": [
    "stock_ticker=stock.get_market_ticker_list(\"20200312\",market='KOSPI') #KOSPI, KOSDAQ, KONEX\n",
    "stock_ticker[:5]"
   ]
  },
  {
   "cell_type": "code",
   "execution_count": 4,
   "id": "c2c167c5-8b0c-41b5-8602-e8edf419411a",
   "metadata": {
    "tags": []
   },
   "outputs": [],
   "source": [
    "stock_name_list=[]\n",
    "for ticker in stock_ticker:\n",
    "    name=stock_name=stock.get_market_ticker_name(ticker)\n",
    "    stock_name_list.append(name)"
   ]
  },
  {
   "cell_type": "code",
   "execution_count": 5,
   "id": "43ba9058-c0f3-44de-afaf-6bc5649dc0dc",
   "metadata": {
    "tags": []
   },
   "outputs": [
    {
     "data": {
      "text/html": [
       "<div>\n",
       "<style scoped>\n",
       "    .dataframe tbody tr th:only-of-type {\n",
       "        vertical-align: middle;\n",
       "    }\n",
       "\n",
       "    .dataframe tbody tr th {\n",
       "        vertical-align: top;\n",
       "    }\n",
       "\n",
       "    .dataframe thead th {\n",
       "        text-align: right;\n",
       "    }\n",
       "</style>\n",
       "<table border=\"1\" class=\"dataframe\">\n",
       "  <thead>\n",
       "    <tr style=\"text-align: right;\">\n",
       "      <th></th>\n",
       "      <th>stock_ticker</th>\n",
       "      <th>stock_name</th>\n",
       "    </tr>\n",
       "  </thead>\n",
       "  <tbody>\n",
       "    <tr>\n",
       "      <th>0</th>\n",
       "      <td>095570</td>\n",
       "      <td>AJ네트웍스</td>\n",
       "    </tr>\n",
       "    <tr>\n",
       "      <th>1</th>\n",
       "      <td>006840</td>\n",
       "      <td>AK홀딩스</td>\n",
       "    </tr>\n",
       "    <tr>\n",
       "      <th>2</th>\n",
       "      <td>027410</td>\n",
       "      <td>BGF</td>\n",
       "    </tr>\n",
       "    <tr>\n",
       "      <th>3</th>\n",
       "      <td>282330</td>\n",
       "      <td>BGF리테일</td>\n",
       "    </tr>\n",
       "    <tr>\n",
       "      <th>4</th>\n",
       "      <td>138930</td>\n",
       "      <td>BNK금융지주</td>\n",
       "    </tr>\n",
       "  </tbody>\n",
       "</table>\n",
       "</div>"
      ],
      "text/plain": [
       "  stock_ticker stock_name\n",
       "0       095570     AJ네트웍스\n",
       "1       006840      AK홀딩스\n",
       "2       027410        BGF\n",
       "3       282330     BGF리테일\n",
       "4       138930    BNK금융지주"
      ]
     },
     "execution_count": 5,
     "metadata": {},
     "output_type": "execute_result"
    }
   ],
   "source": [
    "dic={'stock_ticker':stock_ticker,'stock_name':stock_name_list}\n",
    "stock_df=pd.DataFrame(dic)\n",
    "stock_df.head()"
   ]
  },
  {
   "cell_type": "code",
   "execution_count": 6,
   "id": "d43257f4-09cd-446a-a834-4a61399d33f6",
   "metadata": {
    "tags": []
   },
   "outputs": [],
   "source": [
    "# 20220103~20221229\n",
    "# df = stock.get_market_ohlcv(\"2022-03-09\", \"2022-03-13\", \"005930\")[['종가','등락률']]\n",
    "# df.head()"
   ]
  },
  {
   "cell_type": "code",
   "execution_count": 7,
   "id": "eeacace3-ecab-4887-a8f5-fdfebb4b4e56",
   "metadata": {
    "tags": []
   },
   "outputs": [],
   "source": [
    "# stock.get_market_ohlcv(\"2021-01-01\", \"2021-12-31\", \"005930\")['종가']"
   ]
  },
  {
   "cell_type": "code",
   "execution_count": 8,
   "id": "618b6c2a-67fe-455f-90bb-794fd553b745",
   "metadata": {},
   "outputs": [],
   "source": [
    "ohlcv_list=[]\n",
    "for i in stock_ticker[:5]:\n",
    "    ohlcv_list.append(stock.get_market_ohlcv(\"2021-01-01\", \"2021-12-31\", i)['종가'])\n",
    "    # print(ohlcv_list)"
   ]
  },
  {
   "cell_type": "code",
   "execution_count": 9,
   "id": "34bfbb5e-4cb6-42dc-a9b8-92499f59d5c0",
   "metadata": {},
   "outputs": [
    {
     "data": {
      "text/html": [
       "<div>\n",
       "<style scoped>\n",
       "    .dataframe tbody tr th:only-of-type {\n",
       "        vertical-align: middle;\n",
       "    }\n",
       "\n",
       "    .dataframe tbody tr th {\n",
       "        vertical-align: top;\n",
       "    }\n",
       "\n",
       "    .dataframe thead th {\n",
       "        text-align: right;\n",
       "    }\n",
       "</style>\n",
       "<table border=\"1\" class=\"dataframe\">\n",
       "  <thead>\n",
       "    <tr style=\"text-align: right;\">\n",
       "      <th></th>\n",
       "      <th>AJ네트웍스</th>\n",
       "      <th>AK홀딩스</th>\n",
       "      <th>BGF</th>\n",
       "      <th>BGF리테일</th>\n",
       "      <th>BNK금융지주</th>\n",
       "    </tr>\n",
       "    <tr>\n",
       "      <th>날짜</th>\n",
       "      <th></th>\n",
       "      <th></th>\n",
       "      <th></th>\n",
       "      <th></th>\n",
       "      <th></th>\n",
       "    </tr>\n",
       "  </thead>\n",
       "  <tbody>\n",
       "    <tr>\n",
       "      <th>2021-01-04</th>\n",
       "      <td>4580</td>\n",
       "      <td>25250</td>\n",
       "      <td>4990</td>\n",
       "      <td>132000</td>\n",
       "      <td>5560</td>\n",
       "    </tr>\n",
       "    <tr>\n",
       "      <th>2021-01-05</th>\n",
       "      <td>4935</td>\n",
       "      <td>25050</td>\n",
       "      <td>5030</td>\n",
       "      <td>134500</td>\n",
       "      <td>5580</td>\n",
       "    </tr>\n",
       "    <tr>\n",
       "      <th>2021-01-06</th>\n",
       "      <td>4710</td>\n",
       "      <td>24900</td>\n",
       "      <td>4970</td>\n",
       "      <td>134000</td>\n",
       "      <td>5570</td>\n",
       "    </tr>\n",
       "    <tr>\n",
       "      <th>2021-01-07</th>\n",
       "      <td>4695</td>\n",
       "      <td>25200</td>\n",
       "      <td>4930</td>\n",
       "      <td>136500</td>\n",
       "      <td>5780</td>\n",
       "    </tr>\n",
       "    <tr>\n",
       "      <th>2021-01-08</th>\n",
       "      <td>4540</td>\n",
       "      <td>25350</td>\n",
       "      <td>4905</td>\n",
       "      <td>141000</td>\n",
       "      <td>5780</td>\n",
       "    </tr>\n",
       "  </tbody>\n",
       "</table>\n",
       "</div>"
      ],
      "text/plain": [
       "            AJ네트웍스  AK홀딩스   BGF  BGF리테일  BNK금융지주\n",
       "날짜                                              \n",
       "2021-01-04    4580  25250  4990  132000     5560\n",
       "2021-01-05    4935  25050  5030  134500     5580\n",
       "2021-01-06    4710  24900  4970  134000     5570\n",
       "2021-01-07    4695  25200  4930  136500     5780\n",
       "2021-01-08    4540  25350  4905  141000     5780"
      ]
     },
     "execution_count": 9,
     "metadata": {},
     "output_type": "execute_result"
    }
   ],
   "source": [
    "ohlcv_df=pd.DataFrame(ohlcv_list)\n",
    "ohlcv_df=ohlcv_df.T\n",
    "ohlcv_df.columns=stock_name_list[:5]\n",
    "ohlcv_df.head()"
   ]
  },
  {
   "cell_type": "code",
   "execution_count": 10,
   "id": "baf3b0b4-372a-4441-a9e1-c1ef60e92b38",
   "metadata": {},
   "outputs": [],
   "source": [
    "ohlcv_df=ohlcv_df.pct_change()\n",
    "ohlcv_df.dropna(inplace=True,axis=0)"
   ]
  },
  {
   "cell_type": "code",
   "execution_count": 11,
   "id": "ab606b8c-d162-4fa9-b790-8dab4d528f3b",
   "metadata": {
    "tags": []
   },
   "outputs": [
    {
     "data": {
      "text/html": [
       "<div>\n",
       "<style scoped>\n",
       "    .dataframe tbody tr th:only-of-type {\n",
       "        vertical-align: middle;\n",
       "    }\n",
       "\n",
       "    .dataframe tbody tr th {\n",
       "        vertical-align: top;\n",
       "    }\n",
       "\n",
       "    .dataframe thead th {\n",
       "        text-align: right;\n",
       "    }\n",
       "</style>\n",
       "<table border=\"1\" class=\"dataframe\">\n",
       "  <thead>\n",
       "    <tr style=\"text-align: right;\">\n",
       "      <th></th>\n",
       "      <th>AJ네트웍스</th>\n",
       "      <th>AK홀딩스</th>\n",
       "      <th>BGF</th>\n",
       "      <th>BGF리테일</th>\n",
       "      <th>BNK금융지주</th>\n",
       "    </tr>\n",
       "    <tr>\n",
       "      <th>날짜</th>\n",
       "      <th></th>\n",
       "      <th></th>\n",
       "      <th></th>\n",
       "      <th></th>\n",
       "      <th></th>\n",
       "    </tr>\n",
       "  </thead>\n",
       "  <tbody>\n",
       "    <tr>\n",
       "      <th>2021-01-05</th>\n",
       "      <td>0.077511</td>\n",
       "      <td>-0.007921</td>\n",
       "      <td>0.008016</td>\n",
       "      <td>0.018939</td>\n",
       "      <td>0.003597</td>\n",
       "    </tr>\n",
       "    <tr>\n",
       "      <th>2021-01-06</th>\n",
       "      <td>-0.045593</td>\n",
       "      <td>-0.005988</td>\n",
       "      <td>-0.011928</td>\n",
       "      <td>-0.003717</td>\n",
       "      <td>-0.001792</td>\n",
       "    </tr>\n",
       "    <tr>\n",
       "      <th>2021-01-07</th>\n",
       "      <td>-0.003185</td>\n",
       "      <td>0.012048</td>\n",
       "      <td>-0.008048</td>\n",
       "      <td>0.018657</td>\n",
       "      <td>0.037702</td>\n",
       "    </tr>\n",
       "    <tr>\n",
       "      <th>2021-01-08</th>\n",
       "      <td>-0.033014</td>\n",
       "      <td>0.005952</td>\n",
       "      <td>-0.005071</td>\n",
       "      <td>0.032967</td>\n",
       "      <td>0.000000</td>\n",
       "    </tr>\n",
       "    <tr>\n",
       "      <th>2021-01-11</th>\n",
       "      <td>-0.039648</td>\n",
       "      <td>-0.021696</td>\n",
       "      <td>-0.043833</td>\n",
       "      <td>-0.039007</td>\n",
       "      <td>-0.010381</td>\n",
       "    </tr>\n",
       "  </tbody>\n",
       "</table>\n",
       "</div>"
      ],
      "text/plain": [
       "              AJ네트웍스     AK홀딩스       BGF    BGF리테일   BNK금융지주\n",
       "날짜                                                          \n",
       "2021-01-05  0.077511 -0.007921  0.008016  0.018939  0.003597\n",
       "2021-01-06 -0.045593 -0.005988 -0.011928 -0.003717 -0.001792\n",
       "2021-01-07 -0.003185  0.012048 -0.008048  0.018657  0.037702\n",
       "2021-01-08 -0.033014  0.005952 -0.005071  0.032967  0.000000\n",
       "2021-01-11 -0.039648 -0.021696 -0.043833 -0.039007 -0.010381"
      ]
     },
     "execution_count": 11,
     "metadata": {},
     "output_type": "execute_result"
    }
   ],
   "source": [
    "ohlcv_df.head()"
   ]
  },
  {
   "cell_type": "code",
   "execution_count": 12,
   "id": "34e1b725-bd5c-4ba0-aa84-bd9007437075",
   "metadata": {
    "tags": []
   },
   "outputs": [
    {
     "data": {
      "text/html": [
       "<div>\n",
       "<style scoped>\n",
       "    .dataframe tbody tr th:only-of-type {\n",
       "        vertical-align: middle;\n",
       "    }\n",
       "\n",
       "    .dataframe tbody tr th {\n",
       "        vertical-align: top;\n",
       "    }\n",
       "\n",
       "    .dataframe thead th {\n",
       "        text-align: right;\n",
       "    }\n",
       "</style>\n",
       "<table border=\"1\" class=\"dataframe\">\n",
       "  <thead>\n",
       "    <tr style=\"text-align: right;\">\n",
       "      <th></th>\n",
       "      <th>AJ네트웍스</th>\n",
       "      <th>AK홀딩스</th>\n",
       "      <th>BGF</th>\n",
       "      <th>BGF리테일</th>\n",
       "      <th>BNK금융지주</th>\n",
       "    </tr>\n",
       "    <tr>\n",
       "      <th>날짜</th>\n",
       "      <th></th>\n",
       "      <th></th>\n",
       "      <th></th>\n",
       "      <th></th>\n",
       "      <th></th>\n",
       "    </tr>\n",
       "  </thead>\n",
       "  <tbody>\n",
       "    <tr>\n",
       "      <th>2021-01-05</th>\n",
       "      <td>0.074654</td>\n",
       "      <td>-0.007952</td>\n",
       "      <td>0.007984</td>\n",
       "      <td>0.018762</td>\n",
       "      <td>0.003591</td>\n",
       "    </tr>\n",
       "    <tr>\n",
       "      <th>2021-01-06</th>\n",
       "      <td>-0.046665</td>\n",
       "      <td>-0.006006</td>\n",
       "      <td>-0.012000</td>\n",
       "      <td>-0.003724</td>\n",
       "      <td>-0.001794</td>\n",
       "    </tr>\n",
       "    <tr>\n",
       "      <th>2021-01-07</th>\n",
       "      <td>-0.003190</td>\n",
       "      <td>0.011976</td>\n",
       "      <td>-0.008081</td>\n",
       "      <td>0.018485</td>\n",
       "      <td>0.037009</td>\n",
       "    </tr>\n",
       "    <tr>\n",
       "      <th>2021-01-08</th>\n",
       "      <td>-0.033571</td>\n",
       "      <td>0.005935</td>\n",
       "      <td>-0.005084</td>\n",
       "      <td>0.032435</td>\n",
       "      <td>0.000000</td>\n",
       "    </tr>\n",
       "    <tr>\n",
       "      <th>2021-01-11</th>\n",
       "      <td>-0.040455</td>\n",
       "      <td>-0.021935</td>\n",
       "      <td>-0.044823</td>\n",
       "      <td>-0.039788</td>\n",
       "      <td>-0.010435</td>\n",
       "    </tr>\n",
       "  </tbody>\n",
       "</table>\n",
       "</div>"
      ],
      "text/plain": [
       "              AJ네트웍스     AK홀딩스       BGF    BGF리테일   BNK금융지주\n",
       "날짜                                                          \n",
       "2021-01-05  0.074654 -0.007952  0.007984  0.018762  0.003591\n",
       "2021-01-06 -0.046665 -0.006006 -0.012000 -0.003724 -0.001794\n",
       "2021-01-07 -0.003190  0.011976 -0.008081  0.018485  0.037009\n",
       "2021-01-08 -0.033571  0.005935 -0.005084  0.032435  0.000000\n",
       "2021-01-11 -0.040455 -0.021935 -0.044823 -0.039788 -0.010435"
      ]
     },
     "execution_count": 12,
     "metadata": {},
     "output_type": "execute_result"
    }
   ],
   "source": [
    "log_ohlcv_df=np.log(1+ohlcv_df)\n",
    "log_ohlcv_df.head()"
   ]
  },
  {
   "cell_type": "code",
   "execution_count": 13,
   "id": "a43e1626-6717-49d2-a2bd-d48d222de8c6",
   "metadata": {
    "tags": []
   },
   "outputs": [
    {
     "data": {
      "text/plain": [
       "0.1383312126647637"
      ]
     },
     "execution_count": 13,
     "metadata": {},
     "output_type": "execute_result"
    }
   ],
   "source": [
    "e=log_ohlcv_df.mean()*252\n",
    "w = [0.3, 0.2, 0.1,0.1,0.3]\n",
    "np.dot(w,e)"
   ]
  },
  {
   "cell_type": "code",
   "execution_count": 14,
   "id": "ff5d8e19-5141-4466-a99c-b375f8c70966",
   "metadata": {
    "tags": []
   },
   "outputs": [
    {
     "data": {
      "text/html": [
       "<div>\n",
       "<style scoped>\n",
       "    .dataframe tbody tr th:only-of-type {\n",
       "        vertical-align: middle;\n",
       "    }\n",
       "\n",
       "    .dataframe tbody tr th {\n",
       "        vertical-align: top;\n",
       "    }\n",
       "\n",
       "    .dataframe thead th {\n",
       "        text-align: right;\n",
       "    }\n",
       "</style>\n",
       "<table border=\"1\" class=\"dataframe\">\n",
       "  <thead>\n",
       "    <tr style=\"text-align: right;\">\n",
       "      <th></th>\n",
       "      <th>AJ네트웍스</th>\n",
       "      <th>AK홀딩스</th>\n",
       "      <th>BGF</th>\n",
       "      <th>BGF리테일</th>\n",
       "      <th>BNK금융지주</th>\n",
       "    </tr>\n",
       "  </thead>\n",
       "  <tbody>\n",
       "    <tr>\n",
       "      <th>AJ네트웍스</th>\n",
       "      <td>0.000484</td>\n",
       "      <td>0.000056</td>\n",
       "      <td>0.000097</td>\n",
       "      <td>0.000078</td>\n",
       "      <td>0.000065</td>\n",
       "    </tr>\n",
       "    <tr>\n",
       "      <th>AK홀딩스</th>\n",
       "      <td>0.000056</td>\n",
       "      <td>0.000579</td>\n",
       "      <td>0.000173</td>\n",
       "      <td>0.000125</td>\n",
       "      <td>0.000110</td>\n",
       "    </tr>\n",
       "    <tr>\n",
       "      <th>BGF</th>\n",
       "      <td>0.000097</td>\n",
       "      <td>0.000173</td>\n",
       "      <td>0.000536</td>\n",
       "      <td>0.000122</td>\n",
       "      <td>0.000065</td>\n",
       "    </tr>\n",
       "    <tr>\n",
       "      <th>BGF리테일</th>\n",
       "      <td>0.000078</td>\n",
       "      <td>0.000125</td>\n",
       "      <td>0.000122</td>\n",
       "      <td>0.000464</td>\n",
       "      <td>0.000081</td>\n",
       "    </tr>\n",
       "    <tr>\n",
       "      <th>BNK금융지주</th>\n",
       "      <td>0.000065</td>\n",
       "      <td>0.000110</td>\n",
       "      <td>0.000065</td>\n",
       "      <td>0.000081</td>\n",
       "      <td>0.000268</td>\n",
       "    </tr>\n",
       "  </tbody>\n",
       "</table>\n",
       "</div>"
      ],
      "text/plain": [
       "           AJ네트웍스     AK홀딩스       BGF    BGF리테일   BNK금융지주\n",
       "AJ네트웍스   0.000484  0.000056  0.000097  0.000078  0.000065\n",
       "AK홀딩스    0.000056  0.000579  0.000173  0.000125  0.000110\n",
       "BGF      0.000097  0.000173  0.000536  0.000122  0.000065\n",
       "BGF리테일   0.000078  0.000125  0.000122  0.000464  0.000081\n",
       "BNK금융지주  0.000065  0.000110  0.000065  0.000081  0.000268"
      ]
     },
     "execution_count": 14,
     "metadata": {},
     "output_type": "execute_result"
    }
   ],
   "source": [
    "log_ohlcv_df.cov()"
   ]
  },
  {
   "cell_type": "code",
   "execution_count": 15,
   "id": "df68b345-cefe-40b3-ad61-f14b8342ee08",
   "metadata": {
    "tags": []
   },
   "outputs": [
    {
     "data": {
      "text/plain": [
       "0.041827879829610656"
      ]
     },
     "execution_count": 15,
     "metadata": {},
     "output_type": "execute_result"
    }
   ],
   "source": [
    "C=(log_ohlcv_df.cov()*252).values\n",
    "w = np.array([0.3, 0.2, 0.1,0.1,0.3])\n",
    "np.dot(w.T,np.dot(w,C))"
   ]
  },
  {
   "cell_type": "code",
   "execution_count": 16,
   "id": "1737e7b0-1e4e-4b75-9ff5-16f1b4515d50",
   "metadata": {},
   "outputs": [],
   "source": [
    "annual_return=log_ohlcv_df.mean()*252\n",
    "annual_cov=log_ohlcv_df.cov()*252\n",
    "\n",
    "port_returns = [] \n",
    "port_risk    = [] \n",
    "port_weights = [] \n",
    "port_sharp   = [] \n",
    "stocks = log_ohlcv_df.columns\n",
    "\n",
    "for _ in range(20000): \n",
    "    weights = np.random.random(len(stocks)) \n",
    "    weights = weights / np.sum(weights) \n",
    "    \n",
    "    returns=np.dot(weights,annual_return)\n",
    "    risk=np.dot(weights.T,np.dot(weights,annual_cov))\n",
    "    sharp=returns/risk\n",
    "    \n",
    "    port_returns.append(returns)\n",
    "    port_risk.append(risk)\n",
    "    port_weights.append(weights)\n",
    "    port_sharp.append(sharp)"
   ]
  },
  {
   "cell_type": "code",
   "execution_count": 17,
   "id": "c0a90e26-ee61-48c7-8bb3-7b8f82411698",
   "metadata": {},
   "outputs": [
    {
     "data": {
      "text/html": [
       "<div>\n",
       "<style scoped>\n",
       "    .dataframe tbody tr th:only-of-type {\n",
       "        vertical-align: middle;\n",
       "    }\n",
       "\n",
       "    .dataframe tbody tr th {\n",
       "        vertical-align: top;\n",
       "    }\n",
       "\n",
       "    .dataframe thead th {\n",
       "        text-align: right;\n",
       "    }\n",
       "</style>\n",
       "<table border=\"1\" class=\"dataframe\">\n",
       "  <thead>\n",
       "    <tr style=\"text-align: right;\">\n",
       "      <th></th>\n",
       "      <th>returns</th>\n",
       "      <th>risk</th>\n",
       "      <th>sharp</th>\n",
       "      <th>weights</th>\n",
       "    </tr>\n",
       "  </thead>\n",
       "  <tbody>\n",
       "    <tr>\n",
       "      <th>0</th>\n",
       "      <td>-0.005114</td>\n",
       "      <td>0.055672</td>\n",
       "      <td>-0.091860</td>\n",
       "      <td>[0.1099824068809652, 0.4104702520076521, 0.0719369895761941, 0.2709568458552031, 0.13665350567998555]</td>\n",
       "    </tr>\n",
       "    <tr>\n",
       "      <th>1</th>\n",
       "      <td>0.085793</td>\n",
       "      <td>0.044724</td>\n",
       "      <td>1.918295</td>\n",
       "      <td>[0.14085127992809315, 0.20668739569311537, 0.22150353732077008, 0.23658740328466585, 0.19437038377335553]</td>\n",
       "    </tr>\n",
       "  </tbody>\n",
       "</table>\n",
       "</div>"
      ],
      "text/plain": [
       "    returns      risk     sharp  \\\n",
       "0 -0.005114  0.055672 -0.091860   \n",
       "1  0.085793  0.044724  1.918295   \n",
       "\n",
       "                                                                                                     weights  \n",
       "0      [0.1099824068809652, 0.4104702520076521, 0.0719369895761941, 0.2709568458552031, 0.13665350567998555]  \n",
       "1  [0.14085127992809315, 0.20668739569311537, 0.22150353732077008, 0.23658740328466585, 0.19437038377335553]  "
      ]
     },
     "execution_count": 17,
     "metadata": {},
     "output_type": "execute_result"
    }
   ],
   "source": [
    "port_dic={\"returns\":port_returns,\"risk\":port_risk,\"sharp\":port_sharp,\"weights\":port_weights}\n",
    "df=pd.DataFrame(port_dic)\n",
    "df.head(2)"
   ]
  },
  {
   "cell_type": "code",
   "execution_count": 18,
   "id": "9f9821b4-9802-4e2e-8ede-df40d9568140",
   "metadata": {},
   "outputs": [
    {
     "data": {
      "image/png": "[encoded data removed]",
      "text/plain": [
       "<Figure size 800x600 with 1 Axes>"
      ]
     },
     "metadata": {},
     "output_type": "display_data"
    }
   ],
   "source": [
    "df.plot.scatter(x='risk', y='returns', figsize=(8, 6), grid=True)\n",
    "\n",
    "plt.title('Efficient Frontier') \n",
    "plt.xlabel('Risk') \n",
    "plt.ylabel('Expected Returns') \n",
    "plt.show() "
   ]
  },
  {
   "cell_type": "code",
   "execution_count": 19,
   "id": "1c1e566a-8064-41f9-a41c-715c7c616f86",
   "metadata": {},
   "outputs": [
    {
     "data": {
      "image/png": "[encoded data removed]",
      "text/plain": [
       "<Figure size 800x400 with 1 Axes>"
      ]
     },
     "metadata": {},
     "output_type": "display_data"
    }
   ],
   "source": [
    "# 샤프치수   최대 포트\n",
    "sharp_max = df[df['sharp'] == df['sharp'].max()]\n",
    "# 위험리스크 최소 포트\n",
    "risk_min  = df[df['risk'] == df['risk'].min()] \n",
    "# 수익률     최대 포트\n",
    "return_max = df[df['returns'] == df['returns'].max()] \n",
    "\n",
    "plt.figure(figsize=(8,4))\n",
    "sns.scatterplot(data=df        , x='risk', y='returns'                     , label=f\"포트폴리오\")\n",
    "sns.scatterplot(data=sharp_max , x='risk', y='returns', marker=\"^\", c='red', label=f\"sharp_max:{sharp_max['weights'].values[0]}\")\n",
    "sns.scatterplot(data=risk_min  , x='risk', y='returns', marker=\"*\", c='red', label=f\"risk_min:{risk_min['weights'].values[0]}\")\n",
    "sns.scatterplot(data=return_max, x='risk', y='returns', marker=\"s\", c='red', label=f\"return_max:{return_max['weights'].values[0]}\")\n",
    "\n",
    "plt.title(f'Efficient Frontier_{stocks.values}') \n",
    "plt.xlabel('Risk') \n",
    "plt.ylabel('Expected Returns') \n",
    "plt.show() "
   ]
  },
  {
   "cell_type": "code",
   "execution_count": null,
   "id": "6070f594-7eb6-4576-93d1-ca339ce17af3",
   "metadata": {},
   "outputs": [],
   "source": []
  },
  {
   "cell_type": "code",
   "execution_count": 20,
   "id": "8f51a232-e1df-42b7-8b51-3fb9d4f34101",
   "metadata": {
    "tags": []
   },
   "outputs": [
    {
     "data": {
      "text/html": [
       "<div>\n",
       "<style scoped>\n",
       "    .dataframe tbody tr th:only-of-type {\n",
       "        vertical-align: middle;\n",
       "    }\n",
       "\n",
       "    .dataframe tbody tr th {\n",
       "        vertical-align: top;\n",
       "    }\n",
       "\n",
       "    .dataframe thead th {\n",
       "        text-align: right;\n",
       "    }\n",
       "</style>\n",
       "<table border=\"1\" class=\"dataframe\">\n",
       "  <thead>\n",
       "    <tr style=\"text-align: right;\">\n",
       "      <th></th>\n",
       "      <th>종가</th>\n",
       "      <th>등락률</th>\n",
       "    </tr>\n",
       "    <tr>\n",
       "      <th>날짜</th>\n",
       "      <th></th>\n",
       "      <th></th>\n",
       "    </tr>\n",
       "  </thead>\n",
       "  <tbody>\n",
       "    <tr>\n",
       "      <th>2022-01-03</th>\n",
       "      <td>5320</td>\n",
       "      <td>-1.66</td>\n",
       "    </tr>\n",
       "    <tr>\n",
       "      <th>2022-01-04</th>\n",
       "      <td>5320</td>\n",
       "      <td>0.00</td>\n",
       "    </tr>\n",
       "    <tr>\n",
       "      <th>2022-01-05</th>\n",
       "      <td>5230</td>\n",
       "      <td>-1.69</td>\n",
       "    </tr>\n",
       "    <tr>\n",
       "      <th>2022-01-06</th>\n",
       "      <td>5090</td>\n",
       "      <td>-2.68</td>\n",
       "    </tr>\n",
       "    <tr>\n",
       "      <th>2022-01-07</th>\n",
       "      <td>5120</td>\n",
       "      <td>0.59</td>\n",
       "    </tr>\n",
       "  </tbody>\n",
       "</table>\n",
       "</div>"
      ],
      "text/plain": [
       "              종가   등락률\n",
       "날짜                    \n",
       "2022-01-03  5320 -1.66\n",
       "2022-01-04  5320  0.00\n",
       "2022-01-05  5230 -1.69\n",
       "2022-01-06  5090 -2.68\n",
       "2022-01-07  5120  0.59"
      ]
     },
     "execution_count": 20,
     "metadata": {},
     "output_type": "execute_result"
    }
   ],
   "source": [
    "df=stock.get_market_ohlcv(\"2022-01-01\", \"2022-12-31\",'095570')[['종가','등락률']]\n",
    "df.head()"
   ]
  },
  {
   "cell_type": "code",
   "execution_count": 21,
   "id": "cb79209b-e28c-40bc-8e3b-7835aa626d02",
   "metadata": {
    "tags": []
   },
   "outputs": [
    {
     "data": {
      "text/html": [
       "<div>\n",
       "<style scoped>\n",
       "    .dataframe tbody tr th:only-of-type {\n",
       "        vertical-align: middle;\n",
       "    }\n",
       "\n",
       "    .dataframe tbody tr th {\n",
       "        vertical-align: top;\n",
       "    }\n",
       "\n",
       "    .dataframe thead th {\n",
       "        text-align: right;\n",
       "    }\n",
       "</style>\n",
       "<table border=\"1\" class=\"dataframe\">\n",
       "  <thead>\n",
       "    <tr style=\"text-align: right;\">\n",
       "      <th></th>\n",
       "      <th>종가</th>\n",
       "      <th>등락률</th>\n",
       "      <th>daily_return</th>\n",
       "      <th>cumulative_return</th>\n",
       "      <th>cumulative_daily_return</th>\n",
       "      <th>log_return</th>\n",
       "      <th>cumulative_log_return</th>\n",
       "    </tr>\n",
       "    <tr>\n",
       "      <th>날짜</th>\n",
       "      <th></th>\n",
       "      <th></th>\n",
       "      <th></th>\n",
       "      <th></th>\n",
       "      <th></th>\n",
       "      <th></th>\n",
       "      <th></th>\n",
       "    </tr>\n",
       "  </thead>\n",
       "  <tbody>\n",
       "    <tr>\n",
       "      <th>2022-01-04</th>\n",
       "      <td>5320</td>\n",
       "      <td>0.00</td>\n",
       "      <td>0.000000</td>\n",
       "      <td>0.000000</td>\n",
       "      <td>0.000000</td>\n",
       "      <td>0.000000</td>\n",
       "      <td>0.000000</td>\n",
       "    </tr>\n",
       "    <tr>\n",
       "      <th>2022-01-05</th>\n",
       "      <td>5230</td>\n",
       "      <td>-1.69</td>\n",
       "      <td>-0.016917</td>\n",
       "      <td>-0.016917</td>\n",
       "      <td>-0.000068</td>\n",
       "      <td>-0.017062</td>\n",
       "      <td>-0.017062</td>\n",
       "    </tr>\n",
       "    <tr>\n",
       "      <th>2022-01-06</th>\n",
       "      <td>5090</td>\n",
       "      <td>-2.68</td>\n",
       "      <td>-0.026769</td>\n",
       "      <td>-0.043233</td>\n",
       "      <td>-0.000175</td>\n",
       "      <td>-0.027133</td>\n",
       "      <td>-0.044195</td>\n",
       "    </tr>\n",
       "    <tr>\n",
       "      <th>2022-01-07</th>\n",
       "      <td>5120</td>\n",
       "      <td>0.59</td>\n",
       "      <td>0.005894</td>\n",
       "      <td>-0.037594</td>\n",
       "      <td>-0.000152</td>\n",
       "      <td>0.005877</td>\n",
       "      <td>-0.038319</td>\n",
       "    </tr>\n",
       "    <tr>\n",
       "      <th>2022-01-10</th>\n",
       "      <td>5010</td>\n",
       "      <td>-2.15</td>\n",
       "      <td>-0.021484</td>\n",
       "      <td>-0.058271</td>\n",
       "      <td>-0.000238</td>\n",
       "      <td>-0.021719</td>\n",
       "      <td>-0.060037</td>\n",
       "    </tr>\n",
       "  </tbody>\n",
       "</table>\n",
       "</div>"
      ],
      "text/plain": [
       "              종가   등락률  daily_return  cumulative_return  \\\n",
       "날짜                                                        \n",
       "2022-01-04  5320  0.00      0.000000           0.000000   \n",
       "2022-01-05  5230 -1.69     -0.016917          -0.016917   \n",
       "2022-01-06  5090 -2.68     -0.026769          -0.043233   \n",
       "2022-01-07  5120  0.59      0.005894          -0.037594   \n",
       "2022-01-10  5010 -2.15     -0.021484          -0.058271   \n",
       "\n",
       "            cumulative_daily_return  log_return  cumulative_log_return  \n",
       "날짜                                                                      \n",
       "2022-01-04                 0.000000    0.000000               0.000000  \n",
       "2022-01-05                -0.000068   -0.017062              -0.017062  \n",
       "2022-01-06                -0.000175   -0.027133              -0.044195  \n",
       "2022-01-07                -0.000152    0.005877              -0.038319  \n",
       "2022-01-10                -0.000238   -0.021719              -0.060037  "
      ]
     },
     "execution_count": 21,
     "metadata": {},
     "output_type": "execute_result"
    }
   ],
   "source": [
    "df['daily_return']=df['종가'].pct_change()\n",
    "df['cumulative_return']=(1+df['daily_return']).cumprod()-1\n",
    "df['cumulative_daily_return']=(1+df['cumulative_return'])**(1/252)-1\n",
    "\n",
    "df['log_return']=np.log(1+df['daily_return'])\n",
    "df['cumulative_log_return']=df['log_return'].cumsum()\n",
    "df.dropna(inplace=True,axis=0)\n",
    "df.head()"
   ]
  },
  {
   "cell_type": "code",
   "execution_count": null,
   "id": "2a2c46e0-660e-4400-a326-577c4d0f2f78",
   "metadata": {},
   "outputs": [],
   "source": []
  },
  {
   "cell_type": "code",
   "execution_count": null,
   "id": "830c704f-25f3-4c01-a50b-c9b0e84aab44",
   "metadata": {},
   "outputs": [],
   "source": []
  },
  {
   "cell_type": "code",
   "execution_count": null,
   "id": "cedd6348-73cf-4d53-8a17-a2766dfa3e35",
   "metadata": {},
   "outputs": [],
   "source": []
  },
  {
   "cell_type": "code",
   "execution_count": null,
   "id": "dcfcbd49-a208-479c-9b19-2de76fbcb5a6",
   "metadata": {},
   "outputs": [],
   "source": []
  },
  {
   "cell_type": "code",
   "execution_count": null,
   "id": "3001a804-6d4d-4059-a055-8000895a6798",
   "metadata": {},
   "outputs": [],
   "source": []
  },
  {
   "cell_type": "code",
   "execution_count": 22,
   "id": "3d5f7288-9bed-4e4c-a211-1949c50ac91f",
   "metadata": {},
   "outputs": [
    {
     "ename": "NameError",
     "evalue": "name 'ᄋᆱᄋᄅᄂᄆᄅᄋ' is not defined",
     "output_type": "error",
     "traceback": [
      "\u001b[1;31m---------------------------------------------------------------------------\u001b[0m",
      "\u001b[1;31mNameError\u001b[0m                                 Traceback (most recent call last)",
      "Cell \u001b[1;32mIn[22], line 1\u001b[0m\n\u001b[1;32m----> 1\u001b[0m \u001b[43mㅇㄻㅇㄹㄴㅁㄹㅇ\u001b[49m\n",
      "\u001b[1;31mNameError\u001b[0m: name 'ᄋᆱᄋᄅᄂᄆᄅᄋ' is not defined"
     ]
    }
   ],
   "source": [
    "ㅇㄻㅇㄹㄴㅁㄹㅇ"
   ]
  },
  {
   "cell_type": "code",
   "execution_count": null,
   "id": "b30e7889-cf52-417e-bb7a-555a11f21bdd",
   "metadata": {
    "tags": []
   },
   "outputs": [],
   "source": [
    "from bs4 import BeautifulSoup\n",
    "import requests\n"
   ]
  },
  {
   "cell_type": "code",
   "execution_count": null,
   "id": "88c5d3b7-2866-4af6-b812-1112a9f0ee36",
   "metadata": {
    "tags": []
   },
   "outputs": [],
   "source": [
    "html_doc = \"\"\"<html><head><title>The Dormouse's story</title></head>\n",
    "<body>\n",
    "<p class=\"title\"><b>The Dormouse's story</b></p>\n",
    "\n",
    "<p class=\"story\">Once upon a time there were three little sisters; and their names were\n",
    "<a href=\"http://example.com/elsie\" class=\"sister\" id=\"link1\">안녕하세요</a>,\n",
    "<a href=\"http://example.com/lacie\" class=\"sister\" id=\"link2\">Lacie</a> and\n",
    "<a href=\"http://example.com/tillie\" class=\"sister\" id=\"link3\">Tillie</a>;\n",
    "and they lived at the bottom of a well.</p>\n",
    "<p class=\"story\">...</p>\n",
    "\"\"\"\n",
    "\n",
    "soup = BeautifulSoup(html_doc, 'html.parser')\n",
    "print(soup.prettify())"
   ]
  },
  {
   "cell_type": "code",
   "execution_count": null,
   "id": "f550dca1-e793-46fe-86ad-eaf947242d74",
   "metadata": {
    "tags": []
   },
   "outputs": [],
   "source": [
    "res = requests.get(\"https://www.asiae.co.kr/section/economy\")\n",
    "print(res.status_code)\n",
    "res.text[:1000]"
   ]
  },
  {
   "cell_type": "code",
   "execution_count": null,
   "id": "27578515-2272-4231-a94e-99f03fafd3d0",
   "metadata": {},
   "outputs": [],
   "source": [
    "#container > div.content > div.cont_section_body > div.area_seclstview > div > div:nth-child(1) > ul"
   ]
  },
  {
   "cell_type": "code",
   "execution_count": null,
   "id": "985c21f4-84f3-4066-94e2-fd55c4227851",
   "metadata": {
    "tags": []
   },
   "outputs": [],
   "source": [
    "# soup = BeautifulSoup(res.text,'html.parser',from_encoding='cp949')\n",
    "# soup = BeautifulSoup(res.content.decode('euc-kr', 'replace'), 'html.parser',from_encoding='cp949')\n",
    "soup = BeautifulSoup(res.content, 'html.parser', from_encoding='utf-8')\n",
    "# soup = BeautifulSoup(res.text, 'html.parser',from_encoding='cp949')\n",
    "\n",
    "news_list=[]\n",
    "li_list = soup.select(\"#container > div.content > div.cont_section_body > div.area_seclstview > div > div:nth-child(1) > ul > li\")\n",
    "# print(li_list)\n",
    "for li in li_list:\n",
    "    title    = li.select_one(\"div.inner_txt > h3 > a\").text\n",
    "    regdate  = li.select_one(\"div.inner_txt > p.txt_time > span.t_time\").text\n",
    "    contents = li.select_one(\"div.inner_txt > p.txt_info\").text\n",
    "    href     = li.select_one(\"div.inner_txt > h3 > a\").get('href')\n",
    "    news_list.append(   [title,regdate,contents,href]   )\n",
    "news_list"
   ]
  },
  {
   "cell_type": "code",
   "execution_count": null,
   "id": "d895262d-a519-4c81-9937-da90f4c9aabc",
   "metadata": {},
   "outputs": [],
   "source": [
    "craw_df=pd.DataFrame(news_list, columns=['title','regdate','contents','href'])\n",
    "craw_df"
   ]
  },
  {
   "cell_type": "code",
   "execution_count": null,
   "id": "046ba44d-4e0f-4758-8f03-b89369cba7d4",
   "metadata": {},
   "outputs": [],
   "source": []
  }
 ],
 "metadata": {
  "kernelspec": {
   "display_name": "Python 3 (ipykernel)",
   "language": "python",
   "name": "python3"
  },
  "language_info": {
   "codemirror_mode": {
    "name": "ipython",
    "version": 3
   },
   "file_extension": ".py",
   "mimetype": "text/x-python",
   "name": "python",
   "nbconvert_exporter": "python",
   "pygments_lexer": "ipython3",
   "version": "3.8.8"
  }
 },
 "nbformat": 4,
 "nbformat_minor": 5
}

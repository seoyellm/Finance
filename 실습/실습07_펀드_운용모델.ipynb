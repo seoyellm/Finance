{
 "cells": [
  {
   "cell_type": "markdown",
   "id": "ce249a1c-98e6-4bd0-974a-d636b1dbd831",
   "metadata": {},
   "source": [
    "# 펀드운용모델"
   ]
  },
  {
   "cell_type": "code",
   "execution_count": 1,
   "id": "9200d769-ae9b-41c3-8614-2359d5cb4083",
   "metadata": {
    "tags": []
   },
   "outputs": [
    {
     "data": {
      "text/html": [
       "<style>.container{width:100% !important;}</style>"
      ],
      "text/plain": [
       "<IPython.core.display.HTML object>"
      ]
     },
     "metadata": {},
     "output_type": "display_data"
    }
   ],
   "source": [
    "from pykrx import stock\n",
    "from pykrx import bond\n",
    "import FinanceDataReader as fdr\n",
    "\n",
    "from IPython.display import Image\n",
    "import pandas as pd\n",
    "import numpy as np\n",
    "import matplotlib.pyplot as plt\n",
    "import seaborn as sns\n",
    "\n",
    "\n",
    "import warnings\n",
    "warnings.filterwarnings(action='ignore')\n",
    "\n",
    "#-------------------- 차트 관련 속성 (한글처리, 그리드) -----------\n",
    "sns.set()\n",
    "#plt.rc('font', family='NanumGothicOTF') # For MacOS\n",
    "plt.rcParams['font.family']= 'Malgun Gothic'\n",
    "plt.rcParams['axes.unicode_minus'] = False\n",
    "\n",
    "\n",
    "#-------------------- 주피터 , 출력결과 넓이 늘리기 ---------------\n",
    "from IPython.core.display import display, HTML\n",
    "display(HTML(\"<style>.container{width:100% !important;}</style>\"))\n",
    "pd.set_option('display.max_rows', 100)\n",
    "pd.set_option('display.max_columns', 100)\n",
    "pd.set_option('max_colwidth', None)\n",
    "\n"
   ]
  },
  {
   "cell_type": "markdown",
   "id": "37fda7c0-565e-4811-b3f4-e119ae7053c5",
   "metadata": {},
   "source": [
    "# 시총 top10"
   ]
  },
  {
   "cell_type": "code",
   "execution_count": 2,
   "id": "92f70084-e040-47d5-be24-5c6db4d16793",
   "metadata": {},
   "outputs": [],
   "source": [
    "from pykrx import stock"
   ]
  },
  {
   "cell_type": "code",
   "execution_count": 3,
   "id": "fbb52746-83dc-41f3-88c5-fad2cd41a60a",
   "metadata": {
    "tags": []
   },
   "outputs": [
    {
     "data": {
      "text/html": [
       "<div>\n",
       "<style scoped>\n",
       "    .dataframe tbody tr th:only-of-type {\n",
       "        vertical-align: middle;\n",
       "    }\n",
       "\n",
       "    .dataframe tbody tr th {\n",
       "        vertical-align: top;\n",
       "    }\n",
       "\n",
       "    .dataframe thead th {\n",
       "        text-align: right;\n",
       "    }\n",
       "</style>\n",
       "<table border=\"1\" class=\"dataframe\">\n",
       "  <thead>\n",
       "    <tr style=\"text-align: right;\">\n",
       "      <th></th>\n",
       "      <th>종가</th>\n",
       "      <th>시가총액</th>\n",
       "      <th>거래량</th>\n",
       "      <th>거래대금</th>\n",
       "      <th>상장주식수</th>\n",
       "    </tr>\n",
       "    <tr>\n",
       "      <th>티커</th>\n",
       "      <th></th>\n",
       "      <th></th>\n",
       "      <th></th>\n",
       "      <th></th>\n",
       "      <th></th>\n",
       "    </tr>\n",
       "  </thead>\n",
       "  <tbody>\n",
       "    <tr>\n",
       "      <th>005930</th>\n",
       "      <td>55300</td>\n",
       "      <td>330128975015000</td>\n",
       "      <td>11295935</td>\n",
       "      <td>628653753150</td>\n",
       "      <td>5969782550</td>\n",
       "    </tr>\n",
       "    <tr>\n",
       "      <th>373220</th>\n",
       "      <td>435500</td>\n",
       "      <td>101907000000000</td>\n",
       "      <td>265226</td>\n",
       "      <td>116156988000</td>\n",
       "      <td>234000000</td>\n",
       "    </tr>\n",
       "    <tr>\n",
       "      <th>207940</th>\n",
       "      <td>821000</td>\n",
       "      <td>58433854000000</td>\n",
       "      <td>35179</td>\n",
       "      <td>28994143000</td>\n",
       "      <td>71174000</td>\n",
       "    </tr>\n",
       "    <tr>\n",
       "      <th>000660</th>\n",
       "      <td>75000</td>\n",
       "      <td>54600177375000</td>\n",
       "      <td>1736661</td>\n",
       "      <td>130328025000</td>\n",
       "      <td>728002365</td>\n",
       "    </tr>\n",
       "    <tr>\n",
       "      <th>051910</th>\n",
       "      <td>600000</td>\n",
       "      <td>42355405800000</td>\n",
       "      <td>103968</td>\n",
       "      <td>62525555000</td>\n",
       "      <td>70592343</td>\n",
       "    </tr>\n",
       "  </tbody>\n",
       "</table>\n",
       "</div>"
      ],
      "text/plain": [
       "            종가             시가총액       거래량          거래대금       상장주식수\n",
       "티커                                                                 \n",
       "005930   55300  330128975015000  11295935  628653753150  5969782550\n",
       "373220  435500  101907000000000    265226  116156988000   234000000\n",
       "207940  821000   58433854000000     35179   28994143000    71174000\n",
       "000660   75000   54600177375000   1736661  130328025000   728002365\n",
       "051910  600000   42355405800000    103968   62525555000    70592343"
      ]
     },
     "execution_count": 3,
     "metadata": {},
     "output_type": "execute_result"
    }
   ],
   "source": [
    "market_df = stock.get_market_cap(\"20221229\")[:7]\n",
    "market_df.head()"
   ]
  },
  {
   "cell_type": "code",
   "execution_count": 4,
   "id": "7f0e9603-03a3-4aed-bc8e-9039680fa86e",
   "metadata": {
    "tags": []
   },
   "outputs": [
    {
     "name": "stdout",
     "output_type": "stream",
     "text": [
      "['삼성전자', 'LG에너지솔루션', '삼성바이오로직스', 'SK하이닉스', 'LG화학', '삼성전자우', '삼성SDI']\n"
     ]
    }
   ],
   "source": [
    "ticker_list=market_df.index.values\n",
    "ticker_name_list=[]\n",
    "for ticker in ticker_list:\n",
    "        종목 = stock.get_market_ticker_name(ticker)\n",
    "        ticker_name_list.append(종목)\n",
    "print(ticker_name_list) #LG에너지솔루션,삼성전자우 --> 제거"
   ]
  },
  {
   "cell_type": "code",
   "execution_count": 5,
   "id": "65f4b086-db47-4603-a5ac-c62fc047853c",
   "metadata": {
    "tags": []
   },
   "outputs": [
    {
     "data": {
      "text/html": [
       "<div>\n",
       "<style scoped>\n",
       "    .dataframe tbody tr th:only-of-type {\n",
       "        vertical-align: middle;\n",
       "    }\n",
       "\n",
       "    .dataframe tbody tr th {\n",
       "        vertical-align: top;\n",
       "    }\n",
       "\n",
       "    .dataframe thead th {\n",
       "        text-align: right;\n",
       "    }\n",
       "</style>\n",
       "<table border=\"1\" class=\"dataframe\">\n",
       "  <thead>\n",
       "    <tr style=\"text-align: right;\">\n",
       "      <th></th>\n",
       "      <th>ticker</th>\n",
       "      <th>ticker_name</th>\n",
       "    </tr>\n",
       "  </thead>\n",
       "  <tbody>\n",
       "    <tr>\n",
       "      <th>0</th>\n",
       "      <td>005930</td>\n",
       "      <td>삼성전자</td>\n",
       "    </tr>\n",
       "    <tr>\n",
       "      <th>2</th>\n",
       "      <td>207940</td>\n",
       "      <td>삼성바이오로직스</td>\n",
       "    </tr>\n",
       "    <tr>\n",
       "      <th>3</th>\n",
       "      <td>000660</td>\n",
       "      <td>SK하이닉스</td>\n",
       "    </tr>\n",
       "    <tr>\n",
       "      <th>4</th>\n",
       "      <td>051910</td>\n",
       "      <td>LG화학</td>\n",
       "    </tr>\n",
       "    <tr>\n",
       "      <th>6</th>\n",
       "      <td>006400</td>\n",
       "      <td>삼성SDI</td>\n",
       "    </tr>\n",
       "  </tbody>\n",
       "</table>\n",
       "</div>"
      ],
      "text/plain": [
       "   ticker ticker_name\n",
       "0  005930        삼성전자\n",
       "2  207940    삼성바이오로직스\n",
       "3  000660      SK하이닉스\n",
       "4  051910        LG화학\n",
       "6  006400       삼성SDI"
      ]
     },
     "execution_count": 5,
     "metadata": {},
     "output_type": "execute_result"
    }
   ],
   "source": [
    "dic={\"ticker\":ticker_list,\"ticker_name\":ticker_name_list}\n",
    "ticker_df=pd.DataFrame(dic)\n",
    "ticker_df=ticker_df.iloc[[0,2,3,4,6],]\n",
    "ticker_df.head()"
   ]
  },
  {
   "cell_type": "code",
   "execution_count": 6,
   "id": "f7a75b0d-22c0-490e-a8f1-1abf70ce1f07",
   "metadata": {
    "tags": []
   },
   "outputs": [],
   "source": [
    "ticker_list=ticker_df['ticker'].values\n",
    "ticker_name_list=ticker_df['ticker_name'].values"
   ]
  },
  {
   "cell_type": "code",
   "execution_count": 8,
   "id": "b105d469-039c-4f8e-96fb-1f9f80c3dd8c",
   "metadata": {
    "tags": []
   },
   "outputs": [
    {
     "ename": "JSONDecodeError",
     "evalue": "Expecting value: line 1 column 1 (char 0)",
     "output_type": "error",
     "traceback": [
      "\u001b[1;31m---------------------------------------------------------------------------\u001b[0m",
      "\u001b[1;31mJSONDecodeError\u001b[0m                           Traceback (most recent call last)",
      "File \u001b[1;32mC:\\AI\\pythonProject2\\venv\\lib\\site-packages\\requests\\models.py:971\u001b[0m, in \u001b[0;36mResponse.json\u001b[1;34m(self, **kwargs)\u001b[0m\n\u001b[0;32m    970\u001b[0m \u001b[38;5;28;01mtry\u001b[39;00m:\n\u001b[1;32m--> 971\u001b[0m     \u001b[38;5;28;01mreturn\u001b[39;00m \u001b[43mcomplexjson\u001b[49m\u001b[38;5;241;43m.\u001b[39;49m\u001b[43mloads\u001b[49m\u001b[43m(\u001b[49m\u001b[38;5;28;43mself\u001b[39;49m\u001b[38;5;241;43m.\u001b[39;49m\u001b[43mtext\u001b[49m\u001b[43m,\u001b[49m\u001b[43m \u001b[49m\u001b[38;5;241;43m*\u001b[39;49m\u001b[38;5;241;43m*\u001b[39;49m\u001b[43mkwargs\u001b[49m\u001b[43m)\u001b[49m\n\u001b[0;32m    972\u001b[0m \u001b[38;5;28;01mexcept\u001b[39;00m JSONDecodeError \u001b[38;5;28;01mas\u001b[39;00m e:\n\u001b[0;32m    973\u001b[0m     \u001b[38;5;66;03m# Catch JSON-related errors and raise as requests.JSONDecodeError\u001b[39;00m\n\u001b[0;32m    974\u001b[0m     \u001b[38;5;66;03m# This aliases json.JSONDecodeError and simplejson.JSONDecodeError\u001b[39;00m\n",
      "File \u001b[1;32mC:\\AI\\Python38\\lib\\json\\__init__.py:357\u001b[0m, in \u001b[0;36mloads\u001b[1;34m(s, cls, object_hook, parse_float, parse_int, parse_constant, object_pairs_hook, **kw)\u001b[0m\n\u001b[0;32m    354\u001b[0m \u001b[38;5;28;01mif\u001b[39;00m (\u001b[38;5;28mcls\u001b[39m \u001b[38;5;129;01mis\u001b[39;00m \u001b[38;5;28;01mNone\u001b[39;00m \u001b[38;5;129;01mand\u001b[39;00m object_hook \u001b[38;5;129;01mis\u001b[39;00m \u001b[38;5;28;01mNone\u001b[39;00m \u001b[38;5;129;01mand\u001b[39;00m\n\u001b[0;32m    355\u001b[0m         parse_int \u001b[38;5;129;01mis\u001b[39;00m \u001b[38;5;28;01mNone\u001b[39;00m \u001b[38;5;129;01mand\u001b[39;00m parse_float \u001b[38;5;129;01mis\u001b[39;00m \u001b[38;5;28;01mNone\u001b[39;00m \u001b[38;5;129;01mand\u001b[39;00m\n\u001b[0;32m    356\u001b[0m         parse_constant \u001b[38;5;129;01mis\u001b[39;00m \u001b[38;5;28;01mNone\u001b[39;00m \u001b[38;5;129;01mand\u001b[39;00m object_pairs_hook \u001b[38;5;129;01mis\u001b[39;00m \u001b[38;5;28;01mNone\u001b[39;00m \u001b[38;5;129;01mand\u001b[39;00m \u001b[38;5;129;01mnot\u001b[39;00m kw):\n\u001b[1;32m--> 357\u001b[0m     \u001b[38;5;28;01mreturn\u001b[39;00m \u001b[43m_default_decoder\u001b[49m\u001b[38;5;241;43m.\u001b[39;49m\u001b[43mdecode\u001b[49m\u001b[43m(\u001b[49m\u001b[43ms\u001b[49m\u001b[43m)\u001b[49m\n\u001b[0;32m    358\u001b[0m \u001b[38;5;28;01mif\u001b[39;00m \u001b[38;5;28mcls\u001b[39m \u001b[38;5;129;01mis\u001b[39;00m \u001b[38;5;28;01mNone\u001b[39;00m:\n",
      "File \u001b[1;32mC:\\AI\\Python38\\lib\\json\\decoder.py:337\u001b[0m, in \u001b[0;36mJSONDecoder.decode\u001b[1;34m(self, s, _w)\u001b[0m\n\u001b[0;32m    333\u001b[0m \u001b[38;5;250m\u001b[39m\u001b[38;5;124;03m\"\"\"Return the Python representation of ``s`` (a ``str`` instance\u001b[39;00m\n\u001b[0;32m    334\u001b[0m \u001b[38;5;124;03mcontaining a JSON document).\u001b[39;00m\n\u001b[0;32m    335\u001b[0m \n\u001b[0;32m    336\u001b[0m \u001b[38;5;124;03m\"\"\"\u001b[39;00m\n\u001b[1;32m--> 337\u001b[0m obj, end \u001b[38;5;241m=\u001b[39m \u001b[38;5;28;43mself\u001b[39;49m\u001b[38;5;241;43m.\u001b[39;49m\u001b[43mraw_decode\u001b[49m\u001b[43m(\u001b[49m\u001b[43ms\u001b[49m\u001b[43m,\u001b[49m\u001b[43m \u001b[49m\u001b[43midx\u001b[49m\u001b[38;5;241;43m=\u001b[39;49m\u001b[43m_w\u001b[49m\u001b[43m(\u001b[49m\u001b[43ms\u001b[49m\u001b[43m,\u001b[49m\u001b[43m \u001b[49m\u001b[38;5;241;43m0\u001b[39;49m\u001b[43m)\u001b[49m\u001b[38;5;241;43m.\u001b[39;49m\u001b[43mend\u001b[49m\u001b[43m(\u001b[49m\u001b[43m)\u001b[49m\u001b[43m)\u001b[49m\n\u001b[0;32m    338\u001b[0m end \u001b[38;5;241m=\u001b[39m _w(s, end)\u001b[38;5;241m.\u001b[39mend()\n",
      "File \u001b[1;32mC:\\AI\\Python38\\lib\\json\\decoder.py:355\u001b[0m, in \u001b[0;36mJSONDecoder.raw_decode\u001b[1;34m(self, s, idx)\u001b[0m\n\u001b[0;32m    354\u001b[0m \u001b[38;5;28;01mexcept\u001b[39;00m \u001b[38;5;167;01mStopIteration\u001b[39;00m \u001b[38;5;28;01mas\u001b[39;00m err:\n\u001b[1;32m--> 355\u001b[0m     \u001b[38;5;28;01mraise\u001b[39;00m JSONDecodeError(\u001b[38;5;124m\"\u001b[39m\u001b[38;5;124mExpecting value\u001b[39m\u001b[38;5;124m\"\u001b[39m, s, err\u001b[38;5;241m.\u001b[39mvalue) \u001b[38;5;28;01mfrom\u001b[39;00m \u001b[38;5;28mNone\u001b[39m\n\u001b[0;32m    356\u001b[0m \u001b[38;5;28;01mreturn\u001b[39;00m obj, end\n",
      "\u001b[1;31mJSONDecodeError\u001b[0m: Expecting value: line 1 column 1 (char 0)",
      "\nDuring handling of the above exception, another exception occurred:\n",
      "\u001b[1;31mJSONDecodeError\u001b[0m                           Traceback (most recent call last)",
      "Cell \u001b[1;32mIn[8], line 7\u001b[0m\n\u001b[0;32m      4\u001b[0m close_df\u001b[38;5;241m=\u001b[39mpd\u001b[38;5;241m.\u001b[39mDataFrame()\n\u001b[0;32m      6\u001b[0m \u001b[38;5;28;01mfor\u001b[39;00m ticker \u001b[38;5;129;01min\u001b[39;00m ticker_list:\n\u001b[1;32m----> 7\u001b[0m     종가 \u001b[38;5;241m=\u001b[39m \u001b[43mstock\u001b[49m\u001b[38;5;241;43m.\u001b[39;49m\u001b[43mget_market_ohlcv\u001b[49m\u001b[43m(\u001b[49m\u001b[43mstart_date\u001b[49m\u001b[43m,\u001b[49m\u001b[43m \u001b[49m\u001b[43mend_date\u001b[49m\u001b[43m,\u001b[49m\u001b[43m \u001b[49m\u001b[43mticker\u001b[49m\u001b[43m)\u001b[49m[\u001b[38;5;124m'\u001b[39m\u001b[38;5;124m종가\u001b[39m\u001b[38;5;124m'\u001b[39m]\n\u001b[0;32m      8\u001b[0m     종목명 \u001b[38;5;241m=\u001b[39m stock\u001b[38;5;241m.\u001b[39mget_market_ticker_name(ticker)\n\u001b[0;32m      9\u001b[0m     close_df[종목명] \u001b[38;5;241m=\u001b[39m 종가\n",
      "File \u001b[1;32mC:\\AI\\pythonProject2\\venv\\lib\\site-packages\\pykrx\\stock\\stock_api.py:190\u001b[0m, in \u001b[0;36mget_market_ohlcv\u001b[1;34m(*args, **kwargs)\u001b[0m\n\u001b[0;32m    187\u001b[0m dates \u001b[38;5;241m=\u001b[39m \u001b[38;5;28mlist\u001b[39m(\u001b[38;5;28mfilter\u001b[39m(regex_yymmdd\u001b[38;5;241m.\u001b[39mmatch, [\u001b[38;5;28mstr\u001b[39m(x) \u001b[38;5;28;01mfor\u001b[39;00m x \u001b[38;5;129;01min\u001b[39;00m args]))\n\u001b[0;32m    188\u001b[0m \u001b[38;5;28;01mif\u001b[39;00m \u001b[38;5;28mlen\u001b[39m(dates) \u001b[38;5;241m==\u001b[39m \u001b[38;5;241m2\u001b[39m \u001b[38;5;129;01mor\u001b[39;00m (\u001b[38;5;124m'\u001b[39m\u001b[38;5;124mfromdate\u001b[39m\u001b[38;5;124m'\u001b[39m \u001b[38;5;129;01min\u001b[39;00m kwargs \u001b[38;5;129;01mand\u001b[39;00m\n\u001b[0;32m    189\u001b[0m                        \u001b[38;5;124m'\u001b[39m\u001b[38;5;124mtodate\u001b[39m\u001b[38;5;124m'\u001b[39m \u001b[38;5;129;01min\u001b[39;00m kwargs):\n\u001b[1;32m--> 190\u001b[0m     \u001b[38;5;28;01mreturn\u001b[39;00m \u001b[43mget_market_ohlcv_by_date\u001b[49m\u001b[43m(\u001b[49m\u001b[38;5;241;43m*\u001b[39;49m\u001b[43margs\u001b[49m\u001b[43m,\u001b[49m\u001b[43m \u001b[49m\u001b[38;5;241;43m*\u001b[39;49m\u001b[38;5;241;43m*\u001b[39;49m\u001b[43mkwargs\u001b[49m\u001b[43m)\u001b[49m\n\u001b[0;32m    191\u001b[0m \u001b[38;5;28;01melse\u001b[39;00m:\n\u001b[0;32m    192\u001b[0m     \u001b[38;5;28;01mreturn\u001b[39;00m get_market_ohlcv_by_ticker(\u001b[38;5;241m*\u001b[39margs, \u001b[38;5;241m*\u001b[39m\u001b[38;5;241m*\u001b[39mkwargs)\n",
      "File \u001b[1;32mC:\\AI\\pythonProject2\\venv\\lib\\site-packages\\pykrx\\stock\\stock_api.py:231\u001b[0m, in \u001b[0;36mget_market_ohlcv_by_date\u001b[1;34m(fromdate, todate, ticker, freq, adjusted, name_display)\u001b[0m\n\u001b[0;32m    228\u001b[0m fromdate \u001b[38;5;241m=\u001b[39m fromdate\u001b[38;5;241m.\u001b[39mreplace(\u001b[38;5;124m\"\u001b[39m\u001b[38;5;124m-\u001b[39m\u001b[38;5;124m\"\u001b[39m, \u001b[38;5;124m\"\u001b[39m\u001b[38;5;124m\"\u001b[39m)\n\u001b[0;32m    229\u001b[0m todate \u001b[38;5;241m=\u001b[39m todate\u001b[38;5;241m.\u001b[39mreplace(\u001b[38;5;124m\"\u001b[39m\u001b[38;5;124m-\u001b[39m\u001b[38;5;124m\"\u001b[39m, \u001b[38;5;124m\"\u001b[39m\u001b[38;5;124m\"\u001b[39m)\n\u001b[1;32m--> 231\u001b[0m df \u001b[38;5;241m=\u001b[39m \u001b[43mkrx\u001b[49m\u001b[38;5;241;43m.\u001b[39;49m\u001b[43mget_market_ohlcv_by_date\u001b[49m\u001b[43m(\u001b[49m\u001b[43mfromdate\u001b[49m\u001b[43m,\u001b[49m\u001b[43m \u001b[49m\u001b[43mtodate\u001b[49m\u001b[43m,\u001b[49m\u001b[43m \u001b[49m\u001b[43mticker\u001b[49m\u001b[43m,\u001b[49m\u001b[43m \u001b[49m\u001b[43madjusted\u001b[49m\u001b[43m)\u001b[49m\n\u001b[0;32m    233\u001b[0m \u001b[38;5;28;01mif\u001b[39;00m name_display:\n\u001b[0;32m    234\u001b[0m     df\u001b[38;5;241m.\u001b[39mcolumns\u001b[38;5;241m.\u001b[39mname \u001b[38;5;241m=\u001b[39m get_market_ticker_name(ticker)\n",
      "File \u001b[1;32mC:\\AI\\pythonProject2\\venv\\lib\\site-packages\\pykrx\\website\\comm\\util.py:8\u001b[0m, in \u001b[0;36mdataframe_empty_handler.<locals>.wrapper\u001b[1;34m(*args, **kwargs)\u001b[0m\n\u001b[0;32m      6\u001b[0m \u001b[38;5;28;01mdef\u001b[39;00m \u001b[38;5;21mwrapper\u001b[39m(\u001b[38;5;241m*\u001b[39margs, \u001b[38;5;241m*\u001b[39m\u001b[38;5;241m*\u001b[39mkwargs):\n\u001b[0;32m      7\u001b[0m     \u001b[38;5;28;01mtry\u001b[39;00m:\n\u001b[1;32m----> 8\u001b[0m         \u001b[38;5;28;01mreturn\u001b[39;00m \u001b[43mfunc\u001b[49m\u001b[43m(\u001b[49m\u001b[38;5;241;43m*\u001b[39;49m\u001b[43margs\u001b[49m\u001b[43m,\u001b[49m\u001b[43m \u001b[49m\u001b[38;5;241;43m*\u001b[39;49m\u001b[38;5;241;43m*\u001b[39;49m\u001b[43mkwargs\u001b[49m\u001b[43m)\u001b[49m\n\u001b[0;32m      9\u001b[0m     \u001b[38;5;28;01mexcept\u001b[39;00m (\u001b[38;5;167;01mAttributeError\u001b[39;00m, \u001b[38;5;167;01mKeyError\u001b[39;00m, \u001b[38;5;167;01mTypeError\u001b[39;00m) \u001b[38;5;28;01mas\u001b[39;00m e:\n\u001b[0;32m     10\u001b[0m         logging\u001b[38;5;241m.\u001b[39minfo(args, kwargs)\n",
      "File \u001b[1;32mC:\\AI\\pythonProject2\\venv\\lib\\site-packages\\pykrx\\website\\krx\\market\\wrap.py:52\u001b[0m, in \u001b[0;36mget_market_ohlcv_by_date\u001b[1;34m(fromdate, todate, ticker, adjusted)\u001b[0m\n\u001b[0;32m     50\u001b[0m isin \u001b[38;5;241m=\u001b[39m get_stock_ticker_isin(ticker)\n\u001b[0;32m     51\u001b[0m adjusted \u001b[38;5;241m=\u001b[39m \u001b[38;5;241m2\u001b[39m \u001b[38;5;28;01mif\u001b[39;00m adjusted \u001b[38;5;28;01melse\u001b[39;00m \u001b[38;5;241m1\u001b[39m\n\u001b[1;32m---> 52\u001b[0m df \u001b[38;5;241m=\u001b[39m \u001b[43m개별종목시세\u001b[49m\u001b[43m(\u001b[49m\u001b[43m)\u001b[49m\u001b[38;5;241;43m.\u001b[39;49m\u001b[43mfetch\u001b[49m\u001b[43m(\u001b[49m\u001b[43mfromdate\u001b[49m\u001b[43m,\u001b[49m\u001b[43m \u001b[49m\u001b[43mtodate\u001b[49m\u001b[43m,\u001b[49m\u001b[43m \u001b[49m\u001b[43misin\u001b[49m\u001b[43m,\u001b[49m\u001b[43m \u001b[49m\u001b[43madjusted\u001b[49m\u001b[43m)\u001b[49m\n\u001b[0;32m     54\u001b[0m df \u001b[38;5;241m=\u001b[39m df[[\u001b[38;5;124m'\u001b[39m\u001b[38;5;124mTRD_DD\u001b[39m\u001b[38;5;124m'\u001b[39m, \u001b[38;5;124m'\u001b[39m\u001b[38;5;124mTDD_OPNPRC\u001b[39m\u001b[38;5;124m'\u001b[39m, \u001b[38;5;124m'\u001b[39m\u001b[38;5;124mTDD_HGPRC\u001b[39m\u001b[38;5;124m'\u001b[39m, \u001b[38;5;124m'\u001b[39m\u001b[38;5;124mTDD_LWPRC\u001b[39m\u001b[38;5;124m'\u001b[39m, \u001b[38;5;124m'\u001b[39m\u001b[38;5;124mTDD_CLSPRC\u001b[39m\u001b[38;5;124m'\u001b[39m,\n\u001b[0;32m     55\u001b[0m          \u001b[38;5;124m'\u001b[39m\u001b[38;5;124mACC_TRDVOL\u001b[39m\u001b[38;5;124m'\u001b[39m, \u001b[38;5;124m'\u001b[39m\u001b[38;5;124mACC_TRDVAL\u001b[39m\u001b[38;5;124m'\u001b[39m, \u001b[38;5;124m'\u001b[39m\u001b[38;5;124mFLUC_RT\u001b[39m\u001b[38;5;124m'\u001b[39m]]\n\u001b[0;32m     56\u001b[0m df\u001b[38;5;241m.\u001b[39mcolumns \u001b[38;5;241m=\u001b[39m [\u001b[38;5;124m'\u001b[39m\u001b[38;5;124m날짜\u001b[39m\u001b[38;5;124m'\u001b[39m, \u001b[38;5;124m'\u001b[39m\u001b[38;5;124m시가\u001b[39m\u001b[38;5;124m'\u001b[39m, \u001b[38;5;124m'\u001b[39m\u001b[38;5;124m고가\u001b[39m\u001b[38;5;124m'\u001b[39m, \u001b[38;5;124m'\u001b[39m\u001b[38;5;124m저가\u001b[39m\u001b[38;5;124m'\u001b[39m, \u001b[38;5;124m'\u001b[39m\u001b[38;5;124m종가\u001b[39m\u001b[38;5;124m'\u001b[39m, \u001b[38;5;124m'\u001b[39m\u001b[38;5;124m거래량\u001b[39m\u001b[38;5;124m'\u001b[39m, \u001b[38;5;124m'\u001b[39m\u001b[38;5;124m거래대금\u001b[39m\u001b[38;5;124m'\u001b[39m,\n\u001b[0;32m     57\u001b[0m               \u001b[38;5;124m'\u001b[39m\u001b[38;5;124m등락률\u001b[39m\u001b[38;5;124m'\u001b[39m]\n",
      "File \u001b[1;32mC:\\AI\\pythonProject2\\venv\\lib\\site-packages\\pykrx\\website\\krx\\market\\core.py:114\u001b[0m, in \u001b[0;36m개별종목시세.fetch\u001b[1;34m(self, strtDd, endDd, isuCd, adjStkPrc)\u001b[0m\n\u001b[0;32m     82\u001b[0m \u001b[38;5;28;01mdef\u001b[39;00m \u001b[38;5;21mfetch\u001b[39m(\u001b[38;5;28mself\u001b[39m, strtDd: \u001b[38;5;28mstr\u001b[39m, endDd: \u001b[38;5;28mstr\u001b[39m, isuCd: \u001b[38;5;28mstr\u001b[39m, adjStkPrc: \u001b[38;5;28mint\u001b[39m) \u001b[38;5;241m-\u001b[39m\u001b[38;5;241m>\u001b[39m DataFrame:\n\u001b[0;32m     83\u001b[0m \u001b[38;5;250m    \u001b[39m\u001b[38;5;124;03m\"\"\"[12003] 개별종목 시세 추이 (수정종가 아님)\u001b[39;00m\n\u001b[0;32m     84\u001b[0m \n\u001b[0;32m     85\u001b[0m \u001b[38;5;124;03m    Args:\u001b[39;00m\n\u001b[1;32m   (...)\u001b[0m\n\u001b[0;32m    112\u001b[0m \u001b[38;5;124;03m            543,250,212,050,000  5,969,782,550\u001b[39;00m\n\u001b[0;32m    113\u001b[0m \u001b[38;5;124;03m    \"\"\"\u001b[39;00m\n\u001b[1;32m--> 114\u001b[0m     result \u001b[38;5;241m=\u001b[39m \u001b[38;5;28;43mself\u001b[39;49m\u001b[38;5;241;43m.\u001b[39;49m\u001b[43mread\u001b[49m\u001b[43m(\u001b[49m\u001b[43misuCd\u001b[49m\u001b[38;5;241;43m=\u001b[39;49m\u001b[43misuCd\u001b[49m\u001b[43m,\u001b[49m\u001b[43m \u001b[49m\u001b[43mstrtDd\u001b[49m\u001b[38;5;241;43m=\u001b[39;49m\u001b[43mstrtDd\u001b[49m\u001b[43m,\u001b[49m\u001b[43m \u001b[49m\u001b[43mendDd\u001b[49m\u001b[38;5;241;43m=\u001b[39;49m\u001b[43mendDd\u001b[49m\u001b[43m,\u001b[49m\u001b[43m \u001b[49m\u001b[43madjStkPrc\u001b[49m\u001b[38;5;241;43m=\u001b[39;49m\u001b[43madjStkPrc\u001b[49m\u001b[43m)\u001b[49m\n\u001b[0;32m    115\u001b[0m     \u001b[38;5;28;01mreturn\u001b[39;00m DataFrame(result[\u001b[38;5;124m'\u001b[39m\u001b[38;5;124moutput\u001b[39m\u001b[38;5;124m'\u001b[39m])\n",
      "File \u001b[1;32mC:\\AI\\pythonProject2\\venv\\lib\\site-packages\\pykrx\\website\\krx\\krxio.py:24\u001b[0m, in \u001b[0;36mKrxWebIo.read\u001b[1;34m(self, **params)\u001b[0m\n\u001b[0;32m     22\u001b[0m params\u001b[38;5;241m.\u001b[39mupdate(bld\u001b[38;5;241m=\u001b[39m\u001b[38;5;28mself\u001b[39m\u001b[38;5;241m.\u001b[39mbld)\n\u001b[0;32m     23\u001b[0m resp \u001b[38;5;241m=\u001b[39m \u001b[38;5;28msuper\u001b[39m()\u001b[38;5;241m.\u001b[39mread(\u001b[38;5;241m*\u001b[39m\u001b[38;5;241m*\u001b[39mparams)\n\u001b[1;32m---> 24\u001b[0m \u001b[38;5;28;01mreturn\u001b[39;00m \u001b[43mresp\u001b[49m\u001b[38;5;241;43m.\u001b[39;49m\u001b[43mjson\u001b[49m\u001b[43m(\u001b[49m\u001b[43m)\u001b[49m\n",
      "File \u001b[1;32mC:\\AI\\pythonProject2\\venv\\lib\\site-packages\\requests\\models.py:975\u001b[0m, in \u001b[0;36mResponse.json\u001b[1;34m(self, **kwargs)\u001b[0m\n\u001b[0;32m    971\u001b[0m     \u001b[38;5;28;01mreturn\u001b[39;00m complexjson\u001b[38;5;241m.\u001b[39mloads(\u001b[38;5;28mself\u001b[39m\u001b[38;5;241m.\u001b[39mtext, \u001b[38;5;241m*\u001b[39m\u001b[38;5;241m*\u001b[39mkwargs)\n\u001b[0;32m    972\u001b[0m \u001b[38;5;28;01mexcept\u001b[39;00m JSONDecodeError \u001b[38;5;28;01mas\u001b[39;00m e:\n\u001b[0;32m    973\u001b[0m     \u001b[38;5;66;03m# Catch JSON-related errors and raise as requests.JSONDecodeError\u001b[39;00m\n\u001b[0;32m    974\u001b[0m     \u001b[38;5;66;03m# This aliases json.JSONDecodeError and simplejson.JSONDecodeError\u001b[39;00m\n\u001b[1;32m--> 975\u001b[0m     \u001b[38;5;28;01mraise\u001b[39;00m RequestsJSONDecodeError(e\u001b[38;5;241m.\u001b[39mmsg, e\u001b[38;5;241m.\u001b[39mdoc, e\u001b[38;5;241m.\u001b[39mpos)\n",
      "\u001b[1;31mJSONDecodeError\u001b[0m: Expecting value: line 1 column 1 (char 0)"
     ]
    }
   ],
   "source": [
    "start_date=\"20200101\"\n",
    "end_date=\"20221231\"\n",
    "\n",
    "close_df=pd.DataFrame()\n",
    "\n",
    "for ticker in ticker_list:\n",
    "    종가 = stock.get_market_ohlcv(start_date, end_date, ticker)['종가']\n",
    "    종목명 = stock.get_market_ticker_name(ticker)\n",
    "    close_df[종목명] = 종가\n",
    "close_df"
   ]
  },
  {
   "cell_type": "markdown",
   "id": "029f2ddd-d9a1-4982-8eae-f79bca741cd4",
   "metadata": {},
   "source": [
    "# crawling"
   ]
  },
  {
   "cell_type": "code",
   "execution_count": null,
   "id": "41f4d4e1-0609-4680-b7da-bbc1867555f6",
   "metadata": {
    "tags": []
   },
   "outputs": [],
   "source": [
    "from bs4 import BeautifulSoup\n",
    "import requests\n",
    "\n",
    "유동주식수_list=[]\n",
    "발행주식수_list=[]\n",
    "res_list=[]\n",
    "for ticker in ticker_list:\n",
    "    res = requests.get(f\"https://comp.fnguide.com/SVO2/ASP/SVD_main.asp?pGB=1&gicode=A{ticker}&cID=&MenuYn=Y&ReportGB=&NewMenuID=11&stkGb=&strResearchYN=\")\n",
    "    print(res.status_code)\n",
    "    res.text[:1000]\n",
    "    soup = BeautifulSoup(res.text, 'html.parser')\n",
    "    li_list = soup.select(\"#svdMainGrid1 > table > tbody > tr\")\n",
    "    res_list.append(li_list)\n"
   ]
  },
  {
   "cell_type": "code",
   "execution_count": null,
   "id": "b0a86125-3a1a-40f2-99c4-e2e19bface2a",
   "metadata": {
    "tags": []
   },
   "outputs": [],
   "source": [
    "유동주식수_list=[]\n",
    "발행주식수_list=[]\n",
    "for res in res_list:\n",
    "    # print(i,res)\n",
    "    유동주식수    = res[5].select_one(\"td.cle.r\").text\n",
    "    #svdMainGrid1 > table > tbody > tr:nth-child(7) > td:nth-child(2)\n",
    "    발행주식수    = res[5].select_one(\"td\").text\n",
    "    # print(유동주식수)\n",
    "    유동주식수_list.append(유동주식수)\n",
    "    발행주식수_list.append(발행주식수)"
   ]
  },
  {
   "cell_type": "code",
   "execution_count": null,
   "id": "5ee4f4e2-ad8e-4fc6-a74a-56a4fc9bf257",
   "metadata": {
    "tags": []
   },
   "outputs": [],
   "source": [
    "dic={\"유동주식수\":유동주식수_list,\"발행주식수\":발행주식수_list}\n",
    "df=pd.DataFrame(dic)\n",
    "\n",
    "df['기업명']=ticker_name_list\n",
    "df['기업코드']=ticker_list\n",
    "\n",
    "df.head()"
   ]
  },
  {
   "cell_type": "markdown",
   "id": "6127a8f0-a435-4d4c-b81d-73d25b0cd61a",
   "metadata": {},
   "source": [
    "## split"
   ]
  },
  {
   "cell_type": "markdown",
   "id": "7ba2e671-25b7-4d56-ba0f-5bd3b0befef6",
   "metadata": {},
   "source": [
    "### 유동주식수/비율"
   ]
  },
  {
   "cell_type": "code",
   "execution_count": null,
   "id": "b2b06977-a232-4f40-a4e1-6f5a034a8c5c",
   "metadata": {
    "tags": []
   },
   "outputs": [],
   "source": [
    "split_list=[]\n",
    "for i in df['유동주식수']:\n",
    "    # print(i)\n",
    "    split_var=i.split()\n",
    "    split_list.append(split_var)\n",
    "split_list    "
   ]
  },
  {
   "cell_type": "code",
   "execution_count": null,
   "id": "38a82188-4b12-4817-b9cd-c99e9f94a3e5",
   "metadata": {
    "tags": []
   },
   "outputs": [],
   "source": [
    "temp_df=pd.DataFrame(split_list)\n",
    "temp_df"
   ]
  },
  {
   "cell_type": "code",
   "execution_count": null,
   "id": "04019b3d-7b26-49eb-ba03-02644ca423d1",
   "metadata": {
    "tags": []
   },
   "outputs": [],
   "source": [
    "for i in range(len(temp_df[0])):\n",
    "    temp_df[0][i]=temp_df[0][i].replace(\",\",\"\")"
   ]
  },
  {
   "cell_type": "code",
   "execution_count": null,
   "id": "2758b890-12c3-46b1-bfb7-6027b49c7e53",
   "metadata": {
    "tags": []
   },
   "outputs": [],
   "source": [
    "df['유동주식수']=temp_df[0]\n",
    "df['유동비율']=temp_df[2]"
   ]
  },
  {
   "cell_type": "code",
   "execution_count": null,
   "id": "d7a6f2ce-ecb2-4596-92e1-1aa82e418ed9",
   "metadata": {
    "tags": []
   },
   "outputs": [],
   "source": [
    "df['유동주식수']= pd.to_numeric(df['유동주식수'])\n",
    "df['유동비율']=df['유동비율'].astype('float')"
   ]
  },
  {
   "cell_type": "code",
   "execution_count": null,
   "id": "4eb2969d-236e-4e4f-ab96-2fbbd22d75ef",
   "metadata": {
    "tags": []
   },
   "outputs": [],
   "source": [
    "df.info()"
   ]
  },
  {
   "cell_type": "markdown",
   "id": "4ce61f0d-5c3d-4b5e-85b4-b97171856068",
   "metadata": {},
   "source": [
    "### 발행주식수: 보통주/우선주"
   ]
  },
  {
   "cell_type": "code",
   "execution_count": null,
   "id": "2e967c75-ec83-49ff-9cc5-2b5dcd29bcc7",
   "metadata": {
    "tags": []
   },
   "outputs": [],
   "source": [
    "# temp_df=pd.DataFrame(split_list,columns=['보통주','우선주'])\n",
    "# temp_df['보통주']=temp_df['보통주'].str.extract('([\\d]+[,][\\d]+[,][\\d]+)')"
   ]
  },
  {
   "cell_type": "code",
   "execution_count": null,
   "id": "885b2323-40fe-4b01-8cc5-820b765044df",
   "metadata": {
    "tags": []
   },
   "outputs": [],
   "source": [
    "# temp_df['보통주'].str.split(\",\")"
   ]
  },
  {
   "cell_type": "code",
   "execution_count": null,
   "id": "7d2b4944-4da5-4e0e-87e1-b8e7c5999654",
   "metadata": {
    "tags": []
   },
   "outputs": [],
   "source": [
    "# temp_df[['보통주','우선주']]=temp_df[['보통주','우선주']].astype(int)\n",
    "# temp_df.info()"
   ]
  },
  {
   "cell_type": "markdown",
   "id": "e96fc233-da19-4c51-b910-8e11190de87e",
   "metadata": {},
   "source": [
    "# 펀드"
   ]
  },
  {
   "cell_type": "markdown",
   "id": "1c20424e-8b78-4994-a8eb-4c7f71ca228c",
   "metadata": {},
   "source": [
    "## 시가총액"
   ]
  },
  {
   "cell_type": "code",
   "execution_count": null,
   "id": "ed9c1dc8-8b1c-48b3-b784-31b7536140f6",
   "metadata": {
    "tags": []
   },
   "outputs": [],
   "source": [
    "# close_df['삼성전자_시가총액']=df['유동주식수'][0]*close_df['삼성전자']\n",
    "# close_df['삼성바이오로직스_시가총액']=df['유동주식수'][1]*close_df['삼성바이오로직스']\n",
    "# close_df['SK하이닉스_시가총액']=df['유동주식수'][2]*close_df['SK하이닉스']\n",
    "# close_df['LG화학_시가총액']=df['유동주식수'][3]*close_df['LG화학']\n",
    "# close_df['삼성SDI_시가총액']=df['유동주식수'][4]*close_df['삼성SDI']\n",
    "# close_df.head()"
   ]
  },
  {
   "cell_type": "code",
   "execution_count": null,
   "id": "44e11769-f4ac-4867-b186-f8184fc526bf",
   "metadata": {
    "tags": []
   },
   "outputs": [],
   "source": [
    "close_df[['삼성전자_시가총액','삼성바이오로직스_시가총액','SK하이닉스_시가총액','LG화학_시가총액','삼성SDI_시가총액']]=0\n",
    "\n",
    "for i in range(len(close_df)):\n",
    "    close_df['삼성전자_시가총액'][i]=df['유동주식수'][0]*close_df['삼성전자'][i]\n",
    "    close_df['삼성바이오로직스_시가총액'][i]=df['유동주식수'][1]*close_df['삼성바이오로직스'][i]\n",
    "    close_df['SK하이닉스_시가총액'][i]=df['유동주식수'][2]*close_df['SK하이닉스'][i]\n",
    "    close_df['LG화학_시가총액'][i]=df['유동주식수'][3]*close_df['LG화학'][i]\n",
    "    close_df['삼성SDI_시가총액'][i]=df['유동주식수'][4]*close_df['삼성SDI'][i]\n",
    "    \n",
    "close_df.head()"
   ]
  },
  {
   "cell_type": "markdown",
   "id": "f4d6d7cf-7077-4dbb-8303-b33f324ceae2",
   "metadata": {},
   "source": [
    "## 지수화"
   ]
  },
  {
   "cell_type": "code",
   "execution_count": null,
   "id": "0c6dace2-8452-4d9f-af22-afec503ab9c2",
   "metadata": {
    "tags": []
   },
   "outputs": [],
   "source": [
    "close_df['시가총액합']=close_df['삼성전자_시가총액']+close_df['삼성바이오로직스_시가총액']+close_df['SK하이닉스_시가총액']+close_df['LG화학_시가총액']+close_df['삼성SDI_시가총액']\n",
    "close_df['지수']=close_df['시가총액합']/close_df['시가총액합'][0]*100\n",
    "close_df.head()"
   ]
  },
  {
   "cell_type": "markdown",
   "id": "f89dcf7b-dbae-4184-888c-ff7904fe107d",
   "metadata": {},
   "source": [
    "## 총좌수"
   ]
  },
  {
   "cell_type": "code",
   "execution_count": null,
   "id": "ed1e1c8a-ece7-4d9c-b2c9-9e837c1e1e3a",
   "metadata": {
    "tags": []
   },
   "outputs": [],
   "source": [
    "환매설정=pd.read_csv('../datasets/실습07_설정환매_랜덤.csv')\n",
    "환매설정=환매설정.set_index('날짜')\n",
    "환매설정.head()"
   ]
  },
  {
   "cell_type": "code",
   "execution_count": null,
   "id": "d7c73285-3974-4831-87c4-98538361a4fa",
   "metadata": {
    "tags": []
   },
   "outputs": [],
   "source": [
    "close_df['설정']=환매설정['설정'].values\n",
    "close_df['환매']=환매설정['환매'].values"
   ]
  },
  {
   "cell_type": "code",
   "execution_count": null,
   "id": "407151b5-519c-4aab-ad0d-039a8022f9dd",
   "metadata": {
    "tags": []
   },
   "outputs": [],
   "source": [
    "close_df['총좌수']=0\n",
    "\n",
    "for i in range(len(close_df)):\n",
    "    if i==0 :\n",
    "        close_df['총좌수'][0]=1000000\n",
    "    else:\n",
    "        close_df['총좌수'][i]=close_df['총좌수'][i-1]+close_df['설정'][i]-close_df['환매'][i]\n",
    "\n",
    "close_df.head()"
   ]
  },
  {
   "cell_type": "markdown",
   "id": "14f48aaa-86bf-4fb1-a702-6f7411681496",
   "metadata": {},
   "source": [
    "## 편입비중"
   ]
  },
  {
   "cell_type": "code",
   "execution_count": null,
   "id": "b3674b05-d367-4ee3-9e49-d82f96deb414",
   "metadata": {
    "tags": []
   },
   "outputs": [],
   "source": [
    "close_df['삼성전자_편입비중']=close_df['삼성전자_시가총액']/close_df['시가총액합']\n",
    "close_df['삼성바이오로직스_편입비중']=close_df['삼성바이오로직스_시가총액']/close_df['시가총액합']\n",
    "close_df['SK하이닉스_편입비중']=close_df['SK하이닉스_시가총액']/close_df['시가총액합']\n",
    "close_df['LG화학_편입비중']=close_df['LG화학_시가총액']/close_df['시가총액합']\n",
    "close_df['삼성SDI_편입비중']=close_df['삼성SDI_시가총액']/close_df['시가총액합']\n",
    "close_df.head()"
   ]
  },
  {
   "cell_type": "markdown",
   "id": "350782e2-7ed7-46fe-a4db-d09767faac0b",
   "metadata": {},
   "source": [
    "## iNAV"
   ]
  },
  {
   "cell_type": "code",
   "execution_count": null,
   "id": "6b281a3b-403a-4f89-a5e8-4460649d34d6",
   "metadata": {
    "tags": []
   },
   "outputs": [],
   "source": [
    "close_df['iNAV']=0\n",
    "\n",
    "for i in range(len(close_df)):\n",
    "    if i==0 :\n",
    "        close_df['iNAV'][0]=10000\n",
    "    else:\n",
    "        close_df['iNAV'][i]=(close_df['지수'][i]/close_df['지수'][0])*close_df['iNAV'][0]"
   ]
  },
  {
   "cell_type": "code",
   "execution_count": null,
   "id": "6b5a50e6-2075-44b2-b770-73b9ebc9875c",
   "metadata": {
    "tags": []
   },
   "outputs": [],
   "source": [
    "import math\n",
    "for i in range(len(close_df)):\n",
    "    close_df['iNAV'][i]=math.trunc(close_df['iNAV'][i])\n",
    "\n",
    "close_df.head()"
   ]
  },
  {
   "cell_type": "markdown",
   "id": "4ae6f9de-75ad-4ae4-8dcb-a40e550c57bf",
   "metadata": {},
   "source": [
    "## AUM"
   ]
  },
  {
   "cell_type": "code",
   "execution_count": null,
   "id": "1a349181-6243-45c5-a2c2-169e6ef91897",
   "metadata": {
    "tags": []
   },
   "outputs": [],
   "source": [
    "close_df['AUM']=close_df['총좌수']*close_df['iNAV']\n",
    "close_df.head()"
   ]
  },
  {
   "cell_type": "markdown",
   "id": "ed76404e-c6ac-4d22-a0ce-121ca38ff400",
   "metadata": {},
   "source": [
    "## 일자별매매내역"
   ]
  },
  {
   "cell_type": "code",
   "execution_count": null,
   "id": "05f00ce6-4adb-49d0-a862-45d3d8401906",
   "metadata": {},
   "outputs": [],
   "source": [
    "close_df[['삼성전자_일자별매매내역','삼성바이오로직스_일자별매매내역','SK하이닉스_일자별매매내역','LG화학_일자별매매내역','삼성SDI_일자별매매내역']]=0\n",
    "close_df[['삼성전자_주식잔고','삼성바이오로직스_주식잔고','SK하이닉스_주식잔고','LG화학_주식잔고','삼성SDI_주식잔고']]=0"
   ]
  },
  {
   "cell_type": "code",
   "execution_count": null,
   "id": "c91056f5-85be-4418-aa6c-4a525429d5a1",
   "metadata": {},
   "outputs": [],
   "source": [
    "for i in range(len(close_df)):   \n",
    "    if i==0 :\n",
    "        close_df['삼성전자_일자별매매내역'][0]=(close_df['삼성전자_편입비중'][0]*close_df['AUM'][0])/close_df['삼성전자'][0]\n",
    "        close_df['삼성전자_주식잔고'][0]=close_df['삼성전자_일자별매매내역'][0]\n",
    "        \n",
    "        close_df['삼성바이오로직스_일자별매매내역'][0]=(close_df['삼성바이오로직스_편입비중'][0]*close_df['AUM'][0])/close_df['삼성바이오로직스'][0]\n",
    "        close_df['삼성바이오로직스_주식잔고'][0]=close_df['삼성바이오로직스_일자별매매내역'][0]\n",
    "        \n",
    "        close_df['SK하이닉스_일자별매매내역'][0]=(close_df['SK하이닉스_편입비중'][0]*close_df['AUM'][0])/close_df['SK하이닉스'][0]\n",
    "        close_df['SK하이닉스_주식잔고'][0]=close_df['SK하이닉스_일자별매매내역'][0]\n",
    "        \n",
    "        close_df['LG화학_일자별매매내역'][0]=(close_df['LG화학_편입비중'][0]*close_df['AUM'][0])/close_df['LG화학'][0]\n",
    "        close_df['LG화학_주식잔고'][0]=close_df['LG화학_일자별매매내역'][0]\n",
    "        \n",
    "        close_df['삼성SDI_일자별매매내역'][0]=(close_df['삼성SDI_편입비중'][0]*close_df['AUM'][0])/close_df['삼성SDI'][0]\n",
    "        close_df['삼성SDI_주식잔고'][0]=close_df['삼성SDI_일자별매매내역'][0]\n",
    "        \n",
    "    else:\n",
    "        \n",
    "        close_df['삼성전자_일자별매매내역'][i]=((close_df['삼성전자_편입비중'][i]*close_df['AUM'][i])/close_df['삼성전자'][i])-close_df['삼성전자_주식잔고'][i-1]\n",
    "        close_df['삼성전자_주식잔고'][i]=close_df['삼성전자_주식잔고'][i-1]+close_df['삼성전자_일자별매매내역'][i]\n",
    "        \n",
    "        close_df['삼성바이오로직스_일자별매매내역'][i]=((close_df['삼성바이오로직스_편입비중'][i]*close_df['AUM'][i])/close_df['삼성바이오로직스'][i])-close_df['삼성바이오로직스_주식잔고'][i-1]\n",
    "        close_df['삼성바이오로직스_주식잔고'][i]=close_df['삼성바이오로직스_주식잔고'][i-1]+close_df['삼성바이오로직스_일자별매매내역'][i]\n",
    "        \n",
    "        close_df['SK하이닉스_일자별매매내역'][i]=((close_df['SK하이닉스_편입비중'][i]*close_df['AUM'][i])/close_df['SK하이닉스'][i])-close_df['SK하이닉스_주식잔고'][i-1]\n",
    "        close_df['SK하이닉스_주식잔고'][i]=close_df['SK하이닉스_주식잔고'][i-1]+close_df['SK하이닉스_일자별매매내역'][i]\n",
    "        \n",
    "        close_df['LG화학_일자별매매내역'][i]=((close_df['LG화학_편입비중'][i]*close_df['AUM'][i])/close_df['LG화학'][i])-close_df['LG화학_주식잔고'][i-1]\n",
    "        close_df['LG화학_주식잔고'][i]=close_df['LG화학_주식잔고'][i-1]+close_df['LG화학_일자별매매내역'][i]\n",
    "        \n",
    "        close_df['삼성SDI_일자별매매내역'][i]=((close_df['삼성SDI_편입비중'][i]*close_df['AUM'][i])/close_df['삼성SDI'][i])-close_df['삼성SDI_주식잔고'][i-1]\n",
    "        close_df['삼성SDI_주식잔고'][i]=close_df['삼성SDI_주식잔고'][i-1]+close_df['삼성SDI_일자별매매내역'][i]"
   ]
  },
  {
   "cell_type": "code",
   "execution_count": null,
   "id": "c081cc97-964a-4338-8e42-9269e8b35893",
   "metadata": {
    "tags": []
   },
   "outputs": [],
   "source": [
    "close_df.tail(1)"
   ]
  },
  {
   "cell_type": "code",
   "execution_count": null,
   "id": "d6b5c722-21c3-432f-af85-ccd62ffc0766",
   "metadata": {
    "tags": []
   },
   "outputs": [],
   "source": [
    "close_df.to_csv(\"./펀드운용모델.csv\")"
   ]
  },
  {
   "cell_type": "markdown",
   "id": "200c0401-8280-4df9-abf4-e94a0d8a6f60",
   "metadata": {},
   "source": [
    "# 수익률비교"
   ]
  },
  {
   "cell_type": "markdown",
   "id": "eba59598-0413-4fd9-91cb-dfe3edac01ed",
   "metadata": {},
   "source": [
    "## Data Load"
   ]
  },
  {
   "cell_type": "code",
   "execution_count": 9,
   "id": "133474c5-33c4-4563-a492-f524b9c794fe",
   "metadata": {
    "tags": []
   },
   "outputs": [
    {
     "data": {
      "text/html": [
       "<div>\n",
       "<style scoped>\n",
       "    .dataframe tbody tr th:only-of-type {\n",
       "        vertical-align: middle;\n",
       "    }\n",
       "\n",
       "    .dataframe tbody tr th {\n",
       "        vertical-align: top;\n",
       "    }\n",
       "\n",
       "    .dataframe thead th {\n",
       "        text-align: right;\n",
       "    }\n",
       "</style>\n",
       "<table border=\"1\" class=\"dataframe\">\n",
       "  <thead>\n",
       "    <tr style=\"text-align: right;\">\n",
       "      <th></th>\n",
       "      <th>편입비중_삼성전자</th>\n",
       "      <th>편입비중_삼성바이오로직스</th>\n",
       "      <th>편입비중_SK하이닉스</th>\n",
       "      <th>편입비중_LG화학</th>\n",
       "      <th>편입비중_삼성SDI</th>\n",
       "      <th>지수</th>\n",
       "      <th>설정좌수</th>\n",
       "      <th>환매좌수</th>\n",
       "      <th>총좌수</th>\n",
       "      <th>iNAV</th>\n",
       "      <th>AUM</th>\n",
       "      <th>매매내역_삼성전자</th>\n",
       "      <th>매매내역_삼성바이오로직스</th>\n",
       "      <th>매매내역_SK하이닉스</th>\n",
       "      <th>매매내역_LG화학</th>\n",
       "      <th>매매내역_삼성SDI</th>\n",
       "      <th>주식잔고_삼성전자</th>\n",
       "      <th>주식잔고_삼성바이오로직스</th>\n",
       "      <th>주식잔고_SK하이닉스</th>\n",
       "      <th>주식잔고_LG화학</th>\n",
       "      <th>주식잔고_삼성SDI</th>\n",
       "    </tr>\n",
       "    <tr>\n",
       "      <th>날짜</th>\n",
       "      <th></th>\n",
       "      <th></th>\n",
       "      <th></th>\n",
       "      <th></th>\n",
       "      <th></th>\n",
       "      <th></th>\n",
       "      <th></th>\n",
       "      <th></th>\n",
       "      <th></th>\n",
       "      <th></th>\n",
       "      <th></th>\n",
       "      <th></th>\n",
       "      <th></th>\n",
       "      <th></th>\n",
       "      <th></th>\n",
       "      <th></th>\n",
       "      <th></th>\n",
       "      <th></th>\n",
       "      <th></th>\n",
       "      <th></th>\n",
       "      <th></th>\n",
       "    </tr>\n",
       "  </thead>\n",
       "  <tbody>\n",
       "    <tr>\n",
       "      <th>2020-01-02</th>\n",
       "      <td>0.746518</td>\n",
       "      <td>0.022301</td>\n",
       "      <td>0.152173</td>\n",
       "      <td>0.044133</td>\n",
       "      <td>0.034875</td>\n",
       "      <td>1.000000</td>\n",
       "      <td>1000000</td>\n",
       "      <td>0</td>\n",
       "      <td>1000000</td>\n",
       "      <td>10000.000000</td>\n",
       "      <td>1.000000e+10</td>\n",
       "      <td>135238.0</td>\n",
       "      <td>526.0</td>\n",
       "      <td>16068.0</td>\n",
       "      <td>1405.0</td>\n",
       "      <td>1503.0</td>\n",
       "      <td>135238</td>\n",
       "      <td>526</td>\n",
       "      <td>16068</td>\n",
       "      <td>1405</td>\n",
       "      <td>1503</td>\n",
       "    </tr>\n",
       "    <tr>\n",
       "      <th>2020-01-03</th>\n",
       "      <td>0.748685</td>\n",
       "      <td>0.021908</td>\n",
       "      <td>0.151469</td>\n",
       "      <td>0.043602</td>\n",
       "      <td>0.034337</td>\n",
       "      <td>1.002525</td>\n",
       "      <td>50000</td>\n",
       "      <td>0</td>\n",
       "      <td>1050000</td>\n",
       "      <td>10025.248628</td>\n",
       "      <td>1.052651e+10</td>\n",
       "      <td>6762.0</td>\n",
       "      <td>26.0</td>\n",
       "      <td>804.0</td>\n",
       "      <td>70.0</td>\n",
       "      <td>75.0</td>\n",
       "      <td>142000</td>\n",
       "      <td>552</td>\n",
       "      <td>16872</td>\n",
       "      <td>1475</td>\n",
       "      <td>1578</td>\n",
       "    </tr>\n",
       "    <tr>\n",
       "      <th>2020-01-06</th>\n",
       "      <td>0.749622</td>\n",
       "      <td>0.021415</td>\n",
       "      <td>0.151338</td>\n",
       "      <td>0.043095</td>\n",
       "      <td>0.034530</td>\n",
       "      <td>1.001271</td>\n",
       "      <td>150000</td>\n",
       "      <td>100000</td>\n",
       "      <td>1100000</td>\n",
       "      <td>10012.711428</td>\n",
       "      <td>1.101398e+10</td>\n",
       "      <td>6762.0</td>\n",
       "      <td>27.0</td>\n",
       "      <td>803.0</td>\n",
       "      <td>71.0</td>\n",
       "      <td>75.0</td>\n",
       "      <td>148762</td>\n",
       "      <td>579</td>\n",
       "      <td>17675</td>\n",
       "      <td>1546</td>\n",
       "      <td>1653</td>\n",
       "    </tr>\n",
       "    <tr>\n",
       "      <th>2020-01-07</th>\n",
       "      <td>0.750133</td>\n",
       "      <td>0.021677</td>\n",
       "      <td>0.150147</td>\n",
       "      <td>0.043451</td>\n",
       "      <td>0.034592</td>\n",
       "      <td>1.005998</td>\n",
       "      <td>100000</td>\n",
       "      <td>100000</td>\n",
       "      <td>1100000</td>\n",
       "      <td>10059.982409</td>\n",
       "      <td>1.106598e+10</td>\n",
       "      <td>0.0</td>\n",
       "      <td>0.0</td>\n",
       "      <td>0.0</td>\n",
       "      <td>0.0</td>\n",
       "      <td>0.0</td>\n",
       "      <td>148762</td>\n",
       "      <td>579</td>\n",
       "      <td>17675</td>\n",
       "      <td>1546</td>\n",
       "      <td>1653</td>\n",
       "    </tr>\n",
       "    <tr>\n",
       "      <th>2020-01-08</th>\n",
       "      <td>0.751034</td>\n",
       "      <td>0.020787</td>\n",
       "      <td>0.153023</td>\n",
       "      <td>0.041501</td>\n",
       "      <td>0.033656</td>\n",
       "      <td>1.022798</td>\n",
       "      <td>150000</td>\n",
       "      <td>100000</td>\n",
       "      <td>1150000</td>\n",
       "      <td>10227.983085</td>\n",
       "      <td>1.176218e+10</td>\n",
       "      <td>6762.0</td>\n",
       "      <td>26.0</td>\n",
       "      <td>804.0</td>\n",
       "      <td>70.0</td>\n",
       "      <td>75.0</td>\n",
       "      <td>155524</td>\n",
       "      <td>605</td>\n",
       "      <td>18479</td>\n",
       "      <td>1616</td>\n",
       "      <td>1728</td>\n",
       "    </tr>\n",
       "  </tbody>\n",
       "</table>\n",
       "</div>"
      ],
      "text/plain": [
       "            편입비중_삼성전자  편입비중_삼성바이오로직스  편입비중_SK하이닉스  편입비중_LG화학  편입비중_삼성SDI  \\\n",
       "날짜                                                                         \n",
       "2020-01-02   0.746518       0.022301     0.152173   0.044133    0.034875   \n",
       "2020-01-03   0.748685       0.021908     0.151469   0.043602    0.034337   \n",
       "2020-01-06   0.749622       0.021415     0.151338   0.043095    0.034530   \n",
       "2020-01-07   0.750133       0.021677     0.150147   0.043451    0.034592   \n",
       "2020-01-08   0.751034       0.020787     0.153023   0.041501    0.033656   \n",
       "\n",
       "                  지수     설정좌수    환매좌수      총좌수          iNAV           AUM  \\\n",
       "날짜                                                                           \n",
       "2020-01-02  1.000000  1000000       0  1000000  10000.000000  1.000000e+10   \n",
       "2020-01-03  1.002525    50000       0  1050000  10025.248628  1.052651e+10   \n",
       "2020-01-06  1.001271   150000  100000  1100000  10012.711428  1.101398e+10   \n",
       "2020-01-07  1.005998   100000  100000  1100000  10059.982409  1.106598e+10   \n",
       "2020-01-08  1.022798   150000  100000  1150000  10227.983085  1.176218e+10   \n",
       "\n",
       "            매매내역_삼성전자  매매내역_삼성바이오로직스  매매내역_SK하이닉스  매매내역_LG화학  매매내역_삼성SDI  \\\n",
       "날짜                                                                         \n",
       "2020-01-02   135238.0          526.0      16068.0     1405.0      1503.0   \n",
       "2020-01-03     6762.0           26.0        804.0       70.0        75.0   \n",
       "2020-01-06     6762.0           27.0        803.0       71.0        75.0   \n",
       "2020-01-07        0.0            0.0          0.0        0.0         0.0   \n",
       "2020-01-08     6762.0           26.0        804.0       70.0        75.0   \n",
       "\n",
       "            주식잔고_삼성전자  주식잔고_삼성바이오로직스  주식잔고_SK하이닉스  주식잔고_LG화학  주식잔고_삼성SDI  \n",
       "날짜                                                                        \n",
       "2020-01-02     135238            526        16068       1405        1503  \n",
       "2020-01-03     142000            552        16872       1475        1578  \n",
       "2020-01-06     148762            579        17675       1546        1653  \n",
       "2020-01-07     148762            579        17675       1546        1653  \n",
       "2020-01-08     155524            605        18479       1616        1728  "
      ]
     },
     "execution_count": 9,
     "metadata": {},
     "output_type": "execute_result"
    }
   ],
   "source": [
    "import pandas as pd\n",
    "import numpy as np\n",
    "\n",
    "fdf = pd.read_csv(\"실습07_펀드_운용모델_최종.csv\", parse_dates=['날짜'])\n",
    "fdf = fdf.set_index(\"날짜\")\n",
    "fdf.head()"
   ]
  },
  {
   "cell_type": "code",
   "execution_count": 10,
   "id": "7fe95087-c23f-4546-854b-eb08c9f4b100",
   "metadata": {},
   "outputs": [],
   "source": [
    "# KOSPI100.KS"
   ]
  },
  {
   "cell_type": "code",
   "execution_count": 11,
   "id": "74ef42df-157e-4d12-9a7e-c23c3dee4e71",
   "metadata": {
    "tags": []
   },
   "outputs": [
    {
     "name": "stdout",
     "output_type": "stream",
     "text": [
      "[*********************100%***********************]  2 of 2 completed\n"
     ]
    },
    {
     "data": {
      "text/html": [
       "<div>\n",
       "<style scoped>\n",
       "    .dataframe tbody tr th:only-of-type {\n",
       "        vertical-align: middle;\n",
       "    }\n",
       "\n",
       "    .dataframe tbody tr th {\n",
       "        vertical-align: top;\n",
       "    }\n",
       "\n",
       "    .dataframe thead th {\n",
       "        text-align: right;\n",
       "    }\n",
       "</style>\n",
       "<table border=\"1\" class=\"dataframe\">\n",
       "  <thead>\n",
       "    <tr style=\"text-align: right;\">\n",
       "      <th></th>\n",
       "      <th>kr_bond</th>\n",
       "      <th>kospi100</th>\n",
       "    </tr>\n",
       "    <tr>\n",
       "      <th>Date</th>\n",
       "      <th></th>\n",
       "      <th></th>\n",
       "    </tr>\n",
       "  </thead>\n",
       "  <tbody>\n",
       "    <tr>\n",
       "      <th>2019-12-30</th>\n",
       "      <td>123030.0</td>\n",
       "      <td>23150.0</td>\n",
       "    </tr>\n",
       "    <tr>\n",
       "      <th>2020-01-02</th>\n",
       "      <td>123285.0</td>\n",
       "      <td>22900.0</td>\n",
       "    </tr>\n",
       "    <tr>\n",
       "      <th>2020-01-03</th>\n",
       "      <td>124030.0</td>\n",
       "      <td>22870.0</td>\n",
       "    </tr>\n",
       "    <tr>\n",
       "      <th>2020-01-06</th>\n",
       "      <td>124360.0</td>\n",
       "      <td>22700.0</td>\n",
       "    </tr>\n",
       "    <tr>\n",
       "      <th>2020-01-07</th>\n",
       "      <td>123590.0</td>\n",
       "      <td>22950.0</td>\n",
       "    </tr>\n",
       "  </tbody>\n",
       "</table>\n",
       "</div>"
      ],
      "text/plain": [
       "             kr_bond  kospi100\n",
       "Date                          \n",
       "2019-12-30  123030.0   23150.0\n",
       "2020-01-02  123285.0   22900.0\n",
       "2020-01-03  124030.0   22870.0\n",
       "2020-01-06  124360.0   22700.0\n",
       "2020-01-07  123590.0   22950.0"
      ]
     },
     "execution_count": 11,
     "metadata": {},
     "output_type": "execute_result"
    }
   ],
   "source": [
    "\"\"\"\n",
    "KODEX KOSPI100 (237350.KS)\n",
    "KOSPI Composite Index (^KS11)\n",
    "KOSEF 10yr KTB (148070.KS)\n",
    "\"\"\"\n",
    "\n",
    "start_date=\"2019-12-29\"\n",
    "end_date=\"2022-12-31\"\n",
    "\n",
    "tickers      = ['237350.KS', '148070.KS'] # 주식:지수,  채권:10년물 국채 \n",
    "\n",
    "from pandas_datareader import data as pdr\n",
    "import yfinance as yf\n",
    "yf.pdr_override()\n",
    "df = pdr.get_data_yahoo(tickers, start_date, end_date)['Close']\n",
    "df.rename(columns = {'237350.KS' : 'kospi100','148070.KS': 'kr_bond'}, inplace = True)\n",
    "df.head()"
   ]
  },
  {
   "cell_type": "markdown",
   "id": "a2f72e3d-ed87-4d44-8585-5d946a14fffe",
   "metadata": {},
   "source": [
    "## CAGR"
   ]
  },
  {
   "cell_type": "code",
   "execution_count": 12,
   "id": "677bde26-8a71-45ac-8806-d4966c86f406",
   "metadata": {
    "tags": []
   },
   "outputs": [],
   "source": [
    "df[['kr_bond_daliy','kospi100_daliy']]=(1+df.pct_change()).cumprod()-1"
   ]
  },
  {
   "cell_type": "code",
   "execution_count": 13,
   "id": "16bb98cc-64fb-40d9-a2ce-75bbefbabce3",
   "metadata": {
    "tags": []
   },
   "outputs": [],
   "source": [
    "df=df.iloc[1:,]"
   ]
  },
  {
   "cell_type": "code",
   "execution_count": 14,
   "id": "f0c1b14e-49d5-47d4-9b4a-1cc749229535",
   "metadata": {
    "tags": []
   },
   "outputs": [
    {
     "data": {
      "text/html": [
       "<div>\n",
       "<style scoped>\n",
       "    .dataframe tbody tr th:only-of-type {\n",
       "        vertical-align: middle;\n",
       "    }\n",
       "\n",
       "    .dataframe tbody tr th {\n",
       "        vertical-align: top;\n",
       "    }\n",
       "\n",
       "    .dataframe thead th {\n",
       "        text-align: right;\n",
       "    }\n",
       "</style>\n",
       "<table border=\"1\" class=\"dataframe\">\n",
       "  <thead>\n",
       "    <tr style=\"text-align: right;\">\n",
       "      <th></th>\n",
       "      <th>kr_bond</th>\n",
       "      <th>kospi100</th>\n",
       "      <th>kr_bond_daliy</th>\n",
       "      <th>kospi100_daliy</th>\n",
       "    </tr>\n",
       "    <tr>\n",
       "      <th>Date</th>\n",
       "      <th></th>\n",
       "      <th></th>\n",
       "      <th></th>\n",
       "      <th></th>\n",
       "    </tr>\n",
       "  </thead>\n",
       "  <tbody>\n",
       "    <tr>\n",
       "      <th>2020-01-02</th>\n",
       "      <td>123285.0</td>\n",
       "      <td>22900.0</td>\n",
       "      <td>0.002073</td>\n",
       "      <td>-0.010799</td>\n",
       "    </tr>\n",
       "    <tr>\n",
       "      <th>2020-01-03</th>\n",
       "      <td>124030.0</td>\n",
       "      <td>22870.0</td>\n",
       "      <td>0.008128</td>\n",
       "      <td>-0.012095</td>\n",
       "    </tr>\n",
       "    <tr>\n",
       "      <th>2020-01-06</th>\n",
       "      <td>124360.0</td>\n",
       "      <td>22700.0</td>\n",
       "      <td>0.010810</td>\n",
       "      <td>-0.019438</td>\n",
       "    </tr>\n",
       "    <tr>\n",
       "      <th>2020-01-07</th>\n",
       "      <td>123590.0</td>\n",
       "      <td>22950.0</td>\n",
       "      <td>0.004552</td>\n",
       "      <td>-0.008639</td>\n",
       "    </tr>\n",
       "    <tr>\n",
       "      <th>2020-01-08</th>\n",
       "      <td>123360.0</td>\n",
       "      <td>22825.0</td>\n",
       "      <td>0.002682</td>\n",
       "      <td>-0.014039</td>\n",
       "    </tr>\n",
       "  </tbody>\n",
       "</table>\n",
       "</div>"
      ],
      "text/plain": [
       "             kr_bond  kospi100  kr_bond_daliy  kospi100_daliy\n",
       "Date                                                         \n",
       "2020-01-02  123285.0   22900.0       0.002073       -0.010799\n",
       "2020-01-03  124030.0   22870.0       0.008128       -0.012095\n",
       "2020-01-06  124360.0   22700.0       0.010810       -0.019438\n",
       "2020-01-07  123590.0   22950.0       0.004552       -0.008639\n",
       "2020-01-08  123360.0   22825.0       0.002682       -0.014039"
      ]
     },
     "execution_count": 14,
     "metadata": {},
     "output_type": "execute_result"
    }
   ],
   "source": [
    "df.head()"
   ]
  },
  {
   "cell_type": "markdown",
   "id": "c9749764-a28c-4ea2-8c43-3256841c47c1",
   "metadata": {},
   "source": [
    "## 지수화"
   ]
  },
  {
   "cell_type": "code",
   "execution_count": 15,
   "id": "1314bc0a-92ea-4061-ac6f-f34917a54231",
   "metadata": {
    "tags": []
   },
   "outputs": [
    {
     "data": {
      "text/html": [
       "<div>\n",
       "<style scoped>\n",
       "    .dataframe tbody tr th:only-of-type {\n",
       "        vertical-align: middle;\n",
       "    }\n",
       "\n",
       "    .dataframe tbody tr th {\n",
       "        vertical-align: top;\n",
       "    }\n",
       "\n",
       "    .dataframe thead th {\n",
       "        text-align: right;\n",
       "    }\n",
       "</style>\n",
       "<table border=\"1\" class=\"dataframe\">\n",
       "  <thead>\n",
       "    <tr style=\"text-align: right;\">\n",
       "      <th></th>\n",
       "      <th>kr_bond</th>\n",
       "      <th>kospi100</th>\n",
       "      <th>kr_bond_daliy</th>\n",
       "      <th>kospi100_daliy</th>\n",
       "      <th>kr_bond_지수</th>\n",
       "      <th>kospi100_지수</th>\n",
       "    </tr>\n",
       "    <tr>\n",
       "      <th>Date</th>\n",
       "      <th></th>\n",
       "      <th></th>\n",
       "      <th></th>\n",
       "      <th></th>\n",
       "      <th></th>\n",
       "      <th></th>\n",
       "    </tr>\n",
       "  </thead>\n",
       "  <tbody>\n",
       "    <tr>\n",
       "      <th>2020-01-02</th>\n",
       "      <td>123285.0</td>\n",
       "      <td>22900.0</td>\n",
       "      <td>0.002073</td>\n",
       "      <td>-0.010799</td>\n",
       "      <td>1.000000</td>\n",
       "      <td>1.000000</td>\n",
       "    </tr>\n",
       "    <tr>\n",
       "      <th>2020-01-03</th>\n",
       "      <td>124030.0</td>\n",
       "      <td>22870.0</td>\n",
       "      <td>0.008128</td>\n",
       "      <td>-0.012095</td>\n",
       "      <td>1.006043</td>\n",
       "      <td>0.998690</td>\n",
       "    </tr>\n",
       "    <tr>\n",
       "      <th>2020-01-06</th>\n",
       "      <td>124360.0</td>\n",
       "      <td>22700.0</td>\n",
       "      <td>0.010810</td>\n",
       "      <td>-0.019438</td>\n",
       "      <td>1.008720</td>\n",
       "      <td>0.991266</td>\n",
       "    </tr>\n",
       "    <tr>\n",
       "      <th>2020-01-07</th>\n",
       "      <td>123590.0</td>\n",
       "      <td>22950.0</td>\n",
       "      <td>0.004552</td>\n",
       "      <td>-0.008639</td>\n",
       "      <td>1.002474</td>\n",
       "      <td>1.002183</td>\n",
       "    </tr>\n",
       "    <tr>\n",
       "      <th>2020-01-08</th>\n",
       "      <td>123360.0</td>\n",
       "      <td>22825.0</td>\n",
       "      <td>0.002682</td>\n",
       "      <td>-0.014039</td>\n",
       "      <td>1.000608</td>\n",
       "      <td>0.996725</td>\n",
       "    </tr>\n",
       "  </tbody>\n",
       "</table>\n",
       "</div>"
      ],
      "text/plain": [
       "             kr_bond  kospi100  kr_bond_daliy  kospi100_daliy  kr_bond_지수  \\\n",
       "Date                                                                        \n",
       "2020-01-02  123285.0   22900.0       0.002073       -0.010799    1.000000   \n",
       "2020-01-03  124030.0   22870.0       0.008128       -0.012095    1.006043   \n",
       "2020-01-06  124360.0   22700.0       0.010810       -0.019438    1.008720   \n",
       "2020-01-07  123590.0   22950.0       0.004552       -0.008639    1.002474   \n",
       "2020-01-08  123360.0   22825.0       0.002682       -0.014039    1.000608   \n",
       "\n",
       "            kospi100_지수  \n",
       "Date                     \n",
       "2020-01-02     1.000000  \n",
       "2020-01-03     0.998690  \n",
       "2020-01-06     0.991266  \n",
       "2020-01-07     1.002183  \n",
       "2020-01-08     0.996725  "
      ]
     },
     "execution_count": 15,
     "metadata": {},
     "output_type": "execute_result"
    }
   ],
   "source": [
    "df['kr_bond_지수']=df['kr_bond']/df['kr_bond'][0]\n",
    "df['kospi100_지수']=df['kospi100']/df['kospi100'][0]\n",
    "df.head()"
   ]
  },
  {
   "cell_type": "code",
   "execution_count": 16,
   "id": "f6a12483-46ce-4947-a81c-0429cc9b05ec",
   "metadata": {
    "tags": []
   },
   "outputs": [
    {
     "data": {
      "image/png": "[encoded data removed]",
      "text/plain": [
       "<Figure size 640x480 with 1 Axes>"
      ]
     },
     "metadata": {},
     "output_type": "display_data"
    }
   ],
   "source": [
    "tot_df=pd.merge(right=df[['kr_bond_지수','kospi100_지수']],left=fdf['지수'],left_index=True, right_index=True)\n",
    "tot_df.plot()\n",
    "plt.show()"
   ]
  },
  {
   "cell_type": "markdown",
   "id": "83bb8cfb-967c-4a4b-b420-4661f15f8e1a",
   "metadata": {},
   "source": [
    "## Sharp index"
   ]
  },
  {
   "cell_type": "code",
   "execution_count": 17,
   "id": "efc8137a-5999-4698-b522-6573b266e37c",
   "metadata": {
    "tags": []
   },
   "outputs": [
    {
     "data": {
      "text/html": [
       "<div>\n",
       "<style scoped>\n",
       "    .dataframe tbody tr th:only-of-type {\n",
       "        vertical-align: middle;\n",
       "    }\n",
       "\n",
       "    .dataframe tbody tr th {\n",
       "        vertical-align: top;\n",
       "    }\n",
       "\n",
       "    .dataframe thead th {\n",
       "        text-align: right;\n",
       "    }\n",
       "</style>\n",
       "<table border=\"1\" class=\"dataframe\">\n",
       "  <thead>\n",
       "    <tr style=\"text-align: right;\">\n",
       "      <th></th>\n",
       "      <th>kr_bond</th>\n",
       "      <th>kospi100</th>\n",
       "    </tr>\n",
       "    <tr>\n",
       "      <th>Date</th>\n",
       "      <th></th>\n",
       "      <th></th>\n",
       "    </tr>\n",
       "  </thead>\n",
       "  <tbody>\n",
       "    <tr>\n",
       "      <th>2020-01-02</th>\n",
       "      <td>11.722262</td>\n",
       "      <td>10.038936</td>\n",
       "    </tr>\n",
       "    <tr>\n",
       "      <th>2020-01-03</th>\n",
       "      <td>11.728287</td>\n",
       "      <td>10.037625</td>\n",
       "    </tr>\n",
       "    <tr>\n",
       "      <th>2020-01-06</th>\n",
       "      <td>11.730944</td>\n",
       "      <td>10.030164</td>\n",
       "    </tr>\n",
       "    <tr>\n",
       "      <th>2020-01-07</th>\n",
       "      <td>11.724733</td>\n",
       "      <td>10.041117</td>\n",
       "    </tr>\n",
       "    <tr>\n",
       "      <th>2020-01-08</th>\n",
       "      <td>11.722870</td>\n",
       "      <td>10.035656</td>\n",
       "    </tr>\n",
       "  </tbody>\n",
       "</table>\n",
       "</div>"
      ],
      "text/plain": [
       "              kr_bond   kospi100\n",
       "Date                            \n",
       "2020-01-02  11.722262  10.038936\n",
       "2020-01-03  11.728287  10.037625\n",
       "2020-01-06  11.730944  10.030164\n",
       "2020-01-07  11.724733  10.041117\n",
       "2020-01-08  11.722870  10.035656"
      ]
     },
     "execution_count": 17,
     "metadata": {},
     "output_type": "execute_result"
    }
   ],
   "source": [
    "total=np.log(1+df[['kr_bond','kospi100']])\n",
    "total.head()"
   ]
  },
  {
   "cell_type": "code",
   "execution_count": 18,
   "id": "e9c34813-9e95-42a9-8eaf-808e8a4b10c4",
   "metadata": {},
   "outputs": [
    {
     "name": "stdout",
     "output_type": "stream",
     "text": [
      "dict_keys(['Returns', 'Risk', 'Sharp', 'weights', 'kr_bond', 'kospi100'])\n"
     ]
    }
   ],
   "source": [
    "annual_ret = total.mean()   * 252\n",
    "annual_cov = total.cov() * 252\n",
    "\n",
    "port_ret     = [] \n",
    "port_risk    = [] \n",
    "port_weights = [] \n",
    "port_sharp   = [] \n",
    "stocks = total.columns\n",
    "\n",
    "for _ in range(20000): \n",
    "    weights = np.random.random(len(stocks)) \n",
    "    weights = weights / np.sum(weights) \n",
    "\n",
    "    #------------------- 수익률, 리스크(편차), 샤프지수 -----------------------\n",
    "    returns = np.dot(weights, annual_ret) \n",
    "    risk    = np.sqrt(np.dot(weights.T, np.dot(annual_cov, weights))) \n",
    "    sharp   =  returns / risk\n",
    "    \n",
    "    port_ret.append(returns) \n",
    "    port_risk.append(risk) \n",
    "    port_weights.append(weights) \n",
    "    port_sharp.append(sharp) \n",
    "    \n",
    "    \n",
    "portfolio = {'Returns': port_ret, 'Risk': port_risk,'Sharp':port_sharp,'weights':port_weights} \n",
    "for i, s in enumerate(stocks): \n",
    "    portfolio[s] = [weight[i] for weight in port_weights]  # portfolio[s] : s를 키값으로 각각의 weight 값들이 들어감\n",
    "print(portfolio.keys())"
   ]
  },
  {
   "cell_type": "code",
   "execution_count": 19,
   "id": "8c128fd9-5fb1-485f-8803-1b4d18f051a6",
   "metadata": {
    "tags": []
   },
   "outputs": [
    {
     "data": {
      "text/html": [
       "<div>\n",
       "<style scoped>\n",
       "    .dataframe tbody tr th:only-of-type {\n",
       "        vertical-align: middle;\n",
       "    }\n",
       "\n",
       "    .dataframe tbody tr th {\n",
       "        vertical-align: top;\n",
       "    }\n",
       "\n",
       "    .dataframe thead th {\n",
       "        text-align: right;\n",
       "    }\n",
       "</style>\n",
       "<table border=\"1\" class=\"dataframe\">\n",
       "  <thead>\n",
       "    <tr style=\"text-align: right;\">\n",
       "      <th></th>\n",
       "      <th>Returns</th>\n",
       "      <th>Risk</th>\n",
       "      <th>Sharp</th>\n",
       "      <th>weights</th>\n",
       "      <th>kr_bond</th>\n",
       "      <th>kospi100</th>\n",
       "    </tr>\n",
       "  </thead>\n",
       "  <tbody>\n",
       "    <tr>\n",
       "      <th>0</th>\n",
       "      <td>2683.501811</td>\n",
       "      <td>1.832848</td>\n",
       "      <td>1464.116243</td>\n",
       "      <td>[0.3067452808443196, 0.6932547191556804]</td>\n",
       "      <td>0.306745</td>\n",
       "      <td>0.693255</td>\n",
       "    </tr>\n",
       "    <tr>\n",
       "      <th>1</th>\n",
       "      <td>2582.522186</td>\n",
       "      <td>2.513311</td>\n",
       "      <td>1027.537944</td>\n",
       "      <td>[0.038867645743486424, 0.9611323542565136]</td>\n",
       "      <td>0.038868</td>\n",
       "      <td>0.961132</td>\n",
       "    </tr>\n",
       "    <tr>\n",
       "      <th>2</th>\n",
       "      <td>2574.899867</td>\n",
       "      <td>2.566152</td>\n",
       "      <td>1003.408755</td>\n",
       "      <td>[0.018647242016448108, 0.9813527579835519]</td>\n",
       "      <td>0.018647</td>\n",
       "      <td>0.981353</td>\n",
       "    </tr>\n",
       "    <tr>\n",
       "      <th>3</th>\n",
       "      <td>2686.011609</td>\n",
       "      <td>1.816590</td>\n",
       "      <td>1478.600998</td>\n",
       "      <td>[0.3134032454427793, 0.6865967545572208]</td>\n",
       "      <td>0.313403</td>\n",
       "      <td>0.686597</td>\n",
       "    </tr>\n",
       "    <tr>\n",
       "      <th>4</th>\n",
       "      <td>2755.126142</td>\n",
       "      <td>1.391500</td>\n",
       "      <td>1979.968141</td>\n",
       "      <td>[0.49674951542171863, 0.5032504845782814]</td>\n",
       "      <td>0.496750</td>\n",
       "      <td>0.503250</td>\n",
       "    </tr>\n",
       "  </tbody>\n",
       "</table>\n",
       "</div>"
      ],
      "text/plain": [
       "       Returns      Risk        Sharp  \\\n",
       "0  2683.501811  1.832848  1464.116243   \n",
       "1  2582.522186  2.513311  1027.537944   \n",
       "2  2574.899867  2.566152  1003.408755   \n",
       "3  2686.011609  1.816590  1478.600998   \n",
       "4  2755.126142  1.391500  1979.968141   \n",
       "\n",
       "                                      weights   kr_bond  kospi100  \n",
       "0    [0.3067452808443196, 0.6932547191556804]  0.306745  0.693255  \n",
       "1  [0.038867645743486424, 0.9611323542565136]  0.038868  0.961132  \n",
       "2  [0.018647242016448108, 0.9813527579835519]  0.018647  0.981353  \n",
       "3    [0.3134032454427793, 0.6865967545572208]  0.313403  0.686597  \n",
       "4   [0.49674951542171863, 0.5032504845782814]  0.496750  0.503250  "
      ]
     },
     "execution_count": 19,
     "metadata": {},
     "output_type": "execute_result"
    }
   ],
   "source": [
    "df = pd.DataFrame(portfolio) \n",
    "df.head()"
   ]
  },
  {
   "cell_type": "code",
   "execution_count": 20,
   "id": "be3279d3-24f4-44a5-bb98-6cfff3d6e3bf",
   "metadata": {
    "tags": []
   },
   "outputs": [
    {
     "data": {
      "image/png": "[encoded data removed]",
      "text/plain": [
       "<Figure size 500x500 with 1 Axes>"
      ]
     },
     "metadata": {},
     "output_type": "display_data"
    }
   ],
   "source": [
    "df.plot.scatter(x='Risk', y='Returns', figsize=(5, 5), grid=True)\n",
    "plt.title('Efficient Frontier') \n",
    "plt.xlabel('Risk') \n",
    "plt.ylabel('Expected Returns') \n",
    "plt.show() "
   ]
  },
  {
   "cell_type": "code",
   "execution_count": 21,
   "id": "a1c73190-6818-477d-9467-90592e876bfa",
   "metadata": {
    "tags": []
   },
   "outputs": [
    {
     "data": {
      "image/png": "[encoded data removed]",
      "text/plain": [
       "<Figure size 800x400 with 1 Axes>"
      ]
     },
     "metadata": {},
     "output_type": "display_data"
    }
   ],
   "source": [
    "# 샤프치수   최대 포트\n",
    "sharp_max = df[df['Sharp'] == df['Sharp'].max()]\n",
    "# 위험리스크 최소 포트\n",
    "risk_min  = df[df['Risk'] == df['Risk'].min()] \n",
    "# 수익률     최대 포트\n",
    "return_max = df[df['Returns'] == df['Returns'].max()] \n",
    "\n",
    "plt.figure(figsize=(8,4))\n",
    "sns.scatterplot(data=df        , x='Risk', y='Returns' ,color='peachpuff'                 , label=f\"포트폴리오\") # palevioletred \n",
    "sns.scatterplot(data=sharp_max , x='Risk', y='Returns', marker=\"^\", c='lightgreen',s=100, label=f\"sharp_max:{sharp_max['weights'].values[0]}\")\n",
    "sns.scatterplot(data=risk_min  , x='Risk', y='Returns', marker=\"X\", c='pink',s=100, label=f\"risk_min:{risk_min['weights'].values[0]}\")\n",
    "sns.scatterplot(data=return_max, x='Risk', y='Returns', marker=\"s\", c='skyblue',s=100, label=f\"return_max:{return_max['weights'].values[0]}\")\n",
    "\n",
    "plt.title(f'Efficient Frontier_{stocks.values}') \n",
    "plt.xlabel('Risk') \n",
    "plt.ylabel('Expected Returns') \n",
    "plt.show() "
   ]
  },
  {
   "cell_type": "code",
   "execution_count": null,
   "id": "5b6c96eb-ac67-4ca3-8b86-ff8b7fa82067",
   "metadata": {},
   "outputs": [],
   "source": []
  },
  {
   "cell_type": "code",
   "execution_count": null,
   "id": "70e70621-a059-4ac4-b064-a2b8b90456b7",
   "metadata": {},
   "outputs": [],
   "source": []
  },
  {
   "cell_type": "code",
   "execution_count": null,
   "id": "b327aaf5-6d4d-4fac-9847-8e247bd8b139",
   "metadata": {},
   "outputs": [],
   "source": []
  },
  {
   "cell_type": "code",
   "execution_count": null,
   "id": "1c26abd6-d47a-4a49-8450-ce2e773cc9b9",
   "metadata": {},
   "outputs": [],
   "source": []
  },
  {
   "cell_type": "code",
   "execution_count": null,
   "id": "cc30b21e-61df-46cc-bc4d-174d87c6be10",
   "metadata": {},
   "outputs": [],
   "source": []
  }
 ],
 "metadata": {
  "kernelspec": {
   "display_name": "Python 3 (ipykernel)",
   "language": "python",
   "name": "python3"
  },
  "language_info": {
   "codemirror_mode": {
    "name": "ipython",
    "version": 3
   },
   "file_extension": ".py",
   "mimetype": "text/x-python",
   "name": "python",
   "nbconvert_exporter": "python",
   "pygments_lexer": "ipython3",
   "version": "3.8.8"
  }
 },
 "nbformat": 4,
 "nbformat_minor": 5
}

{
 "cells": [
  {
   "cell_type": "markdown",
   "id": "3771b484-6d63-43ad-86af-323b1e013a92",
   "metadata": {},
   "source": [
    "<font size=6><b>Lec00 : 뉴스 감성분석</b></font>\n",
    "* 감성사전 : https://github.com/ukairia777/finance_sentiment_corpus"
   ]
  },
  {
   "cell_type": "code",
   "execution_count": 1,
   "id": "ea959885-4df8-485c-a575-335237836d08",
   "metadata": {
    "tags": []
   },
   "outputs": [
    {
     "data": {
      "text/html": [
       "<style>.container{width:100% !important;}</style>"
      ],
      "text/plain": [
       "<IPython.core.display.HTML object>"
      ]
     },
     "metadata": {},
     "output_type": "display_data"
    }
   ],
   "source": [
    "from pykrx import stock\n",
    "from pykrx import bond\n",
    "import FinanceDataReader as fdr\n",
    "\n",
    "from IPython.display import Image\n",
    "import pandas as pd\n",
    "import numpy as np\n",
    "import matplotlib.pyplot as plt\n",
    "import seaborn as sns\n",
    "\n",
    "\n",
    "import warnings\n",
    "warnings.filterwarnings(action='ignore')\n",
    "sns.set()\n",
    "\n",
    "#-------------------- 차트 관련 속성 (한글처리, 그리드) -----------\n",
    "#plt.rc('font', family='NanumGothicOTF') # For MacOS\n",
    "plt.rcParams['font.family']= 'Malgun Gothic'\n",
    "plt.rcParams['axes.unicode_minus'] = False\n",
    "\n",
    "\n",
    "#-------------------- 주피터 , 출력결과 넓이 늘리기 ---------------\n",
    "from IPython.core.display import display, HTML\n",
    "display(HTML(\"<style>.container{width:100% !important;}</style>\"))\n",
    "pd.set_option('display.max_rows', 100)\n",
    "pd.set_option('display.max_columns', 100)\n",
    "pd.set_option('max_colwidth', None)\n"
   ]
  },
  {
   "cell_type": "code",
   "execution_count": 2,
   "id": "86a1369f-0fdf-4924-afba-84bd2e4ee78b",
   "metadata": {
    "tags": []
   },
   "outputs": [],
   "source": [
    "# ! pip install mecab_python-0.996_ko_0.9.2_msvc-cp38-cp38-win_amd64.whl    #python-mecab-ko"
   ]
  },
  {
   "cell_type": "code",
   "execution_count": 3,
   "id": "86ca57a4-c82a-4fa5-a800-265a814e9a9a",
   "metadata": {
    "tags": []
   },
   "outputs": [],
   "source": [
    "import pandas as pd\n",
    "import numpy as np\n",
    "import matplotlib.pyplot as plt\n",
    "from sklearn.model_selection import train_test_split\n",
    "import re\n",
    "import urllib.request\n",
    "# import mecab\n",
    "from tqdm import tqdm\n",
    "from tensorflow.keras.preprocessing.text import Tokenizer\n",
    "from tensorflow.keras.preprocessing.sequence import pad_sequences"
   ]
  },
  {
   "cell_type": "code",
   "execution_count": 4,
   "id": "cfa7493f-d2d7-4dd9-a4b5-d39914f8614e",
   "metadata": {
    "tags": []
   },
   "outputs": [
    {
     "name": "stdout",
     "output_type": "stream",
     "text": [
      "Mecab 명사 추출 : ['코딩', '당신', '연휴', '여행']\n"
     ]
    }
   ],
   "source": [
    "from konlpy.tag import Mecab\n",
    "mecab = Mecab(dicpath=r\"C:\\mecab\\mecab-ko-dic\")\n",
    "print('Mecab 명사 추출 :'  , mecab.nouns(\"열심히 코딩한 당신, 연휴에는 여행을 가봐요\")) "
   ]
  },
  {
   "cell_type": "markdown",
   "id": "c9ad5698-b103-4853-85a9-3d384bfb2e12",
   "metadata": {},
   "source": [
    "# 감성 사전"
   ]
  },
  {
   "cell_type": "code",
   "execution_count": 7,
   "id": "d33a5203-7dbf-4c71-a497-e1c79cabd51f",
   "metadata": {
    "tags": []
   },
   "outputs": [
    {
     "data": {
      "text/html": [
       "<div>\n",
       "<style scoped>\n",
       "    .dataframe tbody tr th:only-of-type {\n",
       "        vertical-align: middle;\n",
       "    }\n",
       "\n",
       "    .dataframe tbody tr th {\n",
       "        vertical-align: top;\n",
       "    }\n",
       "\n",
       "    .dataframe thead th {\n",
       "        text-align: right;\n",
       "    }\n",
       "</style>\n",
       "<table border=\"1\" class=\"dataframe\">\n",
       "  <thead>\n",
       "    <tr style=\"text-align: right;\">\n",
       "      <th></th>\n",
       "      <th>labels</th>\n",
       "      <th>sentence</th>\n",
       "      <th>kor_sentence</th>\n",
       "    </tr>\n",
       "  </thead>\n",
       "  <tbody>\n",
       "    <tr>\n",
       "      <th>0</th>\n",
       "      <td>neutral</td>\n",
       "      <td>According to Gran, the company has no plans to move all production to Russia, although that is where the company is growing.</td>\n",
       "      <td>Gran에 따르면, 그 회사는 회사가 성장하고 있는 곳이지만, 모든 생산을 러시아로 옮길 계획이 없다고 한다.</td>\n",
       "    </tr>\n",
       "    <tr>\n",
       "      <th>1</th>\n",
       "      <td>neutral</td>\n",
       "      <td>Technopolis plans to develop in stages an area of no less than 100,000 square meters in order to host companies working in computer technologies and telecommunications, the statement said.</td>\n",
       "      <td>테크노폴리스는 컴퓨터 기술과 통신 분야에서 일하는 회사들을 유치하기 위해 10만 평방미터 이상의 면적을 단계적으로 개발할 계획이라고 성명은 밝혔다.</td>\n",
       "    </tr>\n",
       "  </tbody>\n",
       "</table>\n",
       "</div>"
      ],
      "text/plain": [
       "    labels  \\\n",
       "0  neutral   \n",
       "1  neutral   \n",
       "\n",
       "                                                                                                                                                                                       sentence  \\\n",
       "0                                                                  According to Gran, the company has no plans to move all production to Russia, although that is where the company is growing.   \n",
       "1  Technopolis plans to develop in stages an area of no less than 100,000 square meters in order to host companies working in computer technologies and telecommunications, the statement said.   \n",
       "\n",
       "                                                                         kor_sentence  \n",
       "0                       Gran에 따르면, 그 회사는 회사가 성장하고 있는 곳이지만, 모든 생산을 러시아로 옮길 계획이 없다고 한다.  \n",
       "1  테크노폴리스는 컴퓨터 기술과 통신 분야에서 일하는 회사들을 유치하기 위해 10만 평방미터 이상의 면적을 단계적으로 개발할 계획이라고 성명은 밝혔다.  "
      ]
     },
     "execution_count": 7,
     "metadata": {},
     "output_type": "execute_result"
    }
   ],
   "source": [
    "emo = pd.read_csv('실습10_뉴스지수_감성사전.txt')\n",
    "emo.head(2)"
   ]
  },
  {
   "cell_type": "code",
   "execution_count": 8,
   "id": "2fd3f983-a078-4b2e-84fb-d2d43ebeec47",
   "metadata": {
    "tags": []
   },
   "outputs": [
    {
     "data": {
      "text/html": [
       "<div>\n",
       "<style scoped>\n",
       "    .dataframe tbody tr th:only-of-type {\n",
       "        vertical-align: middle;\n",
       "    }\n",
       "\n",
       "    .dataframe tbody tr th {\n",
       "        vertical-align: top;\n",
       "    }\n",
       "\n",
       "    .dataframe thead th {\n",
       "        text-align: right;\n",
       "    }\n",
       "</style>\n",
       "<table border=\"1\" class=\"dataframe\">\n",
       "  <thead>\n",
       "    <tr style=\"text-align: right;\">\n",
       "      <th></th>\n",
       "      <th>labels</th>\n",
       "      <th>kor_sentence</th>\n",
       "    </tr>\n",
       "  </thead>\n",
       "  <tbody>\n",
       "    <tr>\n",
       "      <th>0</th>\n",
       "      <td>0</td>\n",
       "      <td>Gran에 따르면, 그 회사는 회사가 성장하고 있는 곳이지만, 모든 생산을 러시아로 옮길 계획이 없다고 한다.</td>\n",
       "    </tr>\n",
       "    <tr>\n",
       "      <th>1</th>\n",
       "      <td>0</td>\n",
       "      <td>테크노폴리스는 컴퓨터 기술과 통신 분야에서 일하는 회사들을 유치하기 위해 10만 평방미터 이상의 면적을 단계적으로 개발할 계획이라고 성명은 밝혔다.</td>\n",
       "    </tr>\n",
       "  </tbody>\n",
       "</table>\n",
       "</div>"
      ],
      "text/plain": [
       "   labels  \\\n",
       "0       0   \n",
       "1       0   \n",
       "\n",
       "                                                                         kor_sentence  \n",
       "0                       Gran에 따르면, 그 회사는 회사가 성장하고 있는 곳이지만, 모든 생산을 러시아로 옮길 계획이 없다고 한다.  \n",
       "1  테크노폴리스는 컴퓨터 기술과 통신 분야에서 일하는 회사들을 유치하기 위해 10만 평방미터 이상의 면적을 단계적으로 개발할 계획이라고 성명은 밝혔다.  "
      ]
     },
     "execution_count": 8,
     "metadata": {},
     "output_type": "execute_result"
    }
   ],
   "source": [
    "del emo['sentence']\n",
    "emo['labels'] = emo['labels'].replace(['neutral', 'positive', 'negative'],[0, 1, 2])\n",
    "emo[:2]"
   ]
  },
  {
   "cell_type": "code",
   "execution_count": 9,
   "id": "01febebd-13c2-48d4-8441-3d4686dce505",
   "metadata": {
    "tags": []
   },
   "outputs": [
    {
     "name": "stdout",
     "output_type": "stream",
     "text": [
      "<class 'pandas.core.frame.DataFrame'>\n",
      "RangeIndex: 4846 entries, 0 to 4845\n",
      "Data columns (total 2 columns):\n",
      " #   Column        Non-Null Count  Dtype \n",
      "---  ------        --------------  ----- \n",
      " 0   labels        4846 non-null   int64 \n",
      " 1   kor_sentence  4846 non-null   object\n",
      "dtypes: int64(1), object(1)\n",
      "memory usage: 75.8+ KB\n"
     ]
    }
   ],
   "source": [
    "emo.info()"
   ]
  },
  {
   "cell_type": "code",
   "execution_count": 10,
   "id": "269cddd2-89aa-4fa4-a0b5-cd6dd1b303ab",
   "metadata": {
    "tags": []
   },
   "outputs": [
    {
     "data": {
      "text/plain": [
       "False"
      ]
     },
     "execution_count": 10,
     "metadata": {},
     "output_type": "execute_result"
    }
   ],
   "source": [
    "emo.isnull().values.any()\n"
   ]
  },
  {
   "cell_type": "code",
   "execution_count": 11,
   "id": "8df6c572-04f5-4756-bfc6-e1a556fa3c70",
   "metadata": {
    "tags": []
   },
   "outputs": [
    {
     "data": {
      "text/plain": [
       "4827"
      ]
     },
     "execution_count": 11,
     "metadata": {},
     "output_type": "execute_result"
    }
   ],
   "source": [
    "emo['kor_sentence'].nunique()"
   ]
  },
  {
   "cell_type": "code",
   "execution_count": 12,
   "id": "6b41f658-dbdd-4ed2-82a4-f68b034ce88e",
   "metadata": {
    "tags": []
   },
   "outputs": [
    {
     "name": "stdout",
     "output_type": "stream",
     "text": [
      "(16, 2)\n"
     ]
    },
    {
     "data": {
      "text/html": [
       "<div>\n",
       "<style scoped>\n",
       "    .dataframe tbody tr th:only-of-type {\n",
       "        vertical-align: middle;\n",
       "    }\n",
       "\n",
       "    .dataframe tbody tr th {\n",
       "        vertical-align: top;\n",
       "    }\n",
       "\n",
       "    .dataframe thead th {\n",
       "        text-align: right;\n",
       "    }\n",
       "</style>\n",
       "<table border=\"1\" class=\"dataframe\">\n",
       "  <thead>\n",
       "    <tr style=\"text-align: right;\">\n",
       "      <th></th>\n",
       "      <th>labels</th>\n",
       "      <th>kor_sentence</th>\n",
       "    </tr>\n",
       "  </thead>\n",
       "  <tbody>\n",
       "    <tr>\n",
       "      <th>1099</th>\n",
       "      <td>0</td>\n",
       "      <td>이 발표 내용에 대한 책임은 전적으로 발행자에게 있습니다.</td>\n",
       "    </tr>\n",
       "    <tr>\n",
       "      <th>1394</th>\n",
       "      <td>0</td>\n",
       "      <td>핀란드 헬싱키에 본사를 둔 레민카이넨 그룹은 토목 공학, 건축 계약, 기술 건축 서비스, 건축 자재 산업 등 건설 산업의 모든 부문에서 운영되고 있다.</td>\n",
       "    </tr>\n",
       "    <tr>\n",
       "      <th>1416</th>\n",
       "      <td>0</td>\n",
       "      <td>이 보고서는 블랙 앤 데커, 피스카스, 피스카스 브랜드, 후스크바르나 아웃도어 프로덕츠, K+S 그룹, 료비 테크놀로지스 등 전 세계 주요 및 틈새 업체 614개 기업을 프로파일링하고 있다. 스코츠 미라클그로 컴퍼니와 밴 그룹 주식회사..</td>\n",
       "    </tr>\n",
       "    <tr>\n",
       "      <th>2396</th>\n",
       "      <td>0</td>\n",
       "      <td>알스트롬의 주가는 나스닥 OMX 헬싱키에서 인용되고 있다.</td>\n",
       "    </tr>\n",
       "    <tr>\n",
       "      <th>2567</th>\n",
       "      <td>0</td>\n",
       "      <td>SSH 통신 보안 코퍼레이션은 핀란드 헬싱키에 본사를 두고 있다.</td>\n",
       "    </tr>\n",
       "    <tr>\n",
       "      <th>2889</th>\n",
       "      <td>0</td>\n",
       "      <td>재정적인 세부사항은 공개되지 않았다.</td>\n",
       "    </tr>\n",
       "    <tr>\n",
       "      <th>2890</th>\n",
       "      <td>0</td>\n",
       "      <td>재정적인 세부사항은 공개되지 않았다.</td>\n",
       "    </tr>\n",
       "    <tr>\n",
       "      <th>2892</th>\n",
       "      <td>0</td>\n",
       "      <td>금융 조건은 공개되지 않았다.</td>\n",
       "    </tr>\n",
       "    <tr>\n",
       "      <th>3050</th>\n",
       "      <td>0</td>\n",
       "      <td>재정적인 세부사항은 제공되지 않았다.</td>\n",
       "    </tr>\n",
       "    <tr>\n",
       "      <th>3051</th>\n",
       "      <td>0</td>\n",
       "      <td>재정적인 세부사항은 공개되지 않았다.</td>\n",
       "    </tr>\n",
       "    <tr>\n",
       "      <th>3094</th>\n",
       "      <td>0</td>\n",
       "      <td>Proha Plc (Euronext :7327)는 오늘 (5월 19일) 완전 소유 자회사인 Safran Software Solutions AS가 노르웨이에 본사를 둔 투자 그룹인 SNA Holding AS에 49%의 Safran North America LLC 지분을 매각하기로 합의했다고 발표했습니다.</td>\n",
       "    </tr>\n",
       "    <tr>\n",
       "      <th>3206</th>\n",
       "      <td>0</td>\n",
       "      <td>공정 및 자원, 산업기계, 건축, 건축, 건설, 전기, 운송, 전자, 화학, 석유화학, 에너지, 정보기술(IT) 등 다양한 산업 분야의 고객을 대상으로 서비스를 제공하고 있다.</td>\n",
       "    </tr>\n",
       "    <tr>\n",
       "      <th>3350</th>\n",
       "      <td>0</td>\n",
       "      <td>판매 가격은 공개되지 않았다.</td>\n",
       "    </tr>\n",
       "    <tr>\n",
       "      <th>3538</th>\n",
       "      <td>0</td>\n",
       "      <td>아스포의 그룹 구조와 비즈니스 운영은 미리 정의된 일정 없이 지속적으로 개발됩니다.</td>\n",
       "    </tr>\n",
       "    <tr>\n",
       "      <th>3617</th>\n",
       "      <td>0</td>\n",
       "      <td>2007년에 에트플랜은 125.2m의 회전율을 기록했다.</td>\n",
       "    </tr>\n",
       "    <tr>\n",
       "      <th>3938</th>\n",
       "      <td>0</td>\n",
       "      <td>그 거래의 가치는 공개되지 않았다.</td>\n",
       "    </tr>\n",
       "  </tbody>\n",
       "</table>\n",
       "</div>"
      ],
      "text/plain": [
       "      labels  \\\n",
       "1099       0   \n",
       "1394       0   \n",
       "1416       0   \n",
       "2396       0   \n",
       "2567       0   \n",
       "2889       0   \n",
       "2890       0   \n",
       "2892       0   \n",
       "3050       0   \n",
       "3051       0   \n",
       "3094       0   \n",
       "3206       0   \n",
       "3350       0   \n",
       "3538       0   \n",
       "3617       0   \n",
       "3938       0   \n",
       "\n",
       "                                                                                                                                                                   kor_sentence  \n",
       "1099                                                                                                                                           이 발표 내용에 대한 책임은 전적으로 발행자에게 있습니다.  \n",
       "1394                                                                                       핀란드 헬싱키에 본사를 둔 레민카이넨 그룹은 토목 공학, 건축 계약, 기술 건축 서비스, 건축 자재 산업 등 건설 산업의 모든 부문에서 운영되고 있다.  \n",
       "1416                                      이 보고서는 블랙 앤 데커, 피스카스, 피스카스 브랜드, 후스크바르나 아웃도어 프로덕츠, K+S 그룹, 료비 테크놀로지스 등 전 세계 주요 및 틈새 업체 614개 기업을 프로파일링하고 있다. 스코츠 미라클그로 컴퍼니와 밴 그룹 주식회사..  \n",
       "2396                                                                                                                                           알스트롬의 주가는 나스닥 OMX 헬싱키에서 인용되고 있다.  \n",
       "2567                                                                                                                                       SSH 통신 보안 코퍼레이션은 핀란드 헬싱키에 본사를 두고 있다.  \n",
       "2889                                                                                                                                                       재정적인 세부사항은 공개되지 않았다.  \n",
       "2890                                                                                                                                                       재정적인 세부사항은 공개되지 않았다.  \n",
       "2892                                                                                                                                                           금융 조건은 공개되지 않았다.  \n",
       "3050                                                                                                                                                       재정적인 세부사항은 제공되지 않았다.  \n",
       "3051                                                                                                                                                       재정적인 세부사항은 공개되지 않았다.  \n",
       "3094  Proha Plc (Euronext :7327)는 오늘 (5월 19일) 완전 소유 자회사인 Safran Software Solutions AS가 노르웨이에 본사를 둔 투자 그룹인 SNA Holding AS에 49%의 Safran North America LLC 지분을 매각하기로 합의했다고 발표했습니다.  \n",
       "3206                                                                         공정 및 자원, 산업기계, 건축, 건축, 건설, 전기, 운송, 전자, 화학, 석유화학, 에너지, 정보기술(IT) 등 다양한 산업 분야의 고객을 대상으로 서비스를 제공하고 있다.  \n",
       "3350                                                                                                                                                           판매 가격은 공개되지 않았다.  \n",
       "3538                                                                                                                             아스포의 그룹 구조와 비즈니스 운영은 미리 정의된 일정 없이 지속적으로 개발됩니다.  \n",
       "3617                                                                                                                                            2007년에 에트플랜은 125.2m의 회전율을 기록했다.  \n",
       "3938                                                                                                                                                        그 거래의 가치는 공개되지 않았다.  "
      ]
     },
     "execution_count": 12,
     "metadata": {},
     "output_type": "execute_result"
    }
   ],
   "source": [
    "duplicate = emo[emo.duplicated()]\n",
    "print(duplicate.shape)\n",
    "duplicate"
   ]
  },
  {
   "cell_type": "code",
   "execution_count": 13,
   "id": "27125412-90ea-406c-9e64-71ffde69feba",
   "metadata": {
    "tags": []
   },
   "outputs": [
    {
     "name": "stdout",
     "output_type": "stream",
     "text": [
      "총 샘플의 수 : 4827\n"
     ]
    }
   ],
   "source": [
    "# 중복 제거\n",
    "emo.drop_duplicates(subset=['kor_sentence'], inplace=True)\n",
    "print('총 샘플의 수 :',len(emo))"
   ]
  },
  {
   "cell_type": "code",
   "execution_count": 14,
   "id": "a3cc349f-7d9c-4276-a410-70b4339d30f3",
   "metadata": {
    "tags": []
   },
   "outputs": [
    {
     "name": "stdout",
     "output_type": "stream",
     "text": [
      "0    2861\n",
      "1    1362\n",
      "2     604\n",
      "Name: labels, dtype: int64\n"
     ]
    },
    {
     "data": {
      "text/plain": [
       "<AxesSubplot: >"
      ]
     },
     "execution_count": 14,
     "metadata": {},
     "output_type": "execute_result"
    },
    {
     "data": {
      "image/png": "[encoded data removed]",
      "text/plain": [
       "<Figure size 300x200 with 1 Axes>"
      ]
     },
     "metadata": {},
     "output_type": "display_data"
    }
   ],
   "source": [
    "print(emo['labels'].value_counts())\n",
    "emo['labels'].value_counts().plot(kind='bar', figsize=(3,2))"
   ]
  },
  {
   "cell_type": "code",
   "execution_count": 15,
   "id": "9c83a86a-bf85-45e1-9bb7-fb1ff5c87d2e",
   "metadata": {
    "tags": []
   },
   "outputs": [
    {
     "name": "stdout",
     "output_type": "stream",
     "text": [
      "중립의 비율 = 59.271%\n",
      "긍정의 비율 = 28.216%\n",
      "부정의 비율 = 12.513%\n"
     ]
    }
   ],
   "source": [
    "print(f'중립의 비율 = {round(emo[\"labels\"].value_counts()[0]/len(emo) * 100,3)}%')\n",
    "print(f'긍정의 비율 = {round(emo[\"labels\"].value_counts()[1]/len(emo) * 100,3)}%')\n",
    "print(f'부정의 비율 = {round(emo[\"labels\"].value_counts()[2]/len(emo) * 100,3)}%')"
   ]
  },
  {
   "cell_type": "code",
   "execution_count": null,
   "id": "4f72a307-39bb-4fc6-bf1f-1af91824a841",
   "metadata": {
    "tags": []
   },
   "outputs": [
    {
     "data": {
      "text/html": [
       "<div>\n",
       "<style scoped>\n",
       "    .dataframe tbody tr th:only-of-type {\n",
       "        vertical-align: middle;\n",
       "    }\n",
       "\n",
       "    .dataframe tbody tr th {\n",
       "        vertical-align: top;\n",
       "    }\n",
       "\n",
       "    .dataframe thead th {\n",
       "        text-align: right;\n",
       "    }\n",
       "</style>\n",
       "<table border=\"1\" class=\"dataframe\">\n",
       "  <thead>\n",
       "    <tr style=\"text-align: right;\">\n",
       "      <th></th>\n",
       "      <th>labels</th>\n",
       "      <th>kor_sentence</th>\n",
       "      <th>tokenized</th>\n",
       "    </tr>\n",
       "  </thead>\n",
       "  <tbody>\n",
       "    <tr>\n",
       "      <th>0</th>\n",
       "      <td>0</td>\n",
       "      <td>Gran에 따르면, 그 회사는 회사가 성장하고 있는 곳이지만, 모든 생산을 러시아로 옮길 계획이 없다고 한다.</td>\n",
       "      <td>[회사, 회사, 성장, 곳, 생산, 러시아, 계획]</td>\n",
       "    </tr>\n",
       "    <tr>\n",
       "      <th>1</th>\n",
       "      <td>0</td>\n",
       "      <td>테크노폴리스는 컴퓨터 기술과 통신 분야에서 일하는 회사들을 유치하기 위해 10만 평방미터 이상의 면적을 단계적으로 개발할 계획이라고 성명은 밝혔다.</td>\n",
       "      <td>[테크노폴리스, 컴퓨터, 기술, 통신, 분야, 일, 회사, 유치, 만, 평방, 미터, 이상, 면적, 단계, 개발, 계획, 성명]</td>\n",
       "    </tr>\n",
       "    <tr>\n",
       "      <th>2</th>\n",
       "      <td>2</td>\n",
       "      <td>국제 전자산업 회사인 엘코텍은 탈린 공장에서 수십 명의 직원을 해고했으며, 이전의 해고와는 달리 회사는 사무직 직원 수를 줄였다고 일간 포스티메스가 보도했다.</td>\n",
       "      <td>[국제, 전자, 산업, 회사, 엘코, 텍, 탈린, 공장, 수십, 명, 직원, 해고, 이전, 해고, 회사, 사무직, 직원, 수, 일간, 포스, 티, 메스, 보도]</td>\n",
       "    </tr>\n",
       "  </tbody>\n",
       "</table>\n",
       "</div>"
      ],
      "text/plain": [
       "   labels  \\\n",
       "0       0   \n",
       "1       0   \n",
       "2       2   \n",
       "\n",
       "                                                                               kor_sentence  \\\n",
       "0                             Gran에 따르면, 그 회사는 회사가 성장하고 있는 곳이지만, 모든 생산을 러시아로 옮길 계획이 없다고 한다.   \n",
       "1        테크노폴리스는 컴퓨터 기술과 통신 분야에서 일하는 회사들을 유치하기 위해 10만 평방미터 이상의 면적을 단계적으로 개발할 계획이라고 성명은 밝혔다.   \n",
       "2  국제 전자산업 회사인 엘코텍은 탈린 공장에서 수십 명의 직원을 해고했으며, 이전의 해고와는 달리 회사는 사무직 직원 수를 줄였다고 일간 포스티메스가 보도했다.   \n",
       "\n",
       "                                                                                   tokenized  \n",
       "0                                                               [회사, 회사, 성장, 곳, 생산, 러시아, 계획]  \n",
       "1                    [테크노폴리스, 컴퓨터, 기술, 통신, 분야, 일, 회사, 유치, 만, 평방, 미터, 이상, 면적, 단계, 개발, 계획, 성명]  \n",
       "2  [국제, 전자, 산업, 회사, 엘코, 텍, 탈린, 공장, 수십, 명, 직원, 해고, 이전, 해고, 회사, 사무직, 직원, 수, 일간, 포스, 티, 메스, 보도]  "
      ]
     },
     "execution_count": 17,
     "metadata": {},
     "output_type": "execute_result"
    }
   ],
   "source": [
    "mecab = Mecab(dicpath=r\"C:\\mecab\\mecab-ko-dic\")\n",
    "# print('Mecab 명사 추출 :'  , mecab.nouns(\"열심히 코딩한 당신, 연휴에는 여행을 가봐요\")) \n",
    "emo['tokenized'] = emo['kor_sentence'].apply(mecab.nouns)\n",
    "emo.head(3)"
   ]
  },
  {
   "cell_type": "code",
   "execution_count": 18,
   "id": "6331f546-a8a2-4cee-bfeb-2be82c0198a3",
   "metadata": {
    "tags": []
   },
   "outputs": [
    {
     "data": {
      "text/plain": [
       "'  https://numpy.org/devdocs/release/1.20.0-notes.html#deprecations '"
      ]
     },
     "execution_count": 18,
     "metadata": {},
     "output_type": "execute_result"
    }
   ],
   "source": [
    "\"\"\"  https://numpy.org/devdocs/release/1.20.0-notes.html#deprecations \"\"\"\n",
    "# AttributeError: module 'numpy' has no attribute 'int'.\n",
    "# ! pip install numpy==1.23.0"
   ]
  },
  {
   "cell_type": "code",
   "execution_count": 20,
   "id": "eae34d1d-24c7-4956-bf36-a5db084a573e",
   "metadata": {
    "tags": []
   },
   "outputs": [],
   "source": [
    "from sklearn.model_selection import train_test_split\n",
    "X = emo['tokenized']\n",
    "y = emo['labels']\n",
    "X_train, X_test, y_train, y_test = train_test_split(X, y, test_size=0.2, random_state=0, stratify=y)"
   ]
  },
  {
   "cell_type": "code",
   "execution_count": 22,
   "id": "d7e74980-6c03-4a17-bd2c-10c81024dff2",
   "metadata": {
    "tags": []
   },
   "outputs": [
    {
     "data": {
      "text/plain": [
       "((3861,), (966,), (3861,), (966,))"
      ]
     },
     "execution_count": 22,
     "metadata": {},
     "output_type": "execute_result"
    }
   ],
   "source": [
    "X_train.shape, X_test.shape, y_train.shape, y_test.shape"
   ]
  },
  {
   "cell_type": "code",
   "execution_count": 25,
   "id": "57f7dcce-c143-492e-9ccc-df486dc93bc3",
   "metadata": {
    "tags": []
   },
   "outputs": [
    {
     "data": {
      "text/plain": [
       "(0    2289\n",
       " 1    1089\n",
       " 2     483\n",
       " Name: labels, dtype: int64,\n",
       " 0    572\n",
       " 1    273\n",
       " 2    121\n",
       " Name: labels, dtype: int64)"
      ]
     },
     "execution_count": 25,
     "metadata": {},
     "output_type": "execute_result"
    }
   ],
   "source": [
    "y_train.value_counts(), y_test.value_counts()"
   ]
  },
  {
   "cell_type": "markdown",
   "id": "46ef45af-8e4f-45f5-a1f3-3a17724d2679",
   "metadata": {},
   "source": [
    "# 토큰화"
   ]
  },
  {
   "cell_type": "code",
   "execution_count": 26,
   "id": "0e51ca9a-3265-4be0-a6fe-2874ef21bb3f",
   "metadata": {
    "tags": []
   },
   "outputs": [
    {
     "name": "stdout",
     "output_type": "stream",
     "text": [
      "[[210, 58, 1448, 177, 776, 331, 3, 59], [777, 778, 24, 10], [25, 12, 10], [289, 1449, 144, 62, 361, 387, 362, 1741, 705, 62, 1450, 3, 145], [68, 181, 463, 263]]\n",
      "[[555, 510, 35, 50, 7, 2, 36], [141, 77, 2976, 1758, 492, 195, 79, 3, 6, 176, 11], [417, 198, 567, 61, 2428, 723, 4, 3584, 65, 632, 2022, 3, 767], [16, 58, 1, 101, 25, 85, 2, 85, 2], [1, 5, 8, 400, 87, 27, 334, 30, 808, 174, 137, 1736, 1, 5, 5, 808, 174, 1, 5, 8, 813, 186, 22]]\n"
     ]
    }
   ],
   "source": [
    "tokenizer = Tokenizer()\n",
    "tokenizer.fit_on_texts(X_train)\n",
    "X_train_encoded = tokenizer.texts_to_sequences(X_train)\n",
    "X_test_encoded = tokenizer.texts_to_sequences(X_test)\n",
    "print(X_train_encoded[:5])\n",
    "print(X_test_encoded[:5])"
   ]
  },
  {
   "cell_type": "code",
   "execution_count": 27,
   "id": "e164cb7a-8875-43c6-a794-36e32f7e3db9",
   "metadata": {
    "tags": []
   },
   "outputs": [
    {
     "name": "stdout",
     "output_type": "stream",
     "text": [
      "5812\n"
     ]
    }
   ],
   "source": [
    "word_to_index = tokenizer.word_index\n",
    "vocab_size = len(word_to_index) + 1\n",
    "print(vocab_size)\n",
    "     "
   ]
  },
  {
   "cell_type": "code",
   "execution_count": 30,
   "id": "46d528e7-3265-407f-b82f-a449f3005f59",
   "metadata": {
    "tags": []
   },
   "outputs": [
    {
     "name": "stdout",
     "output_type": "stream",
     "text": [
      "본문의 최대 길이 : 36\n",
      "본문의 평균 길이 : 11.106449106449107\n"
     ]
    },
    {
     "data": {
      "image/png": "[encoded data removed]",
      "text/plain": [
       "<Figure size 600x300 with 1 Axes>"
      ]
     },
     "metadata": {},
     "output_type": "display_data"
    }
   ],
   "source": [
    "plt.figure(figsize=(6,3))\n",
    "print('본문의 최대 길이 :',max(len(sent) for sent in X_train))\n",
    "print('본문의 평균 길이 :',sum(map(len, X_train))/len(X_train))\n",
    "plt.hist([len(sent) for sent in X_train], bins=50)\n",
    "plt.xlabel('length of samples')\n",
    "plt.ylabel('number of samples')\n",
    "plt.show()\n",
    "     "
   ]
  },
  {
   "cell_type": "code",
   "execution_count": 32,
   "id": "c5f25542-9e51-4e9c-8d58-4c5b59e43538",
   "metadata": {
    "tags": []
   },
   "outputs": [
    {
     "data": {
      "text/plain": [
       "((3861, 36), (966, 36))"
      ]
     },
     "execution_count": 32,
     "metadata": {},
     "output_type": "execute_result"
    }
   ],
   "source": [
    "max_len = 36\n",
    "X_train_encoded = pad_sequences(X_train_encoded, maxlen=max_len)\n",
    "X_test_encoded  = pad_sequences(X_test_encoded , maxlen=max_len)\n",
    "X_train_encoded.shape, X_test_encoded.shape"
   ]
  },
  {
   "cell_type": "markdown",
   "id": "1f73db50-ce5e-415c-a799-8101bab33574",
   "metadata": {
    "tags": []
   },
   "source": [
    "# 모델 생성"
   ]
  },
  {
   "cell_type": "code",
   "execution_count": 33,
   "id": "9448afae-187a-4be3-9d21-acc98dd22283",
   "metadata": {
    "tags": []
   },
   "outputs": [],
   "source": [
    "from tensorflow.keras.layers import Embedding, Dense, LSTM\n",
    "from tensorflow.keras.models import Sequential\n",
    "from tensorflow.keras.models import load_model\n",
    "from tensorflow.keras.utils import to_categorical\n",
    "from tensorflow.keras.callbacks import EarlyStopping, ModelCheckpoint"
   ]
  },
  {
   "cell_type": "code",
   "execution_count": 34,
   "id": "ddd996ae-b12e-4042-927b-5b6caa34b7b8",
   "metadata": {
    "tags": []
   },
   "outputs": [],
   "source": [
    "y_train = to_categorical(y_train)\n",
    "y_test  = to_categorical(y_test)"
   ]
  },
  {
   "cell_type": "code",
   "execution_count": 35,
   "id": "465e86b7-cdda-49e2-a13a-a0d9e7cb06a4",
   "metadata": {
    "tags": []
   },
   "outputs": [
    {
     "name": "stdout",
     "output_type": "stream",
     "text": [
      "Epoch 1/15\n",
      "96/97 [============================>.] - ETA: 0s - loss: 0.9012 - acc: 0.6081\n",
      "Epoch 1: val_acc improved from -inf to 0.70763, saving model to 실습10_best_model.h5\n",
      "97/97 [==============================] - 5s 24ms/step - loss: 0.9011 - acc: 0.6082 - val_loss: 0.7326 - val_acc: 0.7076\n",
      "Epoch 2/15\n",
      "96/97 [============================>.] - ETA: 0s - loss: 0.5881 - acc: 0.7559\n",
      "Epoch 2: val_acc improved from 0.70763 to 0.75679, saving model to 실습10_best_model.h5\n",
      "97/97 [==============================] - 2s 16ms/step - loss: 0.5877 - acc: 0.7562 - val_loss: 0.6184 - val_acc: 0.7568\n",
      "Epoch 3/15\n",
      "95/97 [============================>.] - ETA: 0s - loss: 0.3505 - acc: 0.8694\n",
      "Epoch 3: val_acc did not improve from 0.75679\n",
      "97/97 [==============================] - 2s 17ms/step - loss: 0.3496 - acc: 0.8698 - val_loss: 0.7462 - val_acc: 0.7555\n",
      "Epoch 4/15\n",
      "93/97 [===========================>..] - ETA: 0s - loss: 0.2207 - acc: 0.9261\n",
      "Epoch 4: val_acc did not improve from 0.75679\n",
      "97/97 [==============================] - 1s 15ms/step - loss: 0.2208 - acc: 0.9265 - val_loss: 0.7810 - val_acc: 0.7542\n",
      "Epoch 5/15\n",
      "95/97 [============================>.] - ETA: 0s - loss: 0.1438 - acc: 0.9510\n",
      "Epoch 5: val_acc did not improve from 0.75679\n",
      "97/97 [==============================] - 2s 16ms/step - loss: 0.1428 - acc: 0.9514 - val_loss: 1.0711 - val_acc: 0.7296\n",
      "Epoch 6/15\n",
      "94/97 [============================>.] - ETA: 0s - loss: 0.1051 - acc: 0.9661\n",
      "Epoch 6: val_acc did not improve from 0.75679\n",
      "97/97 [==============================] - 2s 16ms/step - loss: 0.1055 - acc: 0.9663 - val_loss: 1.0732 - val_acc: 0.6986\n",
      "Epoch 6: early stopping\n"
     ]
    }
   ],
   "source": [
    "embedding_dim = 64\n",
    "hidden_units = 64\n",
    "num_classes = 3\n",
    "\n",
    "model = Sequential()\n",
    "model.add(Embedding(vocab_size, embedding_dim))\n",
    "model.add(LSTM(hidden_units))\n",
    "model.add(Dense(num_classes, activation='softmax'))\n",
    "\n",
    "es = EarlyStopping(monitor='val_loss', mode='min', verbose=1, patience=4)\n",
    "mc = ModelCheckpoint('실습10_best_model.h5', monitor='val_acc', mode='max', verbose=1, save_best_only=True)\n",
    "\n",
    "model.compile(loss='categorical_crossentropy', optimizer='adam', metrics=['acc'])\n",
    "history = model.fit(X_train_encoded, y_train, epochs=15, callbacks=[es, mc], batch_size=32, validation_split=0.2)"
   ]
  },
  {
   "cell_type": "code",
   "execution_count": 38,
   "id": "68982750-dcef-4a81-a0c4-31bd38020c33",
   "metadata": {
    "tags": []
   },
   "outputs": [
    {
     "name": "stdout",
     "output_type": "stream",
     "text": [
      "31/31 [==============================] - 1s 5ms/step - loss: 0.6049 - acc: 0.7619\n"
     ]
    },
    {
     "data": {
      "text/plain": [
       "0.761904776096344"
      ]
     },
     "execution_count": 38,
     "metadata": {},
     "output_type": "execute_result"
    }
   ],
   "source": [
    "loaded_model = load_model('실습10_best_model.h5')\n",
    "loaded_model.evaluate(X_test_encoded, y_test)[1]"
   ]
  },
  {
   "cell_type": "markdown",
   "id": "3cbf2c50-6b4f-42a7-8ac6-ea0c2e54a3b4",
   "metadata": {},
   "source": [
    "# 뉴스 "
   ]
  },
  {
   "cell_type": "code",
   "execution_count": 42,
   "id": "a98a4472-6a8c-4818-af35-d6cc2d7dcccf",
   "metadata": {
    "tags": []
   },
   "outputs": [
    {
     "name": "stdout",
     "output_type": "stream",
     "text": [
      "총 샘플의 수 : 20000\n"
     ]
    }
   ],
   "source": [
    "data = pd.read_excel('실습10_빅카인즈뉴스.xlsx')\n",
    "print('총 샘플의 수 :',len(data))"
   ]
  },
  {
   "cell_type": "code",
   "execution_count": 47,
   "id": "683c81dc-027b-43d6-bc2b-fc32ee34d4fe",
   "metadata": {
    "tags": []
   },
   "outputs": [
    {
     "data": {
      "text/html": [
       "<div>\n",
       "<style scoped>\n",
       "    .dataframe tbody tr th:only-of-type {\n",
       "        vertical-align: middle;\n",
       "    }\n",
       "\n",
       "    .dataframe tbody tr th {\n",
       "        vertical-align: top;\n",
       "    }\n",
       "\n",
       "    .dataframe thead th {\n",
       "        text-align: right;\n",
       "    }\n",
       "</style>\n",
       "<table border=\"1\" class=\"dataframe\">\n",
       "  <thead>\n",
       "    <tr style=\"text-align: right;\">\n",
       "      <th></th>\n",
       "      <th>일자</th>\n",
       "      <th>제목</th>\n",
       "      <th>news_tokenized</th>\n",
       "    </tr>\n",
       "  </thead>\n",
       "  <tbody>\n",
       "    <tr>\n",
       "      <th>0</th>\n",
       "      <td>20230523</td>\n",
       "      <td>내부거래 공시 기준 50억→100억으로 완화</td>\n",
       "      <td>개정안,내부거래,100억,50억,공정위,시행령,자본총계,계열사,이사회,대기업,특수관계인,관계인,거래법,자본금,게티이미지뱅크,그동안,관계자</td>\n",
       "    </tr>\n",
       "    <tr>\n",
       "      <th>1</th>\n",
       "      <td>20230523</td>\n",
       "      <td>尹, WTO 사무총장 만나 \"새로운 무역규범 정립 함께 노력\"</td>\n",
       "      <td>한국,wto,사무총장,아프리카,이웰라,대통령실,공급망,젊은이들,응고지,이도운,용산,인재들,가트,우리나라,본부장,서울,예측가능성,통상교섭본부장,블록화,발전상황,보조금,자유무역체제,디커플링,정상회의,미국</td>\n",
       "    </tr>\n",
       "    <tr>\n",
       "      <th>2</th>\n",
       "      <td>20230523</td>\n",
       "      <td>글로벌 반도체 기업 투자 유치 ASM, 한국 제2생산공장 신설</td>\n",
       "      <td>반도체,asm,한국,산업부,김완기,연구개발,화성,경기도,공급망,ald</td>\n",
       "    </tr>\n",
       "  </tbody>\n",
       "</table>\n",
       "</div>"
      ],
      "text/plain": [
       "         일자                                  제목  \\\n",
       "0  20230523            내부거래 공시 기준 50억→100억으로 완화   \n",
       "1  20230523  尹, WTO 사무총장 만나 \"새로운 무역규범 정립 함께 노력\"   \n",
       "2  20230523  글로벌 반도체 기업 투자 유치 ASM, 한국 제2생산공장 신설   \n",
       "\n",
       "                                                                                                    news_tokenized  \n",
       "0                                     개정안,내부거래,100억,50억,공정위,시행령,자본총계,계열사,이사회,대기업,특수관계인,관계인,거래법,자본금,게티이미지뱅크,그동안,관계자  \n",
       "1  한국,wto,사무총장,아프리카,이웰라,대통령실,공급망,젊은이들,응고지,이도운,용산,인재들,가트,우리나라,본부장,서울,예측가능성,통상교섭본부장,블록화,발전상황,보조금,자유무역체제,디커플링,정상회의,미국  \n",
       "2                                                                           반도체,asm,한국,산업부,김완기,연구개발,화성,경기도,공급망,ald  "
      ]
     },
     "execution_count": 50,
     "metadata": {},
     "output_type": "execute_result"
    }
   ],
   "source": [
    "data = data[['일자','제목','특성추출(가중치순 상위 50개)']]\n",
    "data = data.rename(columns={'특성추출(가중치순 상위 50개)': 'news_tokenized'})\n",
    "data.head(3)"
   ]
  },
  {
   "cell_type": "code",
   "execution_count": 61,
   "id": "d51e5b28-17ec-4ec1-bf68-4e52e1ccde76",
   "metadata": {
    "tags": []
   },
   "outputs": [
    {
     "name": "stdout",
     "output_type": "stream",
     "text": [
      "(20000, 36) [[   0    0    0    0    0    0    0    0    0    0    0    0    0    0\n",
      "     0    0    0    0    0    0    0    0    0    0    0    0    0    0\n",
      "     0    0 2533 5274  297  971 5282 1143]\n",
      " [   0    0    0    0    0    0    0    0    0    0    0    0    0    0\n",
      "     0    0    0    0    0    0    0    0    0    0    0    0    0    0\n",
      "     0    0    0 1094 1192 4781 2679   90]]\n",
      "625/625 [==============================] - 3s 5ms/step\n"
     ]
    }
   ],
   "source": [
    "mecab = Mecab(dicpath=r\"C:\\mecab\\mecab-ko-dic\")\n",
    "# print('Mecab 명사 추출 :'  , mecab.nouns(\"열심히 코딩한 당신, 연휴에는 여행을 가봐요\")) \n",
    "# data['tokenized'] = data['news'].apply(mecab.nouns)\n",
    "\n",
    "# tokenizer.fit_on_texts(X_train)\n",
    "news_encoded = tokenizer.texts_to_sequences(data['news_tokenized'])\n",
    "news_encoded = pad_sequences(news_encoded, maxlen=max_len)\n",
    "print(news_encoded.shape, news_encoded[:2])\n",
    "\n",
    "proba = loaded_model.predict(news_encoded)"
   ]
  },
  {
   "cell_type": "code",
   "execution_count": 67,
   "id": "90c4644e-5f4d-4bcf-9a97-7f6d65da5111",
   "metadata": {
    "tags": []
   },
   "outputs": [
    {
     "data": {
      "text/plain": [
       "((20000,),\n",
       " 0    18554\n",
       " 1     1271\n",
       " 2      175\n",
       " dtype: int64)"
      ]
     },
     "execution_count": 67,
     "metadata": {},
     "output_type": "execute_result"
    }
   ],
   "source": [
    "pred = np.argmax(proba, axis=1)\n",
    "data['pred'] = pred\n",
    "print( pred.shape, pd.Series(pred).value_counts() )"
   ]
  },
  {
   "cell_type": "code",
   "execution_count": null,
   "id": "23509581-214d-4f92-a55c-d0d2e7a22897",
   "metadata": {},
   "outputs": [],
   "source": [
    "## replace(['neutral', 'positive', 'negative'],[0, 1, 2])"
   ]
  },
  {
   "cell_type": "code",
   "execution_count": 73,
   "id": "1a2492b0-4970-4c2e-b7b7-b0a472f203c3",
   "metadata": {
    "tags": []
   },
   "outputs": [
    {
     "data": {
      "text/html": [
       "<div>\n",
       "<style scoped>\n",
       "    .dataframe tbody tr th:only-of-type {\n",
       "        vertical-align: middle;\n",
       "    }\n",
       "\n",
       "    .dataframe tbody tr th {\n",
       "        vertical-align: top;\n",
       "    }\n",
       "\n",
       "    .dataframe thead th {\n",
       "        text-align: right;\n",
       "    }\n",
       "</style>\n",
       "<table border=\"1\" class=\"dataframe\">\n",
       "  <thead>\n",
       "    <tr style=\"text-align: right;\">\n",
       "      <th></th>\n",
       "      <th>일자</th>\n",
       "      <th>제목</th>\n",
       "      <th>news_tokenized</th>\n",
       "      <th>pred</th>\n",
       "    </tr>\n",
       "  </thead>\n",
       "  <tbody>\n",
       "    <tr>\n",
       "      <th>0</th>\n",
       "      <td>20230523</td>\n",
       "      <td>내부거래 공시 기준 50억→100억으로 완화</td>\n",
       "      <td>개정안,내부거래,100억,50억,공정위,시행령,자본총계,계열사,이사회,대기업,특수관계인,관계인,거래법,자본금,게티이미지뱅크,그동안,관계자</td>\n",
       "      <td>0</td>\n",
       "    </tr>\n",
       "    <tr>\n",
       "      <th>1</th>\n",
       "      <td>20230523</td>\n",
       "      <td>尹, WTO 사무총장 만나 \"새로운 무역규범 정립 함께 노력\"</td>\n",
       "      <td>한국,wto,사무총장,아프리카,이웰라,대통령실,공급망,젊은이들,응고지,이도운,용산,인재들,가트,우리나라,본부장,서울,예측가능성,통상교섭본부장,블록화,발전상황,보조금,자유무역체제,디커플링,정상회의,미국</td>\n",
       "      <td>0</td>\n",
       "    </tr>\n",
       "    <tr>\n",
       "      <th>2</th>\n",
       "      <td>20230523</td>\n",
       "      <td>글로벌 반도체 기업 투자 유치 ASM, 한국 제2생산공장 신설</td>\n",
       "      <td>반도체,asm,한국,산업부,김완기,연구개발,화성,경기도,공급망,ald</td>\n",
       "      <td>0</td>\n",
       "    </tr>\n",
       "    <tr>\n",
       "      <th>3</th>\n",
       "      <td>20230523</td>\n",
       "      <td>尹 \"디지털 무역규범 노력\" WTO사무총장 \"韓디지털분야 환상적\"</td>\n",
       "      <td>한국,wto,아프리카,사무총장,대통령실,오콘조이웰라,서울,응고지,윤석열,세계무역기구,젊은이들,공급망,나이지리아,인재들,용산,통상교섭본부장,블록화,본부장,총생산,각국,디커플링,우리나라,정상회의,무역체계,이웰라</td>\n",
       "      <td>0</td>\n",
       "    </tr>\n",
       "    <tr>\n",
       "      <th>4</th>\n",
       "      <td>20230523</td>\n",
       "      <td>WTO 사무총장 \"공급망 다변화 위해 개도국서 새 파트너 찾아야\"</td>\n",
       "      <td>한국,사무총장,wto,오콘조이웨알라,공급망,개발도상국,이효영,김정일,부사장,안덕근,이재민,서울대,다자무역체제,지정학적,김경한,중구,국가들,보호무역주의,포스코,서울,외교원,응고지,지정학</td>\n",
       "      <td>0</td>\n",
       "    </tr>\n",
       "  </tbody>\n",
       "</table>\n",
       "</div>"
      ],
      "text/plain": [
       "         일자                                    제목  \\\n",
       "0  20230523              내부거래 공시 기준 50억→100억으로 완화   \n",
       "1  20230523    尹, WTO 사무총장 만나 \"새로운 무역규범 정립 함께 노력\"   \n",
       "2  20230523    글로벌 반도체 기업 투자 유치 ASM, 한국 제2생산공장 신설   \n",
       "3  20230523  尹 \"디지털 무역규범 노력\" WTO사무총장 \"韓디지털분야 환상적\"   \n",
       "4  20230523  WTO 사무총장 \"공급망 다변화 위해 개도국서 새 파트너 찾아야\"   \n",
       "\n",
       "                                                                                                        news_tokenized  \\\n",
       "0                                         개정안,내부거래,100억,50억,공정위,시행령,자본총계,계열사,이사회,대기업,특수관계인,관계인,거래법,자본금,게티이미지뱅크,그동안,관계자   \n",
       "1      한국,wto,사무총장,아프리카,이웰라,대통령실,공급망,젊은이들,응고지,이도운,용산,인재들,가트,우리나라,본부장,서울,예측가능성,통상교섭본부장,블록화,발전상황,보조금,자유무역체제,디커플링,정상회의,미국   \n",
       "2                                                                               반도체,asm,한국,산업부,김완기,연구개발,화성,경기도,공급망,ald   \n",
       "3  한국,wto,아프리카,사무총장,대통령실,오콘조이웰라,서울,응고지,윤석열,세계무역기구,젊은이들,공급망,나이지리아,인재들,용산,통상교섭본부장,블록화,본부장,총생산,각국,디커플링,우리나라,정상회의,무역체계,이웰라   \n",
       "4               한국,사무총장,wto,오콘조이웨알라,공급망,개발도상국,이효영,김정일,부사장,안덕근,이재민,서울대,다자무역체제,지정학적,김경한,중구,국가들,보호무역주의,포스코,서울,외교원,응고지,지정학   \n",
       "\n",
       "   pred  \n",
       "0     0  \n",
       "1     0  \n",
       "2     0  \n",
       "3     0  \n",
       "4     0  "
      ]
     },
     "execution_count": 73,
     "metadata": {},
     "output_type": "execute_result"
    }
   ],
   "source": [
    "data[data['pred'] == 0].head()"
   ]
  },
  {
   "cell_type": "code",
   "execution_count": 74,
   "id": "9fbfdda8-7e95-4545-ae11-44f92d22a91a",
   "metadata": {
    "tags": []
   },
   "outputs": [
    {
     "data": {
      "text/html": [
       "<div>\n",
       "<style scoped>\n",
       "    .dataframe tbody tr th:only-of-type {\n",
       "        vertical-align: middle;\n",
       "    }\n",
       "\n",
       "    .dataframe tbody tr th {\n",
       "        vertical-align: top;\n",
       "    }\n",
       "\n",
       "    .dataframe thead th {\n",
       "        text-align: right;\n",
       "    }\n",
       "</style>\n",
       "<table border=\"1\" class=\"dataframe\">\n",
       "  <thead>\n",
       "    <tr style=\"text-align: right;\">\n",
       "      <th></th>\n",
       "      <th>일자</th>\n",
       "      <th>제목</th>\n",
       "      <th>news_tokenized</th>\n",
       "      <th>pred</th>\n",
       "    </tr>\n",
       "  </thead>\n",
       "  <tbody>\n",
       "    <tr>\n",
       "      <th>19</th>\n",
       "      <td>20230523</td>\n",
       "      <td>정부, 지원금 부정수급과의 전쟁</td>\n",
       "      <td>부정수급,이승우,우지원,지원금,부정수급범죄,변호사,보조금,벌금형,화요일,법승,공공재정,부정수급행위,관계자,고용노동부,동법,만큼</td>\n",
       "      <td>1</td>\n",
       "    </tr>\n",
       "    <tr>\n",
       "      <th>67</th>\n",
       "      <td>20230523</td>\n",
       "      <td>샤넬, 또 가격 인상 ‘클래식 플랩백 라지’ 가격은 얼마?</td>\n",
       "      <td>샤넬,프랑스,1570만,신발류,1390만,스몰,1480만,1311만,1367만,지갑류,1450만,라지사이즈,가격,인상,클래식,차례,사이즈,제품,라지,플랩,업계,가량,지갑,미디움,명품,신발,브랜드,이날,대표,단행,얼마,라인,판매</td>\n",
       "      <td>1</td>\n",
       "    </tr>\n",
       "    <tr>\n",
       "      <th>101</th>\n",
       "      <td>20230523</td>\n",
       "      <td>​샤넬, 두 달 만에 또 가격 올렸다...'클래식 플립백 라지' 1570만원</td>\n",
       "      <td>샤넬코리아,1570만,샤넬,스몰,플립백,지갑류,1390만,신발류,판매가,유통업,1311만,미디엄,유로,2개월,1367만,1450만,홈페이지,제품별,가격,클래식,사이즈,인상,조정</td>\n",
       "      <td>1</td>\n",
       "    </tr>\n",
       "    <tr>\n",
       "      <th>190</th>\n",
       "      <td>20230523</td>\n",
       "      <td>경실련 ‘21대 국회의원 3년간 부동산 재산 증감현황 발표’</td>\n",
       "      <td>경실련,증감현황,부동산,국회의원,서울,활동가,경제정의실천시민연합,활동가들,종로구,재산,현황,정의,경제,실천,구호,결과,회견,시민,이날,조사,강당,증감,평균,증가</td>\n",
       "      <td>1</td>\n",
       "    </tr>\n",
       "    <tr>\n",
       "      <th>201</th>\n",
       "      <td>20230523</td>\n",
       "      <td>조선업 생태계 뒤흔드는 맏형의 저인망식 인력 빼 가기</td>\n",
       "      <td>한국조선해양,조선업,케이조선,현대,삼성중공업,맏형,조선,경남,중형사,3사,경쟁사,조선업계,대형사,1위,후유증,운반선,hd,lng,조선소,경쟁력,동종사</td>\n",
       "      <td>1</td>\n",
       "    </tr>\n",
       "  </tbody>\n",
       "</table>\n",
       "</div>"
      ],
      "text/plain": [
       "           일자                                          제목  \\\n",
       "19   20230523                           정부, 지원금 부정수급과의 전쟁   \n",
       "67   20230523            샤넬, 또 가격 인상 ‘클래식 플랩백 라지’ 가격은 얼마?   \n",
       "101  20230523  ​샤넬, 두 달 만에 또 가격 올렸다...'클래식 플립백 라지' 1570만원   \n",
       "190  20230523           경실련 ‘21대 국회의원 3년간 부동산 재산 증감현황 발표’   \n",
       "201  20230523               조선업 생태계 뒤흔드는 맏형의 저인망식 인력 빼 가기   \n",
       "\n",
       "                                                                                                                     news_tokenized  \\\n",
       "19                                                           부정수급,이승우,우지원,지원금,부정수급범죄,변호사,보조금,벌금형,화요일,법승,공공재정,부정수급행위,관계자,고용노동부,동법,만큼   \n",
       "67   샤넬,프랑스,1570만,신발류,1390만,스몰,1480만,1311만,1367만,지갑류,1450만,라지사이즈,가격,인상,클래식,차례,사이즈,제품,라지,플랩,업계,가량,지갑,미디움,명품,신발,브랜드,이날,대표,단행,얼마,라인,판매   \n",
       "101                              샤넬코리아,1570만,샤넬,스몰,플립백,지갑류,1390만,신발류,판매가,유통업,1311만,미디엄,유로,2개월,1367만,1450만,홈페이지,제품별,가격,클래식,사이즈,인상,조정   \n",
       "190                                       경실련,증감현황,부동산,국회의원,서울,활동가,경제정의실천시민연합,활동가들,종로구,재산,현황,정의,경제,실천,구호,결과,회견,시민,이날,조사,강당,증감,평균,증가   \n",
       "201                                             한국조선해양,조선업,케이조선,현대,삼성중공업,맏형,조선,경남,중형사,3사,경쟁사,조선업계,대형사,1위,후유증,운반선,hd,lng,조선소,경쟁력,동종사   \n",
       "\n",
       "     pred  \n",
       "19      1  \n",
       "67      1  \n",
       "101     1  \n",
       "190     1  \n",
       "201     1  "
      ]
     },
     "execution_count": 74,
     "metadata": {},
     "output_type": "execute_result"
    }
   ],
   "source": [
    "data[data['pred'] == 1].head()"
   ]
  },
  {
   "cell_type": "code",
   "execution_count": 70,
   "id": "294071a3-b8d8-4330-9b32-b7c084f3745d",
   "metadata": {
    "tags": []
   },
   "outputs": [
    {
     "data": {
      "text/html": [
       "<div>\n",
       "<style scoped>\n",
       "    .dataframe tbody tr th:only-of-type {\n",
       "        vertical-align: middle;\n",
       "    }\n",
       "\n",
       "    .dataframe tbody tr th {\n",
       "        vertical-align: top;\n",
       "    }\n",
       "\n",
       "    .dataframe thead th {\n",
       "        text-align: right;\n",
       "    }\n",
       "</style>\n",
       "<table border=\"1\" class=\"dataframe\">\n",
       "  <thead>\n",
       "    <tr style=\"text-align: right;\">\n",
       "      <th></th>\n",
       "      <th>일자</th>\n",
       "      <th>제목</th>\n",
       "      <th>news_tokenized</th>\n",
       "      <th>pred</th>\n",
       "    </tr>\n",
       "  </thead>\n",
       "  <tbody>\n",
       "    <tr>\n",
       "      <th>200</th>\n",
       "      <td>20230523</td>\n",
       "      <td>관악구 “올 하반기 동행 일자리 참여하세요”</td>\n",
       "      <td>일자리,고독사,65세,관악구,서울,참여자,주민센터,선발자,개시일,상반기,실직자,저소득층,건강검진</td>\n",
       "      <td>2</td>\n",
       "    </tr>\n",
       "    <tr>\n",
       "      <th>225</th>\n",
       "      <td>20230523</td>\n",
       "      <td>​[코로나19] 신규 확진 2만1385명 전주 대비 2286명 감소</td>\n",
       "      <td>2만,확진자,코로나19,사망자,코로나,인천국제공항,지역감염,전주,위중증,중앙방역대책본부,치명률,풍토병,풍토병화,감소세,1주일,3만,제2여객,1만,엔데믹,진단검사량,의료기관,2주일,감소</td>\n",
       "      <td>2</td>\n",
       "    </tr>\n",
       "    <tr>\n",
       "      <th>605</th>\n",
       "      <td>20230522</td>\n",
       "      <td>충청권 지역경제 1분기 부진한 성적표</td>\n",
       "      <td>충청,충남,충북,세종,반도체,광공업생산,전자부품,화학물질,건설수주,화학제품,고용률,지역경제동향,통신장비,인쇄회로,반도체부품,광공업,경공업,의약품,충청지역,통계청,지역별,성적표,부진,감소</td>\n",
       "      <td>2</td>\n",
       "    </tr>\n",
       "    <tr>\n",
       "      <th>996</th>\n",
       "      <td>20230522</td>\n",
       "      <td>무역적자 장기화에 韓경제 '상저하저' 우려 확대(종합)</td>\n",
       "      <td>반도체,중국,무역수지,상반기,장기화,수출액,수입액,경제성장률,성장률</td>\n",
       "      <td>2</td>\n",
       "    </tr>\n",
       "    <tr>\n",
       "      <th>1046</th>\n",
       "      <td>20230522</td>\n",
       "      <td>세수 펑크에 허리띠 졸라매는 정부 하반기 재정절벽 온다</td>\n",
       "      <td>성장률,기재부,상반기,연차총회,간담회,만큼,상저,아시아개발은행,상저하중,반도체,부총리,추경호</td>\n",
       "      <td>2</td>\n",
       "    </tr>\n",
       "  </tbody>\n",
       "</table>\n",
       "</div>"
      ],
      "text/plain": [
       "            일자                                     제목  \\\n",
       "200   20230523               관악구 “올 하반기 동행 일자리 참여하세요”   \n",
       "225   20230523  ​[코로나19] 신규 확진 2만1385명 전주 대비 2286명 감소   \n",
       "605   20230522                   충청권 지역경제 1분기 부진한 성적표   \n",
       "996   20230522         무역적자 장기화에 韓경제 '상저하저' 우려 확대(종합)   \n",
       "1046  20230522         세수 펑크에 허리띠 졸라매는 정부 하반기 재정절벽 온다   \n",
       "\n",
       "                                                                                               news_tokenized  \\\n",
       "200                                                     일자리,고독사,65세,관악구,서울,참여자,주민센터,선발자,개시일,상반기,실직자,저소득층,건강검진   \n",
       "225    2만,확진자,코로나19,사망자,코로나,인천국제공항,지역감염,전주,위중증,중앙방역대책본부,치명률,풍토병,풍토병화,감소세,1주일,3만,제2여객,1만,엔데믹,진단검사량,의료기관,2주일,감소   \n",
       "605   충청,충남,충북,세종,반도체,광공업생산,전자부품,화학물질,건설수주,화학제품,고용률,지역경제동향,통신장비,인쇄회로,반도체부품,광공업,경공업,의약품,충청지역,통계청,지역별,성적표,부진,감소   \n",
       "996                                                                     반도체,중국,무역수지,상반기,장기화,수출액,수입액,경제성장률,성장률   \n",
       "1046                                                      성장률,기재부,상반기,연차총회,간담회,만큼,상저,아시아개발은행,상저하중,반도체,부총리,추경호   \n",
       "\n",
       "      pred  \n",
       "200      2  \n",
       "225      2  \n",
       "605      2  \n",
       "996      2  \n",
       "1046     2  "
      ]
     },
     "execution_count": 70,
     "metadata": {},
     "output_type": "execute_result"
    }
   ],
   "source": [
    "data[data['pred'] == 2].head()"
   ]
  },
  {
   "cell_type": "code",
   "execution_count": null,
   "id": "a3d2dec2-4f06-46c8-b066-3573bd5d7817",
   "metadata": {},
   "outputs": [],
   "source": []
  },
  {
   "cell_type": "code",
   "execution_count": 75,
   "id": "2f8d2ecb-9b28-4ed6-828c-af7126269230",
   "metadata": {
    "tags": []
   },
   "outputs": [
    {
     "name": "stdout",
     "output_type": "stream",
     "text": [
      "(20000, 36) [[   0    0    0    0    0    0    0    0    0    0    0    0    0    0\n",
      "     0    0    0    0    0    0    0    0    0    0    0    0    0    0\n",
      "     0    0    0    0    0 1770  236 5430]\n",
      " [   0    0    0    0    0    0    0    0    0    0    0    0    0    0\n",
      "     0    0    0    0    0    0    0    0    0    0    0    0    0    0\n",
      "     0    0    0    0    0    0    0  725]]\n",
      "625/625 [==============================] - 3s 6ms/step\n"
     ]
    }
   ],
   "source": [
    "mecab = Mecab(dicpath=r\"C:\\mecab\\mecab-ko-dic\")\n",
    "# print('Mecab 명사 추출 :'  , mecab.nouns(\"열심히 코딩한 당신, 연휴에는 여행을 가봐요\")) \n",
    "# data['tokenized'] = data['news'].apply(mecab.nouns)\n",
    "\n",
    "# tokenizer.fit_on_texts(X_train)\n",
    "news_encoded = tokenizer.texts_to_sequences(data['제목'])\n",
    "news_encoded = pad_sequences(news_encoded, maxlen=max_len)\n",
    "print(news_encoded.shape, news_encoded[:2])\n",
    "\n",
    "proba = loaded_model.predict(news_encoded)"
   ]
  },
  {
   "cell_type": "code",
   "execution_count": 77,
   "id": "74f36f89-a88d-410d-b54f-e3ae9fbe0104",
   "metadata": {
    "tags": []
   },
   "outputs": [
    {
     "name": "stdout",
     "output_type": "stream",
     "text": [
      "(20000,) 0    18175\n",
      "1     1476\n",
      "2      349\n",
      "dtype: int64\n"
     ]
    }
   ],
   "source": [
    "pred = np.argmax(proba, axis=1)\n",
    "data['pred'] = pred\n",
    "print( pred.shape, pd.Series(pred).value_counts() )"
   ]
  },
  {
   "cell_type": "code",
   "execution_count": null,
   "id": "2365b286-8ab2-4d8b-af2c-6d23b90a918e",
   "metadata": {},
   "outputs": [],
   "source": [
    "# ((20000,),\n",
    "#  0    18554\n",
    "#  1     1271\n",
    "#  2      175\n",
    "#  dtype: int64)"
   ]
  },
  {
   "cell_type": "code",
   "execution_count": 78,
   "id": "04ce6e40-610b-4aee-af91-3b16f3c0e01b",
   "metadata": {
    "tags": []
   },
   "outputs": [
    {
     "data": {
      "text/html": [
       "<div>\n",
       "<style scoped>\n",
       "    .dataframe tbody tr th:only-of-type {\n",
       "        vertical-align: middle;\n",
       "    }\n",
       "\n",
       "    .dataframe tbody tr th {\n",
       "        vertical-align: top;\n",
       "    }\n",
       "\n",
       "    .dataframe thead th {\n",
       "        text-align: right;\n",
       "    }\n",
       "</style>\n",
       "<table border=\"1\" class=\"dataframe\">\n",
       "  <thead>\n",
       "    <tr style=\"text-align: right;\">\n",
       "      <th></th>\n",
       "      <th>일자</th>\n",
       "      <th>제목</th>\n",
       "      <th>news_tokenized</th>\n",
       "      <th>pred</th>\n",
       "    </tr>\n",
       "  </thead>\n",
       "  <tbody>\n",
       "    <tr>\n",
       "      <th>0</th>\n",
       "      <td>20230523</td>\n",
       "      <td>내부거래 공시 기준 50억→100억으로 완화</td>\n",
       "      <td>개정안,내부거래,100억,50억,공정위,시행령,자본총계,계열사,이사회,대기업,특수관계인,관계인,거래법,자본금,게티이미지뱅크,그동안,관계자</td>\n",
       "      <td>0</td>\n",
       "    </tr>\n",
       "    <tr>\n",
       "      <th>1</th>\n",
       "      <td>20230523</td>\n",
       "      <td>尹, WTO 사무총장 만나 \"새로운 무역규범 정립 함께 노력\"</td>\n",
       "      <td>한국,wto,사무총장,아프리카,이웰라,대통령실,공급망,젊은이들,응고지,이도운,용산,인재들,가트,우리나라,본부장,서울,예측가능성,통상교섭본부장,블록화,발전상황,보조금,자유무역체제,디커플링,정상회의,미국</td>\n",
       "      <td>0</td>\n",
       "    </tr>\n",
       "    <tr>\n",
       "      <th>2</th>\n",
       "      <td>20230523</td>\n",
       "      <td>글로벌 반도체 기업 투자 유치 ASM, 한국 제2생산공장 신설</td>\n",
       "      <td>반도체,asm,한국,산업부,김완기,연구개발,화성,경기도,공급망,ald</td>\n",
       "      <td>0</td>\n",
       "    </tr>\n",
       "    <tr>\n",
       "      <th>3</th>\n",
       "      <td>20230523</td>\n",
       "      <td>尹 \"디지털 무역규범 노력\" WTO사무총장 \"韓디지털분야 환상적\"</td>\n",
       "      <td>한국,wto,아프리카,사무총장,대통령실,오콘조이웰라,서울,응고지,윤석열,세계무역기구,젊은이들,공급망,나이지리아,인재들,용산,통상교섭본부장,블록화,본부장,총생산,각국,디커플링,우리나라,정상회의,무역체계,이웰라</td>\n",
       "      <td>0</td>\n",
       "    </tr>\n",
       "    <tr>\n",
       "      <th>4</th>\n",
       "      <td>20230523</td>\n",
       "      <td>WTO 사무총장 \"공급망 다변화 위해 개도국서 새 파트너 찾아야\"</td>\n",
       "      <td>한국,사무총장,wto,오콘조이웨알라,공급망,개발도상국,이효영,김정일,부사장,안덕근,이재민,서울대,다자무역체제,지정학적,김경한,중구,국가들,보호무역주의,포스코,서울,외교원,응고지,지정학</td>\n",
       "      <td>0</td>\n",
       "    </tr>\n",
       "  </tbody>\n",
       "</table>\n",
       "</div>"
      ],
      "text/plain": [
       "         일자                                    제목  \\\n",
       "0  20230523              내부거래 공시 기준 50억→100억으로 완화   \n",
       "1  20230523    尹, WTO 사무총장 만나 \"새로운 무역규범 정립 함께 노력\"   \n",
       "2  20230523    글로벌 반도체 기업 투자 유치 ASM, 한국 제2생산공장 신설   \n",
       "3  20230523  尹 \"디지털 무역규범 노력\" WTO사무총장 \"韓디지털분야 환상적\"   \n",
       "4  20230523  WTO 사무총장 \"공급망 다변화 위해 개도국서 새 파트너 찾아야\"   \n",
       "\n",
       "                                                                                                        news_tokenized  \\\n",
       "0                                         개정안,내부거래,100억,50억,공정위,시행령,자본총계,계열사,이사회,대기업,특수관계인,관계인,거래법,자본금,게티이미지뱅크,그동안,관계자   \n",
       "1      한국,wto,사무총장,아프리카,이웰라,대통령실,공급망,젊은이들,응고지,이도운,용산,인재들,가트,우리나라,본부장,서울,예측가능성,통상교섭본부장,블록화,발전상황,보조금,자유무역체제,디커플링,정상회의,미국   \n",
       "2                                                                               반도체,asm,한국,산업부,김완기,연구개발,화성,경기도,공급망,ald   \n",
       "3  한국,wto,아프리카,사무총장,대통령실,오콘조이웰라,서울,응고지,윤석열,세계무역기구,젊은이들,공급망,나이지리아,인재들,용산,통상교섭본부장,블록화,본부장,총생산,각국,디커플링,우리나라,정상회의,무역체계,이웰라   \n",
       "4               한국,사무총장,wto,오콘조이웨알라,공급망,개발도상국,이효영,김정일,부사장,안덕근,이재민,서울대,다자무역체제,지정학적,김경한,중구,국가들,보호무역주의,포스코,서울,외교원,응고지,지정학   \n",
       "\n",
       "   pred  \n",
       "0     0  \n",
       "1     0  \n",
       "2     0  \n",
       "3     0  \n",
       "4     0  "
      ]
     },
     "execution_count": 78,
     "metadata": {},
     "output_type": "execute_result"
    }
   ],
   "source": [
    "data[data['pred'] == 0].head()"
   ]
  },
  {
   "cell_type": "code",
   "execution_count": 79,
   "id": "bf72a40e-136e-450c-9223-58c2edc6976b",
   "metadata": {
    "tags": []
   },
   "outputs": [
    {
     "data": {
      "text/html": [
       "<div>\n",
       "<style scoped>\n",
       "    .dataframe tbody tr th:only-of-type {\n",
       "        vertical-align: middle;\n",
       "    }\n",
       "\n",
       "    .dataframe tbody tr th {\n",
       "        vertical-align: top;\n",
       "    }\n",
       "\n",
       "    .dataframe thead th {\n",
       "        text-align: right;\n",
       "    }\n",
       "</style>\n",
       "<table border=\"1\" class=\"dataframe\">\n",
       "  <thead>\n",
       "    <tr style=\"text-align: right;\">\n",
       "      <th></th>\n",
       "      <th>일자</th>\n",
       "      <th>제목</th>\n",
       "      <th>news_tokenized</th>\n",
       "      <th>pred</th>\n",
       "    </tr>\n",
       "  </thead>\n",
       "  <tbody>\n",
       "    <tr>\n",
       "      <th>15</th>\n",
       "      <td>20230523</td>\n",
       "      <td>[자막뉴스] 예상 뒤엎은 폭풍 상승...올라탄 개미는 '눈물 바다'</td>\n",
       "      <td>투자자,이사장,반대매매,증권사,현대경제연구원,개장식,보증금,자막뉴스,이상미,전자인,안전자산,경고음,차액결제거래,상반기,변동성,현대차증권,테마주,여기저기,연구실장,주원,손병두,오창섭,연구원,4조,한국,거래소,눈물,악순환,영상편집,코스피,정작,빚투</td>\n",
       "      <td>1</td>\n",
       "    </tr>\n",
       "    <tr>\n",
       "      <th>50</th>\n",
       "      <td>20230523</td>\n",
       "      <td>伊 앞지른 그리스 경제 親시장정책으로 체질 개선</td>\n",
       "      <td>이탈리아,투자자,독일,집권당,gdp,부사장,슈테판,저금리,한경</td>\n",
       "      <td>1</td>\n",
       "    </tr>\n",
       "    <tr>\n",
       "      <th>113</th>\n",
       "      <td>20230523</td>\n",
       "      <td>WTO 사무총장 \"다자무역체제 회복 위한 한국 역할 중요\"</td>\n",
       "      <td>wto,한국,사무총장,응고지,김정일,이효영,안덕근,부사장,서울대,조치들,김경한,이재민,포스코,스퀘어,중구,서울,세계화,외교원,기업들</td>\n",
       "      <td>1</td>\n",
       "    </tr>\n",
       "    <tr>\n",
       "      <th>126</th>\n",
       "      <td>20230523</td>\n",
       "      <td>강원도 소비자심리지수 소폭 상승 현 경제상황에 대한 인식과 전망 나아지지 않아</td>\n",
       "      <td>소비자,소비자심리지수,2포인트,강원,csi,한국은행,소비자동향조사,1포인트,3포인트,상승폭,경제상황,동해,삼척,강릉,원주,태백,춘천,600가구,금리수준전망csi,응답률,경기판단csi,가계저축,부채상황</td>\n",
       "      <td>1</td>\n",
       "    </tr>\n",
       "    <tr>\n",
       "      <th>136</th>\n",
       "      <td>20230523</td>\n",
       "      <td>콘돌 완캐비캐, 한국애니메이션예술인협회와 MOU 체결</td>\n",
       "      <td>콘돌,완캐비캐,한국애니메이션예술인협회,nft,액셀러레이팅,mou,업무협약,서브넷,콘마켓,앱체인,디앱,파라체,디앱들,재산권,핑거,상장사들,협회장,강명구,펀딩,크로스체인,스타트업,서비스들,크라우드,우리나라,계열사,상장사,핀테크,애니메이션단체,한국애니메이션협회,관계자,블록체인,블록체</td>\n",
       "      <td>1</td>\n",
       "    </tr>\n",
       "  </tbody>\n",
       "</table>\n",
       "</div>"
      ],
      "text/plain": [
       "           일자                                           제목  \\\n",
       "15   20230523        [자막뉴스] 예상 뒤엎은 폭풍 상승...올라탄 개미는 '눈물 바다'   \n",
       "50   20230523                   伊 앞지른 그리스 경제 親시장정책으로 체질 개선   \n",
       "113  20230523             WTO 사무총장 \"다자무역체제 회복 위한 한국 역할 중요\"   \n",
       "126  20230523  강원도 소비자심리지수 소폭 상승 현 경제상황에 대한 인식과 전망 나아지지 않아   \n",
       "136  20230523                콘돌 완캐비캐, 한국애니메이션예술인협회와 MOU 체결   \n",
       "\n",
       "                                                                                                                                                  news_tokenized  \\\n",
       "15                      투자자,이사장,반대매매,증권사,현대경제연구원,개장식,보증금,자막뉴스,이상미,전자인,안전자산,경고음,차액결제거래,상반기,변동성,현대차증권,테마주,여기저기,연구실장,주원,손병두,오창섭,연구원,4조,한국,거래소,눈물,악순환,영상편집,코스피,정작,빚투   \n",
       "50                                                                                                                            이탈리아,투자자,독일,집권당,gdp,부사장,슈테판,저금리,한경   \n",
       "113                                                                                    wto,한국,사무총장,응고지,김정일,이효영,안덕근,부사장,서울대,조치들,김경한,이재민,포스코,스퀘어,중구,서울,세계화,외교원,기업들   \n",
       "126                                              소비자,소비자심리지수,2포인트,강원,csi,한국은행,소비자동향조사,1포인트,3포인트,상승폭,경제상황,동해,삼척,강릉,원주,태백,춘천,600가구,금리수준전망csi,응답률,경기판단csi,가계저축,부채상황   \n",
       "136  콘돌,완캐비캐,한국애니메이션예술인협회,nft,액셀러레이팅,mou,업무협약,서브넷,콘마켓,앱체인,디앱,파라체,디앱들,재산권,핑거,상장사들,협회장,강명구,펀딩,크로스체인,스타트업,서비스들,크라우드,우리나라,계열사,상장사,핀테크,애니메이션단체,한국애니메이션협회,관계자,블록체인,블록체   \n",
       "\n",
       "     pred  \n",
       "15      1  \n",
       "50      1  \n",
       "113     1  \n",
       "126     1  \n",
       "136     1  "
      ]
     },
     "execution_count": 79,
     "metadata": {},
     "output_type": "execute_result"
    }
   ],
   "source": [
    "data[data['pred'] == 1].head()"
   ]
  },
  {
   "cell_type": "code",
   "execution_count": 80,
   "id": "651c87c9-654f-4e32-abf6-8d4246b36085",
   "metadata": {
    "tags": []
   },
   "outputs": [
    {
     "data": {
      "text/html": [
       "<div>\n",
       "<style scoped>\n",
       "    .dataframe tbody tr th:only-of-type {\n",
       "        vertical-align: middle;\n",
       "    }\n",
       "\n",
       "    .dataframe tbody tr th {\n",
       "        vertical-align: top;\n",
       "    }\n",
       "\n",
       "    .dataframe thead th {\n",
       "        text-align: right;\n",
       "    }\n",
       "</style>\n",
       "<table border=\"1\" class=\"dataframe\">\n",
       "  <thead>\n",
       "    <tr style=\"text-align: right;\">\n",
       "      <th></th>\n",
       "      <th>일자</th>\n",
       "      <th>제목</th>\n",
       "      <th>news_tokenized</th>\n",
       "      <th>pred</th>\n",
       "    </tr>\n",
       "  </thead>\n",
       "  <tbody>\n",
       "    <tr>\n",
       "      <th>49</th>\n",
       "      <td>20230523</td>\n",
       "      <td>애플 투자의견 하향 \"2분기 실적 부진 전망\"</td>\n",
       "      <td>루프캐피털,미국,투자의견,출하량,한경,아난다,500지수,글로벌마켓,목표주가,180달러,바루아,생산량,투자은행,월가,ib,애플,실적</td>\n",
       "      <td>2</td>\n",
       "    </tr>\n",
       "    <tr>\n",
       "      <th>56</th>\n",
       "      <td>20230523</td>\n",
       "      <td>지갑 닫고 빚 갚았다...가계 빚 사상 최대 감소</td>\n",
       "      <td>한국은행,부동산,고금리,미지수,감소세,대출금리,김지선,이상미</td>\n",
       "      <td>2</td>\n",
       "    </tr>\n",
       "    <tr>\n",
       "      <th>202</th>\n",
       "      <td>20230523</td>\n",
       "      <td>​1년째 대중 수출 감소, 아세안도 위축 \"좁아지는 수출길\"</td>\n",
       "      <td>중국,우리나라,경쟁력,아세안,중간재,수출액,전경련,반도체,한일,한국,제품군</td>\n",
       "      <td>2</td>\n",
       "    </tr>\n",
       "    <tr>\n",
       "      <th>210</th>\n",
       "      <td>20230523</td>\n",
       "      <td>기대인플레 3개월째 하락 내수 회복 기대감</td>\n",
       "      <td>소비자,기대감,인플레이션,한국은행,소비자심리지수,공공요금,코로나19,엔데믹,전망치,소비자들,유성훈,기대인플레이션율,장기평균,인플레이션율</td>\n",
       "      <td>2</td>\n",
       "    </tr>\n",
       "    <tr>\n",
       "      <th>215</th>\n",
       "      <td>20230523</td>\n",
       "      <td>백화점 매출 감소, 승용차 판매 둔화 \"소비가 위험하다\"</td>\n",
       "      <td>연구원,고물가,실질소득,민간소비,백화점,한은,대출금리,승용차,신한투자증권,통계청,월평균,보고서,디레버리징</td>\n",
       "      <td>2</td>\n",
       "    </tr>\n",
       "  </tbody>\n",
       "</table>\n",
       "</div>"
      ],
      "text/plain": [
       "           일자                                 제목  \\\n",
       "49   20230523          애플 투자의견 하향 \"2분기 실적 부진 전망\"   \n",
       "56   20230523        지갑 닫고 빚 갚았다...가계 빚 사상 최대 감소   \n",
       "202  20230523  ​1년째 대중 수출 감소, 아세안도 위축 \"좁아지는 수출길\"   \n",
       "210  20230523            기대인플레 3개월째 하락 내수 회복 기대감   \n",
       "215  20230523    백화점 매출 감소, 승용차 판매 둔화 \"소비가 위험하다\"   \n",
       "\n",
       "                                                                  news_tokenized  \\\n",
       "49      루프캐피털,미국,투자의견,출하량,한경,아난다,500지수,글로벌마켓,목표주가,180달러,바루아,생산량,투자은행,월가,ib,애플,실적   \n",
       "56                                             한국은행,부동산,고금리,미지수,감소세,대출금리,김지선,이상미   \n",
       "202                                    중국,우리나라,경쟁력,아세안,중간재,수출액,전경련,반도체,한일,한국,제품군   \n",
       "210  소비자,기대감,인플레이션,한국은행,소비자심리지수,공공요금,코로나19,엔데믹,전망치,소비자들,유성훈,기대인플레이션율,장기평균,인플레이션율   \n",
       "215                   연구원,고물가,실질소득,민간소비,백화점,한은,대출금리,승용차,신한투자증권,통계청,월평균,보고서,디레버리징   \n",
       "\n",
       "     pred  \n",
       "49      2  \n",
       "56      2  \n",
       "202     2  \n",
       "210     2  \n",
       "215     2  "
      ]
     },
     "execution_count": 80,
     "metadata": {},
     "output_type": "execute_result"
    }
   ],
   "source": [
    "data[data['pred'] == 2].head()"
   ]
  },
  {
   "cell_type": "markdown",
   "id": "aae2cf57-b7f9-4f1e-b39a-75ac96b9310d",
   "metadata": {},
   "source": [
    "# wordcount"
   ]
  },
  {
   "cell_type": "code",
   "execution_count": 83,
   "id": "bedfc748-f9b2-458d-80a1-6f0cc9908599",
   "metadata": {
    "tags": []
   },
   "outputs": [],
   "source": [
    "# ! pip install wordcloud\n",
    "from wordcloud import WordCloud\n",
    "\n",
    "def my_cloud_chart(prm):\n",
    "    wc = WordCloud(font_path='C:\\\\Windows\\\\Fonts\\\\\\x7f\\x7f\\x7f\\x7fBOLD.TTF'\n",
    "                   ,background_color=\"white\", max_font_size=60)\n",
    "    \n",
    "    try : \n",
    "        if type(prm) == str:\n",
    "            cloud = wc.generate(prm)\n",
    "        else :\n",
    "            cloud = wc.generate_from_frequencies(dict(prm))\n",
    "\n",
    "        # cloud.to_file('test.jpg')\n",
    "\n",
    "        plt.figure(figsize=(5, 3))\n",
    "        plt.axis('off')\n",
    "        plt.imshow(cloud)\n",
    "        plt.show()\n",
    "    except:\n",
    "        print(\"파라미터는 str 또는 dict만 지원합니다\")"
   ]
  },
  {
   "cell_type": "code",
   "execution_count": 84,
   "id": "1bf8f0bf-8af3-4870-9607-ade7ec2dc13b",
   "metadata": {
    "tags": []
   },
   "outputs": [
    {
     "data": {
      "image/png": "[encoded data removed]",
      "text/plain": [
       "<Figure size 500x300 with 1 Axes>"
      ]
     },
     "metadata": {},
     "output_type": "display_data"
    }
   ],
   "source": [
    "text = \" \".join(data['제목'])\n",
    "my_cloud_chart(text)"
   ]
  }
 ],
 "metadata": {
  "kernelspec": {
   "display_name": "Python 3 (ipykernel)",
   "language": "python",
   "name": "python3"
  },
  "language_info": {
   "codemirror_mode": {
    "name": "ipython",
    "version": 3
   },
   "file_extension": ".py",
   "mimetype": "text/x-python",
   "name": "python",
   "nbconvert_exporter": "python",
   "pygments_lexer": "ipython3",
   "version": "3.8.8"
  }
 },
 "nbformat": 4,
 "nbformat_minor": 5
}
